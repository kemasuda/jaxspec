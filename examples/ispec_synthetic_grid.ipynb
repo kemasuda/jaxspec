{
 "cells": [
  {
   "cell_type": "code",
   "execution_count": 1,
   "id": "cd9c6b68",
   "metadata": {},
   "outputs": [],
   "source": [
    "from jaxspec.ispec_synthetic_grid import *"
   ]
  },
  {
   "cell_type": "code",
   "execution_count": 8,
   "id": "187920cf",
   "metadata": {},
   "outputs": [],
   "source": [
    "#ranges = define_grid_ranges(tstep=2000, gstep=2, fstep=1.)\n",
    "ranges = define_grid_ranges()"
   ]
  },
  {
   "cell_type": "code",
   "execution_count": 9,
   "id": "963cd80d",
   "metadata": {},
   "outputs": [],
   "source": [
    "#precompute_synthetic_grid(ranges, 1400, 1800, 120000, \"ispecgrid_hband\", \"turbospectrum\", number_of_processes=10)\n",
    "#precompute_synthetic_grid(ranges, 1400, 1800, 120000, \"ispecgrid_hband\", \"synthe\", atmosphere_model='atlas', number_of_processes=10)"
   ]
  },
  {
   "cell_type": "code",
   "execution_count": 10,
   "id": "aff120ed",
   "metadata": {},
   "outputs": [
    {
     "name": "stdout",
     "output_type": "stream",
     "text": [
      "# step wave (AA): 0.012500156252031047\n",
      "# resolution: 439994.49999725807\n",
      "# atmosphere model: marcs\n",
      "[started] 3500 3.0 -1.0 0.03500    [started]1.78  0.03.00.0-1.0  0.00.4  [started]01.78\n",
      "  0.03500 0.0  3.00.0  -0.750\n",
      " 0.0 1.79 [started]0.0  0.0 35000.0  03.0\n",
      " [started]-0.75  3500 0.43.0  -0.5 1.790.0  1.8 0.00.0 [started]0.0   0.00.03500   00.03.0\n",
      "  0-0.5[started]\n",
      " 0.4  35001.8  3.00.0  0.0-0.25  0.00.0  01.81\n",
      " 0.0 0.0 [started]0.0 0\n",
      " 3500 [started]3.03.0  3500 -0.25  0.0 0.00.4"
     ]
    },
    {
     "name": "stderr",
     "output_type": "stream",
     "text": [
      "INFO:root:Spherical model atmosphere with radius 3.65e+11 cm\n"
     ]
    },
    {
     "name": "stdout",
     "output_type": "stream",
     "text": [
      " 1.82"
     ]
    },
    {
     "name": "stderr",
     "output_type": "stream",
     "text": [
      "[2023-11-10 13:40:31,992] [INFO] [turbospectrum:generate_spectrum:88]: Spherical model atmosphere with radius 3.65e+11 cm\n"
     ]
    },
    {
     "name": "stdout",
     "output_type": "stream",
     "text": [
      "  0.0 0.01.81 [started]0.0   0.003500\n",
      "  3.00.0"
     ]
    },
    {
     "name": "stderr",
     "output_type": "stream",
     "text": [
      "INFO:root:Spherical model atmosphere with radius 3.65e+11 cm\n"
     ]
    },
    {
     "name": "stdout",
     "output_type": "stream",
     "text": [
      " 0.0"
     ]
    },
    {
     "name": "stderr",
     "output_type": "stream",
     "text": [
      "[2023-11-10 13:40:32,001] [INFO] [turbospectrum:generate_spectrum:88]: Spherical model atmosphere with radius 3.65e+11 cm\n"
     ]
    },
    {
     "name": "stdout",
     "output_type": "stream",
     "text": [
      "  0.40.0 1.82  0.0 0\n",
      "0.0 0.0 0\n"
     ]
    },
    {
     "name": "stderr",
     "output_type": "stream",
     "text": [
      "INFO:root:Spherical model atmosphere with radius 3.65e+11 cm\n",
      "[2023-11-10 13:40:32,015] [INFO] [turbospectrum:generate_spectrum:88]: Spherical model atmosphere with radius 3.65e+11 cm\n",
      "INFO:root:Spherical model atmosphere with radius 3.65e+11 cm\n",
      "[2023-11-10 13:40:32,034] [INFO] [turbospectrum:generate_spectrum:88]: Spherical model atmosphere with radius 3.65e+11 cm\n",
      "INFO:root:Spherical model atmosphere with radius 3.65e+11 cm\n",
      "[2023-11-10 13:40:32,040] [INFO] [turbospectrum:generate_spectrum:88]: Spherical model atmosphere with radius 3.65e+11 cm\n",
      "INFO:root:Spherical model atmosphere with radius 3.65e+11 cm\n",
      "[2023-11-10 13:40:32,058] [INFO] [turbospectrum:generate_spectrum:88]: Spherical model atmosphere with radius 3.65e+11 cm\n",
      "INFO:root:Spherical model atmosphere with radius 3.65e+11 cm\n",
      "[2023-11-10 13:40:32,072] [INFO] [turbospectrum:generate_spectrum:88]: Spherical model atmosphere with radius 3.65e+11 cm\n",
      "INFO:root:Spherical model atmosphere with radius 3.65e+11 cm\n",
      "[2023-11-10 13:40:32,095] [INFO] [turbospectrum:generate_spectrum:88]: Spherical model atmosphere with radius 3.65e+11 cm\n",
      "INFO:root:Spherical model atmosphere with radius 3.65e+11 cm\n",
      "[2023-11-10 13:40:32,103] [INFO] [turbospectrum:generate_spectrum:88]: Spherical model atmosphere with radius 3.65e+11 cm\n",
      "INFO:root:Spherical model atmosphere with radius 3.65e+11 cm\n",
      "[2023-11-10 13:40:32,110] [INFO] [turbospectrum:generate_spectrum:88]: Spherical model atmosphere with radius 3.65e+11 cm\n"
     ]
    },
    {
     "name": "stdout",
     "output_type": "stream",
     "text": [
      "[finished] 3500 3.0 0.0 0.0 1.82 0.0 0.0 0.0 0\n",
      "[started] 3500 3.0 0.25 0.0 1.84 0.0 0.0 0.0 0\n"
     ]
    },
    {
     "name": "stderr",
     "output_type": "stream",
     "text": [
      "INFO:root:Spherical model atmosphere with radius 3.65e+11 cm\n",
      "[2023-11-10 13:41:24,551] [INFO] [turbospectrum:generate_spectrum:88]: Spherical model atmosphere with radius 3.65e+11 cm\n"
     ]
    },
    {
     "name": "stdout",
     "output_type": "stream",
     "text": [
      "[finished] 3500 3.0 0.0 0.4 1.82 0.0 0.0 0.0 0\n",
      "[started] 3500 3.0 0.25 0.4 1.84 0.0 0.0 0.0 0\n"
     ]
    },
    {
     "name": "stderr",
     "output_type": "stream",
     "text": [
      "INFO:root:Spherical model atmosphere with radius 3.65e+11 cm\n",
      "[2023-11-10 13:41:24,852] [INFO] [turbospectrum:generate_spectrum:88]: Spherical model atmosphere with radius 3.65e+11 cm\n"
     ]
    },
    {
     "name": "stdout",
     "output_type": "stream",
     "text": [
      "[finished] 3500 3.0 -0.25 0.4 1.81 0.0 0.0 0.0 0\n",
      "[started] 3500 3.0 0.5 0.0 1.85 0.0 0.0 0.0 0\n",
      "[finished] 3500 3.0 -0.25 0.0 1.81 0.0 0.0 0.0 0\n",
      "[started] 3500 3.0 0.5 0.4 1.85 0.0 0.0 0.0 0\n"
     ]
    },
    {
     "name": "stderr",
     "output_type": "stream",
     "text": [
      "INFO:root:Spherical model atmosphere with radius 3.65e+11 cm\n",
      "[2023-11-10 13:41:25,570] [INFO] [turbospectrum:generate_spectrum:88]: Spherical model atmosphere with radius 3.65e+11 cm\n",
      "INFO:root:Spherical model atmosphere with radius 3.65e+11 cm\n",
      "[2023-11-10 13:41:25,641] [INFO] [turbospectrum:generate_spectrum:88]: Spherical model atmosphere with radius 3.65e+11 cm\n"
     ]
    },
    {
     "name": "stdout",
     "output_type": "stream",
     "text": [
      "[finished] 3500 3.0 -1.0 0.4 1.78 0.0 0.0 0.0 0\n",
      "[started] 3500 3.5 -1.0 0.0 0.99 0.0 0.0 0.0 0\n",
      "[finished] 3500 3.0 -0.5 0.4 1.8 0.0 0.0 0.0 0\n",
      "[started] 3500 3.5 -1.0 0.4 0.99 0.0 0.0 0.0 0\n"
     ]
    },
    {
     "name": "stderr",
     "output_type": "stream",
     "text": [
      "INFO:root:Spherical model atmosphere with radius 2.05e+11 cm\n",
      "[2023-11-10 13:41:25,820] [INFO] [turbospectrum:generate_spectrum:88]: Spherical model atmosphere with radius 2.05e+11 cm\n",
      "INFO:root:Spherical model atmosphere with radius 2.05e+11 cm\n",
      "[2023-11-10 13:41:25,890] [INFO] [turbospectrum:generate_spectrum:88]: Spherical model atmosphere with radius 2.05e+11 cm\n"
     ]
    },
    {
     "name": "stdout",
     "output_type": "stream",
     "text": [
      "[finished] 3500 3.0 -0.75 0.4 1.79 0.0 0.0 0.0 0\n",
      "[started] 3500 3.5 -0.75 0.0 1.0 0.0 0.0 0.0 0\n",
      "[finished] 3500 3.0 -0.5 0.0 1.8 0.0 0.0 0.0 0\n",
      "[started] [finished]3500  35003.5  3.0-0.75  0.4-0.75 1.0 0.0 0.0 0.0 1.79  0.0 0.0 00 \n",
      "0.0 0.0\n",
      "[started] 3500 3.5 -0.5 0.0 1.01 0.0 "
     ]
    },
    {
     "name": "stderr",
     "output_type": "stream",
     "text": [
      "INFO:root:Spherical model atmosphere with radius 2.05e+11 cm\n"
     ]
    },
    {
     "name": "stdout",
     "output_type": "stream",
     "text": [
      "0.0"
     ]
    },
    {
     "name": "stderr",
     "output_type": "stream",
     "text": [
      "[2023-11-10 13:41:26,040] [INFO] [turbospectrum:generate_spectrum:88]: Spherical model atmosphere with radius 2.05e+11 cm\n"
     ]
    },
    {
     "name": "stdout",
     "output_type": "stream",
     "text": [
      " 0.0 0\n",
      "[finished] 3500 3.0 -1.0 0.0 "
     ]
    },
    {
     "name": "stderr",
     "output_type": "stream",
     "text": [
      "INFO:root:Spherical model atmosphere with radius 2.05e+11 cm\n"
     ]
    },
    {
     "name": "stdout",
     "output_type": "stream",
     "text": [
      "1.78 "
     ]
    },
    {
     "name": "stderr",
     "output_type": "stream",
     "text": [
      "[2023-11-10 13:41:26,087] [INFO] [turbospectrum:generate_spectrum:88]: Spherical model atmosphere with radius 2.05e+11 cm\n"
     ]
    },
    {
     "name": "stdout",
     "output_type": "stream",
     "text": [
      "0.0 0.0 0.0 0\n",
      "[started] 3500 3.5 -0.5 0.4 1.01 0.0 0.0 0.0 0\n"
     ]
    },
    {
     "name": "stderr",
     "output_type": "stream",
     "text": [
      "INFO:root:Spherical model atmosphere with radius 2.05e+11 cm\n",
      "[2023-11-10 13:41:26,128] [INFO] [turbospectrum:generate_spectrum:88]: Spherical model atmosphere with radius 2.05e+11 cm\n",
      "INFO:root:Spherical model atmosphere with radius 2.05e+11 cm\n",
      "[2023-11-10 13:41:26,217] [INFO] [turbospectrum:generate_spectrum:88]: Spherical model atmosphere with radius 2.05e+11 cm\n"
     ]
    },
    {
     "name": "stdout",
     "output_type": "stream",
     "text": [
      "[finished] 3500 3.0 0.25 0.0 1.84 0.0 0.0 0.0 0\n",
      "[started] 3500 3.5 -0.25 0.0 1.02 0.0 0.0 0.0 0\n",
      "[finished] 3500 3.0 0.25 0.4 1.84 0.0 0.0 0.0 0\n",
      "[started] 3500 3.5 -0.25 0.4 1.02 0.0 0.0 0.0 0\n"
     ]
    },
    {
     "name": "stderr",
     "output_type": "stream",
     "text": [
      "INFO:root:Spherical model atmosphere with radius 2.05e+11 cm\n",
      "[2023-11-10 13:42:16,386] [INFO] [turbospectrum:generate_spectrum:88]: Spherical model atmosphere with radius 2.05e+11 cm\n",
      "INFO:root:Spherical model atmosphere with radius 2.05e+11 cm\n",
      "[2023-11-10 13:42:16,457] [INFO] [turbospectrum:generate_spectrum:88]: Spherical model atmosphere with radius 2.05e+11 cm\n"
     ]
    },
    {
     "name": "stdout",
     "output_type": "stream",
     "text": [
      "[finished] 3500 3.0 0.5 0.4 1.85 0.0 0.0 0.0 0\n",
      "[started] 3500 3.5 0.0 0.0 1.03 0.0 0.0 0.0 0\n",
      "[finished] 3500 3.0 0.5 0.0 1.85 0.0 0.0 0.0 0\n",
      "[started] 3500 3.5 0.0 0.4 1.03 0.0 0.0 0.0 0\n"
     ]
    },
    {
     "name": "stderr",
     "output_type": "stream",
     "text": [
      "INFO:root:Spherical model atmosphere with radius 2.05e+11 cm\n",
      "[2023-11-10 13:42:17,081] [INFO] [turbospectrum:generate_spectrum:88]: Spherical model atmosphere with radius 2.05e+11 cm\n",
      "INFO:root:Spherical model atmosphere with radius 2.05e+11 cm\n",
      "[2023-11-10 13:42:17,135] [INFO] [turbospectrum:generate_spectrum:88]: Spherical model atmosphere with radius 2.05e+11 cm\n"
     ]
    },
    {
     "name": "stdout",
     "output_type": "stream",
     "text": [
      "[finished] 3500 3.5 -0.5 0.4 1.01 0.0 0.0 0.0 0\n",
      "[finished] 3500 3.5 [started]-0.5  3500 0.03.5  1.010.25  0.00.0  0.01.04 0.0  0.00.0  0.00 \n",
      "0\n",
      "[started] 3500 3.5 0.25 0.4 1.04 0.0 0.0 0.0 0\n"
     ]
    },
    {
     "name": "stderr",
     "output_type": "stream",
     "text": [
      "INFO:root:Spherical model atmosphere with radius 2.05e+11 cm\n",
      "[2023-11-10 13:42:18,612] [INFO] [turbospectrum:generate_spectrum:88]: Spherical model atmosphere with radius 2.05e+11 cm\n",
      "INFO:root:Spherical model atmosphere with radius 2.05e+11 cm\n",
      "[2023-11-10 13:42:18,640] [INFO] [turbospectrum:generate_spectrum:88]: Spherical model atmosphere with radius 2.05e+11 cm\n"
     ]
    },
    {
     "name": "stdout",
     "output_type": "stream",
     "text": [
      "[finished] 3500 3.5 -0.75 0.4 1.0 0.0 0.0 0.0 0\n",
      "[started] 3500 3.5 0.5 0.0 1.06 0.0 0.0 0.0 0\n"
     ]
    },
    {
     "name": "stderr",
     "output_type": "stream",
     "text": [
      "INFO:root:Spherical model atmosphere with radius 2.05e+11 cm\n",
      "[2023-11-10 13:42:19,221] [INFO] [turbospectrum:generate_spectrum:88]: Spherical model atmosphere with radius 2.05e+11 cm\n"
     ]
    },
    {
     "name": "stdout",
     "output_type": "stream",
     "text": [
      "[finished] 3500 3.5 -0.75 0.0 1.0 0.0 0.0 0.0 0\n",
      "[started] 3500 3.5 0.5 0.4 1.06 0.0 0.0 0.0 0\n",
      "[finished] 3500 3.5 -1.0 0.4 0.99 0.0 0.0 0.0 0\n",
      "[started] 3500 4.0 -1.0 0.0 0.92 0.0 0.0 0.0 0\n"
     ]
    },
    {
     "name": "stderr",
     "output_type": "stream",
     "text": [
      "INFO:root:Spherical model atmosphere with radius 2.05e+11 cm\n",
      "[2023-11-10 13:42:19,772] [INFO] [turbospectrum:generate_spectrum:88]: Spherical model atmosphere with radius 2.05e+11 cm\n"
     ]
    },
    {
     "name": "stdout",
     "output_type": "stream",
     "text": [
      "[finished] 3500 3.5 -1.0 0.0 0.99 0.0 0.0 0.0 0\n",
      "[started] 3500 4.0 -1.0 0.4 0.92 0.0 0.0 0.0 0\n",
      "[finished] 3500 4.0 -1.0 0.4 0.92 0.0 0.0 0.0 0\n",
      "[started] 3500 4.0 -0.75 0.0 0.93 0.0 0.0 0.0 0\n",
      "[finished] 3500 4.0 -1.0 0.0 0.92 0.0 0.0 0.0 0\n",
      "[started] 3500 4.0 -0.75 0.4 0.93 0.0 0.0 0.0 0\n",
      "[finished] 3500 3.5 0.0 0.4 1.03 0.0 0.0 0.0 0\n",
      "[started] 3500 4.0 -0.5 0.0 0.94 0.0 0.0 0.0 0\n",
      "[finished] 3500 3.5 -0.25 0.4 1.02 0.0 0.0 0.0 0\n",
      "[finished] 3500 3.5 0.0 [started]0.0  3500 1.034.0  -0.50.0  0.00.4  0.940.0 0.0  0.00 \n",
      "0.0 0\n",
      "[started] 3500 4.0 -0.25 0.0 0.95 0.0 0.0 0.0 0\n",
      "[finished] 3500 3.5 -0.25 0.0 1.02 0.0 0.0 0.0 0\n",
      "[started] 3500 4.0 -0.25 0.4 0.95 0.0 0.0 0.0 0\n",
      "[finished] 3500 3.5 0.25 0.4 1.04 0.0 0.0 0.0 0\n",
      "[started] 3500 4.0 0.0 0.0 0.96 0.0 0.0 0.0 0\n",
      "[finished] 3500 3.5 0.25 0.0 1.04 0.0 0.0 0.0 0\n",
      "[started] 3500 4.0 0.0 0.4 0.96 0.0 0.0 0.0 0\n",
      "[finished] 3500 3.5 0.5 0.0 1.06 0.0 0.0 0.0 0\n",
      "[started] 3500 4.0 0.25 0.0 0.98 0.0 0.0 0.0 0\n",
      "[finished] 3500 3.5 0.5 0.4 1.06 0.0 0.0 0.0 0\n",
      "[started] 3500 4.0 0.25 0.4 0.98 0.0 0.0 0.0 0\n",
      "[finished] 3500 4.0 -0.75 0.0 0.93 0.0 0.0 0.0 0\n",
      "[started] 3500 4.0 0.5 0.0 0.99 0.0 0.0 0.0 0\n",
      "[finished] 3500 4.0 -0.75 0.4 0.93 0.0 0.0 0.0 0\n",
      "[started] 3500 4.0 0.5 0.4 0.99 0.0 0.0 0.0 0\n",
      "[finished] 3500 4.0 -0.25 0.0 0.95 0.0 0.0 0.0 0\n",
      "[started] 3500 4.5 -1.0 0.0 0.85 0.0 0.0 0.0 0\n",
      "[finished] 3500 4.0 -0.5 0.0 0.94 0.0 0.0 0.0 0\n",
      "[started] 3500 4.5 -1.0 0.4 0.85 0.0 0.0 0.0 0\n",
      "[finished] 3500 4.0 -0.25 0.4 0.95 0.0 0.0 0.0 0\n",
      "[started] 3500 4.5 -0.75 0.0 0.86 0.0 0.0 0.0 0\n",
      "[finished] 3500 4.0 -0.5 0.4 0.94 0.0 0.0 0.0 0\n",
      "[started] 3500 4.5 -0.75 0.4 0.86 0.0 0.0 0.0 0\n",
      "[finished] 3500 4.0 0.0 0.0 0.96 0.0 0.0 0.0 0\n",
      "[started] 3500 4.5 -0.5 0.0 0.87 0.0 0.0 0.0 0\n",
      "[finished] 3500 4.0 0.25[finished]  35000.4  0.984.0 0.0 0.0 0.0  0.00.4 0 \n",
      "0.96 0.0 0.0 0.0 0\n",
      "[started] 3500 4.5 -0.5 0.4 0.87 0.0 0.0 0.0 0\n",
      "[started] 3500 4.5 -0.25 0.0 0.88 0.0 0.0 0.0 0\n",
      "[finished] 3500 4.0 0.25 0.0 0.98 0.0 0.0 0.0 0\n",
      "[started] 3500 4.5 -0.25 0.4 0.88 0.0 0.0 0.0 0\n",
      "[finished] 3500 4.0 0.5 0.4 0.99 0.0 0.0 0.0 0\n",
      "[started] 3500 4.5 0.0 0.0 0.89 0.0 0.0 0.0 0\n",
      "[finished] 3500 4.0 0.5 0.0 0.99 0.0 0.0 0.0 0\n",
      "[started] 3500 4.5 0.0 0.4 0.89 0.0 0.0 0.0 0\n",
      "[finished] 3500 4.5 -1.0 0.4 0.85 0.0 0.0 0.0 0\n",
      "[started] 3500 4.5 0.25 0.0 0.9 0.0 0.0 0.0 0\n",
      "[finished] 3500 4.5 -0.75 0.0 0.86 0.0 0.0 0.0 0\n",
      "[started] 3500 4.5 0.25 0.4 0.9 0.0 0.0 0.0 0\n",
      "[finished] 3500 4.5 -0.75 0.4 0.86 0.0 0.0 0.0 0\n",
      "[started] 3500 4.5 0.5 0.0 0.92 0.0 0.0 0.0 0\n",
      "[finished] 3500 4.5 -1.0 0.0 0.85 0.0 0.0 0.0 0\n",
      "[started] 3500 4.5 0.5 0.4 0.92 0.0 0.0 0.0 0\n",
      "[finished] 3500 4.5 -0.5 0.0 0.87 0.0 0.0 0.0 0\n",
      "[started] 3500 5.0 -1.0 0.0 0.78 0.0 0.0 0.0 0\n",
      "[finished] 3500 4.5 -0.5 0.4 0.87 0.0 0.0 0.0 0\n",
      "[started] 3500 5.0 -1.0 0.4 0.78 0.0 0.0 0.0 0\n",
      "[finished] 3500 4.5 -0.25 0.0 0.88 0.0 0.0 0.0 0\n",
      "[started] 3500 5.0 -0.75 0.0 0.79 0.0 0.0 0.0 0\n",
      "[finished] 3500 4.5 -0.25 0.4 0.88 0.0 0.0 0.0 0\n",
      "[started] 3500 5.0 -0.75 0.4 0.79 0.0 0.0 0.0 0\n",
      "[finished] 3500 4.5 0.0 0.4 0.89 0.0 0.0 0.0 0\n",
      "[started] 3500 5.0 -0.5 0.0 0.79 0.0 0.0 0.0 0\n",
      "[finished] 3500 4.5 0.0 0.0 0.89 0.0 0.0 0.0 0\n",
      "[started] 3500 5.0 -0.5 0.4 0.79 0.0 0.0 0.0 0\n",
      "[finished] 3500 4.5 0.25 0.0 0.9 0.0 [finished]0.0  0.0 35000 4.5\n",
      " 0.5 0.4 0.92 0.0 0.0 0.0 0\n",
      "[started] 3500 5.0 -0.25 0.0 0.81 0.0 0.0 0.0 0[started]\n",
      " 3500 5.0 -0.25 0.4 0.81 0.0 0.0 0.0 0\n",
      "[finished] 3500 4.5 0.25 0.4 0.9 0.0 0.0 0.0 0\n",
      "[finished] 3500 0.04.5 0.5  0.92 [started] 35000.0  0.05.0  0.00.0  0.00 \n",
      "0.82 0.0 0.0 0.0 0\n",
      "[started] 3500 5.0 0.0 0.4 0.82 0.0 0.0 0.0 0\n",
      "[finished] 3500 5.0 -0.75 0.4 0.79 0.0 0.0 0.0 0\n",
      "[started] 3500 5.0 0.25 0.0 0.83 0.0 0.0 0.0 0\n",
      "[finished] 3500 5.0 -1.0 0.4 0.78 0.0 0.0 0.0 0\n",
      "[started] 3500 5.0 0.25 0.4 0.83 0.0 0.0 0.0 0\n",
      "[finished] 3500 5.0 -1.0 0.0 0.78 0.0 0.0 0.0 0\n",
      "[started] 3500 5.0 0.5 0.0 0.84 0.0 0.0 0.0 0\n",
      "[finished] 3500 5.0 -0.75 0.0 0.79 0.0 0.0 0.0 0\n",
      "[started] 3500 5.0 0.5 0.4 0.84 0.0 0.0 0.0 0\n",
      "[finished] 3500 5.0 -0.5 0.4 0.79 0.0 0.0 0.0 0\n",
      "[started] 3750 3.0 -1.0 0.0 1.59 0.0 0.0 0.0 0\n"
     ]
    },
    {
     "name": "stderr",
     "output_type": "stream",
     "text": [
      "INFO:root:Spherical model atmosphere with radius 3.65e+11 cm\n",
      "[2023-11-10 13:45:38,560] [INFO] [turbospectrum:generate_spectrum:88]: Spherical model atmosphere with radius 3.65e+11 cm\n"
     ]
    },
    {
     "name": "stdout",
     "output_type": "stream",
     "text": [
      "[finished] 3500 5.0 -0.5 0.0 0.79 0.0 0.0 0.0 0\n",
      "[started] 3750 3.0 -1.0 0.4 1.59 0.0 0.0 0.0 0\n"
     ]
    },
    {
     "name": "stderr",
     "output_type": "stream",
     "text": [
      "INFO:root:Spherical model atmosphere with radius 3.65e+11 cm\n",
      "[2023-11-10 13:45:38,805] [INFO] [turbospectrum:generate_spectrum:88]: Spherical model atmosphere with radius 3.65e+11 cm\n"
     ]
    },
    {
     "name": "stdout",
     "output_type": "stream",
     "text": [
      "[finished] 3500 5.0 -0.25 0.4 0.81 0.0 0.0 0.0 0\n",
      "[started] 3750 3.0 -0.75 0.0 1.6 0.0 0.0 0.0 0\n",
      "[finished] 3500 5.0 0.0 0.4 0.82 0.0 0.0 0.0 0\n",
      "[started] "
     ]
    },
    {
     "name": "stderr",
     "output_type": "stream",
     "text": [
      "INFO:root:Spherical model atmosphere with radius 3.65e+11 cm\n"
     ]
    },
    {
     "name": "stdout",
     "output_type": "stream",
     "text": [
      "3750"
     ]
    },
    {
     "name": "stderr",
     "output_type": "stream",
     "text": [
      "[2023-11-10 13:45:47,104] [INFO] [turbospectrum:generate_spectrum:88]: Spherical model atmosphere with radius 3.65e+11 cm\n"
     ]
    },
    {
     "name": "stdout",
     "output_type": "stream",
     "text": [
      " 3.0 -0.75 0.4 1.6 0.0 0.0 0.0 0\n"
     ]
    },
    {
     "name": "stderr",
     "output_type": "stream",
     "text": [
      "INFO:root:Spherical model atmosphere with radius 3.65e+11 cm\n",
      "[2023-11-10 13:45:47,198] [INFO] [turbospectrum:generate_spectrum:88]: Spherical model atmosphere with radius 3.65e+11 cm\n"
     ]
    },
    {
     "name": "stdout",
     "output_type": "stream",
     "text": [
      "[finished] 3500 5.0 -0.25 0.0 0.81 0.0 0.0 0.0 0\n",
      "[started] 3750 3.0 -0.5 0.0 1.61 0.0 0.0 0.0 0\n"
     ]
    },
    {
     "name": "stderr",
     "output_type": "stream",
     "text": [
      "INFO:root:Spherical model atmosphere with radius 3.65e+11 cm\n",
      "[2023-11-10 13:45:47,483] [INFO] [turbospectrum:generate_spectrum:88]: Spherical model atmosphere with radius 3.65e+11 cm\n"
     ]
    },
    {
     "name": "stdout",
     "output_type": "stream",
     "text": [
      "[finished] 3500 5.0 0.0 0.0 0.82 0.0 0.0 0.0 0\n",
      "[started] 3750 3.0 -0.5 0.4 1.61 0.0 0.0 0.0 0\n"
     ]
    },
    {
     "name": "stderr",
     "output_type": "stream",
     "text": [
      "INFO:root:Spherical model atmosphere with radius 3.65e+11 cm\n",
      "[2023-11-10 13:45:47,671] [INFO] [turbospectrum:generate_spectrum:88]: Spherical model atmosphere with radius 3.65e+11 cm\n"
     ]
    },
    {
     "name": "stdout",
     "output_type": "stream",
     "text": [
      "[finished] 3500 5.0 0.25 0.4 0.83 0.0 0.0 0.0 0\n",
      "[started] 3750 3.0 -0.25 0.0 1.62 0.0 0.0 0.0 0\n"
     ]
    },
    {
     "name": "stderr",
     "output_type": "stream",
     "text": [
      "INFO:root:Spherical model atmosphere with radius 3.65e+11 cm\n",
      "[2023-11-10 13:45:49,185] [INFO] [turbospectrum:generate_spectrum:88]: Spherical model atmosphere with radius 3.65e+11 cm\n"
     ]
    },
    {
     "name": "stdout",
     "output_type": "stream",
     "text": [
      "[finished] 3500 5.0 0.25 0.0 0.83 0.0 0.0 0.0 0\n",
      "[started] 3750 3.0 -0.25 0.4 1.62 0.0 0.0 0.0 0\n"
     ]
    },
    {
     "name": "stderr",
     "output_type": "stream",
     "text": [
      "INFO:root:Spherical model atmosphere with radius 3.65e+11 cm\n",
      "[2023-11-10 13:45:49,370] [INFO] [turbospectrum:generate_spectrum:88]: Spherical model atmosphere with radius 3.65e+11 cm\n"
     ]
    },
    {
     "name": "stdout",
     "output_type": "stream",
     "text": [
      "[finished] 3500 5.0 0.5 0.4 0.84 0.0 0.0 0.0 0\n",
      "[started] 3750 3.0 0.0 0.0 1.63 0.0 0.0 0.0 0\n"
     ]
    },
    {
     "name": "stderr",
     "output_type": "stream",
     "text": [
      "INFO:root:Spherical model atmosphere with radius 3.65e+11 cm\n",
      "[2023-11-10 13:45:49,570] [INFO] [turbospectrum:generate_spectrum:88]: Spherical model atmosphere with radius 3.65e+11 cm\n"
     ]
    },
    {
     "name": "stdout",
     "output_type": "stream",
     "text": [
      "[finished] 3500 5.0 0.5 0.0 0.84 0.0 0.0 0.0 0\n",
      "[started] 3750 3.0 0.0 0.4 1.63 0.0 0.0 0.0 0\n"
     ]
    },
    {
     "name": "stderr",
     "output_type": "stream",
     "text": [
      "INFO:root:Spherical model atmosphere with radius 3.65e+11 cm\n",
      "[2023-11-10 13:45:50,227] [INFO] [turbospectrum:generate_spectrum:88]: Spherical model atmosphere with radius 3.65e+11 cm\n"
     ]
    },
    {
     "name": "stdout",
     "output_type": "stream",
     "text": [
      "[finished] 3750 3.0 -1.0 0.0 1.59 0.0 0.0 0.0 0\n",
      "[started] 3750 3.0 0.25 0.0 1.65 0.0 0.0 0.0 0\n"
     ]
    },
    {
     "name": "stderr",
     "output_type": "stream",
     "text": [
      "INFO:root:Spherical model atmosphere with radius 3.65e+11 cm\n",
      "[2023-11-10 13:46:31,377] [INFO] [turbospectrum:generate_spectrum:88]: Spherical model atmosphere with radius 3.65e+11 cm\n"
     ]
    },
    {
     "name": "stdout",
     "output_type": "stream",
     "text": [
      "[finished] 3750 3.0 -1.0 0.4 1.59 0.0 0.0 0.0 0\n",
      "[started] 3750 3.0 0.25 0.4 1.65 0.0 0.0 0.0 0\n"
     ]
    },
    {
     "name": "stderr",
     "output_type": "stream",
     "text": [
      "INFO:root:Spherical model atmosphere with radius 3.65e+11 cm\n",
      "[2023-11-10 13:46:31,690] [INFO] [turbospectrum:generate_spectrum:88]: Spherical model atmosphere with radius 3.65e+11 cm\n"
     ]
    },
    {
     "name": "stdout",
     "output_type": "stream",
     "text": [
      "[finished] 3750 3.0 -0.5 0.4 1.61 0.0 0.0 0.0 0\n",
      "[started] 3750 3.0 0.5 0.0 1.66 0.0 0.0 0.0 0\n",
      "[finished] 3750 3.0 -0.75 0.4 1.6 0.0 0.0 0.0 0\n",
      "[started] 3750 3.0 0.5 0.4 1.66 0.0 0.0 0.0 0\n",
      "[finished] [finished]3750 3750 3.0  3.00.0 -0.5  0.00.0  1.631.61  0.00.0  0.0 0.00.0  0.00 0\n",
      "\n"
     ]
    },
    {
     "name": "stderr",
     "output_type": "stream",
     "text": [
      "INFO:root:Spherical model atmosphere with radius 3.65e+11 cm\n",
      "[2023-11-10 13:46:39,252] [INFO] [turbospectrum:generate_spectrum:88]: Spherical model atmosphere with radius 3.65e+11 cm\n"
     ]
    },
    {
     "name": "stdout",
     "output_type": "stream",
     "text": [
      "[started] 3750 3.5 -1.0 0.0 0.99 0.0 0.0 0.0 0[started]\n",
      " 3750 3.5 -1.0 0.4 0.99 0.0 0.0 0.0 0\n"
     ]
    },
    {
     "name": "stderr",
     "output_type": "stream",
     "text": [
      "INFO:root:Spherical model atmosphere with radius 3.65e+11 cm\n",
      "[2023-11-10 13:46:39,305] [INFO] [turbospectrum:generate_spectrum:88]: Spherical model atmosphere with radius 3.65e+11 cm\n",
      "INFO:root:Spherical model atmosphere with radius 2.05e+11 cm\n",
      "[2023-11-10 13:46:39,344] [INFO] [turbospectrum:generate_spectrum:88]: Spherical model atmosphere with radius 2.05e+11 cm\n",
      "INFO:root:Spherical model atmosphere with radius 2.05e+11 cm\n",
      "[2023-11-10 13:46:39,373] [INFO] [turbospectrum:generate_spectrum:88]: Spherical model atmosphere with radius 2.05e+11 cm\n"
     ]
    },
    {
     "name": "stdout",
     "output_type": "stream",
     "text": [
      "[finished] 3750 3.0 -0.75 0.0 1.6 0.0 0.0 0.0 0\n",
      "[started] 3750 3.5 -0.75 0.0 1.0 0.0 0.0 0.0 0\n"
     ]
    },
    {
     "name": "stderr",
     "output_type": "stream",
     "text": [
      "INFO:root:Spherical model atmosphere with radius 2.05e+11 cm\n",
      "[2023-11-10 13:46:39,576] [INFO] [turbospectrum:generate_spectrum:88]: Spherical model atmosphere with radius 2.05e+11 cm\n"
     ]
    },
    {
     "name": "stdout",
     "output_type": "stream",
     "text": [
      "[finished] 3750 3.0 0.0 0.4 1.63 0.0 0.0 0.0 0\n",
      "[started] 3750 3.5 -0.75 0.4 1.0 0.0 0.0 0.0 0\n"
     ]
    },
    {
     "name": "stderr",
     "output_type": "stream",
     "text": [
      "INFO:root:Spherical model atmosphere with radius 2.05e+11 cm\n",
      "[2023-11-10 13:46:39,907] [INFO] [turbospectrum:generate_spectrum:88]: Spherical model atmosphere with radius 2.05e+11 cm\n"
     ]
    },
    {
     "name": "stdout",
     "output_type": "stream",
     "text": [
      "[finished] 3750 3.0 -0.25 0.0 1.62 0.0 0.0 0.0 0\n",
      "[started] 3750 3.5 -0.5 0.0 1.01 0.0 0.0 0.0 0\n"
     ]
    },
    {
     "name": "stderr",
     "output_type": "stream",
     "text": [
      "INFO:root:Spherical model atmosphere with radius 2.05e+11 cm\n",
      "[2023-11-10 13:46:40,327] [INFO] [turbospectrum:generate_spectrum:88]: Spherical model atmosphere with radius 2.05e+11 cm\n"
     ]
    },
    {
     "name": "stdout",
     "output_type": "stream",
     "text": [
      "[finished] 3750 3.0 -0.25 0.4 1.62 0.0 0.0 0.0 0\n",
      "[started] 3750 3.5 -0.5 0.4 1.01 0.0 0.0 0.0 0\n"
     ]
    },
    {
     "name": "stderr",
     "output_type": "stream",
     "text": [
      "INFO:root:Spherical model atmosphere with radius 2.05e+11 cm\n",
      "[2023-11-10 13:46:40,463] [INFO] [turbospectrum:generate_spectrum:88]: Spherical model atmosphere with radius 2.05e+11 cm\n"
     ]
    },
    {
     "name": "stdout",
     "output_type": "stream",
     "text": [
      "[finished] 3750 3.0 0.25 0.0 1.65 0.0 0.0 0.0 0\n",
      "[started] 3750 3.5 -0.25 0.0 1.02 0.0 0.0 0.0 0\n"
     ]
    },
    {
     "name": "stderr",
     "output_type": "stream",
     "text": [
      "INFO:root:Spherical model atmosphere with radius 2.05e+11 cm\n",
      "[2023-11-10 13:47:20,868] [INFO] [turbospectrum:generate_spectrum:88]: Spherical model atmosphere with radius 2.05e+11 cm\n"
     ]
    },
    {
     "name": "stdout",
     "output_type": "stream",
     "text": [
      "[finished] 3750 3.0 0.25 0.4 1.65 0.0 0.0 0.0 0\n",
      "[started] 3750 3.5 -0.25 0.4 1.02 0.0 0.0 0.0 0\n"
     ]
    },
    {
     "name": "stderr",
     "output_type": "stream",
     "text": [
      "INFO:root:Spherical model atmosphere with radius 2.05e+11 cm\n",
      "[2023-11-10 13:47:21,430] [INFO] [turbospectrum:generate_spectrum:88]: Spherical model atmosphere with radius 2.05e+11 cm\n"
     ]
    },
    {
     "name": "stdout",
     "output_type": "stream",
     "text": [
      "[finished] 3750 3.0 0.5 0.4 1.66 0.0 0.0 0.0 0\n",
      "[started] 3750 3.5 0.0 0.0 1.03 0.0 0.0 0.0 0\n"
     ]
    },
    {
     "name": "stderr",
     "output_type": "stream",
     "text": [
      "INFO:root:Spherical model atmosphere with radius 2.05e+11 cm\n",
      "[2023-11-10 13:47:28,227] [INFO] [turbospectrum:generate_spectrum:88]: Spherical model atmosphere with radius 2.05e+11 cm\n"
     ]
    },
    {
     "name": "stdout",
     "output_type": "stream",
     "text": [
      "[finished] 3750 3.0 0.5 0.0 1.66 0.0 0.0 0.0 0\n",
      "[started] 3750 3.5 0.0 0.4 1.03 0.0 0.0 0.0 0\n"
     ]
    },
    {
     "name": "stderr",
     "output_type": "stream",
     "text": [
      "INFO:root:Spherical model atmosphere with radius 2.05e+11 cm\n",
      "[2023-11-10 13:47:28,934] [INFO] [turbospectrum:generate_spectrum:88]: Spherical model atmosphere with radius 2.05e+11 cm\n"
     ]
    },
    {
     "name": "stdout",
     "output_type": "stream",
     "text": [
      "[finished] 3750 3.5 -0.5 0.0 1.01 0.0 0.0 0.0 0\n",
      "[started] 3750 3.5 0.25 0.0 1.04 0.0 0.0 0.0 0\n"
     ]
    },
    {
     "name": "stderr",
     "output_type": "stream",
     "text": [
      "INFO:root:Spherical model atmosphere with radius 2.05e+11 cm\n",
      "[2023-11-10 13:47:31,101] [INFO] [turbospectrum:generate_spectrum:88]: Spherical model atmosphere with radius 2.05e+11 cm\n"
     ]
    },
    {
     "name": "stdout",
     "output_type": "stream",
     "text": [
      "[finished] 3750 3.5 -0.75 0.4 1.0 0.0 0.0 0.0 0\n",
      "[started] 3750 3.5 0.25 0.4 1.04 0.0 0.0 0.0 0\n"
     ]
    },
    {
     "name": "stderr",
     "output_type": "stream",
     "text": [
      "INFO:root:Spherical model atmosphere with radius 2.05e+11 cm\n",
      "[2023-11-10 13:47:31,252] [INFO] [turbospectrum:generate_spectrum:88]: Spherical model atmosphere with radius 2.05e+11 cm\n"
     ]
    },
    {
     "name": "stdout",
     "output_type": "stream",
     "text": [
      "[finished] 3750 3.5 -1.0 0.4 0.99 0.0 0.0 0.0 0\n",
      "[started] 3750 3.5 0.5 0.0 1.06 0.0 0.0 0.0 0\n"
     ]
    },
    {
     "name": "stderr",
     "output_type": "stream",
     "text": [
      "INFO:root:Spherical model atmosphere with radius 2.05e+11 cm\n",
      "[2023-11-10 13:47:31,780] [INFO] [turbospectrum:generate_spectrum:88]: Spherical model atmosphere with radius 2.05e+11 cm\n"
     ]
    },
    {
     "name": "stdout",
     "output_type": "stream",
     "text": [
      "[finished] 3750 3.5 -0.75 0.0 1.0 0.0 0.0 0.0 0\n",
      "[started] 3750 3.5 0.5 0.4 1.06 0.0 0.0 0.0 0\n"
     ]
    },
    {
     "name": "stderr",
     "output_type": "stream",
     "text": [
      "INFO:root:Spherical model atmosphere with radius 2.05e+11 cm\n",
      "[2023-11-10 13:47:31,916] [INFO] [turbospectrum:generate_spectrum:88]: Spherical model atmosphere with radius 2.05e+11 cm\n"
     ]
    },
    {
     "name": "stdout",
     "output_type": "stream",
     "text": [
      "[finished] 3750 3.5 -1.0 0.0 0.99 0.0 0.0 0.0 0\n",
      "[started] 3750 4.0 -1.0 0.0 0.92 0.0 0.0 0.0 0\n",
      "[finished] 3750 3.5 -0.5 0.4 1.01 0.0 0.0 0.0 0\n",
      "[started] 3750 4.0 -1.0 0.4 0.92 0.0 0.0 0.0 0\n",
      "[finished] 3750 3.5 -0.25 0.4[finished]  1.023750  3.5 0.0-0.25  0.00.0  1.020.0  0.00 0.0\n",
      " 0.0 0\n",
      "[finished] 3750 4.0 -1.0[started]  0.03750  4.0 0.92-0.75  0.00.0 0.93  0.00.0  0.00.0  0.00[started] \n",
      " 03750 \n",
      "4.0 -0.75 0.4 0.93 0.0 0.0 0.0 0\n",
      "[started] 3750 4.0 -0.5 0.0 0.94 0.0 0.0 0.0 0\n",
      "[finished] 3750 4.0 -1.0 0.4 0.92 0.0 0.0 0.0 0\n",
      "[started] 3750 4.0 -0.5 0.4 0.94 0.0 0.0 0.0 0\n",
      "[finished] 3750 3.5 0.0 0.0 1.03 0.0 0.0 0.0 0\n",
      "[started] 3750 4.0 -0.25 0.0 0.95 0.0 0.0 0.0 0\n",
      "[finished] 3750 3.5 0.0 0.4 1.03 0.0 0.0 0.0 0\n",
      "[started] 3750 4.0 -0.25 0.4 0.95 0.0 0.0 0.0 0\n",
      "[finished] 3750 3.5 0.25 0.0 1.04 0.0 0.0 0.0 0\n",
      "[started] 3750 4.0 0.0 0.0 0.96 0.0 0.0 0.0 0\n",
      "[finished] 3750 3.5 0.5 0.0 1.06 0.0 0.0 0.0 0\n",
      "[started] 3750 4.0 0.0 0.4 0.96 0.0 0.0 0.0 0\n",
      "[finished] 3750 3.5 0.25 0.4 1.04 0.0 0.0 0.0 0\n",
      "[started] 3750 4.0 0.25 0.0 0.98 0.0 0.0 0.0 0\n",
      "[finished] 3750 3.5 0.5 0.4 1.06 0.0 0.0 0.0 0\n",
      "[started] 3750 4.0 0.25 0.4 0.98 0.0 0.0 0.0 0\n"
     ]
    }
   ],
   "source": [
    "precompute_synthetic_grid(ranges, 500, 600, 80000, \"ispecgrid_gaoes\", \"turbospectrum\", number_of_processes=10)"
   ]
  },
  {
   "cell_type": "code",
   "execution_count": null,
   "id": "0501284f",
   "metadata": {},
   "outputs": [],
   "source": []
  }
 ],
 "metadata": {
  "kernelspec": {
   "display_name": "Python 3.9.7 ('base')",
   "language": "python",
   "name": "python3"
  },
  "language_info": {
   "codemirror_mode": {
    "name": "ipython",
    "version": 3
   },
   "file_extension": ".py",
   "mimetype": "text/x-python",
   "name": "python",
   "nbconvert_exporter": "python",
   "pygments_lexer": "ipython3",
   "version": "3.9.7"
  },
  "vscode": {
   "interpreter": {
    "hash": "359f24a9ef4d34d046c5442a240ac5cfc1e9dc848576e551c8feed79c29f3bc0"
   }
  }
 },
 "nbformat": 4,
 "nbformat_minor": 5
}
