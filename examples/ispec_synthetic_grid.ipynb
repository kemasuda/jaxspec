{
 "cells": [
  {
   "cell_type": "code",
   "execution_count": 1,
   "id": "cd9c6b68",
   "metadata": {},
   "outputs": [],
   "source": [
    "from jaxspec.ispec_synthetic_grid import *"
   ]
  },
  {
   "cell_type": "code",
   "execution_count": 8,
   "id": "187920cf",
   "metadata": {},
   "outputs": [],
   "source": [
    "#ranges = define_grid_ranges(tstep=2000, gstep=2, fstep=1.)\n",
    "ranges = define_grid_ranges()"
   ]
  },
  {
   "cell_type": "code",
   "execution_count": 9,
   "id": "963cd80d",
   "metadata": {},
   "outputs": [],
   "source": [
    "#precompute_synthetic_grid(ranges, 1400, 1800, 120000, \"ispecgrid_hband\", \"turbospectrum\", number_of_processes=10)\n",
    "#precompute_synthetic_grid(ranges, 1400, 1800, 120000, \"ispecgrid_hband\", \"synthe\", atmosphere_model='atlas', number_of_processes=10)"
   ]
  },
  {
   "cell_type": "code",
   "execution_count": 10,
   "id": "aff120ed",
   "metadata": {},
   "outputs": [
    {
     "name": "stdout",
     "output_type": "stream",
     "text": [
      "# step wave (AA): 0.012500156252031047\n",
      "# resolution: 439994.49999725807\n",
      "# atmosphere model: marcs\n",
      "[started] 3500 3.0 -1.0 0.03500    [started]1.78  0.03.00.0-1.0  0.00.4  [started]01.78\n",
      "  0.03500 0.0  3.00.0  -0.750\n",
      " 0.0 1.79 [started]0.0  0.0 35000.0  03.0\n",
      " [started]-0.75  3500 0.43.0  -0.5 1.790.0  1.8 0.00.0 [started]0.0   0.00.03500   00.03.0\n",
      "  0-0.5[started]\n",
      " 0.4  35001.8  3.00.0  0.0-0.25  0.00.0  01.81\n",
      " 0.0 0.0 [started]0.0 0\n",
      " 3500 [started]3.03.0  3500 -0.25  0.0 0.00.4"
     ]
    },
    {
     "name": "stderr",
     "output_type": "stream",
     "text": [
      "INFO:root:Spherical model atmosphere with radius 3.65e+11 cm\n"
     ]
    },
    {
     "name": "stdout",
     "output_type": "stream",
     "text": [
      " 1.82"
     ]
    },
    {
     "name": "stderr",
     "output_type": "stream",
     "text": [
      "[2023-11-10 13:40:31,992] [INFO] [turbospectrum:generate_spectrum:88]: Spherical model atmosphere with radius 3.65e+11 cm\n"
     ]
    },
    {
     "name": "stdout",
     "output_type": "stream",
     "text": [
      "  0.0 0.01.81 [started]0.0   0.003500\n",
      "  3.00.0"
     ]
    },
    {
     "name": "stderr",
     "output_type": "stream",
     "text": [
      "INFO:root:Spherical model atmosphere with radius 3.65e+11 cm\n"
     ]
    },
    {
     "name": "stdout",
     "output_type": "stream",
     "text": [
      " 0.0"
     ]
    },
    {
     "name": "stderr",
     "output_type": "stream",
     "text": [
      "[2023-11-10 13:40:32,001] [INFO] [turbospectrum:generate_spectrum:88]: Spherical model atmosphere with radius 3.65e+11 cm\n"
     ]
    },
    {
     "name": "stdout",
     "output_type": "stream",
     "text": [
      "  0.40.0 1.82  0.0 0\n",
      "0.0 0.0 0\n"
     ]
    },
    {
     "name": "stderr",
     "output_type": "stream",
     "text": [
      "INFO:root:Spherical model atmosphere with radius 3.65e+11 cm\n",
      "[2023-11-10 13:40:32,015] [INFO] [turbospectrum:generate_spectrum:88]: Spherical model atmosphere with radius 3.65e+11 cm\n",
      "INFO:root:Spherical model atmosphere with radius 3.65e+11 cm\n",
      "[2023-11-10 13:40:32,034] [INFO] [turbospectrum:generate_spectrum:88]: Spherical model atmosphere with radius 3.65e+11 cm\n",
      "INFO:root:Spherical model atmosphere with radius 3.65e+11 cm\n",
      "[2023-11-10 13:40:32,040] [INFO] [turbospectrum:generate_spectrum:88]: Spherical model atmosphere with radius 3.65e+11 cm\n",
      "INFO:root:Spherical model atmosphere with radius 3.65e+11 cm\n",
      "[2023-11-10 13:40:32,058] [INFO] [turbospectrum:generate_spectrum:88]: Spherical model atmosphere with radius 3.65e+11 cm\n",
      "INFO:root:Spherical model atmosphere with radius 3.65e+11 cm\n",
      "[2023-11-10 13:40:32,072] [INFO] [turbospectrum:generate_spectrum:88]: Spherical model atmosphere with radius 3.65e+11 cm\n",
      "INFO:root:Spherical model atmosphere with radius 3.65e+11 cm\n",
      "[2023-11-10 13:40:32,095] [INFO] [turbospectrum:generate_spectrum:88]: Spherical model atmosphere with radius 3.65e+11 cm\n",
      "INFO:root:Spherical model atmosphere with radius 3.65e+11 cm\n",
      "[2023-11-10 13:40:32,103] [INFO] [turbospectrum:generate_spectrum:88]: Spherical model atmosphere with radius 3.65e+11 cm\n",
      "INFO:root:Spherical model atmosphere with radius 3.65e+11 cm\n",
      "[2023-11-10 13:40:32,110] [INFO] [turbospectrum:generate_spectrum:88]: Spherical model atmosphere with radius 3.65e+11 cm\n"
     ]
    },
    {
     "name": "stdout",
     "output_type": "stream",
     "text": [
      "[finished] 3500 3.0 0.0 0.0 1.82 0.0 0.0 0.0 0\n",
      "[started] 3500 3.0 0.25 0.0 1.84 0.0 0.0 0.0 0\n"
     ]
    },
    {
     "name": "stderr",
     "output_type": "stream",
     "text": [
      "INFO:root:Spherical model atmosphere with radius 3.65e+11 cm\n",
      "[2023-11-10 13:41:24,551] [INFO] [turbospectrum:generate_spectrum:88]: Spherical model atmosphere with radius 3.65e+11 cm\n"
     ]
    },
    {
     "name": "stdout",
     "output_type": "stream",
     "text": [
      "[finished] 3500 3.0 0.0 0.4 1.82 0.0 0.0 0.0 0\n",
      "[started] 3500 3.0 0.25 0.4 1.84 0.0 0.0 0.0 0\n"
     ]
    },
    {
     "name": "stderr",
     "output_type": "stream",
     "text": [
      "INFO:root:Spherical model atmosphere with radius 3.65e+11 cm\n",
      "[2023-11-10 13:41:24,852] [INFO] [turbospectrum:generate_spectrum:88]: Spherical model atmosphere with radius 3.65e+11 cm\n"
     ]
    },
    {
     "name": "stdout",
     "output_type": "stream",
     "text": [
      "[finished] 3500 3.0 -0.25 0.4 1.81 0.0 0.0 0.0 0\n",
      "[started] 3500 3.0 0.5 0.0 1.85 0.0 0.0 0.0 0\n",
      "[finished] 3500 3.0 -0.25 0.0 1.81 0.0 0.0 0.0 0\n",
      "[started] 3500 3.0 0.5 0.4 1.85 0.0 0.0 0.0 0\n"
     ]
    },
    {
     "name": "stderr",
     "output_type": "stream",
     "text": [
      "INFO:root:Spherical model atmosphere with radius 3.65e+11 cm\n",
      "[2023-11-10 13:41:25,570] [INFO] [turbospectrum:generate_spectrum:88]: Spherical model atmosphere with radius 3.65e+11 cm\n",
      "INFO:root:Spherical model atmosphere with radius 3.65e+11 cm\n",
      "[2023-11-10 13:41:25,641] [INFO] [turbospectrum:generate_spectrum:88]: Spherical model atmosphere with radius 3.65e+11 cm\n"
     ]
    },
    {
     "name": "stdout",
     "output_type": "stream",
     "text": [
      "[finished] 3500 3.0 -1.0 0.4 1.78 0.0 0.0 0.0 0\n",
      "[started] 3500 3.5 -1.0 0.0 0.99 0.0 0.0 0.0 0\n",
      "[finished] 3500 3.0 -0.5 0.4 1.8 0.0 0.0 0.0 0\n",
      "[started] 3500 3.5 -1.0 0.4 0.99 0.0 0.0 0.0 0\n"
     ]
    },
    {
     "name": "stderr",
     "output_type": "stream",
     "text": [
      "INFO:root:Spherical model atmosphere with radius 2.05e+11 cm\n",
      "[2023-11-10 13:41:25,820] [INFO] [turbospectrum:generate_spectrum:88]: Spherical model atmosphere with radius 2.05e+11 cm\n",
      "INFO:root:Spherical model atmosphere with radius 2.05e+11 cm\n",
      "[2023-11-10 13:41:25,890] [INFO] [turbospectrum:generate_spectrum:88]: Spherical model atmosphere with radius 2.05e+11 cm\n"
     ]
    },
    {
     "name": "stdout",
     "output_type": "stream",
     "text": [
      "[finished] 3500 3.0 -0.75 0.4 1.79 0.0 0.0 0.0 0\n",
      "[started] 3500 3.5 -0.75 0.0 1.0 0.0 0.0 0.0 0\n",
      "[finished] 3500 3.0 -0.5 0.0 1.8 0.0 0.0 0.0 0\n",
      "[started] [finished]3500  35003.5  3.0-0.75  0.4-0.75 1.0 0.0 0.0 0.0 1.79  0.0 0.0 00 \n",
      "0.0 0.0\n",
      "[started] 3500 3.5 -0.5 0.0 1.01 0.0 "
     ]
    },
    {
     "name": "stderr",
     "output_type": "stream",
     "text": [
      "INFO:root:Spherical model atmosphere with radius 2.05e+11 cm\n"
     ]
    },
    {
     "name": "stdout",
     "output_type": "stream",
     "text": [
      "0.0"
     ]
    },
    {
     "name": "stderr",
     "output_type": "stream",
     "text": [
      "[2023-11-10 13:41:26,040] [INFO] [turbospectrum:generate_spectrum:88]: Spherical model atmosphere with radius 2.05e+11 cm\n"
     ]
    },
    {
     "name": "stdout",
     "output_type": "stream",
     "text": [
      " 0.0 0\n",
      "[finished] 3500 3.0 -1.0 0.0 "
     ]
    },
    {
     "name": "stderr",
     "output_type": "stream",
     "text": [
      "INFO:root:Spherical model atmosphere with radius 2.05e+11 cm\n"
     ]
    },
    {
     "name": "stdout",
     "output_type": "stream",
     "text": [
      "1.78 "
     ]
    },
    {
     "name": "stderr",
     "output_type": "stream",
     "text": [
      "[2023-11-10 13:41:26,087] [INFO] [turbospectrum:generate_spectrum:88]: Spherical model atmosphere with radius 2.05e+11 cm\n"
     ]
    },
    {
     "name": "stdout",
     "output_type": "stream",
     "text": [
      "0.0 0.0 0.0 0\n",
      "[started] 3500 3.5 -0.5 0.4 1.01 0.0 0.0 0.0 0\n"
     ]
    },
    {
     "name": "stderr",
     "output_type": "stream",
     "text": [
      "INFO:root:Spherical model atmosphere with radius 2.05e+11 cm\n",
      "[2023-11-10 13:41:26,128] [INFO] [turbospectrum:generate_spectrum:88]: Spherical model atmosphere with radius 2.05e+11 cm\n",
      "INFO:root:Spherical model atmosphere with radius 2.05e+11 cm\n",
      "[2023-11-10 13:41:26,217] [INFO] [turbospectrum:generate_spectrum:88]: Spherical model atmosphere with radius 2.05e+11 cm\n"
     ]
    },
    {
     "name": "stdout",
     "output_type": "stream",
     "text": [
      "[finished] 3500 3.0 0.25 0.0 1.84 0.0 0.0 0.0 0\n",
      "[started] 3500 3.5 -0.25 0.0 1.02 0.0 0.0 0.0 0\n",
      "[finished] 3500 3.0 0.25 0.4 1.84 0.0 0.0 0.0 0\n",
      "[started] 3500 3.5 -0.25 0.4 1.02 0.0 0.0 0.0 0\n"
     ]
    },
    {
     "name": "stderr",
     "output_type": "stream",
     "text": [
      "INFO:root:Spherical model atmosphere with radius 2.05e+11 cm\n",
      "[2023-11-10 13:42:16,386] [INFO] [turbospectrum:generate_spectrum:88]: Spherical model atmosphere with radius 2.05e+11 cm\n",
      "INFO:root:Spherical model atmosphere with radius 2.05e+11 cm\n",
      "[2023-11-10 13:42:16,457] [INFO] [turbospectrum:generate_spectrum:88]: Spherical model atmosphere with radius 2.05e+11 cm\n"
     ]
    },
    {
     "name": "stdout",
     "output_type": "stream",
     "text": [
      "[finished] 3500 3.0 0.5 0.4 1.85 0.0 0.0 0.0 0\n",
      "[started] 3500 3.5 0.0 0.0 1.03 0.0 0.0 0.0 0\n",
      "[finished] 3500 3.0 0.5 0.0 1.85 0.0 0.0 0.0 0\n",
      "[started] 3500 3.5 0.0 0.4 1.03 0.0 0.0 0.0 0\n"
     ]
    },
    {
     "name": "stderr",
     "output_type": "stream",
     "text": [
      "INFO:root:Spherical model atmosphere with radius 2.05e+11 cm\n",
      "[2023-11-10 13:42:17,081] [INFO] [turbospectrum:generate_spectrum:88]: Spherical model atmosphere with radius 2.05e+11 cm\n",
      "INFO:root:Spherical model atmosphere with radius 2.05e+11 cm\n",
      "[2023-11-10 13:42:17,135] [INFO] [turbospectrum:generate_spectrum:88]: Spherical model atmosphere with radius 2.05e+11 cm\n"
     ]
    },
    {
     "name": "stdout",
     "output_type": "stream",
     "text": [
      "[finished] 3500 3.5 -0.5 0.4 1.01 0.0 0.0 0.0 0\n",
      "[finished] 3500 3.5 [started]-0.5  3500 0.03.5  1.010.25  0.00.0  0.01.04 0.0  0.00.0  0.00 \n",
      "0\n",
      "[started] 3500 3.5 0.25 0.4 1.04 0.0 0.0 0.0 0\n"
     ]
    },
    {
     "name": "stderr",
     "output_type": "stream",
     "text": [
      "INFO:root:Spherical model atmosphere with radius 2.05e+11 cm\n",
      "[2023-11-10 13:42:18,612] [INFO] [turbospectrum:generate_spectrum:88]: Spherical model atmosphere with radius 2.05e+11 cm\n",
      "INFO:root:Spherical model atmosphere with radius 2.05e+11 cm\n",
      "[2023-11-10 13:42:18,640] [INFO] [turbospectrum:generate_spectrum:88]: Spherical model atmosphere with radius 2.05e+11 cm\n"
     ]
    },
    {
     "name": "stdout",
     "output_type": "stream",
     "text": [
      "[finished] 3500 3.5 -0.75 0.4 1.0 0.0 0.0 0.0 0\n",
      "[started] 3500 3.5 0.5 0.0 1.06 0.0 0.0 0.0 0\n"
     ]
    },
    {
     "name": "stderr",
     "output_type": "stream",
     "text": [
      "INFO:root:Spherical model atmosphere with radius 2.05e+11 cm\n",
      "[2023-11-10 13:42:19,221] [INFO] [turbospectrum:generate_spectrum:88]: Spherical model atmosphere with radius 2.05e+11 cm\n"
     ]
    },
    {
     "name": "stdout",
     "output_type": "stream",
     "text": [
      "[finished] 3500 3.5 -0.75 0.0 1.0 0.0 0.0 0.0 0\n",
      "[started] 3500 3.5 0.5 0.4 1.06 0.0 0.0 0.0 0\n",
      "[finished] 3500 3.5 -1.0 0.4 0.99 0.0 0.0 0.0 0\n",
      "[started] 3500 4.0 -1.0 0.0 0.92 0.0 0.0 0.0 0\n"
     ]
    },
    {
     "name": "stderr",
     "output_type": "stream",
     "text": [
      "INFO:root:Spherical model atmosphere with radius 2.05e+11 cm\n",
      "[2023-11-10 13:42:19,772] [INFO] [turbospectrum:generate_spectrum:88]: Spherical model atmosphere with radius 2.05e+11 cm\n"
     ]
    },
    {
     "name": "stdout",
     "output_type": "stream",
     "text": [
      "[finished] 3500 3.5 -1.0 0.0 0.99 0.0 0.0 0.0 0\n",
      "[started] 3500 4.0 -1.0 0.4 0.92 0.0 0.0 0.0 0\n",
      "[finished] 3500 4.0 -1.0 0.4 0.92 0.0 0.0 0.0 0\n",
      "[started] 3500 4.0 -0.75 0.0 0.93 0.0 0.0 0.0 0\n",
      "[finished] 3500 4.0 -1.0 0.0 0.92 0.0 0.0 0.0 0\n",
      "[started] 3500 4.0 -0.75 0.4 0.93 0.0 0.0 0.0 0\n",
      "[finished] 3500 3.5 0.0 0.4 1.03 0.0 0.0 0.0 0\n",
      "[started] 3500 4.0 -0.5 0.0 0.94 0.0 0.0 0.0 0\n",
      "[finished] 3500 3.5 -0.25 0.4 1.02 0.0 0.0 0.0 0\n",
      "[finished] 3500 3.5 0.0 [started]0.0  3500 1.034.0  -0.50.0  0.00.4  0.940.0 0.0  0.00 \n",
      "0.0 0\n",
      "[started] 3500 4.0 -0.25 0.0 0.95 0.0 0.0 0.0 0\n",
      "[finished] 3500 3.5 -0.25 0.0 1.02 0.0 0.0 0.0 0\n",
      "[started] 3500 4.0 -0.25 0.4 0.95 0.0 0.0 0.0 0\n",
      "[finished] 3500 3.5 0.25 0.4 1.04 0.0 0.0 0.0 0\n",
      "[started] 3500 4.0 0.0 0.0 0.96 0.0 0.0 0.0 0\n",
      "[finished] 3500 3.5 0.25 0.0 1.04 0.0 0.0 0.0 0\n",
      "[started] 3500 4.0 0.0 0.4 0.96 0.0 0.0 0.0 0\n",
      "[finished] 3500 3.5 0.5 0.0 1.06 0.0 0.0 0.0 0\n",
      "[started] 3500 4.0 0.25 0.0 0.98 0.0 0.0 0.0 0\n",
      "[finished] 3500 3.5 0.5 0.4 1.06 0.0 0.0 0.0 0\n",
      "[started] 3500 4.0 0.25 0.4 0.98 0.0 0.0 0.0 0\n",
      "[finished] 3500 4.0 -0.75 0.0 0.93 0.0 0.0 0.0 0\n",
      "[started] 3500 4.0 0.5 0.0 0.99 0.0 0.0 0.0 0\n",
      "[finished] 3500 4.0 -0.75 0.4 0.93 0.0 0.0 0.0 0\n",
      "[started] 3500 4.0 0.5 0.4 0.99 0.0 0.0 0.0 0\n",
      "[finished] 3500 4.0 -0.25 0.0 0.95 0.0 0.0 0.0 0\n",
      "[started] 3500 4.5 -1.0 0.0 0.85 0.0 0.0 0.0 0\n",
      "[finished] 3500 4.0 -0.5 0.0 0.94 0.0 0.0 0.0 0\n",
      "[started] 3500 4.5 -1.0 0.4 0.85 0.0 0.0 0.0 0\n",
      "[finished] 3500 4.0 -0.25 0.4 0.95 0.0 0.0 0.0 0\n",
      "[started] 3500 4.5 -0.75 0.0 0.86 0.0 0.0 0.0 0\n",
      "[finished] 3500 4.0 -0.5 0.4 0.94 0.0 0.0 0.0 0\n",
      "[started] 3500 4.5 -0.75 0.4 0.86 0.0 0.0 0.0 0\n",
      "[finished] 3500 4.0 0.0 0.0 0.96 0.0 0.0 0.0 0\n",
      "[started] 3500 4.5 -0.5 0.0 0.87 0.0 0.0 0.0 0\n",
      "[finished] 3500 4.0 0.25[finished]  35000.4  0.984.0 0.0 0.0 0.0  0.00.4 0 \n",
      "0.96 0.0 0.0 0.0 0\n",
      "[started] 3500 4.5 -0.5 0.4 0.87 0.0 0.0 0.0 0\n",
      "[started] 3500 4.5 -0.25 0.0 0.88 0.0 0.0 0.0 0\n",
      "[finished] 3500 4.0 0.25 0.0 0.98 0.0 0.0 0.0 0\n",
      "[started] 3500 4.5 -0.25 0.4 0.88 0.0 0.0 0.0 0\n",
      "[finished] 3500 4.0 0.5 0.4 0.99 0.0 0.0 0.0 0\n",
      "[started] 3500 4.5 0.0 0.0 0.89 0.0 0.0 0.0 0\n",
      "[finished] 3500 4.0 0.5 0.0 0.99 0.0 0.0 0.0 0\n",
      "[started] 3500 4.5 0.0 0.4 0.89 0.0 0.0 0.0 0\n",
      "[finished] 3500 4.5 -1.0 0.4 0.85 0.0 0.0 0.0 0\n",
      "[started] 3500 4.5 0.25 0.0 0.9 0.0 0.0 0.0 0\n",
      "[finished] 3500 4.5 -0.75 0.0 0.86 0.0 0.0 0.0 0\n",
      "[started] 3500 4.5 0.25 0.4 0.9 0.0 0.0 0.0 0\n",
      "[finished] 3500 4.5 -0.75 0.4 0.86 0.0 0.0 0.0 0\n",
      "[started] 3500 4.5 0.5 0.0 0.92 0.0 0.0 0.0 0\n",
      "[finished] 3500 4.5 -1.0 0.0 0.85 0.0 0.0 0.0 0\n",
      "[started] 3500 4.5 0.5 0.4 0.92 0.0 0.0 0.0 0\n",
      "[finished] 3500 4.5 -0.5 0.0 0.87 0.0 0.0 0.0 0\n",
      "[started] 3500 5.0 -1.0 0.0 0.78 0.0 0.0 0.0 0\n",
      "[finished] 3500 4.5 -0.5 0.4 0.87 0.0 0.0 0.0 0\n",
      "[started] 3500 5.0 -1.0 0.4 0.78 0.0 0.0 0.0 0\n",
      "[finished] 3500 4.5 -0.25 0.0 0.88 0.0 0.0 0.0 0\n",
      "[started] 3500 5.0 -0.75 0.0 0.79 0.0 0.0 0.0 0\n",
      "[finished] 3500 4.5 -0.25 0.4 0.88 0.0 0.0 0.0 0\n",
      "[started] 3500 5.0 -0.75 0.4 0.79 0.0 0.0 0.0 0\n",
      "[finished] 3500 4.5 0.0 0.4 0.89 0.0 0.0 0.0 0\n",
      "[started] 3500 5.0 -0.5 0.0 0.79 0.0 0.0 0.0 0\n",
      "[finished] 3500 4.5 0.0 0.0 0.89 0.0 0.0 0.0 0\n",
      "[started] 3500 5.0 -0.5 0.4 0.79 0.0 0.0 0.0 0\n",
      "[finished] 3500 4.5 0.25 0.0 0.9 0.0 [finished]0.0  0.0 35000 4.5\n",
      " 0.5 0.4 0.92 0.0 0.0 0.0 0\n",
      "[started] 3500 5.0 -0.25 0.0 0.81 0.0 0.0 0.0 0[started]\n",
      " 3500 5.0 -0.25 0.4 0.81 0.0 0.0 0.0 0\n",
      "[finished] 3500 4.5 0.25 0.4 0.9 0.0 0.0 0.0 0\n",
      "[finished] 3500 0.04.5 0.5  0.92 [started] 35000.0  0.05.0  0.00.0  0.00 \n",
      "0.82 0.0 0.0 0.0 0\n",
      "[started] 3500 5.0 0.0 0.4 0.82 0.0 0.0 0.0 0\n",
      "[finished] 3500 5.0 -0.75 0.4 0.79 0.0 0.0 0.0 0\n",
      "[started] 3500 5.0 0.25 0.0 0.83 0.0 0.0 0.0 0\n",
      "[finished] 3500 5.0 -1.0 0.4 0.78 0.0 0.0 0.0 0\n",
      "[started] 3500 5.0 0.25 0.4 0.83 0.0 0.0 0.0 0\n",
      "[finished] 3500 5.0 -1.0 0.0 0.78 0.0 0.0 0.0 0\n",
      "[started] 3500 5.0 0.5 0.0 0.84 0.0 0.0 0.0 0\n",
      "[finished] 3500 5.0 -0.75 0.0 0.79 0.0 0.0 0.0 0\n",
      "[started] 3500 5.0 0.5 0.4 0.84 0.0 0.0 0.0 0\n",
      "[finished] 3500 5.0 -0.5 0.4 0.79 0.0 0.0 0.0 0\n",
      "[started] 3750 3.0 -1.0 0.0 1.59 0.0 0.0 0.0 0\n"
     ]
    },
    {
     "name": "stderr",
     "output_type": "stream",
     "text": [
      "INFO:root:Spherical model atmosphere with radius 3.65e+11 cm\n",
      "[2023-11-10 13:45:38,560] [INFO] [turbospectrum:generate_spectrum:88]: Spherical model atmosphere with radius 3.65e+11 cm\n"
     ]
    },
    {
     "name": "stdout",
     "output_type": "stream",
     "text": [
      "[finished] 3500 5.0 -0.5 0.0 0.79 0.0 0.0 0.0 0\n",
      "[started] 3750 3.0 -1.0 0.4 1.59 0.0 0.0 0.0 0\n"
     ]
    },
    {
     "name": "stderr",
     "output_type": "stream",
     "text": [
      "INFO:root:Spherical model atmosphere with radius 3.65e+11 cm\n",
      "[2023-11-10 13:45:38,805] [INFO] [turbospectrum:generate_spectrum:88]: Spherical model atmosphere with radius 3.65e+11 cm\n"
     ]
    },
    {
     "name": "stdout",
     "output_type": "stream",
     "text": [
      "[finished] 3500 5.0 -0.25 0.4 0.81 0.0 0.0 0.0 0\n",
      "[started] 3750 3.0 -0.75 0.0 1.6 0.0 0.0 0.0 0\n",
      "[finished] 3500 5.0 0.0 0.4 0.82 0.0 0.0 0.0 0\n",
      "[started] "
     ]
    },
    {
     "name": "stderr",
     "output_type": "stream",
     "text": [
      "INFO:root:Spherical model atmosphere with radius 3.65e+11 cm\n"
     ]
    },
    {
     "name": "stdout",
     "output_type": "stream",
     "text": [
      "3750"
     ]
    },
    {
     "name": "stderr",
     "output_type": "stream",
     "text": [
      "[2023-11-10 13:45:47,104] [INFO] [turbospectrum:generate_spectrum:88]: Spherical model atmosphere with radius 3.65e+11 cm\n"
     ]
    },
    {
     "name": "stdout",
     "output_type": "stream",
     "text": [
      " 3.0 -0.75 0.4 1.6 0.0 0.0 0.0 0\n"
     ]
    },
    {
     "name": "stderr",
     "output_type": "stream",
     "text": [
      "INFO:root:Spherical model atmosphere with radius 3.65e+11 cm\n",
      "[2023-11-10 13:45:47,198] [INFO] [turbospectrum:generate_spectrum:88]: Spherical model atmosphere with radius 3.65e+11 cm\n"
     ]
    },
    {
     "name": "stdout",
     "output_type": "stream",
     "text": [
      "[finished] 3500 5.0 -0.25 0.0 0.81 0.0 0.0 0.0 0\n",
      "[started] 3750 3.0 -0.5 0.0 1.61 0.0 0.0 0.0 0\n"
     ]
    },
    {
     "name": "stderr",
     "output_type": "stream",
     "text": [
      "INFO:root:Spherical model atmosphere with radius 3.65e+11 cm\n",
      "[2023-11-10 13:45:47,483] [INFO] [turbospectrum:generate_spectrum:88]: Spherical model atmosphere with radius 3.65e+11 cm\n"
     ]
    },
    {
     "name": "stdout",
     "output_type": "stream",
     "text": [
      "[finished] 3500 5.0 0.0 0.0 0.82 0.0 0.0 0.0 0\n",
      "[started] 3750 3.0 -0.5 0.4 1.61 0.0 0.0 0.0 0\n"
     ]
    },
    {
     "name": "stderr",
     "output_type": "stream",
     "text": [
      "INFO:root:Spherical model atmosphere with radius 3.65e+11 cm\n",
      "[2023-11-10 13:45:47,671] [INFO] [turbospectrum:generate_spectrum:88]: Spherical model atmosphere with radius 3.65e+11 cm\n"
     ]
    },
    {
     "name": "stdout",
     "output_type": "stream",
     "text": [
      "[finished] 3500 5.0 0.25 0.4 0.83 0.0 0.0 0.0 0\n",
      "[started] 3750 3.0 -0.25 0.0 1.62 0.0 0.0 0.0 0\n"
     ]
    },
    {
     "name": "stderr",
     "output_type": "stream",
     "text": [
      "INFO:root:Spherical model atmosphere with radius 3.65e+11 cm\n",
      "[2023-11-10 13:45:49,185] [INFO] [turbospectrum:generate_spectrum:88]: Spherical model atmosphere with radius 3.65e+11 cm\n"
     ]
    },
    {
     "name": "stdout",
     "output_type": "stream",
     "text": [
      "[finished] 3500 5.0 0.25 0.0 0.83 0.0 0.0 0.0 0\n",
      "[started] 3750 3.0 -0.25 0.4 1.62 0.0 0.0 0.0 0\n"
     ]
    },
    {
     "name": "stderr",
     "output_type": "stream",
     "text": [
      "INFO:root:Spherical model atmosphere with radius 3.65e+11 cm\n",
      "[2023-11-10 13:45:49,370] [INFO] [turbospectrum:generate_spectrum:88]: Spherical model atmosphere with radius 3.65e+11 cm\n"
     ]
    },
    {
     "name": "stdout",
     "output_type": "stream",
     "text": [
      "[finished] 3500 5.0 0.5 0.4 0.84 0.0 0.0 0.0 0\n",
      "[started] 3750 3.0 0.0 0.0 1.63 0.0 0.0 0.0 0\n"
     ]
    },
    {
     "name": "stderr",
     "output_type": "stream",
     "text": [
      "INFO:root:Spherical model atmosphere with radius 3.65e+11 cm\n",
      "[2023-11-10 13:45:49,570] [INFO] [turbospectrum:generate_spectrum:88]: Spherical model atmosphere with radius 3.65e+11 cm\n"
     ]
    },
    {
     "name": "stdout",
     "output_type": "stream",
     "text": [
      "[finished] 3500 5.0 0.5 0.0 0.84 0.0 0.0 0.0 0\n",
      "[started] 3750 3.0 0.0 0.4 1.63 0.0 0.0 0.0 0\n"
     ]
    },
    {
     "name": "stderr",
     "output_type": "stream",
     "text": [
      "INFO:root:Spherical model atmosphere with radius 3.65e+11 cm\n",
      "[2023-11-10 13:45:50,227] [INFO] [turbospectrum:generate_spectrum:88]: Spherical model atmosphere with radius 3.65e+11 cm\n"
     ]
    },
    {
     "name": "stdout",
     "output_type": "stream",
     "text": [
      "[finished] 3750 3.0 -1.0 0.0 1.59 0.0 0.0 0.0 0\n",
      "[started] 3750 3.0 0.25 0.0 1.65 0.0 0.0 0.0 0\n"
     ]
    },
    {
     "name": "stderr",
     "output_type": "stream",
     "text": [
      "INFO:root:Spherical model atmosphere with radius 3.65e+11 cm\n",
      "[2023-11-10 13:46:31,377] [INFO] [turbospectrum:generate_spectrum:88]: Spherical model atmosphere with radius 3.65e+11 cm\n"
     ]
    },
    {
     "name": "stdout",
     "output_type": "stream",
     "text": [
      "[finished] 3750 3.0 -1.0 0.4 1.59 0.0 0.0 0.0 0\n",
      "[started] 3750 3.0 0.25 0.4 1.65 0.0 0.0 0.0 0\n"
     ]
    },
    {
     "name": "stderr",
     "output_type": "stream",
     "text": [
      "INFO:root:Spherical model atmosphere with radius 3.65e+11 cm\n",
      "[2023-11-10 13:46:31,690] [INFO] [turbospectrum:generate_spectrum:88]: Spherical model atmosphere with radius 3.65e+11 cm\n"
     ]
    },
    {
     "name": "stdout",
     "output_type": "stream",
     "text": [
      "[finished] 3750 3.0 -0.5 0.4 1.61 0.0 0.0 0.0 0\n",
      "[started] 3750 3.0 0.5 0.0 1.66 0.0 0.0 0.0 0\n",
      "[finished] 3750 3.0 -0.75 0.4 1.6 0.0 0.0 0.0 0\n",
      "[started] 3750 3.0 0.5 0.4 1.66 0.0 0.0 0.0 0\n",
      "[finished] [finished]3750 3750 3.0  3.00.0 -0.5  0.00.0  1.631.61  0.00.0  0.0 0.00.0  0.00 0\n",
      "\n"
     ]
    },
    {
     "name": "stderr",
     "output_type": "stream",
     "text": [
      "INFO:root:Spherical model atmosphere with radius 3.65e+11 cm\n",
      "[2023-11-10 13:46:39,252] [INFO] [turbospectrum:generate_spectrum:88]: Spherical model atmosphere with radius 3.65e+11 cm\n"
     ]
    },
    {
     "name": "stdout",
     "output_type": "stream",
     "text": [
      "[started] 3750 3.5 -1.0 0.0 0.99 0.0 0.0 0.0 0[started]\n",
      " 3750 3.5 -1.0 0.4 0.99 0.0 0.0 0.0 0\n"
     ]
    },
    {
     "name": "stderr",
     "output_type": "stream",
     "text": [
      "INFO:root:Spherical model atmosphere with radius 3.65e+11 cm\n",
      "[2023-11-10 13:46:39,305] [INFO] [turbospectrum:generate_spectrum:88]: Spherical model atmosphere with radius 3.65e+11 cm\n",
      "INFO:root:Spherical model atmosphere with radius 2.05e+11 cm\n",
      "[2023-11-10 13:46:39,344] [INFO] [turbospectrum:generate_spectrum:88]: Spherical model atmosphere with radius 2.05e+11 cm\n",
      "INFO:root:Spherical model atmosphere with radius 2.05e+11 cm\n",
      "[2023-11-10 13:46:39,373] [INFO] [turbospectrum:generate_spectrum:88]: Spherical model atmosphere with radius 2.05e+11 cm\n"
     ]
    },
    {
     "name": "stdout",
     "output_type": "stream",
     "text": [
      "[finished] 3750 3.0 -0.75 0.0 1.6 0.0 0.0 0.0 0\n",
      "[started] 3750 3.5 -0.75 0.0 1.0 0.0 0.0 0.0 0\n"
     ]
    },
    {
     "name": "stderr",
     "output_type": "stream",
     "text": [
      "INFO:root:Spherical model atmosphere with radius 2.05e+11 cm\n",
      "[2023-11-10 13:46:39,576] [INFO] [turbospectrum:generate_spectrum:88]: Spherical model atmosphere with radius 2.05e+11 cm\n"
     ]
    },
    {
     "name": "stdout",
     "output_type": "stream",
     "text": [
      "[finished] 3750 3.0 0.0 0.4 1.63 0.0 0.0 0.0 0\n",
      "[started] 3750 3.5 -0.75 0.4 1.0 0.0 0.0 0.0 0\n"
     ]
    },
    {
     "name": "stderr",
     "output_type": "stream",
     "text": [
      "INFO:root:Spherical model atmosphere with radius 2.05e+11 cm\n",
      "[2023-11-10 13:46:39,907] [INFO] [turbospectrum:generate_spectrum:88]: Spherical model atmosphere with radius 2.05e+11 cm\n"
     ]
    },
    {
     "name": "stdout",
     "output_type": "stream",
     "text": [
      "[finished] 3750 3.0 -0.25 0.0 1.62 0.0 0.0 0.0 0\n",
      "[started] 3750 3.5 -0.5 0.0 1.01 0.0 0.0 0.0 0\n"
     ]
    },
    {
     "name": "stderr",
     "output_type": "stream",
     "text": [
      "INFO:root:Spherical model atmosphere with radius 2.05e+11 cm\n",
      "[2023-11-10 13:46:40,327] [INFO] [turbospectrum:generate_spectrum:88]: Spherical model atmosphere with radius 2.05e+11 cm\n"
     ]
    },
    {
     "name": "stdout",
     "output_type": "stream",
     "text": [
      "[finished] 3750 3.0 -0.25 0.4 1.62 0.0 0.0 0.0 0\n",
      "[started] 3750 3.5 -0.5 0.4 1.01 0.0 0.0 0.0 0\n"
     ]
    },
    {
     "name": "stderr",
     "output_type": "stream",
     "text": [
      "INFO:root:Spherical model atmosphere with radius 2.05e+11 cm\n",
      "[2023-11-10 13:46:40,463] [INFO] [turbospectrum:generate_spectrum:88]: Spherical model atmosphere with radius 2.05e+11 cm\n"
     ]
    },
    {
     "name": "stdout",
     "output_type": "stream",
     "text": [
      "[finished] 3750 3.0 0.25 0.0 1.65 0.0 0.0 0.0 0\n",
      "[started] 3750 3.5 -0.25 0.0 1.02 0.0 0.0 0.0 0\n"
     ]
    },
    {
     "name": "stderr",
     "output_type": "stream",
     "text": [
      "INFO:root:Spherical model atmosphere with radius 2.05e+11 cm\n",
      "[2023-11-10 13:47:20,868] [INFO] [turbospectrum:generate_spectrum:88]: Spherical model atmosphere with radius 2.05e+11 cm\n"
     ]
    },
    {
     "name": "stdout",
     "output_type": "stream",
     "text": [
      "[finished] 3750 3.0 0.25 0.4 1.65 0.0 0.0 0.0 0\n",
      "[started] 3750 3.5 -0.25 0.4 1.02 0.0 0.0 0.0 0\n"
     ]
    },
    {
     "name": "stderr",
     "output_type": "stream",
     "text": [
      "INFO:root:Spherical model atmosphere with radius 2.05e+11 cm\n",
      "[2023-11-10 13:47:21,430] [INFO] [turbospectrum:generate_spectrum:88]: Spherical model atmosphere with radius 2.05e+11 cm\n"
     ]
    },
    {
     "name": "stdout",
     "output_type": "stream",
     "text": [
      "[finished] 3750 3.0 0.5 0.4 1.66 0.0 0.0 0.0 0\n",
      "[started] 3750 3.5 0.0 0.0 1.03 0.0 0.0 0.0 0\n"
     ]
    },
    {
     "name": "stderr",
     "output_type": "stream",
     "text": [
      "INFO:root:Spherical model atmosphere with radius 2.05e+11 cm\n",
      "[2023-11-10 13:47:28,227] [INFO] [turbospectrum:generate_spectrum:88]: Spherical model atmosphere with radius 2.05e+11 cm\n"
     ]
    },
    {
     "name": "stdout",
     "output_type": "stream",
     "text": [
      "[finished] 3750 3.0 0.5 0.0 1.66 0.0 0.0 0.0 0\n",
      "[started] 3750 3.5 0.0 0.4 1.03 0.0 0.0 0.0 0\n"
     ]
    },
    {
     "name": "stderr",
     "output_type": "stream",
     "text": [
      "INFO:root:Spherical model atmosphere with radius 2.05e+11 cm\n",
      "[2023-11-10 13:47:28,934] [INFO] [turbospectrum:generate_spectrum:88]: Spherical model atmosphere with radius 2.05e+11 cm\n"
     ]
    },
    {
     "name": "stdout",
     "output_type": "stream",
     "text": [
      "[finished] 3750 3.5 -0.5 0.0 1.01 0.0 0.0 0.0 0\n",
      "[started] 3750 3.5 0.25 0.0 1.04 0.0 0.0 0.0 0\n"
     ]
    },
    {
     "name": "stderr",
     "output_type": "stream",
     "text": [
      "INFO:root:Spherical model atmosphere with radius 2.05e+11 cm\n",
      "[2023-11-10 13:47:31,101] [INFO] [turbospectrum:generate_spectrum:88]: Spherical model atmosphere with radius 2.05e+11 cm\n"
     ]
    },
    {
     "name": "stdout",
     "output_type": "stream",
     "text": [
      "[finished] 3750 3.5 -0.75 0.4 1.0 0.0 0.0 0.0 0\n",
      "[started] 3750 3.5 0.25 0.4 1.04 0.0 0.0 0.0 0\n"
     ]
    },
    {
     "name": "stderr",
     "output_type": "stream",
     "text": [
      "INFO:root:Spherical model atmosphere with radius 2.05e+11 cm\n",
      "[2023-11-10 13:47:31,252] [INFO] [turbospectrum:generate_spectrum:88]: Spherical model atmosphere with radius 2.05e+11 cm\n"
     ]
    },
    {
     "name": "stdout",
     "output_type": "stream",
     "text": [
      "[finished] 3750 3.5 -1.0 0.4 0.99 0.0 0.0 0.0 0\n",
      "[started] 3750 3.5 0.5 0.0 1.06 0.0 0.0 0.0 0\n"
     ]
    },
    {
     "name": "stderr",
     "output_type": "stream",
     "text": [
      "INFO:root:Spherical model atmosphere with radius 2.05e+11 cm\n",
      "[2023-11-10 13:47:31,780] [INFO] [turbospectrum:generate_spectrum:88]: Spherical model atmosphere with radius 2.05e+11 cm\n"
     ]
    },
    {
     "name": "stdout",
     "output_type": "stream",
     "text": [
      "[finished] 3750 3.5 -0.75 0.0 1.0 0.0 0.0 0.0 0\n",
      "[started] 3750 3.5 0.5 0.4 1.06 0.0 0.0 0.0 0\n"
     ]
    },
    {
     "name": "stderr",
     "output_type": "stream",
     "text": [
      "INFO:root:Spherical model atmosphere with radius 2.05e+11 cm\n",
      "[2023-11-10 13:47:31,916] [INFO] [turbospectrum:generate_spectrum:88]: Spherical model atmosphere with radius 2.05e+11 cm\n"
     ]
    },
    {
     "name": "stdout",
     "output_type": "stream",
     "text": [
      "[finished] 3750 3.5 -1.0 0.0 0.99 0.0 0.0 0.0 0\n",
      "[started] 3750 4.0 -1.0 0.0 0.92 0.0 0.0 0.0 0\n",
      "[finished] 3750 3.5 -0.5 0.4 1.01 0.0 0.0 0.0 0\n",
      "[started] 3750 4.0 -1.0 0.4 0.92 0.0 0.0 0.0 0\n",
      "[finished] 3750 3.5 -0.25 0.4[finished]  1.023750  3.5 0.0-0.25  0.00.0  1.020.0  0.00 0.0\n",
      " 0.0 0\n",
      "[finished] 3750 4.0 -1.0[started]  0.03750  4.0 0.92-0.75  0.00.0 0.93  0.00.0  0.00.0  0.00[started] \n",
      " 03750 \n",
      "4.0 -0.75 0.4 0.93 0.0 0.0 0.0 0\n",
      "[started] 3750 4.0 -0.5 0.0 0.94 0.0 0.0 0.0 0\n",
      "[finished] 3750 4.0 -1.0 0.4 0.92 0.0 0.0 0.0 0\n",
      "[started] 3750 4.0 -0.5 0.4 0.94 0.0 0.0 0.0 0\n",
      "[finished] 3750 3.5 0.0 0.0 1.03 0.0 0.0 0.0 0\n",
      "[started] 3750 4.0 -0.25 0.0 0.95 0.0 0.0 0.0 0\n",
      "[finished] 3750 3.5 0.0 0.4 1.03 0.0 0.0 0.0 0\n",
      "[started] 3750 4.0 -0.25 0.4 0.95 0.0 0.0 0.0 0\n",
      "[finished] 3750 3.5 0.25 0.0 1.04 0.0 0.0 0.0 0\n",
      "[started] 3750 4.0 0.0 0.0 0.96 0.0 0.0 0.0 0\n",
      "[finished] 3750 3.5 0.5 0.0 1.06 0.0 0.0 0.0 0\n",
      "[started] 3750 4.0 0.0 0.4 0.96 0.0 0.0 0.0 0\n",
      "[finished] 3750 3.5 0.25 0.4 1.04 0.0 0.0 0.0 0\n",
      "[started] 3750 4.0 0.25 0.0 0.98 0.0 0.0 0.0 0\n",
      "[finished] 3750 3.5 0.5 0.4 1.06 0.0 0.0 0.0 0\n",
      "[started] 3750 4.0 0.25 0.4 0.98 0.0 0.0 0.0 0\n",
      "[finished] 3750 4.0 -0.75 0.4 0.93 0.0 0.0 0.0 0\n",
      "[started] 3750 4.0 0.5 0.0 0.99 0.0 0.0 0.0 0\n",
      "[finished] 3750 4.0 -0.5 0.0 0.94 0.0 0.0 0.0 0\n",
      "[started] 3750 4.0 0.5 0.4 0.99 0.0 0.0 0.0 0\n",
      "[finished] 3750 4.0 -0.75 0.0 0.93 0.0 0.0 0.0 0\n",
      "[started] 3750 4.5 -1.0 0.0 0.85 0.0 0.0 0.0 0\n",
      "[finished] 3750 4.0 -0.5 0.4 0.94 0.0 0.0 0.0 0\n",
      "[started] 3750 4.5 -1.0 0.4 0.85 0.0 0.0 0.0 0\n",
      "[finished] 3750 4.0 -0.25 0.4 0.95 0.0 0.0 0.0 0\n",
      "[started] 3750 4.5 -0.75 0.0 0.86 0.0 0.0 0.0 0\n",
      "[finished] 3750 4.0 -0.25 0.0 0.95 0.0 0.0 0.0 0\n",
      "[started] 3750 4.5 -0.75 0.4 0.86 0.0 0.0 0.0 0\n",
      "[finished] 3750 4.0 0.0 0.0 0.96 0.0 0.0 0.0 0\n",
      "[started] 3750 4.5 -0.5 0.0 0.87 0.0 0.0 0.0 0\n",
      "[finished] 3750 4.0 0.25 0.0 0.98 0.0 0.0 0.0 0\n",
      "[started] 3750 4.5 -0.5 0.4 0.87 0.0 0.0 0.0 0\n",
      "[finished] 3750 4.0 0.0 0.4 0.96 0.0 0.0 0.0 0\n",
      "[started] 3750 4.5 -0.25 0.0 0.88 0.0 0.0 0.0 0\n",
      "[finished] 3750 4.0 0.25 0.4 0.98 0.0 0.0 0.0 0\n",
      "[started] 3750 4.5 -0.25 0.4 0.88 0.0 0.0 0.0 0\n",
      "[finished] 3750 4.0 0.5 0.4 0.99 0.0 0.0 0.0 0\n",
      "[started] 3750 4.5 0.0 0.0 0.89 0.0 0.0 0.0 0\n",
      "[finished] 3750 4.0 0.5 0.0 0.99 0.0 0.0 0.0 0\n",
      "[started] 3750 4.5 0.0 0.4 0.89 0.0 0.0 0.0 0\n",
      "[finished] 3750 4.5 -1.0 0.4 0.85 0.0 0.0 0.0 0\n",
      "[started] 3750 4.5 0.25 0.0 0.9 0.0 0.0 0.0 0\n",
      "[finished] 3750 4.5 -1.0 0.0 0.85 0.0 0.0 0.0 0\n",
      "[started] 3750 4.5 0.25 0.4 0.9 0.0 0.0 0.0 0\n",
      "[finished] 3750 4.5 -0.75 0.4 0.86 0.0 0.0 0.0 0\n",
      "[started] 3750 4.5 0.5 0.0 0.92 0.0 0.0 0.0 0\n",
      "[finished] 3750 4.5 -0.75 0.0 0.86 0.0 0.0 0.0 0\n",
      "[started] 3750 4.5 0.5 0.4 0.92 0.0 0.0 0.0 0\n",
      "[finished] 3750 4.5 -0.5 0.0 0.87 0.0 0.0 0.0 0\n",
      "[started] 3750 5.0 -1.0 0.0 0.78 0.0 0.0 0.0 0\n",
      "[finished] 3750 4.5 -0.5 0.4 0.87 0.0 0.0 0.0 0\n",
      "[started] 3750 5.0 -1.0 0.4 0.78 0.0 0.0 0.0 0\n",
      "[finished] 3750 4.5 -0.25 0.0 0.88 0.0 0.0 0.0 0\n",
      "[started] 3750 5.0 -0.75 0.0 0.79 0.0 0.0 0.0 0\n",
      "[finished] 3750 4.5 -0.25 0.4 0.88 0.0 0.0 0.0 0\n",
      "[started] 3750 5.0 -0.75 0.4 0.79 0.0 0.0 0.0 0\n",
      "[finished] 3750 4.5 0.0 0.4 0.89 0.0 0.0 0.0 0\n",
      "[started] 3750 5.0 -0.5 0.0 0.79 0.0 0.0 0.0 0\n",
      "[finished] 3750 4.5 0.0 0.0 0.89 0.0 0.0 0.0 0\n",
      "[started] 3750 5.0 -0.5 0.4 0.79 0.0 0.0 0.0 0\n",
      "[finished] 3750 4.5 0.25 0.4 0.9 0.0 0.0 0.0 0\n",
      "[started] 3750 5.0 -0.25 0.0 0.81 0.0 0.0 0.0 0\n",
      "[finished] 3750 4.5 0.25 0.0 0.9 0.0 0.0 0.0 0\n",
      "[started] 3750 5.0 -0.25 0.4 0.81 0.0 0.0 0.0 0\n",
      "[finished] 3750 4.5 0.5 0.4 0.92 0.0 0.0 0.0 0\n",
      "[started] 3750 5.0 0.0 0.0 0.82 [finished]0.0  37500.0  4.50.0  0.50 0.0\n",
      " 0.92 0.0 0.0 0.0 0\n",
      "[started] 3750 5.0 0.0 0.4 0.82 0.0 0.0 0.0 0\n",
      "[finished] 3750 5.0 -1.0 0.4 0.78 0.0 0.0 0.0 0\n",
      "[started] 3750 5.0 0.25 0.0 0.83 0.0 0.0 0.0 0\n",
      "[finished] 3750 5.0 -1.0 0.0 0.78 0.0 0.0 0.0 0\n",
      "[started] 3750 5.0 0.25 0.4 0.83 0.0 0.0 0.0 0\n",
      "[finished] 3750 5.0 -0.75 0.4 0.79 0.0 0.0 0.0 0\n",
      "[started] 3750 5.0 0.5 0.0 0.84 0.0 0.0 0.0 0\n",
      "[finished] 3750 5.0 -0.75 0.0 0.79 0.0 0.0 0.0 0\n",
      "[started] 3750 5.0 0.5 0.4 0.84 0.0 0.0 0.0 0\n",
      "[finished] 3750 5.0 -0.5 0.0 0.79 0.0 0.0 0.0 0\n",
      "[started] 4000 3.0 -1.0 0.0 1.44 0.0 0.0 0.0 0\n",
      "[finished] 3750 5.0 -0.5 0.4 0.79 0.0 0.0 0.0 0\n",
      "[started] 4000 3.0 -1.0 0.4 1.44 0.0 0.0 0.0 0\n"
     ]
    },
    {
     "name": "stderr",
     "output_type": "stream",
     "text": [
      "INFO:root:Spherical model atmosphere with radius 3.65e+11 cm\n",
      "[2023-11-10 13:50:48,078] [INFO] [turbospectrum:generate_spectrum:88]: Spherical model atmosphere with radius 3.65e+11 cm\n",
      "INFO:root:Spherical model atmosphere with radius 3.65e+11 cm\n",
      "[2023-11-10 13:50:48,138] [INFO] [turbospectrum:generate_spectrum:88]: Spherical model atmosphere with radius 3.65e+11 cm\n"
     ]
    },
    {
     "name": "stdout",
     "output_type": "stream",
     "text": [
      "[finished] 3750 5.0 -0.25 0.4 0.81 0.0 0.0 0.0 0\n",
      "[started] 4000 3.0 -0.75 0.0 1.45 0.0 0.0 0.0 0\n",
      "[finished] 3750 5.0 -0.25 0.0 0.81 0.0 0.0 0.0 0\n",
      "[started] 4000 3.0 -0.75 0.4 1.45 0.0 0.0 0.0 0\n"
     ]
    },
    {
     "name": "stderr",
     "output_type": "stream",
     "text": [
      "INFO:root:Spherical model atmosphere with radius 3.65e+11 cm\n",
      "[2023-11-10 13:50:49,670] [INFO] [turbospectrum:generate_spectrum:88]: Spherical model atmosphere with radius 3.65e+11 cm\n",
      "INFO:root:Spherical model atmosphere with radius 3.65e+11 cm\n",
      "[2023-11-10 13:50:49,713] [INFO] [turbospectrum:generate_spectrum:88]: Spherical model atmosphere with radius 3.65e+11 cm\n"
     ]
    },
    {
     "name": "stdout",
     "output_type": "stream",
     "text": [
      "[finished] 3750 5.0 0.0 0.4 0.82 0.0 0.0 0.0 0\n",
      "[started] 4000 3.0 -0.5 0.0 1.46 0.0 0.0 0.0 0\n"
     ]
    },
    {
     "name": "stderr",
     "output_type": "stream",
     "text": [
      "INFO:root:Spherical model atmosphere with radius 3.65e+11 cm\n",
      "[2023-11-10 13:50:55,384] [INFO] [turbospectrum:generate_spectrum:88]: Spherical model atmosphere with radius 3.65e+11 cm\n"
     ]
    },
    {
     "name": "stdout",
     "output_type": "stream",
     "text": [
      "[finished] 3750 5.0 0.0 0.0 0.82 0.0 0.0 0.0 0\n",
      "[started] 4000 3.0 -0.5 0.4 1.46 0.0 0.0 0.0 0\n"
     ]
    },
    {
     "name": "stderr",
     "output_type": "stream",
     "text": [
      "INFO:root:Spherical model atmosphere with radius 3.65e+11 cm\n",
      "[2023-11-10 13:50:55,611] [INFO] [turbospectrum:generate_spectrum:88]: Spherical model atmosphere with radius 3.65e+11 cm\n"
     ]
    },
    {
     "name": "stdout",
     "output_type": "stream",
     "text": [
      "[finished] 3750 5.0 0.25 0.0 0.83 0.0 0.0 0.0 0\n",
      "[started] 4000 3.0 -0.25 0.0 1.47 0.0 0.0 0.0 0\n"
     ]
    },
    {
     "name": "stderr",
     "output_type": "stream",
     "text": [
      "INFO:root:Spherical model atmosphere with radius 3.65e+11 cm\n",
      "[2023-11-10 13:50:56,986] [INFO] [turbospectrum:generate_spectrum:88]: Spherical model atmosphere with radius 3.65e+11 cm\n"
     ]
    },
    {
     "name": "stdout",
     "output_type": "stream",
     "text": [
      "[finished] 3750 5.0 0.25 0.4 0.83 0.0 0.0 0.0 0\n",
      "[started] 4000 3.0 -0.25 0.4 1.47 0.0 0.0 0.0 0\n"
     ]
    },
    {
     "name": "stderr",
     "output_type": "stream",
     "text": [
      "INFO:root:Spherical model atmosphere with radius 3.65e+11 cm\n",
      "[2023-11-10 13:50:57,466] [INFO] [turbospectrum:generate_spectrum:88]: Spherical model atmosphere with radius 3.65e+11 cm\n"
     ]
    },
    {
     "name": "stdout",
     "output_type": "stream",
     "text": [
      "[finished] 3750 5.0 0.5 0.0 0.84 0.0 0.0 0.0 0\n",
      "[started] 4000 3.0 0.0 0.0 1.48 0.0 0.0 0.0 0\n"
     ]
    },
    {
     "name": "stderr",
     "output_type": "stream",
     "text": [
      "INFO:root:Spherical model atmosphere with radius 3.65e+11 cm\n",
      "[2023-11-10 13:50:58,305] [INFO] [turbospectrum:generate_spectrum:88]: Spherical model atmosphere with radius 3.65e+11 cm\n"
     ]
    },
    {
     "name": "stdout",
     "output_type": "stream",
     "text": [
      "[finished] 3750 5.0 0.5 0.4 0.84 0.0 0.0 0.0 0\n",
      "[started] 4000 3.0 0.0 0.4 1.48 0.0 0.0 0.0 0\n"
     ]
    },
    {
     "name": "stderr",
     "output_type": "stream",
     "text": [
      "INFO:root:Spherical model atmosphere with radius 3.65e+11 cm\n",
      "[2023-11-10 13:50:58,681] [INFO] [turbospectrum:generate_spectrum:88]: Spherical model atmosphere with radius 3.65e+11 cm\n"
     ]
    },
    {
     "name": "stdout",
     "output_type": "stream",
     "text": [
      "[finished] 4000 3.0 -1.0 0.0 1.44 0.0 0.0 0.0 0\n",
      "[started] 4000 3.0 0.25 0.0 1.49 0.0 0.0 0.0 0\n",
      "[finished] 4000 3.0 -1.0 0.4 1.44 0.0 0.0 0.0 0\n"
     ]
    },
    {
     "name": "stderr",
     "output_type": "stream",
     "text": [
      "INFO:root:Spherical model atmosphere with radius 3.65e+11 cm\n",
      "[2023-11-10 13:51:39,207] [INFO] [turbospectrum:generate_spectrum:88]: Spherical model atmosphere with radius 3.65e+11 cm\n"
     ]
    },
    {
     "name": "stdout",
     "output_type": "stream",
     "text": [
      "[started] 4000 3.0 0.25 0.4 1.49 0.0 0.0 0.0 0\n"
     ]
    },
    {
     "name": "stderr",
     "output_type": "stream",
     "text": [
      "INFO:root:Spherical model atmosphere with radius 3.65e+11 cm\n",
      "[2023-11-10 13:51:39,315] [INFO] [turbospectrum:generate_spectrum:88]: Spherical model atmosphere with radius 3.65e+11 cm\n"
     ]
    },
    {
     "name": "stdout",
     "output_type": "stream",
     "text": [
      "[finished] 4000 3.0 -0.75 0.0 1.45 0.0 0.0 0.0 0\n",
      "[started] 4000 3.0 0.5 0.0 1.51 0.0 0.0 0.0 0\n"
     ]
    },
    {
     "name": "stderr",
     "output_type": "stream",
     "text": [
      "INFO:root:Spherical model atmosphere with radius 3.65e+11 cm\n",
      "[2023-11-10 13:51:40,415] [INFO] [turbospectrum:generate_spectrum:88]: Spherical model atmosphere with radius 3.65e+11 cm\n"
     ]
    },
    {
     "name": "stdout",
     "output_type": "stream",
     "text": [
      "[finished] 4000 3.0 -0.75 0.4 1.45 0.0 0.0 0.0 0\n",
      "[started] 4000 3.0 0.5 0.4 1.51 0.0 0.0 0.0 0\n"
     ]
    },
    {
     "name": "stderr",
     "output_type": "stream",
     "text": [
      "INFO:root:Spherical model atmosphere with radius 3.65e+11 cm\n",
      "[2023-11-10 13:51:40,855] [INFO] [turbospectrum:generate_spectrum:88]: Spherical model atmosphere with radius 3.65e+11 cm\n"
     ]
    },
    {
     "name": "stdout",
     "output_type": "stream",
     "text": [
      "[finished] 4000 3.0 -0.5 0.4 1.46 0.0 0.0 0.0 0\n",
      "[started] 4000 3.5 -1.0 0.0 0.99 0.0 0.0 0.0 0\n"
     ]
    },
    {
     "name": "stderr",
     "output_type": "stream",
     "text": [
      "INFO:root:Spherical model atmosphere with radius 2.05e+11 cm\n",
      "[2023-11-10 13:51:45,948] [INFO] [turbospectrum:generate_spectrum:88]: Spherical model atmosphere with radius 2.05e+11 cm\n"
     ]
    },
    {
     "name": "stdout",
     "output_type": "stream",
     "text": [
      "[finished] 4000 3.0 -0.5 0.0 1.46 0.0 0.0 0.0 0\n",
      "[started] 4000 3.5 -1.0 0.4 0.99 0.0 0.0 0.0 0\n"
     ]
    },
    {
     "name": "stderr",
     "output_type": "stream",
     "text": [
      "INFO:root:Spherical model atmosphere with radius 2.05e+11 cm\n",
      "[2023-11-10 13:51:46,397] [INFO] [turbospectrum:generate_spectrum:88]: Spherical model atmosphere with radius 2.05e+11 cm\n"
     ]
    },
    {
     "name": "stdout",
     "output_type": "stream",
     "text": [
      "[finished] [finished]4000  40003.0  3.0 -0.25-0.25  0.00.4  1.471.47  0.00.0  0.00.0 0.0  0.00\n",
      " 0\n",
      "[started] 4000 3.5 -0.75 0.0 1.0 0.0 0.0[started] 0.0  40000 \n",
      "3.5 -0.75 0.4 1.0 0.0 0.0 0.0 0\n"
     ]
    },
    {
     "name": "stderr",
     "output_type": "stream",
     "text": [
      "INFO:root:Spherical model atmosphere with radius 2.05e+11 cm\n",
      "[2023-11-10 13:51:47,120] [INFO] [turbospectrum:generate_spectrum:88]: Spherical model atmosphere with radius 2.05e+11 cm\n",
      "INFO:root:Spherical model atmosphere with radius 2.05e+11 cm\n",
      "[2023-11-10 13:51:47,133] [INFO] [turbospectrum:generate_spectrum:88]: Spherical model atmosphere with radius 2.05e+11 cm\n"
     ]
    },
    {
     "name": "stdout",
     "output_type": "stream",
     "text": [
      "[finished] 4000 3.0 0.0 0.4 1.48 0.0 0.0 0.0 0\n",
      "[started] 4000 3.5 -0.5 0.0 1.01 0.0[finished]  4000 0.0 3.00.0  0.00 \n",
      "0.0 1.48 0.0 0.0 0.0 0\n",
      "[started] 4000 3.5 -0.5 0.4 1.01 0.0 0.0 0.0 0\n"
     ]
    },
    {
     "name": "stderr",
     "output_type": "stream",
     "text": [
      "INFO:root:Spherical model atmosphere with radius 2.05e+11 cm\n",
      "[2023-11-10 13:51:47,929] [INFO] [turbospectrum:generate_spectrum:88]: Spherical model atmosphere with radius 2.05e+11 cm\n",
      "INFO:root:Spherical model atmosphere with radius 2.05e+11 cm\n",
      "[2023-11-10 13:51:47,981] [INFO] [turbospectrum:generate_spectrum:88]: Spherical model atmosphere with radius 2.05e+11 cm\n"
     ]
    },
    {
     "name": "stdout",
     "output_type": "stream",
     "text": [
      "[finished] 4000 3.0 0.25 0.0 1.49 0.0 0.0 0.0 0\n",
      "[started] 4000 3.5 -0.25 0.0 1.02 0.0 0.0 0.0 0\n",
      "[finished] "
     ]
    },
    {
     "name": "stderr",
     "output_type": "stream",
     "text": [
      "INFO:root:Spherical model atmosphere with radius 2.05e+11 cm\n"
     ]
    },
    {
     "name": "stdout",
     "output_type": "stream",
     "text": [
      "4000"
     ]
    },
    {
     "name": "stderr",
     "output_type": "stream",
     "text": [
      "[2023-11-10 13:52:28,330] [INFO] [turbospectrum:generate_spectrum:88]: Spherical model atmosphere with radius 2.05e+11 cm\n"
     ]
    },
    {
     "name": "stdout",
     "output_type": "stream",
     "text": [
      " 3.0 0.25 0.4 1.49 0.0 0.0 0.0 0\n",
      "[started] 4000 3.5 -0.25 0.4 1.02 0.0 0.0 0.0 0\n"
     ]
    },
    {
     "name": "stderr",
     "output_type": "stream",
     "text": [
      "INFO:root:Spherical model atmosphere with radius 2.05e+11 cm\n",
      "[2023-11-10 13:52:28,461] [INFO] [turbospectrum:generate_spectrum:88]: Spherical model atmosphere with radius 2.05e+11 cm\n"
     ]
    },
    {
     "name": "stdout",
     "output_type": "stream",
     "text": [
      "[finished] 4000 3.0 0.5 0.4 1.51 0.0 0.0 0.0 0\n",
      "[started] 4000 3.5 0.0 0.0 1.03 0.0 0.0 0.0 0\n"
     ]
    },
    {
     "name": "stderr",
     "output_type": "stream",
     "text": [
      "INFO:root:Spherical model atmosphere with radius 2.05e+11 cm\n",
      "[2023-11-10 13:52:29,155] [INFO] [turbospectrum:generate_spectrum:88]: Spherical model atmosphere with radius 2.05e+11 cm\n"
     ]
    },
    {
     "name": "stdout",
     "output_type": "stream",
     "text": [
      "[finished] 4000 3.0 0.5 0.0 1.51 0.0 0.0 0.0 0\n",
      "[started] 4000 3.5 0.0 0.4 1.03 0.0 0.0 0.0 0\n"
     ]
    },
    {
     "name": "stderr",
     "output_type": "stream",
     "text": [
      "INFO:root:Spherical model atmosphere with radius 2.05e+11 cm\n",
      "[2023-11-10 13:52:29,287] [INFO] [turbospectrum:generate_spectrum:88]: Spherical model atmosphere with radius 2.05e+11 cm\n"
     ]
    },
    {
     "name": "stdout",
     "output_type": "stream",
     "text": [
      "[finished] 4000 3.5 -1.0 0.4 0.99 0.0 0.0 0.0 0\n",
      "[started] 4000 3.5 0.25 0.0 1.04 0.0 0.0 0.0 0\n",
      "[finished] 4000 3.5 -0.75 0.4 1.0 0.0 0.0 0.0 0\n",
      "[started] 4000 3.5 0.25 0.4 1.04[finished]  0.04000 "
     ]
    },
    {
     "name": "stderr",
     "output_type": "stream",
     "text": [
      "INFO:root:Spherical model atmosphere with radius 2.05e+11 cm\n"
     ]
    },
    {
     "name": "stdout",
     "output_type": "stream",
     "text": [
      "3.5  "
     ]
    },
    {
     "name": "stderr",
     "output_type": "stream",
     "text": [
      "[2023-11-10 13:52:36,829] [INFO] [turbospectrum:generate_spectrum:88]: Spherical model atmosphere with radius 2.05e+11 cm\n"
     ]
    },
    {
     "name": "stdout",
     "output_type": "stream",
     "text": [
      "0.0 -0.750.0  0.00\n",
      " 1.0 0.0 0.0 0.0 0\n",
      "[started] 4000 3.5 0.5 0.0 1.06[finished]  0.04000  3.50.0  -0.50.0  0.40 \n",
      "1.01 0.0 0.0 0.0 0\n",
      "[started] 4000 3.5 0.5 0.4 1.06 0.0 0.0 "
     ]
    },
    {
     "name": "stderr",
     "output_type": "stream",
     "text": [
      "INFO:root:Spherical model atmosphere with radius 2.05e+11 cm\n",
      "[2023-11-10 13:52:36,915] [INFO] [turbospectrum:generate_spectrum:88]: Spherical model atmosphere with radius 2.05e+11 cm\n"
     ]
    },
    {
     "name": "stdout",
     "output_type": "stream",
     "text": [
      "0.0 0\n"
     ]
    },
    {
     "name": "stderr",
     "output_type": "stream",
     "text": [
      "INFO:root:Spherical model atmosphere with radius 2.05e+11 cm\n",
      "[2023-11-10 13:52:36,958] [INFO] [turbospectrum:generate_spectrum:88]: Spherical model atmosphere with radius 2.05e+11 cm\n",
      "INFO:root:Spherical model atmosphere with radius 2.05e+11 cm\n",
      "[2023-11-10 13:52:37,008] [INFO] [turbospectrum:generate_spectrum:88]: Spherical model atmosphere with radius 2.05e+11 cm\n"
     ]
    },
    {
     "name": "stdout",
     "output_type": "stream",
     "text": [
      "[finished] 4000 3.5 -0.5 0.0 1.01 0.0 0.0 0.0 0\n",
      "[started] 4000 4.0 -1.0 0.0 0.92 0.0 0.0 0.0 0\n",
      "[finished] 4000 3.5 -1.0 0.0 0.99 0.0 0.0 0.0 0\n",
      "[started] 4000 4.0 -1.0 0.4 0.92 0.0 0.0 0.0 0\n",
      "[finished] 4000 4.0 -1.0 0.4 0.92 0.0 0.0 0.0 0\n",
      "[started] 4000 4.0 -0.75 0.0 0.93 0.0 0.0 0.0 0\n",
      "[finished] 4000 4.0 -1.0 0.0 0.92 0.0 0.0 0.0 0\n",
      "[started] 4000 4.0 -0.75 0.4 0.93 0.0 0.0 0.0 0\n",
      "[finished] 4000 3.5 -0.25 0.0 1.02 0.0 0.0 0.0 0\n",
      "[started] 4000 4.0 -0.5 0.0 0.94 0.0 0.0 0.0 0\n",
      "[finished] 4000 3.5 0.0 0.0 1.03 0.0 0.0 0.0 0\n",
      "[started] 4000 4.0 -0.5 0.4 0.94 0.0 0.0 0.0 0\n",
      "[finished] 4000 3.5 0.0 0.4 1.03 0.0 0.0 0.0 0\n",
      "[started] 4000 4.0 -0.25 0.0 0.95 0.0 0.0 0.0 0\n",
      "[finished] 4000 3.5 -0.25 0.4 1.02 0.0 0.0 0.0 0\n",
      "[started] 4000 4.0 -0.25 0.4 0.95 0.0 0.0 0.0 0\n",
      "[finished] 4000 3.5 0.5 0.4 1.06 0.0 0.0 0.0 0\n",
      "[started] 4000 4.0 0.0 0.0 0.96 0.0 0.0 0.0 0\n",
      "[finished] 4000 3.5 0.25 0.4 1.04 0.0 0.0 0.0 0[finished]\n",
      " 4000 3.5 0.25 0.0 1.04 [started]0.0  0.04000  4.0 0.0 00.0 \n",
      "0.4 0.96 0.0 0.0 0.0 0\n",
      "[started] 4000 4.0 0.25 0.0 0.98 0.0 [finished]0.0  40000.0  3.50 \n",
      "0.5 0.0 1.06 0.0 0.0 0.0 0\n",
      "[started] 4000 4.0 0.25 0.4 0.98 0.0 0.0 0.0 0\n",
      "[finished] 4000 4.0 -0.75 0.4 0.93 0.0 0.0 0.0 0\n",
      "[started] 4000 4.0 0.5 0.0 0.99 0.0 0.0 0.0 0\n",
      "[finished] 4000 4.0 -0.75 0.0 0.93 0.0 0.0 0.0 0\n",
      "[started] 4000 4.0 0.5 0.4 0.99 0.0 0.0 0.0 0\n",
      "[finished] 4000 4.0 -0.5 0.4 0.94 0.0 0.0 0.0 0\n",
      "[started] 4000 4.5 -1.0 0.0 0.85 0.0 0.0 0.0 0\n",
      "[finished] 4000 4.0 -0.5 0.0 0.94 0.0 0.0 0.0 0\n",
      "[started] 4000 4.5 -1.0 0.4 0.85 0.0 0.0 0.0 0\n",
      "[finished] 4000 4.0 -0.25 0.0 0.95 0.0 0.0 0.0 0\n",
      "[started] 4000 4.5 -0.75 0.0 0.86 0.0 0.0 0.0 0\n",
      "[finished] 4000 4.0 -0.25 0.4 0.95 0.0 0.0 0.0 0\n",
      "[started] 4000 4.5 -0.75 0.4 0.86 0.0 0.0 0.0 0\n",
      "[finished] 4000 4.0 0.25 0.0 0.98 0.0 0.0 0.0 0\n",
      "[started] 4000 4.5 -0.5 0.0 0.87 0.0 0.0 [finished]0.0  40000 \n",
      "4.0 0.25 0.4 0.98 0.0 0.0 0.0 0\n",
      "[started] 4000 4.5 [finished]-0.5  0.44000  0.874.0  0.00.0  0.00.0  0.960.0 0.0 0 \n",
      "0.0 0.0 0\n",
      "[started] 4000 4.5 -0.25 0.0 0.88 0.0 0.0 0.0 0\n",
      "[finished] 4000 4.0 0.0 0.4 0.96 0.0 0.0 0.0 0\n",
      "[started] 4000 4.5 -0.25 0.4 0.88 0.0 0.0 0.0 0\n",
      "[finished] 4000 4.0 0.5 0.0 0.99 0.0 0.0 0.0 0\n",
      "[started] 4000 4.5 0.0 0.0 0.89 0.0 0.0 0.0 0\n",
      "[finished] 4000 4.0 0.5 0.4 0.99 0.0 0.0 0.0 0\n",
      "[started] 4000 4.5 0.0 0.4 0.89 0.0 0.0 0.0 0\n",
      "[finished] 4000 4.5 -1.0 0.4 0.85 0.0 0.0 0.0 0\n",
      "[started] 4000 4.5 0.25 0.0 0.9 0.0 0.0 0.0 0\n",
      "[finished] 4000 4.5 -1.0 0.0 0.85 0.0 0.0 0.0 0\n",
      "[started] 4000 4.5 0.25 0.4 0.9 0.0 0.0 0.0 0\n",
      "[finished] 4000 4.5 -0.75 0.4 0.86 0.0 0.0 0.0 0\n",
      "[started] 4000 4.5 0.5 0.0 0.92[finished]  40000.0  4.50.0  -0.750.0  0.00 \n",
      "0.86 0.0 0.0 0.0 0\n",
      "[started] 4000 4.5 0.5 0.4 0.92 0.0 0.0 0.0 0\n",
      "[finished] 4000 4.5 -0.5 0.4 0.87 0.0 0.0 0.0 0\n",
      "[started] 4000 5.0 -1.0 0.0 0.78 0.0 0.0 0.0 0\n",
      "[finished] 4000 4.5 -0.5 0.0 0.87 0.0 0.0 0.0 0\n",
      "[started] 4000 5.0 -1.0 0.4 0.78 0.0 0.0 0.0 0\n",
      "[finished] 4000 4.5 -0.25 0.0 0.88 0.0 0.0 0.0 0\n",
      "[started] 4000 5.0 -0.75 0.0 0.79 0.0 0.0 0.0 0\n",
      "[finished] 4000 4.5 -0.25 0.4 0.88 0.0 0.0 0.0 0\n",
      "[started] 4000 5.0 -0.75 0.4 0.79 0.0 0.0 0.0 0\n",
      "[finished] 4000 4.5 0.0 0.4 0.89 0.0 0.0 0.0 0\n",
      "[started] 4000 5.0 -0.5 0.0 0.79 0.0 0.0 0.0 0\n",
      "[finished] 4000 4.5 0.0 0.0 0.89 0.0 0.0 0.0 0\n",
      "[started] 4000 5.0 -0.5 0.4 0.79 0.0 0.0 0.0 0\n",
      "[finished] 4000 4.5 0.25 0.4 0.9 0.0 0.0 0.0 0\n",
      "[started] 4000 5.0 -0.25 0.0 0.81 0.0 0.0 0.0 0\n",
      "[finished] 4000 4.5 0.25 0.0 0.9 0.0 0.0 0.0 0\n",
      "[finished] [started]4000  4.5 40000.5  5.00.4  0.92 -0.250.0  0.00.4  0.810.0 0.0  00.0\n",
      " 0.0 0\n",
      "[started] 4000 5.0 0.0 0.0 0.82 0.0 0.0 0.0 0\n",
      "[finished] 4000 4.5 0.5 0.0 0.92 0.0 0.0 0.0 0\n",
      "[started] 4000 5.0 0.0 0.4 0.82 0.0 0.0 0.0 0\n",
      "[finished] 4000 5.0 -1.0 0.4 0.78 0.0 0.0 0.0 0\n",
      "[started] 4000 5.0 0.25 0.0 0.83 0.0 0.0 0.0 0\n",
      "[finished] 4000 5.0 -0.75 0.4 0.79 0.0 0.0 0.0 0\n",
      "[started] 4000 5.0 0.25 0.4 0.83 0.0 0.0 0.0 0\n",
      "[finished] 4000 5.0 -1.0 0.0 0.78 0.0 0.0 0.0 0\n",
      "[started] 4000 5.0 0.5 0.0 0.84 0.0 0.0 0.0 0\n",
      "[finished] 4000 5.0 -0.75 0.0 0.79 0.0 0.0 0.0 0\n",
      "[started] 4000 5.0 0.5 0.4 0.84 0.0 0.0 0.0 0\n",
      "[finished] 4000 5.0 -0.5 0.4 0.79 0.0 0.0 0.0 0\n",
      "[started] 4250 3.0 -1.0 0.0 1.33 0.0 0.0 0.0 0\n",
      "[finished] 4000 5.0 -0.5 0.0 0.79 0.0 0.0 0.0 0\n",
      "[started] 4250 3.0 -1.0 0.4 1.33 0.0 0.0 0.0"
     ]
    },
    {
     "name": "stderr",
     "output_type": "stream",
     "text": [
      "INFO:root:Spherical model atmosphere with radius 3.65e+11 cm\n"
     ]
    },
    {
     "name": "stdout",
     "output_type": "stream",
     "text": [
      " "
     ]
    },
    {
     "name": "stderr",
     "output_type": "stream",
     "text": [
      "[2023-11-10 13:55:51,252] [INFO] [turbospectrum:generate_spectrum:88]: Spherical model atmosphere with radius 3.65e+11 cm\n"
     ]
    },
    {
     "name": "stdout",
     "output_type": "stream",
     "text": [
      "0\n"
     ]
    },
    {
     "name": "stderr",
     "output_type": "stream",
     "text": [
      "INFO:root:Spherical model atmosphere with radius 3.65e+11 cm\n",
      "[2023-11-10 13:55:51,338] [INFO] [turbospectrum:generate_spectrum:88]: Spherical model atmosphere with radius 3.65e+11 cm\n"
     ]
    },
    {
     "name": "stdout",
     "output_type": "stream",
     "text": [
      "[finished] 4000 5.0 -0.25 0.4 0.81 0.0 0.0 0.0 0\n",
      "[started] 4250 3.0 -0.75 0.0 1.34 0.0 0.0 0.0 0\n",
      "[finished] 4000 5.0 -0.25 0.0 0.81 0.0 0.0 0.0 0\n",
      "[started] 4250 3.0 -0.75 0.4 1.34 0.0 0.0 0.0"
     ]
    },
    {
     "name": "stderr",
     "output_type": "stream",
     "text": [
      "INFO:root:Spherical model atmosphere with radius 3.65e+11 cm\n"
     ]
    },
    {
     "name": "stdout",
     "output_type": "stream",
     "text": [
      " 0"
     ]
    },
    {
     "name": "stderr",
     "output_type": "stream",
     "text": [
      "[2023-11-10 13:55:53,651] [INFO] [turbospectrum:generate_spectrum:88]: Spherical model atmosphere with radius 3.65e+11 cm\n"
     ]
    },
    {
     "name": "stdout",
     "output_type": "stream",
     "text": [
      "\n"
     ]
    },
    {
     "name": "stderr",
     "output_type": "stream",
     "text": [
      "INFO:root:Spherical model atmosphere with radius 3.65e+11 cm\n",
      "[2023-11-10 13:55:53,743] [INFO] [turbospectrum:generate_spectrum:88]: Spherical model atmosphere with radius 3.65e+11 cm\n"
     ]
    },
    {
     "name": "stdout",
     "output_type": "stream",
     "text": [
      "[finished] 4000 5.0 0.0 0.0 0.82 0.0 0.0 0.0 0\n",
      "[started] 4250 3.0 -0.5 0.0 1.35 0.0 0.0 0.0 0\n",
      "[finished] 4000 5.0 0.0 0.4 0.82 0.0 0.0 0.0 0\n",
      "[started] 4250 3.0 -0.5 0.4 1.35 0.0 0.0 0.0 0\n"
     ]
    },
    {
     "name": "stderr",
     "output_type": "stream",
     "text": [
      "INFO:root:Spherical model atmosphere with radius 3.65e+11 cm\n",
      "[2023-11-10 13:55:53,926] [INFO] [turbospectrum:generate_spectrum:88]: Spherical model atmosphere with radius 3.65e+11 cm\n",
      "INFO:root:Spherical model atmosphere with radius 3.65e+11 cm\n",
      "[2023-11-10 13:55:54,010] [INFO] [turbospectrum:generate_spectrum:88]: Spherical model atmosphere with radius 3.65e+11 cm\n"
     ]
    },
    {
     "name": "stdout",
     "output_type": "stream",
     "text": [
      "[finished] 4000 5.0 0.25 0.0 0.83 0.0 0.0 0.0 0\n",
      "[started] 4250 3.0 -0.25 0.0 1.36 0.0 0.0 0.0 0\n"
     ]
    },
    {
     "name": "stderr",
     "output_type": "stream",
     "text": [
      "INFO:root:Spherical model atmosphere with radius 3.65e+11 cm\n",
      "[2023-11-10 13:56:00,883] [INFO] [turbospectrum:generate_spectrum:88]: Spherical model atmosphere with radius 3.65e+11 cm\n"
     ]
    },
    {
     "name": "stdout",
     "output_type": "stream",
     "text": [
      "[finished] 4000 5.0 0.25 0.4 0.83 0.0 0.0 0.0 0\n",
      "[started] 4250 3.0 -0.25 0.4 1.36 0.0 0.0 0.0 0\n"
     ]
    },
    {
     "name": "stderr",
     "output_type": "stream",
     "text": [
      "INFO:root:Spherical model atmosphere with radius 3.65e+11 cm\n",
      "[2023-11-10 13:56:01,096] [INFO] [turbospectrum:generate_spectrum:88]: Spherical model atmosphere with radius 3.65e+11 cm\n"
     ]
    },
    {
     "name": "stdout",
     "output_type": "stream",
     "text": [
      "[finished] 4000 5.0 0.5 0.0 0.84 0.0 0.0 0.0 0\n",
      "[started] 4250 3.0 0.0 0.0 1.37 0.0 0.0 0.0 0\n"
     ]
    },
    {
     "name": "stderr",
     "output_type": "stream",
     "text": [
      "INFO:root:Spherical model atmosphere with radius 3.65e+11 cm\n",
      "[2023-11-10 13:56:01,474] [INFO] [turbospectrum:generate_spectrum:88]: Spherical model atmosphere with radius 3.65e+11 cm\n"
     ]
    },
    {
     "name": "stdout",
     "output_type": "stream",
     "text": [
      "[finished] 4000 5.0 0.5 0.4 0.84 0.0 0.0 0.0 0\n",
      "[started] 4250 3.0 0.0 0.4 1.37 0.0 0.0 0.0 0\n"
     ]
    },
    {
     "name": "stderr",
     "output_type": "stream",
     "text": [
      "INFO:root:Spherical model atmosphere with radius 3.65e+11 cm\n",
      "[2023-11-10 13:56:01,697] [INFO] [turbospectrum:generate_spectrum:88]: Spherical model atmosphere with radius 3.65e+11 cm\n"
     ]
    },
    {
     "name": "stdout",
     "output_type": "stream",
     "text": [
      "[finished] 4250 3.0 -1.0 0.4 1.33 0.0 0.0 0.0 0\n",
      "[started] 4250 3.0 0.25 0.0 1.38 0.0 0.0 0.0 0\n"
     ]
    },
    {
     "name": "stderr",
     "output_type": "stream",
     "text": [
      "INFO:root:Spherical model atmosphere with radius 3.65e+11 cm\n",
      "[2023-11-10 13:56:41,952] [INFO] [turbospectrum:generate_spectrum:88]: Spherical model atmosphere with radius 3.65e+11 cm\n"
     ]
    },
    {
     "name": "stdout",
     "output_type": "stream",
     "text": [
      "[finished] 4250 3.0 -1.0 0.0 1.33 0.0 0.0 0.0 0\n",
      "[started] 4250 3.0 0.25 0.4 1.38 0.0 0.0 0.0 0\n"
     ]
    },
    {
     "name": "stderr",
     "output_type": "stream",
     "text": [
      "INFO:root:Spherical model atmosphere with radius 3.65e+11 cm\n",
      "[2023-11-10 13:56:42,223] [INFO] [turbospectrum:generate_spectrum:88]: Spherical model atmosphere with radius 3.65e+11 cm\n"
     ]
    },
    {
     "name": "stdout",
     "output_type": "stream",
     "text": [
      "[finished] 4250 3.0 -0.5 0.4 1.35 0.0 0.0 0.0 0\n",
      "[started] 4250 3.0 0.5 0.0 1.4 0.0 0.0 0.0 0\n"
     ]
    },
    {
     "name": "stderr",
     "output_type": "stream",
     "text": [
      "INFO:root:Spherical model atmosphere with radius 3.65e+11 cm\n",
      "[2023-11-10 13:56:43,694] [INFO] [turbospectrum:generate_spectrum:88]: Spherical model atmosphere with radius 3.65e+11 cm\n"
     ]
    },
    {
     "name": "stdout",
     "output_type": "stream",
     "text": [
      "[finished] 4250[finished]  3.04250 -0.75  0.03.0  1.34-0.75  0.00.4  0.01.34  0.0 0\n",
      "0.0 0.0 0.0 0\n",
      "[started] 4250 3.0 0.5 0.4 1.4[started]  0.04250  3.5 0.0-1.0  0.00.0  00.99 \n",
      "0.0 0.0 0.0 0\n"
     ]
    },
    {
     "name": "stderr",
     "output_type": "stream",
     "text": [
      "INFO:root:Spherical model atmosphere with radius 3.65e+11 cm\n",
      "[2023-11-10 13:56:44,096] [INFO] [turbospectrum:generate_spectrum:88]: Spherical model atmosphere with radius 3.65e+11 cm\n",
      "INFO:root:Spherical model atmosphere with radius 2.05e+11 cm\n",
      "[2023-11-10 13:56:44,115] [INFO] [turbospectrum:generate_spectrum:88]: Spherical model atmosphere with radius 2.05e+11 cm\n"
     ]
    },
    {
     "name": "stdout",
     "output_type": "stream",
     "text": [
      "[finished] 4250 3.0 -0.5 0.0 1.35 0.0 0.0 0.0 0\n",
      "[started] 4250 3.5 -1.0 0.4 0.99 0.0 0.0 0.0 0\n"
     ]
    },
    {
     "name": "stderr",
     "output_type": "stream",
     "text": [
      "INFO:root:Spherical model atmosphere with radius 2.05e+11 cm\n",
      "[2023-11-10 13:56:44,535] [INFO] [turbospectrum:generate_spectrum:88]: Spherical model atmosphere with radius 2.05e+11 cm\n"
     ]
    },
    {
     "name": "stdout",
     "output_type": "stream",
     "text": [
      "[finished] 4250 3.0 -0.25 0.4 1.36 0.0 0.0 0.0 0\n",
      "[started] 4250 3.5 -0.75 0.0 1.0 0.0 0.0 0.0 0\n"
     ]
    },
    {
     "name": "stderr",
     "output_type": "stream",
     "text": [
      "INFO:root:Spherical model atmosphere with radius 2.05e+11 cm\n",
      "[2023-11-10 13:56:50,533] [INFO] [turbospectrum:generate_spectrum:88]: Spherical model atmosphere with radius 2.05e+11 cm\n"
     ]
    },
    {
     "name": "stdout",
     "output_type": "stream",
     "text": [
      "[finished] 4250 3.0 0.0 0.4 1.37 0.0 0.0 0.0 0\n",
      "[started] 4250 3.5 -0.75 0.4 1.0 0.0 0.0 0.0 0\n",
      "[finished] 4250 3.0 -0.25 0.0 1.36 0.0 0.0 0.0 0\n",
      "[started] 4250 3.5 -0.5 0.0 1.01 0.0 0.0 0.0 0\n"
     ]
    },
    {
     "name": "stderr",
     "output_type": "stream",
     "text": [
      "INFO:root:Spherical model atmosphere with radius 2.05e+11 cm\n",
      "[2023-11-10 13:56:50,699] [INFO] [turbospectrum:generate_spectrum:88]: Spherical model atmosphere with radius 2.05e+11 cm\n",
      "INFO:root:Spherical model atmosphere with radius 2.05e+11 cm\n",
      "[2023-11-10 13:56:50,764] [INFO] [turbospectrum:generate_spectrum:88]: Spherical model atmosphere with radius 2.05e+11 cm\n"
     ]
    },
    {
     "name": "stdout",
     "output_type": "stream",
     "text": [
      "[finished] 4250 3.0 0.0 0.0 1.37 0.0 0.0 0.0 0\n",
      "[started] 4250 3.5 -0.5 0.4 1.01 0.0 0.0 0.0 0\n"
     ]
    },
    {
     "name": "stderr",
     "output_type": "stream",
     "text": [
      "INFO:root:Spherical model atmosphere with radius 2.05e+11 cm\n",
      "[2023-11-10 13:56:51,038] [INFO] [turbospectrum:generate_spectrum:88]: Spherical model atmosphere with radius 2.05e+11 cm\n"
     ]
    },
    {
     "name": "stdout",
     "output_type": "stream",
     "text": [
      "[finished] 4250 3.0 0.25 0.0 1.38 0.0 0.0 0.0 0\n",
      "[finished] 4250 3.0 0.25 0.4 1.38 0.0 0.0 0.0 0\n",
      "[started] 4250 3.5 -0.25 0.0 1.02 0.0[started] 0.0  42500.0  03.5\n",
      " -0.25 0.4 1.02 0.0 0.0 0.0 0\n"
     ]
    },
    {
     "name": "stderr",
     "output_type": "stream",
     "text": [
      "INFO:root:Spherical model atmosphere with radius 2.05e+11 cm\n",
      "[2023-11-10 13:57:31,060] [INFO] [turbospectrum:generate_spectrum:88]: Spherical model atmosphere with radius 2.05e+11 cm\n",
      "INFO:root:Spherical model atmosphere with radius 2.05e+11 cm\n",
      "[2023-11-10 13:57:31,075] [INFO] [turbospectrum:generate_spectrum:88]: Spherical model atmosphere with radius 2.05e+11 cm\n"
     ]
    },
    {
     "name": "stdout",
     "output_type": "stream",
     "text": [
      "[finished] 4250 3.0 0.5 0.0 1.4 0.0 0.0 0.0 0\n",
      "[started] 4250 3.5 0.0 0.0 1.03 0.0 0.0 0.0 0\n"
     ]
    },
    {
     "name": "stderr",
     "output_type": "stream",
     "text": [
      "INFO:root:Spherical model atmosphere with radius 2.05e+11 cm\n",
      "[2023-11-10 13:57:32,383] [INFO] [turbospectrum:generate_spectrum:88]: Spherical model atmosphere with radius 2.05e+11 cm\n"
     ]
    },
    {
     "name": "stdout",
     "output_type": "stream",
     "text": [
      "[finished] 4250 3.0 0.5 0.4 1.4 0.0 0.0 0.0 0\n",
      "[started] 4250 3.5 0.0 0.4 1.03 0.0 0.0 0.0 0\n"
     ]
    },
    {
     "name": "stderr",
     "output_type": "stream",
     "text": [
      "INFO:root:Spherical model atmosphere with radius 2.05e+11 cm\n",
      "[2023-11-10 13:57:33,075] [INFO] [turbospectrum:generate_spectrum:88]: Spherical model atmosphere with radius 2.05e+11 cm\n"
     ]
    },
    {
     "name": "stdout",
     "output_type": "stream",
     "text": [
      "[finished] 4250 3.5 -1.0 0.4 0.99 0.0 0.0 0.0 0\n",
      "[started] 4250 3.5 0.25 0.0 1.04[finished]  0.0 4250 0.03.5  0.0-1.0  00.0 \n",
      "0.99 0.0 0.0 0.0 0\n",
      "[started] 4250 3.5 0.25 0.4 1.04 0.0 0.0 0.0 0\n"
     ]
    },
    {
     "name": "stderr",
     "output_type": "stream",
     "text": [
      "INFO:root:Spherical model atmosphere with radius 2.05e+11 cm\n",
      "[2023-11-10 13:57:34,121] [INFO] [turbospectrum:generate_spectrum:88]: Spherical model atmosphere with radius 2.05e+11 cm\n",
      "INFO:root:Spherical model atmosphere with radius 2.05e+11 cm\n",
      "[2023-11-10 13:57:34,171] [INFO] [turbospectrum:generate_spectrum:88]: Spherical model atmosphere with radius 2.05e+11 cm\n"
     ]
    },
    {
     "name": "stdout",
     "output_type": "stream",
     "text": [
      "[finished] 4250 3.5 -0.75 0.0 1.0 0.0 0.0 0.0 0\n",
      "[started] 4250 3.5 0.5 0.0 1.06 0.0 0.0 0.0 0\n"
     ]
    },
    {
     "name": "stderr",
     "output_type": "stream",
     "text": [
      "INFO:root:Spherical model atmosphere with radius 2.05e+11 cm\n",
      "[2023-11-10 13:57:39,368] [INFO] [turbospectrum:generate_spectrum:88]: Spherical model atmosphere with radius 2.05e+11 cm\n"
     ]
    },
    {
     "name": "stdout",
     "output_type": "stream",
     "text": [
      "[finished] 4250 3.5 -0.5 0.0 1.01 0.0 0.0 0.0 0\n",
      "[started] 4250 3.5 0.5 0.4 1.06 0.0 0.0 0.0 0\n"
     ]
    },
    {
     "name": "stderr",
     "output_type": "stream",
     "text": [
      "INFO:root:Spherical model atmosphere with radius 2.05e+11 cm\n",
      "[2023-11-10 13:57:39,526] [INFO] [turbospectrum:generate_spectrum:88]: Spherical model atmosphere with radius 2.05e+11 cm\n"
     ]
    },
    {
     "name": "stdout",
     "output_type": "stream",
     "text": [
      "[finished] 4250 3.5 -0.75 0.4 1.0 0.0 0.0 0.0 0\n",
      "[started] 4250 4.0 -1.0 0.0 0.92 0.0 0.0 0.0 0\n",
      "[finished] 4250 3.5 -0.5 0.4 1.01 0.0 0.0 0.0 0\n",
      "[started] 4250 4.0 -1.0 0.4 0.92 0.0 0.0 0.0 0\n",
      "[finished] 4250 4.0 -1.0 0.4 0.92 0.0[finished]  42500.0  4.00.0  -1.00 \n",
      "0.0 0.92 0.0 0.0 0.0 0\n",
      "[started] 4250 4.0 -0.75 0.0 0.93 0.0 0.0 [started]0.0  42500\n",
      " 4.0 -0.75 0.4 0.93 0.0 0.0 0.0 0\n",
      "[finished] 4250 3.5 -0.25 0.4 1.02 0.0 0.0 0.0 0\n",
      "[started] 4250 4.0 -0.5 0.0 0.94 0.0 0.0 0.0 0\n",
      "[finished] 4250 3.5 -0.25 0.0 1.02 0.0 0.0 0.0 0\n",
      "[started] 4250 4.0 -0.5 0.4 0.94 0.0 0.0 0.0 0\n",
      "[finished] 4250 3.5 0.0 0.0 1.03 0.0 0.0 0.0 0\n",
      "[started] 4250 4.0 -0.25 0.0 0.95 0.0 0.0 0.0 0\n",
      "[finished] 4250 3.5 0.0 0.4 1.03 0.0 0.0 0.0 0\n",
      "[started] 4250 4.0 -0.25 0.4 0.95 0.0 0.0 0.0 0\n",
      "[finished] 4250 3.5 0.25 0.0 1.04 0.0 0.0 0.0 0\n",
      "[started] 4250 4.0 0.0 0.0 0.96 0.0 0.0 0.0 0\n",
      "[finished] 4250 3.5 0.25 0.4 1.04 0.0 0.0 0.0 0\n",
      "[started] 4250 4.0 0.0 0.4 0.96 0.0 0.0 0.0 0\n",
      "[finished] 4250 3.5 0.5 0.0 1.06 0.0 0.0 0.0 0\n",
      "[started] 4250 4.0 0.25 0.0 0.98 0.0 0.0 0.0 0\n",
      "[finished] 4250 3.5 0.5 0.4 1.06 0.0 0.0 0.0 0\n",
      "[started] 4250 4.0 0.25 0.4 0.98 0.0 0.0 0.0 0\n",
      "[finished] 4250 4.0 -0.75 0.0 0.93 0.0 0.0 0.0 0\n",
      "[started] 4250 4.0 0.5 0.0 0.99 0.0 0.0 0.0 0\n",
      "[finished] 4250 4.0 -0.75 0.4 0.93 0.0 0.0 0.0 0\n",
      "[started] 4250 4.0 0.5 0.4 0.99 0.0 0.0 0.0 0\n",
      "[finished] 4250 4.0 -0.5 0.0 0.94 0.0 0.0 0.0 0\n",
      "[started] 4250 4.5 -1.0 0.0 0.85 0.0 0.0 0.0 0\n",
      "[finished] 4250 4.0 -0.5 0.4 0.94 0.0 0.0 0.0 0\n",
      "[started] 4250 4.5 -1.0 0.4 0.85 0.0 0.0 0.0 0\n",
      "[finished] 4250 4.0 -0.25 0.0 0.95 0.0 0.0 0.0 0\n",
      "[started] 4250 4.5 -0.75 0.0 0.86 0.0 0.0 0.0 0\n",
      "[finished] 4250 4.0 -0.25 0.4 0.95 0.0 0.0 0.0 0\n",
      "[started] 4250 4.5 -0.75 0.4 0.86 0.0 0.0 0.0 0\n",
      "[finished] 4250 4.0 0.0 0.0 0.96 0.0 0.0 0.0 0\n",
      "[started] 4250 4.5 -0.5 0.0 0.87 0.0 0.0 0.0 0\n",
      "[finished] 4250 4.0 0.0 0.4 0.96 0.0 0.0 0.0 0\n",
      "[started] 4250 4.5 -0.5 0.4 0.87 0.0 0.0 0.0 0\n",
      "[finished] 4250 4.0 0.25 0.4 0.98 0.0 0.0 0.0 0\n",
      "[started] 4250 4.5 -0.25 0.0 0.88 0.0 0.0 0.0 0\n",
      "[finished] 4250 4.0 0.25 0.0 0.98 0.0 0.0 0.0 0\n",
      "[started] 4250 4.5 -0.25 0.4 0.88 0.0 0.0 0.0 0\n",
      "[finished] 4250 4.0 0.5 0.0 0.99 0.0 0.0 0.0 0[finished]\n",
      " 4250 4.0 0.5 0.4 0.99 0.0 0.0 0.0 0\n",
      "[started] 4250 4.5 0.0 0.0 0.89 0.0 0.0 0.0 0\n",
      "[started] 4250 4.5 0.0 0.4 0.89 0.0 0.0 0.0 0\n",
      "[finished] 4250 4.5 -1.0 0.4 0.85 0.0 0.0 0.0 0\n",
      "[started] 4250 4.5 0.25 0.0 0.9 0.0 0.0 0.0 0\n",
      "[finished] 4250 4.5 -1.0 0.0 0.85 0.0 0.0 0.0 0\n",
      "[started] 4250 4.5 0.25 0.4 0.9 0.0 0.0 0.0 0\n",
      "[finished] 4250 4.5 -0.75 0.0 0.86 0.0 0.0 0.0 0\n",
      "[started] 4250 4.5 0.5 0.0 0.92 0.0 0.0 0.0 0\n",
      "[finished] 4250 4.5 -0.75 0.4 0.86 0.0 0.0 0.0 0\n",
      "[started] 4250 4.5 0.5 0.4 0.92 0.0 0.0 0.0 0\n",
      "[finished] 4250 4.5 -0.5 0.4 0.87 0.0 0.0 0.0 0\n",
      "[started] 4250 5.0 -1.0 0.0 0.78 0.0 0.0 0.0 0\n",
      "[finished] 4250 4.5 -0.5 0.0 0.87 0.0 0.0 0.0 0\n",
      "[started] 4250 5.0 -1.0 0.4 0.78 0.0 0.0 0.0 0\n",
      "[finished] 4250 4.5 -0.25 0.0 0.88 0.0 0.0 0.0 0\n",
      "[started] 4250 5.0 -0.75 0.0 0.79 0.0 0.0 0.0 0\n",
      "[finished] 4250 4.5 -0.25 0.4 0.88 0.0 0.0 0.0 0\n",
      "[started] 4250 5.0 -0.75 0.4 0.79 0.0 0.0 0.0 0\n",
      "[finished] 4250 4.5 0.0 0.0 0.89 0.0 0.0 0.0 0\n",
      "[started] 4250 5.0 -0.5 0.0 0.79 0.0 0.0 0.0 0\n",
      "[finished] 4250 4.5 0.0 0.4 0.89 0.0 0.0 0.0 0\n",
      "[started] 4250 5.0 -0.5 0.4 0.79 0.0 0.0 0.0 0\n",
      "[finished] 4250 4.5 0.25 0.0 0.9 0.0 0.0 0.0 0\n",
      "[started] 4250 5.0 -0.25 0.0 0.81 0.0 0.0 0.0 0\n",
      "[finished] 4250 4.5 0.25 0.4 0.9 0.0 0.0 0.0 0\n",
      "[started] 4250 5.0 -0.25 0.4 0.81 0.0 0.0 0.0 0\n",
      "[finished] 4250 4.5 0.5 0.0 0.92 0.0 0.0 0.0 0\n",
      "[started] 4250 5.0 0.0 0.0 0.82 0.0 0.0 0.0 0\n",
      "[finished] 4250 4.5 0.5 0.4 0.92 0.0 0.0 0.0 0\n",
      "[started] 4250 5.0 0.0 0.4 0.82 0.0 0.0 0.0 0\n",
      "[finished] 4250 5.0 -1.0 0.4 0.78 0.0 0.0 0.0 0\n",
      "[started] 4250 5.0 0.25 0.0 0.83 0.0 0.0 0.0 0\n",
      "[finished] 4250 5.0 -1.0 0.0 0.78 0.0 0.0 0.0 0\n",
      "[started] 4250 5.0 0.25 0.4 0.83 0.0 0.0 0.0 0\n",
      "[finished] 4250 5.0 -0.75 0.4 0.79 0.0 0.0 0.0 0\n",
      "[started] 4250 5.0 0.5 0.0 0.84 0.0 0.0 0.0 0\n",
      "[finished] 4250 5.0 -0.75 0.0 0.79 0.0 0.0 0.0 0\n",
      "[started] 4250 5.0 0.5 0.4 0.84 0.0 0.0 0.0 0\n",
      "[finished] 4250 5.0 -0.5 0.4 0.79 0.0 0.0 0.0 0\n",
      "[started] 4500 3.0 -1.0 0.0 1.25 0.0 0.0 0.0 0\n"
     ]
    },
    {
     "name": "stderr",
     "output_type": "stream",
     "text": [
      "INFO:root:Spherical model atmosphere with radius 3.65e+11 cm\n",
      "[2023-11-10 14:00:53,051] [INFO] [turbospectrum:generate_spectrum:88]: Spherical model atmosphere with radius 3.65e+11 cm\n"
     ]
    },
    {
     "name": "stdout",
     "output_type": "stream",
     "text": [
      "[finished] 4250 5.0 -0.5 0.0 0.79 0.0 0.0 0.0 0\n",
      "[started] 4500 3.0 -1.0 0.4 1.25 0.0 0.0 0.0 0\n"
     ]
    },
    {
     "name": "stderr",
     "output_type": "stream",
     "text": [
      "INFO:root:Spherical model atmosphere with radius 3.65e+11 cm\n",
      "[2023-11-10 14:00:54,000] [INFO] [turbospectrum:generate_spectrum:88]: Spherical model atmosphere with radius 3.65e+11 cm\n"
     ]
    },
    {
     "name": "stdout",
     "output_type": "stream",
     "text": [
      "[finished] 4250 5.0 -0.25 0.0 0.81 0.0 0.0 0.0 0\n",
      "[started] 4500 3.0 -0.75 0.0 1.26 0.0 0.0 0.0 0\n",
      "[finished] 4250 5.0 -0.25 0.4 0.81 0.0 0.0 0.0 0\n",
      "[started] 4500 3.0 -0.75 0.4 1.26 0.0 0.0 0.0 0\n"
     ]
    },
    {
     "name": "stderr",
     "output_type": "stream",
     "text": [
      "INFO:root:Spherical model atmosphere with radius 3.65e+11 cm\n",
      "[2023-11-10 14:00:54,408] [INFO] [turbospectrum:generate_spectrum:88]: Spherical model atmosphere with radius 3.65e+11 cm\n",
      "INFO:root:Spherical model atmosphere with radius 3.65e+11 cm\n",
      "[2023-11-10 14:00:54,494] [INFO] [turbospectrum:generate_spectrum:88]: Spherical model atmosphere with radius 3.65e+11 cm\n"
     ]
    },
    {
     "name": "stdout",
     "output_type": "stream",
     "text": [
      "[finished] 4250 5.0 0.0 0.0 0.82 0.0 0.0 0.0 0\n",
      "[started] 4500 3.0 -0.5 0.0 1.27 0.0 0.0 0.0 0\n"
     ]
    },
    {
     "name": "stderr",
     "output_type": "stream",
     "text": [
      "INFO:root:Spherical model atmosphere with radius 3.65e+11 cm\n",
      "[2023-11-10 14:00:55,037] [INFO] [turbospectrum:generate_spectrum:88]: Spherical model atmosphere with radius 3.65e+11 cm\n"
     ]
    },
    {
     "name": "stdout",
     "output_type": "stream",
     "text": [
      "[finished] 4250 5.0 0.0 0.4 0.82 0.0 0.0 0.0 0\n",
      "[started] 4500 3.0 -0.5 0.4 1.27 0.0 0.0 0.0 0\n"
     ]
    },
    {
     "name": "stderr",
     "output_type": "stream",
     "text": [
      "INFO:root:Spherical model atmosphere with radius 3.65e+11 cm\n",
      "[2023-11-10 14:00:56,735] [INFO] [turbospectrum:generate_spectrum:88]: Spherical model atmosphere with radius 3.65e+11 cm\n"
     ]
    },
    {
     "name": "stdout",
     "output_type": "stream",
     "text": [
      "[finished] 4250 5.0 0.25 0.4 0.83 0.0 0.0 0.0 0\n",
      "[started] 4500 3.0 -0.25 0.0 1.28 0.0 0.0 0.0 0\n"
     ]
    },
    {
     "name": "stderr",
     "output_type": "stream",
     "text": [
      "INFO:root:Spherical model atmosphere with radius 3.65e+11 cm\n",
      "[2023-11-10 14:00:57,390] [INFO] [turbospectrum:generate_spectrum:88]: Spherical model atmosphere with radius 3.65e+11 cm\n"
     ]
    },
    {
     "name": "stdout",
     "output_type": "stream",
     "text": [
      "[finished] 4250 5.0 0.25 0.0 0.83 0.0 0.0 0.0 0\n",
      "[started] 4500 3.0 -0.25 0.4 1.28 0.0 0.0 0.0 0\n"
     ]
    },
    {
     "name": "stderr",
     "output_type": "stream",
     "text": [
      "INFO:root:Spherical model atmosphere with radius 3.65e+11 cm\n",
      "[2023-11-10 14:00:58,284] [INFO] [turbospectrum:generate_spectrum:88]: Spherical model atmosphere with radius 3.65e+11 cm\n"
     ]
    },
    {
     "name": "stdout",
     "output_type": "stream",
     "text": [
      "[finished] 4250 5.0 0.5 0.0 0.84 0.0 0.0 0.0 0\n",
      "[started] 4500 3.0 0.0 0.0 1.29 0.0 0.0 0.0 0\n"
     ]
    },
    {
     "name": "stderr",
     "output_type": "stream",
     "text": [
      "INFO:root:Spherical model atmosphere with radius 3.65e+11 cm\n",
      "[2023-11-10 14:01:03,005] [INFO] [turbospectrum:generate_spectrum:88]: Spherical model atmosphere with radius 3.65e+11 cm\n"
     ]
    },
    {
     "name": "stdout",
     "output_type": "stream",
     "text": [
      "[finished] 4250 5.0 0.5 0.4 0.84 0.0 0.0 0.0 0\n",
      "[started] 4500 3.0 0.0 0.4 1.29 0.0 0.0 0.0 0\n"
     ]
    },
    {
     "name": "stderr",
     "output_type": "stream",
     "text": [
      "INFO:root:Spherical model atmosphere with radius 3.65e+11 cm\n",
      "[2023-11-10 14:01:03,171] [INFO] [turbospectrum:generate_spectrum:88]: Spherical model atmosphere with radius 3.65e+11 cm\n"
     ]
    },
    {
     "name": "stdout",
     "output_type": "stream",
     "text": [
      "[finished] 4500 3.0 -1.0 0.0 1.25 0.0 0.0 0.0 0\n",
      "[started] 4500 3.0 0.25 0.0 1.31 0.0 0.0 0.0 0\n"
     ]
    },
    {
     "name": "stderr",
     "output_type": "stream",
     "text": [
      "INFO:root:Spherical model atmosphere with radius 3.65e+11 cm\n",
      "[2023-11-10 14:01:42,694] [INFO] [turbospectrum:generate_spectrum:88]: Spherical model atmosphere with radius 3.65e+11 cm\n"
     ]
    },
    {
     "name": "stdout",
     "output_type": "stream",
     "text": [
      "[finished] 4500 3.0 -1.0 0.4 1.25 0.0 0.0 0.0 0\n",
      "[started] 4500 3.0 0.25 0.4 1.31 0.0 0.0 0.0 0\n",
      "[finished] 4500 3.0 -0.75 0.0 1.26 0.0 0.0 0.0 0\n"
     ]
    },
    {
     "name": "stderr",
     "output_type": "stream",
     "text": [
      "INFO:root:Spherical model atmosphere with radius 3.65e+11 cm\n",
      "[2023-11-10 14:01:43,426] [INFO] [turbospectrum:generate_spectrum:88]: Spherical model atmosphere with radius 3.65e+11 cm\n"
     ]
    },
    {
     "name": "stdout",
     "output_type": "stream",
     "text": [
      "[started] 4500 3.0 0.5 0.0 1.32 0.0 0.0 0.0 0\n"
     ]
    },
    {
     "name": "stderr",
     "output_type": "stream",
     "text": [
      "INFO:root:Spherical model atmosphere with radius 3.65e+11 cm\n",
      "[2023-11-10 14:01:43,542] [INFO] [turbospectrum:generate_spectrum:88]: Spherical model atmosphere with radius 3.65e+11 cm\n"
     ]
    },
    {
     "name": "stdout",
     "output_type": "stream",
     "text": [
      "[finished] 4500 3.0 -0.75 0.4 1.26 0.0 0.0 0.0 0\n",
      "[started] 4500 3.0 0.5 0.4 1.32 0.0 0.0 0.0 0\n"
     ]
    },
    {
     "name": "stderr",
     "output_type": "stream",
     "text": [
      "INFO:root:Spherical model atmosphere with radius 3.65e+11 cm\n",
      "[2023-11-10 14:01:43,752] [INFO] [turbospectrum:generate_spectrum:88]: Spherical model atmosphere with radius 3.65e+11 cm\n"
     ]
    },
    {
     "name": "stdout",
     "output_type": "stream",
     "text": [
      "[finished] 4500 3.0 -0.5 0.0 1.27 0.0 0.0 0.0 0\n",
      "[started] 4500 3.5 -1.0 0.0 0.99 0.0 0.0 0.0 0\n"
     ]
    },
    {
     "name": "stderr",
     "output_type": "stream",
     "text": [
      "INFO:root:Spherical model atmosphere with radius 2.05e+11 cm\n",
      "[2023-11-10 14:01:43,907] [INFO] [turbospectrum:generate_spectrum:88]: Spherical model atmosphere with radius 2.05e+11 cm\n"
     ]
    },
    {
     "name": "stdout",
     "output_type": "stream",
     "text": [
      "[finished] 4500 3.0 -0.5 0.4 1.27 0.0 0.0 0.0 0\n",
      "[started] 4500 3.5 -1.0 0.4 0.99 0.0 0.0 0.0 0\n"
     ]
    },
    {
     "name": "stderr",
     "output_type": "stream",
     "text": [
      "INFO:root:Spherical model atmosphere with radius 2.05e+11 cm\n",
      "[2023-11-10 14:01:46,180] [INFO] [turbospectrum:generate_spectrum:88]: Spherical model atmosphere with radius 2.05e+11 cm\n"
     ]
    },
    {
     "name": "stdout",
     "output_type": "stream",
     "text": [
      "[finished] 4500 3.0 -0.25 0.0 1.28 0.0 0.0 0.0 0\n",
      "[started] 4500 3.5 -0.75 0.0 1.0 0.0 0.0 0.0 0\n"
     ]
    },
    {
     "name": "stderr",
     "output_type": "stream",
     "text": [
      "INFO:root:Spherical model atmosphere with radius 2.05e+11 cm\n",
      "[2023-11-10 14:01:46,319] [INFO] [turbospectrum:generate_spectrum:88]: Spherical model atmosphere with radius 2.05e+11 cm\n"
     ]
    },
    {
     "name": "stdout",
     "output_type": "stream",
     "text": [
      "[finished] 4500 3.0 -0.25 0.4 1.28 0.0 0.0 0.0 0\n",
      "[started] 4500 3.5 -0.75 0.4 1.0 0.0 0.0 0.0 0\n"
     ]
    },
    {
     "name": "stderr",
     "output_type": "stream",
     "text": [
      "INFO:root:Spherical model atmosphere with radius 2.05e+11 cm\n",
      "[2023-11-10 14:01:47,170] [INFO] [turbospectrum:generate_spectrum:88]: Spherical model atmosphere with radius 2.05e+11 cm\n"
     ]
    },
    {
     "name": "stdout",
     "output_type": "stream",
     "text": [
      "[finished] 4500 3.0 0.0 0.0 1.29 0.0 0.0 0.0 0\n",
      "[started] 4500 3.5 -0.5 0.0 1.01 0.0 0.0 0.0 0\n"
     ]
    },
    {
     "name": "stderr",
     "output_type": "stream",
     "text": [
      "INFO:root:Spherical model atmosphere with radius 2.05e+11 cm\n",
      "[2023-11-10 14:01:51,641] [INFO] [turbospectrum:generate_spectrum:88]: Spherical model atmosphere with radius 2.05e+11 cm\n"
     ]
    },
    {
     "name": "stdout",
     "output_type": "stream",
     "text": [
      "[finished] 4500 3.0 0.0 0.4 1.29 0.0 0.0 0.0 0\n",
      "[started] 4500 3.5 -0.5 0.4 1.01 0.0 0.0 0.0 0\n"
     ]
    },
    {
     "name": "stderr",
     "output_type": "stream",
     "text": [
      "INFO:root:Spherical model atmosphere with radius 2.05e+11 cm\n",
      "[2023-11-10 14:01:51,849] [INFO] [turbospectrum:generate_spectrum:88]: Spherical model atmosphere with radius 2.05e+11 cm\n"
     ]
    },
    {
     "name": "stdout",
     "output_type": "stream",
     "text": [
      "[finished] 4500 3.0 0.25 0.0 1.31 0.0 0.0 0.0 0\n",
      "[started] 4500 3.5 -0.25 0.0 1.02 0.0 0.0 0.0 0\n"
     ]
    },
    {
     "name": "stderr",
     "output_type": "stream",
     "text": [
      "INFO:root:Spherical model atmosphere with radius 2.05e+11 cm\n",
      "[2023-11-10 14:02:31,368] [INFO] [turbospectrum:generate_spectrum:88]: Spherical model atmosphere with radius 2.05e+11 cm\n"
     ]
    },
    {
     "name": "stdout",
     "output_type": "stream",
     "text": [
      "[finished] 4500 3.0 0.25 0.4 1.31 0.0 0.0 0.0 0\n",
      "[started] 4500 3.5 -0.25 0.4 1.02 0.0 0.0 0.0 0\n"
     ]
    },
    {
     "name": "stderr",
     "output_type": "stream",
     "text": [
      "INFO:root:Spherical model atmosphere with radius 2.05e+11 cm\n",
      "[2023-11-10 14:02:31,852] [INFO] [turbospectrum:generate_spectrum:88]: Spherical model atmosphere with radius 2.05e+11 cm\n"
     ]
    },
    {
     "name": "stdout",
     "output_type": "stream",
     "text": [
      "[finished] 4500 3.0 0.5 0.0 1.32 0.0 0.0 0.0 0\n",
      "[started] 4500 3.5 0.0 0.0 1.03 0.0 0.0 0.0 0\n"
     ]
    },
    {
     "name": "stderr",
     "output_type": "stream",
     "text": [
      "INFO:root:Spherical model atmosphere with radius 2.05e+11 cm\n",
      "[2023-11-10 14:02:32,153] [INFO] [turbospectrum:generate_spectrum:88]: Spherical model atmosphere with radius 2.05e+11 cm\n"
     ]
    },
    {
     "name": "stdout",
     "output_type": "stream",
     "text": [
      "[finished] 4500 3.0 0.5 0.4 1.32 0.0 0.0 0.0 0\n",
      "[started] 4500 3.5 0.0 0.4 1.03 0.0 0.0 0.0 0\n"
     ]
    },
    {
     "name": "stderr",
     "output_type": "stream",
     "text": [
      "INFO:root:Spherical model atmosphere with radius 2.05e+11 cm\n",
      "[2023-11-10 14:02:32,484] [INFO] [turbospectrum:generate_spectrum:88]: Spherical model atmosphere with radius 2.05e+11 cm\n"
     ]
    },
    {
     "name": "stdout",
     "output_type": "stream",
     "text": [
      "[finished] 4500 3.5 -1.0 0.0 0.99 0.0 0.0 0.0 0\n",
      "[started] 4500 3.5 0.25 0.0 1.04 0.0 0.0 0.0 0\n"
     ]
    },
    {
     "name": "stderr",
     "output_type": "stream",
     "text": [
      "INFO:root:Spherical model atmosphere with radius 2.05e+11 cm\n",
      "[2023-11-10 14:02:32,664] [INFO] [turbospectrum:generate_spectrum:88]: Spherical model atmosphere with radius 2.05e+11 cm\n"
     ]
    },
    {
     "name": "stdout",
     "output_type": "stream",
     "text": [
      "[finished] 4500 3.5 -0.75 0.0 1.0 0.0 0.0 0.0 0\n",
      "[started] 4500 3.5 0.25 0.4 1.04 0.0 0.0 0.0 0\n"
     ]
    },
    {
     "name": "stderr",
     "output_type": "stream",
     "text": [
      "INFO:root:Spherical model atmosphere with radius 2.05e+11 cm\n",
      "[2023-11-10 14:02:34,141] [INFO] [turbospectrum:generate_spectrum:88]: Spherical model atmosphere with radius 2.05e+11 cm\n"
     ]
    },
    {
     "name": "stdout",
     "output_type": "stream",
     "text": [
      "[finished] 4500 3.5 -1.0 0.4 0.99 0.0 0.0 0.0 0\n",
      "[started] 4500 3.5 0.5 0.0 1.06 0.0 0.0 0.0 0\n"
     ]
    },
    {
     "name": "stderr",
     "output_type": "stream",
     "text": [
      "INFO:root:Spherical model atmosphere with radius 2.05e+11 cm\n",
      "[2023-11-10 14:02:34,607] [INFO] [turbospectrum:generate_spectrum:88]: Spherical model atmosphere with radius 2.05e+11 cm\n"
     ]
    },
    {
     "name": "stdout",
     "output_type": "stream",
     "text": [
      "[finished] 4500 3.5 -0.75 0.4 1.0 0.0 0.0 0.0 0\n",
      "[started] 4500 3.5 0.5 0.4 1.06 0.0 0.0 0.0 0\n"
     ]
    },
    {
     "name": "stderr",
     "output_type": "stream",
     "text": [
      "INFO:root:Spherical model atmosphere with radius 2.05e+11 cm\n",
      "[2023-11-10 14:02:35,535] [INFO] [turbospectrum:generate_spectrum:88]: Spherical model atmosphere with radius 2.05e+11 cm\n"
     ]
    },
    {
     "name": "stdout",
     "output_type": "stream",
     "text": [
      "[finished] 4500 3.5 -0.5 0.0 1.01 0.0 0.0 0.0 0\n",
      "[started] 4500 4.0 -1.0 0.0 0.92 0.0 0.0 0.0 0\n",
      "[finished] 4500 3.5 -0.5 0.4 1.01 0.0 0.0 0.0 0\n",
      "[started] 4500 4.0 -1.0 0.4 0.92 0.0 0.0 0.0 0\n",
      "[finished] 4500 4.0 -1.0 0.4 0.92 0.0 0.0 0.0 0\n",
      "[started] 4500 4.0 -0.75 0.0 0.93 0.0 0.0 0.0 0\n",
      "[finished] 4500 4.0 -1.0 0.0 0.92 0.0 0.0 0.0 0\n",
      "[started] 4500 4.0 -0.75 0.4 0.93 0.0 0.0 0.0 0\n",
      "[finished] 4500 3.5 -0.25 0.0 1.02 0.0 0.0 0.0 0\n",
      "[started] 4500 4.0 -0.5 0.0 0.94 0.0 0.0 0.0 0\n",
      "[finished] 4500 3.5 -0.25 0.4 1.02 0.0 0.0 0.0 0\n",
      "[started] 4500 4.0 -0.5 0.4 0.94 0.0 0.0 0.0 0\n",
      "[finished] 4500 3.5 0.0 0.0 1.03 0.0 0.0 0.0 0\n",
      "[started] 4500 4.0 -0.25 0.0 0.95 0.0 0.0 0.0 0\n",
      "[finished] 4500 3.5 0.0 0.4 1.03 0.0 0.0 0.0 0\n",
      "[started] 4500 4.0 -0.25 0.4 0.95 0.0 0.0 0.0 0\n",
      "[finished] 4500 3.5 0.25 0.0 1.04 0.0 0.0 0.0 0\n",
      "[started] 4500 4.0 0.0 0.0 0.96 0.0 0.0 0.0 0\n",
      "[finished] 4500 3.5 0.25 0.4 1.04 0.0 0.0 0.0 0\n",
      "[started] 4500 4.0 0.0 0.4 0.96 0.0 0.0 0.0 0\n",
      "[finished] 4500 3.5 0.5 0.0 1.06 0.0 0.0 0.0 0\n",
      "[started] 4500 4.0 0.25 0.0 0.98 0.0 0.0 0.0[finished] 0 \n",
      "4500 3.5 0.5 0.4 1.06 0.0 0.0 0.0 0\n",
      "[started] 4500 4.0 0.25 0.4 0.98 0.0 0.0 0.0 0\n",
      "[finished] 4500 4.0 -0.75 0.0 0.93 0.0 0.0 0.0 0\n",
      "[started] 4500 4.0 0.5 0.0 0.99 0.0 0.0 0.0 0\n",
      "[finished] 4500 4.0 -0.75 0.4 0.93 0.0 0.0 0.0 0\n",
      "[started] 4500 4.0 0.5 0.4 0.99 0.0 0.0 0.0 0\n",
      "[finished] 4500 4.0 -0.5 0.0 0.94 0.0 0.0 0.0 0\n",
      "[started] 4500 4.5 -1.0 0.0 0.85 0.0 0.0 0.0 0\n",
      "[finished] 4500 4.0 -0.5 0.4 0.94 0.0 0.0 0.0 0\n",
      "[started] 4500 4.5 -1.0 0.4 0.85 0.0 0.0 0.0 0\n",
      "[finished] 4500 4.0 -0.25 0.0 0.95 0.0 0.0 0.0 0\n",
      "[started] 4500 4.5 -0.75 0.0 0.86 0.0 0.0 0.0 0\n",
      "[finished] 4500 4.0 -0.25 0.4 0.95 0.0 0.0 0.0 0\n",
      "[started] 4500 4.5 -0.75 0.4 0.86 0.0 0.0 0.0 0\n",
      "[finished] 4500 4.0 0.0 0.0 0.96 0.0 0.0 0.0 0\n",
      "[started] 4500 4.5 -0.5 0.0 0.87 0.0 0.0 0.0 0\n",
      "[finished] 4500 4.0 0.0 0.4 0.96 0.0 0.0 0.0 0\n",
      "[started] 4500 4.5 -0.5 0.4 0.87 0.0 0.0 0.0 0\n",
      "[finished] 4500 4.0 0.25 0.4 0.98 0.0 0.0 0.0 0\n",
      "[started] 4500 4.5 -0.25 0.0 0.88 0.0 0.0 0.0 0\n",
      "[finished] 4500 4.0 0.25 0.0 0.98 0.0 0.0 0.0 0\n",
      "[started] 4500 4.5 -0.25 0.4 0.88 0.0 0.0 0.0 0\n",
      "[finished] 4500 4.0 0.5 0.0 0.99 0.0 0.0 0.0 0\n",
      "[started] 4500 4.5 0.0 0.0 0.89 0.0 0.0 0.0 0\n",
      "[finished] 4500 4.0 0.5 0.4 0.99 0.0 0.0 0.0 0\n",
      "[started] 4500 4.5 0.0 0.4 0.89 0.0 0.0 0.0 0\n",
      "[finished] 4500 4.5 -1.0 0.0 0.85 0.0 0.0 0.0 0\n",
      "[started] 4500 4.5 0.25 0.0 0.9 0.0 0.0 0.0 0\n",
      "[finished] 4500 4.5 -1.0 0.4 0.85 0.0 0.0 0.0 0\n",
      "[started] 4500 4.5 0.25 0.4 0.9 0.0 0.0 0.0 0\n",
      "[finished] 4500 4.5 -0.75 0.0 0.86 0.0 0.0 0.0 0\n",
      "[started] 4500 4.5 0.5 0.0 0.92 0.0 0.0 0.0 0\n",
      "[finished] 4500 4.5 -0.75 0.4 0.86 0.0 0.0 0.0 0\n",
      "[started] 4500 4.5 0.5 0.4 0.92 0.0 0.0 0.0 0\n",
      "[finished] 4500 4.5 -0.5 0.0 0.87 0.0 0.0 0.0 0\n",
      "[started] 4500 5.0 -1.0 0.0 0.78 0.0 0.0 0.0 0\n",
      "[finished] 4500 4.5 -0.5 0.4 0.87 0.0 0.0 0.0 0\n",
      "[started] 4500 5.0 -1.0 0.4 0.78 0.0 0.0 0.0 0\n",
      "[finished] 4500 4.5 -0.25 0.0 0.88 0.0 0.0 0.0 0\n",
      "[started] 4500 5.0 -0.75 0.0 0.79 0.0 0.0 0.0 0\n",
      "[finished] 4500 4.5 -0.25 0.4 0.88 0.0 0.0 0.0 0\n",
      "[started] 4500 5.0 -0.75 0.4 0.79 0.0 0.0 0.0 0\n",
      "[finished] 4500 4.5 0.0 0.0 0.89 0.0 0.0 0.0 0\n",
      "[started] 4500 5.0 -0.5 0.0 0.79 0.0 0.0 0.0 0\n",
      "[finished] 4500 4.5 0.0 0.4 0.89 0.0 0.0 0.0 0\n",
      "[started] 4500 5.0 -0.5 0.4 0.79 0.0 0.0 0.0 0\n",
      "[finished] 4500 4.5 0.25 0.0 0.9 0.0 0.0 0.0 0\n",
      "[started] 4500 5.0 -0.25 0.0 0.81 0.0 0.0 0.0 0\n",
      "[finished] 4500 4.5 0.25 0.4 0.9 0.0 0.0 0.0 0\n",
      "[started] 4500 5.0 -0.25 0.4 0.81 0.0 0.0 0.0 0\n",
      "[finished] 4500 4.5 0.5 0.0 0.92 0.0 0.0 0.0 0\n",
      "[started] 4500 [finished]5.0 4500  0.04.5  0.50.0  0.40.82  0.920.0  0.00.0  0.00.0  0.00 \n",
      "0\n",
      "[started] 4500 5.0 0.0 0.4 0.82 0.0 0.0 0.0 0\n",
      "[finished] 4500 5.0 -1.0 0.0 0.78 0.0 0.0 0.0 0\n",
      "[started] 4500 5.0 0.25 0.0 0.83 0.0 0.0 0.0 0\n",
      "[finished] 4500 5.0 -1.0 0.4 0.78 0.0 0.0 0.0 0\n",
      "[started] 4500 5.0 0.25 0.4 0.83 0.0 0.0 0.0 0\n",
      "[finished] 4500 5.0 -0.75 0.0 0.79 0.0 0.0 0.0 0\n",
      "[started] 4500 5.0 0.5 0.0 0.84 0.0 0.0 0.0 0\n",
      "[finished] 4500 5.0 -0.75 0.4 0.79 0.0 0.0 0.0 0\n",
      "[started] 4500 5.0 0.5 0.4 0.84 0.0 0.0 0.0 0\n",
      "[finished] 4500 5.0 -0.5 0.0 0.79 0.0 0.0 0.0 0\n",
      "[started] 4750 3.0 -1.0 0.0 1.22 0.0 0.0 0.0 0\n",
      "[finished] 4500 5.0 -0.5 0.4 0.79 0.0 0.0 0.0 0\n",
      "[started] 4750 3.0 -1.0 0.4 1.22 0.0 0.0 0.0 0\n"
     ]
    },
    {
     "name": "stderr",
     "output_type": "stream",
     "text": [
      "INFO:root:Spherical model atmosphere with radius 3.65e+11 cm\n",
      "[2023-11-10 14:05:51,597] [INFO] [turbospectrum:generate_spectrum:88]: Spherical model atmosphere with radius 3.65e+11 cm\n",
      "INFO:root:Spherical model atmosphere with radius 3.65e+11 cm\n",
      "[2023-11-10 14:05:51,659] [INFO] [turbospectrum:generate_spectrum:88]: Spherical model atmosphere with radius 3.65e+11 cm\n"
     ]
    },
    {
     "name": "stdout",
     "output_type": "stream",
     "text": [
      "[finished] 4500 5.0 -0.25 0.0 0.81 0.0 0.0 0.0 0\n",
      "[started] 4750 3.0 -0.75 0.0 1.23 0.0 0.0 0.0 0\n",
      "[finished] 4500 5.0 -0.25 0.4 0.81 0.0 0.0 0.0 0\n",
      "[started] 4750 3.0 -0.75 0.4 1.23 0.0 0.0 0.0"
     ]
    },
    {
     "name": "stderr",
     "output_type": "stream",
     "text": [
      "INFO:root:Spherical model atmosphere with radius 3.65e+11 cm\n"
     ]
    },
    {
     "name": "stdout",
     "output_type": "stream",
     "text": [
      " "
     ]
    },
    {
     "name": "stderr",
     "output_type": "stream",
     "text": [
      "[2023-11-10 14:05:53,189] [INFO] [turbospectrum:generate_spectrum:88]: Spherical model atmosphere with radius 3.65e+11 cm\n"
     ]
    },
    {
     "name": "stdout",
     "output_type": "stream",
     "text": [
      "0\n"
     ]
    },
    {
     "name": "stderr",
     "output_type": "stream",
     "text": [
      "INFO:root:Spherical model atmosphere with radius 3.65e+11 cm\n",
      "[2023-11-10 14:05:53,282] [INFO] [turbospectrum:generate_spectrum:88]: Spherical model atmosphere with radius 3.65e+11 cm\n"
     ]
    },
    {
     "name": "stdout",
     "output_type": "stream",
     "text": [
      "[finished] 4500 5.0 0.0 0.0 0.82 0.0 0.0 0.0 0\n",
      "[started] 4750 3.0 -0.5 0.0 1.24 0.0 0.0 0.0 0\n",
      "[finished] 4500 5.0 0.0 0.4 0.82 0.0 0.0 0.0 0\n",
      "[started] 4750 3.0 -0.5 0.4 1.24 0.0 0.0 0.0 0\n"
     ]
    },
    {
     "name": "stderr",
     "output_type": "stream",
     "text": [
      "INFO:root:Spherical model atmosphere with radius 3.65e+11 cm\n",
      "[2023-11-10 14:05:54,611] [INFO] [turbospectrum:generate_spectrum:88]: Spherical model atmosphere with radius 3.65e+11 cm\n",
      "INFO:root:Spherical model atmosphere with radius 3.65e+11 cm\n",
      "[2023-11-10 14:05:54,689] [INFO] [turbospectrum:generate_spectrum:88]: Spherical model atmosphere with radius 3.65e+11 cm\n"
     ]
    },
    {
     "name": "stdout",
     "output_type": "stream",
     "text": [
      "[finished] 4500 5.0 0.25 0.0 0.83 0.0 0.0 0.0 0\n",
      "[started] 4750 3.0 -0.25 0.0 1.25 0.0 0.0 0.0 0\n"
     ]
    },
    {
     "name": "stderr",
     "output_type": "stream",
     "text": [
      "INFO:root:Spherical model atmosphere with radius 3.65e+11 cm\n",
      "[2023-11-10 14:05:55,218] [INFO] [turbospectrum:generate_spectrum:88]: Spherical model atmosphere with radius 3.65e+11 cm\n"
     ]
    },
    {
     "name": "stdout",
     "output_type": "stream",
     "text": [
      "[finished] 4500 5.0 0.25 0.4 0.83 0.0 0.0 0.0 0\n",
      "[started] 4750 3.0 -0.25 0.4 1.25 0.0 0.0 0.0 0\n"
     ]
    },
    {
     "name": "stderr",
     "output_type": "stream",
     "text": [
      "INFO:root:Spherical model atmosphere with radius 3.65e+11 cm\n",
      "[2023-11-10 14:05:56,580] [INFO] [turbospectrum:generate_spectrum:88]: Spherical model atmosphere with radius 3.65e+11 cm\n"
     ]
    },
    {
     "name": "stdout",
     "output_type": "stream",
     "text": [
      "[finished] 4500 5.0 0.5 0.0 0.84 0.0 0.0 0.0 0\n",
      "[started] 4750 3.0 0.0 0.0 1.26 0.0 0.0 0.0 0\n"
     ]
    },
    {
     "name": "stderr",
     "output_type": "stream",
     "text": [
      "INFO:root:Spherical model atmosphere with radius 3.65e+11 cm\n",
      "[2023-11-10 14:05:57,695] [INFO] [turbospectrum:generate_spectrum:88]: Spherical model atmosphere with radius 3.65e+11 cm\n"
     ]
    },
    {
     "name": "stdout",
     "output_type": "stream",
     "text": [
      "[finished] 4500 5.0 0.5 0.4 0.84 0.0 0.0 0.0 0\n",
      "[started] 4750 3.0 0.0 0.4 1.26 0.0 0.0 0.0 0\n"
     ]
    },
    {
     "name": "stderr",
     "output_type": "stream",
     "text": [
      "INFO:root:Spherical model atmosphere with radius 3.65e+11 cm\n",
      "[2023-11-10 14:06:03,494] [INFO] [turbospectrum:generate_spectrum:88]: Spherical model atmosphere with radius 3.65e+11 cm\n"
     ]
    },
    {
     "name": "stdout",
     "output_type": "stream",
     "text": [
      "[finished] 4750 3.0 -1.0 0.0 1.22 0.0 0.0 0.0 0\n",
      "[started] 4750 3.0 0.25 0.0 1.27 0.0 0.0 0.0 0\n"
     ]
    },
    {
     "name": "stderr",
     "output_type": "stream",
     "text": [
      "INFO:root:Spherical model atmosphere with radius 3.65e+11 cm\n",
      "[2023-11-10 14:06:40,200] [INFO] [turbospectrum:generate_spectrum:88]: Spherical model atmosphere with radius 3.65e+11 cm\n"
     ]
    },
    {
     "name": "stdout",
     "output_type": "stream",
     "text": [
      "[finished] 4750 3.0 -1.0 0.4 1.22 0.0 0.0 0.0 0\n",
      "[started] 4750 3.0 0.25 0.4 1.27 0.0 0.0 0.0 0\n"
     ]
    },
    {
     "name": "stderr",
     "output_type": "stream",
     "text": [
      "INFO:root:Spherical model atmosphere with radius 3.65e+11 cm\n",
      "[2023-11-10 14:06:40,357] [INFO] [turbospectrum:generate_spectrum:88]: Spherical model atmosphere with radius 3.65e+11 cm\n"
     ]
    },
    {
     "name": "stdout",
     "output_type": "stream",
     "text": [
      "[finished] 4750 3.0 -0.75 0.4 1.23 0.0 0.0 0.0 0\n",
      "[started] 4750 3.0 0.5 0.0 1.29 0.0 0.0 0.0 0\n"
     ]
    },
    {
     "name": "stderr",
     "output_type": "stream",
     "text": [
      "INFO:root:Spherical model atmosphere with radius 3.65e+11 cm\n",
      "[2023-11-10 14:06:41,794] [INFO] [turbospectrum:generate_spectrum:88]: Spherical model atmosphere with radius 3.65e+11 cm\n"
     ]
    },
    {
     "name": "stdout",
     "output_type": "stream",
     "text": [
      "[finished] 4750 3.0 -0.75 0.0 1.23 0.0 0.0 0.0 0\n",
      "[started] 4750 3.0 0.5 0.4 1.29 0.0 0.0 0.0 0\n"
     ]
    },
    {
     "name": "stderr",
     "output_type": "stream",
     "text": [
      "INFO:root:Spherical model atmosphere with radius 3.65e+11 cm\n",
      "[2023-11-10 14:06:41,977] [INFO] [turbospectrum:generate_spectrum:88]: Spherical model atmosphere with radius 3.65e+11 cm\n"
     ]
    },
    {
     "name": "stdout",
     "output_type": "stream",
     "text": [
      "[finished] 4750 3.0 -0.5 0.4 1.24 0.0 0.0 0.0 0\n",
      "[started] 4750 3.5 -1.0 0.0 0.99 0.0 0.0 0.0 0\n"
     ]
    },
    {
     "name": "stderr",
     "output_type": "stream",
     "text": [
      "INFO:root:Spherical model atmosphere with radius 2.05e+11 cm\n",
      "[2023-11-10 14:06:43,180] [INFO] [turbospectrum:generate_spectrum:88]: Spherical model atmosphere with radius 2.05e+11 cm\n"
     ]
    },
    {
     "name": "stdout",
     "output_type": "stream",
     "text": [
      "[finished] 4750 3.0 -0.5 0.0 1.24 0.0 0.0 0.0 0\n",
      "[started] 4750 3.5 -1.0 0.4 0.99 0.0 0.0 0.0 0\n"
     ]
    },
    {
     "name": "stderr",
     "output_type": "stream",
     "text": [
      "INFO:root:Spherical model atmosphere with radius 2.05e+11 cm\n",
      "[2023-11-10 14:06:43,315] [INFO] [turbospectrum:generate_spectrum:88]: Spherical model atmosphere with radius 2.05e+11 cm\n"
     ]
    },
    {
     "name": "stdout",
     "output_type": "stream",
     "text": [
      "[finished] 4750 3.0 -0.25 0.0 1.25 0.0 0.0 0.0 0\n",
      "[started] 4750 3.5 -0.75 0.0 1.0 0.0 0.0 0.0 0\n"
     ]
    },
    {
     "name": "stderr",
     "output_type": "stream",
     "text": [
      "INFO:root:Spherical model atmosphere with radius 2.05e+11 cm\n",
      "[2023-11-10 14:06:43,525] [INFO] [turbospectrum:generate_spectrum:88]: Spherical model atmosphere with radius 2.05e+11 cm\n"
     ]
    },
    {
     "name": "stdout",
     "output_type": "stream",
     "text": [
      "[finished] 4750 3.0 -0.25 0.4 1.25 0.0 0.0 0.0 0\n",
      "[started] 4750 3.5 -0.75 0.4 1.0 0.0 0.0 0.0 0\n"
     ]
    },
    {
     "name": "stderr",
     "output_type": "stream",
     "text": [
      "INFO:root:Spherical model atmosphere with radius 2.05e+11 cm\n",
      "[2023-11-10 14:06:44,941] [INFO] [turbospectrum:generate_spectrum:88]: Spherical model atmosphere with radius 2.05e+11 cm\n"
     ]
    },
    {
     "name": "stdout",
     "output_type": "stream",
     "text": [
      "[finished] 4750 3.0 0.0 0.0 1.26 0.0 0.0 0.0 0\n",
      "[started] 4750 3.5 -0.5 0.0 1.01 0.0 0.0 0.0 0\n"
     ]
    },
    {
     "name": "stderr",
     "output_type": "stream",
     "text": [
      "INFO:root:Spherical model atmosphere with radius 2.05e+11 cm\n",
      "[2023-11-10 14:06:45,631] [INFO] [turbospectrum:generate_spectrum:88]: Spherical model atmosphere with radius 2.05e+11 cm\n"
     ]
    },
    {
     "name": "stdout",
     "output_type": "stream",
     "text": [
      "[finished] 4750 3.0 0.0 0.4 1.26 0.0 0.0 0.0 0\n",
      "[started] 4750 3.5 -0.5 0.4 1.01 0.0 0.0 0.0 0\n"
     ]
    },
    {
     "name": "stderr",
     "output_type": "stream",
     "text": [
      "INFO:root:Spherical model atmosphere with radius 2.05e+11 cm\n",
      "[2023-11-10 14:06:51,684] [INFO] [turbospectrum:generate_spectrum:88]: Spherical model atmosphere with radius 2.05e+11 cm\n"
     ]
    },
    {
     "name": "stdout",
     "output_type": "stream",
     "text": [
      "[finished] 4750 3.0 0.25 0.4 1.27 0.0 0.0 0.0 0\n",
      "[started] 4750 3.5 -0.25 0.0 1.02 0.0 0.0 0.0 0\n"
     ]
    },
    {
     "name": "stderr",
     "output_type": "stream",
     "text": [
      "INFO:root:Spherical model atmosphere with radius 2.05e+11 cm\n",
      "[2023-11-10 14:07:28,673] [INFO] [turbospectrum:generate_spectrum:88]: Spherical model atmosphere with radius 2.05e+11 cm\n"
     ]
    },
    {
     "name": "stdout",
     "output_type": "stream",
     "text": [
      "[finished] 4750 3.0 0.5 0.0 1.29 0.0 0.0 0.0 0\n",
      "[started] 4750 3.5 -0.25 0.4 1.02 0.0 0.0 0.0 0\n"
     ]
    },
    {
     "name": "stderr",
     "output_type": "stream",
     "text": [
      "INFO:root:Spherical model atmosphere with radius 2.05e+11 cm\n",
      "[2023-11-10 14:07:30,235] [INFO] [turbospectrum:generate_spectrum:88]: Spherical model atmosphere with radius 2.05e+11 cm\n"
     ]
    },
    {
     "name": "stdout",
     "output_type": "stream",
     "text": [
      "[finished] 4750 3.0 0.25 0.0 1.27 0.0 0.0 0.0 0\n",
      "[started] 4750 3.5 0.0 0.0 1.03 0.0 0.0 0.0 0\n"
     ]
    },
    {
     "name": "stderr",
     "output_type": "stream",
     "text": [
      "INFO:root:Spherical model atmosphere with radius 2.05e+11 cm\n",
      "[2023-11-10 14:07:30,448] [INFO] [turbospectrum:generate_spectrum:88]: Spherical model atmosphere with radius 2.05e+11 cm\n"
     ]
    },
    {
     "name": "stdout",
     "output_type": "stream",
     "text": [
      "[finished] 4750 3.0 0.5 0.4 1.29 0.0 0.0 0.0 0\n",
      "[started] 4750 3.5 0.0 0.4 1.03 0.0 0.0 0.0 0\n"
     ]
    },
    {
     "name": "stderr",
     "output_type": "stream",
     "text": [
      "INFO:root:Spherical model atmosphere with radius 2.05e+11 cm\n",
      "[2023-11-10 14:07:30,659] [INFO] [turbospectrum:generate_spectrum:88]: Spherical model atmosphere with radius 2.05e+11 cm\n"
     ]
    },
    {
     "name": "stdout",
     "output_type": "stream",
     "text": [
      "[finished] 4750 3.5 -1.0 0.0 0.99 0.0 0.0 0.0 0\n",
      "[started] 4750 3.5 0.25 0.0 1.04 0.0 0.0 0.0 0\n"
     ]
    },
    {
     "name": "stderr",
     "output_type": "stream",
     "text": [
      "INFO:root:Spherical model atmosphere with radius 2.05e+11 cm\n",
      "[2023-11-10 14:07:30,986] [INFO] [turbospectrum:generate_spectrum:88]: Spherical model atmosphere with radius 2.05e+11 cm\n"
     ]
    },
    {
     "name": "stdout",
     "output_type": "stream",
     "text": [
      "[finished] 4750 3.5 -1.0 0.4 0.99 0.0 0.0 0.0 0\n",
      "[started] 4750 3.5 0.25 0.4 1.04 0.0 0.0 0.0 0\n",
      "[finished] 4750 3.5 -0.75 0.0 1.0 0.0 0.0 0.0 0\n"
     ]
    },
    {
     "name": "stderr",
     "output_type": "stream",
     "text": [
      "INFO:root:Spherical model atmosphere with radius 2.05e+11 cm\n",
      "[2023-11-10 14:07:31,213] [INFO] [turbospectrum:generate_spectrum:88]: Spherical model atmosphere with radius 2.05e+11 cm\n"
     ]
    },
    {
     "name": "stdout",
     "output_type": "stream",
     "text": [
      "[started] 4750 3.5 0.5 0.0 1.06 0.0 0.0 0.0 0\n"
     ]
    },
    {
     "name": "stderr",
     "output_type": "stream",
     "text": [
      "INFO:root:Spherical model atmosphere with radius 2.05e+11 cm\n",
      "[2023-11-10 14:07:31,309] [INFO] [turbospectrum:generate_spectrum:88]: Spherical model atmosphere with radius 2.05e+11 cm\n"
     ]
    },
    {
     "name": "stdout",
     "output_type": "stream",
     "text": [
      "[finished] 4750 3.5 -0.75 0.4 1.0 0.0 0.0 0.0 0\n",
      "[started] 4750 3.5 0.5 0.4 1.06 0.0 0.0 0.0 0\n"
     ]
    },
    {
     "name": "stderr",
     "output_type": "stream",
     "text": [
      "INFO:root:Spherical model atmosphere with radius 2.05e+11 cm\n",
      "[2023-11-10 14:07:32,332] [INFO] [turbospectrum:generate_spectrum:88]: Spherical model atmosphere with radius 2.05e+11 cm\n"
     ]
    },
    {
     "name": "stdout",
     "output_type": "stream",
     "text": [
      "[finished] 4750 3.5 -0.5 0.0 1.01 0.0 0.0 0.0 0\n",
      "[started] 4750 4.0 -1.0 0.0 0.92 0.0 0.0 0.0 0\n",
      "[finished] 4750 3.5 -0.5 0.4 1.01 0.0 0.0 0.0 0\n",
      "[started] 4750 4.0 -1.0 0.4 0.92 0.0 0.0 0.0 0\n",
      "[finished] 4750 4.0 -1.0 0.0 0.92 0.0 0.0 0.0 0\n",
      "[started] 4750 4.0 -0.75 0.0 0.93 0.0 0.0 0.0 0\n",
      "[finished] 4750 3.5 -0.25 0.0 1.02 0.0 0.0 0.0 0\n",
      "[started] 4750 4.0 -0.75 0.4 0.93 0.0 0.0 0.0 0\n",
      "[finished] 4750 4.0 -1.0 0.4 0.92 0.0 0.0 0.0 0\n",
      "[started] 4750 4.0 -0.5 0.0 0.94 0.0 0.0 0.0 0\n",
      "[finished] 4750 3.5 -0.25 0.4 1.02 0.0 0.0 0.0 0\n",
      "[started] 4750 4.0 -0.5 0.4 0.94 0.0 0.0 0.0 0\n",
      "[finished] 4750 3.5 0.0 0.0 1.03 0.0 0.0 0.0 0\n",
      "[started] 4750 4.0 -0.25 0.0 0.95 0.0 0.0 0.0 0\n",
      "[finished] 4750 3.5 0.0 0.4 1.03 0.0 0.0 0.0 0\n",
      "[started] 4750 4.0 -0.25 0.4 0.95 0.0 0.0 0.0 0\n",
      "[finished] 4750 3.5 0.25 0.0 1.04 0.0 0.0 0.0 0\n",
      "[finished] 4750 3.5 0.25 0.4 [started]1.04  47500.0 4.0  0.00.0  0.0 0.960.0  0.00\n",
      " 0.0 0.0 0\n",
      "[started] 4750 4.0 0.0 0.4 0.96 0.0 0.0 0.0[finished] 0 \n",
      "4750 3.5 0.5 0.0 1.06 0.0 0.0 0.0 0\n",
      "[started] 4750 4.0 0.25 0.0 0.98 0.0 0.0 0.0 0\n",
      "[finished] 4750 3.5 0.5 0.4 1.06 0.0 0.0 0.0 0\n",
      "[started] 4750 4.0 0.25 0.4 0.98 0.0 0.0 0.0 0\n",
      "[finished] 4750 4.0 -0.75 0.0 0.93 0.0 0.0 0.0 0\n",
      "[started] 4750 4.0 0.5 0.0 0.99 0.0 0.0 0.0 0\n",
      "[finished] 4750 4.0 -0.75 0.4 0.93 0.0 0.0 0.0 0\n",
      "[started] 4750 4.0 0.5 0.4 0.99 0.0 0.0 0.0 0\n",
      "[finished] 4750 4.0 -0.5 0.0 0.94 0.0 0.0 0.0 0\n",
      "[started] 4750 4.5 -1.0 0.0 0.85 0.0 0.0 0.0 0\n",
      "[finished] 4750 4.0 -0.25 0.4 0.95 0.0 0.0 0.0 0\n",
      "[started] 4750 4.5 -1.0 0.4 0.85 0.0 0.0 0.0 0\n",
      "[finished] 4750 4.0 -0.25 0.0 [finished]0.95 4750  4.00.0  0.0-0.5  0.00.4 0.94 0 0.0\n",
      " 0.0 0.0 0\n",
      "[started] 4750 4.5 -0.75 0.0 [started]0.86  4750 0.04.5  -0.750.0  0.00.4  0.860 \n",
      "0.0 0.0 0.0 0\n",
      "[finished] 4750 4.0 0.0 0.0 0.96 0.0 0.0 0.0 0\n",
      "[started] 4750 4.5 -0.5 0.0 0.87 0.0 0.0 0.0 0\n",
      "[finished] 4750 4.0 0.0 0.4 0.96 0.0 0.0 0.0 0\n",
      "[started] 4750 4.5 -0.5 0.4 0.87 0.0 0.0 0.0 0\n",
      "[finished] 4750 4.0 0.25 0.0 0.98 0.0 0.0 0.0 0\n",
      "[started] 4750 4.5 -0.25 0.0 0.88 0.0 0.0 0.0 0\n",
      "[finished] 4750 4.0 0.25 0.4 0.98 0.0 0.0 0.0 0\n",
      "[started] 4750 4.5 -0.25 0.4 0.88 0.0 0.0 0.0 0\n",
      "[finished] 4750 4.0 0.5 0.0 0.99 0.0 0.0 0.0 0\n",
      "[started] 4750 4.5 0.0 0.0 0.89 0.0 0.0 0.0 0\n",
      "[finished] 4750 4.0 0.5 0.4 0.99 0.0 0.0 0.0 0\n",
      "[started] 4750 4.5 0.0 0.4 0.89 0.0 0.0 0.0 0\n",
      "[finished] 4750 4.5 -1.0 0.0 0.85 0.0 0.0 0.0 0\n",
      "[started] 4750 4.5 0.25 0.0 0.9 0.0 0.0 0.0 0\n",
      "[finished] 4750 4.5 -0.75 0.4 0.86 0.0 0.0 0.0 0\n",
      "[started] 4750 4.5 0.25 0.4 0.9 0.0 0.0 0.0 0\n",
      "[finished] 4750 4.5 -0.75 0.0 0.86 0.0 0.0 0.0 0\n",
      "[started] 4750 4.5 0.5 0.0 0.92 0.0 0.0 0.0 0\n",
      "[finished] 4750 4.5 -1.0 0.4 0.85 0.0 0.0 0.0 0\n",
      "[started] 4750 4.5 0.5 0.4 0.92 0.0 0.0 0.0 0\n",
      "[finished] 4750 4.5 -0.5 0.4 0.87 0.0 0.0 0.0 0\n",
      "[started] 4750 5.0 -1.0 0.0 0.78 0.0 0.0 0.0 0\n",
      "[finished] 4750 4.5 -0.5 0.0 0.87 0.0 0.0 0.0 0\n",
      "[started] 4750 5.0 -1.0 0.4 0.78 0.0 0.0 0.0 0\n",
      "[finished] 4750 4.5 -0.25 0.4 0.88 0.0 0.0 0.0 0\n",
      "[started] 4750 5.0 -0.75 0.0 0.79 0.0 0.0 0.0 0\n",
      "[finished] 4750 4.5 -0.25 0.0 0.88 0.0 0.0 0.0 0\n",
      "[started] 4750 5.0 -0.75 0.4 0.79 0.0 0.0 0.0 0\n",
      "[finished] 4750 4.5 0.0 0.0 0.89 0.0 0.0 0.0 0\n",
      "[started] 4750 5.0 -0.5 0.0 0.79 0.0 0.0 0.0 0\n",
      "[finished] 4750 4.5 0.0 0.4 0.89 0.0 0.0 0.0 0\n",
      "[started] 4750 5.0 -0.5 0.4 0.79 0.0 0.0 0.0 0\n",
      "[finished] 4750 4.5 0.25 0.4 0.9 0.0 0.0 0.0 0\n",
      "[started] 4750 5.0 -0.25 0.0 0.81 0.0 0.0 0.0 0\n",
      "[finished] 4750 4.5 0.25 0.0 0.9 0.0 0.0 0.0 0\n",
      "[started] 4750 5.0 -0.25 0.4 0.81 0.0 0.0 0.0 0\n",
      "[finished] 4750 4.5 0.5 0.0 0.92 0.0 0.0 0.0 0\n",
      "[finished] 4750 4.5 0.5 0.4 0.92[started]  0.04750  0.05.0  0.0 0.0 00.0\n",
      " 0.82 0.0 0.0 0.0 0\n",
      "[started] 4750 5.0 0.0 0.4 0.82 0.0 0.0 0.0 0\n",
      "[finished] 4750 5.0 -1.0 0.0 0.78 0.0 0.0 0.0 0\n",
      "[started] 4750 5.0 0.25 0.0 0.83 0.0 0.0 0.0 0\n",
      "[finished] 4750 5.0 -1.0 0.4 0.78 0.0 0.0 0.0 0\n",
      "[started] 4750 5.0 0.25 0.4 0.83 0.0 0.0 0.0 0\n",
      "[finished] 4750 5.0 -0.75 0.0 0.79 0.0 0.0 0.0 0\n",
      "[started] 4750 5.0 0.5 0.0 0.84 0.0 0.0 0.0 0\n",
      "[finished] 4750 5.0 -0.75 0.4 0.79 0.0 0.0 0.0 0\n",
      "[started] 4750 5.0 0.5 0.4 0.84 0.0 0.0 0.0 0\n",
      "[finished] 4750 5.0 -0.5 0.0 0.79 0.0 0.0 0.0 0\n",
      "[started] 5000 3.0 -1.0 0.0 1.22 0.0 0.0 0.0 0\n"
     ]
    },
    {
     "name": "stderr",
     "output_type": "stream",
     "text": [
      "INFO:root:Spherical model atmosphere with radius 3.65e+11 cm\n",
      "[2023-11-10 14:10:47,245] [INFO] [turbospectrum:generate_spectrum:88]: Spherical model atmosphere with radius 3.65e+11 cm\n"
     ]
    },
    {
     "name": "stdout",
     "output_type": "stream",
     "text": [
      "[finished] 4750 5.0 -0.5 0.4 0.79 0.0 0.0 0.0 0\n",
      "[started] 5000 3.0 -1.0 0.4 1.22 0.0 0.0 0.0 0\n"
     ]
    },
    {
     "name": "stderr",
     "output_type": "stream",
     "text": [
      "INFO:root:Spherical model atmosphere with radius 3.65e+11 cm\n",
      "[2023-11-10 14:10:51,016] [INFO] [turbospectrum:generate_spectrum:88]: Spherical model atmosphere with radius 3.65e+11 cm\n"
     ]
    },
    {
     "name": "stdout",
     "output_type": "stream",
     "text": [
      "[finished] 4750 5.0 -0.25 0.0 0.81 0.0 0.0 0.0 0\n",
      "[started] 5000 3.0 -0.75 0.0 1.23 0.0 0.0 0.0 0\n"
     ]
    },
    {
     "name": "stderr",
     "output_type": "stream",
     "text": [
      "INFO:root:Spherical model atmosphere with radius 3.65e+11 cm\n",
      "[2023-11-10 14:10:52,172] [INFO] [turbospectrum:generate_spectrum:88]: Spherical model atmosphere with radius 3.65e+11 cm\n"
     ]
    },
    {
     "name": "stdout",
     "output_type": "stream",
     "text": [
      "[finished] 4750 5.0 0.0 0.4 0.82 0.0 0.0 0.0 0\n",
      "[started] 5000 3.0 -0.75 0.4 1.23 0.0 0.0 0.0 0\n"
     ]
    },
    {
     "name": "stderr",
     "output_type": "stream",
     "text": [
      "INFO:root:Spherical model atmosphere with radius 3.65e+11 cm\n",
      "[2023-11-10 14:10:52,463] [INFO] [turbospectrum:generate_spectrum:88]: Spherical model atmosphere with radius 3.65e+11 cm\n"
     ]
    },
    {
     "name": "stdout",
     "output_type": "stream",
     "text": [
      "[finished] 4750 5.0 0.0 0.0 0.82 0.0 0.0 0.0 0\n",
      "[started] 5000 3.0 -0.5 0.0 1.24 0.0 0.0 0.0 0\n"
     ]
    },
    {
     "name": "stderr",
     "output_type": "stream",
     "text": [
      "INFO:root:Spherical model atmosphere with radius 3.65e+11 cm\n",
      "[2023-11-10 14:10:52,794] [INFO] [turbospectrum:generate_spectrum:88]: Spherical model atmosphere with radius 3.65e+11 cm\n"
     ]
    },
    {
     "name": "stdout",
     "output_type": "stream",
     "text": [
      "[finished] 4750 5.0 0.25 0.0 0.83 0.0 0.0 0.0 0\n",
      "[started] 5000 3.0 -0.5 0.4 1.24 0.0 0.0 0.0 0\n"
     ]
    },
    {
     "name": "stderr",
     "output_type": "stream",
     "text": [
      "INFO:root:Spherical model atmosphere with radius 3.65e+11 cm\n",
      "[2023-11-10 14:10:53,016] [INFO] [turbospectrum:generate_spectrum:88]: Spherical model atmosphere with radius 3.65e+11 cm\n"
     ]
    },
    {
     "name": "stdout",
     "output_type": "stream",
     "text": [
      "[finished] 4750 5.0 -0.25 0.4 0.81 0.0 0.0 0.0 0\n",
      "[started] 5000 3.0 -0.25 0.0 1.25 0.0 0.0 0.0 0\n"
     ]
    },
    {
     "name": "stderr",
     "output_type": "stream",
     "text": [
      "INFO:root:Spherical model atmosphere with radius 3.65e+11 cm\n",
      "[2023-11-10 14:10:53,212] [INFO] [turbospectrum:generate_spectrum:88]: Spherical model atmosphere with radius 3.65e+11 cm\n"
     ]
    },
    {
     "name": "stdout",
     "output_type": "stream",
     "text": [
      "[finished] 4750 5.0 0.25 0.4 0.83 0.0 0.0 0.0 0\n",
      "[started] 5000 3.0 -0.25 0.4 1.25 0.0 0.0 0.0 0\n"
     ]
    },
    {
     "name": "stderr",
     "output_type": "stream",
     "text": [
      "INFO:root:Spherical model atmosphere with radius 3.65e+11 cm\n",
      "[2023-11-10 14:10:54,162] [INFO] [turbospectrum:generate_spectrum:88]: Spherical model atmosphere with radius 3.65e+11 cm\n"
     ]
    },
    {
     "name": "stdout",
     "output_type": "stream",
     "text": [
      "[finished] 4750 5.0 0.5 0.4 0.84 0.0 0.0 0.0 0\n",
      "[started] 5000 3.0 0.0 0.0 1.26 0.0 0.0 0.0 0\n"
     ]
    },
    {
     "name": "stderr",
     "output_type": "stream",
     "text": [
      "INFO:root:Spherical model atmosphere with radius 3.65e+11 cm\n",
      "[2023-11-10 14:10:54,390] [INFO] [turbospectrum:generate_spectrum:88]: Spherical model atmosphere with radius 3.65e+11 cm\n"
     ]
    },
    {
     "name": "stdout",
     "output_type": "stream",
     "text": [
      "[finished] 4750 5.0 0.5 0.0 0.84 0.0 0.0 0.0 0\n",
      "[started] 5000 3.0 0.0 0.4 1.26 0.0 0.0 0.0 0\n"
     ]
    },
    {
     "name": "stderr",
     "output_type": "stream",
     "text": [
      "INFO:root:Spherical model atmosphere with radius 3.65e+11 cm\n",
      "[2023-11-10 14:10:55,100] [INFO] [turbospectrum:generate_spectrum:88]: Spherical model atmosphere with radius 3.65e+11 cm\n"
     ]
    },
    {
     "name": "stdout",
     "output_type": "stream",
     "text": [
      "[finished] 5000 3.0 -1.0 0.0 1.22 0.0 0.0 0.0 0\n",
      "[started] 5000 3.0 0.25 0.0 1.28 0.0 0.0 0.0 0\n"
     ]
    },
    {
     "name": "stderr",
     "output_type": "stream",
     "text": [
      "INFO:root:Spherical model atmosphere with radius 3.65e+11 cm\n",
      "[2023-11-10 14:11:35,749] [INFO] [turbospectrum:generate_spectrum:88]: Spherical model atmosphere with radius 3.65e+11 cm\n"
     ]
    },
    {
     "name": "stdout",
     "output_type": "stream",
     "text": [
      "[finished] 5000 3.0 -1.0 0.4 1.22 0.0 0.0 0.0 0\n",
      "[started] 5000 3.0 0.25 0.4 1.28 0.0 0.0 0.0 0\n"
     ]
    },
    {
     "name": "stderr",
     "output_type": "stream",
     "text": [
      "INFO:root:Spherical model atmosphere with radius 3.65e+11 cm\n",
      "[2023-11-10 14:11:39,885] [INFO] [turbospectrum:generate_spectrum:88]: Spherical model atmosphere with radius 3.65e+11 cm\n"
     ]
    },
    {
     "name": "stdout",
     "output_type": "stream",
     "text": [
      "[finished] 5000 3.0 -0.5 0.0 1.24 0.0 0.0 0.0 0\n",
      "[started] 5000 3.0 0.5 0.0 1.29 0.0 0.0 0.0 0\n",
      "[finished] 5000 3.0 -0.75 0.0 1.23 0.0 0.0 0.0 0\n",
      "[started] 5000 3.0 0.5 0.4 1.29 0.0"
     ]
    },
    {
     "name": "stderr",
     "output_type": "stream",
     "text": [
      "INFO:root:Spherical model atmosphere with radius 3.65e+11 cm\n"
     ]
    },
    {
     "name": "stdout",
     "output_type": "stream",
     "text": [
      " "
     ]
    },
    {
     "name": "stderr",
     "output_type": "stream",
     "text": [
      "[2023-11-10 14:11:40,651] [INFO] [turbospectrum:generate_spectrum:88]: Spherical model atmosphere with radius 3.65e+11 cm\n"
     ]
    },
    {
     "name": "stdout",
     "output_type": "stream",
     "text": [
      "0.0 0.0 0\n",
      "[finished] 5000 3.0 -0.75 0.4 1.23 0.0 0.0 0.0 0\n"
     ]
    },
    {
     "name": "stderr",
     "output_type": "stream",
     "text": [
      "INFO:root:Spherical model atmosphere with radius 3.65e+11 cm\n"
     ]
    },
    {
     "name": "stdout",
     "output_type": "stream",
     "text": [
      "[started]"
     ]
    },
    {
     "name": "stderr",
     "output_type": "stream",
     "text": [
      "[2023-11-10 14:11:40,748] [INFO] [turbospectrum:generate_spectrum:88]: Spherical model atmosphere with radius 3.65e+11 cm\n"
     ]
    },
    {
     "name": "stdout",
     "output_type": "stream",
     "text": [
      " 5000 3.5 -1.0 0.0 0.99 0.0 0.0 0.0 0\n"
     ]
    },
    {
     "name": "stderr",
     "output_type": "stream",
     "text": [
      "INFO:root:Spherical model atmosphere with radius 2.05e+11 cm\n",
      "[2023-11-10 14:11:40,853] [INFO] [turbospectrum:generate_spectrum:88]: Spherical model atmosphere with radius 2.05e+11 cm\n"
     ]
    },
    {
     "name": "stdout",
     "output_type": "stream",
     "text": [
      "[finished] 5000 3.0 -0.5 0.4 1.24 0.0 0.0 0.0 0\n",
      "[started] 5000 3.5 -1.0 0.4 0.99 0.0 0.0 0.0 0\n"
     ]
    },
    {
     "name": "stderr",
     "output_type": "stream",
     "text": [
      "INFO:root:Spherical model atmosphere with radius 2.05e+11 cm\n",
      "[2023-11-10 14:11:41,065] [INFO] [turbospectrum:generate_spectrum:88]: Spherical model atmosphere with radius 2.05e+11 cm\n"
     ]
    },
    {
     "name": "stdout",
     "output_type": "stream",
     "text": [
      "[finished] 5000 3.0 -0.25 0.0 1.25 0.0 0.0 0.0 0\n",
      "[started] 5000 3.5 -0.75 0.0 1.0 0.0 0.0 0.0 0\n"
     ]
    },
    {
     "name": "stderr",
     "output_type": "stream",
     "text": [
      "INFO:root:Spherical model atmosphere with radius 2.05e+11 cm\n",
      "[2023-11-10 14:11:41,218] [INFO] [turbospectrum:generate_spectrum:88]: Spherical model atmosphere with radius 2.05e+11 cm\n"
     ]
    },
    {
     "name": "stdout",
     "output_type": "stream",
     "text": [
      "[finished] 5000 3.0 0.0 0.0 1.26 0.0 0.0 0.0 0\n",
      "[started] 5000 3.5 -0.75 0.4 1.0 0.0 0.0 0.0 0\n",
      "[finished] 5000 3.0 -0.25 0.4 1.25 0.0 0.0 0.0 0\n",
      "[started] 5000 3.5 "
     ]
    },
    {
     "name": "stderr",
     "output_type": "stream",
     "text": [
      "INFO:root:Spherical model atmosphere with radius 2.05e+11 cm\n"
     ]
    },
    {
     "name": "stdout",
     "output_type": "stream",
     "text": [
      "-0.5 "
     ]
    },
    {
     "name": "stderr",
     "output_type": "stream",
     "text": [
      "[2023-11-10 14:11:42,176] [INFO] [turbospectrum:generate_spectrum:88]: Spherical model atmosphere with radius 2.05e+11 cm\n"
     ]
    },
    {
     "name": "stdout",
     "output_type": "stream",
     "text": [
      "0.0 1.01 0.0 0.0 0.0 0\n"
     ]
    },
    {
     "name": "stderr",
     "output_type": "stream",
     "text": [
      "INFO:root:Spherical model atmosphere with radius 2.05e+11 cm\n",
      "[2023-11-10 14:11:42,275] [INFO] [turbospectrum:generate_spectrum:88]: Spherical model atmosphere with radius 2.05e+11 cm\n"
     ]
    },
    {
     "name": "stdout",
     "output_type": "stream",
     "text": [
      "[finished] 5000 3.0 0.0 0.4 1.26 0.0 0.0 0.0 0\n",
      "[started] 5000 3.5 -0.5 0.4 1.01 0.0 0.0 0.0 0\n"
     ]
    },
    {
     "name": "stderr",
     "output_type": "stream",
     "text": [
      "INFO:root:Spherical model atmosphere with radius 2.05e+11 cm\n",
      "[2023-11-10 14:11:43,294] [INFO] [turbospectrum:generate_spectrum:88]: Spherical model atmosphere with radius 2.05e+11 cm\n"
     ]
    },
    {
     "name": "stdout",
     "output_type": "stream",
     "text": [
      "[finished] 5000 3.0 0.25 0.0 1.28 0.0 0.0 0.0 0\n",
      "[started] 5000 3.5 -0.25 0.0 1.02 0.0 0.0 0.0 0\n"
     ]
    },
    {
     "name": "stderr",
     "output_type": "stream",
     "text": [
      "INFO:root:Spherical model atmosphere with radius 2.05e+11 cm\n",
      "[2023-11-10 14:12:24,601] [INFO] [turbospectrum:generate_spectrum:88]: Spherical model atmosphere with radius 2.05e+11 cm\n"
     ]
    },
    {
     "name": "stdout",
     "output_type": "stream",
     "text": [
      "[finished] 5000 3.5 -1.0 0.0 0.99 0.0 0.0 0.0 0\n",
      "[started] 5000 3.5 -0.25 0.4 1.02 0.0 0.0 0.0 0\n"
     ]
    },
    {
     "name": "stderr",
     "output_type": "stream",
     "text": [
      "INFO:root:Spherical model atmosphere with radius 2.05e+11 cm\n",
      "[2023-11-10 14:12:28,444] [INFO] [turbospectrum:generate_spectrum:88]: Spherical model atmosphere with radius 2.05e+11 cm\n"
     ]
    },
    {
     "name": "stdout",
     "output_type": "stream",
     "text": [
      "[finished] 5000 3.5 -0.75 0.0 1.0 0.0 0.0 0.0 0\n",
      "[started] 5000 3.5 0.0 0.0 1.03 0.0 0.0 0.0 0\n"
     ]
    },
    {
     "name": "stderr",
     "output_type": "stream",
     "text": [
      "INFO:root:Spherical model atmosphere with radius 2.05e+11 cm\n",
      "[2023-11-10 14:12:28,683] [INFO] [turbospectrum:generate_spectrum:88]: Spherical model atmosphere with radius 2.05e+11 cm\n"
     ]
    },
    {
     "name": "stdout",
     "output_type": "stream",
     "text": [
      "[finished] 5000 3.0 0.25 0.4 1.28 0.0 0.0 0.0 0\n",
      "[started] 5000 3.5 0.0 [finished]0.4  5000 1.033.5 0.0  0.0-1.0  0.0 0.40 0.99\n",
      " 0.0 0.0 0.0 0\n",
      "[started] 5000 3.5 0.25 0.0 1.04 0.0 0.0 0.0 0\n"
     ]
    },
    {
     "name": "stderr",
     "output_type": "stream",
     "text": [
      "INFO:root:Spherical model atmosphere with radius 2.05e+11 cm\n",
      "[2023-11-10 14:12:28,973] [INFO] [turbospectrum:generate_spectrum:88]: Spherical model atmosphere with radius 2.05e+11 cm\n",
      "INFO:root:Spherical model atmosphere with radius 2.05e+11 cm\n",
      "[2023-11-10 14:12:29,025] [INFO] [turbospectrum:generate_spectrum:88]: Spherical model atmosphere with radius 2.05e+11 cm\n"
     ]
    },
    {
     "name": "stdout",
     "output_type": "stream",
     "text": [
      "[finished] 5000 3.0 0.5 0.0 1.29 0.0 0.0 0.0 0\n",
      "[started] 5000 3.5 0.25 0.4 1.04 0.0 0.0 0.0 0\n"
     ]
    },
    {
     "name": "stderr",
     "output_type": "stream",
     "text": [
      "INFO:root:Spherical model atmosphere with radius 2.05e+11 cm\n",
      "[2023-11-10 14:12:29,542] [INFO] [turbospectrum:generate_spectrum:88]: Spherical model atmosphere with radius 2.05e+11 cm\n"
     ]
    },
    {
     "name": "stdout",
     "output_type": "stream",
     "text": [
      "[finished] 5000 3.0 0.5 0.4 1.29 [finished]0.0  50000.0  3.50.0  0-0.75 \n",
      "0.4 1.0 0.0 0.0 0.0 0[started] \n",
      "5000 3.5 0.5 0.0 1.06 0.0 0.0 0.0[started]  50000 \n",
      "3.5 0.5 0.4 1.06 0.0 0.0 0.0 0\n",
      "[finished] 5000 3.5 -0.5 0.0 1.01"
     ]
    },
    {
     "name": "stderr",
     "output_type": "stream",
     "text": [
      "INFO:root:Spherical model atmosphere with radius 2.05e+11 cm\n",
      "[2023-11-10 14:12:30,012] [INFO] [turbospectrum:generate_spectrum:88]: Spherical model atmosphere with radius 2.05e+11 cm\n"
     ]
    },
    {
     "name": "stdout",
     "output_type": "stream",
     "text": [
      " 0.0 0.0 0.0 0\n"
     ]
    },
    {
     "name": "stderr",
     "output_type": "stream",
     "text": [
      "INFO:root:Spherical model atmosphere with radius 2.05e+11 cm\n",
      "[2023-11-10 14:12:30,021] [INFO] [turbospectrum:generate_spectrum:88]: Spherical model atmosphere with radius 2.05e+11 cm\n"
     ]
    },
    {
     "name": "stdout",
     "output_type": "stream",
     "text": [
      "[started] 5000 4.0 -1.0 0.0 0.92 0.0 0.0 0.0 0\n",
      "[finished] 5000 3.5 -0.5 0.4 1.01 0.0 0.0 0.0 0\n",
      "[started] 5000 4.0 -1.0 0.4 0.92 0.0 0.0 0.0 0\n",
      "[finished] 5000 4.0 -1.0 0.0 0.92 0.0 0.0 0.0 0\n",
      "[started] 5000 4.0 -0.75 0.0 0.93 0.0 0.0 0.0 0\n",
      "[finished] 5000 4.0 -1.0 0.4 0.92 0.0 0.0 0.0 0\n",
      "[started] 5000 4.0 -0.75 0.4 0.93 0.0 0.0 0.0 0\n",
      "[finished] 5000 3.5 -0.25 0.0 1.02 0.0 0.0 0.0 0\n",
      "[started] 5000 4.0 -0.5 0.0 0.94 0.0 0.0 0.0 0\n",
      "[finished] 5000 3.5 -0.25 0.4 1.02 0.0 0.0 0.0 0\n",
      "[started] 5000 4.0 -0.5 0.4 0.94 0.0 0.0 0.0 0\n",
      "[finished] 5000 3.5 0.0 0.0 1.03 0.0 0.0 0.0 0\n",
      "[started] 5000 4.0 -0.25 0.0 0.95 0.0 0.0 0.0 0\n",
      "[finished] 5000 3.5 0.0 0.4 1.03 0.0 0.0 0.0 0\n",
      "[started] 5000 4.0 -0.25 0.4 0.95 0.0 0.0 0.0 0\n",
      "[finished] 5000 3.5 0.25 0.4 1.04 0.0 0.0 0.0 0\n",
      "[started] 5000 4.0 0.0 0.0 0.96 0.0 0.0 0.0 0\n",
      "[finished] 5000 3.5 0.25 0.0 1.04 0.0 0.0 0.0 0\n",
      "[started] 5000 4.0 0.0 0.4 0.96 0.0 0.0 0.0 0\n",
      "[finished] 5000 3.5 0.5 0.4 1.06 0.0 0.0 0.0 0\n",
      "[started] 5000 4.0 0.25 0.0 0.98 0.0 0.0 0.0 0\n",
      "[finished] 5000 3.5 0.5 0.0 1.06 0.0 0.0 0.0 0\n",
      "[started] 5000 4.0 0.25 0.4 0.98 0.0 0.0 0.0 0\n",
      "[finished] 5000 4.0 -0.75 0.0 0.93 0.0 0.0 0.0 0\n",
      "[started] 5000 4.0 0.5 0.0 0.99 0.0 0.0 0.0 0\n",
      "[finished] 5000 4.0 -0.75 0.4 0.93 0.0 0.0 0.0 0\n",
      "[started] 5000 4.0 0.5 0.4 0.99 0.0 0.0 0.0 0\n",
      "[finished] 5000 4.0 -0.5 0.0 0.94 0.0 0.0 0.0 0\n",
      "[started] 5000 4.5 -1.0 0.0 0.85 0.0 0.0 0.0 0\n",
      "[finished] 5000 4.0 -0.5 0.4 0.94 0.0 0.0 0.0 0\n",
      "[started] 5000 4.5 -1.0 0.4 0.85 0.0 0.0 0.0 0\n",
      "[finished] 5000 4.0 -0.25 0.0 0.95 0.0 0.0 0.0 0\n",
      "[started] 5000 4.5 -0.75 0.0 0.86 0.0 0.0 0.0 0\n",
      "[finished] 5000 4.0 0.0 0.0 0.96 0.0 0.0 0.0 0\n",
      "[started] 5000 [finished]4.5  5000-0.75 4.0  0.40.0 0.4  0.960.86  0.00.0  0.00.0  0.00.0 0 \n",
      "0\n",
      "[finished] 5000 4.0 -0.25 0.4 0.95[started] 0.0 5000 0.0  4.50.0  -0.5 00.0\n",
      " 0.87 0.0 0.0 0.0 0\n",
      "[started] 5000 4.5 -0.5 0.4 0.87 0.0 0.0 0.0 0\n",
      "[finished] 5000 4.0 0.25 0.4 [finished] 0.985000  4.00.0  0.00.25  0.0 0.00 0.98\n",
      " 0.0 0.0 0.0 0\n",
      "[started] 5000 4.5 -0.25 0.0 [started]0.88  0.05000 4.5 -0.25 0.0 0.4  0.00.88  0.0 00.0\n",
      " 0.0 0\n",
      "[finished] 5000 4.0 0.5 0.0 0.99 0.0 0.0 0.0 0\n",
      "[started] 5000 4.5 0.0 0.0 0.89 0.0 0.0 0.0 0\n",
      "[finished] 5000 4.0 0.5 0.4 0.99 0.0 0.0 0.0 0\n",
      "[started] 5000 4.5 0.0 0.4 0.89 0.0 0.0 0.0 0\n",
      "[finished] 5000 4.5 -1.0 0.0 0.85 0.0 0.0 0.0 0\n",
      "[started] 5000 4.5 0.25 0.0 0.9 0.0 0.0 0.0 0\n",
      "[finished] 5000 4.5 -1.0 0.4 0.85 0.0 0.0 0.0 0\n",
      "[started] 5000 4.5 0.25 0.4 0.9 0.0 0.0 0.0 0\n",
      "[finished] 5000 4.5 -0.75 0.0 0.86 0.0 0.0 0.0 0\n",
      "[started] 5000 4.5 0.5 0.0 0.92 0.0 0.0 0.0 0\n",
      "[finished] 5000 4.5 -0.75 0.4 0.86 0.0 0.0 0.0 0\n",
      "[started] 5000 4.5 0.5 0.4 0.92 0.0 0.0 0.0 0\n",
      "[finished] 5000 4.5 -0.5 0.4 0.87 0.0 0.0 0.0 0\n",
      "[started] 5000 5.0 -1.0 0.0 0.78 0.0 0.0 0.0 0\n",
      "[finished] 5000 4.5 -0.5 0.0 0.87 0.0 0.0 0.0 0\n",
      "[started] 5000 5.0 -1.0 0.4 0.78 0.0 0.0 0.0 0\n",
      "[finished] 5000 4.5 -0.25 0.0 0.88 0.0 0.0 0.0 0\n",
      "[started] 5000 5.0 -0.75 0.0 0.79 0.0 0.0 0.0 0\n",
      "[finished] 5000 4.5 -0.25 0.4 0.88 0.0 0.0 0.0 0\n",
      "[started] 5000 5.0 -0.75 0.4 0.79 0.0 0.0 0.0 0\n",
      "[finished] 5000 4.5 0.0 0.0 0.89 0.0 0.0 0.0 0\n",
      "[started] 5000 5.0 -0.5 0.0 0.79 0.0 0.0 0.0 0\n",
      "[finished] 5000 4.5 0.0 0.4 0.89 0.0 0.0 0.0 0\n",
      "[started] 5000 5.0 -0.5 0.4 0.79 0.0 0.0 0.0 0\n",
      "[finished] 5000 4.5 0.25 0.0 0.9 0.0 0.0 0.0 0\n",
      "[started] 5000 5.0 -0.25 0.0 0.81 0.0 0.0 0.0 0\n",
      "[finished] 5000 4.5 0.25 0.4 0.9 0.0 0.0 0.0 0\n",
      "[started] 5000 5.0 -0.25 0.4 0.81 0.0 0.0 0.0 0\n",
      "[finished] 5000 4.5 0.5 0.0 0.92 0.0 0.0 0.0 0\n",
      "[started] 5000 5.0 0.0 0.0 0.82 0.0 0.0 0.0 0\n",
      "[finished] 5000 5.0 -1.0 0.4 0.78 0.0 0.0 0.0 0\n",
      "[started] 5000 5.0 0.0 0.4 0.82 0.0 0.0 0.0 0\n",
      "[finished] 5000 4.5 0.5 0.4 0.92 0.0 0.0 0.0 0\n",
      "[started] 5000 5.0 0.25 0.0 0.83 0.0 0.0 0.0 0\n",
      "[finished] 5000 5.0 -1.0 0.0 0.78 0.0 0.0 0.0 0\n",
      "[started] 5000 5.0 0.25 0.4 0.83 0.0 0.0 0.0 0\n",
      "[finished] 5000 5.0 -0.75 0.0 0.79 0.0 0.0 0.0 0\n",
      "[started] 5000 5.0 0.5 0.0 0.84 0.0 0.0 0.0 0\n",
      "[finished] 5000 5.0 -0.75 0.4 0.79 0.0 0.0 0.0 0\n",
      "[started] 5000 5.0 0.5 0.4 0.84 0.0 0.0 0.0 0\n",
      "[finished] 5000 5.0 -0.5 0.0 0.79 0.0 0.0 0.0 0\n",
      "[started] 5250 3.0 -1.0 0.0 1.26 0.0 0.0 0.0 0\n"
     ]
    },
    {
     "name": "stderr",
     "output_type": "stream",
     "text": [
      "INFO:root:Spherical model atmosphere with radius 3.65e+11 cm\n",
      "[2023-11-10 14:15:42,230] [INFO] [turbospectrum:generate_spectrum:88]: Spherical model atmosphere with radius 3.65e+11 cm\n"
     ]
    },
    {
     "name": "stdout",
     "output_type": "stream",
     "text": [
      "[finished] 5000 5.0 -0.25 0.0 0.81 0.0 0.0 0.0 0\n",
      "[started] 5250 3.0 -1.0 0.4 1.26 0.0 0.0 0.0 0\n"
     ]
    },
    {
     "name": "stderr",
     "output_type": "stream",
     "text": [
      "INFO:root:Spherical model atmosphere with radius 3.65e+11 cm\n",
      "[2023-11-10 14:15:45,727] [INFO] [turbospectrum:generate_spectrum:88]: Spherical model atmosphere with radius 3.65e+11 cm\n"
     ]
    },
    {
     "name": "stdout",
     "output_type": "stream",
     "text": [
      "[finished] 5000 5.0 0.0 0.0 0.82 0.0 0.0 0.0 0\n",
      "[started] 5250 3.0 -0.75 0.0 1.27 0.0 0.0 0.0 0[finished]\n",
      " 5000 5.0 -0.25 0.4 0.81 0.0 0.0 0.0 0\n",
      "[started] 5250 3.0 -0.75 0.4 1.27 0.0 0.0 0.0 0\n"
     ]
    },
    {
     "name": "stderr",
     "output_type": "stream",
     "text": [
      "INFO:root:Spherical model atmosphere with radius 3.65e+11 cm\n",
      "[2023-11-10 14:15:48,522] [INFO] [turbospectrum:generate_spectrum:88]: Spherical model atmosphere with radius 3.65e+11 cm\n",
      "INFO:root:Spherical model atmosphere with radius 3.65e+11 cm\n",
      "[2023-11-10 14:15:48,578] [INFO] [turbospectrum:generate_spectrum:88]: Spherical model atmosphere with radius 3.65e+11 cm\n"
     ]
    },
    {
     "name": "stdout",
     "output_type": "stream",
     "text": [
      "[finished] 5000 5.0 0.0 0.4 0.82 0.0 0.0 0.0 0\n",
      "[started] 5250 3.0 -0.5 0.0 1.28 0.0 0.0 0.0 0\n"
     ]
    },
    {
     "name": "stderr",
     "output_type": "stream",
     "text": [
      "INFO:root:Spherical model atmosphere with radius 3.65e+11 cm\n",
      "[2023-11-10 14:15:49,341] [INFO] [turbospectrum:generate_spectrum:88]: Spherical model atmosphere with radius 3.65e+11 cm\n"
     ]
    },
    {
     "name": "stdout",
     "output_type": "stream",
     "text": [
      "[finished] 5000 5.0 0.25 0.0 0.83 0.0 0.0 0.0 0\n",
      "[started] 5250 3.0 -0.5 0.4 1.28 0.0 0.0 0.0 0\n"
     ]
    },
    {
     "name": "stderr",
     "output_type": "stream",
     "text": [
      "INFO:root:Spherical model atmosphere with radius 3.65e+11 cm\n",
      "[2023-11-10 14:15:49,566] [INFO] [turbospectrum:generate_spectrum:88]: Spherical model atmosphere with radius 3.65e+11 cm\n"
     ]
    },
    {
     "name": "stdout",
     "output_type": "stream",
     "text": [
      "[finished] 5000 5.0 0.25 0.4 0.83 0.0 0.0 0.0 0\n",
      "[started] 5250 3.0 -0.25 0.0 1.29 0.0 0.0 0.0 0\n"
     ]
    },
    {
     "name": "stderr",
     "output_type": "stream",
     "text": [
      "INFO:root:Spherical model atmosphere with radius 3.65e+11 cm\n",
      "[2023-11-10 14:15:50,188] [INFO] [turbospectrum:generate_spectrum:88]: Spherical model atmosphere with radius 3.65e+11 cm\n"
     ]
    },
    {
     "name": "stdout",
     "output_type": "stream",
     "text": [
      "[finished] 5000 5.0 -0.5 0.4 0.79 0.0 0.0 0.0 0\n",
      "[started] 5250 3.0 -0.25 0.4 1.29 0.0 0.0 0.0 0\n"
     ]
    },
    {
     "name": "stderr",
     "output_type": "stream",
     "text": [
      "INFO:root:Spherical model atmosphere with radius 3.65e+11 cm\n",
      "[2023-11-10 14:15:50,650] [INFO] [turbospectrum:generate_spectrum:88]: Spherical model atmosphere with radius 3.65e+11 cm\n"
     ]
    },
    {
     "name": "stdout",
     "output_type": "stream",
     "text": [
      "[finished] 5000 5.0 0.5 0.4 0.84 0.0 0.0 0.0 0\n",
      "[started] 5250 3.0 0.0 0.0 1.3 0.0 0.0 0.0 0\n",
      "[finished] 5000 5.0 0.5 0.0 0.84 0.0 0.0 0.0 "
     ]
    },
    {
     "name": "stderr",
     "output_type": "stream",
     "text": [
      "INFO:root:Spherical model atmosphere with radius 3.65e+11 cm\n",
      "[2023-11-10 14:15:50,846] [INFO] [turbospectrum:generate_spectrum:88]: Spherical model atmosphere with radius 3.65e+11 cm\n"
     ]
    },
    {
     "name": "stdout",
     "output_type": "stream",
     "text": [
      "0\n",
      "[started] 5250 3.0 0.0 0.4 1.3 0.0 0.0 0.0 0\n"
     ]
    },
    {
     "name": "stderr",
     "output_type": "stream",
     "text": [
      "INFO:root:Spherical model atmosphere with radius 3.65e+11 cm\n",
      "[2023-11-10 14:15:50,955] [INFO] [turbospectrum:generate_spectrum:88]: Spherical model atmosphere with radius 3.65e+11 cm\n"
     ]
    },
    {
     "name": "stdout",
     "output_type": "stream",
     "text": [
      "[finished] 5250 3.0 -1.0 0.0 1.26 0.0 0.0 0.0 0\n",
      "[started] 5250 3.0 0.25 0.0 1.32 0.0 0.0 0.0 0\n"
     ]
    },
    {
     "name": "stderr",
     "output_type": "stream",
     "text": [
      "INFO:root:Spherical model atmosphere with radius 3.65e+11 cm\n",
      "[2023-11-10 14:16:30,253] [INFO] [turbospectrum:generate_spectrum:88]: Spherical model atmosphere with radius 3.65e+11 cm\n"
     ]
    },
    {
     "name": "stdout",
     "output_type": "stream",
     "text": [
      "[finished] 5250 3.0 -0.75 0.4 1.27 0.0 0.0 0.0 0\n",
      "[started] 5250 3.0 0.25 0.4 1.32 0.0 0.0 0.0 0\n"
     ]
    },
    {
     "name": "stderr",
     "output_type": "stream",
     "text": [
      "INFO:root:Spherical model atmosphere with radius 3.65e+11 cm\n",
      "[2023-11-10 14:16:36,538] [INFO] [turbospectrum:generate_spectrum:88]: Spherical model atmosphere with radius 3.65e+11 cm\n"
     ]
    },
    {
     "name": "stdout",
     "output_type": "stream",
     "text": [
      "[finished] 5250 3.0 -0.75 0.0 1.27 0.0 0.0 0.0 0\n",
      "[started] 5250 3.0 0.5 0.0 1.33 0.0 0.0 0.0 0\n",
      "[finished] 5250 3.0 -0.5 0.0 1.28 0.0 0.0 0.0 0\n",
      "[started] 5250 3.0 0.5 0.4 1.33"
     ]
    },
    {
     "name": "stderr",
     "output_type": "stream",
     "text": [
      "INFO:root:Spherical model atmosphere with radius 3.65e+11 cm\n"
     ]
    },
    {
     "name": "stdout",
     "output_type": "stream",
     "text": [
      " "
     ]
    },
    {
     "name": "stderr",
     "output_type": "stream",
     "text": [
      "[2023-11-10 14:16:36,757] [INFO] [turbospectrum:generate_spectrum:88]: Spherical model atmosphere with radius 3.65e+11 cm\n"
     ]
    },
    {
     "name": "stdout",
     "output_type": "stream",
     "text": [
      "0.0 0.0 0.0 0\n"
     ]
    },
    {
     "name": "stderr",
     "output_type": "stream",
     "text": [
      "INFO:root:Spherical model atmosphere with radius 3.65e+11 cm\n",
      "[2023-11-10 14:16:36,847] [INFO] [turbospectrum:generate_spectrum:88]: Spherical model atmosphere with radius 3.65e+11 cm\n"
     ]
    },
    {
     "name": "stdout",
     "output_type": "stream",
     "text": [
      "[finished] 5250 3.0 -0.5 0.4 1.28 0.0 0.0 0.0 0\n",
      "[finished] 5250 3.0 -1.0[started]  5250[finished]0.4  3.5 5250  -1.01.26 3.0  0.0-0.250.0   1.030.00.0   0.00.01.29   00.00.0\n",
      " 0.0  0.00 \n",
      "0.0 0\n",
      "[started] 5250 3.5[started]  5250-1.0  0.43.5  -0.751.03  0.00.0  1.03 0.0 0.0 0.00.0  00.0\n",
      " 0\n"
     ]
    },
    {
     "name": "stderr",
     "output_type": "stream",
     "text": [
      "INFO:root:Spherical model atmosphere with radius 2.05e+11 cm\n",
      "[2023-11-10 14:16:37,372] [INFO] [turbospectrum:generate_spectrum:88]: Spherical model atmosphere with radius 2.05e+11 cm\n",
      "INFO:root:Spherical model atmosphere with radius 2.05e+11 cm\n",
      "[2023-11-10 14:16:37,414] [INFO] [turbospectrum:generate_spectrum:88]: Spherical model atmosphere with radius 2.05e+11 cm\n",
      "INFO:root:Spherical model atmosphere with radius 2.05e+11 cm\n",
      "[2023-11-10 14:16:37,419] [INFO] [turbospectrum:generate_spectrum:88]: Spherical model atmosphere with radius 2.05e+11 cm\n"
     ]
    },
    {
     "name": "stdout",
     "output_type": "stream",
     "text": [
      "[finished] 5250 3.0 -0.25 0.4 1.29 0.0 0.0 0.0 0\n",
      "[started] 5250 3.5 -0.75 0.4 1.03 0.0 0.0 0.0 0\n"
     ]
    },
    {
     "name": "stderr",
     "output_type": "stream",
     "text": [
      "INFO:root:Spherical model atmosphere with radius 2.05e+11 cm\n",
      "[2023-11-10 14:16:38,020] [INFO] [turbospectrum:generate_spectrum:88]: Spherical model atmosphere with radius 2.05e+11 cm\n"
     ]
    },
    {
     "name": "stdout",
     "output_type": "stream",
     "text": [
      "[finished] 5250 3.0 0.0 0.0 1.3 0.0 0.0 0.0 0\n",
      "[started] 5250 3.5 -0.5 0.0 1.04 0.0 0.0 0.0 0\n"
     ]
    },
    {
     "name": "stderr",
     "output_type": "stream",
     "text": [
      "INFO:root:Spherical model atmosphere with radius 2.05e+11 cm\n",
      "[2023-11-10 14:16:38,623] [INFO] [turbospectrum:generate_spectrum:88]: Spherical model atmosphere with radius 2.05e+11 cm\n"
     ]
    },
    {
     "name": "stdout",
     "output_type": "stream",
     "text": [
      "[finished] 5250 3.0 0.0 0.4 1.3 0.0 0.0 0.0 0\n",
      "[started] 5250 3.5 -0.5 0.4 1.04 0.0 0.0 0.0 0\n"
     ]
    },
    {
     "name": "stderr",
     "output_type": "stream",
     "text": [
      "INFO:root:Spherical model atmosphere with radius 2.05e+11 cm\n",
      "[2023-11-10 14:16:39,071] [INFO] [turbospectrum:generate_spectrum:88]: Spherical model atmosphere with radius 2.05e+11 cm\n"
     ]
    },
    {
     "name": "stdout",
     "output_type": "stream",
     "text": [
      "[finished] 5250 3.0 0.25 0.0 1.32 0.0 0.0 0.0 0\n",
      "[started] 5250 3.5 -0.25 0.0 1.05 0.0 0.0 0.0 0\n"
     ]
    },
    {
     "name": "stderr",
     "output_type": "stream",
     "text": [
      "INFO:root:Spherical model atmosphere with radius 2.05e+11 cm\n",
      "[2023-11-10 14:17:18,442] [INFO] [turbospectrum:generate_spectrum:88]: Spherical model atmosphere with radius 2.05e+11 cm\n"
     ]
    },
    {
     "name": "stdout",
     "output_type": "stream",
     "text": [
      "[finished] 5250 3.5 -1.0 0.0 1.03 [finished]0.0 5250  0.03.0  0.50.0 0.0 0 1.33\n",
      " 0.0 0.0 0.0 0\n",
      "[started] 5250 3.5 -0.25 0.4[started]  1.055250  3.50.0 0.0 0.0 0.0  0.01.07 0 \n",
      "0.0 0.0 0.0 0\n",
      "[finished] 5250 3.5 -1.0 0.4 1.03 0.0 0.0 0.0 [finished]0\n",
      " 5250 3.0 0.25 0.4 1.32 0.0 0.0 0.0 0\n",
      "[started] 5250 3.5 0.0 0.4 1.07 0.0 0.0 0.0 [started]0 \n",
      "5250 3.5 0.25 [finished]0.0  52501.08 "
     ]
    },
    {
     "name": "stderr",
     "output_type": "stream",
     "text": [
      "INFO:root:Spherical model atmosphere with radius 2.05e+11 cm\n"
     ]
    },
    {
     "name": "stdout",
     "output_type": "stream",
     "text": [
      "3.5 "
     ]
    },
    {
     "name": "stderr",
     "output_type": "stream",
     "text": [
      "[2023-11-10 14:17:24,837] [INFO] [turbospectrum:generate_spectrum:88]: Spherical model atmosphere with radius 2.05e+11 cm\n"
     ]
    },
    {
     "name": "stdout",
     "output_type": "stream",
     "text": [
      " 0.0-0.75 0.0  0.00.0 0 1.03\n",
      " 0.0 0.0 0.0 0"
     ]
    },
    {
     "name": "stderr",
     "output_type": "stream",
     "text": [
      "INFO:root:Spherical model atmosphere with radius 2.05e+11 cm\n"
     ]
    },
    {
     "name": "stdout",
     "output_type": "stream",
     "text": [
      "\n"
     ]
    },
    {
     "name": "stderr",
     "output_type": "stream",
     "text": [
      "[2023-11-10 14:17:24,854] [INFO] [turbospectrum:generate_spectrum:88]: Spherical model atmosphere with radius 2.05e+11 cm\n"
     ]
    },
    {
     "name": "stdout",
     "output_type": "stream",
     "text": [
      "[started] 5250 3.5 0.25 0.4 1.08 0.0 0.0 0.0 0\n"
     ]
    },
    {
     "name": "stderr",
     "output_type": "stream",
     "text": [
      "INFO:root:Spherical model atmosphere with radius 2.05e+11 cm\n",
      "[2023-11-10 14:17:24,923] [INFO] [turbospectrum:generate_spectrum:88]: Spherical model atmosphere with radius 2.05e+11 cm\n",
      "INFO:root:Spherical model atmosphere with radius 2.05e+11 cm\n",
      "[2023-11-10 14:17:24,926] [INFO] [turbospectrum:generate_spectrum:88]: Spherical model atmosphere with radius 2.05e+11 cm\n",
      "INFO:root:Spherical model atmosphere with radius 2.05e+11 cm\n",
      "[2023-11-10 14:17:24,969] [INFO] [turbospectrum:generate_spectrum:88]: Spherical model atmosphere with radius 2.05e+11 cm\n"
     ]
    },
    {
     "name": "stdout",
     "output_type": "stream",
     "text": [
      "[finished] 5250 3.0 0.5 0.4 1.33 0.0 0.0 0.0 0\n",
      "[started] 5250 3.5 0.5 0.0 1.09 0.0 0.0 0.0 0\n"
     ]
    },
    {
     "name": "stderr",
     "output_type": "stream",
     "text": [
      "INFO:root:Spherical model atmosphere with radius 2.05e+11 cm\n",
      "[2023-11-10 14:17:25,417] [INFO] [turbospectrum:generate_spectrum:88]: Spherical model atmosphere with radius 2.05e+11 cm\n"
     ]
    },
    {
     "name": "stdout",
     "output_type": "stream",
     "text": [
      "[finished] 5250 3.5 -0.75 0.4 1.03 0.0 0.0 0.0 [finished]0 \n",
      "5250 3.5 -0.5 0.0[started] 1.04  5250 0.03.5  0.00.5  0.00.4  01.09\n",
      " 0.0 0.0 0.0 0\n",
      "[started] 5250 4.0 -1.0 0.0 0.96 0.0 0.0 0.0 0\n"
     ]
    },
    {
     "name": "stderr",
     "output_type": "stream",
     "text": [
      "INFO:root:Spherical model atmosphere with radius 2.05e+11 cm\n",
      "[2023-11-10 14:17:25,874] [INFO] [turbospectrum:generate_spectrum:88]: Spherical model atmosphere with radius 2.05e+11 cm\n"
     ]
    },
    {
     "name": "stdout",
     "output_type": "stream",
     "text": [
      "[finished] 5250 3.5 -0.5 0.4 1.04 0.0 0.0 0.0 0\n",
      "[started] 5250 4.0 -1.0 0.4 0.96 0.0 0.0 0.0 0\n",
      "[finished] 5250 4.0 -1.0 0.0 0.96 0.0 0.0 0.0 0\n",
      "[started] 5250 4.0 -0.75 0.0 0.96 0.0 0.0 0.0 0\n",
      "[finished] 5250 4.0 -1.0 0.4 0.96 0.0 0.0 0.0 0\n",
      "[started] 5250 4.0 -0.75 0.4 0.96 0.0 0.0 0.0 0\n",
      "[finished] 5250 3.5 -0.25 0.0 1.05 0.0 0.0 0.0 0\n",
      "[started] 5250 4.0 -0.5 0.0 0.97 0.0 0.0 0.0 0\n",
      "[finished] 5250 3.5 -0.25 0.4 1.05 0.0 0.0 0.0 0\n",
      "[started] 5250 4.0 -0.5 0.4 0.97 0.0 0.0 0.0 0\n",
      "[finished] 5250 3.5 0.0 0.4 1.07 0.0 0.0 0.0 0\n",
      "[started] 5250 4.0 -0.25 0.0 0.98 0.0 0.0 0.0 0\n",
      "[finished] 5250 3.5 0.0 0.0 1.07 0.0 0.0 0.0 0\n",
      "[started] 5250 4.0 -0.25 0.4 0.98 0.0 0.0 0.0 0\n",
      "[finished] [finished]5250  52503.5  0.253.5  0.250.0 1.08  0.4 0.01.08  0.00.0  0.0 0.00 0.0\n",
      " 0\n",
      "[started] 5250 4.0 0.0 0.0 1.0 0.0 0.0 0.0[started]  05250\n",
      " 4.0 0.0 0.4 1.0 0.0 0.0 0.0 0\n",
      "[finished] 5250 3.5 0.5 0.0 1.09 0.0 0.0 0.0 0\n",
      "[started] 5250 [finished]4.0  0.255250  3.5 0.00.5 1.01  0.40.0  1.090.0  0.00.0  0.00\n",
      " 0.0 0\n",
      "[started] 5250 4.0 0.25 0.4 1.01 0.0 0.0 0.0 0\n",
      "[finished][finished]  52505250  4.04.0 -0.75 -0.75  0.00.4  0.960.96  0.00.0 0.0  0.00.0  00.0\n",
      " 0\n",
      "[started] 5250 4.0 0.5 0.0 1.02 [started] 0.0 52500.0  4.0 0.00.5  00.4\n",
      " 1.02 0.0 0.0 0.0 0\n",
      "[finished] 5250 4.0 -0.5 0.0 0.97 0.0 0.0 0.0 0\n",
      "[started] 5250 4.5 -1.0 0.0 0.89 0.0 0.0 0.0 0\n",
      "[finished] 5250 4.0 -0.5 0.4 0.97 0.0 0.0 0.0 0\n",
      "[started] 5250 4.5 -1.0 0.4 0.89 0.0 0.0 0.0 0\n",
      "[finished] 5250 4.0 -0.25 0.4 0.98 0.0 0.0 0.0 0\n",
      "[started] 5250 4.5 -0.75 0.0 0.89 0.0 0.0 0.0 0\n",
      "[finished] 5250 4.0 -0.25 0.0 0.98 0.0 0.0 0.0 0\n",
      "[started] 5250 4.5 -0.75 0.4 0.89 [finished]0.0  52500.0  0.04.0  0.00 \n",
      "0.0 1.0 0.0 0.0 0.0 0\n",
      "[started] 5250 4.5 -0.5 0.0 0.9 0.0 0.0 0.0 0\n",
      "[finished] 5250 4.0 0.25 0.0 1.01 0.0 0.0 0.0 0\n",
      "[started] 5250 4.5 -0.5 0.4 0.9 0.0 0.0 0.0 0\n",
      "[finished] 5250 4.0 0.0 0.4 1.0 0.0 0.0 0.0 0\n",
      "[started] 5250 4.5 -0.25 0.0 0.91 0.0 0.0 0.0 0\n",
      "[finished] 5250 4.0 0.25 0.4 1.01 0.0 0.0 0.0 0\n",
      "[started] 5250 4.5 -0.25 0.4 0.91 0.0 0.0 0.0 0\n",
      "[finished] 5250 4.0 0.5 0.0 1.02 0.0 0.0 0.0 0\n",
      "[started] 5250 4.5 0.0 0.0 0.93 0.0 0.0 0.0 0\n",
      "[finished] 5250 4.0 0.5 0.4 1.02 0.0 0.0 0.0 0\n",
      "[started] 5250 4.5 0.0 0.4 0.93 0.0 0.0 0.0 0\n",
      "[finished] 5250 4.5 -1.0 0.0 0.89 0.0 0.0 0.0 0\n",
      "[started] 5250 4.5 0.25 0.0 0.94 0.0 0.0 0.0 0\n",
      "[finished] 5250 4.5 -1.0 0.4 0.89 0.0 0.0 0.0 0\n",
      "[started] 5250 4.5 0.25 0.4 0.94 0.0 0.0 0.0 0\n",
      "[finished] 5250 4.5 -0.75 0.4 0.89 0.0 0.0 0.0 0\n",
      "[started] 5250 4.5 0.5 0.0 0.95 0.0 0.0 0.0 0\n",
      "[finished] 5250 4.5 -0.5 0.0 0.9 0.0 0.0 0.0 0\n",
      "[started] 5250 [finished]4.5  0.55250  0.44.5  0.95-0.5  0.0 0.40.0  0.9 0.00.0  00.0 \n",
      "0.0 0\n",
      "[started] 5250 5.0 -1.0 0.0 0.81 0.0 0.0 0.0 0\n",
      "[finished] 5250 4.5 -0.75 0.0 0.89 0.0 0.0 0.0 0\n",
      "[started] 5250 5.0 -1.0 0.4 0.81 0.0 0.0 0.0 0\n",
      "[finished] 5250 4.5 -0.25 0.0 0.91 0.0 0.0 0.0 0\n",
      "[started] 5250 5.0 -0.75 0.0 0.82 0.0 0.0 0.0 0\n",
      "[finished] 5250 4.5 -0.25 0.4 0.91 0.0 0.0 0.0 0\n",
      "[started] 5250 5.0 -0.75 0.4 0.82 0.0 0.0 0.0 0\n",
      "[finished] 5250 4.5 0.0 0.0 0.93 0.0 0.0 0.0 0\n",
      "[started] 5250 5.0 -0.5 0.0 0.83 0.0 0.0 0.0 0\n",
      "[finished] 5250 4.5 0.0 0.4 0.93 0.0 0.0 0.0 0\n",
      "[started] 5250 5.0 -0.5 0.4 0.83 0.0 0.0 0.0 0\n",
      "[finished] 5250 4.5 0.25 0.0 0.94 0.0 0.0 0.0 0\n",
      "[started] 5250 5.0 -0.25 0.0 0.84 0.0 0.0 0.0 0\n",
      "[finished] 5250 4.5 0.25 0.4 0.94 0.0 0.0 0.0 0\n",
      "[started] 5250 5.0 -0.25 0.4 0.84 0.0 0.0 0.0 0\n",
      "[finished] 5250 5.0 -1.0 0.4 0.81 0.0 0.0 0.0 0\n",
      "[started] 5250 5.0 0.0 0.0 0.85 0.0 0.0 0.0 [finished]0 5250\n",
      " 4.5 0.5 0.0 0.95 0.0 0.0 0.0 0\n",
      "[started] 5250 5.0 0.0 0.4 0.85 0.0 0.0 0.0 0\n",
      "[finished] 5250 4.5 0.5 0.4 0.95 0.0 0.0 0.0 0\n",
      "[started] 5250 5.0 0.25 0.0 0.86 0.0 0.0 0.0 0\n",
      "[finished] 5250 5.0 -1.0 0.0 0.81 0.0 0.0 0.0 0\n",
      "[started] 5250 5.0 0.25 0.4 0.86 0.0 0.0 0.0 0\n",
      "[finished] 5250 5.0 -0.75 0.4 0.82 0.0 0.0 0.0 0\n",
      "[started] 5250 5.0 0.5 0.0 0.88 0.0 0.0 0.0 0\n",
      "[finished] 5250 5.0 -0.75 0.0 0.82 0.0 0.0 0.0 0\n",
      "[started] 5250 5.0 0.5 0.4 0.88 0.0 0.0 0.0 0\n",
      "[finished] 5250 5.0 -0.5 0.4 0.83 0.0 0.0 0.0 0\n",
      "[started] 5500 3.0 -1.0 0.0 1.35 0.0 0.0 0.0 0\n"
     ]
    },
    {
     "name": "stderr",
     "output_type": "stream",
     "text": [
      "INFO:root:Spherical model atmosphere with radius 3.65e+11 cm\n",
      "[2023-11-10 14:20:36,470] [INFO] [turbospectrum:generate_spectrum:88]: Spherical model atmosphere with radius 3.65e+11 cm\n"
     ]
    },
    {
     "name": "stdout",
     "output_type": "stream",
     "text": [
      "[finished] 5250 5.0 -0.5 0.0 0.83 0.0 0.0 0.0 0\n",
      "[started] 5500 3.0 -1.0 0.4 1.35 0.0 0.0 0.0 0\n"
     ]
    },
    {
     "name": "stderr",
     "output_type": "stream",
     "text": [
      "INFO:root:Spherical model atmosphere with radius 3.65e+11 cm\n",
      "[2023-11-10 14:20:36,671] [INFO] [turbospectrum:generate_spectrum:88]: Spherical model atmosphere with radius 3.65e+11 cm\n"
     ]
    },
    {
     "name": "stdout",
     "output_type": "stream",
     "text": [
      "[finished] 5250 5.0 -0.25 0.0 0.84 0.0 0.0 0.0 0\n",
      "[started] 5500 3.0 -0.75 0.0 1.35 0.0 0.0 0.0 0\n"
     ]
    },
    {
     "name": "stderr",
     "output_type": "stream",
     "text": [
      "INFO:root:Spherical model atmosphere with radius 3.65e+11 cm\n",
      "[2023-11-10 14:20:39,135] [INFO] [turbospectrum:generate_spectrum:88]: Spherical model atmosphere with radius 3.65e+11 cm\n"
     ]
    },
    {
     "name": "stdout",
     "output_type": "stream",
     "text": [
      "[finished] 5250 5.0 -0.25 0.4 0.84 0.0 0.0 0.0 0\n",
      "[started] 5500 3.0 -0.75 0.4 1.35 0.0 0.0 0.0 0\n"
     ]
    },
    {
     "name": "stderr",
     "output_type": "stream",
     "text": [
      "INFO:root:Spherical model atmosphere with radius 3.65e+11 cm\n",
      "[2023-11-10 14:20:44,147] [INFO] [turbospectrum:generate_spectrum:88]: Spherical model atmosphere with radius 3.65e+11 cm\n"
     ]
    },
    {
     "name": "stdout",
     "output_type": "stream",
     "text": [
      "[finished] 5250 5.0 0.0 0.4 0.85 0.0 0.0 0.0 0\n",
      "[started] 5500 3.0 -0.5 0.0 1.36 0.0 0.0 0.0 0\n"
     ]
    },
    {
     "name": "stderr",
     "output_type": "stream",
     "text": [
      "INFO:root:Spherical model atmosphere with radius 3.65e+11 cm\n",
      "[2023-11-10 14:20:44,713] [INFO] [turbospectrum:generate_spectrum:88]: Spherical model atmosphere with radius 3.65e+11 cm\n"
     ]
    },
    {
     "name": "stdout",
     "output_type": "stream",
     "text": [
      "[finished] 5250 5.0 0.0 0.0 0.85 0.0 0.0 0.0 0\n",
      "[started] 5500 3.0 -0.5 0.4 1.36 0.0 0.0 0.0 0\n",
      "[finished] 5250 5.0 0.25 0.0 0.86 0.0 0.0 0.0 0\n",
      "[started] 5500 3.0 -0.25 0.0 1.37 0.0 0.0 0.0 0\n"
     ]
    },
    {
     "name": "stderr",
     "output_type": "stream",
     "text": [
      "INFO:root:Spherical model atmosphere with radius 3.65e+11 cm\n",
      "[2023-11-10 14:20:45,184] [INFO] [turbospectrum:generate_spectrum:88]: Spherical model atmosphere with radius 3.65e+11 cm\n",
      "INFO:root:Spherical model atmosphere with radius 3.65e+11 cm\n",
      "[2023-11-10 14:20:45,256] [INFO] [turbospectrum:generate_spectrum:88]: Spherical model atmosphere with radius 3.65e+11 cm\n"
     ]
    },
    {
     "name": "stdout",
     "output_type": "stream",
     "text": [
      "[finished] 5250 [finished]5.0  52500.5  5.0 0.40.25  0.40.88 0.86  0.00.0  0.00.0 0.0 0.0  00\n",
      "\n",
      "[started] 5500 3.0 -0.25 0.4 1.37 0.0 0.0 0.0 [started]0 \n",
      "5500 3.0 0.0 0.0 1.39 0.0 0.0 0.0 0\n"
     ]
    },
    {
     "name": "stderr",
     "output_type": "stream",
     "text": [
      "INFO:root:Spherical model atmosphere with radius 3.65e+11 cm\n",
      "[2023-11-10 14:20:45,443] [INFO] [turbospectrum:generate_spectrum:88]: Spherical model atmosphere with radius 3.65e+11 cm\n",
      "INFO:root:Spherical model atmosphere with radius 3.65e+11 cm\n",
      "[2023-11-10 14:20:45,470] [INFO] [turbospectrum:generate_spectrum:88]: Spherical model atmosphere with radius 3.65e+11 cm\n"
     ]
    },
    {
     "name": "stdout",
     "output_type": "stream",
     "text": [
      "[finished] 5250 5.0 0.5 0.0 0.88 0.0 0.0 0.0 0\n",
      "[started] 5500 3.0 0.0 0.4 1.39 0.0 0.0 0.0 0\n"
     ]
    },
    {
     "name": "stderr",
     "output_type": "stream",
     "text": [
      "INFO:root:Spherical model atmosphere with radius 3.65e+11 cm\n",
      "[2023-11-10 14:20:45,693] [INFO] [turbospectrum:generate_spectrum:88]: Spherical model atmosphere with radius 3.65e+11 cm\n"
     ]
    },
    {
     "name": "stdout",
     "output_type": "stream",
     "text": [
      "[finished] 5500 3.0 -1.0 0.4 1.35 0.0 0.0 0.0 0\n",
      "[started] 5500 3.0 0.25 0.0 1.4 0.0 0.0 0.0 0\n"
     ]
    },
    {
     "name": "stderr",
     "output_type": "stream",
     "text": [
      "INFO:root:Spherical model atmosphere with radius 3.65e+11 cm\n",
      "[2023-11-10 14:21:24,454] [INFO] [turbospectrum:generate_spectrum:88]: Spherical model atmosphere with radius 3.65e+11 cm\n"
     ]
    },
    {
     "name": "stdout",
     "output_type": "stream",
     "text": [
      "[finished] 5500 3.0 -1.0 0.0 1.35 0.0 0.0 0.0 0\n",
      "[started] 5500 3.0 0.25 0.4 1.4 0.0 0.0 0.0 0\n"
     ]
    },
    {
     "name": "stderr",
     "output_type": "stream",
     "text": [
      "INFO:root:Spherical model atmosphere with radius 3.65e+11 cm\n",
      "[2023-11-10 14:21:25,094] [INFO] [turbospectrum:generate_spectrum:88]: Spherical model atmosphere with radius 3.65e+11 cm\n"
     ]
    },
    {
     "name": "stdout",
     "output_type": "stream",
     "text": [
      "[finished] 5500 3.0 -0.75 0.0 1.35 0.0 0.0 0.0 0\n",
      "[started] 5500 3.0 0.5 0.0 1.41 0.0 0.0 0.0 0\n"
     ]
    },
    {
     "name": "stderr",
     "output_type": "stream",
     "text": [
      "INFO:root:Spherical model atmosphere with radius 3.65e+11 cm\n",
      "[2023-11-10 14:21:27,051] [INFO] [turbospectrum:generate_spectrum:88]: Spherical model atmosphere with radius 3.65e+11 cm\n"
     ]
    },
    {
     "name": "stdout",
     "output_type": "stream",
     "text": [
      "[finished] 5500 3.0 -0.75 0.4 1.35 0.0 0.0 0.0 0\n",
      "[started] 5500 3.0 0.5 0.4 1.41 0.0 0.0 0.0 0\n"
     ]
    },
    {
     "name": "stderr",
     "output_type": "stream",
     "text": [
      "INFO:root:Spherical model atmosphere with radius 3.65e+11 cm\n",
      "[2023-11-10 14:21:31,776] [INFO] [turbospectrum:generate_spectrum:88]: Spherical model atmosphere with radius 3.65e+11 cm\n"
     ]
    },
    {
     "name": "stdout",
     "output_type": "stream",
     "text": [
      "[finished] 5500 3.0 -0.5 0.0 1.36 0.0 0.0 0.0 0\n",
      "[started] 5500 3.5 -1.0 0.0 1.08 0.0 0.0 0.0 0\n"
     ]
    },
    {
     "name": "stderr",
     "output_type": "stream",
     "text": [
      "INFO:root:Spherical model atmosphere with radius 2.05e+11 cm\n",
      "[2023-11-10 14:21:32,541] [INFO] [turbospectrum:generate_spectrum:88]: Spherical model atmosphere with radius 2.05e+11 cm\n"
     ]
    },
    {
     "name": "stdout",
     "output_type": "stream",
     "text": [
      "[finished] 5500 3.0 -0.5 0.4 1.36 0.0 0.0 0.0 0\n",
      "[started] 5500 3.5 -1.0 0.4 1.08 0.0 0.0 0.0 0\n",
      "[finished] 5500 3.0 -0.25 0.0 1.37 0.0 0.0 0.0 0\n"
     ]
    },
    {
     "name": "stderr",
     "output_type": "stream",
     "text": [
      "INFO:root:Spherical model atmosphere with radius 2.05e+11 cm\n",
      "[2023-11-10 14:21:32,754] [INFO] [turbospectrum:generate_spectrum:88]: Spherical model atmosphere with radius 2.05e+11 cm\n"
     ]
    },
    {
     "name": "stdout",
     "output_type": "stream",
     "text": [
      "[started] 5500 3.5 -0.75 0.0 1.09 0.0 0.0 0.0 0\n"
     ]
    },
    {
     "name": "stderr",
     "output_type": "stream",
     "text": [
      "INFO:root:Spherical model atmosphere with radius 2.05e+11 cm\n",
      "[2023-11-10 14:21:32,870] [INFO] [turbospectrum:generate_spectrum:88]: Spherical model atmosphere with radius 2.05e+11 cm\n"
     ]
    },
    {
     "name": "stdout",
     "output_type": "stream",
     "text": [
      "[finished] 5500 3.0 0.0 0.0 1.39 0.0 0.0 0.0 0\n",
      "[started] 5500 3.5 -0.75 0.4 1.09 0.0 0.0 0.0 0\n"
     ]
    },
    {
     "name": "stderr",
     "output_type": "stream",
     "text": [
      "INFO:root:Spherical model atmosphere with radius 2.05e+11 cm\n",
      "[2023-11-10 14:21:33,089] [INFO] [turbospectrum:generate_spectrum:88]: Spherical model atmosphere with radius 2.05e+11 cm\n"
     ]
    },
    {
     "name": "stdout",
     "output_type": "stream",
     "text": [
      "[finished] 5500 3.0 -0.25 0.4 1.37 0.0 0.0 0.0 0\n",
      "[started] 5500 3.5 -0.5 0.0 1.1 0.0 0.0 0.0 0\n"
     ]
    },
    {
     "name": "stderr",
     "output_type": "stream",
     "text": [
      "INFO:root:Spherical model atmosphere with radius 2.05e+11 cm\n",
      "[2023-11-10 14:21:33,231] [INFO] [turbospectrum:generate_spectrum:88]: Spherical model atmosphere with radius 2.05e+11 cm\n"
     ]
    },
    {
     "name": "stdout",
     "output_type": "stream",
     "text": [
      "[finished] 5500 3.0 0.0 0.4 1.39 0.0 0.0 0.0 0\n",
      "[started] 5500 3.5 -0.5 0.4 1.1 0.0 0.0 0.0 0\n"
     ]
    },
    {
     "name": "stderr",
     "output_type": "stream",
     "text": [
      "INFO:root:Spherical model atmosphere with radius 2.05e+11 cm\n",
      "[2023-11-10 14:21:33,930] [INFO] [turbospectrum:generate_spectrum:88]: Spherical model atmosphere with radius 2.05e+11 cm\n"
     ]
    },
    {
     "name": "stdout",
     "output_type": "stream",
     "text": [
      "[finished] 5500 3.0 0.25 0.0 1.4 0.0 0.0 0.0 0\n",
      "[started] 5500 3.5 -0.25 0.0 1.11 0.0 0.0 0.0 0\n"
     ]
    },
    {
     "name": "stderr",
     "output_type": "stream",
     "text": [
      "INFO:root:Spherical model atmosphere with radius 2.05e+11 cm\n",
      "[2023-11-10 14:22:12,770] [INFO] [turbospectrum:generate_spectrum:88]: Spherical model atmosphere with radius 2.05e+11 cm\n"
     ]
    },
    {
     "name": "stdout",
     "output_type": "stream",
     "text": [
      "[finished] 5500 3.0 0.25 0.4 1.4 0.0 0.0 0.0 0\n",
      "[started] 5500 3.5 -0.25 0.4 1.11 0.0 0.0 0.0 0\n"
     ]
    },
    {
     "name": "stderr",
     "output_type": "stream",
     "text": [
      "INFO:root:Spherical model atmosphere with radius 2.05e+11 cm\n",
      "[2023-11-10 14:22:13,260] [INFO] [turbospectrum:generate_spectrum:88]: Spherical model atmosphere with radius 2.05e+11 cm\n"
     ]
    },
    {
     "name": "stdout",
     "output_type": "stream",
     "text": [
      "[finished] 5500 3.0 0.5 0.0 1.41 0.0 0.0 0.0 0\n",
      "[started] 5500 3.5 0.0 0.0 1.12 0.0 0.0 0.0 0\n"
     ]
    },
    {
     "name": "stderr",
     "output_type": "stream",
     "text": [
      "INFO:root:Spherical model atmosphere with radius 2.05e+11 cm\n",
      "[2023-11-10 14:22:15,596] [INFO] [turbospectrum:generate_spectrum:88]: Spherical model atmosphere with radius 2.05e+11 cm\n"
     ]
    },
    {
     "name": "stdout",
     "output_type": "stream",
     "text": [
      "[finished] 5500 3.0 0.5 0.4 1.41 0.0 0.0 0.0 0\n",
      "[started] 5500 3.5 0.0 0.4 1.12 0.0 0.0 0.0 0\n"
     ]
    },
    {
     "name": "stderr",
     "output_type": "stream",
     "text": [
      "INFO:root:Spherical model atmosphere with radius 2.05e+11 cm\n",
      "[2023-11-10 14:22:19,910] [INFO] [turbospectrum:generate_spectrum:88]: Spherical model atmosphere with radius 2.05e+11 cm\n"
     ]
    },
    {
     "name": "stdout",
     "output_type": "stream",
     "text": [
      "[finished] 5500 3.5 -1.0 0.0 1.08 0.0 0.0 0.0 0\n",
      "[started] 5500 3.5 0.25 0.0 1.13 0.0 0.0 0.0 0\n"
     ]
    },
    {
     "name": "stderr",
     "output_type": "stream",
     "text": [
      "INFO:root:Spherical model atmosphere with radius 2.05e+11 cm\n",
      "[2023-11-10 14:22:20,081] [INFO] [turbospectrum:generate_spectrum:88]: Spherical model atmosphere with radius 2.05e+11 cm\n"
     ]
    },
    {
     "name": "stdout",
     "output_type": "stream",
     "text": [
      "[finished] 5500 3.5 -0.75 0.4 1.09 0.0 0.0 0.0 0\n",
      "[started] 5500 3.5 0.25 0.4 1.13 0.0 0.0 0.0 0\n",
      "[finished] 5500 3.5 -1.0 0.4 1.08 0.0 0.0 0.0 0\n",
      "[started] 5500 3.5 0.5 0.0 1.15 0.0 0.0 0.0 "
     ]
    },
    {
     "name": "stderr",
     "output_type": "stream",
     "text": [
      "INFO:root:Spherical model atmosphere with radius 2.05e+11 cm\n"
     ]
    },
    {
     "name": "stdout",
     "output_type": "stream",
     "text": [
      "0"
     ]
    },
    {
     "name": "stderr",
     "output_type": "stream",
     "text": [
      "[2023-11-10 14:22:20,439] [INFO] [turbospectrum:generate_spectrum:88]: Spherical model atmosphere with radius 2.05e+11 cm\n"
     ]
    },
    {
     "name": "stdout",
     "output_type": "stream",
     "text": [
      "\n"
     ]
    },
    {
     "name": "stderr",
     "output_type": "stream",
     "text": [
      "INFO:root:Spherical model atmosphere with radius 2.05e+11 cm\n",
      "[2023-11-10 14:22:20,522] [INFO] [turbospectrum:generate_spectrum:88]: Spherical model atmosphere with radius 2.05e+11 cm\n"
     ]
    },
    {
     "name": "stdout",
     "output_type": "stream",
     "text": [
      "[finished] 5500 3.5 -0.75 0.0 1.09 0.0 0.0 0.0 0\n",
      "[started] 5500 3.5 0.5 0.4 1.15 0.0 0.0 0.0 0\n",
      "[finished] 5500 3.5 -0.5 0.0 1.1 0.0 0.0 0.0 0\n",
      "[started] 5500 4.0 -1.0 0.0 1.01 0.0 0.0 0.0 0\n"
     ]
    },
    {
     "name": "stderr",
     "output_type": "stream",
     "text": [
      "INFO:root:Spherical model atmosphere with radius 2.05e+11 cm\n",
      "[2023-11-10 14:22:20,654] [INFO] [turbospectrum:generate_spectrum:88]: Spherical model atmosphere with radius 2.05e+11 cm\n"
     ]
    },
    {
     "name": "stdout",
     "output_type": "stream",
     "text": [
      "[finished] 5500 3.5 -0.5 0.4 1.1 0.0 0.0 0.0 0\n",
      "[started] 5500 4.0 -1.0 0.4 1.01 0.0 0.0 0.0 0\n",
      "[finished] 5500 4.0 -1.0 0.0 1.01 0.0 0.0 0.0 0\n",
      "[started] 5500 4.0 -0.75 0.0 1.02 0.0 0.0 0.0 0\n",
      "[finished] 5500 4.0 -1.0 0.4 1.01 0.0 0.0 0.0 0\n",
      "[started] 5500 4.0 -0.75 0.4 1.02 0.0 0.0 0.0 0\n",
      "[finished] 5500 3.5 -0.25 0.0 1.11 0.0 0.0 0.0 0\n",
      "[started] 5500 4.0 -0.5 0.0 1.03 0.0 0.0 0.0 0\n",
      "[finished] 5500 3.5 -0.25 0.4 1.11 0.0 0.0 0.0 0\n",
      "[started] 5500 4.0 -0.5 0.4 1.03 0.0 0.0 0.0 0\n",
      "[finished] 5500 3.5 0.0 0.0 1.12 0.0 0.0 0.0 0\n",
      "[started] 5500 4.0 -0.25 0.0 1.04 0.0 0.0 0.0 0\n",
      "[finished] 5500 3.5 0.0 0.4 1.12 0.0 0.0 0.0 0\n",
      "[started] 5500 4.0 -0.25 0.4 1.04 0.0 0.0 0.0 0\n",
      "[finished] 5500 3.5 0.25 0.0 1.13 0.0 0.0 0.0 0\n",
      "[started] 5500 4.0 0.0 0.0 1.05 0.0 0.0 0.0 0\n",
      "[finished] 5500 3.5 0.25 0.4 1.13 0.0 0.0 0.0 0\n",
      "[started] 5500 4.0 0.0 0.4 1.05 0.0 0.0 0.0 0\n",
      "[finished] 5500 3.5 0.5 0.0 1.15 0.0 0.0 0.0 0\n",
      "[started] 5500 4.0 0.25 0.0 1.06 0.0 0.0 0.0 0\n",
      "[finished] 5500 3.5 0.5 0.4 1.15 0.0 0.0 0.0 0\n",
      "[started] 5500 4.0 0.25 0.4 1.06 0.0 0.0 0.0 0\n",
      "[finished] 5500 4.0 -0.75 0.0 1.02 0.0 0.0 0.0 0\n",
      "[started] 5500 4.0 0.5 0.0 1.08 0.0 0.0 0.0 0\n",
      "[finished] 5500 4.0 -0.75 0.4 1.02 0.0 0.0 0.0 0\n",
      "[started] 5500 4.0 0.5 0.4 1.08 0.0 0.0 0.0 0\n",
      "[finished] 5500 4.0 -0.5 0.4 1.03 0.0 0.0 0.0 0\n",
      "[started] 5500 4.5 -1.0 0.0 0.94 0.0 0.0 0.0 0\n",
      "[finished] 5500 4.0 -0.5 0.0 1.03 0.0 0.0 0.0 0\n",
      "[started] 5500 4.5 -1.0 0.4 0.94 0.0 0.0 0.0 0\n",
      "[finished] 5500 4.0 -0.25 0.0 1.04 0.0 0.0 0.0 0\n",
      "[started] 5500 4.5 -0.75 0.0 0.95 0.0 0.0 0.0 0\n",
      "[finished] 5500 4.0 -0.25 0.4 1.04 0.0 0.0 0.0 0\n",
      "[started] 5500 4.5 -0.75 0.4 0.95 0.0 0.0 0.0 0\n",
      "[finished] 5500 4.0 0.0 0.0 1.05 0.0 0.0 0.0 0\n",
      "[started] 5500 4.5 -0.5 0.0 0.96 0.0 0.0 0.0 0\n",
      "[finished] 5500 4.0 0.0 0.4 1.05 0.0 0.0 0.0 0\n",
      "[started] 5500 4.5 -0.5 0.4 0.96 0.0 0.0 0.0 0\n",
      "[finished] 5500 4.0 0.25 0.4 1.06 0.0 0.0 0.0 0\n",
      "[started] 5500 4.5 -0.25 0.0 0.97 0.0 0.0 0.0 0\n",
      "[finished] 5500 4.0 0.25 0.0 1.06 0.0 0.0 0.0 0\n",
      "[started] 5500 4.5 -0.25 0.4 0.97 0.0 0.0 0.0 0\n",
      "[finished] 5500 4.0 0.5 0.0 1.08 0.0 0.0 0.0 0\n",
      "[started] 5500 4.5 0.0 0.0 0.98 0.0 0.0 0.0 0\n",
      "[finished] 5500 4.0 0.5 0.4 1.08 0.0 0.0 0.0 0\n",
      "[started] 5500 4.5 0.0 0.4 0.98 0.0 0.0 0.0 0\n",
      "[finished] 5500 4.5 -1.0 0.4 0.94 0.0 0.0 0.0 0\n",
      "[started] 5500 4.5 0.25 0.0 0.99 0.0 0.0 0.0 0\n",
      "[finished] 5500 4.5 -1.0 0.0 0.94 0.0 0.0 0.0 0\n",
      "[started] 5500 4.5 0.25 0.4 0.99 0.0 0.0 0.0 0\n",
      "[finished] 5500 4.5 -0.75 0.0 0.95 0.0 0.0 0.0 0\n",
      "[started] 5500 4.5 0.5 0.0 1.01 0.0 0.0 0.0 0\n",
      "[finished] 5500 4.5 -0.75 0.4 0.95 0.0 0.0 0.0 0\n",
      "[started] 5500 4.5 0.5 0.4 1.01 0.0 0.0 0.0 0\n",
      "[finished] 5500 4.5 -0.5 0.0 0.96 0.0 0.0 0.0 0\n",
      "[started] 5500 5.0 -1.0 0.0 0.86 0.0 0.0 0.0 0\n",
      "[finished] 5500 4.5 -0.25 0.0 0.97 0.0 0.0 0.0 0\n",
      "[started] 5500 5.0 -1.0 0.4 0.86 0.0 0.0 0.0 0\n",
      "[finished] 5500 4.5 -0.5 0.4 0.96 0.0 0.0 0.0 0\n",
      "[started] 5500 5.0 -0.75 0.0 0.87 0.0 0.0 0.0 0\n",
      "[finished] 5500 4.5 -0.25 0.4 0.97 0.0 0.0 0.0 0\n",
      "[started] 5500 5.0 -0.75 0.4 0.87 0.0 0.0 0.0 0\n",
      "[finished] 5500 4.5 0.0 0.0 0.98 0.0 0.0 0.0 0\n",
      "[started] 5500 5.0 -0.5 0.0 0.88 0.0 0.0 0.0 0\n",
      "[finished] 5500 4.5 0.0 0.4 0.98 0.0 0.0 0.0 0\n",
      "[started] 5500 5.0 -0.5 0.4 0.88 0.0 0.0 0.0 0\n",
      "[finished] 5500 4.5 0.25 0.4 0.99 0.0 0.0 0.0 0\n",
      "[started] 5500 5.0 -0.25 0.0 0.89 0.0 0.0 0.0 0\n",
      "[finished] 5500 4.5 0.25 0.0 0.99 0.0 0.0 0.0 0\n",
      "[started] 5500 5.0 -0.25 0.4 0.89 0.0 0.0 0.0 0\n",
      "[finished] 5500 4.5 0.5 0.0 1.01 0.0 0.0 0.0 0\n",
      "[started] 5500 5.0 0.0 0.0 0.91 0.0 0.0 0.0 0\n",
      "[finished] 5500 5.0 -1.0 0.0 0.86 0.0 0.0 0.0 0\n",
      "[started] 5500 5.0 0.0 0.4 0.91 0.0 0.0 0.0 0\n",
      "[finished] 5500 4.5 0.5 0.4 1.01 0.0 0.0 0.0 0\n",
      "[started] 5500 5.0 0.25 0.0 0.92 0.0 0.0 0.0 0\n",
      "[finished] 5500 5.0 -1.0 0.4 0.86 0.0 0.0 0.0 0\n",
      "[started] 5500 5.0 0.25 0.4 0.92 0.0 0.0 0.0 0\n",
      "[finished] 5500 5.0 -0.75 0.0 0.87 0.0 0.0 0.0 0\n",
      "[started] 5500 5.0 0.5 0.0 0.93 0.0 0.0 0.0 0\n",
      "[finished] 5500 5.0 -0.75 0.4 0.87 0.0 0.0 0.0 0\n",
      "[started] 5500 5.0 0.5 0.4 0.93 0.0 0.0 0.0 0\n",
      "[finished] 5500 5.0 -0.5 0.0 0.88 0.0 0.0 0.0 0\n",
      "[started] 5750 3.0 -1.0 0.0 1.46 0.0 0.0 0.0 0\n"
     ]
    },
    {
     "name": "stderr",
     "output_type": "stream",
     "text": [
      "INFO:root:Spherical model atmosphere with radius 3.65e+11 cm\n",
      "[2023-11-10 14:25:30,198] [INFO] [turbospectrum:generate_spectrum:88]: Spherical model atmosphere with radius 3.65e+11 cm\n"
     ]
    },
    {
     "name": "stdout",
     "output_type": "stream",
     "text": [
      "[finished] 5500 5.0 -0.5 0.4 0.88 0.0 0.0 0.0 0\n",
      "[started] 5750 3.0 -1.0 0.4 1.46 0.0 0.0 0.0 0\n"
     ]
    },
    {
     "name": "stderr",
     "output_type": "stream",
     "text": [
      "INFO:root:Spherical model atmosphere with radius 3.65e+11 cm\n",
      "[2023-11-10 14:25:31,497] [INFO] [turbospectrum:generate_spectrum:88]: Spherical model atmosphere with radius 3.65e+11 cm\n"
     ]
    },
    {
     "name": "stdout",
     "output_type": "stream",
     "text": [
      "[finished] 5500 5.0 -0.25 0.0 0.89 0.0 0.0 0.0 0\n",
      "[finished] 5500 5.0 -0.25 0.4 [started]0.89  57500.0  3.00.0  -0.750.0  0.00\n",
      " 1.47 0.0 0.0 0.0 0\n",
      "[started] 5750 3.0 -0.75 0.4 1.47 0.0 0.0 0.0 0\n"
     ]
    },
    {
     "name": "stderr",
     "output_type": "stream",
     "text": [
      "INFO:root:Spherical model atmosphere with radius 3.65e+11 cm\n",
      "[2023-11-10 14:25:32,522] [INFO] [turbospectrum:generate_spectrum:88]: Spherical model atmosphere with radius 3.65e+11 cm\n",
      "INFO:root:Spherical model atmosphere with radius 3.65e+11 cm\n",
      "[2023-11-10 14:25:32,552] [INFO] [turbospectrum:generate_spectrum:88]: Spherical model atmosphere with radius 3.65e+11 cm\n"
     ]
    },
    {
     "name": "stdout",
     "output_type": "stream",
     "text": [
      "[finished] 5500 5.0 0.0 0.0 0.91 0.0 0.0 0.0 0\n",
      "[started] 5750 3.0 -0.5 0.0 1.48 0.0 0.0 0.0 0\n"
     ]
    },
    {
     "name": "stderr",
     "output_type": "stream",
     "text": [
      "INFO:root:Spherical model atmosphere with radius 3.65e+11 cm\n",
      "[2023-11-10 14:25:35,456] [INFO] [turbospectrum:generate_spectrum:88]: Spherical model atmosphere with radius 3.65e+11 cm\n"
     ]
    },
    {
     "name": "stdout",
     "output_type": "stream",
     "text": [
      "[finished] 5500 5.0 0.0 0.4 0.91 0.0 0.0 0.0 0\n",
      "[started] 5750 3.0 -0.5 [finished] 0.4 55001.48  0.0 5.00.0  0.00.25  00.4\n",
      " 0.92 0.0 0.0 0.0 0\n",
      "[started] 5750 3.0 -0.25 0.0 1.49 0.0 0.0 0.0 0\n",
      "[finished] 5500 5.0 0.25 0.0 0.92 0.0 0.0 0.0 0\n"
     ]
    },
    {
     "name": "stderr",
     "output_type": "stream",
     "text": [
      "INFO:root:Spherical model atmosphere with radius 3.65e+11 cm\n",
      "[2023-11-10 14:25:39,599] [INFO] [turbospectrum:generate_spectrum:88]: Spherical model atmosphere with radius 3.65e+11 cm\n"
     ]
    },
    {
     "name": "stdout",
     "output_type": "stream",
     "text": [
      "[started] 5750 3.0 -0.25 0.4 1.49 0.0 0.0 0.0 0\n"
     ]
    },
    {
     "name": "stderr",
     "output_type": "stream",
     "text": [
      "INFO:root:Spherical model atmosphere with radius 3.65e+11 cm\n",
      "[2023-11-10 14:25:39,638] [INFO] [turbospectrum:generate_spectrum:88]: Spherical model atmosphere with radius 3.65e+11 cm\n",
      "INFO:root:Spherical model atmosphere with radius 3.65e+11 cm\n",
      "[2023-11-10 14:25:39,708] [INFO] [turbospectrum:generate_spectrum:88]: Spherical model atmosphere with radius 3.65e+11 cm\n"
     ]
    },
    {
     "name": "stdout",
     "output_type": "stream",
     "text": [
      "[finished] 5500 5.0 0.5 0.0 0.93 0.0 0.0 0.0 0\n",
      "[started] 5750 3.0 0.0 0.0 1.5 0.0 0.0 0.0 0\n"
     ]
    },
    {
     "name": "stderr",
     "output_type": "stream",
     "text": [
      "INFO:root:Spherical model atmosphere with radius 3.65e+11 cm\n",
      "[2023-11-10 14:25:39,981] [INFO] [turbospectrum:generate_spectrum:88]: Spherical model atmosphere with radius 3.65e+11 cm\n"
     ]
    },
    {
     "name": "stdout",
     "output_type": "stream",
     "text": [
      "[finished] 5500 5.0 0.5 0.4 0.93 0.0 0.0 0.0 0\n",
      "[started] 5750 3.0 0.0 0.4 1.5 0.0 0.0 0.0 0\n"
     ]
    },
    {
     "name": "stderr",
     "output_type": "stream",
     "text": [
      "INFO:root:Spherical model atmosphere with radius 3.65e+11 cm\n",
      "[2023-11-10 14:25:40,604] [INFO] [turbospectrum:generate_spectrum:88]: Spherical model atmosphere with radius 3.65e+11 cm\n"
     ]
    },
    {
     "name": "stdout",
     "output_type": "stream",
     "text": [
      "[finished] 5750 3.0 -1.0 0.0 1.46 0.0 0.0 0.0 0\n",
      "[started] 5750 3.0 0.25 0.0 1.52 0.0 0.0 0.0 0\n"
     ]
    },
    {
     "name": "stderr",
     "output_type": "stream",
     "text": [
      "INFO:root:Spherical model atmosphere with radius 3.65e+11 cm\n",
      "[2023-11-10 14:26:17,610] [INFO] [turbospectrum:generate_spectrum:88]: Spherical model atmosphere with radius 3.65e+11 cm\n"
     ]
    },
    {
     "name": "stdout",
     "output_type": "stream",
     "text": [
      "[finished] 5750 3.0 -1.0 0.4 1.46 0.0 0.0 0.0 0\n",
      "[started] 5750 3.0 0.25 0.4 1.52 0.0 0.0 0.0 0\n"
     ]
    },
    {
     "name": "stderr",
     "output_type": "stream",
     "text": [
      "INFO:root:Spherical model atmosphere with radius 3.65e+11 cm\n",
      "[2023-11-10 14:26:18,861] [INFO] [turbospectrum:generate_spectrum:88]: Spherical model atmosphere with radius 3.65e+11 cm\n"
     ]
    },
    {
     "name": "stdout",
     "output_type": "stream",
     "text": [
      "[finished] 5750 3.0 -0.75 0.0 1.47 0.0 0.0 0.0 0\n",
      "[started] 5750 3.0 0.5 0.0 1.53 0.0 0.0 0.0 0\n"
     ]
    },
    {
     "name": "stderr",
     "output_type": "stream",
     "text": [
      "INFO:root:Spherical model atmosphere with radius 3.65e+11 cm\n",
      "[2023-11-10 14:26:19,955] [INFO] [turbospectrum:generate_spectrum:88]: Spherical model atmosphere with radius 3.65e+11 cm\n"
     ]
    },
    {
     "name": "stdout",
     "output_type": "stream",
     "text": [
      "[finished] 5750 3.0 -0.75 0.4 1.47 0.0 0.0 0.0 0\n",
      "[started] 5750 3.0 0.5 0.4 1.53 0.0 0.0 0.0 0\n"
     ]
    },
    {
     "name": "stderr",
     "output_type": "stream",
     "text": [
      "INFO:root:Spherical model atmosphere with radius 3.65e+11 cm\n",
      "[2023-11-10 14:26:20,095] [INFO] [turbospectrum:generate_spectrum:88]: Spherical model atmosphere with radius 3.65e+11 cm\n"
     ]
    },
    {
     "name": "stdout",
     "output_type": "stream",
     "text": [
      "[finished] 5750 3.0 -0.5 0.0 1.48 0.0 0.0 0.0 0\n",
      "[started] 5750 3.5 -1.0 0.0 1.15 0.0 0.0 0.0 0\n"
     ]
    },
    {
     "name": "stderr",
     "output_type": "stream",
     "text": [
      "INFO:root:Spherical model atmosphere with radius 2.05e+11 cm\n",
      "[2023-11-10 14:26:23,507] [INFO] [turbospectrum:generate_spectrum:88]: Spherical model atmosphere with radius 2.05e+11 cm\n"
     ]
    },
    {
     "name": "stdout",
     "output_type": "stream",
     "text": [
      "[finished] 5750 3.0 -0.5 0.4 1.48 0.0 0.0 0.0 0\n",
      "[started] 5750 3.5 -1.0 0.4 1.15 0.0 0.0 0.0 0\n"
     ]
    },
    {
     "name": "stderr",
     "output_type": "stream",
     "text": [
      "INFO:root:Spherical model atmosphere with radius 2.05e+11 cm\n",
      "[2023-11-10 14:26:27,062] [INFO] [turbospectrum:generate_spectrum:88]: Spherical model atmosphere with radius 2.05e+11 cm\n"
     ]
    },
    {
     "name": "stdout",
     "output_type": "stream",
     "text": [
      "[finished] 5750 3.0 -0.25 0.4 1.49 0.0 0.0 0.0 0\n",
      "[started] 5750 3.5 -0.75 0.0 1.16 0.0 0.0 0.0 0\n",
      "[finished] 5750 3.0 -0.25 0.0 1.49 0.0 0.0 0.0 0\n",
      "[started] "
     ]
    },
    {
     "name": "stderr",
     "output_type": "stream",
     "text": [
      "INFO:root:Spherical model atmosphere with radius 2.05e+11 cm\n"
     ]
    },
    {
     "name": "stdout",
     "output_type": "stream",
     "text": [
      "5750"
     ]
    },
    {
     "name": "stderr",
     "output_type": "stream",
     "text": [
      "[2023-11-10 14:26:27,423] [INFO] [turbospectrum:generate_spectrum:88]: Spherical model atmosphere with radius 2.05e+11 cm\n"
     ]
    },
    {
     "name": "stdout",
     "output_type": "stream",
     "text": [
      " 3.5 -0.75 0.4 1.16 0.0 0.0 0.0 0\n"
     ]
    },
    {
     "name": "stderr",
     "output_type": "stream",
     "text": [
      "INFO:root:Spherical model atmosphere with radius 2.05e+11 cm\n",
      "[2023-11-10 14:26:27,512] [INFO] [turbospectrum:generate_spectrum:88]: Spherical model atmosphere with radius 2.05e+11 cm\n"
     ]
    },
    {
     "name": "stdout",
     "output_type": "stream",
     "text": [
      "[finished] 5750 3.0 0.0 0.0 1.5 0.0 0.0 0.0 0\n",
      "[started] 5750 3.5 -0.5 0.0 1.17 0.0 0.0 0.0 0\n"
     ]
    },
    {
     "name": "stderr",
     "output_type": "stream",
     "text": [
      "INFO:root:Spherical model atmosphere with radius 2.05e+11 cm\n",
      "[2023-11-10 14:26:28,472] [INFO] [turbospectrum:generate_spectrum:88]: Spherical model atmosphere with radius 2.05e+11 cm\n"
     ]
    },
    {
     "name": "stdout",
     "output_type": "stream",
     "text": [
      "[finished] 5750 3.0 0.0 0.4 1.5 0.0 0.0 0.0 0\n",
      "[started] 5750 3.5 -0.5 0.4 1.17 0.0 0.0 0.0 0\n"
     ]
    },
    {
     "name": "stderr",
     "output_type": "stream",
     "text": [
      "INFO:root:Spherical model atmosphere with radius 2.05e+11 cm\n",
      "[2023-11-10 14:26:28,736] [INFO] [turbospectrum:generate_spectrum:88]: Spherical model atmosphere with radius 2.05e+11 cm\n"
     ]
    },
    {
     "name": "stdout",
     "output_type": "stream",
     "text": [
      "[finished] 5750 3.0 0.25 0.0 1.52 0.0 0.0 0.0 0\n",
      "[started] 5750 3.5 -0.25 0.0 1.18 0.0 0.0 0.0 0\n"
     ]
    },
    {
     "name": "stderr",
     "output_type": "stream",
     "text": [
      "INFO:root:Spherical model atmosphere with radius 2.05e+11 cm\n",
      "[2023-11-10 14:27:05,494] [INFO] [turbospectrum:generate_spectrum:88]: Spherical model atmosphere with radius 2.05e+11 cm\n"
     ]
    },
    {
     "name": "stdout",
     "output_type": "stream",
     "text": [
      "[finished] 5750 3.0 0.25 0.4 1.52 0.0 0.0 0.0 0\n",
      "[started] 5750 3.5 -0.25 0.4 1.18 0.0 0.0 0.0 0\n"
     ]
    },
    {
     "name": "stderr",
     "output_type": "stream",
     "text": [
      "INFO:root:Spherical model atmosphere with radius 2.05e+11 cm\n",
      "[2023-11-10 14:27:06,756] [INFO] [turbospectrum:generate_spectrum:88]: Spherical model atmosphere with radius 2.05e+11 cm\n"
     ]
    },
    {
     "name": "stdout",
     "output_type": "stream",
     "text": [
      "[finished] 5750 3.0 0.5 0.4 1.53 0.0 0.0 0.0 0\n",
      "[started] 5750 3.5 0.0 0.0 1.19 0.0 0.0 0.0 0\n",
      "[finished] 5750 3.0 0.5 "
     ]
    },
    {
     "name": "stderr",
     "output_type": "stream",
     "text": [
      "INFO:root:Spherical model atmosphere with radius 2.05e+11 cm\n"
     ]
    },
    {
     "name": "stdout",
     "output_type": "stream",
     "text": [
      "0.0"
     ]
    },
    {
     "name": "stderr",
     "output_type": "stream",
     "text": [
      "[2023-11-10 14:27:08,056] [INFO] [turbospectrum:generate_spectrum:88]: Spherical model atmosphere with radius 2.05e+11 cm\n"
     ]
    },
    {
     "name": "stdout",
     "output_type": "stream",
     "text": [
      " 1.53 0.0 0.0 0.0 0\n",
      "[started] 5750 3.5 0.0 0.4 1.19 0.0 0.0 0.0 0\n"
     ]
    },
    {
     "name": "stderr",
     "output_type": "stream",
     "text": [
      "INFO:root:Spherical model atmosphere with radius 2.05e+11 cm\n",
      "[2023-11-10 14:27:08,173] [INFO] [turbospectrum:generate_spectrum:88]: Spherical model atmosphere with radius 2.05e+11 cm\n"
     ]
    },
    {
     "name": "stdout",
     "output_type": "stream",
     "text": [
      "[finished] 5750 3.5 -1.0 0.0 1.15 0.0 0.0 0.0 0\n",
      "[started] 5750 3.5 0.25 0.0 1.2 0.0 0.0 0.0 0\n"
     ]
    },
    {
     "name": "stderr",
     "output_type": "stream",
     "text": [
      "INFO:root:Spherical model atmosphere with radius 2.05e+11 cm\n",
      "[2023-11-10 14:27:10,834] [INFO] [turbospectrum:generate_spectrum:88]: Spherical model atmosphere with radius 2.05e+11 cm\n"
     ]
    },
    {
     "name": "stdout",
     "output_type": "stream",
     "text": [
      "[finished] 5750 3.5 -1.0 0.4 1.15 0.0 0.0 0.0 0\n",
      "[started] 5750 3.5 0.25 0.4 1.2 0.0 0.0 0.0 0\n"
     ]
    },
    {
     "name": "stderr",
     "output_type": "stream",
     "text": [
      "INFO:root:Spherical model atmosphere with radius 2.05e+11 cm\n",
      "[2023-11-10 14:27:14,488] [INFO] [turbospectrum:generate_spectrum:88]: Spherical model atmosphere with radius 2.05e+11 cm\n"
     ]
    },
    {
     "name": "stdout",
     "output_type": "stream",
     "text": [
      "[finished] 5750 3.5 -0.75 0.4 1.16 0.0 0.0 0.0 0\n",
      "[started] 5750 3.5 0.5 0.0 1.22 0.0 0.0 0.0 0\n"
     ]
    },
    {
     "name": "stderr",
     "output_type": "stream",
     "text": [
      "INFO:root:Spherical model atmosphere with radius 2.05e+11 cm\n",
      "[2023-11-10 14:27:15,265] [INFO] [turbospectrum:generate_spectrum:88]: Spherical model atmosphere with radius 2.05e+11 cm\n"
     ]
    },
    {
     "name": "stdout",
     "output_type": "stream",
     "text": [
      "[finished] 5750 3.5 -0.75 0.0 1.16 0.0 0.0 0.0 0\n",
      "[started] 5750 3.5 0.5 0.4 1.22 0.0 0.0 0.0 0\n"
     ]
    },
    {
     "name": "stderr",
     "output_type": "stream",
     "text": [
      "INFO:root:Spherical model atmosphere with radius 2.05e+11 cm\n",
      "[2023-11-10 14:27:15,427] [INFO] [turbospectrum:generate_spectrum:88]: Spherical model atmosphere with radius 2.05e+11 cm\n"
     ]
    },
    {
     "name": "stdout",
     "output_type": "stream",
     "text": [
      "[finished] 5750 3.5 -0.5 0.0 1.17 0.0 0.0 0.0 0\n",
      "[started] 5750 4.0 -1.0 0.0 1.08 0.0 0.0 0.0 0\n",
      "[finished] 5750 3.5 -0.5 0.4 1.17 0.0 0.0 0.0 0\n",
      "[started] 5750 4.0 -1.0 0.4 1.08 0.0 0.0 0.0 0\n",
      "[finished] 5750 3.5 -0.25 0.0 1.18 0.0 0.0 0.0 0\n",
      "[started] 5750 4.0 -0.75 0.0 1.09 0.0 0.0 0.0 0\n",
      "[finished] 5750 4.0 -1.0 0.0 1.08 0.0 0.0 0.0 0\n",
      "[started] 5750 4.0 -0.75 0.4 1.09 0.0 0.0 0.0 0\n",
      "[finished] 5750 4.0 -1.0 0.4 1.08 0.0 0.0 0.0 0\n",
      "[started] 5750 4.0 -0.5 0.0 1.1 0.0 0.0 0.0 0\n",
      "[finished] 5750 3.5 -0.25 0.4 1.18 0.0 0.0 0.0 0\n",
      "[started] 5750 4.0 -0.5 0.4 1.1 0.0 0.0 0.0 0\n",
      "[finished] 5750 3.5 0.0 0.4 1.19 0.0 0.0 0.0 0\n",
      "[started] 5750 4.0 -0.25 0.0 1.11 0.0 0.0 0.0 0\n",
      "[finished] 5750 3.5 0.0 0.0 1.19 0.0 0.0 0.0 0\n",
      "[started] 5750 4.0 -0.25 0.4 1.11 0.0 0.0 0.0 0\n",
      "[finished] 5750 3.5 0.25 0.0 1.2 0.0 0.0 0.0 0\n",
      "[started] 5750 4.0 0.0 0.0 1.12 0.0 0.0 0.0 0\n",
      "[finished] 5750 3.5 0.25 0.4 1.2 0.0 0.0 0.0 0\n",
      "[started] 5750 4.0 0.0 0.4 1.12 0.0 0.0 0.0 0\n",
      "[finished] 5750 3.5 0.5 0.0 1.22 0.0 0.0 0.0 0\n",
      "[started] 5750 4.0 0.25 0.0 1.14 0.0 0.0 0.0 0\n",
      "[finished] 5750 3.5 0.5 0.4 1.22 0.0 0.0 0.0 0\n",
      "[started] 5750 4.0 0.25 0.4 1.14 0.0 0.0 0.0 0\n",
      "[finished] 5750 4.0 -0.75 0.0 1.09 0.0 0.0 0.0 0\n",
      "[started] 5750 4.0 0.5 0.0 1.15 0.0 0.0 0.0 0\n",
      "[finished] 5750 4.0 -0.75 0.4 1.09 0.0 0.0 0.0 0\n",
      "[started] 5750 4.0 0.5 0.4 1.15 0.0 0.0 0.0 0\n",
      "[finished] 5750 4.0 -0.5 0.0 1.1 0.0 0.0 0.0 0\n",
      "[started] 5750 4.5 -1.0 0.0 1.01 0.0 0.0 0.0 0\n",
      "[finished] 5750 4.0 -0.5 0.4 1.1 0.0 0.0 0.0 0\n",
      "[started] 5750 4.5 -1.0 0.4 1.01 0.0 0.0 0.0 0\n",
      "[finished] 5750 4.0 -0.25 0.0 1.11 0.0 0.0 0.0 0\n",
      "[started] 5750 4.5 -0.75 0.0 1.02 0.0 0.0 0.0 0\n",
      "[finished] 5750 4.0 -0.25 0.4 1.11 0.0 0.0 0.0 0\n",
      "[started] 5750 4.5 -0.75 0.4 1.02 0.0 0.0 0.0 0\n",
      "[finished] 5750 4.0 0.0 0.0 1.12 0.0 0.0 0.0 0\n",
      "[started] 5750 4.5 -0.5 0.0 1.03 0.0 0.0 0.0 0\n",
      "[finished] 5750 4.0 0.0 0.4 1.12 0.0 0.0 0.0 0\n",
      "[started] 5750 4.5 -0.5 0.4 1.03 0.0 0.0 0.0 0\n",
      "[finished] 5750 4.0 0.25 0.0 1.14 0.0 0.0 0.0 0\n",
      "[started] 5750 4.5 -0.25 0.0 1.04 0.0 0.0 0.0 0\n",
      "[finished] 5750 4.0 0.25 0.4 1.14 0.0 0.0 0.0 0\n",
      "[started] 5750 4.5 -0.25 0.4 1.04 0.0 0.0 0.0 0\n",
      "[finished] 5750 4.5 -1.0 0.0 1.01 0.0 0.0 0.0 0\n",
      "[started] 5750 4.5 0.0 0.0 1.05 0.0 0.0 0.0 0\n",
      "[finished] 5750 4.0 0.5 0.0 1.15 0.0 0.0 0.0 0\n",
      "[started] 5750 4.5 0.0 0.4 1.05 0.0 0.0 0.0 0\n",
      "[finished] 5750 4.0 0.5 0.4 1.15 0.0 0.0 0.0 0\n",
      "[started] 5750 4.5 0.25 0.0 1.06 0.0 0.0 0.0 0\n",
      "[finished] 5750 4.5 -1.0 0.4 1.01 0.0 0.0 0.0 0\n",
      "[started] 5750 4.5 0.25 0.4 1.06 0.0 0.0 0.0 0\n",
      "[finished] 5750 4.5 -0.75 0.0 1.02 0.0 0.0 0.0 0\n",
      "[started] 5750 4.5 0.5 0.0 1.08 0.0 0.0 0.0 0\n",
      "[finished] 5750 4.5 -0.75 0.4 1.02 0.0 0.0 0.0 0\n",
      "[started] 5750 4.5 0.5 0.4 1.08 0.0 0.0 0.0 0\n",
      "[finished] 5750 4.5 -0.5 0.0 1.03 0.0 0.0 0.0 0\n",
      "[started] 5750 5.0 -1.0 0.0 0.94 0.0 0.0 0.0 0\n",
      "[finished] 5750 4.5 -0.5 0.4 1.03 0.0 0.0 0.0 0\n",
      "[started] 5750 5.0 -1.0 0.4 0.94 0.0 0.0 0.0 0\n",
      "[finished] 5750 4.5 -0.25 0.0 1.04 0.0 0.0 0.0 0\n",
      "[started] 5750 5.0 -0.75 0.0 0.95 0.0 0.0 0.0 0\n",
      "[finished] 5750 4.5 -0.25 0.4 1.04 0.0 0.0 0.0 0\n",
      "[started] 5750 5.0 -0.75 0.4 0.95 0.0 0.0 0.0 0\n",
      "[finished] 5750 4.5 0.0 0.0 1.05 0.0 0.0 0.0 0\n",
      "[started] 5750 5.0 -0.5 0.0 0.95 0.0 0.0 0.0 0\n",
      "[finished] 5750 4.5 0.0 0.4 1.05 0.0 0.0 0.0 0\n",
      "[started] 5750 5.0 -0.5 0.4 0.95 0.0 0.0 0.0 0\n",
      "[finished] 5750 4.5 0.25 0.0 1.06 0.0 0.0 0.0 0\n",
      "[started] 5750 5.0 -0.25 0.0 0.97 0.0 0.0 0.0 0\n",
      "[finished] 5750 4.5 0.25 0.4 1.06 0.0 0.0 0.0 0\n",
      "[started] 5750 5.0 -0.25 0.4 0.97 0.0 0.0 0.0 0\n",
      "[finished] 5750 4.5 0.5 0.0 1.08 0.0 0.0 0.0 0\n",
      "[started] 5750 5.0 0.0 0.0 0.98 0.0 0.0 0.0 0\n",
      "[finished] 5750 4.5 0.5 0.4 1.08 0.0 0.0 0.0 0\n",
      "[started] 5750 5.0 0.0 0.4 0.98 0.0 0.0 0.0 0\n",
      "[finished] 5750 5.0 -1.0 0.0 0.94 0.0 0.0 0.0 0\n",
      "[started] 5750 5.0 0.25 0.0 0.99 0.0 0.0 0.0 0\n",
      "[finished] 5750 5.0 -1.0 0.4 0.94 0.0 0.0 0.0 0\n",
      "[started] 5750 5.0 0.25 0.4 0.99 0.0 0.0 0.0 0\n",
      "[finished] 5750 5.0 -0.75 0.0 0.95 0.0 0.0 0.0 0\n",
      "[started] 5750 5.0 0.5 0.0 1.0 0.0 0.0 0.0 0\n",
      "[finished] 5750 5.0 -0.75 0.4 0.95 0.0 0.0 0.0 0\n",
      "[started] 5750 5.0 0.5 0.4 1.0 0.0 0.0 0.0 0\n",
      "[finished] 5750 5.0 -0.5 0.0 0.95 0.0 0.0 0.0 0\n",
      "[started] 6000 3.0 -1.0 0.0 1.62 0.0 0.0 0.0 0\n"
     ]
    },
    {
     "name": "stderr",
     "output_type": "stream",
     "text": [
      "INFO:root:Spherical model atmosphere with radius 3.65e+11 cm\n",
      "[2023-11-10 14:30:24,668] [INFO] [turbospectrum:generate_spectrum:88]: Spherical model atmosphere with radius 3.65e+11 cm\n"
     ]
    },
    {
     "name": "stdout",
     "output_type": "stream",
     "text": [
      "[finished] 5750 5.0 -0.5 0.4 0.95 0.0 0.0 0.0 0\n",
      "[started] 6000 3.0 -1.0 0.4 1.62 0.0 0.0 0.0 0\n"
     ]
    },
    {
     "name": "stderr",
     "output_type": "stream",
     "text": [
      "INFO:root:Spherical model atmosphere with radius 3.65e+11 cm\n",
      "[2023-11-10 14:30:24,973] [INFO] [turbospectrum:generate_spectrum:88]: Spherical model atmosphere with radius 3.65e+11 cm\n"
     ]
    },
    {
     "name": "stdout",
     "output_type": "stream",
     "text": [
      "[finished] 5750 5.0 -0.25 0.0 0.97 0.0 0.0 0.0 0\n",
      "[finished] 5750 5.0 -0.25 0.4 0.97 0.0 0.0[started]  0.06000  03.0 \n",
      "-0.75 0.0 1.63 0.0 0.0 0.0 0\n",
      "[started] 6000 3.0 -0.75 0.4 1.63 0.0 0.0 0.0 0\n"
     ]
    },
    {
     "name": "stderr",
     "output_type": "stream",
     "text": [
      "INFO:root:Spherical model atmosphere with radius 3.65e+11 cm\n",
      "[2023-11-10 14:30:26,623] [INFO] [turbospectrum:generate_spectrum:88]: Spherical model atmosphere with radius 3.65e+11 cm\n",
      "INFO:root:Spherical model atmosphere with radius 3.65e+11 cm\n",
      "[2023-11-10 14:30:26,640] [INFO] [turbospectrum:generate_spectrum:88]: Spherical model atmosphere with radius 3.65e+11 cm\n"
     ]
    },
    {
     "name": "stdout",
     "output_type": "stream",
     "text": [
      "[finished] 5750 5.0 0.0 0.4 0.98 0.0 0.0 0.0 0\n",
      "[started] 6000 3.0 -0.5 0.0 1.64 0.0 0.0 0.0 0\n"
     ]
    },
    {
     "name": "stderr",
     "output_type": "stream",
     "text": [
      "INFO:root:Spherical model atmosphere with radius 3.65e+11 cm\n",
      "[2023-11-10 14:30:27,073] [INFO] [turbospectrum:generate_spectrum:88]: Spherical model atmosphere with radius 3.65e+11 cm\n"
     ]
    },
    {
     "name": "stdout",
     "output_type": "stream",
     "text": [
      "[finished] 5750 5.0 0.0 0.0 0.98 0.0 0.0 0.0 0\n",
      "[started] 6000 3.0 -0.5 0.4 1.64 0.0 0.0 0.0 0\n"
     ]
    },
    {
     "name": "stderr",
     "output_type": "stream",
     "text": [
      "INFO:root:Spherical model atmosphere with radius 3.65e+11 cm\n",
      "[2023-11-10 14:30:27,533] [INFO] [turbospectrum:generate_spectrum:88]: Spherical model atmosphere with radius 3.65e+11 cm\n"
     ]
    },
    {
     "name": "stdout",
     "output_type": "stream",
     "text": [
      "[finished] 5750 5.0 0.25 0.0 0.99 0.0 0.0 0.0 0\n",
      "[started] 6000 3.0 -0.25 0.0 1.65 0.0 0.0 0.0 0\n"
     ]
    },
    {
     "name": "stderr",
     "output_type": "stream",
     "text": [
      "INFO:root:Spherical model atmosphere with radius 3.65e+11 cm\n",
      "[2023-11-10 14:30:29,636] [INFO] [turbospectrum:generate_spectrum:88]: Spherical model atmosphere with radius 3.65e+11 cm\n"
     ]
    },
    {
     "name": "stdout",
     "output_type": "stream",
     "text": [
      "[finished] 5750 5.0 0.25 0.4 0.99 0.0 0.0 0.0 0\n",
      "[started] 6000 3.0 -0.25 0.4 1.65 0.0 0.0 0.0 0\n"
     ]
    },
    {
     "name": "stderr",
     "output_type": "stream",
     "text": [
      "INFO:root:Spherical model atmosphere with radius 3.65e+11 cm\n",
      "[2023-11-10 14:30:33,370] [INFO] [turbospectrum:generate_spectrum:88]: Spherical model atmosphere with radius 3.65e+11 cm\n"
     ]
    },
    {
     "name": "stdout",
     "output_type": "stream",
     "text": [
      "[finished] 5750 5.0 0.5 0.4 1.0 0.0 0.0 0.0 0\n",
      "[started] 6000 3.0 0.0 0.0 1.66 0.0 0.0 0.0 0\n"
     ]
    },
    {
     "name": "stderr",
     "output_type": "stream",
     "text": [
      "INFO:root:Spherical model atmosphere with radius 3.65e+11 cm\n",
      "[2023-11-10 14:30:34,593] [INFO] [turbospectrum:generate_spectrum:88]: Spherical model atmosphere with radius 3.65e+11 cm\n"
     ]
    },
    {
     "name": "stdout",
     "output_type": "stream",
     "text": [
      "[finished] 5750 5.0 0.5 0.0 1.0 0.0 0.0 0.0 0\n",
      "[started] 6000 3.0 0.0 0.4 1.66 0.0 0.0 0.0 0\n"
     ]
    },
    {
     "name": "stderr",
     "output_type": "stream",
     "text": [
      "INFO:root:Spherical model atmosphere with radius 3.65e+11 cm\n",
      "[2023-11-10 14:30:35,497] [INFO] [turbospectrum:generate_spectrum:88]: Spherical model atmosphere with radius 3.65e+11 cm\n"
     ]
    },
    {
     "name": "stdout",
     "output_type": "stream",
     "text": [
      "[finished] 6000 3.0 -1.0 0.0 1.62 0.0 0.0 0.0 0\n",
      "[started] 6000 3.0[finished]  0.256000  0.03.0  -1.01.68  0.4 0.0 1.620.0 0.0  0.0 0.00.0  00\n",
      "\n",
      "[started] 6000 3.0 0.25 0.4 1.68 0.0 0.0 0.0 0\n"
     ]
    },
    {
     "name": "stderr",
     "output_type": "stream",
     "text": [
      "INFO:root:Spherical model atmosphere with radius 3.65e+11 cm\n",
      "[2023-11-10 14:31:12,362] [INFO] [turbospectrum:generate_spectrum:88]: Spherical model atmosphere with radius 3.65e+11 cm\n",
      "INFO:root:Spherical model atmosphere with radius 3.65e+11 cm\n",
      "[2023-11-10 14:31:12,373] [INFO] [turbospectrum:generate_spectrum:88]: Spherical model atmosphere with radius 3.65e+11 cm\n"
     ]
    },
    {
     "name": "stdout",
     "output_type": "stream",
     "text": [
      "[finished] 6000 3.0 -0.75 0.4 1.63 0.0 0.0 0.0 0\n",
      "[started] 6000 3.0 0.5 0.0 1.69 0.0 0.0 0.0 0\n"
     ]
    },
    {
     "name": "stderr",
     "output_type": "stream",
     "text": [
      "INFO:root:Spherical model atmosphere with radius 3.65e+11 cm\n",
      "[2023-11-10 14:31:13,932] [INFO] [turbospectrum:generate_spectrum:88]: Spherical model atmosphere with radius 3.65e+11 cm\n"
     ]
    },
    {
     "name": "stdout",
     "output_type": "stream",
     "text": [
      "[finished] 6000 3.0 -0.75 0.0 1.63 0.0 0.0 0.0 0\n",
      "[started] 6000 3.0 0.5 0.4 1.69 0.0 0.0 0.0 0\n"
     ]
    },
    {
     "name": "stderr",
     "output_type": "stream",
     "text": [
      "INFO:root:Spherical model atmosphere with radius 3.65e+11 cm\n",
      "[2023-11-10 14:31:14,090] [INFO] [turbospectrum:generate_spectrum:88]: Spherical model atmosphere with radius 3.65e+11 cm\n"
     ]
    },
    {
     "name": "stdout",
     "output_type": "stream",
     "text": [
      "[finished] 6000 3.0 -0.5 0.0 1.64 0.0 0.0 0.0 0\n",
      "[started] 6000 3.5 -1.0 0.0 1.24 0.0 0.0 0.0 0\n"
     ]
    },
    {
     "name": "stderr",
     "output_type": "stream",
     "text": [
      "INFO:root:Spherical model atmosphere with radius 2.05e+11 cm\n",
      "[2023-11-10 14:31:14,471] [INFO] [turbospectrum:generate_spectrum:88]: Spherical model atmosphere with radius 2.05e+11 cm\n"
     ]
    },
    {
     "name": "stdout",
     "output_type": "stream",
     "text": [
      "[finished] 6000 3.0 -0.5 0.4 1.64 0.0 0.0 0.0 0\n",
      "[started] 6000 3.5 -1.0 0.4 1.24 0.0 0.0 0.0 0\n"
     ]
    },
    {
     "name": "stderr",
     "output_type": "stream",
     "text": [
      "INFO:root:Spherical model atmosphere with radius 2.05e+11 cm\n",
      "[2023-11-10 14:31:15,436] [INFO] [turbospectrum:generate_spectrum:88]: Spherical model atmosphere with radius 2.05e+11 cm\n"
     ]
    },
    {
     "name": "stdout",
     "output_type": "stream",
     "text": [
      "[finished] 6000 3.0 -0.25 0.0 1.65 0.0 0.0 0.0 0\n",
      "[started] 6000 3.5 -0.75 0.0 1.25 0.0 0.0 0.0 0\n"
     ]
    },
    {
     "name": "stderr",
     "output_type": "stream",
     "text": [
      "INFO:root:Spherical model atmosphere with radius 2.05e+11 cm\n",
      "[2023-11-10 14:31:17,377] [INFO] [turbospectrum:generate_spectrum:88]: Spherical model atmosphere with radius 2.05e+11 cm\n"
     ]
    },
    {
     "name": "stdout",
     "output_type": "stream",
     "text": [
      "[finished] 6000 3.0 -0.25 0.4 1.65 0.0 0.0 0.0 0\n",
      "[started] 6000 3.5 -0.75 0.4 1.25 0.0 0.0 0.0 0\n"
     ]
    },
    {
     "name": "stderr",
     "output_type": "stream",
     "text": [
      "INFO:root:Spherical model atmosphere with radius 2.05e+11 cm\n",
      "[2023-11-10 14:31:21,587] [INFO] [turbospectrum:generate_spectrum:88]: Spherical model atmosphere with radius 2.05e+11 cm\n"
     ]
    },
    {
     "name": "stdout",
     "output_type": "stream",
     "text": [
      "[finished] 6000 3.0 0.0 0.0 1.66 0.0 0.0 0.0 0\n",
      "[started] 6000 3.5 -0.5 0.0 1.26 0.0 0.0 0.0 0\n"
     ]
    },
    {
     "name": "stderr",
     "output_type": "stream",
     "text": [
      "INFO:root:Spherical model atmosphere with radius 2.05e+11 cm\n",
      "[2023-11-10 14:31:22,206] [INFO] [turbospectrum:generate_spectrum:88]: Spherical model atmosphere with radius 2.05e+11 cm\n"
     ]
    },
    {
     "name": "stdout",
     "output_type": "stream",
     "text": [
      "[finished] 6000 3.0 0.0 0.4 1.66 0.0 0.0 0.0 0\n",
      "[started] 6000 3.5 -0.5 0.4 1.26 0.0 0.0 0.0 0\n"
     ]
    },
    {
     "name": "stderr",
     "output_type": "stream",
     "text": [
      "INFO:root:Spherical model atmosphere with radius 2.05e+11 cm\n",
      "[2023-11-10 14:31:23,490] [INFO] [turbospectrum:generate_spectrum:88]: Spherical model atmosphere with radius 2.05e+11 cm\n"
     ]
    },
    {
     "name": "stdout",
     "output_type": "stream",
     "text": [
      "[finished] 6000 3.0 0.25 0.4 1.68 0.0 0.0 0.0 0\n",
      "[started] 6000 3.5 -0.25 0.0 1.27 0.0 0.0 0.0 0\n"
     ]
    },
    {
     "name": "stderr",
     "output_type": "stream",
     "text": [
      "INFO:root:Spherical model atmosphere with radius 2.05e+11 cm\n",
      "[2023-11-10 14:32:00,329] [INFO] [turbospectrum:generate_spectrum:88]: Spherical model atmosphere with radius 2.05e+11 cm\n"
     ]
    },
    {
     "name": "stdout",
     "output_type": "stream",
     "text": [
      "[finished] 6000 3.0 0.25 0.0 1.68 0.0 0.0 0.0 0\n",
      "[started] 6000 3.5 -0.25 0.4 1.27 0.0 0.0 0.0 0\n"
     ]
    },
    {
     "name": "stderr",
     "output_type": "stream",
     "text": [
      "INFO:root:Spherical model atmosphere with radius 2.05e+11 cm\n",
      "[2023-11-10 14:32:00,632] [INFO] [turbospectrum:generate_spectrum:88]: Spherical model atmosphere with radius 2.05e+11 cm\n"
     ]
    },
    {
     "name": "stdout",
     "output_type": "stream",
     "text": [
      "[finished] 6000 3.0 0.5 0.0 1.69 0.0 0.0 0.0 0\n",
      "[started] 6000 3.5 0.0 0.0 1.28 0.0 0.0 0.0 0\n",
      "[finished] 6000 3.5 -1.0 0.0 1.24 0.0 0.0 0.0 0\n",
      "[started] 6000 3.5 0.0 0.4 1.28 0.0 0.0"
     ]
    },
    {
     "name": "stderr",
     "output_type": "stream",
     "text": [
      "INFO:root:Spherical model atmosphere with radius 2.05e+11 cm\n"
     ]
    },
    {
     "name": "stdout",
     "output_type": "stream",
     "text": [
      " 0.0"
     ]
    },
    {
     "name": "stderr",
     "output_type": "stream",
     "text": [
      "[2023-11-10 14:32:01,794] [INFO] [turbospectrum:generate_spectrum:88]: Spherical model atmosphere with radius 2.05e+11 cm\n"
     ]
    },
    {
     "name": "stdout",
     "output_type": "stream",
     "text": [
      " 0\n"
     ]
    },
    {
     "name": "stderr",
     "output_type": "stream",
     "text": [
      "INFO:root:Spherical model atmosphere with radius 2.05e+11 cm\n",
      "[2023-11-10 14:32:01,886] [INFO] [turbospectrum:generate_spectrum:88]: Spherical model atmosphere with radius 2.05e+11 cm\n"
     ]
    },
    {
     "name": "stdout",
     "output_type": "stream",
     "text": [
      "[finished] 6000 3.0 0.5 0.4 1.69 0.0 0.0 0.0 0\n",
      "[started] 6000 3.5 0.25 0.0 1.29 0.0 0.0 0.0 0\n"
     ]
    },
    {
     "name": "stderr",
     "output_type": "stream",
     "text": [
      "INFO:root:Spherical model atmosphere with radius 2.05e+11 cm\n",
      "[2023-11-10 14:32:02,052] [INFO] [turbospectrum:generate_spectrum:88]: Spherical model atmosphere with radius 2.05e+11 cm\n"
     ]
    },
    {
     "name": "stdout",
     "output_type": "stream",
     "text": [
      "[finished] 6000 3.5 -1.0 0.4 1.24 0.0 0.0 0.0 0\n",
      "[started] 6000 3.5 0.25 0.4 1.29 0.0 0.0 0.0 0\n"
     ]
    },
    {
     "name": "stderr",
     "output_type": "stream",
     "text": [
      "INFO:root:Spherical model atmosphere with radius 2.05e+11 cm\n",
      "[2023-11-10 14:32:02,557] [INFO] [turbospectrum:generate_spectrum:88]: Spherical model atmosphere with radius 2.05e+11 cm\n"
     ]
    },
    {
     "name": "stdout",
     "output_type": "stream",
     "text": [
      "[finished] 6000 3.5 -0.75 0.0 1.25 0.0 0.0 0.0 0\n",
      "[started] 6000 3.5 0.5 0.0 1.31 0.0 0.0 0.0 0\n"
     ]
    },
    {
     "name": "stderr",
     "output_type": "stream",
     "text": [
      "INFO:root:Spherical model atmosphere with radius 2.05e+11 cm\n",
      "[2023-11-10 14:32:05,242] [INFO] [turbospectrum:generate_spectrum:88]: Spherical model atmosphere with radius 2.05e+11 cm\n"
     ]
    },
    {
     "name": "stdout",
     "output_type": "stream",
     "text": [
      "[finished] 6000 3.5 -0.75 0.4 1.25 0.0 0.0 0.0 0\n",
      "[started] 6000 3.5 0.5 0.4 1.31 0.0 0.0 0.0 0\n"
     ]
    },
    {
     "name": "stderr",
     "output_type": "stream",
     "text": [
      "INFO:root:Spherical model atmosphere with radius 2.05e+11 cm\n",
      "[2023-11-10 14:32:09,067] [INFO] [turbospectrum:generate_spectrum:88]: Spherical model atmosphere with radius 2.05e+11 cm\n"
     ]
    },
    {
     "name": "stdout",
     "output_type": "stream",
     "text": [
      "[finished] 6000 3.5 -0.5 0.0 1.26 0.0 0.0 0.0 0\n",
      "[started] 6000 4.0 -1.0 0.0 1.17 0.0 0.0 0.0 0\n",
      "[finished] 6000 3.5 -0.5 0.4 1.26 0.0 0.0 0.0 0\n",
      "[started] 6000 4.0 -1.0 0.4 1.17 0.0 0.0 0.0 0\n",
      "[finished] 6000 4.0 -1.0 0.0 1.17 0.0 0.0 0.0 0\n",
      "[started] 6000 4.0 -0.75 0.0 1.18 0.0 0.0 0.0 0\n",
      "[finished] 6000 3.5 -0.25 0.0 1.27 0.0 0.0 0.0 0\n",
      "[started] 6000 4.0 -0.75 0.4 1.18 0.0 0.0 0.0 0\n",
      "[finished] 6000 3.5 -0.25 0.4 1.27 0.0 0.0 0.0 0\n",
      "[started] 6000 4.0 -0.5 0.0 1.19 0.0 0.0 0.0 0\n",
      "[finished] 6000 4.0 -1.0 0.4 1.17 0.0 0.0 0.0 0\n",
      "[started] 6000 4.0 -0.5 0.4 1.19 0.0 0.0 0.0 0\n",
      "[finished] 6000 3.5 0.25 0.0 1.29 0.0 0.0 0.0 0\n",
      "[started] 6000 4.0 -0.25 0.0 1.2 0.0 0.0 0.0 0\n",
      "[finished] 6000 3.5 0.0 0.4 1.28 0.0 0.0 0.0 0\n",
      "[started] 6000 4.0 -0.25[finished]  0.46000  3.5 1.20.0  0.00.0  0.01.28  0.00.0 0 \n",
      "0.0 0.0 0\n",
      "[started] 6000 4.0 0.0 0.0 1.21 0.0 0.0 0.0 0\n",
      "[finished] 6000 3.5 0.25 0.4 1.29 0.0 0.0 0.0 0\n",
      "[started] 6000 4.0 0.0 0.4 1.21 0.0 0.0 0.0 0\n",
      "[finished] 6000 3.5 0.5 0.0 1.31 0.0 0.0 0.0 0\n",
      "[started] 6000 4.0 0.25 0.0 1.23 0.0 0.0 0.0 0\n",
      "[finished] 6000 3.5 0.5 0.4 1.31 0.0 0.0 0.0 0\n",
      "[started] 6000 4.0 0.25 0.4 1.23 0.0 0.0 0.0 0\n",
      "[finished] 6000 4.0 -0.75 0.0 1.18 0.0 0.0 0.0 0\n",
      "[started] 6000 4.0 0.5 0.0 1.24 0.0 0.0 0.0 0\n",
      "[finished] 6000 4.0 -0.75 0.4 1.18 0.0 0.0 0.0 0\n",
      "[started] 6000 4.0 0.5 0.4 1.24 0.0 0.0 0.0 0\n",
      "[finished] 6000 4.0 -0.5 0.0 1.19 0.0 0.0 0.0 0\n",
      "[started] 6000 4.5 -1.0 0.0 1.1 0.0 0.0 0.0 0\n",
      "[finished] 6000 4.0 -0.5 0.4 1.19 0.0 0.0 0.0 0\n",
      "[started] 6000 4.5 -1.0 0.4 1.1 0.0 0.0 0.0 0\n",
      "[finished] 6000 4.0 0.0 0.0 1.21 0.0 0.0 0.0 0\n",
      "[started] 6000 4.5 -0.75 0.0 1.11 0.0 0.0 0.0 0\n",
      "[finished] 6000 4.0 -0.25 0.0 1.2 0.0 0.0 0.0 0\n",
      "[started] 6000 4.5 -0.75 0.4 1.11 0.0 0.0 0.0 0\n",
      "[finished] 6000 4.0 -0.25 0.4 1.2 0.0 0.0 0.0 0\n",
      "[started] 6000 4.5 -0.5 0.0 1.12 0.0 0.0 0.0 0\n",
      "[finished] 6000 4.0 0.0 0.4 1.21 0.0 0.0 0.0 0\n",
      "[started] 6000 4.5 -0.5 0.4 1.12 0.0 0.0 0.0 0\n",
      "[finished] 6000 4.0 0.25 0.0 1.23 0.0 0.0 0.0 0\n",
      "[started] 6000 4.5 -0.25 0.0 1.13 0.0 0.0 0.0 0\n",
      "[finished] 6000 4.0 0.25 0.4 1.23 0.0 0.0 0.0 0\n",
      "[started] 6000 4.5 -0.25 0.4 1.13 0.0 0.0 0.0 0\n",
      "[finished] 6000 4.0 0.5 0.0 1.24 0.0 0.0 0.0 0\n",
      "[started] 6000 4.5 0.0 0.0 1.14 0.0 0.0 0.0 0\n",
      "[finished] 6000 4.0 0.5 0.4 1.24 0.0 0.0 0.0 0\n",
      "[started] 6000 4.5 0.0 0.4 1.14 0.0 0.0 0.0 0\n",
      "[finished] 6000 4.5 -1.0 0.0 1.1 0.0 0.0 0.0 0\n",
      "[started] 6000 4.5 0.25 0.0 1.15 0.0 0.0 0.0 0\n",
      "[finished] 6000 4.5 -1.0 0.4 1.1 0.0 0.0 0.0 0\n",
      "[started] 6000 4.5 0.25 0.4 1.15 0.0 0.0 0.0 0\n",
      "[finished] 6000 4.5 -0.75 0.0 1.11 0.0 0.0 0.0 0\n",
      "[started] 6000 4.5 0.5 0.0 1.17 0.0 0.0 0.0 0\n",
      "[finished] 6000 4.5 -0.5 0.0 1.12 0.0 0.0 0.0 0\n",
      "[started] 6000 4.5 0.5 0.4 1.17 0.0 0.0 0.0 0\n",
      "[finished] 6000 4.5 -0.75 0.4 1.11 0.0 0.0 0.0 0\n",
      "[started] 6000 5.0 -1.0 0.0 1.03 0.0 0.0 0.0 0\n",
      "[finished] 6000 4.5 -0.5 0.4 1.12 0.0 0.0 0.0 0\n",
      "[started] 6000 5.0 -1.0 0.4 1.03 0.0 0.0 0.0 0\n",
      "[finished] 6000 4.5 -0.25 0.0 1.13 0.0 0.0 0.0 0\n",
      "[started] 6000 5.0 -0.75 0.0 1.04 0.0 0.0 0.0 0\n",
      "[finished] 6000 4.5 -0.25 0.4 1.13 0.0 0.0 0.0 0\n",
      "[started] 6000 5.0 -0.75 0.4 1.04 0.0 0.0 0.0 0\n",
      "[finished] 6000 4.5 0.0 0.0 1.14 0.0 0.0 0.0 0\n",
      "[started] 6000 5.0 -0.5 0.0 1.05 0.0 0.0 0.0 0\n",
      "[finished] 6000 4.5 0.0 0.4 1.14 0.0 0.0 0.0 0\n",
      "[started] 6000 5.0 -0.5 0.4 1.05 0.0 0.0 0.0 0\n",
      "[finished] 6000 4.5 0.25 0.0 1.15 0.0 0.0 0.0 0\n",
      "[started] 6000 5.0 -0.25 0.0 1.06 0.0 0.0 0.0 0\n",
      "[finished] 6000 4.5 0.25 0.4 1.15 0.0 0.0 0.0 0\n",
      "[started] 6000 5.0 -0.25 0.4 1.06 0.0 0.0 0.0 0\n",
      "[finished] 6000 5.0 -1.0 0.0 1.03 0.0 0.0 0.0 0\n",
      "[started] 6000 5.0 0.0 0.0 1.07 0.0 0.0 0.0 0\n",
      "[finished] 6000 4.5 0.5 0.4 1.17 0.0[finished]  0.06000  0.04.5  00.5\n",
      " 0.0 1.17 0.0 0.0 0.0 0\n",
      "[started] 6000 5.0 0.0 0.4 1.07 [started]0.0 6000  0.05.0  0.00.25  00.0\n",
      " 1.08 0.0 0.0 0.0 0\n",
      "[finished] 6000 5.0 -1.0 0.4 1.03 0.0 0.0 0.0 0\n",
      "[started] 6000 5.0 0.25 0.4 1.08 0.0 0.0 0.0 0\n",
      "[finished] 6000 5.0 -0.75 0.0 1.04 0.0 0.0 0.0 0\n",
      "[started] 6000 5.0 0.5 0.0 1.1 0.0 0.0 0.0 0\n",
      "[finished] 6000 5.0 -0.75 0.4 1.04 0.0 0.0 0.0 0\n",
      "[started] 6000 5.0 0.5 0.4 1.1 0.0 0.0 0.0 0\n",
      "[finished] 6000 5.0 -0.5 0.0 1.05 0.0 0.0 0.0 0\n",
      "[started] 6250 3.0 -1.0 0.0 1.82 0.0 0.0 0.0 0\n",
      "[finished] 6000 5.0 -0.5 0.4 1.05 0.0 0.0 0.0 0\n",
      "[started] 6250 3.0 -1.0 0.4 1.82 0.0 0.0 0.0 0\n"
     ]
    },
    {
     "name": "stderr",
     "output_type": "stream",
     "text": [
      "INFO:root:Spherical model atmosphere with radius 3.65e+11 cm\n",
      "[2023-11-10 14:35:18,354] [INFO] [turbospectrum:generate_spectrum:88]: Spherical model atmosphere with radius 3.65e+11 cm\n",
      "INFO:root:Spherical model atmosphere with radius 3.65e+11 cm\n",
      "[2023-11-10 14:35:18,409] [INFO] [turbospectrum:generate_spectrum:88]: Spherical model atmosphere with radius 3.65e+11 cm\n"
     ]
    },
    {
     "name": "stdout",
     "output_type": "stream",
     "text": [
      "[finished] 6000 5.0 -0.25 0.4 1.06 0.0 0.0 0.0 0\n",
      "[started] 6250 3.0 -0.75 0.0 1.83 0.0 0.0 0.0 0\n",
      "[finished] 6000 "
     ]
    },
    {
     "name": "stderr",
     "output_type": "stream",
     "text": [
      "INFO:root:Spherical model atmosphere with radius 3.65e+11 cm\n"
     ]
    },
    {
     "name": "stdout",
     "output_type": "stream",
     "text": [
      "5.0 "
     ]
    },
    {
     "name": "stderr",
     "output_type": "stream",
     "text": [
      "[2023-11-10 14:35:20,006] [INFO] [turbospectrum:generate_spectrum:88]: Spherical model atmosphere with radius 3.65e+11 cm\n"
     ]
    },
    {
     "name": "stdout",
     "output_type": "stream",
     "text": [
      "-0.25 0.0 1.06 0.0 0.0 0.0 0\n",
      "[started] 6250 3.0 -0.75 0.4 1.83 0.0 0.0 0.0 0\n"
     ]
    },
    {
     "name": "stderr",
     "output_type": "stream",
     "text": [
      "INFO:root:Spherical model atmosphere with radius 3.65e+11 cm\n",
      "[2023-11-10 14:35:20,129] [INFO] [turbospectrum:generate_spectrum:88]: Spherical model atmosphere with radius 3.65e+11 cm\n"
     ]
    },
    {
     "name": "stdout",
     "output_type": "stream",
     "text": [
      "[finished] [finished]6000  60005.0  5.00.25  0.0 0.00.4  1.071.08  0.00.0  0.00.0  0.0 0.00 \n",
      "0\n",
      "[started] 6250 3.0 -0.5 0.0 1.84 0.0 0.0 0.0[started]  62500\n",
      " 3.0 -0.5 0.4 1.84 0.0 0.0 0.0 0\n"
     ]
    },
    {
     "name": "stderr",
     "output_type": "stream",
     "text": [
      "INFO:root:Spherical model atmosphere with radius 3.65e+11 cm\n",
      "[2023-11-10 14:35:20,271] [INFO] [turbospectrum:generate_spectrum:88]: Spherical model atmosphere with radius 3.65e+11 cm\n",
      "INFO:root:Spherical model atmosphere with radius 3.65e+11 cm\n",
      "[2023-11-10 14:35:20,285] [INFO] [turbospectrum:generate_spectrum:88]: Spherical model atmosphere with radius 3.65e+11 cm\n"
     ]
    },
    {
     "name": "stdout",
     "output_type": "stream",
     "text": [
      "[finished] 6000 5.0 0.0 0.0 1.07 0.0 0.0 0.0 0\n",
      "[started] 6250 3.0 -0.25 0.0 1.85 0.0 0.0 0.0 0\n"
     ]
    },
    {
     "name": "stderr",
     "output_type": "stream",
     "text": [
      "INFO:root:Spherical model atmosphere with radius 3.65e+11 cm\n",
      "[2023-11-10 14:35:20,428] [INFO] [turbospectrum:generate_spectrum:88]: Spherical model atmosphere with radius 3.65e+11 cm\n"
     ]
    },
    {
     "name": "stdout",
     "output_type": "stream",
     "text": [
      "[finished] 6000 5.0 0.25 0.4 1.08 0.0 0.0 0.0 0\n",
      "[started] 6250 3.0 -0.25 0.4 1.85 0.0 0.0 0.0 0\n"
     ]
    },
    {
     "name": "stderr",
     "output_type": "stream",
     "text": [
      "INFO:root:Spherical model atmosphere with radius 3.65e+11 cm\n",
      "[2023-11-10 14:35:21,297] [INFO] [turbospectrum:generate_spectrum:88]: Spherical model atmosphere with radius 3.65e+11 cm\n"
     ]
    },
    {
     "name": "stdout",
     "output_type": "stream",
     "text": [
      "[finished] 6000 5.0 0.5 0.0 1.1 0.0 0.0 0.0 0\n",
      "[started] 6250 3.0 0.0 0.0 1.86 0.0 0.0 0.0 0\n"
     ]
    },
    {
     "name": "stderr",
     "output_type": "stream",
     "text": [
      "INFO:root:Spherical model atmosphere with radius 3.65e+11 cm\n",
      "[2023-11-10 14:35:24,503] [INFO] [turbospectrum:generate_spectrum:88]: Spherical model atmosphere with radius 3.65e+11 cm\n"
     ]
    },
    {
     "name": "stdout",
     "output_type": "stream",
     "text": [
      "[finished] 6000 5.0 0.5 0.4 1.1 0.0 0.0 0.0 0\n",
      "[started] 6250 3.0 0.0 0.4 1.86 0.0 0.0 0.0 0\n"
     ]
    },
    {
     "name": "stderr",
     "output_type": "stream",
     "text": [
      "INFO:root:Spherical model atmosphere with radius 3.65e+11 cm\n",
      "[2023-11-10 14:35:29,262] [INFO] [turbospectrum:generate_spectrum:88]: Spherical model atmosphere with radius 3.65e+11 cm\n"
     ]
    },
    {
     "name": "stdout",
     "output_type": "stream",
     "text": [
      "[finished] 6250 3.0 -1.0 0.4 1.82 0.0 0.0 0.0 0\n",
      "[started] 6250 3.0 0.25 0.0 1.87 0.0 0.0 0.0 0\n",
      "[finished] 6250 3.0 -1.0 0.0 1.82 0.0 0.0 0.0 0\n"
     ]
    },
    {
     "name": "stderr",
     "output_type": "stream",
     "text": [
      "INFO:root:Spherical model atmosphere with radius 3.65e+11 cm\n",
      "[2023-11-10 14:36:05,518] [INFO] [turbospectrum:generate_spectrum:88]: Spherical model atmosphere with radius 3.65e+11 cm\n"
     ]
    },
    {
     "name": "stdout",
     "output_type": "stream",
     "text": [
      "[started] 6250 3.0 0.25 0.4 1.87 0.0 0.0 0.0 0\n"
     ]
    },
    {
     "name": "stderr",
     "output_type": "stream",
     "text": [
      "INFO:root:Spherical model atmosphere with radius 3.65e+11 cm\n",
      "[2023-11-10 14:36:05,634] [INFO] [turbospectrum:generate_spectrum:88]: Spherical model atmosphere with radius 3.65e+11 cm\n"
     ]
    },
    {
     "name": "stdout",
     "output_type": "stream",
     "text": [
      "[finished] 6250 3.0 -0.75 0.4 1.83 0.0 0.0 0.0 0\n",
      "[started] 6250 3.0 0.5 0.0 1.89 0.0 0.0 0.0 0\n",
      "[finished] 6250 3.0 -0.75 0.0 1.83 0.0 0.0 0.0 0\n",
      "[started] 6250 3.0 0.5 0.4 1.89 0.0 0.0 0.0 0\n"
     ]
    },
    {
     "name": "stderr",
     "output_type": "stream",
     "text": [
      "INFO:root:Spherical model atmosphere with radius 3.65e+11 cm\n",
      "[2023-11-10 14:36:07,259] [INFO] [turbospectrum:generate_spectrum:88]: Spherical model atmosphere with radius 3.65e+11 cm\n",
      "INFO:root:Spherical model atmosphere with radius 3.65e+11 cm\n",
      "[2023-11-10 14:36:07,336] [INFO] [turbospectrum:generate_spectrum:88]: Spherical model atmosphere with radius 3.65e+11 cm\n"
     ]
    },
    {
     "name": "stdout",
     "output_type": "stream",
     "text": [
      "[finished] 6250 3.0 -0.5 0.0 1.84 0.0 0.0 0.0 0\n",
      "[started] 6250 3.5 -1.0 0.0 1.35 0.0 0.0 0.0 0\n"
     ]
    },
    {
     "name": "stderr",
     "output_type": "stream",
     "text": [
      "INFO:root:Spherical model atmosphere with radius 2.05e+11 cm\n",
      "[2023-11-10 14:36:07,697] [INFO] [turbospectrum:generate_spectrum:88]: Spherical model atmosphere with radius 2.05e+11 cm\n"
     ]
    },
    {
     "name": "stdout",
     "output_type": "stream",
     "text": [
      "[finished] 6250 3.0 -0.25 0.0 1.85 0.0 0.0 0.0 0\n",
      "[started] 6250 3.5 -1.0 0.4 1.35 0.0 0.0 0.0 0\n",
      "[finished] 6250 3.0 -0.5 0.4 1.84 0.0 0.0 0.0 0\n",
      "[started] 6250 3.5 -0.75 0.0 1.36 0.0 0.0 0.0 0\n"
     ]
    },
    {
     "name": "stderr",
     "output_type": "stream",
     "text": [
      "INFO:root:Spherical model atmosphere with radius 2.05e+11 cm\n",
      "[2023-11-10 14:36:08,292] [INFO] [turbospectrum:generate_spectrum:88]: Spherical model atmosphere with radius 2.05e+11 cm\n",
      "INFO:root:Spherical model atmosphere with radius 2.05e+11 cm\n",
      "[2023-11-10 14:36:08,343] [INFO] [turbospectrum:generate_spectrum:88]: Spherical model atmosphere with radius 2.05e+11 cm\n"
     ]
    },
    {
     "name": "stdout",
     "output_type": "stream",
     "text": [
      "[finished] 6250 3.0 -0.25 0.4 1.85 0.0 0.0 0.0 0\n",
      "[started] 6250 3.5 -0.75 0.4 1.36 0.0 0.0 0.0 0\n"
     ]
    },
    {
     "name": "stderr",
     "output_type": "stream",
     "text": [
      "INFO:root:Spherical model atmosphere with radius 2.05e+11 cm\n",
      "[2023-11-10 14:36:09,282] [INFO] [turbospectrum:generate_spectrum:88]: Spherical model atmosphere with radius 2.05e+11 cm\n"
     ]
    },
    {
     "name": "stdout",
     "output_type": "stream",
     "text": [
      "[finished] 6250 3.0 0.0 0.0 1.86 0.0 0.0 0.0 0\n",
      "[started] 6250 3.5 -0.5 0.0 1.37 0.0 0.0 0.0 0\n"
     ]
    },
    {
     "name": "stderr",
     "output_type": "stream",
     "text": [
      "INFO:root:Spherical model atmosphere with radius 2.05e+11 cm\n",
      "[2023-11-10 14:36:12,862] [INFO] [turbospectrum:generate_spectrum:88]: Spherical model atmosphere with radius 2.05e+11 cm\n"
     ]
    },
    {
     "name": "stdout",
     "output_type": "stream",
     "text": [
      "[finished] 6250 3.0 0.0 0.4 1.86 0.0 0.0 0.0 0\n",
      "[started] 6250 3.5 -0.5 0.4 1.37 0.0 0.0 0.0 0\n"
     ]
    },
    {
     "name": "stderr",
     "output_type": "stream",
     "text": [
      "INFO:root:Spherical model atmosphere with radius 2.05e+11 cm\n",
      "[2023-11-10 14:36:16,791] [INFO] [turbospectrum:generate_spectrum:88]: Spherical model atmosphere with radius 2.05e+11 cm\n"
     ]
    },
    {
     "name": "stdout",
     "output_type": "stream",
     "text": [
      "[finished] 6250 3.0 0.25 0.4 1.87 0.0 0.0 0.0 0\n",
      "[started] 6250 3.5 -0.25 0.0 1.38 0.0 0.0 0.0 0\n",
      "[finished] 6250 3.0 0.25 0.0 1.87 0.0 0.0 0.0 0\n",
      "[started] 6250 3.5 -0.25 0.4 1.38 0.0 0.0"
     ]
    },
    {
     "name": "stderr",
     "output_type": "stream",
     "text": [
      "INFO:root:Spherical model atmosphere with radius 2.05e+11 cm\n"
     ]
    },
    {
     "name": "stdout",
     "output_type": "stream",
     "text": [
      " 0.0"
     ]
    },
    {
     "name": "stderr",
     "output_type": "stream",
     "text": [
      "[2023-11-10 14:36:53,472] [INFO] [turbospectrum:generate_spectrum:88]: Spherical model atmosphere with radius 2.05e+11 cm\n"
     ]
    },
    {
     "name": "stdout",
     "output_type": "stream",
     "text": [
      " 0\n"
     ]
    },
    {
     "name": "stderr",
     "output_type": "stream",
     "text": [
      "INFO:root:Spherical model atmosphere with radius 2.05e+11 cm\n",
      "[2023-11-10 14:36:53,559] [INFO] [turbospectrum:generate_spectrum:88]: Spherical model atmosphere with radius 2.05e+11 cm\n"
     ]
    },
    {
     "name": "stdout",
     "output_type": "stream",
     "text": [
      "[finished] 6250 3.5 -1.0 0.0 1.35 0.0 0.0 0.0 0\n",
      "[started] 6250 3.5 0.0 0.0 1.39 0.0 0.0 0.0 0\n",
      "[finished] 6250 3.0 0.5 0.4 1.89 0.0 0.0 0.0 0"
     ]
    },
    {
     "name": "stderr",
     "output_type": "stream",
     "text": [
      "INFO:root:Spherical model atmosphere with radius 2.05e+11 cm\n"
     ]
    },
    {
     "name": "stdout",
     "output_type": "stream",
     "text": [
      "\n"
     ]
    },
    {
     "name": "stderr",
     "output_type": "stream",
     "text": [
      "[2023-11-10 14:36:55,280] [INFO] [turbospectrum:generate_spectrum:88]: Spherical model atmosphere with radius 2.05e+11 cm\n"
     ]
    },
    {
     "name": "stdout",
     "output_type": "stream",
     "text": [
      "[started] 6250 3.5 0.0 0.4 1.39 0.0 0.0 0.0 0\n",
      "[finished] 6250 3.0 0.5 0.0 1.89 0.0 0.0 0.0 0\n",
      "[started] 6250 3.5 0.25 0.0"
     ]
    },
    {
     "name": "stderr",
     "output_type": "stream",
     "text": [
      "INFO:root:Spherical model atmosphere with radius 2.05e+11 cm\n"
     ]
    },
    {
     "name": "stdout",
     "output_type": "stream",
     "text": [
      " 1.4"
     ]
    },
    {
     "name": "stderr",
     "output_type": "stream",
     "text": [
      "[2023-11-10 14:36:55,400] [INFO] [turbospectrum:generate_spectrum:88]: Spherical model atmosphere with radius 2.05e+11 cm\n"
     ]
    },
    {
     "name": "stdout",
     "output_type": "stream",
     "text": [
      " 0.0 0.0 0.0 0\n"
     ]
    },
    {
     "name": "stderr",
     "output_type": "stream",
     "text": [
      "INFO:root:Spherical model atmosphere with radius 2.05e+11 cm\n",
      "[2023-11-10 14:36:55,491] [INFO] [turbospectrum:generate_spectrum:88]: Spherical model atmosphere with radius 2.05e+11 cm\n"
     ]
    },
    {
     "name": "stdout",
     "output_type": "stream",
     "text": [
      "[finished] 6250 3.5 -0.75 0.0 1.36 0.0 0.0 0.0 0\n",
      "[started] 6250 3.5 0.25 0.4 1.4 0.0 0.0 0.0 0\n"
     ]
    },
    {
     "name": "stderr",
     "output_type": "stream",
     "text": [
      "INFO:root:Spherical model atmosphere with radius 2.05e+11 cm\n",
      "[2023-11-10 14:36:55,713] [INFO] [turbospectrum:generate_spectrum:88]: Spherical model atmosphere with radius 2.05e+11 cm\n"
     ]
    },
    {
     "name": "stdout",
     "output_type": "stream",
     "text": [
      "[finished] 6250 3.5 -1.0 0.4 1.35 0.0 0.0 0.0 0\n",
      "[started] 6250 3.5 0.5 0.0 1.42 0.0 0.0 0.0 0\n"
     ]
    },
    {
     "name": "stderr",
     "output_type": "stream",
     "text": [
      "INFO:root:Spherical model atmosphere with radius 2.05e+11 cm\n",
      "[2023-11-10 14:36:55,858] [INFO] [turbospectrum:generate_spectrum:88]: Spherical model atmosphere with radius 2.05e+11 cm\n"
     ]
    },
    {
     "name": "stdout",
     "output_type": "stream",
     "text": [
      "[finished] 6250 3.5 -0.75 0.4 1.36 0.0 0.0 0.0 0\n",
      "[started] 6250 3.5 0.5 0.4 1.42 0.0 0.0 0.0 0\n"
     ]
    },
    {
     "name": "stderr",
     "output_type": "stream",
     "text": [
      "INFO:root:Spherical model atmosphere with radius 2.05e+11 cm\n",
      "[2023-11-10 14:36:57,111] [INFO] [turbospectrum:generate_spectrum:88]: Spherical model atmosphere with radius 2.05e+11 cm\n"
     ]
    },
    {
     "name": "stdout",
     "output_type": "stream",
     "text": [
      "[finished] 6250 3.5 -0.5 0.0 1.37 0.0 0.0 0.0 0\n",
      "[started] 6250 4.0 -1.0 0.0 1.28 0.0 0.0 0.0 0\n",
      "[finished] 6250 3.5 -0.5 0.4 1.37 0.0 0.0 0.0 0\n",
      "[started] 6250 4.0 -1.0 0.4 1.28 0.0 0.0 0.0 0\n",
      "[finished] 6250 4.0 -1.0 0.0 1.28 0.0 0.0 0.0 0\n",
      "[started] 6250 4.0 -0.75 0.0 1.29 0.0 0.0 0.0 0\n",
      "[finished] 6250 3.5 -0.25 0.4 1.38 0.0 0.0 0.0 0\n",
      "[started] 6250 4.0 -0.75 0.4 1.29 0.0 0.0 0.0 0\n",
      "[finished] 6250 3.5 -0.25 0.0 1.38 0.0 0.0 0.0 0\n",
      "[started] 6250 4.0 -0.5 0.0 1.3 0.0 0.0 0.0 0\n",
      "[finished] 6250 4.0 -1.0 0.4 1.28 0.0 0.0 0.0 0\n",
      "[started] 6250 4.0 -0.5 0.4 1.3 0.0 0.0 0.0 0\n",
      "[finished] 6250 3.5 0.0 0.4 1.39 0.0 0.0 0.0 0\n",
      "[started] 6250 4.0 -0.25 0.0 1.31 0.0 0.0 0.0 0\n",
      "[finished] 6250 3.5 0.0 0.0 1.39 0.0 0.0 0.0 0\n",
      "[started] 6250 4.0 -0.25 0.4[finished]  1.31 62500.0  3.5 0.0 0.250.0  0.40 \n",
      "1.4 0.0 0.0 0.0 0\n",
      "[started] 6250 4.0 0.0 0.0 1.32 0.0 0.0 0.0 0\n",
      "[finished] 6250 3.5 0.25 0.0 1.4 0.0 0.0 0.0 0\n",
      "[started] 6250 4.0 0.0 0.4 1.32 0.0 0.0 0.0 0\n",
      "[finished] 6250 3.5 0.5 0.0 1.42 0.0 0.0 0.0 0\n",
      "[started] 6250 4.0 0.25 0.0 1.34 0.0 0.0 0.0 0\n",
      "[finished] 6250 3.5 0.5 0.4 1.42 0.0 0.0 0.0 0\n",
      "[started] 6250 4.0 0.25 0.4 1.34 0.0 0.0 0.0 0\n",
      "[finished] 6250 4.0 -0.75 0.0 1.29 0.0 0.0 0.0 0\n",
      "[started] 6250 4.0 0.5 0.0 1.35 0.0 0.0 0.0 0\n",
      "[finished] 6250 4.0 -0.75 0.4 1.29 0.0 0.0 0.0 0\n",
      "[started] 6250 4.0 0.5 0.4 1.35 0.0 0.0 0.0 0\n",
      "[finished] 6250 4.0 -0.5 0.4 1.3 0.0 0.0 0.0 0\n",
      "[started] 6250 4.5 -1.0 0.0 1.21 0.0 0.0 0.0 0\n",
      "[finished] 6250 4.0 -0.5 0.0 1.3 0.0 0.0 0.0 0\n",
      "[started] 6250 4.5 -1.0 0.4 1.21 0.0 0.0 0.0 0\n",
      "[finished] 6250 4.0 -0.25 0.0 1.31 0.0 0.0 0.0 0\n",
      "[started] 6250 4.5 -0.75 0.0 1.22 0.0 0.0 0.0 0\n",
      "[finished] 6250 4.0 -0.25 0.4 1.31 0.0 0.0 0.0 0\n",
      "[started] 6250 4.5 -0.75 0.4 1.22 0.0 0.0 0.0 0\n",
      "[finished] 6250 4.0 0.0 0.0 1.32 0.0 0.0 0.0 0\n",
      "[started] 6250 4.5 -0.5 0.0 1.23 0.0 0.0 0.0 0\n",
      "[finished] 6250 4.0 0.0 0.4 1.32 0.0 0.0 0.0 0\n",
      "[started] 6250 4.5 -0.5 0.4 1.23 0.0 0.0 0.0 0\n",
      "[finished] 6250 4.0 0.25 0.0 1.34 0.0 0.0 0.0 0\n",
      "[started] 6250 4.5 -0.25 0.0 1.24 0.0 0.0 0.0 0\n",
      "[finished] 6250 4.0 0.25 0.4 1.34 0.0 0.0 0.0 0\n",
      "[started] 6250 4.5 -0.25 0.4 1.24 0.0 0.0 0.0 0\n",
      "[finished] 6250 4.0 0.5 0.0 1.35 0.0 0.0 0.0 0\n",
      "[started] 6250 4.5 0.0 0.0 1.25 0.0 0.0 0.0 0\n",
      "[finished] 6250 4.0 0.5 0.4 1.35 0.0 0.0 0.0 0\n",
      "[started] 6250 4.5 0.0 0.4 1.25 0.0 0.0 0.0 0\n",
      "[finished] 6250 4.5 -1.0 0.0 1.21 0.0 0.0 0.0 0\n",
      "[started] 6250 4.5 0.25 0.0 1.26 0.0 0.0 0.0 0\n",
      "[finished] 6250 4.5 -1.0 0.4 1.21 0.0 0.0 0.0 0\n",
      "[started] 6250 4.5 0.25 0.4 1.26 0.0 0.0 0.0 0\n",
      "[finished] 6250 4.5 -0.75 0.0 1.22 0.0 0.0 0.0 0\n",
      "[started] 6250 4.5 0.5 0.0 1.28 0.0 0.0 0.0 0\n",
      "[finished] 6250 4.5 -0.75 0.4 1.22 0.0 0.0 0.0 0\n",
      "[finished] 6250 4.5 -0.5  0.4 1.23 0.0[started]  0.06250 0.04.5  0.50 0.4\n",
      " 1.28 0.0 0.0 0.0 0\n",
      "[started] 6250 5.0 -1.0 0.0 1.14 0.0 0.0 0.0 0\n",
      "[finished] 6250 4.5 -0.5 0.0 1.23 0.0 0.0 0.0 0\n",
      "[started] 6250 5.0 -1.0 0.4 1.14 0.0 0.0 0.0 0\n",
      "[finished] 6250 4.5 -0.25 0.0 1.24 0.0 0.0 0.0 0\n",
      "[started] 6250 5.0 -0.75 0.0 1.15 0.0 0.0 0.0 0\n",
      "[finished] 6250 4.5 -0.25 0.4 1.24 0.0 0.0 0.0 0\n",
      "[started] 6250 5.0 -0.75 0.4 1.15 0.0 0.0 0.0 0\n",
      "[finished] 6250 4.5 0.0 0.0 1.25 0.0 0.0 0.0 0\n",
      "[started] 6250 5.0 -0.5 0.0 1.16 0.0 0.0 0.0 0\n",
      "[finished] 6250 4.5 0.0 0.4 1.25 0.0 0.0 0.0 0\n",
      "[started] 6250 5.0 -0.5 0.4 1.16 0.0 0.0 0.0 0\n",
      "[finished] 6250 4.5 0.25 0.0 1.26 0.0 0.0 0.0 0\n",
      "[started] 6250 5.0 -0.25 0.0 1.17 0.0 0.0 0.0 0\n",
      "[finished] 6250 4.5 0.25 0.4 1.26 0.0 0.0 0.0 0\n",
      "[started] 6250 5.0 -0.25 0.4 1.17 0.0 0.0 0.0 0\n",
      "[finished] 6250 5.0 -1.0 0.4 1.14 0.0 0.0 0.0 0\n",
      "[started] 6250 5.0 0.0 0.0 1.18 0.0 0.0 0.0 0\n",
      "[finished] 6250 5.0 -1.0 0.0 1.14 0.0 0.0 0.0 0\n",
      "[started] 6250 5.0 0.0 0.4 1.18 0.0 0.0 0.0 0\n",
      "[finished] 6250 4.5 0.5 0.0 1.28 0.0 0.0 0.0 0\n",
      "[started] 6250 5.0 0.25 0.0 1.19 0.0 0.0 0.0 0\n",
      "[finished] 6250 5.0 -0.75 0.0 1.15 0.0 0.0 0.0 0\n",
      "[started] 6250 5.0 0.25 0.4 1.19 0.0 0.0 0.0 0\n",
      "[finished] 6250 4.5 0.5 0.4 1.28 0.0 0.0 0.0 0\n",
      "[started] 6250 5.0 0.5 0.0 1.21 0.0 0.0 0.0 0\n",
      "[finished] 6250 5.0 -0.75 0.4 1.15 0.0 0.0 0.0 0\n",
      "[started] 6250 5.0 0.5 0.4 1.21 0.0 0.0 0.0 0\n",
      "[finished] 6250 5.0 -0.5 0.0 1.16 0.0 0.0 0.0 0\n",
      "[started] 6500 3.0 -1.0 0.0 2.06 0.0 0.0 0.0 0\n"
     ]
    },
    {
     "name": "stderr",
     "output_type": "stream",
     "text": [
      "INFO:root:Spherical model atmosphere with radius 3.65e+11 cm\n",
      "[2023-11-10 14:40:09,425] [INFO] [turbospectrum:generate_spectrum:88]: Spherical model atmosphere with radius 3.65e+11 cm\n"
     ]
    },
    {
     "name": "stdout",
     "output_type": "stream",
     "text": [
      "[finished] 6250 5.0 -0.25 0.0 1.17 0.0 0.0 0.0 0\n",
      "[started] 6500 3.0 -1.0 0.4 2.06 0.0 0.0 0.0 0\n"
     ]
    },
    {
     "name": "stderr",
     "output_type": "stream",
     "text": [
      "INFO:root:Spherical model atmosphere with radius 3.65e+11 cm\n",
      "[2023-11-10 14:40:12,059] [INFO] [turbospectrum:generate_spectrum:88]: Spherical model atmosphere with radius 3.65e+11 cm\n"
     ]
    },
    {
     "name": "stdout",
     "output_type": "stream",
     "text": [
      "[finished] 6250 5.0 -0.25 0.4 1.17 0.0 0.0 0.0 0\n",
      "[started] 6500 3.0 -0.75 0.0 2.06 0.0 0.0 0.0 0\n"
     ]
    },
    {
     "name": "stderr",
     "output_type": "stream",
     "text": [
      "INFO:root:Spherical model atmosphere with radius 3.65e+11 cm\n",
      "[2023-11-10 14:40:12,494] [INFO] [turbospectrum:generate_spectrum:88]: Spherical model atmosphere with radius 3.65e+11 cm\n"
     ]
    },
    {
     "name": "stdout",
     "output_type": "stream",
     "text": [
      "[finished] 6250 5.0 -0.5 0.4 1.16 0.0 0.0 0.0 0\n",
      "[started] 6500 3.0 -0.75 0.4 2.06 0.0 0.0 0.0 0\n"
     ]
    },
    {
     "name": "stderr",
     "output_type": "stream",
     "text": [
      "INFO:root:Spherical model atmosphere with radius 3.65e+11 cm\n",
      "[2023-11-10 14:40:13,325] [INFO] [turbospectrum:generate_spectrum:88]: Spherical model atmosphere with radius 3.65e+11 cm\n"
     ]
    },
    {
     "name": "stdout",
     "output_type": "stream",
     "text": [
      "[finished] 6250 5.0 0.0 0.4 1.18 0.0 0.0 0.0 0\n",
      "[started] 6500 3.0 -0.5 0.0 2.07 0.0 0.0 0.0 0\n"
     ]
    },
    {
     "name": "stderr",
     "output_type": "stream",
     "text": [
      "INFO:root:Spherical model atmosphere with radius 3.65e+11 cm\n",
      "[2023-11-10 14:40:13,755] [INFO] [turbospectrum:generate_spectrum:88]: Spherical model atmosphere with radius 3.65e+11 cm\n"
     ]
    },
    {
     "name": "stdout",
     "output_type": "stream",
     "text": [
      "[finished] 6250 5.0 0.0 0.0 1.18 0.0 0.0 0.0 0\n",
      "[started] 6500 3.0 -0.5 0.4 2.07 0.0 0.0 0.0 0\n"
     ]
    },
    {
     "name": "stderr",
     "output_type": "stream",
     "text": [
      "INFO:root:Spherical model atmosphere with radius 3.65e+11 cm\n",
      "[2023-11-10 14:40:14,193] [INFO] [turbospectrum:generate_spectrum:88]: Spherical model atmosphere with radius 3.65e+11 cm\n"
     ]
    },
    {
     "name": "stdout",
     "output_type": "stream",
     "text": [
      "[finished] 6250 5.0 0.25 0.0 1.19 0.0 0.0 0.0 0\n",
      "[started] 6500 3.0 -0.25 0.0 2.08 0.0 0.0 0.0 0\n"
     ]
    },
    {
     "name": "stderr",
     "output_type": "stream",
     "text": [
      "INFO:root:Spherical model atmosphere with radius 3.65e+11 cm\n",
      "[2023-11-10 14:40:14,414] [INFO] [turbospectrum:generate_spectrum:88]: Spherical model atmosphere with radius 3.65e+11 cm\n"
     ]
    },
    {
     "name": "stdout",
     "output_type": "stream",
     "text": [
      "[finished] 6250 5.0 0.5 0.0 1.21 0.0 0.0 0.0 0\n",
      "[started] 6500 3.0 -0.25 0.4 2.08 0.0 0.0 0.0 0\n"
     ]
    },
    {
     "name": "stderr",
     "output_type": "stream",
     "text": [
      "INFO:root:Spherical model atmosphere with radius 3.65e+11 cm\n",
      "[2023-11-10 14:40:14,769] [INFO] [turbospectrum:generate_spectrum:88]: Spherical model atmosphere with radius 3.65e+11 cm\n"
     ]
    },
    {
     "name": "stdout",
     "output_type": "stream",
     "text": [
      "[finished] 6250 5.0 0.25 0.4 1.19 0.0 0.0 0.0 0\n",
      "[started] 6500 3.0 0.0 0.0 2.1 0.0 0.0 0.0 0\n"
     ]
    },
    {
     "name": "stderr",
     "output_type": "stream",
     "text": [
      "INFO:root:Spherical model atmosphere with radius 3.65e+11 cm\n",
      "[2023-11-10 14:40:15,052] [INFO] [turbospectrum:generate_spectrum:88]: Spherical model atmosphere with radius 3.65e+11 cm\n"
     ]
    },
    {
     "name": "stdout",
     "output_type": "stream",
     "text": [
      "[finished] 6250 5.0 0.5 0.4 1.21 0.0 0.0 0.0 0\n",
      "[started] 6500 3.0 0.0 0.4 2.1 0.0 0.0 0.0 0\n"
     ]
    },
    {
     "name": "stderr",
     "output_type": "stream",
     "text": [
      "INFO:root:Spherical model atmosphere with radius 3.65e+11 cm\n",
      "[2023-11-10 14:40:15,294] [INFO] [turbospectrum:generate_spectrum:88]: Spherical model atmosphere with radius 3.65e+11 cm\n"
     ]
    },
    {
     "name": "stdout",
     "output_type": "stream",
     "text": [
      "[finished] 6500 3.0 -1.0 0.0 2.06 0.0 0.0 0.0 0\n",
      "[started] 6500 3.0 0.25 0.0 2.11 0.0 0.0 0.0 0\n"
     ]
    },
    {
     "name": "stderr",
     "output_type": "stream",
     "text": [
      "INFO:root:Spherical model atmosphere with radius 3.65e+11 cm\n",
      "[2023-11-10 14:40:56,963] [INFO] [turbospectrum:generate_spectrum:88]: Spherical model atmosphere with radius 3.65e+11 cm\n"
     ]
    },
    {
     "name": "stdout",
     "output_type": "stream",
     "text": [
      "[finished] 6500 3.0 -1.0 0.4 2.06 0.0 0.0 0.0 0\n",
      "[started] 6500 3.0 0.25 0.4 2.11 0.0 0.0 0.0 0\n"
     ]
    },
    {
     "name": "stderr",
     "output_type": "stream",
     "text": [
      "INFO:root:Spherical model atmosphere with radius 3.65e+11 cm\n",
      "[2023-11-10 14:40:59,557] [INFO] [turbospectrum:generate_spectrum:88]: Spherical model atmosphere with radius 3.65e+11 cm\n"
     ]
    },
    {
     "name": "stdout",
     "output_type": "stream",
     "text": [
      "[finished] 6500 3.0 -0.75 0.0 2.06 0.0 0.0 0.0 0\n",
      "[started] 6500 3.0 0.5 0.0 2.12 0.0 0.0 0.0 0\n"
     ]
    },
    {
     "name": "stderr",
     "output_type": "stream",
     "text": [
      "INFO:root:Spherical model atmosphere with radius 3.65e+11 cm\n",
      "[2023-11-10 14:40:59,832] [INFO] [turbospectrum:generate_spectrum:88]: Spherical model atmosphere with radius 3.65e+11 cm\n"
     ]
    },
    {
     "name": "stdout",
     "output_type": "stream",
     "text": [
      "[finished] 6500 3.0 -0.75 0.4 2.06 0.0 0.0 0.0 0\n",
      "[started] 6500 3.0 0.5 0.4 2.12 0.0 0.0 0.0 0\n"
     ]
    },
    {
     "name": "stderr",
     "output_type": "stream",
     "text": [
      "INFO:root:Spherical model atmosphere with radius 3.65e+11 cm\n",
      "[2023-11-10 14:41:00,881] [INFO] [turbospectrum:generate_spectrum:88]: Spherical model atmosphere with radius 3.65e+11 cm\n"
     ]
    },
    {
     "name": "stdout",
     "output_type": "stream",
     "text": [
      "[finished] 6500 3.0 -0.5 0.0 2.07 0.0 0.0 0.0 0\n",
      "[started] 6500 3.5 -1.0 0.0 1.48 0.0 0.0 0.0 0\n"
     ]
    },
    {
     "name": "stderr",
     "output_type": "stream",
     "text": [
      "INFO:root:Spherical model atmosphere with radius 2.05e+11 cm\n",
      "[2023-11-10 14:41:01,066] [INFO] [turbospectrum:generate_spectrum:88]: Spherical model atmosphere with radius 2.05e+11 cm\n"
     ]
    },
    {
     "name": "stdout",
     "output_type": "stream",
     "text": [
      "[finished] 6500 3.0 -0.25 0.0 2.08 0.0 0.0 0.0 0\n",
      "[started] 6500 3.5 -1.0 0.4 1.48 0.0 0.0 0.0 0\n"
     ]
    },
    {
     "name": "stderr",
     "output_type": "stream",
     "text": [
      "INFO:root:Spherical model atmosphere with radius 2.05e+11 cm\n",
      "[2023-11-10 14:41:01,832] [INFO] [turbospectrum:generate_spectrum:88]: Spherical model atmosphere with radius 2.05e+11 cm\n"
     ]
    },
    {
     "name": "stdout",
     "output_type": "stream",
     "text": [
      "[finished] 6500 3.0 -0.5 0.4 2.07 0.0 0.0 0.0 0\n",
      "[started] 6500 3.5 -0.75 0.0 1.49 0.0 0.0 0.0 0\n"
     ]
    },
    {
     "name": "stderr",
     "output_type": "stream",
     "text": [
      "INFO:root:Spherical model atmosphere with radius 2.05e+11 cm\n",
      "[2023-11-10 14:41:02,162] [INFO] [turbospectrum:generate_spectrum:88]: Spherical model atmosphere with radius 2.05e+11 cm\n"
     ]
    },
    {
     "name": "stdout",
     "output_type": "stream",
     "text": [
      "[finished] 6500 3.0 -0.25 0.4 2.08 0.0 0.0 0.0 0\n",
      "[started] 6500 3.5 -0.75 0.4 1.49 0.0 0.0 0.0 0\n",
      "[finished] 6500 3.0 0.0 0.0 2.1 0.0 0.0 0.0 0\n",
      "[started] 6500 3.5 -0.5 0.0 1.5 0.0 0.0 0.0 0\n"
     ]
    },
    {
     "name": "stderr",
     "output_type": "stream",
     "text": [
      "INFO:root:Spherical model atmosphere with radius 2.05e+11 cm\n",
      "[2023-11-10 14:41:02,411] [INFO] [turbospectrum:generate_spectrum:88]: Spherical model atmosphere with radius 2.05e+11 cm\n",
      "INFO:root:Spherical model atmosphere with radius 2.05e+11 cm\n",
      "[2023-11-10 14:41:02,419] [INFO] [turbospectrum:generate_spectrum:88]: Spherical model atmosphere with radius 2.05e+11 cm\n"
     ]
    },
    {
     "name": "stdout",
     "output_type": "stream",
     "text": [
      "[finished] 6500 3.0 0.0 0.4 2.1 0.0 0.0 0.0 0\n",
      "[started] 6500 3.5 -0.5 0.4 1.5 0.0 0.0 0.0 0\n"
     ]
    },
    {
     "name": "stderr",
     "output_type": "stream",
     "text": [
      "INFO:root:Spherical model atmosphere with radius 2.05e+11 cm\n",
      "[2023-11-10 14:41:03,052] [INFO] [turbospectrum:generate_spectrum:88]: Spherical model atmosphere with radius 2.05e+11 cm\n"
     ]
    },
    {
     "name": "stdout",
     "output_type": "stream",
     "text": [
      "[finished] 6500 3.0 0.25 0.0 2.11 0.0 0.0 0.0 0\n",
      "[started] 6500 3.5 -0.25 0.0 1.51 0.0 0.0 0.0 0\n"
     ]
    },
    {
     "name": "stderr",
     "output_type": "stream",
     "text": [
      "INFO:root:Spherical model atmosphere with radius 2.05e+11 cm\n",
      "[2023-11-10 14:41:45,052] [INFO] [turbospectrum:generate_spectrum:88]: Spherical model atmosphere with radius 2.05e+11 cm\n"
     ]
    },
    {
     "name": "stdout",
     "output_type": "stream",
     "text": [
      "[finished] 6500 3.0 0.25 0.4 2.11 0.0 0.0 0.0 0\n",
      "[started] 6500 3.5 -0.25 0.4 1.51 0.0 0.0 0.0 0\n"
     ]
    },
    {
     "name": "stderr",
     "output_type": "stream",
     "text": [
      "INFO:root:Spherical model atmosphere with radius 2.05e+11 cm\n",
      "[2023-11-10 14:41:47,237] [INFO] [turbospectrum:generate_spectrum:88]: Spherical model atmosphere with radius 2.05e+11 cm\n"
     ]
    },
    {
     "name": "stdout",
     "output_type": "stream",
     "text": [
      "[finished] 6500 3.0 0.5 0.0 2.12 0.0 0.0 0.0 0\n",
      "[started] 6500 3.5 0.0 0.0 1.52 0.0 0.0 0.0 0\n"
     ]
    },
    {
     "name": "stderr",
     "output_type": "stream",
     "text": [
      "INFO:root:Spherical model atmosphere with radius 2.05e+11 cm\n",
      "[2023-11-10 14:41:47,546] [INFO] [turbospectrum:generate_spectrum:88]: Spherical model atmosphere with radius 2.05e+11 cm\n"
     ]
    },
    {
     "name": "stdout",
     "output_type": "stream",
     "text": [
      "[finished] 6500 3.5 -1.0 0.0 1.48 0.0 0.0 0.0 0\n",
      "[started] 6500 3.5 0.0 0.4 1.52 0.0 0.0 0.0 0\n"
     ]
    },
    {
     "name": "stderr",
     "output_type": "stream",
     "text": [
      "INFO:root:Spherical model atmosphere with radius 2.05e+11 cm\n",
      "[2023-11-10 14:41:48,458] [INFO] [turbospectrum:generate_spectrum:88]: Spherical model atmosphere with radius 2.05e+11 cm\n"
     ]
    },
    {
     "name": "stdout",
     "output_type": "stream",
     "text": [
      "[finished] 6500 3.0 0.5 0.4 2.12 0.0 0.0 0.0 0\n",
      "[started] 6500 3.5 0.25 0.0 1.53 0.0 0.0 0.0 0\n"
     ]
    },
    {
     "name": "stderr",
     "output_type": "stream",
     "text": [
      "INFO:root:Spherical model atmosphere with radius 2.05e+11 cm\n",
      "[2023-11-10 14:41:49,042] [INFO] [turbospectrum:generate_spectrum:88]: Spherical model atmosphere with radius 2.05e+11 cm\n"
     ]
    },
    {
     "name": "stdout",
     "output_type": "stream",
     "text": [
      "[finished] 6500 3.5 -1.0 0.4 1.48 0.0 0.0 0.0 0\n",
      "[started] 6500 3.5 0.25 0.4 1.53 0.0 0.0 0.0 0\n"
     ]
    },
    {
     "name": "stderr",
     "output_type": "stream",
     "text": [
      "INFO:root:Spherical model atmosphere with radius 2.05e+11 cm\n",
      "[2023-11-10 14:41:49,250] [INFO] [turbospectrum:generate_spectrum:88]: Spherical model atmosphere with radius 2.05e+11 cm\n"
     ]
    },
    {
     "name": "stdout",
     "output_type": "stream",
     "text": [
      "[finished] 6500 3.5 -0.75 0.0 1.49 0.0 0.0 0.0 0\n",
      "[started] 6500 3.5 0.5 0.0 1.55 0.0 0.0 0.0 0\n"
     ]
    },
    {
     "name": "stderr",
     "output_type": "stream",
     "text": [
      "INFO:root:Spherical model atmosphere with radius 2.05e+11 cm\n",
      "[2023-11-10 14:41:49,695] [INFO] [turbospectrum:generate_spectrum:88]: Spherical model atmosphere with radius 2.05e+11 cm\n"
     ]
    },
    {
     "name": "stdout",
     "output_type": "stream",
     "text": [
      "[finished] 6500 3.5 -0.75 0.4 1.49 0.0 0.0 0.0 0\n",
      "[started] 6500 3.5 0.5 0.4 1.55 0.0 0.0 0.0 0\n",
      "[finished] 6500 3.5 -0.5 0.0 1.5 0.0 0.0 0.0 0\n",
      "[started] 6500 4.0 -1.0 0.0 1.41 0.0 0.0 0.0 0\n"
     ]
    },
    {
     "name": "stderr",
     "output_type": "stream",
     "text": [
      "INFO:root:Spherical model atmosphere with radius 2.05e+11 cm\n",
      "[2023-11-10 14:41:50,057] [INFO] [turbospectrum:generate_spectrum:88]: Spherical model atmosphere with radius 2.05e+11 cm\n"
     ]
    },
    {
     "name": "stdout",
     "output_type": "stream",
     "text": [
      "[finished] 6500 3.5 -0.5 0.4 1.5 0.0 0.0 0.0 0\n",
      "[started] 6500 4.0 -1.0 0.4 1.41 0.0 0.0 0.0 0\n",
      "[finished] 6500 4.0 -1.0 0.0 1.41 0.0 0.0 0.0 0\n",
      "[started] 6500 4.0 -0.75 0.0 1.42 0.0 0.0 0.0 0\n",
      "[finished] 6500 4.0 -1.0 0.4 1.41 0.0 0.0 0.0 0\n",
      "[started] 6500 4.0 -0.75 0.4 1.42 0.0 0.0 0.0 0\n",
      "[finished] 6500 3.5 -0.25 0.0 1.51 0.0 0.0 0.0 0\n",
      "[started] 6500 4.0 -0.5 0.0 1.43 0.0 0.0 0.0 0\n",
      "[finished] 6500 3.5 -0.25 0.4 1.51 0.0 0.0 0.0 0\n",
      "[started] 6500 4.0 -0.5 0.4 1.43 0.0 0.0 0.0 0\n",
      "[finished] 6500 3.5 0.0 0.0 1.52 0.0 0.0 0.0 0\n",
      "[started] 6500 4.0 -0.25 0.0 1.44 0.0 0.0 0.0 0\n",
      "[finished] 6500 3.5 0.0 0.4 1.52 0.0 0.0 0.0 0\n",
      "[started] 6500 4.0 -0.25 0.4 1.44 0.0 0.0 0.0 0\n",
      "[finished] 6500 3.5 0.25 0.4 1.53 0.0 0.0 0.0 0\n",
      "[started] 6500 4.0 0.0 0.0 1.45 0.0 0.0 0.0 0\n",
      "[finished] 6500 3.5 0.5 0.0 1.55 0.0 0.0 0.0 0\n",
      "[started] 6500 4.0 0.0 0.4 1.45 0.0 0.0 0.0 0\n",
      "[finished] 6500 3.5 0.25 0.0 1.53 0.0 0.0 0.0 0\n",
      "[started] 6500 4.0 0.25 0.0 1.46 0.0 0.0 0.0 0\n",
      "[finished] 6500 3.5 0.5 0.4 1.55 0.0 0.0 0.0 0\n",
      "[started] 6500 4.0 0.25 0.4 1.46 0.0 0.0 0.0 0\n",
      "[finished] 6500 4.0 -0.75 0.0 1.42 0.0 0.0 0.0 0\n",
      "[started] 6500 4.0 0.5 0.0 1.48 0.0 0.0 0.0 0\n",
      "[finished] 6500 4.0 -0.75 0.4 1.42 0.0 0.0 0.0 0\n",
      "[started] 6500 4.0 0.5 0.4 1.48 0.0 0.0 0.0 0\n",
      "[finished] 6500 4.0 -0.5 0.0 1.43 0.0 0.0 0.0 0\n",
      "[started] 6500 4.5 -1.0 0.0 1.34 0.0 0.0 0.0 0\n",
      "[finished] 6500 4.0 -0.5 0.4 1.43 0.0 0.0 0.0 0\n",
      "[started] 6500 4.5 -1.0 0.4 1.34 0.0 0.0 0.0 0\n",
      "[finished] 6500 4.0 -0.25 0.0 1.44 0.0 0.0 0.0 0\n",
      "[started] 6500 4.5 -0.75 0.0 1.35 0.0 0.0 0.0 0\n",
      "[finished] 6500 4.0 -0.25 0.4 1.44 0.0 0.0 0.0 0\n",
      "[started] 6500 4.5 -0.75 0.4 1.35 0.0 0.0 0.0 0\n",
      "[finished] 6500 4.0 0.25 0.0 1.46 0.0 0.0 0.0 0\n",
      "[started] 6500 4.5 -0.5 0.0 1.36 0.0 0.0 0.0 0\n",
      "[finished] 6500 4.0 0.0 0.0 1.45 0.0 0.0 0.0 0\n",
      "[started] 6500 4.5 -0.5 0.4 1.36 0.0 0.0 0.0 0\n",
      "[finished] 6500 4.0 0.0 0.4 1.45 0.0 0.0 0.0 0\n",
      "[started] 6500 4.5 -0.25 0.0 1.37 0.0 0.0 0.0 0\n",
      "[finished] 6500 4.0 0.25 0.4 1.46 0.0 0.0 0.0 0\n",
      "[started] 6500 4.5 -0.25 0.4 1.37 0.0 0.0 0.0 0\n",
      "[finished] 6500 4.0 0.5 0.0 1.48 0.0 0.0 0.0 0\n",
      "[started] 6500 4.5 0.0 0.0 1.38 0.0 0.0 0.0 0\n",
      "[finished] 6500 4.0 0.5 0.4 1.48 0.0 0.0 0.0 0\n",
      "[started] 6500 4.5 0.0 0.4 1.38 0.0 0.0 0.0 0\n",
      "[finished] 6500 4.5 -1.0 0.0 1.34 0.0 0.0 0.0 0\n",
      "[started] 6500 4.5 0.25 0.0 1.39 0.0 0.0 0.0 0\n",
      "[finished] 6500 4.5 -0.75 0.0 1.35 0.0 0.0 0.0 0\n",
      "[started] 6500 4.5 0.25 0.4 1.39 0.0 0.0 0.0 0\n",
      "[finished] 6500 4.5 -1.0 0.4 1.34 0.0 0.0 0.0 0\n",
      "[started] 6500 4.5 0.5 0.0 1.41 0.0 0.0 0.0 0\n",
      "[finished] 6500 4.5 -0.5 0.0 1.36 0.0 0.0 0.0 0\n",
      "[started] 6500 4.5 0.5 0.4 1.41 0.0 0.0 0.0 0\n",
      "[finished] 6500 4.5 -0.5 0.4 1.36 0.0 0.0 0.0 0\n",
      "[started] 6500 5.0 -1.0 0.0 1.27 0.0 0.0 0.0 0\n",
      "[finished] 6500 4.5 -0.25 0.0 1.37 0.0 0.0 0.0 0\n",
      "[started] 6500 5.0 -1.0 0.4 1.27 0.0 0.0 0.0 0\n",
      "[finished] 6500 4.5 -0.25 0.4 1.37 0.0 0.0 0.0 0\n",
      "[started] 6500 5.0 -0.75 0.0 1.27 0.0 0.0 0.0 0\n",
      "[finished] 6500 4.5 -0.75 0.4 1.35 0.0 0.0 0.0 0\n",
      "[started] 6500 5.0 -0.75 0.4 1.27 0.0 0.0 0.0 0\n",
      "[finished] 6500 4.5 0.0 0.0 1.38 0.0 0.0 0.0 0\n",
      "[started] 6500 5.0 -0.5 0.0 1.28 0.0 0.0 0.0 0\n",
      "[finished] 6500 4.5 0.0 0.4 1.38 0.0 0.0 0.0 0\n",
      "[started] 6500 5.0 -0.5 0.4 1.28 0.0 0.0 0.0 0\n",
      "[finished] 6500 4.5 0.25 0.0 1.39 0.0 0.0 0.0 0\n",
      "[started] 6500 5.0 -0.25 0.0 1.29 0.0 0.0 0.0 0\n",
      "[finished] 6500 4.5 0.25 0.4 1.39 0.0 0.0 0.0 0\n",
      "[started] 6500 5.0 -0.25 0.4 1.29 0.0 0.0 0.0 0\n",
      "[finished] 6500 4.5 0.5 0.0 1.41 0.0 0.0 0.0 0\n",
      "[started] 6500 5.0 0.0 0.0 1.31 0.0 0.0 0.0 0\n",
      "[finished] 6500 4.5 0.5 0.4 1.41 0.0 0.0 0.0 0\n",
      "[started] 6500 5.0 0.0 0.4 1.31 0.0 0.0 0.0 0\n",
      "[finished] 6500 5.0 -1.0 0.0 1.27 0.0 0.0 0.0 0\n",
      "[started] 6500 5.0 0.25 0.0 1.32 0.0 0.0 0.0 0\n",
      "[finished] 6500 5.0 -1.0 0.4 1.27 0.0 0.0 0.0 0\n",
      "[started] 6500 5.0 0.25 0.4 1.32 0.0 0.0 0.0 0\n",
      "[finished] 6500 5.0 -0.75 0.0 1.27 0.0 0.0 0.0 0\n",
      "[started] 6500 5.0 0.5 0.0 1.33 0.0 0.0 0.0 0\n",
      "[finished] 6500 5.0 -0.75 0.4 1.27 0.0 0.0 0.0 0\n",
      "[started] 6500 5.0 0.5 0.4 1.33 0.0 0.0 0.0 0\n",
      "[finished] 6500 5.0 -0.5 0.0 1.28 0.0 0.0 0.0 0\n",
      "[started] 6750 3.0 -1.0 0.0 2.33 0.0 0.0 0.0 0\n"
     ]
    },
    {
     "name": "stderr",
     "output_type": "stream",
     "text": [
      "INFO:root:Spherical model atmosphere with radius 3.65e+11 cm\n",
      "[2023-11-10 14:44:58,476] [INFO] [turbospectrum:generate_spectrum:88]: Spherical model atmosphere with radius 3.65e+11 cm\n"
     ]
    },
    {
     "name": "stdout",
     "output_type": "stream",
     "text": [
      "[finished] 6500 5.0 -0.5 0.4 1.28 0.0 0.0 0.0 0\n",
      "[started] 6750 3.0 -1.0 0.4 2.33 0.0 0.0 0.0 0\n"
     ]
    },
    {
     "name": "stderr",
     "output_type": "stream",
     "text": [
      "INFO:root:Spherical model atmosphere with radius 3.65e+11 cm\n",
      "[2023-11-10 14:44:59,029] [INFO] [turbospectrum:generate_spectrum:88]: Spherical model atmosphere with radius 3.65e+11 cm\n"
     ]
    },
    {
     "name": "stdout",
     "output_type": "stream",
     "text": [
      "[finished] 6500 5.0 -0.25 0.0 1.29 0.0 0.0 0.0 0\n",
      "[started] 6750 3.0 -0.75 0.0 2.34 0.0 0.0 0.0 0\n"
     ]
    },
    {
     "name": "stderr",
     "output_type": "stream",
     "text": [
      "INFO:root:Spherical model atmosphere with radius 3.65e+11 cm\n",
      "[2023-11-10 14:45:04,311] [INFO] [turbospectrum:generate_spectrum:88]: Spherical model atmosphere with radius 3.65e+11 cm\n"
     ]
    },
    {
     "name": "stdout",
     "output_type": "stream",
     "text": [
      "[finished] 6500 5.0 -0.25 0.4 1.29 0.0 0.0 0.0 0\n",
      "[started] 6750 3.0 -0.75 0.4 2.34 0.0 0.0 0.0 0\n"
     ]
    },
    {
     "name": "stderr",
     "output_type": "stream",
     "text": [
      "INFO:root:Spherical model atmosphere with radius 3.65e+11 cm\n",
      "[2023-11-10 14:45:05,553] [INFO] [turbospectrum:generate_spectrum:88]: Spherical model atmosphere with radius 3.65e+11 cm\n"
     ]
    },
    {
     "name": "stdout",
     "output_type": "stream",
     "text": [
      "[finished] 6500 5.0 0.0 0.0 1.31 0.0 0.0 0.0 0\n",
      "[started] 6750 3.0 -0.5 0.0 2.35 0.0 0.0 0.0 0\n"
     ]
    },
    {
     "name": "stderr",
     "output_type": "stream",
     "text": [
      "INFO:root:Spherical model atmosphere with radius 3.65e+11 cm\n",
      "[2023-11-10 14:45:06,854] [INFO] [turbospectrum:generate_spectrum:88]: Spherical model atmosphere with radius 3.65e+11 cm\n"
     ]
    },
    {
     "name": "stdout",
     "output_type": "stream",
     "text": [
      "[finished] 6500 5.0 0.0 0.4 1.31 0.0 0.0 0.0 0\n",
      "[started] 6750 3.0 -0.5 0.4 2.35 0.0 0.0 0.0 0\n"
     ]
    },
    {
     "name": "stderr",
     "output_type": "stream",
     "text": [
      "INFO:root:Spherical model atmosphere with radius 3.65e+11 cm\n",
      "[2023-11-10 14:45:07,083] [INFO] [turbospectrum:generate_spectrum:88]: Spherical model atmosphere with radius 3.65e+11 cm\n"
     ]
    },
    {
     "name": "stdout",
     "output_type": "stream",
     "text": [
      "[finished] 6500 5.0 0.25 0.0 1.32 0.0 0.0 0.0 0\n",
      "[started] 6750 3.0 -0.25 0.0 2.36 0.0 0.0 0.0 0\n",
      "[finished] 6500 5.0 0.25 0.4 1.32 0.0 0.0 0.0 0\n",
      "[started] 6750 "
     ]
    },
    {
     "name": "stderr",
     "output_type": "stream",
     "text": [
      "INFO:root:Spherical model atmosphere with radius 3.65e+11 cm\n"
     ]
    },
    {
     "name": "stdout",
     "output_type": "stream",
     "text": [
      "3.0"
     ]
    },
    {
     "name": "stderr",
     "output_type": "stream",
     "text": [
      "[2023-11-10 14:45:07,490] [INFO] [turbospectrum:generate_spectrum:88]: Spherical model atmosphere with radius 3.65e+11 cm\n"
     ]
    },
    {
     "name": "stdout",
     "output_type": "stream",
     "text": [
      " -0.25 0.4 2.36 0.0 0.0 0.0 0\n"
     ]
    },
    {
     "name": "stderr",
     "output_type": "stream",
     "text": [
      "INFO:root:Spherical model atmosphere with radius 3.65e+11 cm\n",
      "[2023-11-10 14:45:07,595] [INFO] [turbospectrum:generate_spectrum:88]: Spherical model atmosphere with radius 3.65e+11 cm\n"
     ]
    },
    {
     "name": "stdout",
     "output_type": "stream",
     "text": [
      "[finished] 6500 5.0 0.5 0.0 1.33 0.0 0.0 0.0 0\n",
      "[started] 6750 3.0 0.0 0.0 2.37 0.0 0.0 0.0 0\n"
     ]
    },
    {
     "name": "stderr",
     "output_type": "stream",
     "text": [
      "INFO:root:Spherical model atmosphere with radius 3.65e+11 cm\n",
      "[2023-11-10 14:45:08,994] [INFO] [turbospectrum:generate_spectrum:88]: Spherical model atmosphere with radius 3.65e+11 cm\n"
     ]
    },
    {
     "name": "stdout",
     "output_type": "stream",
     "text": [
      "[finished] 6500 5.0 0.5 0.4 1.33 0.0 0.0 0.0 0\n",
      "[started] 6750 3.0 0.0 0.4 2.37 0.0 0.0 0.0 0\n"
     ]
    },
    {
     "name": "stderr",
     "output_type": "stream",
     "text": [
      "INFO:root:Spherical model atmosphere with radius 3.65e+11 cm\n",
      "[2023-11-10 14:45:12,670] [INFO] [turbospectrum:generate_spectrum:88]: Spherical model atmosphere with radius 3.65e+11 cm\n"
     ]
    },
    {
     "name": "stdout",
     "output_type": "stream",
     "text": [
      "[finished] 6750 3.0 -1.0 0.0 2.33 0.0 0.0 0.0 0\n",
      "[started] 6750 3.0 0.25 0.0 2.38 0.0 0.0 0.0 0\n"
     ]
    },
    {
     "name": "stderr",
     "output_type": "stream",
     "text": [
      "INFO:root:Spherical model atmosphere with radius 3.65e+11 cm\n",
      "[2023-11-10 14:45:45,765] [INFO] [turbospectrum:generate_spectrum:88]: Spherical model atmosphere with radius 3.65e+11 cm\n"
     ]
    },
    {
     "name": "stdout",
     "output_type": "stream",
     "text": [
      "[finished] 6750 3.0 -1.0 0.4 2.33 0.0 0.0 0.0 0\n",
      "[started] 6750 3.0 0.25 0.4 2.38 0.0 0.0 0.0 0\n"
     ]
    },
    {
     "name": "stderr",
     "output_type": "stream",
     "text": [
      "INFO:root:Spherical model atmosphere with radius 3.65e+11 cm\n",
      "[2023-11-10 14:45:47,071] [INFO] [turbospectrum:generate_spectrum:88]: Spherical model atmosphere with radius 3.65e+11 cm\n"
     ]
    },
    {
     "name": "stdout",
     "output_type": "stream",
     "text": [
      "[finished] 6750 3.0 -0.75 0.0 2.34 0.0 0.0 0.0 0\n",
      "[started] 6750 3.0 0.5 0.0 2.4 0.0 0.0 0.0 0\n"
     ]
    },
    {
     "name": "stderr",
     "output_type": "stream",
     "text": [
      "INFO:root:Spherical model atmosphere with radius 3.65e+11 cm\n",
      "[2023-11-10 14:45:51,812] [INFO] [turbospectrum:generate_spectrum:88]: Spherical model atmosphere with radius 3.65e+11 cm\n"
     ]
    },
    {
     "name": "stdout",
     "output_type": "stream",
     "text": [
      "[finished] 6750 3.0 -0.75 0.4 2.34 0.0 0.0 0.0 0\n",
      "[started] 6750 3.0 0.5 0.4 2.4 0.0 0.0 0.0 0\n"
     ]
    },
    {
     "name": "stderr",
     "output_type": "stream",
     "text": [
      "INFO:root:Spherical model atmosphere with radius 3.65e+11 cm\n",
      "[2023-11-10 14:45:53,433] [INFO] [turbospectrum:generate_spectrum:88]: Spherical model atmosphere with radius 3.65e+11 cm\n"
     ]
    },
    {
     "name": "stdout",
     "output_type": "stream",
     "text": [
      "[finished] 6750 3.0 -0.5 0.0 2.35 0.0 0.0 0.0 0\n",
      "[started] 6750 3.5 -1.0 0.0 1.63 0.0 0.0 0.0 0\n"
     ]
    },
    {
     "name": "stderr",
     "output_type": "stream",
     "text": [
      "INFO:root:Spherical model atmosphere with radius 2.05e+11 cm\n",
      "[2023-11-10 14:45:54,753] [INFO] [turbospectrum:generate_spectrum:88]: Spherical model atmosphere with radius 2.05e+11 cm\n"
     ]
    },
    {
     "name": "stdout",
     "output_type": "stream",
     "text": [
      "[finished] 6750 3.0 -0.5 0.4 2.35 0.0 0.0 0.0 0\n",
      "[started] 6750 3.5 -1.0 0.4 1.63 0.0 0.0 0.0 0\n",
      "[finished] 6750 3.0 -0.25 0.0 2.36 0.0 0.0 0.0 0\n",
      "[started] 6750 3.5 -0.75 0.0 1.64 0.0 0.0 0.0 0\n"
     ]
    },
    {
     "name": "stderr",
     "output_type": "stream",
     "text": [
      "INFO:root:Spherical model atmosphere with radius 2.05e+11 cm\n",
      "[2023-11-10 14:45:54,893] [INFO] [turbospectrum:generate_spectrum:88]: Spherical model atmosphere with radius 2.05e+11 cm\n",
      "INFO:root:Spherical model atmosphere with radius 2.05e+11 cm\n",
      "[2023-11-10 14:45:54,964] [INFO] [turbospectrum:generate_spectrum:88]: Spherical model atmosphere with radius 2.05e+11 cm\n"
     ]
    },
    {
     "name": "stdout",
     "output_type": "stream",
     "text": [
      "[finished] 6750 3.0 -0.25 0.4 2.36 0.0 0.0 0.0 0\n",
      "[started] 6750 3.5 -0.75 0.4 1.64 0.0 0.0 0.0 0\n"
     ]
    },
    {
     "name": "stderr",
     "output_type": "stream",
     "text": [
      "INFO:root:Spherical model atmosphere with radius 2.05e+11 cm\n",
      "[2023-11-10 14:45:55,739] [INFO] [turbospectrum:generate_spectrum:88]: Spherical model atmosphere with radius 2.05e+11 cm\n"
     ]
    },
    {
     "name": "stdout",
     "output_type": "stream",
     "text": [
      "[finished] 6750 3.0 0.0 0.0 2.37 0.0 0.0 0.0 0\n",
      "[started] 6750 3.5 -0.5 0.0 1.64 0.0 0.0 0.0 0\n"
     ]
    },
    {
     "name": "stderr",
     "output_type": "stream",
     "text": [
      "INFO:root:Spherical model atmosphere with radius 2.05e+11 cm\n",
      "[2023-11-10 14:45:57,065] [INFO] [turbospectrum:generate_spectrum:88]: Spherical model atmosphere with radius 2.05e+11 cm\n"
     ]
    },
    {
     "name": "stdout",
     "output_type": "stream",
     "text": [
      "[finished] 6750 3.0 0.0 0.4 2.37 0.0 0.0 0.0 0\n",
      "[started] 6750 3.5 -0.5 0.4 1.64 0.0 0.0 0.0 0\n"
     ]
    },
    {
     "name": "stderr",
     "output_type": "stream",
     "text": [
      "INFO:root:Spherical model atmosphere with radius 2.05e+11 cm\n",
      "[2023-11-10 14:46:00,546] [INFO] [turbospectrum:generate_spectrum:88]: Spherical model atmosphere with radius 2.05e+11 cm\n"
     ]
    },
    {
     "name": "stdout",
     "output_type": "stream",
     "text": [
      "[finished] 6750 3.0 0.25 0.0 2.38 0.0 0.0 0.0 0\n",
      "[started] 6750 3.5 -0.25 0.0 1.66 0.0 0.0 0.0 0\n"
     ]
    },
    {
     "name": "stderr",
     "output_type": "stream",
     "text": [
      "INFO:root:Spherical model atmosphere with radius 2.05e+11 cm\n",
      "[2023-11-10 14:46:34,224] [INFO] [turbospectrum:generate_spectrum:88]: Spherical model atmosphere with radius 2.05e+11 cm\n"
     ]
    },
    {
     "name": "stdout",
     "output_type": "stream",
     "text": [
      "[finished] 6750 3.0 0.25 0.4 2.38 0.0 0.0 0.0 0\n",
      "[started] 6750 3.5 -0.25 0.4 1.66 0.0 0.0 0.0 0\n"
     ]
    },
    {
     "name": "stderr",
     "output_type": "stream",
     "text": [
      "INFO:root:Spherical model atmosphere with radius 2.05e+11 cm\n",
      "[2023-11-10 14:46:34,818] [INFO] [turbospectrum:generate_spectrum:88]: Spherical model atmosphere with radius 2.05e+11 cm\n"
     ]
    },
    {
     "name": "stdout",
     "output_type": "stream",
     "text": [
      "[finished] 6750 3.0 0.5 0.0 2.4 0.0 0.0 0.0 0\n",
      "[started] 6750 3.5 0.0 0.0 1.67 0.0 0.0 0.0 0\n"
     ]
    },
    {
     "name": "stderr",
     "output_type": "stream",
     "text": [
      "INFO:root:Spherical model atmosphere with radius 2.05e+11 cm\n",
      "[2023-11-10 14:46:39,631] [INFO] [turbospectrum:generate_spectrum:88]: Spherical model atmosphere with radius 2.05e+11 cm\n"
     ]
    },
    {
     "name": "stdout",
     "output_type": "stream",
     "text": [
      "[finished] 6750 3.0 0.5 0.4 2.4 0.0 0.0 0.0 0\n",
      "[started] 6750 3.5 0.0 0.4 1.67 0.0 0.0 0.0 0\n"
     ]
    },
    {
     "name": "stderr",
     "output_type": "stream",
     "text": [
      "INFO:root:Spherical model atmosphere with radius 2.05e+11 cm\n",
      "[2023-11-10 14:46:41,492] [INFO] [turbospectrum:generate_spectrum:88]: Spherical model atmosphere with radius 2.05e+11 cm\n"
     ]
    },
    {
     "name": "stdout",
     "output_type": "stream",
     "text": [
      "[finished] 6750 3.5 -1.0 0.0 1.63 0.0 0.0 0.0 0\n",
      "[started] 6750 3.5 0.25 0.0 1.68 0.0 0.0 0.0 0\n"
     ]
    },
    {
     "name": "stderr",
     "output_type": "stream",
     "text": [
      "INFO:root:Spherical model atmosphere with radius 2.05e+11 cm\n",
      "[2023-11-10 14:46:42,359] [INFO] [turbospectrum:generate_spectrum:88]: Spherical model atmosphere with radius 2.05e+11 cm\n"
     ]
    },
    {
     "name": "stdout",
     "output_type": "stream",
     "text": [
      "[finished] 6750 3.5 -0.75 0.0 1.64 0.0 0.0 0.0 0\n",
      "[started] 6750 3.5 0.25 0.4[finished]  67501.68  3.50.0  -1.00.0  0.00.4  1.63 0.0 00.0 \n",
      "0.0 0\n",
      "[started] 6750 3.5 0.5 0.0 1.69 0.0 0.0 0.0 0\n"
     ]
    },
    {
     "name": "stderr",
     "output_type": "stream",
     "text": [
      "INFO:root:Spherical model atmosphere with radius 2.05e+11 cm\n",
      "[2023-11-10 14:46:42,608] [INFO] [turbospectrum:generate_spectrum:88]: Spherical model atmosphere with radius 2.05e+11 cm\n",
      "INFO:root:Spherical model atmosphere with radius 2.05e+11 cm\n",
      "[2023-11-10 14:46:42,634] [INFO] [turbospectrum:generate_spectrum:88]: Spherical model atmosphere with radius 2.05e+11 cm\n"
     ]
    },
    {
     "name": "stdout",
     "output_type": "stream",
     "text": [
      "[finished] 67501.64 3.5 -0.75 0.4  0.0 0.0 0.0 0\n",
      "[started] 6750 3.5 0.5 0.4 1.69 0.0 0.0 0.0 0\n"
     ]
    },
    {
     "name": "stderr",
     "output_type": "stream",
     "text": [
      "INFO:root:Spherical model atmosphere with radius 2.05e+11 cm\n",
      "[2023-11-10 14:46:43,108] [INFO] [turbospectrum:generate_spectrum:88]: Spherical model atmosphere with radius 2.05e+11 cm\n"
     ]
    },
    {
     "name": "stdout",
     "output_type": "stream",
     "text": [
      "[finished] 6750 3.5 -0.5 0.0 1.64 0.0 0.0 0.0 0\n",
      "[started] 6750 4.0 -1.0 0.0 1.56 0.0 0.0 0.0 0\n",
      "[finished] 0.06750 3.5 -0.5 0.4 1.64  0.0 0.0 0\n",
      "[started] 6750 4.0 -1.0 0.4 1.56 0.0 0.0 0.0 0\n",
      "[finished] 6750 4.0 -1.0 0.0 1.56 0.0 0.0 0.0 0\n",
      "[started] 6750 4.0 -0.75 0.0 1.57 0.0 0.0 0.0 0\n",
      "[finished] 6750 3.5 -0.25 0.0 1.66 0.0 0.0 0.0 0\n",
      "[started] 6750 4.0 -0.75 0.4 1.57 0.0 0.0 0.0 0\n",
      "[finished] 6750 3.5 -0.25 0.4 1.66 0.0 0.0 0.0 0\n",
      "[started] 6750 4.0 -0.5 0.0 1.58 0.0 0.0 0.0 0\n",
      "[finished] 6750 4.0 -1.0 0.4 1.56 0.0 0.0 0.0 0\n",
      "[started] 6750 4.0 -0.5 0.4 1.58 0.0 0.0 0.0 0\n",
      "[finished] 6750 3.5 0.0 0.0 1.67 0.0 0.0 0.0 0\n",
      "[started] 6750 4.0 -0.25 0.0 1.59 0.0 0.0 0.0 0\n",
      "[finished] 6750 3.5 0.0 0.4 1.67 0.0 0.0 0.0 0\n",
      "[started] 6750 4.0 -0.25 0.4 1.59 0.0 0.0 0.0 0\n",
      "[finished] 6750 3.5 0.25 0.0 1.68 0.0 0.0 0.0 0\n",
      "[started] 6750 4.0 0.0 0.0 1.6 0.0 0.0 0.0 0\n",
      "[finished] 6750 3.5 0.25 0.4 1.68 0.0 0.0 0.0 0\n",
      "[started] 6750 4.0 0.0 0.4 1.6 0.0 0.0 0.0 0\n",
      "[finished] 6750 3.5 0.5 0.0 1.69 0.0 0.0 0.0 0\n",
      "[started] 6750 4.0 0.25 0.0 1.61 0.0 0.0 0.0 0\n",
      "[finished] 6750 3.5 0.5 0.4 1.69 0.0 0.0 0.0 0\n",
      "[started] 6750 4.0 0.25 0.4 1.61 0.0 0.0 0.0 0\n",
      "[finished] 6750 4.0 -0.75 0.0 1.57 0.0 0.0 0.0 0\n",
      "[started] 6750 4.0 0.5 0.0 1.63 0.0 0.0 0.0 0\n",
      "[finished] 6750 4.0 -0.75 0.4 1.57 0.0 0.0 0.0 0\n",
      "[started] 6750 4.0 0.5 0.4 1.63 0.0 0.0 0.0 0\n",
      "[finished] 6750 4.0 -0.5 0.0 1.58 0.0 0.0 0.0 0\n",
      "[started] 6750 4.5 -1.0 0.0 1.49 0.0 0.0 0.0 0\n",
      "[finished] 6750 4.0 -0.5 0.4 1.58 0.0 0.0 0.0 0\n",
      "[started] 6750 4.5 -1.0 0.4 1.49 0.0 0.0 0.0 0\n",
      "[finished] 6750 4.0 -0.25 0.0 1.59 0.0 0.0 0.0 0\n",
      "[started] 6750 4.5 -0.75 0.0 1.49 0.0 0.0 0.0 0\n",
      "[finished] 6750 4.0 -0.25 0.4 1.59 0.0 0.0 0.0 0\n",
      "[started] 6750 4.5 -0.75 0.4 1.49 0.0 0.0 0.0 0\n",
      "[finished] 6750 4.0 0.0 0.0 1.6 0.0 0.0 0.0 0\n",
      "[started] 6750 4.5 -0.5 0.0 1.5 0.0 0.0 0.0 0\n",
      "[finished] 6750 4.0 0.0 0.4 1.6 0.0 0.0 0.0 0\n",
      "[started] 6750 4.5 -0.5 0.4 1.5 0.0 0.0 0.0 0\n",
      "[finished] 6750 4.0 0.25 0.0 1.61 0.0 0.0 0.0 0\n",
      "[started] 6750 4.5 -0.25 0.0 1.52 0.0 0.0 0.0 0\n",
      "[finished] 6750 4.0 0.25 0.4 1.61 0.0 0.0 0.0 0\n",
      "[started] 6750 4.5 -0.25 0.4 1.52 0.0 0.0 0.0 0\n",
      "[finished] 6750 4.0 0.5 0.01.63  0.0 0.0 0.0 0\n",
      "[started] 6750 4.5 0.0 0.0 1.53 0.0 0.0 0.0 0\n",
      "[finished] 6750 4.5 -1.0 0.0 1.49 0.0 0.0 0.0 0\n",
      "[started] 6750 4.5 0.0 0.4 1.53 0.0 0.0 0.0 0\n",
      "[finished] 6750 4.0 0.5 0.4 1.63 0.0 0.0 0.0 0\n",
      "[started] 6750 4.5 0.25 0.0 1.54 0.0 0.0 0.0 0\n",
      "[finished] 6750 4.5 -1.0 0.4 1.49 0.0 0.0 0.0 0\n",
      "[started] 6750 4.5 0.25 0.4 1.54 0.0 0.0 0.0 0\n",
      "[finished] 6750 4.5 -0.75 0.0 1.49 0.0 0.0 0.0 0\n",
      "[started] 6750 4.5 0.5 0.0 1.55 0.0 0.0 0.0 0\n",
      "[finished] 6750 4.5 -0.75 0.4 1.49 0.0 0.0 0.0 0\n",
      "[started] 6750 4.5 0.5 0.4 1.55 0.0 0.0 0.0 0\n",
      "[finished] 6750 4.5 -0.5 0.0 1.5 0.0 0.0 0.0 0\n",
      "[started] 6750 5.0 -1.0 0.0 1.41 0.0 0.0 0.0 0\n",
      "[finished] 6750 4.5 -0.5 0.4 1.5 0.0 0.0 0.0 0\n",
      "[started] 6750 5.0 -1.0 0.4 1.41 0.0 0.0 0.0 0\n",
      "[finished] 6750 4.5 -0.25 0.0 1.52 0.0 0.0 0.0 0\n",
      "[started] 6750 5.0 -0.75 0.0 1.42 0.0 0.0 0.0 0\n",
      "[finished] 6750 4.5 -0.25 0.4 1.52 0.0 0.0 0.0 0\n",
      "[started] 6750 5.0 -0.75 0.4 1.42 0.0 0.0 0.0 0\n",
      "[finished] 6750 4.5 0.0 0.0 1.53 0.0 0.0 0.0 0\n",
      "[started] 6750 5.0 -0.5 0.0 1.43 0.0 0.0 0.0 0\n",
      "[finished] 6750 4.5 0.0 0.4 1.53 0.0 0.0 0.0 0\n",
      "[started] 6750 5.0 -0.5 0.4 1.43 0.0 0.0 0.0 0\n",
      "[finished] 6750 4.5 0.25 0.0 1.54 0.0 0.0 0.0 0\n",
      "[started] 6750 5.0 -0.25 0.0 1.44 0.0 0.0 0.0 0\n",
      "[finished] 6750 4.5 0.25 0.4 1.54 0.0 0.0 0.0 0\n",
      "[started] 6750 5.0 -0.25 0.4 1.44 0.0 0.0 0.0 0\n",
      "[finished] 6750 4.5 0.5 0.0 1.55 0.0 0.0 0.0 0\n",
      "[started] 6750 5.0 0.0 0.0 1.45 0.0 0.0 0.0 0\n",
      "[finished] 6750 5.0 -1.0 0.0 1.41 0.0 0.0 0.0 0\n",
      "[started] 6750 5.0 0.0 0.4 1.45 0.0 0.0 0.0 0\n",
      "[finished] 6750 4.5 0.5 0.4 1.55 0.0 0.0 0.0 0\n",
      "[started] 6750 5.0 0.25 0.0 1.47 0.0 0.0 0.0 0\n",
      "[finished] 6750 5.0 -1.0 0.4 1.41 0.0 0.0 0.0 0\n",
      "[started] 6750 5.0 0.25 0.4 1.47 0.0 0.0 0.0 0\n",
      "[finished] 6750 5.0 -0.75 0.0 1.42 0.0 0.0 0.0 0\n",
      "[started] 6750 5.0 0.5 0.0 1.48 0.0 0.0 0.0 0\n",
      "[finished] 6750 5.0 -0.75 0.4 1.42 0.0 0.0 0.0 0\n",
      "[started] 6750 5.0 0.5 0.4 1.48 0.0 0.0 0.0 0\n",
      "[finished] 6750 5.0 -0.5 0.0 1.43 0.0 0.0 0.0 0\n",
      "[started] 7000 3.0 -1.0 0.0 2.64 0.0 0.0 0.0 0\n"
     ]
    },
    {
     "name": "stderr",
     "output_type": "stream",
     "text": [
      "INFO:root:Spherical model atmosphere with radius 8.17e+11 cm\n",
      "[2023-11-10 14:49:52,552] [INFO] [turbospectrum:generate_spectrum:88]: Spherical model atmosphere with radius 8.17e+11 cm\n"
     ]
    },
    {
     "name": "stdout",
     "output_type": "stream",
     "text": [
      "[finished] 6750 5.0 -0.5 0.4 1.43 0.0 0.0 0.0 0\n",
      "[started] 7000 3.0 -1.0 0.4 2.64 0.0 0.0 0.0 0\n"
     ]
    },
    {
     "name": "stderr",
     "output_type": "stream",
     "text": [
      "INFO:root:Spherical model atmosphere with radius 8.17e+11 cm\n",
      "[2023-11-10 14:49:53,214] [INFO] [turbospectrum:generate_spectrum:88]: Spherical model atmosphere with radius 8.17e+11 cm\n"
     ]
    },
    {
     "name": "stdout",
     "output_type": "stream",
     "text": [
      "[finished] 6750 5.0 -0.25 0.0 1.44 0.0 0.0 0.0 0\n",
      "[started] 7000 3.0 -0.75 0.0 2.65 0.0 0.0 0.0 0\n"
     ]
    },
    {
     "name": "stderr",
     "output_type": "stream",
     "text": [
      "INFO:root:Spherical model atmosphere with radius 3.65e+11 cm\n",
      "[2023-11-10 14:49:53,591] [INFO] [turbospectrum:generate_spectrum:88]: Spherical model atmosphere with radius 3.65e+11 cm\n"
     ]
    },
    {
     "name": "stdout",
     "output_type": "stream",
     "text": [
      "[finished] 6750 5.0 -0.25 0.4 1.44 0.0 0.0 0.0 0\n",
      "[started] 7000 3.0 -0.75 0.4 2.65 0.0 0.0 0.0 0\n"
     ]
    },
    {
     "name": "stderr",
     "output_type": "stream",
     "text": [
      "INFO:root:Spherical model atmosphere with radius 3.65e+11 cm\n",
      "[2023-11-10 14:49:56,489] [INFO] [turbospectrum:generate_spectrum:88]: Spherical model atmosphere with radius 3.65e+11 cm\n"
     ]
    },
    {
     "name": "stdout",
     "output_type": "stream",
     "text": [
      "[finished] 6750 5.0 0.0 0.0 1.45 0.0 0.0 0.0 0\n",
      "[started] 7000 3.0 -0.5 0.0 2.66 0.0 0.0 0.0 0\n"
     ]
    },
    {
     "name": "stderr",
     "output_type": "stream",
     "text": [
      "INFO:root:Spherical model atmosphere with radius 3.65e+11 cm\n",
      "[2023-11-10 14:49:57,515] [INFO] [turbospectrum:generate_spectrum:88]: Spherical model atmosphere with radius 3.65e+11 cm\n"
     ]
    },
    {
     "name": "stdout",
     "output_type": "stream",
     "text": [
      "[finished] 6750 5.0 0.0 0.4 1.45 0.0 0.0 0.0 0\n",
      "[started] 7000 3.0 -0.5 0.4 2.66 0.0 0.0 0.0 0\n"
     ]
    },
    {
     "name": "stderr",
     "output_type": "stream",
     "text": [
      "INFO:root:Spherical model atmosphere with radius 3.65e+11 cm\n",
      "[2023-11-10 14:50:00,053] [INFO] [turbospectrum:generate_spectrum:88]: Spherical model atmosphere with radius 3.65e+11 cm\n"
     ]
    },
    {
     "name": "stdout",
     "output_type": "stream",
     "text": [
      "[finished] 6750 5.0 0.25 0.0 1.47 0.0 0.0 0.0 0\n",
      "[started] 7000 3.0 -0.25 0.0 2.67 0.0 0.0 0.0 0\n",
      "[finished] 6750 5.0 0.25 0.4 1.47 0.0 0.0 0.0 0\n",
      "[started] 7000 3.0 -0.25 0.4 2.67 0.0 0.0 0.0 0\n",
      "[finished] 6750 5.0 0.5 0.0 1.48 0.0 0.0 0.0 0\n",
      "[started] 7000 3.0 0.0 0.0 2.68 0.0 0.0 0.0 0\n"
     ]
    },
    {
     "name": "stderr",
     "output_type": "stream",
     "text": [
      "INFO:root:Spherical model atmosphere with radius 3.65e+11 cm\n",
      "[2023-11-10 14:50:01,474] [INFO] [turbospectrum:generate_spectrum:88]: Spherical model atmosphere with radius 3.65e+11 cm\n"
     ]
    },
    {
     "name": "stdout",
     "output_type": "stream",
     "text": [
      "[finished] 6750 5.0 0.5 0.4 1.48 0.0 0.0 0.0 0\n",
      "[started] 7000 3.0 0.0 0.4 2.68 0.0 0.0 0.0 0\n"
     ]
    },
    {
     "name": "stderr",
     "output_type": "stream",
     "text": [
      "INFO:root:Spherical model atmosphere with radius 3.65e+11 cm\n",
      "[2023-11-10 14:50:03,063] [INFO] [turbospectrum:generate_spectrum:88]: Spherical model atmosphere with radius 3.65e+11 cm\n"
     ]
    },
    {
     "name": "stdout",
     "output_type": "stream",
     "text": [
      "[finished] 7000 3.0 -0.25 0.0 2.67 0.0 0.0 0.0 0\n",
      "[started] 7000 3.0 0.25 0.0 2.7 0.0 0.0 0.0 0\n"
     ]
    },
    {
     "name": "stderr",
     "output_type": "stream",
     "text": [
      "INFO:root:Spherical model atmosphere with radius 3.65e+11 cm\n",
      "[2023-11-10 14:50:38,710] [INFO] [turbospectrum:generate_spectrum:88]: Spherical model atmosphere with radius 3.65e+11 cm\n"
     ]
    },
    {
     "name": "stdout",
     "output_type": "stream",
     "text": [
      "[finished] 7000 3.0 -0.25 0.4 2.67 0.0 0.0 0.0 0\n",
      "[started] 7000 3.0 0.25 0.4 2.7 0.0 0.0 0.0 0\n"
     ]
    },
    {
     "name": "stderr",
     "output_type": "stream",
     "text": [
      "INFO:root:Spherical model atmosphere with radius 3.65e+11 cm\n",
      "[2023-11-10 14:50:39,192] [INFO] [turbospectrum:generate_spectrum:88]: Spherical model atmosphere with radius 3.65e+11 cm\n"
     ]
    },
    {
     "name": "stdout",
     "output_type": "stream",
     "text": [
      "[finished] 7000 3.0 -1.0 0.0 2.64 0.0 0.0 0.0 0\n",
      "[started] 7000 3.0 0.5 0.0 2.71 0.0 0.0 0.0 0\n"
     ]
    },
    {
     "name": "stderr",
     "output_type": "stream",
     "text": [
      "INFO:root:Spherical model atmosphere with radius 3.65e+11 cm\n",
      "[2023-11-10 14:50:39,661] [INFO] [turbospectrum:generate_spectrum:88]: Spherical model atmosphere with radius 3.65e+11 cm\n"
     ]
    },
    {
     "name": "stdout",
     "output_type": "stream",
     "text": [
      "[finished] 7000 3.0 -1.0 0.4 2.64 0.0 0.0 0.0 0\n",
      "[started] 7000 3.0 0.5 0.4 2.71 0.0 0.0 0.0 0\n",
      "[finished] 7000"
     ]
    },
    {
     "name": "stderr",
     "output_type": "stream",
     "text": [
      "INFO:root:Spherical model atmosphere with radius 3.65e+11 cm\n"
     ]
    },
    {
     "name": "stdout",
     "output_type": "stream",
     "text": [
      " "
     ]
    },
    {
     "name": "stderr",
     "output_type": "stream",
     "text": [
      "[2023-11-10 14:50:40,972] [INFO] [turbospectrum:generate_spectrum:88]: Spherical model atmosphere with radius 3.65e+11 cm\n"
     ]
    },
    {
     "name": "stdout",
     "output_type": "stream",
     "text": [
      "3.0 -0.75 0.0 2.65 0.0 0.0 0.0 0\n",
      "[started] 7000 3.5 -1.0 0.0 1.79 0.0 0.0 0.0 0\n"
     ]
    },
    {
     "name": "stderr",
     "output_type": "stream",
     "text": [
      "INFO:root:Spherical model atmosphere with radius 2.05e+11 cm\n",
      "[2023-11-10 14:50:41,107] [INFO] [turbospectrum:generate_spectrum:88]: Spherical model atmosphere with radius 2.05e+11 cm\n"
     ]
    },
    {
     "name": "stdout",
     "output_type": "stream",
     "text": [
      "[finished] 7000 3.0 -0.75 0.4 2.65 0.0 0.0 0.0 0\n",
      "[started] 7000 3.5 -1.0 0.4 1.79 0.0 0.0 0.0 0\n"
     ]
    },
    {
     "name": "stderr",
     "output_type": "stream",
     "text": [
      "INFO:root:Spherical model atmosphere with radius 2.05e+11 cm\n",
      "[2023-11-10 14:50:44,216] [INFO] [turbospectrum:generate_spectrum:88]: Spherical model atmosphere with radius 2.05e+11 cm\n"
     ]
    },
    {
     "name": "stdout",
     "output_type": "stream",
     "text": [
      "[finished] 7000 3.0 -0.5 0.0 2.66 0.0 0.0 0.0 0\n",
      "[started] 7000 3.5 -0.75 0.0 1.8 0.0 0.0 0.0 0\n",
      "[finished] 7000 3.0 -0.5 0.4 2.66 0.0 0.0 0.0 0\n",
      "[started] 7000 3.5 -0.75 0.4 1.8 0.0 0.0 0.0 0\n",
      "[finished] 7000 3.0 0.0 0.0 2.68 0.0 0.0 0.0 0\n",
      "[started] 7000 3.5 -0.5 0.0 1.81 0.0 0.0 0.0 0\n"
     ]
    },
    {
     "name": "stderr",
     "output_type": "stream",
     "text": [
      "INFO:root:Spherical model atmosphere with radius 2.05e+11 cm\n",
      "[2023-11-10 14:50:49,556] [INFO] [turbospectrum:generate_spectrum:88]: Spherical model atmosphere with radius 2.05e+11 cm\n"
     ]
    },
    {
     "name": "stdout",
     "output_type": "stream",
     "text": [
      "[finished] 7000 3.0 0.0 0.4 2.68 0.0 0.0 0.0 0\n",
      "[started] 7000 3.5 -0.5 0.4 1.81 0.0 0.0 0.0 0\n"
     ]
    },
    {
     "name": "stderr",
     "output_type": "stream",
     "text": [
      "INFO:root:Spherical model atmosphere with radius 2.05e+11 cm\n",
      "[2023-11-10 14:50:50,608] [INFO] [turbospectrum:generate_spectrum:88]: Spherical model atmosphere with radius 2.05e+11 cm\n"
     ]
    },
    {
     "name": "stdout",
     "output_type": "stream",
     "text": [
      "[finished] 7000 3.5 -0.75 0.0 1.8 0.0 0.0 0.0 0\n",
      "[started] 7000 3.5 -0.25 0.0 1.82 0.0 0.0 0.0 0\n"
     ]
    },
    {
     "name": "stderr",
     "output_type": "stream",
     "text": [
      "INFO:root:Spherical model atmosphere with radius 2.05e+11 cm\n",
      "[2023-11-10 14:51:22,538] [INFO] [turbospectrum:generate_spectrum:88]: Spherical model atmosphere with radius 2.05e+11 cm\n"
     ]
    },
    {
     "name": "stdout",
     "output_type": "stream",
     "text": [
      "[finished] 7000 3.5 -0.75 0.4 1.8 0.0 0.0 0.0 0\n",
      "[started] 7000 3.5 -0.25 0.4 1.82 0.0 0.0 0.0 0\n"
     ]
    },
    {
     "name": "stderr",
     "output_type": "stream",
     "text": [
      "INFO:root:Spherical model atmosphere with radius 2.05e+11 cm\n",
      "[2023-11-10 14:51:25,346] [INFO] [turbospectrum:generate_spectrum:88]: Spherical model atmosphere with radius 2.05e+11 cm\n"
     ]
    },
    {
     "name": "stdout",
     "output_type": "stream",
     "text": [
      "[finished] 7000 3.0 0.25 0.0 2.7 0.0 0.0 0.0 0\n",
      "[started] 7000 3.5 0.0 0.0 1.83 0.0 0.0 0.0 0\n",
      "[finished] 7000 3.0 0.25 0.4 2.7 0.0 0.0 0.0 0\n",
      "[started] 7000 3.5 0.0 0.4 1.83 0.0 0.0 0.0 0\n",
      "[finished] 7000 3.0 0.5 0.0 2.71 0.0 0.0 0.0 0\n",
      "[started] 7000 3.5 0.25 0.0 1.85 0.0 0.0 0.0 0\n"
     ]
    },
    {
     "name": "stderr",
     "output_type": "stream",
     "text": [
      "INFO:root:Spherical model atmosphere with radius 2.05e+11 cm\n",
      "[2023-11-10 14:51:27,509] [INFO] [turbospectrum:generate_spectrum:88]: Spherical model atmosphere with radius 2.05e+11 cm\n"
     ]
    },
    {
     "name": "stdout",
     "output_type": "stream",
     "text": [
      "[finished] 7000 3.5 -1.0 0.0 1.79 0.0 0.0 0.0 0\n",
      "[started] 7000 3.5 0.25 0.4 1.85 0.0 0.0 0.0 0\n"
     ]
    },
    {
     "name": "stderr",
     "output_type": "stream",
     "text": [
      "INFO:root:Spherical model atmosphere with radius 2.05e+11 cm\n",
      "[2023-11-10 14:51:28,295] [INFO] [turbospectrum:generate_spectrum:88]: Spherical model atmosphere with radius 2.05e+11 cm\n"
     ]
    },
    {
     "name": "stdout",
     "output_type": "stream",
     "text": [
      "[finished] 7000 3.0 0.5 0.4 2.71 0.0 0.0 0.0 0\n",
      "[started] 7000 3.5 0.5 0.0 1.86 0.0 0.0 0.0 0\n",
      "[finished] 7000 3.5 -1.0 0.4 1.79 0.0 0.0 0.0 0\n",
      "[started] 7000 3.5 0.5 0.4 1.86 0.0 0.0 0.0 0\n",
      "[finished] 7000 3.5 -0.5 0.0 1.81 0.0 0.0 0.0 0\n",
      "[started] 7000 4.0 -1.0 0.0 1.72 0.0 0.0 0.0 0\n",
      "[finished] 7000 3.5 -0.5 0.4 1.81 0.0 0.0 0.0 0\n",
      "[started] 7000 4.0 -1.0 0.4 1.72 0.0 0.0 0.0 0\n",
      "[finished] 7000 3.5 0.0 0.4 1.83 0.0 0.0 0.0 0\n",
      "[started] 7000 4.0 -0.75 0.0 1.73 0.0 0.0 0.0 0\n",
      "[finished] 7000 3.5 0.0 0.0 1.83 0.0 0.0 0.0 0\n",
      "[started] 7000 4.0 -0.75 0.4 1.73 0.0 0.0 0.0 0\n",
      "[finished] 7000 3.5 0.5 0.0 1.86 0.0 0.0 0.0 0\n",
      "[started] 7000 4.0 -0.5 0.0 1.74 0.0 0.0 0.0 0\n",
      "[finished] 7000 3.5 0.5 0.4 1.86 0.0 0.0 0.0 0\n",
      "[started] 7000 4.0 -0.5 0.4 1.74 0.0 0.0 0.0 0\n",
      "[finished] 7000 3.5 -0.25 0.0 1.82 0.0 0.0 0.0 0\n",
      "[started] 7000 4.0 -0.25 0.0 1.75 0.0 0.0 0.0 0\n",
      "[finished] 7000 3.5 -0.25 0.4 1.82 0.0 0.0 0.0 0\n",
      "[started] 7000 4.0 -0.25 0.4 1.75 0.0 0.0 0.0 0\n",
      "[finished] 7000 4.0 -1.0 0.0 1.72 0.0 0.0 0.0 0\n",
      "[started] 7000 4.0 0.0 0.0 1.76 0.0 0.0 0.0 0\n",
      "[finished] 7000 3.5 0.25 0.0 1.85 0.0 0.0 0.0 0\n",
      "[started] 7000 4.0 0.0 0.4 1.76 0.0 0.0 0.0 0\n",
      "[finished] 7000 3.5 0.25 0.4 1.85 0.0 0.0 0.0 0\n",
      "[started] 7000 4.0 0.25 0.0 1.78 0.0 0.0 0.0 0\n",
      "[finished] 7000 4.0 -1.0 0.4 1.72 0.0 0.0 0.0 0\n",
      "[started] 7000 4.0 0.25 0.4 1.78 0.0 0.0 0.0 0\n",
      "[finished] 7000 4.0 -0.75 0.4 1.73 0.0 0.0 0.0 0\n",
      "[started] 7000 4.0 0.5 0.0 1.79 0.0 0.0 0.0 0\n",
      "[finished] 7000 4.0 -0.75 0.0 1.73 0.0 0.0 0.0 0\n",
      "[started] 7000 4.0 0.5 0.4 1.79 0.0 0.0 0.0 0\n",
      "[finished] 7000 4.0 -0.5 0.0 1.74 0.0 0.0 0.0 0\n",
      "[started] 7000 4.5 -1.0 0.0 1.65 0.0 0.0 0.0 0\n",
      "[finished] 7000 4.0 -0.5 0.4 1.74 0.0 0.0 0.0 0\n",
      "[started] 7000 4.5 -1.0 0.4 1.65 0.0 0.0 0.0 0\n",
      "[finished] 7000 4.0 -0.25 0.0 1.75 0.0 0.0 0.0 0\n",
      "[started] 7000 4.5 -0.75 0.0 1.66 0.0 0.0 0.0 0\n",
      "[finished] 7000 4.0 -0.25 0.4 1.75 0.0 0.0 0.0 0\n",
      "[started] 7000 4.5 -0.75 0.4 1.66 0.0 0.0 0.0 0\n",
      "[finished] 7000 4.0 0.0 0.0 1.76 0.0 0.0 0.0 0\n",
      "[started] 7000 4.5 -0.5 0.0 1.67 0.0 0.0 0.0 0\n",
      "[finished] 7000 4.0 0.0 0.4 1.76 0.0 0.0 0.0 0\n",
      "[started] 7000 4.5 -0.5 0.4 1.67 0.0 0.0 0.0 0\n",
      "[finished] 7000 4.0 0.25 0.0 1.78 0.0 0.0 0.0 0\n",
      "[started] 7000 4.5 -0.25 0.0 1.68 0.0 0.0 0.0 0\n",
      "[finished] 7000 4.0 0.25 0.4 1.78 0.0 0.0 0.0 0\n",
      "[started] 7000 4.5 -0.25 0.4 1.68 0.0 0.0 0.0 0\n",
      "[finished] 7000 4.0 0.5 0.0 1.79 0.0 0.0 0.0 0\n",
      "[started] 7000 4.5 0.0 0.0 1.69 0.0 0.0 0.0 0\n",
      "[finished] 7000 4.5 -1.0 0.0 1.65 0.0 0.0 0.0 0\n",
      "[started] 7000 4.5 0.0 0.4 1.69 0.0 0.0 0.0 0\n",
      "[finished] 7000 4.0 0.5 0.4 1.79 0.0 0.0 0.0 0\n",
      "[started] 7000 4.5 0.25 0.0 1.71 0.0 0.0 0.0 0\n",
      "[finished] 7000 4.5 -1.0 0.4 1.65 0.0 0.0 0.0 0\n",
      "[started] 7000 4.5 0.25 0.4 1.71 0.0 0.0 0.0 0\n",
      "[finished] 7000 4.5 -0.75 0.0 1.66 0.0 0.0 0.0 0\n",
      "[started] 7000 4.5 0.5 0.0 1.72 0.0 0.0 0.0 0\n",
      "[finished] 7000 4.5 -0.75 0.4 1.66 0.0 0.0 0.0 0\n",
      "[started] 7000 4.5 0.5 0.4 1.72 0.0 0.0 0.0 0\n",
      "[finished] 7000 4.5 -0.5 0.0 1.67 0.0 0.0 0.0 0\n",
      "[started] 7000 5.0 -1.0 0.0 1.58 0.0 0.0 0.0 0\n",
      "[finished] 7000 4.5 -0.5 0.4 1.67 0.0 0.0 0.0 0\n",
      "[started] 7000 5.0 -1.0 0.4 1.58 0.0 0.0 0.0 0\n",
      "[finished] 7000 4.5 -0.25 0.0 1.68 0.0 0.0 0.0 0\n",
      "[started] 7000 1.595.0 -0.75 0.0  0.0 0.0 0.0 0\n",
      "[finished] 7000 4.5 -0.25 0.4 1.68 0.0 0.0 0.0 0\n",
      "[started] 7000 5.0 -0.75 0.4 1.59 0.0 0.0 0.0 0\n",
      "[finished] 7000 4.5 0.0 0.0 1.69 0.0 0.0 0.0 0\n",
      "[started] 7000 5.0 -0.5 0.0 1.6 0.0 0.0 0.0 0\n",
      "[finished] 7000 4.5 0.0 0.4 1.69 0.0 0.0 0.0 0\n",
      "[started] 7000 5.0 -0.5 0.4 1.6 0.0 0.0 0.0 0\n",
      "[finished] 7000 4.5 0.25 0.0 1.71 0.0 0.0 0.0 0\n",
      "[started] 7000 5.0 -0.25 0.0 1.61 0.0 0.0 0.0 0\n",
      "[finished] 7000 4.5 0.25 0.4 1.71 0.0 0.0 0.0 0\n",
      "[started] 7000 5.0 -0.25 0.4 1.61 0.0 0.0 0.0 0\n",
      "[finished] 7000 4.5 0.5 0.0 1.72 0.0 0.0 0.0 0\n",
      "[started] 7000 5.0 0.0 0.0 1.62 0.0 0.0 0.0 0\n",
      "[finished] 7000 4.5 0.5 0.4 1.72 0.0 0.0 0.0 0\n",
      "[started] 7000 5.0 0.0 0.4 1.62 0.0 0.0 0.0 0\n",
      "[finished] 7000 5.0 -1.0 0.0 1.58 0.0 0.0 0.0 0\n",
      "[started] 7000 5.0 0.25 0.0 1.63 0.0 0.0 0.0 0\n",
      "[finished] 7000 5.0 -1.0 0.4 1.58 0.0 0.0 0.0 0\n",
      "[started] 7000 5.0 0.25 0.4 1.63 0.0 0.0 0.0 0\n",
      "[finished] 7000 5.0 -0.75 0.0 1.59 0.0 0.0 0.0 0\n",
      "[started] 7000 5.0 0.5 0.0 1.65 0.0 0.0 0.0 0\n",
      "[finished] 7000 5.0 -0.75 0.4 1.59 0.0 0.0 0.0 0\n",
      "[started] 7000 5.0 0.5 0.4 1.65 0.0 0.0 0.0 0\n",
      "[finished] 7000 5.0 -0.5 0.0 1.6 0.0 0.0 0.0 0\n",
      "[started] 7250 3.0 -1.0 0.0 3.0 0.0 0.0 0.0 0\n"
     ]
    },
    {
     "name": "stderr",
     "output_type": "stream",
     "text": [
      "INFO:root:Spherical model atmosphere with radius 3.65e+11 cm\n",
      "[2023-11-10 14:54:35,796] [INFO] [turbospectrum:generate_spectrum:88]: Spherical model atmosphere with radius 3.65e+11 cm\n"
     ]
    },
    {
     "name": "stdout",
     "output_type": "stream",
     "text": [
      "[finished] 7000 5.0 -0.25 [finished]0.0 7000  5.01.61  -0.5 0.00.4  1.60.0  0.00.0  00.0 \n",
      "0.0 0\n",
      "[started] 7250 3.0 -1.0 0.4 3.0 [started] 0.07250  0.03.0 0.0  -0.75 0\n",
      "0.0 3.0 0.0 0.0 0.0 0\n"
     ]
    },
    {
     "name": "stderr",
     "output_type": "stream",
     "text": [
      "INFO:root:Spherical model atmosphere with radius 3.65e+11 cm\n",
      "[2023-11-10 14:54:36,229] [INFO] [turbospectrum:generate_spectrum:88]: Spherical model atmosphere with radius 3.65e+11 cm\n",
      "INFO:root:Spherical model atmosphere with radius 3.65e+11 cm\n",
      "[2023-11-10 14:54:36,231] [INFO] [turbospectrum:generate_spectrum:88]: Spherical model atmosphere with radius 3.65e+11 cm\n"
     ]
    },
    {
     "name": "stdout",
     "output_type": "stream",
     "text": [
      "[finished] 7000 5.0 -0.25 0.4 1.61 0.0 0.0 0.0 0\n",
      "[started] 7250 3.0 -0.75 0.4 3.0 0.0 0.0 0.0 0\n"
     ]
    },
    {
     "name": "stderr",
     "output_type": "stream",
     "text": [
      "INFO:root:Spherical model atmosphere with radius 3.65e+11 cm\n",
      "[2023-11-10 14:54:40,540] [INFO] [turbospectrum:generate_spectrum:88]: Spherical model atmosphere with radius 3.65e+11 cm\n"
     ]
    },
    {
     "name": "stdout",
     "output_type": "stream",
     "text": [
      "[finished] 7000 5.0 0.0 0.0 1.62 0.0 0.0 0.0 0\n",
      "[started] 7250 3.0 -0.5 0.0 3.01 0.0 0.0 0.0 0\n"
     ]
    },
    {
     "name": "stderr",
     "output_type": "stream",
     "text": [
      "INFO:root:Spherical model atmosphere with radius 3.65e+11 cm\n",
      "[2023-11-10 14:54:41,947] [INFO] [turbospectrum:generate_spectrum:88]: Spherical model atmosphere with radius 3.65e+11 cm\n"
     ]
    },
    {
     "name": "stdout",
     "output_type": "stream",
     "text": [
      "[finished] 7000 5.0 0.0 0.4 1.62 0.0 0.0 0.0 0\n",
      "[started] 7250 3.0 -0.5 0.4 3.01 0.0 0.0 0.0 0\n"
     ]
    },
    {
     "name": "stderr",
     "output_type": "stream",
     "text": [
      "INFO:root:Spherical model atmosphere with radius 3.65e+11 cm\n",
      "[2023-11-10 14:54:44,454] [INFO] [turbospectrum:generate_spectrum:88]: Spherical model atmosphere with radius 3.65e+11 cm\n"
     ]
    },
    {
     "name": "stdout",
     "output_type": "stream",
     "text": [
      "[finished] 7000 5.0 0.25 0.0 1.63 0.0 0.0 0.0 0\n",
      "[started] 7250 3.0 -0.25 0.0 3.02 0.0 0.0 0.0 0\n"
     ]
    },
    {
     "name": "stderr",
     "output_type": "stream",
     "text": [
      "INFO:root:Spherical model atmosphere with radius 3.65e+11 cm\n",
      "[2023-11-10 14:54:45,219] [INFO] [turbospectrum:generate_spectrum:88]: Spherical model atmosphere with radius 3.65e+11 cm\n"
     ]
    },
    {
     "name": "stdout",
     "output_type": "stream",
     "text": [
      "[finished] 7000 5.0 0.25 0.4 1.63 0.0 0.0 0.0 0\n",
      "[started] 7250 3.0 -0.25 0.4 3.02 0.0 0.0 0.0 0\n"
     ]
    },
    {
     "name": "stderr",
     "output_type": "stream",
     "text": [
      "INFO:root:Spherical model atmosphere with radius 3.65e+11 cm\n",
      "[2023-11-10 14:54:45,424] [INFO] [turbospectrum:generate_spectrum:88]: Spherical model atmosphere with radius 3.65e+11 cm\n"
     ]
    },
    {
     "name": "stdout",
     "output_type": "stream",
     "text": [
      "[finished] 7000 5.0 0.5 0.0 1.65 0.0 0.0 0.0 0\n",
      "[started] 7250 3.0 0.0 0.0 3.04 0.0 0.0 0.0 0\n"
     ]
    },
    {
     "name": "stderr",
     "output_type": "stream",
     "text": [
      "INFO:root:Spherical model atmosphere with radius 3.65e+11 cm\n",
      "[2023-11-10 14:54:46,219] [INFO] [turbospectrum:generate_spectrum:88]: Spherical model atmosphere with radius 3.65e+11 cm\n"
     ]
    },
    {
     "name": "stdout",
     "output_type": "stream",
     "text": [
      "[finished] 7000 5.0 0.5 0.4 1.65 0.0 0.0 0.0 0\n",
      "[started] 7250 3.0 0.0 0.4 3.04 0.0 0.0 0.0 0\n"
     ]
    },
    {
     "name": "stderr",
     "output_type": "stream",
     "text": [
      "INFO:root:Spherical model atmosphere with radius 3.65e+11 cm\n",
      "[2023-11-10 14:54:46,752] [INFO] [turbospectrum:generate_spectrum:88]: Spherical model atmosphere with radius 3.65e+11 cm\n"
     ]
    },
    {
     "name": "stdout",
     "output_type": "stream",
     "text": [
      "[finished] 7250 3.0 -1.0 0.0 3.0 0.0 0.0 0.0 0\n",
      "[started] 7250 3.0 0.25 0.0 3.05 0.0 0.0 0.0 0\n"
     ]
    },
    {
     "name": "stderr",
     "output_type": "stream",
     "text": [
      "INFO:root:Spherical model atmosphere with radius 3.65e+11 cm\n",
      "[2023-11-10 14:55:23,020] [INFO] [turbospectrum:generate_spectrum:88]: Spherical model atmosphere with radius 3.65e+11 cm\n"
     ]
    },
    {
     "name": "stdout",
     "output_type": "stream",
     "text": [
      "[finished] 7250 3.0 -0.75 0.0 3.0 0.0 0.0 0.0 0\n",
      "[started] 7250 3.0 0.25 0.4 3.05 0.0 0.0 0.0 0\n"
     ]
    },
    {
     "name": "stderr",
     "output_type": "stream",
     "text": [
      "INFO:root:Spherical model atmosphere with radius 3.65e+11 cm\n",
      "[2023-11-10 14:55:23,553] [INFO] [turbospectrum:generate_spectrum:88]: Spherical model atmosphere with radius 3.65e+11 cm\n"
     ]
    },
    {
     "name": "stdout",
     "output_type": "stream",
     "text": [
      "[finished] 7250 3.0 -1.0 0.4 3.0 0.0 0.0 0.0 0\n",
      "[started] 7250 3.0 0.5 0.0 3.06 0.0 0.0 0.0 0\n"
     ]
    },
    {
     "name": "stderr",
     "output_type": "stream",
     "text": [
      "INFO:root:Spherical model atmosphere with radius 3.65e+11 cm\n",
      "[2023-11-10 14:55:23,770] [INFO] [turbospectrum:generate_spectrum:88]: Spherical model atmosphere with radius 3.65e+11 cm\n"
     ]
    },
    {
     "name": "stdout",
     "output_type": "stream",
     "text": [
      "[finished] 7250 3.0 -0.75 0.4 3.0 0.0 0.0 0.0 0\n",
      "[started] 7250 3.0 0.5 0.4 3.06 0.0 0.0 0.0 0\n"
     ]
    },
    {
     "name": "stderr",
     "output_type": "stream",
     "text": [
      "INFO:root:Spherical model atmosphere with radius 3.65e+11 cm\n",
      "[2023-11-10 14:55:28,298] [INFO] [turbospectrum:generate_spectrum:88]: Spherical model atmosphere with radius 3.65e+11 cm\n"
     ]
    },
    {
     "name": "stdout",
     "output_type": "stream",
     "text": [
      "[finished] 7250 3.0 -0.5 0.0 3.01 0.0 0.0 0.0 0\n",
      "[started] 7250 3.5 -1.0 0.0 1.98 0.0 0.0 0.0 0\n"
     ]
    },
    {
     "name": "stderr",
     "output_type": "stream",
     "text": [
      "INFO:root:Spherical model atmosphere with radius 2.05e+11 cm\n",
      "[2023-11-10 14:55:29,411] [INFO] [turbospectrum:generate_spectrum:88]: Spherical model atmosphere with radius 2.05e+11 cm\n"
     ]
    },
    {
     "name": "stdout",
     "output_type": "stream",
     "text": [
      "[finished] 7250 3.0 -0.5 0.4 3.01 0.0 0.0 0.0 0\n",
      "[started] 7250 3.5 -1.0 0.4 1.98 0.0 0.0 0.0 0\n"
     ]
    },
    {
     "name": "stderr",
     "output_type": "stream",
     "text": [
      "INFO:root:Spherical model atmosphere with radius 2.05e+11 cm\n",
      "[2023-11-10 14:55:32,047] [INFO] [turbospectrum:generate_spectrum:88]: Spherical model atmosphere with radius 2.05e+11 cm\n"
     ]
    },
    {
     "name": "stdout",
     "output_type": "stream",
     "text": [
      "[finished] 7250 3.0 -0.25 0.0 3.02 0.0 [finished]0.0  72500.0  3.00 \n",
      "-0.25 0.4 3.02 0.0 0.0 0.0[started]  07250\n",
      " 3.5 -0.75 0.0 1.99 0.0 0.0 0.0 0\n",
      "[started] 7250 3.5 -0.75 0.4 1.99 0.0 0.0 0.0 0\n"
     ]
    },
    {
     "name": "stderr",
     "output_type": "stream",
     "text": [
      "INFO:root:Spherical model atmosphere with radius 2.05e+11 cm\n",
      "[2023-11-10 14:55:32,895] [INFO] [turbospectrum:generate_spectrum:88]: Spherical model atmosphere with radius 2.05e+11 cm\n",
      "INFO:root:Spherical model atmosphere with radius 2.05e+11 cm\n",
      "[2023-11-10 14:55:32,905] [INFO] [turbospectrum:generate_spectrum:88]: Spherical model atmosphere with radius 2.05e+11 cm\n"
     ]
    },
    {
     "name": "stdout",
     "output_type": "stream",
     "text": [
      "[finished] 7250 3.0 0.0 0.0 3.04 0.0 0.0 0.0 0\n",
      "[started] 7250 3.5 -0.5 0.0 1.99 0.0 0.0 0.0 0\n",
      "[finished] 7250 3.0 0.0 0.4 3.04 0.0 0.0 0.0 0\n",
      "[started] 7250 3.5 -0.5 0.4 1.99 0.0 0.0 0.0 0\n",
      "[finished] 7250 3.0 0.25 0.0 3.05 0.0 0.0 0.0 0\n",
      "[started] 7250 3.5 -0.25 0.0 2.01 0.0 0.0 0.0 0\n",
      "[finished] 7250 3.5 -0.5 0.4 1.99 0.0 0.0 0.0 0\n",
      "[started] 7250 3.5 -0.25 0.4 2.01 0.0 0.0 0.0 0\n",
      "[finished] 7250 3.5 -0.5 0.0 1.99 0.0 0.0 0.0 0\n",
      "[started] 7250 3.5 0.0 0.0 2.02 0.0 0.0 0.0 0\n",
      "[finished] 7250 3.0 0.25 0.4 3.05 0.0 0.0 0.0 0\n",
      "[started] 7250 3.5 0.0 0.4 2.02 0.0 0.0 0.0 0\n"
     ]
    },
    {
     "name": "stderr",
     "output_type": "stream",
     "text": [
      "INFO:root:Spherical model atmosphere with radius 2.05e+11 cm\n",
      "[2023-11-10 14:56:11,754] [INFO] [turbospectrum:generate_spectrum:88]: Spherical model atmosphere with radius 2.05e+11 cm\n",
      "INFO:root:Spherical model atmosphere with radius 2.05e+11 cm\n",
      "[2023-11-10 14:56:11,832] [INFO] [turbospectrum:generate_spectrum:88]: Spherical model atmosphere with radius 2.05e+11 cm\n"
     ]
    },
    {
     "name": "stdout",
     "output_type": "stream",
     "text": [
      "[finished] 7250 3.0 0.5 0.0 3.06 0.0 0.0 0.0 0\n",
      "[started] 7250 3.5 0.25 0.0 2.03 0.0 0.0 0.0 0\n"
     ]
    },
    {
     "name": "stderr",
     "output_type": "stream",
     "text": [
      "INFO:root:Spherical model atmosphere with radius 2.05e+11 cm\n",
      "[2023-11-10 14:56:11,956] [INFO] [turbospectrum:generate_spectrum:88]: Spherical model atmosphere with radius 2.05e+11 cm\n"
     ]
    },
    {
     "name": "stdout",
     "output_type": "stream",
     "text": [
      "[finished] 7250 3.0 0.5 0.4 3.06 0.0 0.0 0.0 0\n",
      "[started] 7250 3.5 0.25 0.4 2.03 0.0 0.0 0.0 0\n"
     ]
    },
    {
     "name": "stderr",
     "output_type": "stream",
     "text": [
      "INFO:root:Spherical model atmosphere with radius 2.05e+11 cm\n",
      "[2023-11-10 14:56:16,479] [INFO] [turbospectrum:generate_spectrum:88]: Spherical model atmosphere with radius 2.05e+11 cm\n"
     ]
    },
    {
     "name": "stdout",
     "output_type": "stream",
     "text": [
      "[finished] 7250 3.5 -1.0 0.0 1.98 0.0 0.0 0.0 0\n",
      "[started] 7250 3.5 0.5 0.0 2.04 0.0 0.0 0.0 0\n"
     ]
    },
    {
     "name": "stderr",
     "output_type": "stream",
     "text": [
      "INFO:root:Spherical model atmosphere with radius 2.05e+11 cm\n",
      "[2023-11-10 14:56:17,456] [INFO] [turbospectrum:generate_spectrum:88]: Spherical model atmosphere with radius 2.05e+11 cm\n"
     ]
    },
    {
     "name": "stdout",
     "output_type": "stream",
     "text": [
      "[finished] 7250 3.5 -1.0 0.4 1.98 0.0 0.0 0.0 0\n",
      "[started] 7250 3.5 0.5 0.4 2.04 0.0 0.0 0.0 0\n"
     ]
    },
    {
     "name": "stderr",
     "output_type": "stream",
     "text": [
      "INFO:root:Spherical model atmosphere with radius 2.05e+11 cm\n",
      "[2023-11-10 14:56:19,498] [INFO] [turbospectrum:generate_spectrum:88]: Spherical model atmosphere with radius 2.05e+11 cm\n"
     ]
    },
    {
     "name": "stdout",
     "output_type": "stream",
     "text": [
      "[finished] 7250 3.5 -0.75 0.4 1.99 0.0 0.0 0.0 0\n",
      "[started] 7250 4.0[finished] -1.0  72500.0  3.51.91 -0.75  0.00.0  0.01.99 0.0  0.00 \n",
      "0.0 0.0 0\n",
      "[started] 7250 4.0 -1.0 0.4 1.91 0.0 0.0 0.0 0\n",
      "[finished] 7250 3.5 -0.25 0.0 2.01 0.0 0.0 0.0 0\n",
      "[started] 7250 4.0 -0.75 0.0 1.92 0.0 0.0 0.0 0\n",
      "[finished] 7250 3.5 -0.25 0.4 2.01 0.0 0.0 0.0 0\n",
      "[started] 7250 4.0 -0.75 0.4 1.92 0.0 0.0 0.0 0\n",
      "[finished] 7250 4.0 -1.0 0.4 1.91 0.0 0.0 0.0 0\n",
      "[started] 7250 4.0 -0.5 0.0 1.93 0.0 0.0 0.0 0\n",
      "[finished] 7250 4.0 -1.0 0.0 1.91 0.0 0.0 0.0 0\n",
      "[started] 7250 4.0 -0.5 0.4 1.93 0.0 0.0 0.0 0\n",
      "[finished] 7250 3.5 0.0 0.4 2.02 0.0 0.0 0.0 0\n",
      "[started] 7250 4.0 -0.25 0.0 1.94 0.0 0.0 0.0 0\n",
      "[finished] 7250 3.5 0.0 0.0 2.02 0.0 0.0 0.0 0\n",
      "[started] 7250 4.0 -0.25 0.4 1.94 0.0 0.0 0.0 0\n",
      "[finished] 7250 3.5 0.25 0.0 2.03 0.0 0.0 0.0 0\n",
      "[started] 7250 4.0 0.0 0.0 1.95 0.0 0.0 0.0 0\n",
      "[finished] 7250 3.5 0.25 0.4 2.03 0.0 0.0 0.0 0\n",
      "[started] 7250 4.0 0.0 0.4 1.95 0.0 0.0 0.0 0\n",
      "[finished] 7250 3.5 0.5 0.0 2.04 0.0 0.0 0.0 0\n",
      "[started] 7250 4.0 0.25 0.0 1.96 0.0 0.0 0.0 0\n",
      "[finished] 7250 3.5 0.5 0.4 2.04 0.0 0.0 0.0 0\n",
      "[started] 7250 4.0 0.25 0.4 1.96 0.0 0.0 0.0 0\n",
      "[finished] 7250 4.0 -0.75 0.0 1.92 0.0 0.0 0.0 0\n",
      "[started] 7250 4.0 0.5 0.0 1.98 0.0 0.0 0.0 0\n",
      "[finished] 7250 4.0 -0.75 0.4 1.92 0.0 0.0 0.0 0\n",
      "[started] 7250 4.0 0.5 0.4 1.98 0.0 0.0 0.0 0\n",
      "[finished] 7250 4.0 -0.5 0.0 1.93 0.0 0.0 0.0 0\n",
      "[started] 7250 4.5 -1.0 0.0 1.84 0.0 0.0 0.0 0\n",
      "[finished] 7250 4.0 -0.5 0.4 1.93 0.0 0.0 0.0 0\n",
      "[started] 7250 4.5 -1.0 0.4 1.84 0.0 0.0 0.0 0\n",
      "[finished] 7250 4.0 -0.25 0.0 1.94 0.0 0.0 0.0 0\n",
      "[started] 7250 4.5 -0.75 0.0 1.85 0.0 0.0 0.0 0\n",
      "[finished] 7250 4.0 -0.25 0.4 1.94 0.0 0.0 0.0 0\n",
      "[started] 7250 4.5 -0.75 0.4 1.85 0.0 0.0 0.0 0\n",
      "[finished] 7250 4.0 0.0 0.0 1.95 0.0 0.0 0.0 0\n",
      "[started] 7250 4.5 -0.5 0.0 1.85 0.0 0.0 0.0 0\n",
      "[finished] 7250 4.0 0.0 0.4 1.95 0.0 0.0 0.0 0\n",
      "[started] 7250 4.5 -0.5 0.4 1.85 0.0 0.0 0.0 0\n",
      "[finished] 7250 4.0 0.25 0.0 1.96 0.0 0.0 0.0 0\n",
      "[started] 7250 4.5 -0.25 0.0 1.87 0.0 0.0 0.0 0\n",
      "[finished] 7250 4.0 0.25 0.4 1.96 0.0 0.0 0.0 0\n",
      "[started] 7250 4.5 -0.25 0.4 1.87 0.0 0.0 0.0 0\n",
      "[finished] 7250 4.0 0.5 0.0 1.98 0.0 0.0 0.0 0\n",
      "[started] 7250 4.5 0.0 0.0 1.88 0.0 0.0 0.0 0\n",
      "[finished] 7250 4.0 0.5 0.4 1.98 0.0 0.0 0.0 0\n",
      "[started] 7250 4.5 0.0 0.4 1.88 0.0 0.0 0.0 0\n",
      "[finished] 7250 4.5 -1.0 0.4 1.84 0.0 0.0 0.0 0\n",
      "[started] 7250 4.5 0.25 0.0 1.89 0.0 0.0 0.0 0\n",
      "[finished] 7250 4.5 -1.0 0.0 1.84 0.0 0.0 0.0 0\n",
      "[started] 7250 4.5 0.25 0.4 1.89 0.0 0.0 0.0 0\n",
      "[finished] 7250 4.5 -0.75 0.4 1.85 0.0 0.0 0.0 0\n",
      "[started] 7250 4.5 0.5 [finished] 0.0 7250 4.51.9  -0.75 0.00.0  0.01.85  0.0 0.00 \n",
      "0.0 0.0 0\n",
      "[started] 7250 4.5 0.5 0.4 1.9 0.0 0.0 0.0 0\n",
      "[finished] 7250 4.5 -0.5 0.0 1.85 0.0 0.0 0.0 0\n",
      "[started] 7250 5.0 -1.0 0.0 1.76 0.0 0.0 0.0 0\n",
      "[finished] 7250 4.5 -0.5 0.4 1.85 0.0 0.0 0.0 0\n",
      "[started] 7250 5.0 -1.0 0.4 1.76 0.0 0.0 0.0 0\n",
      "[finished] 7250 4.5 -0.25 0.0 1.87 0.0 0.0 0.0 0\n",
      "[started] 7250 5.0 -0.75 0.0 1.77 0.0 0.0 0.0 0\n",
      "[finished] 7250 4.5 -0.25 0.4 1.87 0.0 0.0 0.0 0\n",
      "[started] 7250 5.0 -0.75 0.4 1.77 0.0 0.0 0.0 0\n",
      "[finished] 7250 4.5 0.0 0.0 1.88 0.0 0.0 0.0 0\n",
      "[started] 7250 5.0 -0.5 0.0 1.78 0.0 0.0 0.0 0\n",
      "[finished] 7250 4.5 0.0 0.4 1.88 0.0 0.0 0.0 0\n",
      "[started] 7250 5.0 -0.5 0.4 1.78 0.0 0.0 0.0 0\n",
      "[finished] 7250 4.5 0.25 0.0 1.89 0.0 0.0 0.0 0\n",
      "[started] 7250 5.0 -0.25 0.0 1.79 0.0 0.0 0.0 0\n",
      "[finished] 7250 4.5 0.25 0.4 1.89 0.0 0.0 0.0 0\n",
      "[started] 7250 5.0 -0.25 0.4 1.79 0.0 0.0 0.0 0\n",
      "[finished] 7250 4.5 0.5 0.0 1.9 0.0 0.0 0.0 0\n",
      "[started] 7250 5.0 0.0 0.0 1.8 0.0 0.0 0.0 0\n",
      "[finished] 7250 5.0 -1.0 0.0 1.76 0.0 0.0 0.0 0\n",
      "[started] 7250 5.0 0.0 0.4 1.8 0.0 0.0 0.0 0\n",
      "[finished] 7250 4.5 0.5 0.4 1.9 0.0 0.0 0.0 0\n",
      "[started] 7250 5.0 0.25 0.0 1.82 0.0 0.0 0.0 0\n",
      "[finished] 7250 5.0 -1.0 0.4 1.76 0.0 0.0 0.0 0\n",
      "[started] 7250 5.0 0.25 0.4 1.82 0.0 0.0 0.0 0\n",
      "[finished] 7250 5.0 -0.75 0.0 1.77 0.0 0.0 0.0 0\n",
      "[started] 7250 5.0 0.5 0.0 1.83 0.0 0.0 0.0 0\n",
      "[finished] 7250 5.0 -0.75 0.4 1.77 0.0 0.0 0.0 0\n",
      "[started] 7250 5.0 0.5 0.4 1.83 0.0 0.0 0.0 0\n",
      "[finished] 7250 5.0 -0.5 0.0 1.78 0.0 0.0 0.0 0\n",
      "[started] 7500 3.0 -1.0 0.0 3.39 0.0 0.0 0.0 0\n"
     ]
    },
    {
     "name": "stderr",
     "output_type": "stream",
     "text": [
      "INFO:root:Spherical model atmosphere with radius 3.65e+11 cm\n",
      "[2023-11-10 14:59:20,222] [INFO] [turbospectrum:generate_spectrum:88]: Spherical model atmosphere with radius 3.65e+11 cm\n"
     ]
    },
    {
     "name": "stdout",
     "output_type": "stream",
     "text": [
      "[finished] 7250 5.0 -0.5 0.4 1.78 0.0 0.0 0.0 0\n",
      "[started] 7500 3.0 -1.0 0.4 3.39 0.0 0.0 0.0 0\n"
     ]
    },
    {
     "name": "stderr",
     "output_type": "stream",
     "text": [
      "INFO:root:Spherical model atmosphere with radius 3.65e+11 cm\n",
      "[2023-11-10 14:59:21,166] [INFO] [turbospectrum:generate_spectrum:88]: Spherical model atmosphere with radius 3.65e+11 cm\n"
     ]
    },
    {
     "name": "stdout",
     "output_type": "stream",
     "text": [
      "[finished] 7250 5.0 -0.25 0.0 1.79 0.0 0.0 0.0 0\n",
      "[started] 7500 3.0 -0.75 0.0 3.4 0.0 0.0 0.0 0\n",
      "[finished] 7250 5.0 -0.25 0.4 1.79 0.0 0.0 0.0 0\n",
      "[started] 7500 3.0 -0.75 0.4 3.4 0.0 0.0 0.0 0\n"
     ]
    },
    {
     "name": "stderr",
     "output_type": "stream",
     "text": [
      "INFO:root:Spherical model atmosphere with radius 3.65e+11 cm\n",
      "[2023-11-10 14:59:28,645] [INFO] [turbospectrum:generate_spectrum:88]: Spherical model atmosphere with radius 3.65e+11 cm\n",
      "INFO:root:Spherical model atmosphere with radius 3.65e+11 cm\n",
      "[2023-11-10 14:59:28,690] [INFO] [turbospectrum:generate_spectrum:88]: Spherical model atmosphere with radius 3.65e+11 cm\n"
     ]
    },
    {
     "name": "stdout",
     "output_type": "stream",
     "text": [
      "[finished] 7250 5.0 0.0 0.0 1.8 0.0 0.0 0.0 0\n",
      "[started] 7500 3.0 -0.5 0.0 3.4 0.0 0.0 0.0 0\n"
     ]
    },
    {
     "name": "stderr",
     "output_type": "stream",
     "text": [
      "INFO:root:Spherical model atmosphere with radius 3.65e+11 cm\n",
      "[2023-11-10 14:59:30,988] [INFO] [turbospectrum:generate_spectrum:88]: Spherical model atmosphere with radius 3.65e+11 cm\n"
     ]
    },
    {
     "name": "stdout",
     "output_type": "stream",
     "text": [
      "[finished] 7250 5.0 0.0 0.4 1.8 0.0 0.0 0.0 0\n",
      "[started] 7500 3.0 -0.5 0.4 3.4 0.0 0.0 0.0 0\n",
      "[finished] 7250 5.0 0.25 0.0 1.82 0.0 0.0 0.0 0\n",
      "[started] 7500 3.0 -0.25 0.0 3.42 0.0 0.0 0.0 0\n"
     ]
    },
    {
     "name": "stderr",
     "output_type": "stream",
     "text": [
      "INFO:root:Spherical model atmosphere with radius 3.65e+11 cm\n",
      "[2023-11-10 14:59:31,210] [INFO] [turbospectrum:generate_spectrum:88]: Spherical model atmosphere with radius 3.65e+11 cm\n",
      "INFO:root:Spherical model atmosphere with radius 3.65e+11 cm\n",
      "[2023-11-10 14:59:31,293] [INFO] [turbospectrum:generate_spectrum:88]: Spherical model atmosphere with radius 3.65e+11 cm\n"
     ]
    },
    {
     "name": "stdout",
     "output_type": "stream",
     "text": [
      "[finished] 7250 5.0 0.25 0.4 1.82 0.0 0.0 0.0 0\n",
      "[started] 7500 3.0 -0.25 0.4 3.42 0.0 0.0 0.0 0\n"
     ]
    },
    {
     "name": "stderr",
     "output_type": "stream",
     "text": [
      "INFO:root:Spherical model atmosphere with radius 3.65e+11 cm\n",
      "[2023-11-10 14:59:35,067] [INFO] [turbospectrum:generate_spectrum:88]: Spherical model atmosphere with radius 3.65e+11 cm\n"
     ]
    },
    {
     "name": "stdout",
     "output_type": "stream",
     "text": [
      "[finished] 7250 5.0 0.5 0.0 1.83 0.0 0.0 0.0 0\n",
      "[started] 7500 3.0 0.0 0.0 3.43 0.0 0.0 0.0 0\n"
     ]
    },
    {
     "name": "stderr",
     "output_type": "stream",
     "text": [
      "INFO:root:Spherical model atmosphere with radius 3.65e+11 cm\n",
      "[2023-11-10 14:59:36,333] [INFO] [turbospectrum:generate_spectrum:88]: Spherical model atmosphere with radius 3.65e+11 cm\n"
     ]
    },
    {
     "name": "stdout",
     "output_type": "stream",
     "text": [
      "[finished] 7250 5.0 0.5 0.4 1.83 0.0 0.0 0.0 0\n",
      "[started] 7500 3.0 0.0 0.4 3.43 0.0 0.0 0.0 0\n"
     ]
    },
    {
     "name": "stderr",
     "output_type": "stream",
     "text": [
      "INFO:root:Spherical model atmosphere with radius 3.65e+11 cm\n",
      "[2023-11-10 14:59:38,229] [INFO] [turbospectrum:generate_spectrum:88]: Spherical model atmosphere with radius 3.65e+11 cm\n"
     ]
    },
    {
     "name": "stdout",
     "output_type": "stream",
     "text": [
      "[finished] 7500 3.0 -1.0 0.0 3.39 0.0 0.0 0.0 0\n",
      "[started] 7500 3.0 0.25 0.0 3.44 0.0 0.0 0.0 0\n"
     ]
    },
    {
     "name": "stderr",
     "output_type": "stream",
     "text": [
      "INFO:root:Spherical model atmosphere with radius 3.65e+11 cm\n",
      "[2023-11-10 15:00:07,763] [INFO] [turbospectrum:generate_spectrum:88]: Spherical model atmosphere with radius 3.65e+11 cm\n"
     ]
    },
    {
     "name": "stdout",
     "output_type": "stream",
     "text": [
      "[finished] 7500 3.0 -1.0 0.4 3.39 0.0 0.0 0.0 0\n",
      "[started] 7500 3.0 0.25 0.4 3.44 0.0 0.0 0.0 0\n"
     ]
    },
    {
     "name": "stderr",
     "output_type": "stream",
     "text": [
      "INFO:root:Spherical model atmosphere with radius 3.65e+11 cm\n",
      "[2023-11-10 15:00:08,559] [INFO] [turbospectrum:generate_spectrum:88]: Spherical model atmosphere with radius 3.65e+11 cm\n"
     ]
    },
    {
     "name": "stdout",
     "output_type": "stream",
     "text": [
      "[finished] 7500 3.0 -0.75 0.0 3.4 0.0 0.0 0.0 0\n",
      "[started] 7500 3.0 0.5 0.0 3.45 0.0 0.0 0.0 0\n"
     ]
    },
    {
     "name": "stderr",
     "output_type": "stream",
     "text": [
      "INFO:root:Spherical model atmosphere with radius 3.65e+11 cm\n",
      "[2023-11-10 15:00:16,394] [INFO] [turbospectrum:generate_spectrum:88]: Spherical model atmosphere with radius 3.65e+11 cm\n"
     ]
    },
    {
     "name": "stdout",
     "output_type": "stream",
     "text": [
      "[finished] 7500 3.0 -0.75 0.4 3.4 0.0 0.0 0.0 0\n",
      "[started] 7500 3.0 0.5 0.4 3.45 0.0 0.0 0.0 0\n"
     ]
    },
    {
     "name": "stderr",
     "output_type": "stream",
     "text": [
      "INFO:root:Spherical model atmosphere with radius 3.65e+11 cm\n",
      "[2023-11-10 15:00:16,922] [INFO] [turbospectrum:generate_spectrum:88]: Spherical model atmosphere with radius 3.65e+11 cm\n"
     ]
    },
    {
     "name": "stdout",
     "output_type": "stream",
     "text": [
      "[finished] 7500 3.0 -0.5 0.0 3.4 0.0 0.0 0.0 0\n",
      "[started] 7500 3.5 -1.0 0.0 2.18 0.0 0.0 0.0 0\n",
      "[finished] 7500 3.0 -0.5 0.4 3.4 0.0 0.0 0.0 0\n",
      "[started] 7500 3.5 -1.0 0.4 2.18 0.0 0.0 0.0 0\n",
      "[finished] 7500 3.0 -0.25 0.0 3.42 0.0 0.0 0.0 0\n",
      "[started] 7500 3.5 -0.75 0.0 2.19 0.0 0.0 0.0 0\n"
     ]
    },
    {
     "name": "stderr",
     "output_type": "stream",
     "text": [
      "INFO:root:Spherical model atmosphere with radius 1.03e+11 cm\n",
      "[2023-11-10 15:00:18,985] [INFO] [turbospectrum:generate_spectrum:88]: Spherical model atmosphere with radius 1.03e+11 cm\n"
     ]
    },
    {
     "name": "stdout",
     "output_type": "stream",
     "text": [
      "[finished] 7500 3.0 -0.25 0.4 3.42 0.0 0.0 0.0 0\n",
      "[started] 7500 3.5 -0.75 0.4 2.19 0.0 0.0 0.0 0\n"
     ]
    },
    {
     "name": "stderr",
     "output_type": "stream",
     "text": [
      "INFO:root:Spherical model atmosphere with radius 1.03e+11 cm\n",
      "[2023-11-10 15:00:22,771] [INFO] [turbospectrum:generate_spectrum:88]: Spherical model atmosphere with radius 1.03e+11 cm\n"
     ]
    },
    {
     "name": "stdout",
     "output_type": "stream",
     "text": [
      "[finished] 7500 3.0 0.0 0.0 3.43 0.0 0.0 0.0 0\n",
      "[started] 7500 3.5 -0.5 0.0 2.2 0.0 0.0 0.0 0\n"
     ]
    },
    {
     "name": "stderr",
     "output_type": "stream",
     "text": [
      "INFO:root:Spherical model atmosphere with radius 2.05e+11 cm\n",
      "[2023-11-10 15:00:24,598] [INFO] [turbospectrum:generate_spectrum:88]: Spherical model atmosphere with radius 2.05e+11 cm\n"
     ]
    },
    {
     "name": "stdout",
     "output_type": "stream",
     "text": [
      "[finished] 7500 3.0 0.0 0.4 3.43 0.0 0.0 0.0 0\n",
      "[started] 7500 3.5 -0.5 0.4 2.2 0.0 0.0 0.0 0\n"
     ]
    },
    {
     "name": "stderr",
     "output_type": "stream",
     "text": [
      "INFO:root:Spherical model atmosphere with radius 2.05e+11 cm\n",
      "[2023-11-10 15:00:25,594] [INFO] [turbospectrum:generate_spectrum:88]: Spherical model atmosphere with radius 2.05e+11 cm\n"
     ]
    },
    {
     "name": "stdout",
     "output_type": "stream",
     "text": [
      "[finished] 7500 3.0 0.25 0.0 3.44 0.0 0.0 0.0 0\n",
      "[started] 7500 3.5 -0.25 0.0 2.21 0.0 0.0 0.0 0\n"
     ]
    },
    {
     "name": "stderr",
     "output_type": "stream",
     "text": [
      "INFO:root:Spherical model atmosphere with radius 2.05e+11 cm\n",
      "[2023-11-10 15:00:55,981] [INFO] [turbospectrum:generate_spectrum:88]: Spherical model atmosphere with radius 2.05e+11 cm\n"
     ]
    },
    {
     "name": "stdout",
     "output_type": "stream",
     "text": [
      "[finished] 7500 3.5 -1.0 0.0 2.18 0.0 0.0 0.0 0\n",
      "[started] 7500 3.5 -0.25 0.4 2.21 0.0 0.0 0.0 0\n"
     ]
    },
    {
     "name": "stderr",
     "output_type": "stream",
     "text": [
      "INFO:root:Spherical model atmosphere with radius 2.05e+11 cm\n",
      "[2023-11-10 15:00:56,244] [INFO] [turbospectrum:generate_spectrum:88]: Spherical model atmosphere with radius 2.05e+11 cm\n"
     ]
    },
    {
     "name": "stdout",
     "output_type": "stream",
     "text": [
      "[finished] 7500 3.5 -1.0 0.4 2.18 0.0 0.0 0.0 0\n",
      "[finished] 7500 3.0 [started] 7500 3.5 0.250.0 0.4  3.440.0  2.220.0  0.00.0 0.0 0.0  0\n",
      "0.0 0\n",
      "[started] 7500 3.5 0.0 0.4 2.22 0.0 0.0 0.0 0\n"
     ]
    },
    {
     "name": "stderr",
     "output_type": "stream",
     "text": [
      "INFO:root:Spherical model atmosphere with radius 2.05e+11 cm\n",
      "[2023-11-10 15:00:56,798] [INFO] [turbospectrum:generate_spectrum:88]: Spherical model atmosphere with radius 2.05e+11 cm\n",
      "INFO:root:Spherical model atmosphere with radius 2.05e+11 cm\n",
      "[2023-11-10 15:00:56,821] [INFO] [turbospectrum:generate_spectrum:88]: Spherical model atmosphere with radius 2.05e+11 cm\n"
     ]
    },
    {
     "name": "stdout",
     "output_type": "stream",
     "text": [
      "[finished] 7500 3.0 0.5 0.0 3.45 0.0 0.0 0.0 0\n",
      "[started] 7500 3.5 0.25 0.0 2.23 0.0 0.0 0.0 0\n"
     ]
    },
    {
     "name": "stderr",
     "output_type": "stream",
     "text": [
      "INFO:root:Spherical model atmosphere with radius 2.05e+11 cm\n",
      "[2023-11-10 15:01:04,780] [INFO] [turbospectrum:generate_spectrum:88]: Spherical model atmosphere with radius 2.05e+11 cm\n"
     ]
    },
    {
     "name": "stdout",
     "output_type": "stream",
     "text": [
      "[finished] 7500 3.0 0.5 0.4 3.45 0.0 0.0 0.0 0\n",
      "[started] 7500 3.5 0.25 0.4 2.23 0.0 0.0 0.0 0\n"
     ]
    },
    {
     "name": "stderr",
     "output_type": "stream",
     "text": [
      "INFO:root:Spherical model atmosphere with radius 2.05e+11 cm\n",
      "[2023-11-10 15:01:05,349] [INFO] [turbospectrum:generate_spectrum:88]: Spherical model atmosphere with radius 2.05e+11 cm\n"
     ]
    },
    {
     "name": "stdout",
     "output_type": "stream",
     "text": [
      "[finished] 7500 3.5 -0.75 0.0 2.19 0.0 0.0 0.0 0\n",
      "[started] 7500 3.5 0.5 0.0 2.25 0.0 0.0 0.0 0\n"
     ]
    },
    {
     "name": "stderr",
     "output_type": "stream",
     "text": [
      "INFO:root:Spherical model atmosphere with radius 2.05e+11 cm\n",
      "[2023-11-10 15:01:06,712] [INFO] [turbospectrum:generate_spectrum:88]: Spherical model atmosphere with radius 2.05e+11 cm\n"
     ]
    },
    {
     "name": "stdout",
     "output_type": "stream",
     "text": [
      "[finished] 7500 3.5 -0.75 0.4 2.19 0.0 0.0 0.0 0\n",
      "[started] 7500 3.5 0.5 0.4 2.25 0.0 0.0 0.0 0\n"
     ]
    },
    {
     "name": "stderr",
     "output_type": "stream",
     "text": [
      "INFO:root:Spherical model atmosphere with radius 2.05e+11 cm\n",
      "[2023-11-10 15:01:10,157] [INFO] [turbospectrum:generate_spectrum:88]: Spherical model atmosphere with radius 2.05e+11 cm\n"
     ]
    },
    {
     "name": "stdout",
     "output_type": "stream",
     "text": [
      "[finished] 7500 3.5 -0.5 0.0 2.2 0.0 0.0 0.0 0\n",
      "[started] 7500 4.0 -1.0 0.0 2.11 0.0 0.0 0.0 0\n",
      "[finished] 7500 3.5 -0.5 0.4 2.2 0.0 0.0 0.0 0\n",
      "[started] 7500 4.0 -1.0 0.4 2.11 0.0 0.0 0.0 0\n",
      "[finished] 7500 3.5 -0.25 0.0 2.21 0.0 0.0 0.0 0\n",
      "[started] 7500 4.0 -0.75 0.0 2.12 0.0 0.0 0.0 0\n",
      "[finished] 7500 3.5 -0.25 0.4 2.21 0.0 0.0 0.0 0\n",
      "[started] 7500 4.0 -0.75 0.4 2.12 0.0 0.0 0.0 0\n",
      "[finished] 7500 3.5 0.0 0.0 2.22 0.0 0.0 0.0 0\n",
      "[started] 7500 4.0 -0.5 0.0 2.13 0.0 0.0 0.0 0\n",
      "[finished] 7500 3.5 0.0 0.4 2.22 0.0 0.0 0.0 0\n",
      "[started] 7500 4.0 -0.5 0.4 2.13 0.0 0.0 0.0 0\n",
      "[finished] 7500 4.0 -1.0 0.0 2.11 0.0 0.0 0.0 0\n",
      "[started] 7500 4.0 -0.25 0.0 2.14 0.0 0.0 0.0 0\n",
      "[finished] 7500 4.0 -1.0 0.4 2.11 0.0 0.0 0.0 0\n",
      "[started] 7500 4.0 -0.25 0.4 2.14 0.0 0.0 0.0 0\n",
      "[finished] 7500 3.5 0.25 0.0 2.23 0.0 0.0 0.0 0\n",
      "[started] 7500 4.0 0.0 0.0 2.15 0.0 0.0 0.0 0\n",
      "[finished] 7500 3.5 0.25 0.4 2.23 0.0 0.0 0.0 0\n",
      "[started] 7500 4.0 0.0 0.4 2.15 0.0 0.0 0.0 0\n",
      "[finished] 7500 3.5 0.5 0.0 2.25 0.0 0.0 0.0 0\n",
      "[started] 7500 4.0 0.25 0.0 2.17 0.0 0.0 0.0 0\n",
      "[finished] 7500 3.5 0.5 0.4 2.25 0.0 0.0 0.0 0\n",
      "[started] 7500 4.0 0.25 0.4 2.17 0.0 0.0 0.0 0\n",
      "[finished] 7500 4.0 -0.75 0.0 2.12 0.0 0.0 0.0 0\n",
      "[started] 7500 4.0 0.5 0.0 2.18 0.0 0.0 0.0 0\n",
      "[finished] 7500 4.0 -0.75 0.4 2.12 0.0 0.0 0.0 0\n",
      "[started] 7500 4.0 0.5 0.4 2.18 0.0 0.0 0.0 0\n",
      "[finished] 7500 4.0 -0.5 0.4 2.13[finished]  0.07500 0.0 4.0 0.0  -0.50 \n",
      "0.0 2.13 0.0 0.0 0.0 0\n",
      "[started] 7500 4.5 -1.0 0.0 2.04 0.0  0.00.0 0\n",
      "[started] 7500 4.5 -1.0 0.4 2.04 0.0 0.0 0.0 0\n",
      "[finished] 7500 4.0 -0.25 0.0 2.14 0.0 0.0 0.0 0\n",
      "[started] 7500 4.5 -0.75 0.0 2.05 0.0 0.0 0.0 0\n",
      "[finished] 7500 4.0 -0.25 0.4 2.14 0.0 0.0 0.0 0\n",
      "[started] 7500 4.5 -0.75 0.4 2.05 0.0 0.0 0.0 0\n",
      "[finished] 7500 4.0 0.0 0.0 2.15 0.0 0.0 0.0 0\n",
      "[started] 7500 4.5 -0.5 0.0 2.06 0.0 0.0 0.0 0\n",
      "[finished] 7500 4.0 0.0 0.4 2.15 0.0 0.0 0.0 0\n",
      "[started] 7500 4.5 -0.5 0.4 2.06 0.0 0.0 0.0 0\n",
      "[finished] 7500 4.0 0.25 0.0 2.17 0.0 0.0 0.0 0\n",
      "[started] 7500 4.5 -0.25 0.0 2.07 0.0 0.0 0.0 0\n",
      "[finished] 7500 4.0 0.25 0.4 2.17 0.0 0.0 0.0 0\n",
      "[started] 7500 4.5 -0.25 0.4 2.07 0.0 0.0 0.0 0\n",
      "[finished] 7500 4.0 0.5 0.4 2.18 0.0 0.0 0.0 0\n",
      "[started] 7500 4.5 0.0 0.0 2.08 0.0 0.0 0.0 0\n",
      "[finished] 7500 4.0 0.5 0.0 2.18 0.0 0.0 0.0 0\n",
      "[started] 7500 4.5 0.0 0.4 2.08 0.0 0.0 0.0 0\n",
      "[finished] 7500 4.5 -1.0 0.0 2.04 0.0 0.0 0.0 0\n",
      "[started] 7500 4.5 0.25 0.0 2.09 0.0 0.0 0.0 0\n",
      "[finished] 7500 4.5 -1.0 0.4 2.04 0.0 0.0 0.0 0\n",
      "[started] 7500 4.5 0.25 0.4 2.09 0.0 0.0 0.0 0\n",
      "[finished] 7500 4.5 -0.75 0.0 2.05 0.0 0.0 0.0 0\n",
      "[started] 7500 4.5 0.5 0.0 2.11 0.0 0.0 0.0 0\n",
      "[finished] 7500 4.5 -0.75 0.4 2.05 0.0 0.0 0.0 0\n",
      "[started] 7500 4.5 0.5 0.4 2.11 0.0 0.0 0.0 0\n",
      "[finished] 7500 4.5 -0.5 0.0 2.06 0.0 0.0 0.0 0\n",
      "[started] 7500 5.0 -1.0 0.0 1.97 0.0 0.0 0.0 0\n",
      "[finished] 7500 4.5 -0.5 0.4 2.06 0.0 0.0 0.0 0\n",
      "[started] 7500 5.0 -1.0 0.4 1.97 0.0 0.0 0.0 0\n",
      "[finished] 7500 4.5 -0.25 0.0 2.07 0.0 0.0 0.0 0\n",
      "[started] 7500 5.0 -0.75 0.0 1.98 0.0 0.0 0.0 0\n",
      "[finished] 7500 4.5 -0.25 0.4 2.07 0.0 0.0 0.0 0\n",
      "[started] 7500 5.0 -0.75 0.4 1.98 0.0 0.0 0.0 0\n",
      "[finished] 7500 4.5 0.0 0.4 2.08 0.0 0.0 0.0 0\n",
      "[finished] 7500 4.5 0.0 0.0 2.08[started] 0.0  0.0 75000.0  5.00 \n",
      "-0.5 0.0 1.98 0.0 0.0 0.0 0\n",
      "[started] 7500 5.0 -0.5 0.4 1.98 0.0 0.0 0.0 0\n",
      "[finished] 7500 4.5 0.25 0.0 2.09 0.0 0.0 0.0 0\n",
      "[started] 7500 5.0 -0.25 0.0 2.0 0.0 0.0 0.0 0\n",
      "[finished] 7500 4.5 0.25 0.4 2.09 0.0 0.0 0.0 0\n",
      "[started] 7500 5.0 -0.25 0.4 2.0 0.0 0.0 0.0 0\n",
      "[finished] 7500 4.5 0.5 0.0 2.11 0.0 0.0 0.0 0\n",
      "[started] 7500 5.0 0.0 0.0 2.01 0.0 0.0 0.0 0\n",
      "[finished] 7500 4.5 0.5 0.4 2.11 0.0 0.0 0.0 0\n",
      "[started] 7500 5.0 0.0 0.4 2.01 0.0 0.0 0.0 0\n",
      "[finished] 7500 5.0 -1.0 0.0 1.97 0.0 0.0 0.0 0\n",
      "[started] 7500 5.0 0.25 0.0 2.02 0.0 0.0 0.0 0\n",
      "[finished] 7500 5.0 -1.0 0.4 1.97 0.0 0.0 0.0 0\n",
      "[started] 7500 5.0 0.25 0.4 2.02 0.0 0.0 0.0 0\n",
      "[finished] 7500 5.0 -0.75 0.0 1.98 0.0 0.0 0.0 0\n",
      "[started] 7500 5.0 0.5 0.0 2.03 0.0 0.0 0.0 0\n",
      "[finished] 7500 5.0 -0.75 0.4 1.98 0.0 0.0 0.0 0\n",
      "[started] 7500 5.0 0.5 0.4 2.03 0.0 0.0 0.0 0\n",
      "[finished] 7500 5.0 -0.5 0.4 1.98 0.0 0.0 0.0 0\n",
      "[finished] 7500 5.0 -0.25 0.0 2.0 0.0 0.0 0.0 0\n",
      "[finished] 7500 5.0 -0.5 0.0 1.98 0.0 0.0 0.0 0\n",
      "[finished] 7500 5.0 -0.25 0.4 2.0 0.0 0.0 0.0 0\n",
      "[finished] 7500 5.0 0.0 0.0 2.01 0.0 0.0 0.0 0\n",
      "[finished] 7500 5.0 0.0 0.4 2.01 0.0 0.0 0.0 0\n",
      "[finished] 7500 5.0 0.25 0.0 2.02 0.0 0.0 0.0 0\n",
      "[finished] 7500 5.0 0.25 0.4 2.02 0.0 0.0 0.0 0\n",
      "[finished] 7500 5.0 0.5 0.0 2.03 0.0 0.0 0.0 0\n",
      "[finished] 7500 5.0 0.5 0.4 2.03 0.0 0.0 0.0 0\n",
      "Written ispecgrid_gaoes_turbospectrum//parameters.tsv\n",
      "Quick grid: 3500_3.00_-1.00_0.00_1.78_0.00_0.00_0.00.fits.gz\n",
      "Quick grid: 3500_3.00_-1.00_0.40_1.78_0.00_0.00_0.00.fits.gz\n",
      "Quick grid: 3500_3.00_-0.75_0.00_1.79_0.00_0.00_0.00.fits.gz\n",
      "Quick grid: 3500_3.00_-0.75_0.40_1.79_0.00_0.00_0.00.fits.gz\n",
      "Quick grid: 3500_3.00_-0.50_0.00_1.80_0.00_0.00_0.00.fits.gz\n",
      "Quick grid: 3500_3.00_-0.50_0.40_1.80_0.00_0.00_0.00.fits.gz\n",
      "Quick grid: 3500_3.00_-0.25_0.00_1.81_0.00_0.00_0.00.fits.gz\n",
      "Quick grid: 3500_3.00_-0.25_0.40_1.81_0.00_0.00_0.00.fits.gz\n",
      "Quick grid: 3500_3.00_0.00_0.00_1.82_0.00_0.00_0.00.fits.gz\n",
      "Quick grid: 3500_3.00_0.00_0.40_1.82_0.00_0.00_0.00.fits.gz\n",
      "Quick grid: 3500_3.00_0.25_0.00_1.84_0.00_0.00_0.00.fits.gz\n",
      "Quick grid: 3500_3.00_0.25_0.40_1.84_0.00_0.00_0.00.fits.gz\n",
      "Quick grid: 3500_3.00_0.50_0.00_1.85_0.00_0.00_0.00.fits.gz\n",
      "Quick grid: 3500_3.00_0.50_0.40_1.85_0.00_0.00_0.00.fits.gz\n",
      "Quick grid: 3500_3.50_-1.00_0.00_0.99_0.00_0.00_0.00.fits.gz\n",
      "Quick grid: 3500_3.50_-1.00_0.40_0.99_0.00_0.00_0.00.fits.gz\n",
      "Quick grid: 3500_3.50_-0.75_0.00_1.00_0.00_0.00_0.00.fits.gz\n",
      "Quick grid: 3500_3.50_-0.75_0.40_1.00_0.00_0.00_0.00.fits.gz\n",
      "Quick grid: 3500_3.50_-0.50_0.00_1.01_0.00_0.00_0.00.fits.gz\n",
      "Quick grid: 3500_3.50_-0.50_0.40_1.01_0.00_0.00_0.00.fits.gz\n",
      "Quick grid: 3500_3.50_-0.25_0.00_1.02_0.00_0.00_0.00.fits.gz\n",
      "Quick grid: 3500_3.50_-0.25_0.40_1.02_0.00_0.00_0.00.fits.gz\n",
      "Quick grid: 3500_3.50_0.00_0.00_1.03_0.00_0.00_0.00.fits.gz\n",
      "Quick grid: 3500_3.50_0.00_0.40_1.03_0.00_0.00_0.00.fits.gz\n",
      "Quick grid: 3500_3.50_0.25_0.00_1.04_0.00_0.00_0.00.fits.gz\n",
      "Quick grid: 3500_3.50_0.25_0.40_1.04_0.00_0.00_0.00.fits.gz\n",
      "Quick grid: 3500_3.50_0.50_0.00_1.06_0.00_0.00_0.00.fits.gz\n",
      "Quick grid: 3500_3.50_0.50_0.40_1.06_0.00_0.00_0.00.fits.gz\n",
      "Quick grid: 3500_4.00_-1.00_0.00_0.92_0.00_0.00_0.00.fits.gz\n",
      "Quick grid: 3500_4.00_-1.00_0.40_0.92_0.00_0.00_0.00.fits.gz\n",
      "Quick grid: 3500_4.00_-0.75_0.00_0.93_0.00_0.00_0.00.fits.gz\n",
      "Quick grid: 3500_4.00_-0.75_0.40_0.93_0.00_0.00_0.00.fits.gz\n",
      "Quick grid: 3500_4.00_-0.50_0.00_0.94_0.00_0.00_0.00.fits.gz\n",
      "Quick grid: 3500_4.00_-0.50_0.40_0.94_0.00_0.00_0.00.fits.gz\n",
      "Quick grid: 3500_4.00_-0.25_0.00_0.95_0.00_0.00_0.00.fits.gz\n",
      "Quick grid: 3500_4.00_-0.25_0.40_0.95_0.00_0.00_0.00.fits.gz\n",
      "Quick grid: 3500_4.00_0.00_0.00_0.96_0.00_0.00_0.00.fits.gz\n",
      "Quick grid: 3500_4.00_0.00_0.40_0.96_0.00_0.00_0.00.fits.gz\n",
      "Quick grid: 3500_4.00_0.25_0.00_0.98_0.00_0.00_0.00.fits.gz\n",
      "Quick grid: 3500_4.00_0.25_0.40_0.98_0.00_0.00_0.00.fits.gz\n",
      "Quick grid: 3500_4.00_0.50_0.00_0.99_0.00_0.00_0.00.fits.gz\n",
      "Quick grid: 3500_4.00_0.50_0.40_0.99_0.00_0.00_0.00.fits.gz\n",
      "Quick grid: 3500_4.50_-1.00_0.00_0.85_0.00_0.00_0.00.fits.gz\n",
      "Quick grid: 3500_4.50_-1.00_0.40_0.85_0.00_0.00_0.00.fits.gz\n",
      "Quick grid: 3500_4.50_-0.75_0.00_0.86_0.00_0.00_0.00.fits.gz\n",
      "Quick grid: 3500_4.50_-0.75_0.40_0.86_0.00_0.00_0.00.fits.gz\n",
      "Quick grid: 3500_4.50_-0.50_0.00_0.87_0.00_0.00_0.00.fits.gz\n",
      "Quick grid: 3500_4.50_-0.50_0.40_0.87_0.00_0.00_0.00.fits.gz\n",
      "Quick grid: 3500_4.50_-0.25_0.00_0.88_0.00_0.00_0.00.fits.gz\n",
      "Quick grid: 3500_4.50_-0.25_0.40_0.88_0.00_0.00_0.00.fits.gz\n",
      "Quick grid: 3500_4.50_0.00_0.00_0.89_0.00_0.00_0.00.fits.gz\n",
      "Quick grid: 3500_4.50_0.00_0.40_0.89_0.00_0.00_0.00.fits.gz\n",
      "Quick grid: 3500_4.50_0.25_0.00_0.90_0.00_0.00_0.00.fits.gz\n",
      "Quick grid: 3500_4.50_0.25_0.40_0.90_0.00_0.00_0.00.fits.gz\n",
      "Quick grid: 3500_4.50_0.50_0.00_0.92_0.00_0.00_0.00.fits.gz\n",
      "Quick grid: 3500_4.50_0.50_0.40_0.92_0.00_0.00_0.00.fits.gz\n",
      "Quick grid: 3500_5.00_-1.00_0.00_0.78_0.00_0.00_0.00.fits.gz\n",
      "Quick grid: 3500_5.00_-1.00_0.40_0.78_0.00_0.00_0.00.fits.gz\n",
      "Quick grid: 3500_5.00_-0.75_0.00_0.79_0.00_0.00_0.00.fits.gz\n",
      "Quick grid: 3500_5.00_-0.75_0.40_0.79_0.00_0.00_0.00.fits.gz\n",
      "Quick grid: 3500_5.00_-0.50_0.00_0.79_0.00_0.00_0.00.fits.gz\n",
      "Quick grid: 3500_5.00_-0.50_0.40_0.79_0.00_0.00_0.00.fits.gz\n",
      "Quick grid: 3500_5.00_-0.25_0.00_0.81_0.00_0.00_0.00.fits.gz\n",
      "Quick grid: 3500_5.00_-0.25_0.40_0.81_0.00_0.00_0.00.fits.gz\n",
      "Quick grid: 3500_5.00_0.00_0.00_0.82_0.00_0.00_0.00.fits.gz\n",
      "Quick grid: 3500_5.00_0.00_0.40_0.82_0.00_0.00_0.00.fits.gz\n",
      "Quick grid: 3500_5.00_0.25_0.00_0.83_0.00_0.00_0.00.fits.gz\n",
      "Quick grid: 3500_5.00_0.25_0.40_0.83_0.00_0.00_0.00.fits.gz\n",
      "Quick grid: 3500_5.00_0.50_0.00_0.84_0.00_0.00_0.00.fits.gz\n",
      "Quick grid: 3500_5.00_0.50_0.40_0.84_0.00_0.00_0.00.fits.gz\n",
      "Quick grid: 3750_3.00_-1.00_0.00_1.59_0.00_0.00_0.00.fits.gz\n",
      "Quick grid: 3750_3.00_-1.00_0.40_1.59_0.00_0.00_0.00.fits.gz\n",
      "Quick grid: 3750_3.00_-0.75_0.00_1.60_0.00_0.00_0.00.fits.gz\n",
      "Quick grid: 3750_3.00_-0.75_0.40_1.60_0.00_0.00_0.00.fits.gz\n",
      "Quick grid: 3750_3.00_-0.50_0.00_1.61_0.00_0.00_0.00.fits.gz\n",
      "Quick grid: 3750_3.00_-0.50_0.40_1.61_0.00_0.00_0.00.fits.gz\n",
      "Quick grid: 3750_3.00_-0.25_0.00_1.62_0.00_0.00_0.00.fits.gz\n",
      "Quick grid: 3750_3.00_-0.25_0.40_1.62_0.00_0.00_0.00.fits.gz\n",
      "Quick grid: 3750_3.00_0.00_0.00_1.63_0.00_0.00_0.00.fits.gz\n",
      "Quick grid: 3750_3.00_0.00_0.40_1.63_0.00_0.00_0.00.fits.gz\n",
      "Quick grid: 3750_3.00_0.25_0.00_1.65_0.00_0.00_0.00.fits.gz\n",
      "Quick grid: 3750_3.00_0.25_0.40_1.65_0.00_0.00_0.00.fits.gz\n",
      "Quick grid: 3750_3.00_0.50_0.00_1.66_0.00_0.00_0.00.fits.gz\n",
      "Quick grid: 3750_3.00_0.50_0.40_1.66_0.00_0.00_0.00.fits.gz\n",
      "Quick grid: 3750_3.50_-1.00_0.00_0.99_0.00_0.00_0.00.fits.gz\n",
      "Quick grid: 3750_3.50_-1.00_0.40_0.99_0.00_0.00_0.00.fits.gz\n",
      "Quick grid: 3750_3.50_-0.75_0.00_1.00_0.00_0.00_0.00.fits.gz\n",
      "Quick grid: 3750_3.50_-0.75_0.40_1.00_0.00_0.00_0.00.fits.gz\n",
      "Quick grid: 3750_3.50_-0.50_0.00_1.01_0.00_0.00_0.00.fits.gz\n",
      "Quick grid: 3750_3.50_-0.50_0.40_1.01_0.00_0.00_0.00.fits.gz\n",
      "Quick grid: 3750_3.50_-0.25_0.00_1.02_0.00_0.00_0.00.fits.gz\n",
      "Quick grid: 3750_3.50_-0.25_0.40_1.02_0.00_0.00_0.00.fits.gz\n",
      "Quick grid: 3750_3.50_0.00_0.00_1.03_0.00_0.00_0.00.fits.gz\n",
      "Quick grid: 3750_3.50_0.00_0.40_1.03_0.00_0.00_0.00.fits.gz\n",
      "Quick grid: 3750_3.50_0.25_0.00_1.04_0.00_0.00_0.00.fits.gz\n",
      "Quick grid: 3750_3.50_0.25_0.40_1.04_0.00_0.00_0.00.fits.gz\n",
      "Quick grid: 3750_3.50_0.50_0.00_1.06_0.00_0.00_0.00.fits.gz\n",
      "Quick grid: 3750_3.50_0.50_0.40_1.06_0.00_0.00_0.00.fits.gz\n",
      "Quick grid: 3750_4.00_-1.00_0.00_0.92_0.00_0.00_0.00.fits.gz\n",
      "Quick grid: 3750_4.00_-1.00_0.40_0.92_0.00_0.00_0.00.fits.gz\n",
      "Quick grid: 3750_4.00_-0.75_0.00_0.93_0.00_0.00_0.00.fits.gz\n",
      "Quick grid: 3750_4.00_-0.75_0.40_0.93_0.00_0.00_0.00.fits.gz\n",
      "Quick grid: 3750_4.00_-0.50_0.00_0.94_0.00_0.00_0.00.fits.gz\n",
      "Quick grid: 3750_4.00_-0.50_0.40_0.94_0.00_0.00_0.00.fits.gz\n",
      "Quick grid: 3750_4.00_-0.25_0.00_0.95_0.00_0.00_0.00.fits.gz\n",
      "Quick grid: 3750_4.00_-0.25_0.40_0.95_0.00_0.00_0.00.fits.gz\n",
      "Quick grid: 3750_4.00_0.00_0.00_0.96_0.00_0.00_0.00.fits.gz\n",
      "Quick grid: 3750_4.00_0.00_0.40_0.96_0.00_0.00_0.00.fits.gz\n",
      "Quick grid: 3750_4.00_0.25_0.00_0.98_0.00_0.00_0.00.fits.gz\n",
      "Quick grid: 3750_4.00_0.25_0.40_0.98_0.00_0.00_0.00.fits.gz\n",
      "Quick grid: 3750_4.00_0.50_0.00_0.99_0.00_0.00_0.00.fits.gz\n",
      "Quick grid: 3750_4.00_0.50_0.40_0.99_0.00_0.00_0.00.fits.gz\n",
      "Quick grid: 3750_4.50_-1.00_0.00_0.85_0.00_0.00_0.00.fits.gz\n",
      "Quick grid: 3750_4.50_-1.00_0.40_0.85_0.00_0.00_0.00.fits.gz\n",
      "Quick grid: 3750_4.50_-0.75_0.00_0.86_0.00_0.00_0.00.fits.gz\n",
      "Quick grid: 3750_4.50_-0.75_0.40_0.86_0.00_0.00_0.00.fits.gz\n",
      "Quick grid: 3750_4.50_-0.50_0.00_0.87_0.00_0.00_0.00.fits.gz\n",
      "Quick grid: 3750_4.50_-0.50_0.40_0.87_0.00_0.00_0.00.fits.gz\n",
      "Quick grid: 3750_4.50_-0.25_0.00_0.88_0.00_0.00_0.00.fits.gz\n",
      "Quick grid: 3750_4.50_-0.25_0.40_0.88_0.00_0.00_0.00.fits.gz\n",
      "Quick grid: 3750_4.50_0.00_0.00_0.89_0.00_0.00_0.00.fits.gz\n",
      "Quick grid: 3750_4.50_0.00_0.40_0.89_0.00_0.00_0.00.fits.gz\n",
      "Quick grid: 3750_4.50_0.25_0.00_0.90_0.00_0.00_0.00.fits.gz\n",
      "Quick grid: 3750_4.50_0.25_0.40_0.90_0.00_0.00_0.00.fits.gz\n",
      "Quick grid: 3750_4.50_0.50_0.00_0.92_0.00_0.00_0.00.fits.gz\n",
      "Quick grid: 3750_4.50_0.50_0.40_0.92_0.00_0.00_0.00.fits.gz\n",
      "Quick grid: 3750_5.00_-1.00_0.00_0.78_0.00_0.00_0.00.fits.gz\n",
      "Quick grid: 3750_5.00_-1.00_0.40_0.78_0.00_0.00_0.00.fits.gz\n",
      "Quick grid: 3750_5.00_-0.75_0.00_0.79_0.00_0.00_0.00.fits.gz\n",
      "Quick grid: 3750_5.00_-0.75_0.40_0.79_0.00_0.00_0.00.fits.gz\n",
      "Quick grid: 3750_5.00_-0.50_0.00_0.79_0.00_0.00_0.00.fits.gz\n",
      "Quick grid: 3750_5.00_-0.50_0.40_0.79_0.00_0.00_0.00.fits.gz\n",
      "Quick grid: 3750_5.00_-0.25_0.00_0.81_0.00_0.00_0.00.fits.gz\n",
      "Quick grid: 3750_5.00_-0.25_0.40_0.81_0.00_0.00_0.00.fits.gz\n",
      "Quick grid: 3750_5.00_0.00_0.00_0.82_0.00_0.00_0.00.fits.gz\n",
      "Quick grid: 3750_5.00_0.00_0.40_0.82_0.00_0.00_0.00.fits.gz\n",
      "Quick grid: 3750_5.00_0.25_0.00_0.83_0.00_0.00_0.00.fits.gz\n",
      "Quick grid: 3750_5.00_0.25_0.40_0.83_0.00_0.00_0.00.fits.gz\n",
      "Quick grid: 3750_5.00_0.50_0.00_0.84_0.00_0.00_0.00.fits.gz\n",
      "Quick grid: 3750_5.00_0.50_0.40_0.84_0.00_0.00_0.00.fits.gz\n",
      "Quick grid: 4000_3.00_-1.00_0.00_1.44_0.00_0.00_0.00.fits.gz\n",
      "Quick grid: 4000_3.00_-1.00_0.40_1.44_0.00_0.00_0.00.fits.gz\n",
      "Quick grid: 4000_3.00_-0.75_0.00_1.45_0.00_0.00_0.00.fits.gz\n",
      "Quick grid: 4000_3.00_-0.75_0.40_1.45_0.00_0.00_0.00.fits.gz\n",
      "Quick grid: 4000_3.00_-0.50_0.00_1.46_0.00_0.00_0.00.fits.gz\n",
      "Quick grid: 4000_3.00_-0.50_0.40_1.46_0.00_0.00_0.00.fits.gz\n",
      "Quick grid: 4000_3.00_-0.25_0.00_1.47_0.00_0.00_0.00.fits.gz\n",
      "Quick grid: 4000_3.00_-0.25_0.40_1.47_0.00_0.00_0.00.fits.gz\n",
      "Quick grid: 4000_3.00_0.00_0.00_1.48_0.00_0.00_0.00.fits.gz\n",
      "Quick grid: 4000_3.00_0.00_0.40_1.48_0.00_0.00_0.00.fits.gz\n",
      "Quick grid: 4000_3.00_0.25_0.00_1.49_0.00_0.00_0.00.fits.gz\n",
      "Quick grid: 4000_3.00_0.25_0.40_1.49_0.00_0.00_0.00.fits.gz\n",
      "Quick grid: 4000_3.00_0.50_0.00_1.51_0.00_0.00_0.00.fits.gz\n",
      "Quick grid: 4000_3.00_0.50_0.40_1.51_0.00_0.00_0.00.fits.gz\n",
      "Quick grid: 4000_3.50_-1.00_0.00_0.99_0.00_0.00_0.00.fits.gz\n",
      "Quick grid: 4000_3.50_-1.00_0.40_0.99_0.00_0.00_0.00.fits.gz\n",
      "Quick grid: 4000_3.50_-0.75_0.00_1.00_0.00_0.00_0.00.fits.gz\n",
      "Quick grid: 4000_3.50_-0.75_0.40_1.00_0.00_0.00_0.00.fits.gz\n",
      "Quick grid: 4000_3.50_-0.50_0.00_1.01_0.00_0.00_0.00.fits.gz\n",
      "Quick grid: 4000_3.50_-0.50_0.40_1.01_0.00_0.00_0.00.fits.gz\n",
      "Quick grid: 4000_3.50_-0.25_0.00_1.02_0.00_0.00_0.00.fits.gz\n",
      "Quick grid: 4000_3.50_-0.25_0.40_1.02_0.00_0.00_0.00.fits.gz\n",
      "Quick grid: 4000_3.50_0.00_0.00_1.03_0.00_0.00_0.00.fits.gz\n",
      "Quick grid: 4000_3.50_0.00_0.40_1.03_0.00_0.00_0.00.fits.gz\n",
      "Quick grid: 4000_3.50_0.25_0.00_1.04_0.00_0.00_0.00.fits.gz\n",
      "Quick grid: 4000_3.50_0.25_0.40_1.04_0.00_0.00_0.00.fits.gz\n",
      "Quick grid: 4000_3.50_0.50_0.00_1.06_0.00_0.00_0.00.fits.gz\n",
      "Quick grid: 4000_3.50_0.50_0.40_1.06_0.00_0.00_0.00.fits.gz\n",
      "Quick grid: 4000_4.00_-1.00_0.00_0.92_0.00_0.00_0.00.fits.gz\n",
      "Quick grid: 4000_4.00_-1.00_0.40_0.92_0.00_0.00_0.00.fits.gz\n",
      "Quick grid: 4000_4.00_-0.75_0.00_0.93_0.00_0.00_0.00.fits.gz\n",
      "Quick grid: 4000_4.00_-0.75_0.40_0.93_0.00_0.00_0.00.fits.gz\n",
      "Quick grid: 4000_4.00_-0.50_0.00_0.94_0.00_0.00_0.00.fits.gz\n",
      "Quick grid: 4000_4.00_-0.50_0.40_0.94_0.00_0.00_0.00.fits.gz\n",
      "Quick grid: 4000_4.00_-0.25_0.00_0.95_0.00_0.00_0.00.fits.gz\n",
      "Quick grid: 4000_4.00_-0.25_0.40_0.95_0.00_0.00_0.00.fits.gz\n",
      "Quick grid: 4000_4.00_0.00_0.00_0.96_0.00_0.00_0.00.fits.gz\n",
      "Quick grid: 4000_4.00_0.00_0.40_0.96_0.00_0.00_0.00.fits.gz\n",
      "Quick grid: 4000_4.00_0.25_0.00_0.98_0.00_0.00_0.00.fits.gz\n",
      "Quick grid: 4000_4.00_0.25_0.40_0.98_0.00_0.00_0.00.fits.gz\n",
      "Quick grid: 4000_4.00_0.50_0.00_0.99_0.00_0.00_0.00.fits.gz\n",
      "Quick grid: 4000_4.00_0.50_0.40_0.99_0.00_0.00_0.00.fits.gz\n",
      "Quick grid: 4000_4.50_-1.00_0.00_0.85_0.00_0.00_0.00.fits.gz\n",
      "Quick grid: 4000_4.50_-1.00_0.40_0.85_0.00_0.00_0.00.fits.gz\n",
      "Quick grid: 4000_4.50_-0.75_0.00_0.86_0.00_0.00_0.00.fits.gz\n",
      "Quick grid: 4000_4.50_-0.75_0.40_0.86_0.00_0.00_0.00.fits.gz\n",
      "Quick grid: 4000_4.50_-0.50_0.00_0.87_0.00_0.00_0.00.fits.gz\n",
      "Quick grid: 4000_4.50_-0.50_0.40_0.87_0.00_0.00_0.00.fits.gz\n",
      "Quick grid: 4000_4.50_-0.25_0.00_0.88_0.00_0.00_0.00.fits.gz\n",
      "Quick grid: 4000_4.50_-0.25_0.40_0.88_0.00_0.00_0.00.fits.gz\n",
      "Quick grid: 4000_4.50_0.00_0.00_0.89_0.00_0.00_0.00.fits.gz\n",
      "Quick grid: 4000_4.50_0.00_0.40_0.89_0.00_0.00_0.00.fits.gz\n",
      "Quick grid: 4000_4.50_0.25_0.00_0.90_0.00_0.00_0.00.fits.gz\n",
      "Quick grid: 4000_4.50_0.25_0.40_0.90_0.00_0.00_0.00.fits.gz\n",
      "Quick grid: 4000_4.50_0.50_0.00_0.92_0.00_0.00_0.00.fits.gz\n",
      "Quick grid: 4000_4.50_0.50_0.40_0.92_0.00_0.00_0.00.fits.gz\n",
      "Quick grid: 4000_5.00_-1.00_0.00_0.78_0.00_0.00_0.00.fits.gz\n",
      "Quick grid: 4000_5.00_-1.00_0.40_0.78_0.00_0.00_0.00.fits.gz\n",
      "Quick grid: 4000_5.00_-0.75_0.00_0.79_0.00_0.00_0.00.fits.gz\n",
      "Quick grid: 4000_5.00_-0.75_0.40_0.79_0.00_0.00_0.00.fits.gz\n",
      "Quick grid: 4000_5.00_-0.50_0.00_0.79_0.00_0.00_0.00.fits.gz\n",
      "Quick grid: 4000_5.00_-0.50_0.40_0.79_0.00_0.00_0.00.fits.gz\n",
      "Quick grid: 4000_5.00_-0.25_0.00_0.81_0.00_0.00_0.00.fits.gz\n",
      "Quick grid: 4000_5.00_-0.25_0.40_0.81_0.00_0.00_0.00.fits.gz\n",
      "Quick grid: 4000_5.00_0.00_0.00_0.82_0.00_0.00_0.00.fits.gz\n",
      "Quick grid: 4000_5.00_0.00_0.40_0.82_0.00_0.00_0.00.fits.gz\n",
      "Quick grid: 4000_5.00_0.25_0.00_0.83_0.00_0.00_0.00.fits.gz\n",
      "Quick grid: 4000_5.00_0.25_0.40_0.83_0.00_0.00_0.00.fits.gz\n",
      "Quick grid: 4000_5.00_0.50_0.00_0.84_0.00_0.00_0.00.fits.gz\n",
      "Quick grid: 4000_5.00_0.50_0.40_0.84_0.00_0.00_0.00.fits.gz\n",
      "Quick grid: 4250_3.00_-1.00_0.00_1.33_0.00_0.00_0.00.fits.gz\n",
      "Quick grid: 4250_3.00_-1.00_0.40_1.33_0.00_0.00_0.00.fits.gz\n",
      "Quick grid: 4250_3.00_-0.75_0.00_1.34_0.00_0.00_0.00.fits.gz\n",
      "Quick grid: 4250_3.00_-0.75_0.40_1.34_0.00_0.00_0.00.fits.gz\n",
      "Quick grid: 4250_3.00_-0.50_0.00_1.35_0.00_0.00_0.00.fits.gz\n",
      "Quick grid: 4250_3.00_-0.50_0.40_1.35_0.00_0.00_0.00.fits.gz\n",
      "Quick grid: 4250_3.00_-0.25_0.00_1.36_0.00_0.00_0.00.fits.gz\n",
      "Quick grid: 4250_3.00_-0.25_0.40_1.36_0.00_0.00_0.00.fits.gz\n",
      "Quick grid: 4250_3.00_0.00_0.00_1.37_0.00_0.00_0.00.fits.gz\n",
      "Quick grid: 4250_3.00_0.00_0.40_1.37_0.00_0.00_0.00.fits.gz\n",
      "Quick grid: 4250_3.00_0.25_0.00_1.38_0.00_0.00_0.00.fits.gz\n",
      "Quick grid: 4250_3.00_0.25_0.40_1.38_0.00_0.00_0.00.fits.gz\n",
      "Quick grid: 4250_3.00_0.50_0.00_1.40_0.00_0.00_0.00.fits.gz\n",
      "Quick grid: 4250_3.00_0.50_0.40_1.40_0.00_0.00_0.00.fits.gz\n",
      "Quick grid: 4250_3.50_-1.00_0.00_0.99_0.00_0.00_0.00.fits.gz\n",
      "Quick grid: 4250_3.50_-1.00_0.40_0.99_0.00_0.00_0.00.fits.gz\n",
      "Quick grid: 4250_3.50_-0.75_0.00_1.00_0.00_0.00_0.00.fits.gz\n",
      "Quick grid: 4250_3.50_-0.75_0.40_1.00_0.00_0.00_0.00.fits.gz\n",
      "Quick grid: 4250_3.50_-0.50_0.00_1.01_0.00_0.00_0.00.fits.gz\n",
      "Quick grid: 4250_3.50_-0.50_0.40_1.01_0.00_0.00_0.00.fits.gz\n",
      "Quick grid: 4250_3.50_-0.25_0.00_1.02_0.00_0.00_0.00.fits.gz\n",
      "Quick grid: 4250_3.50_-0.25_0.40_1.02_0.00_0.00_0.00.fits.gz\n",
      "Quick grid: 4250_3.50_0.00_0.00_1.03_0.00_0.00_0.00.fits.gz\n",
      "Quick grid: 4250_3.50_0.00_0.40_1.03_0.00_0.00_0.00.fits.gz\n",
      "Quick grid: 4250_3.50_0.25_0.00_1.04_0.00_0.00_0.00.fits.gz\n",
      "Quick grid: 4250_3.50_0.25_0.40_1.04_0.00_0.00_0.00.fits.gz\n",
      "Quick grid: 4250_3.50_0.50_0.00_1.06_0.00_0.00_0.00.fits.gz\n",
      "Quick grid: 4250_3.50_0.50_0.40_1.06_0.00_0.00_0.00.fits.gz\n",
      "Quick grid: 4250_4.00_-1.00_0.00_0.92_0.00_0.00_0.00.fits.gz\n",
      "Quick grid: 4250_4.00_-1.00_0.40_0.92_0.00_0.00_0.00.fits.gz\n",
      "Quick grid: 4250_4.00_-0.75_0.00_0.93_0.00_0.00_0.00.fits.gz\n",
      "Quick grid: 4250_4.00_-0.75_0.40_0.93_0.00_0.00_0.00.fits.gz\n",
      "Quick grid: 4250_4.00_-0.50_0.00_0.94_0.00_0.00_0.00.fits.gz\n",
      "Quick grid: 4250_4.00_-0.50_0.40_0.94_0.00_0.00_0.00.fits.gz\n",
      "Quick grid: 4250_4.00_-0.25_0.00_0.95_0.00_0.00_0.00.fits.gz\n",
      "Quick grid: 4250_4.00_-0.25_0.40_0.95_0.00_0.00_0.00.fits.gz\n",
      "Quick grid: 4250_4.00_0.00_0.00_0.96_0.00_0.00_0.00.fits.gz\n",
      "Quick grid: 4250_4.00_0.00_0.40_0.96_0.00_0.00_0.00.fits.gz\n",
      "Quick grid: 4250_4.00_0.25_0.00_0.98_0.00_0.00_0.00.fits.gz\n",
      "Quick grid: 4250_4.00_0.25_0.40_0.98_0.00_0.00_0.00.fits.gz\n",
      "Quick grid: 4250_4.00_0.50_0.00_0.99_0.00_0.00_0.00.fits.gz\n",
      "Quick grid: 4250_4.00_0.50_0.40_0.99_0.00_0.00_0.00.fits.gz\n",
      "Quick grid: 4250_4.50_-1.00_0.00_0.85_0.00_0.00_0.00.fits.gz\n",
      "Quick grid: 4250_4.50_-1.00_0.40_0.85_0.00_0.00_0.00.fits.gz\n",
      "Quick grid: 4250_4.50_-0.75_0.00_0.86_0.00_0.00_0.00.fits.gz\n",
      "Quick grid: 4250_4.50_-0.75_0.40_0.86_0.00_0.00_0.00.fits.gz\n",
      "Quick grid: 4250_4.50_-0.50_0.00_0.87_0.00_0.00_0.00.fits.gz\n",
      "Quick grid: 4250_4.50_-0.50_0.40_0.87_0.00_0.00_0.00.fits.gz\n",
      "Quick grid: 4250_4.50_-0.25_0.00_0.88_0.00_0.00_0.00.fits.gz\n",
      "Quick grid: 4250_4.50_-0.25_0.40_0.88_0.00_0.00_0.00.fits.gz\n",
      "Quick grid: 4250_4.50_0.00_0.00_0.89_0.00_0.00_0.00.fits.gz\n",
      "Quick grid: 4250_4.50_0.00_0.40_0.89_0.00_0.00_0.00.fits.gz\n",
      "Quick grid: 4250_4.50_0.25_0.00_0.90_0.00_0.00_0.00.fits.gz\n",
      "Quick grid: 4250_4.50_0.25_0.40_0.90_0.00_0.00_0.00.fits.gz\n",
      "Quick grid: 4250_4.50_0.50_0.00_0.92_0.00_0.00_0.00.fits.gz\n",
      "Quick grid: 4250_4.50_0.50_0.40_0.92_0.00_0.00_0.00.fits.gz\n",
      "Quick grid: 4250_5.00_-1.00_0.00_0.78_0.00_0.00_0.00.fits.gz\n",
      "Quick grid: 4250_5.00_-1.00_0.40_0.78_0.00_0.00_0.00.fits.gz\n",
      "Quick grid: 4250_5.00_-0.75_0.00_0.79_0.00_0.00_0.00.fits.gz\n",
      "Quick grid: 4250_5.00_-0.75_0.40_0.79_0.00_0.00_0.00.fits.gz\n",
      "Quick grid: 4250_5.00_-0.50_0.00_0.79_0.00_0.00_0.00.fits.gz\n",
      "Quick grid: 4250_5.00_-0.50_0.40_0.79_0.00_0.00_0.00.fits.gz\n",
      "Quick grid: 4250_5.00_-0.25_0.00_0.81_0.00_0.00_0.00.fits.gz\n",
      "Quick grid: 4250_5.00_-0.25_0.40_0.81_0.00_0.00_0.00.fits.gz\n",
      "Quick grid: 4250_5.00_0.00_0.00_0.82_0.00_0.00_0.00.fits.gz\n",
      "Quick grid: 4250_5.00_0.00_0.40_0.82_0.00_0.00_0.00.fits.gz\n",
      "Quick grid: 4250_5.00_0.25_0.00_0.83_0.00_0.00_0.00.fits.gz\n",
      "Quick grid: 4250_5.00_0.25_0.40_0.83_0.00_0.00_0.00.fits.gz\n",
      "Quick grid: 4250_5.00_0.50_0.00_0.84_0.00_0.00_0.00.fits.gz\n",
      "Quick grid: 4250_5.00_0.50_0.40_0.84_0.00_0.00_0.00.fits.gz\n",
      "Quick grid: 4500_3.00_-1.00_0.00_1.25_0.00_0.00_0.00.fits.gz\n",
      "Quick grid: 4500_3.00_-1.00_0.40_1.25_0.00_0.00_0.00.fits.gz\n",
      "Quick grid: 4500_3.00_-0.75_0.00_1.26_0.00_0.00_0.00.fits.gz\n",
      "Quick grid: 4500_3.00_-0.75_0.40_1.26_0.00_0.00_0.00.fits.gz\n",
      "Quick grid: 4500_3.00_-0.50_0.00_1.27_0.00_0.00_0.00.fits.gz\n",
      "Quick grid: 4500_3.00_-0.50_0.40_1.27_0.00_0.00_0.00.fits.gz\n",
      "Quick grid: 4500_3.00_-0.25_0.00_1.28_0.00_0.00_0.00.fits.gz\n",
      "Quick grid: 4500_3.00_-0.25_0.40_1.28_0.00_0.00_0.00.fits.gz\n",
      "Quick grid: 4500_3.00_0.00_0.00_1.29_0.00_0.00_0.00.fits.gz\n",
      "Quick grid: 4500_3.00_0.00_0.40_1.29_0.00_0.00_0.00.fits.gz\n",
      "Quick grid: 4500_3.00_0.25_0.00_1.31_0.00_0.00_0.00.fits.gz\n",
      "Quick grid: 4500_3.00_0.25_0.40_1.31_0.00_0.00_0.00.fits.gz\n",
      "Quick grid: 4500_3.00_0.50_0.00_1.32_0.00_0.00_0.00.fits.gz\n",
      "Quick grid: 4500_3.00_0.50_0.40_1.32_0.00_0.00_0.00.fits.gz\n",
      "Quick grid: 4500_3.50_-1.00_0.00_0.99_0.00_0.00_0.00.fits.gz\n",
      "Quick grid: 4500_3.50_-1.00_0.40_0.99_0.00_0.00_0.00.fits.gz\n",
      "Quick grid: 4500_3.50_-0.75_0.00_1.00_0.00_0.00_0.00.fits.gz\n",
      "Quick grid: 4500_3.50_-0.75_0.40_1.00_0.00_0.00_0.00.fits.gz\n",
      "Quick grid: 4500_3.50_-0.50_0.00_1.01_0.00_0.00_0.00.fits.gz\n",
      "Quick grid: 4500_3.50_-0.50_0.40_1.01_0.00_0.00_0.00.fits.gz\n",
      "Quick grid: 4500_3.50_-0.25_0.00_1.02_0.00_0.00_0.00.fits.gz\n",
      "Quick grid: 4500_3.50_-0.25_0.40_1.02_0.00_0.00_0.00.fits.gz\n",
      "Quick grid: 4500_3.50_0.00_0.00_1.03_0.00_0.00_0.00.fits.gz\n",
      "Quick grid: 4500_3.50_0.00_0.40_1.03_0.00_0.00_0.00.fits.gz\n",
      "Quick grid: 4500_3.50_0.25_0.00_1.04_0.00_0.00_0.00.fits.gz\n",
      "Quick grid: 4500_3.50_0.25_0.40_1.04_0.00_0.00_0.00.fits.gz\n",
      "Quick grid: 4500_3.50_0.50_0.00_1.06_0.00_0.00_0.00.fits.gz\n",
      "Quick grid: 4500_3.50_0.50_0.40_1.06_0.00_0.00_0.00.fits.gz\n",
      "Quick grid: 4500_4.00_-1.00_0.00_0.92_0.00_0.00_0.00.fits.gz\n",
      "Quick grid: 4500_4.00_-1.00_0.40_0.92_0.00_0.00_0.00.fits.gz\n",
      "Quick grid: 4500_4.00_-0.75_0.00_0.93_0.00_0.00_0.00.fits.gz\n",
      "Quick grid: 4500_4.00_-0.75_0.40_0.93_0.00_0.00_0.00.fits.gz\n",
      "Quick grid: 4500_4.00_-0.50_0.00_0.94_0.00_0.00_0.00.fits.gz\n",
      "Quick grid: 4500_4.00_-0.50_0.40_0.94_0.00_0.00_0.00.fits.gz\n",
      "Quick grid: 4500_4.00_-0.25_0.00_0.95_0.00_0.00_0.00.fits.gz\n",
      "Quick grid: 4500_4.00_-0.25_0.40_0.95_0.00_0.00_0.00.fits.gz\n",
      "Quick grid: 4500_4.00_0.00_0.00_0.96_0.00_0.00_0.00.fits.gz\n",
      "Quick grid: 4500_4.00_0.00_0.40_0.96_0.00_0.00_0.00.fits.gz\n",
      "Quick grid: 4500_4.00_0.25_0.00_0.98_0.00_0.00_0.00.fits.gz\n",
      "Quick grid: 4500_4.00_0.25_0.40_0.98_0.00_0.00_0.00.fits.gz\n",
      "Quick grid: 4500_4.00_0.50_0.00_0.99_0.00_0.00_0.00.fits.gz\n",
      "Quick grid: 4500_4.00_0.50_0.40_0.99_0.00_0.00_0.00.fits.gz\n",
      "Quick grid: 4500_4.50_-1.00_0.00_0.85_0.00_0.00_0.00.fits.gz\n",
      "Quick grid: 4500_4.50_-1.00_0.40_0.85_0.00_0.00_0.00.fits.gz\n",
      "Quick grid: 4500_4.50_-0.75_0.00_0.86_0.00_0.00_0.00.fits.gz\n",
      "Quick grid: 4500_4.50_-0.75_0.40_0.86_0.00_0.00_0.00.fits.gz\n",
      "Quick grid: 4500_4.50_-0.50_0.00_0.87_0.00_0.00_0.00.fits.gz\n",
      "Quick grid: 4500_4.50_-0.50_0.40_0.87_0.00_0.00_0.00.fits.gz\n",
      "Quick grid: 4500_4.50_-0.25_0.00_0.88_0.00_0.00_0.00.fits.gz\n",
      "Quick grid: 4500_4.50_-0.25_0.40_0.88_0.00_0.00_0.00.fits.gz\n",
      "Quick grid: 4500_4.50_0.00_0.00_0.89_0.00_0.00_0.00.fits.gz\n",
      "Quick grid: 4500_4.50_0.00_0.40_0.89_0.00_0.00_0.00.fits.gz\n",
      "Quick grid: 4500_4.50_0.25_0.00_0.90_0.00_0.00_0.00.fits.gz\n",
      "Quick grid: 4500_4.50_0.25_0.40_0.90_0.00_0.00_0.00.fits.gz\n",
      "Quick grid: 4500_4.50_0.50_0.00_0.92_0.00_0.00_0.00.fits.gz\n",
      "Quick grid: 4500_4.50_0.50_0.40_0.92_0.00_0.00_0.00.fits.gz\n",
      "Quick grid: 4500_5.00_-1.00_0.00_0.78_0.00_0.00_0.00.fits.gz\n",
      "Quick grid: 4500_5.00_-1.00_0.40_0.78_0.00_0.00_0.00.fits.gz\n",
      "Quick grid: 4500_5.00_-0.75_0.00_0.79_0.00_0.00_0.00.fits.gz\n",
      "Quick grid: 4500_5.00_-0.75_0.40_0.79_0.00_0.00_0.00.fits.gz\n",
      "Quick grid: 4500_5.00_-0.50_0.00_0.79_0.00_0.00_0.00.fits.gz\n",
      "Quick grid: 4500_5.00_-0.50_0.40_0.79_0.00_0.00_0.00.fits.gz\n",
      "Quick grid: 4500_5.00_-0.25_0.00_0.81_0.00_0.00_0.00.fits.gz\n",
      "Quick grid: 4500_5.00_-0.25_0.40_0.81_0.00_0.00_0.00.fits.gz\n",
      "Quick grid: 4500_5.00_0.00_0.00_0.82_0.00_0.00_0.00.fits.gz\n",
      "Quick grid: 4500_5.00_0.00_0.40_0.82_0.00_0.00_0.00.fits.gz\n",
      "Quick grid: 4500_5.00_0.25_0.00_0.83_0.00_0.00_0.00.fits.gz\n",
      "Quick grid: 4500_5.00_0.25_0.40_0.83_0.00_0.00_0.00.fits.gz\n",
      "Quick grid: 4500_5.00_0.50_0.00_0.84_0.00_0.00_0.00.fits.gz\n",
      "Quick grid: 4500_5.00_0.50_0.40_0.84_0.00_0.00_0.00.fits.gz\n",
      "Quick grid: 4750_3.00_-1.00_0.00_1.22_0.00_0.00_0.00.fits.gz\n",
      "Quick grid: 4750_3.00_-1.00_0.40_1.22_0.00_0.00_0.00.fits.gz\n",
      "Quick grid: 4750_3.00_-0.75_0.00_1.23_0.00_0.00_0.00.fits.gz\n",
      "Quick grid: 4750_3.00_-0.75_0.40_1.23_0.00_0.00_0.00.fits.gz\n",
      "Quick grid: 4750_3.00_-0.50_0.00_1.24_0.00_0.00_0.00.fits.gz\n",
      "Quick grid: 4750_3.00_-0.50_0.40_1.24_0.00_0.00_0.00.fits.gz\n",
      "Quick grid: 4750_3.00_-0.25_0.00_1.25_0.00_0.00_0.00.fits.gz\n",
      "Quick grid: 4750_3.00_-0.25_0.40_1.25_0.00_0.00_0.00.fits.gz\n",
      "Quick grid: 4750_3.00_0.00_0.00_1.26_0.00_0.00_0.00.fits.gz\n",
      "Quick grid: 4750_3.00_0.00_0.40_1.26_0.00_0.00_0.00.fits.gz\n",
      "Quick grid: 4750_3.00_0.25_0.00_1.27_0.00_0.00_0.00.fits.gz\n",
      "Quick grid: 4750_3.00_0.25_0.40_1.27_0.00_0.00_0.00.fits.gz\n",
      "Quick grid: 4750_3.00_0.50_0.00_1.29_0.00_0.00_0.00.fits.gz\n",
      "Quick grid: 4750_3.00_0.50_0.40_1.29_0.00_0.00_0.00.fits.gz\n",
      "Quick grid: 4750_3.50_-1.00_0.00_0.99_0.00_0.00_0.00.fits.gz\n",
      "Quick grid: 4750_3.50_-1.00_0.40_0.99_0.00_0.00_0.00.fits.gz\n",
      "Quick grid: 4750_3.50_-0.75_0.00_1.00_0.00_0.00_0.00.fits.gz\n",
      "Quick grid: 4750_3.50_-0.75_0.40_1.00_0.00_0.00_0.00.fits.gz\n",
      "Quick grid: 4750_3.50_-0.50_0.00_1.01_0.00_0.00_0.00.fits.gz\n",
      "Quick grid: 4750_3.50_-0.50_0.40_1.01_0.00_0.00_0.00.fits.gz\n",
      "Quick grid: 4750_3.50_-0.25_0.00_1.02_0.00_0.00_0.00.fits.gz\n",
      "Quick grid: 4750_3.50_-0.25_0.40_1.02_0.00_0.00_0.00.fits.gz\n",
      "Quick grid: 4750_3.50_0.00_0.00_1.03_0.00_0.00_0.00.fits.gz\n",
      "Quick grid: 4750_3.50_0.00_0.40_1.03_0.00_0.00_0.00.fits.gz\n",
      "Quick grid: 4750_3.50_0.25_0.00_1.04_0.00_0.00_0.00.fits.gz\n",
      "Quick grid: 4750_3.50_0.25_0.40_1.04_0.00_0.00_0.00.fits.gz\n",
      "Quick grid: 4750_3.50_0.50_0.00_1.06_0.00_0.00_0.00.fits.gz\n",
      "Quick grid: 4750_3.50_0.50_0.40_1.06_0.00_0.00_0.00.fits.gz\n",
      "Quick grid: 4750_4.00_-1.00_0.00_0.92_0.00_0.00_0.00.fits.gz\n",
      "Quick grid: 4750_4.00_-1.00_0.40_0.92_0.00_0.00_0.00.fits.gz\n",
      "Quick grid: 4750_4.00_-0.75_0.00_0.93_0.00_0.00_0.00.fits.gz\n",
      "Quick grid: 4750_4.00_-0.75_0.40_0.93_0.00_0.00_0.00.fits.gz\n",
      "Quick grid: 4750_4.00_-0.50_0.00_0.94_0.00_0.00_0.00.fits.gz\n",
      "Quick grid: 4750_4.00_-0.50_0.40_0.94_0.00_0.00_0.00.fits.gz\n",
      "Quick grid: 4750_4.00_-0.25_0.00_0.95_0.00_0.00_0.00.fits.gz\n",
      "Quick grid: 4750_4.00_-0.25_0.40_0.95_0.00_0.00_0.00.fits.gz\n",
      "Quick grid: 4750_4.00_0.00_0.00_0.96_0.00_0.00_0.00.fits.gz\n",
      "Quick grid: 4750_4.00_0.00_0.40_0.96_0.00_0.00_0.00.fits.gz\n",
      "Quick grid: 4750_4.00_0.25_0.00_0.98_0.00_0.00_0.00.fits.gz\n",
      "Quick grid: 4750_4.00_0.25_0.40_0.98_0.00_0.00_0.00.fits.gz\n",
      "Quick grid: 4750_4.00_0.50_0.00_0.99_0.00_0.00_0.00.fits.gz\n",
      "Quick grid: 4750_4.00_0.50_0.40_0.99_0.00_0.00_0.00.fits.gz\n",
      "Quick grid: 4750_4.50_-1.00_0.00_0.85_0.00_0.00_0.00.fits.gz\n",
      "Quick grid: 4750_4.50_-1.00_0.40_0.85_0.00_0.00_0.00.fits.gz\n",
      "Quick grid: 4750_4.50_-0.75_0.00_0.86_0.00_0.00_0.00.fits.gz\n",
      "Quick grid: 4750_4.50_-0.75_0.40_0.86_0.00_0.00_0.00.fits.gz\n",
      "Quick grid: 4750_4.50_-0.50_0.00_0.87_0.00_0.00_0.00.fits.gz\n",
      "Quick grid: 4750_4.50_-0.50_0.40_0.87_0.00_0.00_0.00.fits.gz\n",
      "Quick grid: 4750_4.50_-0.25_0.00_0.88_0.00_0.00_0.00.fits.gz\n",
      "Quick grid: 4750_4.50_-0.25_0.40_0.88_0.00_0.00_0.00.fits.gz\n",
      "Quick grid: 4750_4.50_0.00_0.00_0.89_0.00_0.00_0.00.fits.gz\n",
      "Quick grid: 4750_4.50_0.00_0.40_0.89_0.00_0.00_0.00.fits.gz\n",
      "Quick grid: 4750_4.50_0.25_0.00_0.90_0.00_0.00_0.00.fits.gz\n",
      "Quick grid: 4750_4.50_0.25_0.40_0.90_0.00_0.00_0.00.fits.gz\n",
      "Quick grid: 4750_4.50_0.50_0.00_0.92_0.00_0.00_0.00.fits.gz\n",
      "Quick grid: 4750_4.50_0.50_0.40_0.92_0.00_0.00_0.00.fits.gz\n",
      "Quick grid: 4750_5.00_-1.00_0.00_0.78_0.00_0.00_0.00.fits.gz\n",
      "Quick grid: 4750_5.00_-1.00_0.40_0.78_0.00_0.00_0.00.fits.gz\n",
      "Quick grid: 4750_5.00_-0.75_0.00_0.79_0.00_0.00_0.00.fits.gz\n",
      "Quick grid: 4750_5.00_-0.75_0.40_0.79_0.00_0.00_0.00.fits.gz\n",
      "Quick grid: 4750_5.00_-0.50_0.00_0.79_0.00_0.00_0.00.fits.gz\n",
      "Quick grid: 4750_5.00_-0.50_0.40_0.79_0.00_0.00_0.00.fits.gz\n",
      "Quick grid: 4750_5.00_-0.25_0.00_0.81_0.00_0.00_0.00.fits.gz\n",
      "Quick grid: 4750_5.00_-0.25_0.40_0.81_0.00_0.00_0.00.fits.gz\n",
      "Quick grid: 4750_5.00_0.00_0.00_0.82_0.00_0.00_0.00.fits.gz\n",
      "Quick grid: 4750_5.00_0.00_0.40_0.82_0.00_0.00_0.00.fits.gz\n",
      "Quick grid: 4750_5.00_0.25_0.00_0.83_0.00_0.00_0.00.fits.gz\n",
      "Quick grid: 4750_5.00_0.25_0.40_0.83_0.00_0.00_0.00.fits.gz\n",
      "Quick grid: 4750_5.00_0.50_0.00_0.84_0.00_0.00_0.00.fits.gz\n",
      "Quick grid: 4750_5.00_0.50_0.40_0.84_0.00_0.00_0.00.fits.gz\n",
      "Quick grid: 5000_3.00_-1.00_0.00_1.22_0.00_0.00_0.00.fits.gz\n",
      "Quick grid: 5000_3.00_-1.00_0.40_1.22_0.00_0.00_0.00.fits.gz\n",
      "Quick grid: 5000_3.00_-0.75_0.00_1.23_0.00_0.00_0.00.fits.gz\n",
      "Quick grid: 5000_3.00_-0.75_0.40_1.23_0.00_0.00_0.00.fits.gz\n",
      "Quick grid: 5000_3.00_-0.50_0.00_1.24_0.00_0.00_0.00.fits.gz\n",
      "Quick grid: 5000_3.00_-0.50_0.40_1.24_0.00_0.00_0.00.fits.gz\n",
      "Quick grid: 5000_3.00_-0.25_0.00_1.25_0.00_0.00_0.00.fits.gz\n",
      "Quick grid: 5000_3.00_-0.25_0.40_1.25_0.00_0.00_0.00.fits.gz\n",
      "Quick grid: 5000_3.00_0.00_0.00_1.26_0.00_0.00_0.00.fits.gz\n",
      "Quick grid: 5000_3.00_0.00_0.40_1.26_0.00_0.00_0.00.fits.gz\n",
      "Quick grid: 5000_3.00_0.25_0.00_1.28_0.00_0.00_0.00.fits.gz\n",
      "Quick grid: 5000_3.00_0.25_0.40_1.28_0.00_0.00_0.00.fits.gz\n",
      "Quick grid: 5000_3.00_0.50_0.00_1.29_0.00_0.00_0.00.fits.gz\n",
      "Quick grid: 5000_3.00_0.50_0.40_1.29_0.00_0.00_0.00.fits.gz\n",
      "Quick grid: 5000_3.50_-1.00_0.00_0.99_0.00_0.00_0.00.fits.gz\n",
      "Quick grid: 5000_3.50_-1.00_0.40_0.99_0.00_0.00_0.00.fits.gz\n",
      "Quick grid: 5000_3.50_-0.75_0.00_1.00_0.00_0.00_0.00.fits.gz\n",
      "Quick grid: 5000_3.50_-0.75_0.40_1.00_0.00_0.00_0.00.fits.gz\n",
      "Quick grid: 5000_3.50_-0.50_0.00_1.01_0.00_0.00_0.00.fits.gz\n",
      "Quick grid: 5000_3.50_-0.50_0.40_1.01_0.00_0.00_0.00.fits.gz\n",
      "Quick grid: 5000_3.50_-0.25_0.00_1.02_0.00_0.00_0.00.fits.gz\n",
      "Quick grid: 5000_3.50_-0.25_0.40_1.02_0.00_0.00_0.00.fits.gz\n",
      "Quick grid: 5000_3.50_0.00_0.00_1.03_0.00_0.00_0.00.fits.gz\n",
      "Quick grid: 5000_3.50_0.00_0.40_1.03_0.00_0.00_0.00.fits.gz\n",
      "Quick grid: 5000_3.50_0.25_0.00_1.04_0.00_0.00_0.00.fits.gz\n",
      "Quick grid: 5000_3.50_0.25_0.40_1.04_0.00_0.00_0.00.fits.gz\n",
      "Quick grid: 5000_3.50_0.50_0.00_1.06_0.00_0.00_0.00.fits.gz\n",
      "Quick grid: 5000_3.50_0.50_0.40_1.06_0.00_0.00_0.00.fits.gz\n",
      "Quick grid: 5000_4.00_-1.00_0.00_0.92_0.00_0.00_0.00.fits.gz\n",
      "Quick grid: 5000_4.00_-1.00_0.40_0.92_0.00_0.00_0.00.fits.gz\n",
      "Quick grid: 5000_4.00_-0.75_0.00_0.93_0.00_0.00_0.00.fits.gz\n",
      "Quick grid: 5000_4.00_-0.75_0.40_0.93_0.00_0.00_0.00.fits.gz\n",
      "Quick grid: 5000_4.00_-0.50_0.00_0.94_0.00_0.00_0.00.fits.gz\n",
      "Quick grid: 5000_4.00_-0.50_0.40_0.94_0.00_0.00_0.00.fits.gz\n",
      "Quick grid: 5000_4.00_-0.25_0.00_0.95_0.00_0.00_0.00.fits.gz\n",
      "Quick grid: 5000_4.00_-0.25_0.40_0.95_0.00_0.00_0.00.fits.gz\n",
      "Quick grid: 5000_4.00_0.00_0.00_0.96_0.00_0.00_0.00.fits.gz\n",
      "Quick grid: 5000_4.00_0.00_0.40_0.96_0.00_0.00_0.00.fits.gz\n",
      "Quick grid: 5000_4.00_0.25_0.00_0.98_0.00_0.00_0.00.fits.gz\n",
      "Quick grid: 5000_4.00_0.25_0.40_0.98_0.00_0.00_0.00.fits.gz\n",
      "Quick grid: 5000_4.00_0.50_0.00_0.99_0.00_0.00_0.00.fits.gz\n",
      "Quick grid: 5000_4.00_0.50_0.40_0.99_0.00_0.00_0.00.fits.gz\n",
      "Quick grid: 5000_4.50_-1.00_0.00_0.85_0.00_0.00_0.00.fits.gz\n",
      "Quick grid: 5000_4.50_-1.00_0.40_0.85_0.00_0.00_0.00.fits.gz\n",
      "Quick grid: 5000_4.50_-0.75_0.00_0.86_0.00_0.00_0.00.fits.gz\n",
      "Quick grid: 5000_4.50_-0.75_0.40_0.86_0.00_0.00_0.00.fits.gz\n",
      "Quick grid: 5000_4.50_-0.50_0.00_0.87_0.00_0.00_0.00.fits.gz\n",
      "Quick grid: 5000_4.50_-0.50_0.40_0.87_0.00_0.00_0.00.fits.gz\n",
      "Quick grid: 5000_4.50_-0.25_0.00_0.88_0.00_0.00_0.00.fits.gz\n",
      "Quick grid: 5000_4.50_-0.25_0.40_0.88_0.00_0.00_0.00.fits.gz\n",
      "Quick grid: 5000_4.50_0.00_0.00_0.89_0.00_0.00_0.00.fits.gz\n",
      "Quick grid: 5000_4.50_0.00_0.40_0.89_0.00_0.00_0.00.fits.gz\n",
      "Quick grid: 5000_4.50_0.25_0.00_0.90_0.00_0.00_0.00.fits.gz\n",
      "Quick grid: 5000_4.50_0.25_0.40_0.90_0.00_0.00_0.00.fits.gz\n",
      "Quick grid: 5000_4.50_0.50_0.00_0.92_0.00_0.00_0.00.fits.gz\n",
      "Quick grid: 5000_4.50_0.50_0.40_0.92_0.00_0.00_0.00.fits.gz\n",
      "Quick grid: 5000_5.00_-1.00_0.00_0.78_0.00_0.00_0.00.fits.gz\n",
      "Quick grid: 5000_5.00_-1.00_0.40_0.78_0.00_0.00_0.00.fits.gz\n",
      "Quick grid: 5000_5.00_-0.75_0.00_0.79_0.00_0.00_0.00.fits.gz\n",
      "Quick grid: 5000_5.00_-0.75_0.40_0.79_0.00_0.00_0.00.fits.gz\n",
      "Quick grid: 5000_5.00_-0.50_0.00_0.79_0.00_0.00_0.00.fits.gz\n",
      "Quick grid: 5000_5.00_-0.50_0.40_0.79_0.00_0.00_0.00.fits.gz\n",
      "Quick grid: 5000_5.00_-0.25_0.00_0.81_0.00_0.00_0.00.fits.gz\n",
      "Quick grid: 5000_5.00_-0.25_0.40_0.81_0.00_0.00_0.00.fits.gz\n",
      "Quick grid: 5000_5.00_0.00_0.00_0.82_0.00_0.00_0.00.fits.gz\n",
      "Quick grid: 5000_5.00_0.00_0.40_0.82_0.00_0.00_0.00.fits.gz\n",
      "Quick grid: 5000_5.00_0.25_0.00_0.83_0.00_0.00_0.00.fits.gz\n",
      "Quick grid: 5000_5.00_0.25_0.40_0.83_0.00_0.00_0.00.fits.gz\n",
      "Quick grid: 5000_5.00_0.50_0.00_0.84_0.00_0.00_0.00.fits.gz\n",
      "Quick grid: 5000_5.00_0.50_0.40_0.84_0.00_0.00_0.00.fits.gz\n",
      "Quick grid: 5250_3.00_-1.00_0.00_1.26_0.00_0.00_0.00.fits.gz\n",
      "Quick grid: 5250_3.00_-1.00_0.40_1.26_0.00_0.00_0.00.fits.gz\n",
      "Quick grid: 5250_3.00_-0.75_0.00_1.27_0.00_0.00_0.00.fits.gz\n",
      "Quick grid: 5250_3.00_-0.75_0.40_1.27_0.00_0.00_0.00.fits.gz\n",
      "Quick grid: 5250_3.00_-0.50_0.00_1.28_0.00_0.00_0.00.fits.gz\n",
      "Quick grid: 5250_3.00_-0.50_0.40_1.28_0.00_0.00_0.00.fits.gz\n",
      "Quick grid: 5250_3.00_-0.25_0.00_1.29_0.00_0.00_0.00.fits.gz\n",
      "Quick grid: 5250_3.00_-0.25_0.40_1.29_0.00_0.00_0.00.fits.gz\n",
      "Quick grid: 5250_3.00_0.00_0.00_1.30_0.00_0.00_0.00.fits.gz\n",
      "Quick grid: 5250_3.00_0.00_0.40_1.30_0.00_0.00_0.00.fits.gz\n",
      "Quick grid: 5250_3.00_0.25_0.00_1.32_0.00_0.00_0.00.fits.gz\n",
      "Quick grid: 5250_3.00_0.25_0.40_1.32_0.00_0.00_0.00.fits.gz\n",
      "Quick grid: 5250_3.00_0.50_0.00_1.33_0.00_0.00_0.00.fits.gz\n",
      "Quick grid: 5250_3.00_0.50_0.40_1.33_0.00_0.00_0.00.fits.gz\n",
      "Quick grid: 5250_3.50_-1.00_0.00_1.03_0.00_0.00_0.00.fits.gz\n",
      "Quick grid: 5250_3.50_-1.00_0.40_1.03_0.00_0.00_0.00.fits.gz\n",
      "Quick grid: 5250_3.50_-0.75_0.00_1.03_0.00_0.00_0.00.fits.gz\n",
      "Quick grid: 5250_3.50_-0.75_0.40_1.03_0.00_0.00_0.00.fits.gz\n",
      "Quick grid: 5250_3.50_-0.50_0.00_1.04_0.00_0.00_0.00.fits.gz\n",
      "Quick grid: 5250_3.50_-0.50_0.40_1.04_0.00_0.00_0.00.fits.gz\n",
      "Quick grid: 5250_3.50_-0.25_0.00_1.05_0.00_0.00_0.00.fits.gz\n",
      "Quick grid: 5250_3.50_-0.25_0.40_1.05_0.00_0.00_0.00.fits.gz\n",
      "Quick grid: 5250_3.50_0.00_0.00_1.07_0.00_0.00_0.00.fits.gz\n",
      "Quick grid: 5250_3.50_0.00_0.40_1.07_0.00_0.00_0.00.fits.gz\n",
      "Quick grid: 5250_3.50_0.25_0.00_1.08_0.00_0.00_0.00.fits.gz\n",
      "Quick grid: 5250_3.50_0.25_0.40_1.08_0.00_0.00_0.00.fits.gz\n",
      "Quick grid: 5250_3.50_0.50_0.00_1.09_0.00_0.00_0.00.fits.gz\n",
      "Quick grid: 5250_3.50_0.50_0.40_1.09_0.00_0.00_0.00.fits.gz\n",
      "Quick grid: 5250_4.00_-1.00_0.00_0.96_0.00_0.00_0.00.fits.gz\n",
      "Quick grid: 5250_4.00_-1.00_0.40_0.96_0.00_0.00_0.00.fits.gz\n",
      "Quick grid: 5250_4.00_-0.75_0.00_0.96_0.00_0.00_0.00.fits.gz\n",
      "Quick grid: 5250_4.00_-0.75_0.40_0.96_0.00_0.00_0.00.fits.gz\n",
      "Quick grid: 5250_4.00_-0.50_0.00_0.97_0.00_0.00_0.00.fits.gz\n",
      "Quick grid: 5250_4.00_-0.50_0.40_0.97_0.00_0.00_0.00.fits.gz\n",
      "Quick grid: 5250_4.00_-0.25_0.00_0.98_0.00_0.00_0.00.fits.gz\n",
      "Quick grid: 5250_4.00_-0.25_0.40_0.98_0.00_0.00_0.00.fits.gz\n",
      "Quick grid: 5250_4.00_0.00_0.00_1.00_0.00_0.00_0.00.fits.gz\n",
      "Quick grid: 5250_4.00_0.00_0.40_1.00_0.00_0.00_0.00.fits.gz\n",
      "Quick grid: 5250_4.00_0.25_0.00_1.01_0.00_0.00_0.00.fits.gz\n",
      "Quick grid: 5250_4.00_0.25_0.40_1.01_0.00_0.00_0.00.fits.gz\n",
      "Quick grid: 5250_4.00_0.50_0.00_1.02_0.00_0.00_0.00.fits.gz\n",
      "Quick grid: 5250_4.00_0.50_0.40_1.02_0.00_0.00_0.00.fits.gz\n",
      "Quick grid: 5250_4.50_-1.00_0.00_0.89_0.00_0.00_0.00.fits.gz\n",
      "Quick grid: 5250_4.50_-1.00_0.40_0.89_0.00_0.00_0.00.fits.gz\n",
      "Quick grid: 5250_4.50_-0.75_0.00_0.89_0.00_0.00_0.00.fits.gz\n",
      "Quick grid: 5250_4.50_-0.75_0.40_0.89_0.00_0.00_0.00.fits.gz\n",
      "Quick grid: 5250_4.50_-0.50_0.00_0.90_0.00_0.00_0.00.fits.gz\n",
      "Quick grid: 5250_4.50_-0.50_0.40_0.90_0.00_0.00_0.00.fits.gz\n",
      "Quick grid: 5250_4.50_-0.25_0.00_0.91_0.00_0.00_0.00.fits.gz\n",
      "Quick grid: 5250_4.50_-0.25_0.40_0.91_0.00_0.00_0.00.fits.gz\n",
      "Quick grid: 5250_4.50_0.00_0.00_0.93_0.00_0.00_0.00.fits.gz\n",
      "Quick grid: 5250_4.50_0.00_0.40_0.93_0.00_0.00_0.00.fits.gz\n",
      "Quick grid: 5250_4.50_0.25_0.00_0.94_0.00_0.00_0.00.fits.gz\n",
      "Quick grid: 5250_4.50_0.25_0.40_0.94_0.00_0.00_0.00.fits.gz\n",
      "Quick grid: 5250_4.50_0.50_0.00_0.95_0.00_0.00_0.00.fits.gz\n",
      "Quick grid: 5250_4.50_0.50_0.40_0.95_0.00_0.00_0.00.fits.gz\n",
      "Quick grid: 5250_5.00_-1.00_0.00_0.81_0.00_0.00_0.00.fits.gz\n",
      "Quick grid: 5250_5.00_-1.00_0.40_0.81_0.00_0.00_0.00.fits.gz\n",
      "Quick grid: 5250_5.00_-0.75_0.00_0.82_0.00_0.00_0.00.fits.gz\n",
      "Quick grid: 5250_5.00_-0.75_0.40_0.82_0.00_0.00_0.00.fits.gz\n",
      "Quick grid: 5250_5.00_-0.50_0.00_0.83_0.00_0.00_0.00.fits.gz\n",
      "Quick grid: 5250_5.00_-0.50_0.40_0.83_0.00_0.00_0.00.fits.gz\n",
      "Quick grid: 5250_5.00_-0.25_0.00_0.84_0.00_0.00_0.00.fits.gz\n",
      "Quick grid: 5250_5.00_-0.25_0.40_0.84_0.00_0.00_0.00.fits.gz\n",
      "Quick grid: 5250_5.00_0.00_0.00_0.85_0.00_0.00_0.00.fits.gz\n",
      "Quick grid: 5250_5.00_0.00_0.40_0.85_0.00_0.00_0.00.fits.gz\n",
      "Quick grid: 5250_5.00_0.25_0.00_0.86_0.00_0.00_0.00.fits.gz\n",
      "Quick grid: 5250_5.00_0.25_0.40_0.86_0.00_0.00_0.00.fits.gz\n",
      "Quick grid: 5250_5.00_0.50_0.00_0.88_0.00_0.00_0.00.fits.gz\n",
      "Quick grid: 5250_5.00_0.50_0.40_0.88_0.00_0.00_0.00.fits.gz\n",
      "Quick grid: 5500_3.00_-1.00_0.00_1.35_0.00_0.00_0.00.fits.gz\n",
      "Quick grid: 5500_3.00_-1.00_0.40_1.35_0.00_0.00_0.00.fits.gz\n",
      "Quick grid: 5500_3.00_-0.75_0.00_1.35_0.00_0.00_0.00.fits.gz\n",
      "Quick grid: 5500_3.00_-0.75_0.40_1.35_0.00_0.00_0.00.fits.gz\n",
      "Quick grid: 5500_3.00_-0.50_0.00_1.36_0.00_0.00_0.00.fits.gz\n",
      "Quick grid: 5500_3.00_-0.50_0.40_1.36_0.00_0.00_0.00.fits.gz\n",
      "Quick grid: 5500_3.00_-0.25_0.00_1.37_0.00_0.00_0.00.fits.gz\n",
      "Quick grid: 5500_3.00_-0.25_0.40_1.37_0.00_0.00_0.00.fits.gz\n",
      "Quick grid: 5500_3.00_0.00_0.00_1.39_0.00_0.00_0.00.fits.gz\n",
      "Quick grid: 5500_3.00_0.00_0.40_1.39_0.00_0.00_0.00.fits.gz\n",
      "Quick grid: 5500_3.00_0.25_0.00_1.40_0.00_0.00_0.00.fits.gz\n",
      "Quick grid: 5500_3.00_0.25_0.40_1.40_0.00_0.00_0.00.fits.gz\n",
      "Quick grid: 5500_3.00_0.50_0.00_1.41_0.00_0.00_0.00.fits.gz\n",
      "Quick grid: 5500_3.00_0.50_0.40_1.41_0.00_0.00_0.00.fits.gz\n",
      "Quick grid: 5500_3.50_-1.00_0.00_1.08_0.00_0.00_0.00.fits.gz\n",
      "Quick grid: 5500_3.50_-1.00_0.40_1.08_0.00_0.00_0.00.fits.gz\n",
      "Quick grid: 5500_3.50_-0.75_0.00_1.09_0.00_0.00_0.00.fits.gz\n",
      "Quick grid: 5500_3.50_-0.75_0.40_1.09_0.00_0.00_0.00.fits.gz\n",
      "Quick grid: 5500_3.50_-0.50_0.00_1.10_0.00_0.00_0.00.fits.gz\n",
      "Quick grid: 5500_3.50_-0.50_0.40_1.10_0.00_0.00_0.00.fits.gz\n",
      "Quick grid: 5500_3.50_-0.25_0.00_1.11_0.00_0.00_0.00.fits.gz\n",
      "Quick grid: 5500_3.50_-0.25_0.40_1.11_0.00_0.00_0.00.fits.gz\n",
      "Quick grid: 5500_3.50_0.00_0.00_1.12_0.00_0.00_0.00.fits.gz\n",
      "Quick grid: 5500_3.50_0.00_0.40_1.12_0.00_0.00_0.00.fits.gz\n",
      "Quick grid: 5500_3.50_0.25_0.00_1.13_0.00_0.00_0.00.fits.gz\n",
      "Quick grid: 5500_3.50_0.25_0.40_1.13_0.00_0.00_0.00.fits.gz\n",
      "Quick grid: 5500_3.50_0.50_0.00_1.15_0.00_0.00_0.00.fits.gz\n",
      "Quick grid: 5500_3.50_0.50_0.40_1.15_0.00_0.00_0.00.fits.gz\n",
      "Quick grid: 5500_4.00_-1.00_0.00_1.01_0.00_0.00_0.00.fits.gz\n",
      "Quick grid: 5500_4.00_-1.00_0.40_1.01_0.00_0.00_0.00.fits.gz\n",
      "Quick grid: 5500_4.00_-0.75_0.00_1.02_0.00_0.00_0.00.fits.gz\n",
      "Quick grid: 5500_4.00_-0.75_0.40_1.02_0.00_0.00_0.00.fits.gz\n",
      "Quick grid: 5500_4.00_-0.50_0.00_1.03_0.00_0.00_0.00.fits.gz\n",
      "Quick grid: 5500_4.00_-0.50_0.40_1.03_0.00_0.00_0.00.fits.gz\n",
      "Quick grid: 5500_4.00_-0.25_0.00_1.04_0.00_0.00_0.00.fits.gz\n",
      "Quick grid: 5500_4.00_-0.25_0.40_1.04_0.00_0.00_0.00.fits.gz\n",
      "Quick grid: 5500_4.00_0.00_0.00_1.05_0.00_0.00_0.00.fits.gz\n",
      "Quick grid: 5500_4.00_0.00_0.40_1.05_0.00_0.00_0.00.fits.gz\n",
      "Quick grid: 5500_4.00_0.25_0.00_1.06_0.00_0.00_0.00.fits.gz\n",
      "Quick grid: 5500_4.00_0.25_0.40_1.06_0.00_0.00_0.00.fits.gz\n",
      "Quick grid: 5500_4.00_0.50_0.00_1.08_0.00_0.00_0.00.fits.gz\n",
      "Quick grid: 5500_4.00_0.50_0.40_1.08_0.00_0.00_0.00.fits.gz\n",
      "Quick grid: 5500_4.50_-1.00_0.00_0.94_0.00_0.00_0.00.fits.gz\n",
      "Quick grid: 5500_4.50_-1.00_0.40_0.94_0.00_0.00_0.00.fits.gz\n",
      "Quick grid: 5500_4.50_-0.75_0.00_0.95_0.00_0.00_0.00.fits.gz\n",
      "Quick grid: 5500_4.50_-0.75_0.40_0.95_0.00_0.00_0.00.fits.gz\n",
      "Quick grid: 5500_4.50_-0.50_0.00_0.96_0.00_0.00_0.00.fits.gz\n",
      "Quick grid: 5500_4.50_-0.50_0.40_0.96_0.00_0.00_0.00.fits.gz\n",
      "Quick grid: 5500_4.50_-0.25_0.00_0.97_0.00_0.00_0.00.fits.gz\n",
      "Quick grid: 5500_4.50_-0.25_0.40_0.97_0.00_0.00_0.00.fits.gz\n",
      "Quick grid: 5500_4.50_0.00_0.00_0.98_0.00_0.00_0.00.fits.gz\n",
      "Quick grid: 5500_4.50_0.00_0.40_0.98_0.00_0.00_0.00.fits.gz\n",
      "Quick grid: 5500_4.50_0.25_0.00_0.99_0.00_0.00_0.00.fits.gz\n",
      "Quick grid: 5500_4.50_0.25_0.40_0.99_0.00_0.00_0.00.fits.gz\n",
      "Quick grid: 5500_4.50_0.50_0.00_1.01_0.00_0.00_0.00.fits.gz\n",
      "Quick grid: 5500_4.50_0.50_0.40_1.01_0.00_0.00_0.00.fits.gz\n",
      "Quick grid: 5500_5.00_-1.00_0.00_0.86_0.00_0.00_0.00.fits.gz\n",
      "Quick grid: 5500_5.00_-1.00_0.40_0.86_0.00_0.00_0.00.fits.gz\n",
      "Quick grid: 5500_5.00_-0.75_0.00_0.87_0.00_0.00_0.00.fits.gz\n",
      "Quick grid: 5500_5.00_-0.75_0.40_0.87_0.00_0.00_0.00.fits.gz\n",
      "Quick grid: 5500_5.00_-0.50_0.00_0.88_0.00_0.00_0.00.fits.gz\n",
      "Quick grid: 5500_5.00_-0.50_0.40_0.88_0.00_0.00_0.00.fits.gz\n",
      "Quick grid: 5500_5.00_-0.25_0.00_0.89_0.00_0.00_0.00.fits.gz\n",
      "Quick grid: 5500_5.00_-0.25_0.40_0.89_0.00_0.00_0.00.fits.gz\n",
      "Quick grid: 5500_5.00_0.00_0.00_0.91_0.00_0.00_0.00.fits.gz\n",
      "Quick grid: 5500_5.00_0.00_0.40_0.91_0.00_0.00_0.00.fits.gz\n",
      "Quick grid: 5500_5.00_0.25_0.00_0.92_0.00_0.00_0.00.fits.gz\n",
      "Quick grid: 5500_5.00_0.25_0.40_0.92_0.00_0.00_0.00.fits.gz\n",
      "Quick grid: 5500_5.00_0.50_0.00_0.93_0.00_0.00_0.00.fits.gz\n",
      "Quick grid: 5500_5.00_0.50_0.40_0.93_0.00_0.00_0.00.fits.gz\n",
      "Quick grid: 5750_3.00_-1.00_0.00_1.46_0.00_0.00_0.00.fits.gz\n",
      "Quick grid: 5750_3.00_-1.00_0.40_1.46_0.00_0.00_0.00.fits.gz\n",
      "Quick grid: 5750_3.00_-0.75_0.00_1.47_0.00_0.00_0.00.fits.gz\n",
      "Quick grid: 5750_3.00_-0.75_0.40_1.47_0.00_0.00_0.00.fits.gz\n",
      "Quick grid: 5750_3.00_-0.50_0.00_1.48_0.00_0.00_0.00.fits.gz\n",
      "Quick grid: 5750_3.00_-0.50_0.40_1.48_0.00_0.00_0.00.fits.gz\n",
      "Quick grid: 5750_3.00_-0.25_0.00_1.49_0.00_0.00_0.00.fits.gz\n",
      "Quick grid: 5750_3.00_-0.25_0.40_1.49_0.00_0.00_0.00.fits.gz\n",
      "Quick grid: 5750_3.00_0.00_0.00_1.50_0.00_0.00_0.00.fits.gz\n",
      "Quick grid: 5750_3.00_0.00_0.40_1.50_0.00_0.00_0.00.fits.gz\n",
      "Quick grid: 5750_3.00_0.25_0.00_1.52_0.00_0.00_0.00.fits.gz\n",
      "Quick grid: 5750_3.00_0.25_0.40_1.52_0.00_0.00_0.00.fits.gz\n",
      "Quick grid: 5750_3.00_0.50_0.00_1.53_0.00_0.00_0.00.fits.gz\n",
      "Quick grid: 5750_3.00_0.50_0.40_1.53_0.00_0.00_0.00.fits.gz\n",
      "Quick grid: 5750_3.50_-1.00_0.00_1.15_0.00_0.00_0.00.fits.gz\n",
      "Quick grid: 5750_3.50_-1.00_0.40_1.15_0.00_0.00_0.00.fits.gz\n",
      "Quick grid: 5750_3.50_-0.75_0.00_1.16_0.00_0.00_0.00.fits.gz\n",
      "Quick grid: 5750_3.50_-0.75_0.40_1.16_0.00_0.00_0.00.fits.gz\n",
      "Quick grid: 5750_3.50_-0.50_0.00_1.17_0.00_0.00_0.00.fits.gz\n",
      "Quick grid: 5750_3.50_-0.50_0.40_1.17_0.00_0.00_0.00.fits.gz\n",
      "Quick grid: 5750_3.50_-0.25_0.00_1.18_0.00_0.00_0.00.fits.gz\n",
      "Quick grid: 5750_3.50_-0.25_0.40_1.18_0.00_0.00_0.00.fits.gz\n",
      "Quick grid: 5750_3.50_0.00_0.00_1.19_0.00_0.00_0.00.fits.gz\n",
      "Quick grid: 5750_3.50_0.00_0.40_1.19_0.00_0.00_0.00.fits.gz\n",
      "Quick grid: 5750_3.50_0.25_0.00_1.20_0.00_0.00_0.00.fits.gz\n",
      "Quick grid: 5750_3.50_0.25_0.40_1.20_0.00_0.00_0.00.fits.gz\n",
      "Quick grid: 5750_3.50_0.50_0.00_1.22_0.00_0.00_0.00.fits.gz\n",
      "Quick grid: 5750_3.50_0.50_0.40_1.22_0.00_0.00_0.00.fits.gz\n",
      "Quick grid: 5750_4.00_-1.00_0.00_1.08_0.00_0.00_0.00.fits.gz\n",
      "Quick grid: 5750_4.00_-1.00_0.40_1.08_0.00_0.00_0.00.fits.gz\n",
      "Quick grid: 5750_4.00_-0.75_0.00_1.09_0.00_0.00_0.00.fits.gz\n",
      "Quick grid: 5750_4.00_-0.75_0.40_1.09_0.00_0.00_0.00.fits.gz\n",
      "Quick grid: 5750_4.00_-0.50_0.00_1.10_0.00_0.00_0.00.fits.gz\n",
      "Quick grid: 5750_4.00_-0.50_0.40_1.10_0.00_0.00_0.00.fits.gz\n",
      "Quick grid: 5750_4.00_-0.25_0.00_1.11_0.00_0.00_0.00.fits.gz\n",
      "Quick grid: 5750_4.00_-0.25_0.40_1.11_0.00_0.00_0.00.fits.gz\n",
      "Quick grid: 5750_4.00_0.00_0.00_1.12_0.00_0.00_0.00.fits.gz\n",
      "Quick grid: 5750_4.00_0.00_0.40_1.12_0.00_0.00_0.00.fits.gz\n",
      "Quick grid: 5750_4.00_0.25_0.00_1.14_0.00_0.00_0.00.fits.gz\n",
      "Quick grid: 5750_4.00_0.25_0.40_1.14_0.00_0.00_0.00.fits.gz\n",
      "Quick grid: 5750_4.00_0.50_0.00_1.15_0.00_0.00_0.00.fits.gz\n",
      "Quick grid: 5750_4.00_0.50_0.40_1.15_0.00_0.00_0.00.fits.gz\n",
      "Quick grid: 5750_4.50_-1.00_0.00_1.01_0.00_0.00_0.00.fits.gz\n",
      "Quick grid: 5750_4.50_-1.00_0.40_1.01_0.00_0.00_0.00.fits.gz\n",
      "Quick grid: 5750_4.50_-0.75_0.00_1.02_0.00_0.00_0.00.fits.gz\n",
      "Quick grid: 5750_4.50_-0.75_0.40_1.02_0.00_0.00_0.00.fits.gz\n",
      "Quick grid: 5750_4.50_-0.50_0.00_1.03_0.00_0.00_0.00.fits.gz\n",
      "Quick grid: 5750_4.50_-0.50_0.40_1.03_0.00_0.00_0.00.fits.gz\n",
      "Quick grid: 5750_4.50_-0.25_0.00_1.04_0.00_0.00_0.00.fits.gz\n",
      "Quick grid: 5750_4.50_-0.25_0.40_1.04_0.00_0.00_0.00.fits.gz\n",
      "Quick grid: 5750_4.50_0.00_0.00_1.05_0.00_0.00_0.00.fits.gz\n",
      "Quick grid: 5750_4.50_0.00_0.40_1.05_0.00_0.00_0.00.fits.gz\n",
      "Quick grid: 5750_4.50_0.25_0.00_1.06_0.00_0.00_0.00.fits.gz\n",
      "Quick grid: 5750_4.50_0.25_0.40_1.06_0.00_0.00_0.00.fits.gz\n",
      "Quick grid: 5750_4.50_0.50_0.00_1.08_0.00_0.00_0.00.fits.gz\n",
      "Quick grid: 5750_4.50_0.50_0.40_1.08_0.00_0.00_0.00.fits.gz\n",
      "Quick grid: 5750_5.00_-1.00_0.00_0.94_0.00_0.00_0.00.fits.gz\n",
      "Quick grid: 5750_5.00_-1.00_0.40_0.94_0.00_0.00_0.00.fits.gz\n",
      "Quick grid: 5750_5.00_-0.75_0.00_0.95_0.00_0.00_0.00.fits.gz\n",
      "Quick grid: 5750_5.00_-0.75_0.40_0.95_0.00_0.00_0.00.fits.gz\n",
      "Quick grid: 5750_5.00_-0.50_0.00_0.95_0.00_0.00_0.00.fits.gz\n",
      "Quick grid: 5750_5.00_-0.50_0.40_0.95_0.00_0.00_0.00.fits.gz\n",
      "Quick grid: 5750_5.00_-0.25_0.00_0.97_0.00_0.00_0.00.fits.gz\n",
      "Quick grid: 5750_5.00_-0.25_0.40_0.97_0.00_0.00_0.00.fits.gz\n",
      "Quick grid: 5750_5.00_0.00_0.00_0.98_0.00_0.00_0.00.fits.gz\n",
      "Quick grid: 5750_5.00_0.00_0.40_0.98_0.00_0.00_0.00.fits.gz\n",
      "Quick grid: 5750_5.00_0.25_0.00_0.99_0.00_0.00_0.00.fits.gz\n",
      "Quick grid: 5750_5.00_0.25_0.40_0.99_0.00_0.00_0.00.fits.gz\n",
      "Quick grid: 5750_5.00_0.50_0.00_1.00_0.00_0.00_0.00.fits.gz\n",
      "Quick grid: 5750_5.00_0.50_0.40_1.00_0.00_0.00_0.00.fits.gz\n",
      "Quick grid: 6000_3.00_-1.00_0.00_1.62_0.00_0.00_0.00.fits.gz\n",
      "Quick grid: 6000_3.00_-1.00_0.40_1.62_0.00_0.00_0.00.fits.gz\n",
      "Quick grid: 6000_3.00_-0.75_0.00_1.63_0.00_0.00_0.00.fits.gz\n",
      "Quick grid: 6000_3.00_-0.75_0.40_1.63_0.00_0.00_0.00.fits.gz\n",
      "Quick grid: 6000_3.00_-0.50_0.00_1.64_0.00_0.00_0.00.fits.gz\n",
      "Quick grid: 6000_3.00_-0.50_0.40_1.64_0.00_0.00_0.00.fits.gz\n",
      "Quick grid: 6000_3.00_-0.25_0.00_1.65_0.00_0.00_0.00.fits.gz\n",
      "Quick grid: 6000_3.00_-0.25_0.40_1.65_0.00_0.00_0.00.fits.gz\n",
      "Quick grid: 6000_3.00_0.00_0.00_1.66_0.00_0.00_0.00.fits.gz\n",
      "Quick grid: 6000_3.00_0.00_0.40_1.66_0.00_0.00_0.00.fits.gz\n",
      "Quick grid: 6000_3.00_0.25_0.00_1.68_0.00_0.00_0.00.fits.gz\n",
      "Quick grid: 6000_3.00_0.25_0.40_1.68_0.00_0.00_0.00.fits.gz\n",
      "Quick grid: 6000_3.00_0.50_0.00_1.69_0.00_0.00_0.00.fits.gz\n",
      "Quick grid: 6000_3.00_0.50_0.40_1.69_0.00_0.00_0.00.fits.gz\n",
      "Quick grid: 6000_3.50_-1.00_0.00_1.24_0.00_0.00_0.00.fits.gz\n",
      "Quick grid: 6000_3.50_-1.00_0.40_1.24_0.00_0.00_0.00.fits.gz\n",
      "Quick grid: 6000_3.50_-0.75_0.00_1.25_0.00_0.00_0.00.fits.gz\n",
      "Quick grid: 6000_3.50_-0.75_0.40_1.25_0.00_0.00_0.00.fits.gz\n",
      "Quick grid: 6000_3.50_-0.50_0.00_1.26_0.00_0.00_0.00.fits.gz\n",
      "Quick grid: 6000_3.50_-0.50_0.40_1.26_0.00_0.00_0.00.fits.gz\n",
      "Quick grid: 6000_3.50_-0.25_0.00_1.27_0.00_0.00_0.00.fits.gz\n",
      "Quick grid: 6000_3.50_-0.25_0.40_1.27_0.00_0.00_0.00.fits.gz\n",
      "Quick grid: 6000_3.50_0.00_0.00_1.28_0.00_0.00_0.00.fits.gz\n",
      "Quick grid: 6000_3.50_0.00_0.40_1.28_0.00_0.00_0.00.fits.gz\n",
      "Quick grid: 6000_3.50_0.25_0.00_1.29_0.00_0.00_0.00.fits.gz\n",
      "Quick grid: 6000_3.50_0.25_0.40_1.29_0.00_0.00_0.00.fits.gz\n",
      "Quick grid: 6000_3.50_0.50_0.00_1.31_0.00_0.00_0.00.fits.gz\n",
      "Quick grid: 6000_3.50_0.50_0.40_1.31_0.00_0.00_0.00.fits.gz\n",
      "Quick grid: 6000_4.00_-1.00_0.00_1.17_0.00_0.00_0.00.fits.gz\n",
      "Quick grid: 6000_4.00_-1.00_0.40_1.17_0.00_0.00_0.00.fits.gz\n",
      "Quick grid: 6000_4.00_-0.75_0.00_1.18_0.00_0.00_0.00.fits.gz\n",
      "Quick grid: 6000_4.00_-0.75_0.40_1.18_0.00_0.00_0.00.fits.gz\n",
      "Quick grid: 6000_4.00_-0.50_0.00_1.19_0.00_0.00_0.00.fits.gz\n",
      "Quick grid: 6000_4.00_-0.50_0.40_1.19_0.00_0.00_0.00.fits.gz\n",
      "Quick grid: 6000_4.00_-0.25_0.00_1.20_0.00_0.00_0.00.fits.gz\n",
      "Quick grid: 6000_4.00_-0.25_0.40_1.20_0.00_0.00_0.00.fits.gz\n",
      "Quick grid: 6000_4.00_0.00_0.00_1.21_0.00_0.00_0.00.fits.gz\n",
      "Quick grid: 6000_4.00_0.00_0.40_1.21_0.00_0.00_0.00.fits.gz\n",
      "Quick grid: 6000_4.00_0.25_0.00_1.23_0.00_0.00_0.00.fits.gz\n",
      "Quick grid: 6000_4.00_0.25_0.40_1.23_0.00_0.00_0.00.fits.gz\n",
      "Quick grid: 6000_4.00_0.50_0.00_1.24_0.00_0.00_0.00.fits.gz\n",
      "Quick grid: 6000_4.00_0.50_0.40_1.24_0.00_0.00_0.00.fits.gz\n",
      "Quick grid: 6000_4.50_-1.00_0.00_1.10_0.00_0.00_0.00.fits.gz\n",
      "Quick grid: 6000_4.50_-1.00_0.40_1.10_0.00_0.00_0.00.fits.gz\n",
      "Quick grid: 6000_4.50_-0.75_0.00_1.11_0.00_0.00_0.00.fits.gz\n",
      "Quick grid: 6000_4.50_-0.75_0.40_1.11_0.00_0.00_0.00.fits.gz\n",
      "Quick grid: 6000_4.50_-0.50_0.00_1.12_0.00_0.00_0.00.fits.gz\n",
      "Quick grid: 6000_4.50_-0.50_0.40_1.12_0.00_0.00_0.00.fits.gz\n",
      "Quick grid: 6000_4.50_-0.25_0.00_1.13_0.00_0.00_0.00.fits.gz\n",
      "Quick grid: 6000_4.50_-0.25_0.40_1.13_0.00_0.00_0.00.fits.gz\n",
      "Quick grid: 6000_4.50_0.00_0.00_1.14_0.00_0.00_0.00.fits.gz\n",
      "Quick grid: 6000_4.50_0.00_0.40_1.14_0.00_0.00_0.00.fits.gz\n",
      "Quick grid: 6000_4.50_0.25_0.00_1.15_0.00_0.00_0.00.fits.gz\n",
      "Quick grid: 6000_4.50_0.25_0.40_1.15_0.00_0.00_0.00.fits.gz\n",
      "Quick grid: 6000_4.50_0.50_0.00_1.17_0.00_0.00_0.00.fits.gz\n",
      "Quick grid: 6000_4.50_0.50_0.40_1.17_0.00_0.00_0.00.fits.gz\n",
      "Quick grid: 6000_5.00_-1.00_0.00_1.03_0.00_0.00_0.00.fits.gz\n",
      "Quick grid: 6000_5.00_-1.00_0.40_1.03_0.00_0.00_0.00.fits.gz\n",
      "Quick grid: 6000_5.00_-0.75_0.00_1.04_0.00_0.00_0.00.fits.gz\n",
      "Quick grid: 6000_5.00_-0.75_0.40_1.04_0.00_0.00_0.00.fits.gz\n",
      "Quick grid: 6000_5.00_-0.50_0.00_1.05_0.00_0.00_0.00.fits.gz\n",
      "Quick grid: 6000_5.00_-0.50_0.40_1.05_0.00_0.00_0.00.fits.gz\n",
      "Quick grid: 6000_5.00_-0.25_0.00_1.06_0.00_0.00_0.00.fits.gz\n",
      "Quick grid: 6000_5.00_-0.25_0.40_1.06_0.00_0.00_0.00.fits.gz\n",
      "Quick grid: 6000_5.00_0.00_0.00_1.07_0.00_0.00_0.00.fits.gz\n",
      "Quick grid: 6000_5.00_0.00_0.40_1.07_0.00_0.00_0.00.fits.gz\n",
      "Quick grid: 6000_5.00_0.25_0.00_1.08_0.00_0.00_0.00.fits.gz\n",
      "Quick grid: 6000_5.00_0.25_0.40_1.08_0.00_0.00_0.00.fits.gz\n",
      "Quick grid: 6000_5.00_0.50_0.00_1.10_0.00_0.00_0.00.fits.gz\n",
      "Quick grid: 6000_5.00_0.50_0.40_1.10_0.00_0.00_0.00.fits.gz\n",
      "Quick grid: 6250_3.00_-1.00_0.00_1.82_0.00_0.00_0.00.fits.gz\n",
      "Quick grid: 6250_3.00_-1.00_0.40_1.82_0.00_0.00_0.00.fits.gz\n",
      "Quick grid: 6250_3.00_-0.75_0.00_1.83_0.00_0.00_0.00.fits.gz\n",
      "Quick grid: 6250_3.00_-0.75_0.40_1.83_0.00_0.00_0.00.fits.gz\n",
      "Quick grid: 6250_3.00_-0.50_0.00_1.84_0.00_0.00_0.00.fits.gz\n",
      "Quick grid: 6250_3.00_-0.50_0.40_1.84_0.00_0.00_0.00.fits.gz\n",
      "Quick grid: 6250_3.00_-0.25_0.00_1.85_0.00_0.00_0.00.fits.gz\n",
      "Quick grid: 6250_3.00_-0.25_0.40_1.85_0.00_0.00_0.00.fits.gz\n",
      "Quick grid: 6250_3.00_0.00_0.00_1.86_0.00_0.00_0.00.fits.gz\n",
      "Quick grid: 6250_3.00_0.00_0.40_1.86_0.00_0.00_0.00.fits.gz\n",
      "Quick grid: 6250_3.00_0.25_0.00_1.87_0.00_0.00_0.00.fits.gz\n",
      "Quick grid: 6250_3.00_0.25_0.40_1.87_0.00_0.00_0.00.fits.gz\n",
      "Quick grid: 6250_3.00_0.50_0.00_1.89_0.00_0.00_0.00.fits.gz\n",
      "Quick grid: 6250_3.00_0.50_0.40_1.89_0.00_0.00_0.00.fits.gz\n",
      "Quick grid: 6250_3.50_-1.00_0.00_1.35_0.00_0.00_0.00.fits.gz\n",
      "Quick grid: 6250_3.50_-1.00_0.40_1.35_0.00_0.00_0.00.fits.gz\n",
      "Quick grid: 6250_3.50_-0.75_0.00_1.36_0.00_0.00_0.00.fits.gz\n",
      "Quick grid: 6250_3.50_-0.75_0.40_1.36_0.00_0.00_0.00.fits.gz\n",
      "Quick grid: 6250_3.50_-0.50_0.00_1.37_0.00_0.00_0.00.fits.gz\n",
      "Quick grid: 6250_3.50_-0.50_0.40_1.37_0.00_0.00_0.00.fits.gz\n",
      "Quick grid: 6250_3.50_-0.25_0.00_1.38_0.00_0.00_0.00.fits.gz\n",
      "Quick grid: 6250_3.50_-0.25_0.40_1.38_0.00_0.00_0.00.fits.gz\n",
      "Quick grid: 6250_3.50_0.00_0.00_1.39_0.00_0.00_0.00.fits.gz\n",
      "Quick grid: 6250_3.50_0.00_0.40_1.39_0.00_0.00_0.00.fits.gz\n",
      "Quick grid: 6250_3.50_0.25_0.00_1.40_0.00_0.00_0.00.fits.gz\n",
      "Quick grid: 6250_3.50_0.25_0.40_1.40_0.00_0.00_0.00.fits.gz\n",
      "Quick grid: 6250_3.50_0.50_0.00_1.42_0.00_0.00_0.00.fits.gz\n",
      "Quick grid: 6250_3.50_0.50_0.40_1.42_0.00_0.00_0.00.fits.gz\n",
      "Quick grid: 6250_4.00_-1.00_0.00_1.28_0.00_0.00_0.00.fits.gz\n",
      "Quick grid: 6250_4.00_-1.00_0.40_1.28_0.00_0.00_0.00.fits.gz\n",
      "Quick grid: 6250_4.00_-0.75_0.00_1.29_0.00_0.00_0.00.fits.gz\n",
      "Quick grid: 6250_4.00_-0.75_0.40_1.29_0.00_0.00_0.00.fits.gz\n",
      "Quick grid: 6250_4.00_-0.50_0.00_1.30_0.00_0.00_0.00.fits.gz\n",
      "Quick grid: 6250_4.00_-0.50_0.40_1.30_0.00_0.00_0.00.fits.gz\n",
      "Quick grid: 6250_4.00_-0.25_0.00_1.31_0.00_0.00_0.00.fits.gz\n",
      "Quick grid: 6250_4.00_-0.25_0.40_1.31_0.00_0.00_0.00.fits.gz\n",
      "Quick grid: 6250_4.00_0.00_0.00_1.32_0.00_0.00_0.00.fits.gz\n",
      "Quick grid: 6250_4.00_0.00_0.40_1.32_0.00_0.00_0.00.fits.gz\n",
      "Quick grid: 6250_4.00_0.25_0.00_1.34_0.00_0.00_0.00.fits.gz\n",
      "Quick grid: 6250_4.00_0.25_0.40_1.34_0.00_0.00_0.00.fits.gz\n",
      "Quick grid: 6250_4.00_0.50_0.00_1.35_0.00_0.00_0.00.fits.gz\n",
      "Quick grid: 6250_4.00_0.50_0.40_1.35_0.00_0.00_0.00.fits.gz\n",
      "Quick grid: 6250_4.50_-1.00_0.00_1.21_0.00_0.00_0.00.fits.gz\n",
      "Quick grid: 6250_4.50_-1.00_0.40_1.21_0.00_0.00_0.00.fits.gz\n",
      "Quick grid: 6250_4.50_-0.75_0.00_1.22_0.00_0.00_0.00.fits.gz\n",
      "Quick grid: 6250_4.50_-0.75_0.40_1.22_0.00_0.00_0.00.fits.gz\n",
      "Quick grid: 6250_4.50_-0.50_0.00_1.23_0.00_0.00_0.00.fits.gz\n",
      "Quick grid: 6250_4.50_-0.50_0.40_1.23_0.00_0.00_0.00.fits.gz\n",
      "Quick grid: 6250_4.50_-0.25_0.00_1.24_0.00_0.00_0.00.fits.gz\n",
      "Quick grid: 6250_4.50_-0.25_0.40_1.24_0.00_0.00_0.00.fits.gz\n",
      "Quick grid: 6250_4.50_0.00_0.00_1.25_0.00_0.00_0.00.fits.gz\n",
      "Quick grid: 6250_4.50_0.00_0.40_1.25_0.00_0.00_0.00.fits.gz\n",
      "Quick grid: 6250_4.50_0.25_0.00_1.26_0.00_0.00_0.00.fits.gz\n",
      "Quick grid: 6250_4.50_0.25_0.40_1.26_0.00_0.00_0.00.fits.gz\n",
      "Quick grid: 6250_4.50_0.50_0.00_1.28_0.00_0.00_0.00.fits.gz\n",
      "Quick grid: 6250_4.50_0.50_0.40_1.28_0.00_0.00_0.00.fits.gz\n",
      "Quick grid: 6250_5.00_-1.00_0.00_1.14_0.00_0.00_0.00.fits.gz\n",
      "Quick grid: 6250_5.00_-1.00_0.40_1.14_0.00_0.00_0.00.fits.gz\n",
      "Quick grid: 6250_5.00_-0.75_0.00_1.15_0.00_0.00_0.00.fits.gz\n",
      "Quick grid: 6250_5.00_-0.75_0.40_1.15_0.00_0.00_0.00.fits.gz\n",
      "Quick grid: 6250_5.00_-0.50_0.00_1.16_0.00_0.00_0.00.fits.gz\n",
      "Quick grid: 6250_5.00_-0.50_0.40_1.16_0.00_0.00_0.00.fits.gz\n",
      "Quick grid: 6250_5.00_-0.25_0.00_1.17_0.00_0.00_0.00.fits.gz\n",
      "Quick grid: 6250_5.00_-0.25_0.40_1.17_0.00_0.00_0.00.fits.gz\n",
      "Quick grid: 6250_5.00_0.00_0.00_1.18_0.00_0.00_0.00.fits.gz\n",
      "Quick grid: 6250_5.00_0.00_0.40_1.18_0.00_0.00_0.00.fits.gz\n",
      "Quick grid: 6250_5.00_0.25_0.00_1.19_0.00_0.00_0.00.fits.gz\n",
      "Quick grid: 6250_5.00_0.25_0.40_1.19_0.00_0.00_0.00.fits.gz\n",
      "Quick grid: 6250_5.00_0.50_0.00_1.21_0.00_0.00_0.00.fits.gz\n",
      "Quick grid: 6250_5.00_0.50_0.40_1.21_0.00_0.00_0.00.fits.gz\n",
      "Quick grid: 6500_3.00_-1.00_0.00_2.06_0.00_0.00_0.00.fits.gz\n",
      "Quick grid: 6500_3.00_-1.00_0.40_2.06_0.00_0.00_0.00.fits.gz\n",
      "Quick grid: 6500_3.00_-0.75_0.00_2.06_0.00_0.00_0.00.fits.gz\n",
      "Quick grid: 6500_3.00_-0.75_0.40_2.06_0.00_0.00_0.00.fits.gz\n",
      "Quick grid: 6500_3.00_-0.50_0.00_2.07_0.00_0.00_0.00.fits.gz\n",
      "Quick grid: 6500_3.00_-0.50_0.40_2.07_0.00_0.00_0.00.fits.gz\n",
      "Quick grid: 6500_3.00_-0.25_0.00_2.08_0.00_0.00_0.00.fits.gz\n",
      "Quick grid: 6500_3.00_-0.25_0.40_2.08_0.00_0.00_0.00.fits.gz\n",
      "Quick grid: 6500_3.00_0.00_0.00_2.10_0.00_0.00_0.00.fits.gz\n",
      "Quick grid: 6500_3.00_0.00_0.40_2.10_0.00_0.00_0.00.fits.gz\n",
      "Quick grid: 6500_3.00_0.25_0.00_2.11_0.00_0.00_0.00.fits.gz\n",
      "Quick grid: 6500_3.00_0.25_0.40_2.11_0.00_0.00_0.00.fits.gz\n",
      "Quick grid: 6500_3.00_0.50_0.00_2.12_0.00_0.00_0.00.fits.gz\n",
      "Quick grid: 6500_3.00_0.50_0.40_2.12_0.00_0.00_0.00.fits.gz\n",
      "Quick grid: 6500_3.50_-1.00_0.00_1.48_0.00_0.00_0.00.fits.gz\n",
      "Quick grid: 6500_3.50_-1.00_0.40_1.48_0.00_0.00_0.00.fits.gz\n",
      "Quick grid: 6500_3.50_-0.75_0.00_1.49_0.00_0.00_0.00.fits.gz\n",
      "Quick grid: 6500_3.50_-0.75_0.40_1.49_0.00_0.00_0.00.fits.gz\n",
      "Quick grid: 6500_3.50_-0.50_0.00_1.50_0.00_0.00_0.00.fits.gz\n",
      "Quick grid: 6500_3.50_-0.50_0.40_1.50_0.00_0.00_0.00.fits.gz\n",
      "Quick grid: 6500_3.50_-0.25_0.00_1.51_0.00_0.00_0.00.fits.gz\n",
      "Quick grid: 6500_3.50_-0.25_0.40_1.51_0.00_0.00_0.00.fits.gz\n",
      "Quick grid: 6500_3.50_0.00_0.00_1.52_0.00_0.00_0.00.fits.gz\n",
      "Quick grid: 6500_3.50_0.00_0.40_1.52_0.00_0.00_0.00.fits.gz\n",
      "Quick grid: 6500_3.50_0.25_0.00_1.53_0.00_0.00_0.00.fits.gz\n",
      "Quick grid: 6500_3.50_0.25_0.40_1.53_0.00_0.00_0.00.fits.gz\n",
      "Quick grid: 6500_3.50_0.50_0.00_1.55_0.00_0.00_0.00.fits.gz\n",
      "Quick grid: 6500_3.50_0.50_0.40_1.55_0.00_0.00_0.00.fits.gz\n",
      "Quick grid: 6500_4.00_-1.00_0.00_1.41_0.00_0.00_0.00.fits.gz\n",
      "Quick grid: 6500_4.00_-1.00_0.40_1.41_0.00_0.00_0.00.fits.gz\n",
      "Quick grid: 6500_4.00_-0.75_0.00_1.42_0.00_0.00_0.00.fits.gz\n",
      "Quick grid: 6500_4.00_-0.75_0.40_1.42_0.00_0.00_0.00.fits.gz\n",
      "Quick grid: 6500_4.00_-0.50_0.00_1.43_0.00_0.00_0.00.fits.gz\n",
      "Quick grid: 6500_4.00_-0.50_0.40_1.43_0.00_0.00_0.00.fits.gz\n",
      "Quick grid: 6500_4.00_-0.25_0.00_1.44_0.00_0.00_0.00.fits.gz\n",
      "Quick grid: 6500_4.00_-0.25_0.40_1.44_0.00_0.00_0.00.fits.gz\n",
      "Quick grid: 6500_4.00_0.00_0.00_1.45_0.00_0.00_0.00.fits.gz\n",
      "Quick grid: 6500_4.00_0.00_0.40_1.45_0.00_0.00_0.00.fits.gz\n",
      "Quick grid: 6500_4.00_0.25_0.00_1.46_0.00_0.00_0.00.fits.gz\n",
      "Quick grid: 6500_4.00_0.25_0.40_1.46_0.00_0.00_0.00.fits.gz\n",
      "Quick grid: 6500_4.00_0.50_0.00_1.48_0.00_0.00_0.00.fits.gz\n",
      "Quick grid: 6500_4.00_0.50_0.40_1.48_0.00_0.00_0.00.fits.gz\n",
      "Quick grid: 6500_4.50_-1.00_0.00_1.34_0.00_0.00_0.00.fits.gz\n",
      "Quick grid: 6500_4.50_-1.00_0.40_1.34_0.00_0.00_0.00.fits.gz\n",
      "Quick grid: 6500_4.50_-0.75_0.00_1.35_0.00_0.00_0.00.fits.gz\n",
      "Quick grid: 6500_4.50_-0.75_0.40_1.35_0.00_0.00_0.00.fits.gz\n",
      "Quick grid: 6500_4.50_-0.50_0.00_1.36_0.00_0.00_0.00.fits.gz\n",
      "Quick grid: 6500_4.50_-0.50_0.40_1.36_0.00_0.00_0.00.fits.gz\n",
      "Quick grid: 6500_4.50_-0.25_0.00_1.37_0.00_0.00_0.00.fits.gz\n",
      "Quick grid: 6500_4.50_-0.25_0.40_1.37_0.00_0.00_0.00.fits.gz\n",
      "Quick grid: 6500_4.50_0.00_0.00_1.38_0.00_0.00_0.00.fits.gz\n",
      "Quick grid: 6500_4.50_0.00_0.40_1.38_0.00_0.00_0.00.fits.gz\n",
      "Quick grid: 6500_4.50_0.25_0.00_1.39_0.00_0.00_0.00.fits.gz\n",
      "Quick grid: 6500_4.50_0.25_0.40_1.39_0.00_0.00_0.00.fits.gz\n",
      "Quick grid: 6500_4.50_0.50_0.00_1.41_0.00_0.00_0.00.fits.gz\n",
      "Quick grid: 6500_4.50_0.50_0.40_1.41_0.00_0.00_0.00.fits.gz\n",
      "Quick grid: 6500_5.00_-1.00_0.00_1.27_0.00_0.00_0.00.fits.gz\n",
      "Quick grid: 6500_5.00_-1.00_0.40_1.27_0.00_0.00_0.00.fits.gz\n",
      "Quick grid: 6500_5.00_-0.75_0.00_1.27_0.00_0.00_0.00.fits.gz\n",
      "Quick grid: 6500_5.00_-0.75_0.40_1.27_0.00_0.00_0.00.fits.gz\n",
      "Quick grid: 6500_5.00_-0.50_0.00_1.28_0.00_0.00_0.00.fits.gz\n",
      "Quick grid: 6500_5.00_-0.50_0.40_1.28_0.00_0.00_0.00.fits.gz\n",
      "Quick grid: 6500_5.00_-0.25_0.00_1.29_0.00_0.00_0.00.fits.gz\n",
      "Quick grid: 6500_5.00_-0.25_0.40_1.29_0.00_0.00_0.00.fits.gz\n",
      "Quick grid: 6500_5.00_0.00_0.00_1.31_0.00_0.00_0.00.fits.gz\n",
      "Quick grid: 6500_5.00_0.00_0.40_1.31_0.00_0.00_0.00.fits.gz\n",
      "Quick grid: 6500_5.00_0.25_0.00_1.32_0.00_0.00_0.00.fits.gz\n",
      "Quick grid: 6500_5.00_0.25_0.40_1.32_0.00_0.00_0.00.fits.gz\n",
      "Quick grid: 6500_5.00_0.50_0.00_1.33_0.00_0.00_0.00.fits.gz\n",
      "Quick grid: 6500_5.00_0.50_0.40_1.33_0.00_0.00_0.00.fits.gz\n",
      "Quick grid: 6750_3.00_-1.00_0.00_2.33_0.00_0.00_0.00.fits.gz\n",
      "Quick grid: 6750_3.00_-1.00_0.40_2.33_0.00_0.00_0.00.fits.gz\n",
      "Quick grid: 6750_3.00_-0.75_0.00_2.34_0.00_0.00_0.00.fits.gz\n",
      "Quick grid: 6750_3.00_-0.75_0.40_2.34_0.00_0.00_0.00.fits.gz\n",
      "Quick grid: 6750_3.00_-0.50_0.00_2.35_0.00_0.00_0.00.fits.gz\n",
      "Quick grid: 6750_3.00_-0.50_0.40_2.35_0.00_0.00_0.00.fits.gz\n",
      "Quick grid: 6750_3.00_-0.25_0.00_2.36_0.00_0.00_0.00.fits.gz\n",
      "Quick grid: 6750_3.00_-0.25_0.40_2.36_0.00_0.00_0.00.fits.gz\n",
      "Quick grid: 6750_3.00_0.00_0.00_2.37_0.00_0.00_0.00.fits.gz\n",
      "Quick grid: 6750_3.00_0.00_0.40_2.37_0.00_0.00_0.00.fits.gz\n",
      "Quick grid: 6750_3.00_0.25_0.00_2.38_0.00_0.00_0.00.fits.gz\n",
      "Quick grid: 6750_3.00_0.25_0.40_2.38_0.00_0.00_0.00.fits.gz\n",
      "Quick grid: 6750_3.00_0.50_0.00_2.40_0.00_0.00_0.00.fits.gz\n",
      "Quick grid: 6750_3.00_0.50_0.40_2.40_0.00_0.00_0.00.fits.gz\n",
      "Quick grid: 6750_3.50_-1.00_0.00_1.63_0.00_0.00_0.00.fits.gz\n",
      "Quick grid: 6750_3.50_-1.00_0.40_1.63_0.00_0.00_0.00.fits.gz\n",
      "Quick grid: 6750_3.50_-0.75_0.00_1.64_0.00_0.00_0.00.fits.gz\n",
      "Quick grid: 6750_3.50_-0.75_0.40_1.64_0.00_0.00_0.00.fits.gz\n",
      "Quick grid: 6750_3.50_-0.50_0.00_1.64_0.00_0.00_0.00.fits.gz\n",
      "Quick grid: 6750_3.50_-0.50_0.40_1.64_0.00_0.00_0.00.fits.gz\n",
      "Quick grid: 6750_3.50_-0.25_0.00_1.66_0.00_0.00_0.00.fits.gz\n",
      "Quick grid: 6750_3.50_-0.25_0.40_1.66_0.00_0.00_0.00.fits.gz\n",
      "Quick grid: 6750_3.50_0.00_0.00_1.67_0.00_0.00_0.00.fits.gz\n",
      "Quick grid: 6750_3.50_0.00_0.40_1.67_0.00_0.00_0.00.fits.gz\n",
      "Quick grid: 6750_3.50_0.25_0.00_1.68_0.00_0.00_0.00.fits.gz\n",
      "Quick grid: 6750_3.50_0.25_0.40_1.68_0.00_0.00_0.00.fits.gz\n",
      "Quick grid: 6750_3.50_0.50_0.00_1.69_0.00_0.00_0.00.fits.gz\n",
      "Quick grid: 6750_3.50_0.50_0.40_1.69_0.00_0.00_0.00.fits.gz\n",
      "Quick grid: 6750_4.00_-1.00_0.00_1.56_0.00_0.00_0.00.fits.gz\n",
      "Quick grid: 6750_4.00_-1.00_0.40_1.56_0.00_0.00_0.00.fits.gz\n",
      "Quick grid: 6750_4.00_-0.75_0.00_1.57_0.00_0.00_0.00.fits.gz\n",
      "Quick grid: 6750_4.00_-0.75_0.40_1.57_0.00_0.00_0.00.fits.gz\n",
      "Quick grid: 6750_4.00_-0.50_0.00_1.58_0.00_0.00_0.00.fits.gz\n",
      "Quick grid: 6750_4.00_-0.50_0.40_1.58_0.00_0.00_0.00.fits.gz\n",
      "Quick grid: 6750_4.00_-0.25_0.00_1.59_0.00_0.00_0.00.fits.gz\n",
      "Quick grid: 6750_4.00_-0.25_0.40_1.59_0.00_0.00_0.00.fits.gz\n",
      "Quick grid: 6750_4.00_0.00_0.00_1.60_0.00_0.00_0.00.fits.gz\n",
      "Quick grid: 6750_4.00_0.00_0.40_1.60_0.00_0.00_0.00.fits.gz\n",
      "Quick grid: 6750_4.00_0.25_0.00_1.61_0.00_0.00_0.00.fits.gz\n",
      "Quick grid: 6750_4.00_0.25_0.40_1.61_0.00_0.00_0.00.fits.gz\n",
      "Quick grid: 6750_4.00_0.50_0.00_1.63_0.00_0.00_0.00.fits.gz\n",
      "Quick grid: 6750_4.00_0.50_0.40_1.63_0.00_0.00_0.00.fits.gz\n",
      "Quick grid: 6750_4.50_-1.00_0.00_1.49_0.00_0.00_0.00.fits.gz\n",
      "Quick grid: 6750_4.50_-1.00_0.40_1.49_0.00_0.00_0.00.fits.gz\n",
      "Quick grid: 6750_4.50_-0.75_0.00_1.49_0.00_0.00_0.00.fits.gz\n",
      "Quick grid: 6750_4.50_-0.75_0.40_1.49_0.00_0.00_0.00.fits.gz\n",
      "Quick grid: 6750_4.50_-0.50_0.00_1.50_0.00_0.00_0.00.fits.gz\n",
      "Quick grid: 6750_4.50_-0.50_0.40_1.50_0.00_0.00_0.00.fits.gz\n",
      "Quick grid: 6750_4.50_-0.25_0.00_1.52_0.00_0.00_0.00.fits.gz\n",
      "Quick grid: 6750_4.50_-0.25_0.40_1.52_0.00_0.00_0.00.fits.gz\n",
      "Quick grid: 6750_4.50_0.00_0.00_1.53_0.00_0.00_0.00.fits.gz\n",
      "Quick grid: 6750_4.50_0.00_0.40_1.53_0.00_0.00_0.00.fits.gz\n",
      "Quick grid: 6750_4.50_0.25_0.00_1.54_0.00_0.00_0.00.fits.gz\n",
      "Quick grid: 6750_4.50_0.25_0.40_1.54_0.00_0.00_0.00.fits.gz\n",
      "Quick grid: 6750_4.50_0.50_0.00_1.55_0.00_0.00_0.00.fits.gz\n",
      "Quick grid: 6750_4.50_0.50_0.40_1.55_0.00_0.00_0.00.fits.gz\n",
      "Quick grid: 6750_5.00_-1.00_0.00_1.41_0.00_0.00_0.00.fits.gz\n",
      "Quick grid: 6750_5.00_-1.00_0.40_1.41_0.00_0.00_0.00.fits.gz\n",
      "Quick grid: 6750_5.00_-0.75_0.00_1.42_0.00_0.00_0.00.fits.gz\n",
      "Quick grid: 6750_5.00_-0.75_0.40_1.42_0.00_0.00_0.00.fits.gz\n",
      "Quick grid: 6750_5.00_-0.50_0.00_1.43_0.00_0.00_0.00.fits.gz\n",
      "Quick grid: 6750_5.00_-0.50_0.40_1.43_0.00_0.00_0.00.fits.gz\n",
      "Quick grid: 6750_5.00_-0.25_0.00_1.44_0.00_0.00_0.00.fits.gz\n",
      "Quick grid: 6750_5.00_-0.25_0.40_1.44_0.00_0.00_0.00.fits.gz\n",
      "Quick grid: 6750_5.00_0.00_0.00_1.45_0.00_0.00_0.00.fits.gz\n",
      "Quick grid: 6750_5.00_0.00_0.40_1.45_0.00_0.00_0.00.fits.gz\n",
      "Quick grid: 6750_5.00_0.25_0.00_1.47_0.00_0.00_0.00.fits.gz\n",
      "Quick grid: 6750_5.00_0.25_0.40_1.47_0.00_0.00_0.00.fits.gz\n",
      "Quick grid: 6750_5.00_0.50_0.00_1.48_0.00_0.00_0.00.fits.gz\n",
      "Quick grid: 6750_5.00_0.50_0.40_1.48_0.00_0.00_0.00.fits.gz\n",
      "Quick grid: 7000_3.00_-1.00_0.00_2.64_0.00_0.00_0.00.fits.gz\n",
      "Quick grid: 7000_3.00_-1.00_0.40_2.64_0.00_0.00_0.00.fits.gz\n",
      "Quick grid: 7000_3.00_-0.75_0.00_2.65_0.00_0.00_0.00.fits.gz\n",
      "Quick grid: 7000_3.00_-0.75_0.40_2.65_0.00_0.00_0.00.fits.gz\n",
      "Quick grid: 7000_3.00_-0.50_0.00_2.66_0.00_0.00_0.00.fits.gz\n",
      "Quick grid: 7000_3.00_-0.50_0.40_2.66_0.00_0.00_0.00.fits.gz\n",
      "Quick grid: 7000_3.00_-0.25_0.00_2.67_0.00_0.00_0.00.fits.gz\n",
      "Quick grid: 7000_3.00_-0.25_0.40_2.67_0.00_0.00_0.00.fits.gz\n",
      "Quick grid: 7000_3.00_0.00_0.00_2.68_0.00_0.00_0.00.fits.gz\n",
      "Quick grid: 7000_3.00_0.00_0.40_2.68_0.00_0.00_0.00.fits.gz\n",
      "Quick grid: 7000_3.00_0.25_0.00_2.70_0.00_0.00_0.00.fits.gz\n",
      "Quick grid: 7000_3.00_0.25_0.40_2.70_0.00_0.00_0.00.fits.gz\n",
      "Quick grid: 7000_3.00_0.50_0.00_2.71_0.00_0.00_0.00.fits.gz\n",
      "Quick grid: 7000_3.00_0.50_0.40_2.71_0.00_0.00_0.00.fits.gz\n",
      "Quick grid: 7000_3.50_-1.00_0.00_1.79_0.00_0.00_0.00.fits.gz\n",
      "Quick grid: 7000_3.50_-1.00_0.40_1.79_0.00_0.00_0.00.fits.gz\n",
      "Quick grid: 7000_3.50_-0.75_0.00_1.80_0.00_0.00_0.00.fits.gz\n",
      "Quick grid: 7000_3.50_-0.75_0.40_1.80_0.00_0.00_0.00.fits.gz\n",
      "Quick grid: 7000_3.50_-0.50_0.00_1.81_0.00_0.00_0.00.fits.gz\n",
      "Quick grid: 7000_3.50_-0.50_0.40_1.81_0.00_0.00_0.00.fits.gz\n",
      "Quick grid: 7000_3.50_-0.25_0.00_1.82_0.00_0.00_0.00.fits.gz\n",
      "Quick grid: 7000_3.50_-0.25_0.40_1.82_0.00_0.00_0.00.fits.gz\n",
      "Quick grid: 7000_3.50_0.00_0.00_1.83_0.00_0.00_0.00.fits.gz\n",
      "Quick grid: 7000_3.50_0.00_0.40_1.83_0.00_0.00_0.00.fits.gz\n",
      "Quick grid: 7000_3.50_0.25_0.00_1.85_0.00_0.00_0.00.fits.gz\n",
      "Quick grid: 7000_3.50_0.25_0.40_1.85_0.00_0.00_0.00.fits.gz\n",
      "Quick grid: 7000_3.50_0.50_0.00_1.86_0.00_0.00_0.00.fits.gz\n",
      "Quick grid: 7000_3.50_0.50_0.40_1.86_0.00_0.00_0.00.fits.gz\n",
      "Quick grid: 7000_4.00_-1.00_0.00_1.72_0.00_0.00_0.00.fits.gz\n",
      "Quick grid: 7000_4.00_-1.00_0.40_1.72_0.00_0.00_0.00.fits.gz\n",
      "Quick grid: 7000_4.00_-0.75_0.00_1.73_0.00_0.00_0.00.fits.gz\n",
      "Quick grid: 7000_4.00_-0.75_0.40_1.73_0.00_0.00_0.00.fits.gz\n",
      "Quick grid: 7000_4.00_-0.50_0.00_1.74_0.00_0.00_0.00.fits.gz\n",
      "Quick grid: 7000_4.00_-0.50_0.40_1.74_0.00_0.00_0.00.fits.gz\n",
      "Quick grid: 7000_4.00_-0.25_0.00_1.75_0.00_0.00_0.00.fits.gz\n",
      "Quick grid: 7000_4.00_-0.25_0.40_1.75_0.00_0.00_0.00.fits.gz\n",
      "Quick grid: 7000_4.00_0.00_0.00_1.76_0.00_0.00_0.00.fits.gz\n",
      "Quick grid: 7000_4.00_0.00_0.40_1.76_0.00_0.00_0.00.fits.gz\n",
      "Quick grid: 7000_4.00_0.25_0.00_1.78_0.00_0.00_0.00.fits.gz\n",
      "Quick grid: 7000_4.00_0.25_0.40_1.78_0.00_0.00_0.00.fits.gz\n",
      "Quick grid: 7000_4.00_0.50_0.00_1.79_0.00_0.00_0.00.fits.gz\n",
      "Quick grid: 7000_4.00_0.50_0.40_1.79_0.00_0.00_0.00.fits.gz\n",
      "Quick grid: 7000_4.50_-1.00_0.00_1.65_0.00_0.00_0.00.fits.gz\n",
      "Quick grid: 7000_4.50_-1.00_0.40_1.65_0.00_0.00_0.00.fits.gz\n",
      "Quick grid: 7000_4.50_-0.75_0.00_1.66_0.00_0.00_0.00.fits.gz\n",
      "Quick grid: 7000_4.50_-0.75_0.40_1.66_0.00_0.00_0.00.fits.gz\n",
      "Quick grid: 7000_4.50_-0.50_0.00_1.67_0.00_0.00_0.00.fits.gz\n",
      "Quick grid: 7000_4.50_-0.50_0.40_1.67_0.00_0.00_0.00.fits.gz\n",
      "Quick grid: 7000_4.50_-0.25_0.00_1.68_0.00_0.00_0.00.fits.gz\n",
      "Quick grid: 7000_4.50_-0.25_0.40_1.68_0.00_0.00_0.00.fits.gz\n",
      "Quick grid: 7000_4.50_0.00_0.00_1.69_0.00_0.00_0.00.fits.gz\n",
      "Quick grid: 7000_4.50_0.00_0.40_1.69_0.00_0.00_0.00.fits.gz\n",
      "Quick grid: 7000_4.50_0.25_0.00_1.71_0.00_0.00_0.00.fits.gz\n",
      "Quick grid: 7000_4.50_0.25_0.40_1.71_0.00_0.00_0.00.fits.gz\n",
      "Quick grid: 7000_4.50_0.50_0.00_1.72_0.00_0.00_0.00.fits.gz\n",
      "Quick grid: 7000_4.50_0.50_0.40_1.72_0.00_0.00_0.00.fits.gz\n",
      "Quick grid: 7000_5.00_-1.00_0.00_1.58_0.00_0.00_0.00.fits.gz\n",
      "Quick grid: 7000_5.00_-1.00_0.40_1.58_0.00_0.00_0.00.fits.gz\n",
      "Quick grid: 7000_5.00_-0.75_0.00_1.59_0.00_0.00_0.00.fits.gz\n",
      "Quick grid: 7000_5.00_-0.75_0.40_1.59_0.00_0.00_0.00.fits.gz\n",
      "Quick grid: 7000_5.00_-0.50_0.00_1.60_0.00_0.00_0.00.fits.gz\n",
      "Quick grid: 7000_5.00_-0.50_0.40_1.60_0.00_0.00_0.00.fits.gz\n",
      "Quick grid: 7000_5.00_-0.25_0.00_1.61_0.00_0.00_0.00.fits.gz\n",
      "Quick grid: 7000_5.00_-0.25_0.40_1.61_0.00_0.00_0.00.fits.gz\n",
      "Quick grid: 7000_5.00_0.00_0.00_1.62_0.00_0.00_0.00.fits.gz\n",
      "Quick grid: 7000_5.00_0.00_0.40_1.62_0.00_0.00_0.00.fits.gz\n",
      "Quick grid: 7000_5.00_0.25_0.00_1.63_0.00_0.00_0.00.fits.gz\n",
      "Quick grid: 7000_5.00_0.25_0.40_1.63_0.00_0.00_0.00.fits.gz\n",
      "Quick grid: 7000_5.00_0.50_0.00_1.65_0.00_0.00_0.00.fits.gz\n",
      "Quick grid: 7000_5.00_0.50_0.40_1.65_0.00_0.00_0.00.fits.gz\n",
      "Quick grid: 7250_3.00_-1.00_0.00_3.00_0.00_0.00_0.00.fits.gz\n",
      "Quick grid: 7250_3.00_-1.00_0.40_3.00_0.00_0.00_0.00.fits.gz\n",
      "Quick grid: 7250_3.00_-0.75_0.00_3.00_0.00_0.00_0.00.fits.gz\n",
      "Quick grid: 7250_3.00_-0.75_0.40_3.00_0.00_0.00_0.00.fits.gz\n",
      "Quick grid: 7250_3.00_-0.50_0.00_3.01_0.00_0.00_0.00.fits.gz\n",
      "Quick grid: 7250_3.00_-0.50_0.40_3.01_0.00_0.00_0.00.fits.gz\n",
      "Quick grid: 7250_3.00_-0.25_0.00_3.02_0.00_0.00_0.00.fits.gz\n",
      "Quick grid: 7250_3.00_-0.25_0.40_3.02_0.00_0.00_0.00.fits.gz\n",
      "Quick grid: 7250_3.00_0.00_0.00_3.04_0.00_0.00_0.00.fits.gz\n",
      "Quick grid: 7250_3.00_0.00_0.40_3.04_0.00_0.00_0.00.fits.gz\n",
      "Quick grid: 7250_3.00_0.25_0.00_3.05_0.00_0.00_0.00.fits.gz\n",
      "Quick grid: 7250_3.00_0.25_0.40_3.05_0.00_0.00_0.00.fits.gz\n",
      "Quick grid: 7250_3.00_0.50_0.00_3.06_0.00_0.00_0.00.fits.gz\n",
      "Quick grid: 7250_3.00_0.50_0.40_3.06_0.00_0.00_0.00.fits.gz\n",
      "Quick grid: 7250_3.50_-1.00_0.00_1.98_0.00_0.00_0.00.fits.gz\n",
      "Quick grid: 7250_3.50_-1.00_0.40_1.98_0.00_0.00_0.00.fits.gz\n",
      "Quick grid: 7250_3.50_-0.75_0.00_1.99_0.00_0.00_0.00.fits.gz\n",
      "Quick grid: 7250_3.50_-0.75_0.40_1.99_0.00_0.00_0.00.fits.gz\n",
      "Quick grid: 7250_3.50_-0.50_0.00_1.99_0.00_0.00_0.00.fits.gz\n",
      "Quick grid: 7250_3.50_-0.50_0.40_1.99_0.00_0.00_0.00.fits.gz\n",
      "Quick grid: 7250_3.50_-0.25_0.00_2.01_0.00_0.00_0.00.fits.gz\n",
      "Quick grid: 7250_3.50_-0.25_0.40_2.01_0.00_0.00_0.00.fits.gz\n",
      "Quick grid: 7250_3.50_0.00_0.00_2.02_0.00_0.00_0.00.fits.gz\n",
      "Quick grid: 7250_3.50_0.00_0.40_2.02_0.00_0.00_0.00.fits.gz\n",
      "Quick grid: 7250_3.50_0.25_0.00_2.03_0.00_0.00_0.00.fits.gz\n",
      "Quick grid: 7250_3.50_0.25_0.40_2.03_0.00_0.00_0.00.fits.gz\n",
      "Quick grid: 7250_3.50_0.50_0.00_2.04_0.00_0.00_0.00.fits.gz\n",
      "Quick grid: 7250_3.50_0.50_0.40_2.04_0.00_0.00_0.00.fits.gz\n",
      "Quick grid: 7250_4.00_-1.00_0.00_1.91_0.00_0.00_0.00.fits.gz\n",
      "Quick grid: 7250_4.00_-1.00_0.40_1.91_0.00_0.00_0.00.fits.gz\n",
      "Quick grid: 7250_4.00_-0.75_0.00_1.92_0.00_0.00_0.00.fits.gz\n",
      "Quick grid: 7250_4.00_-0.75_0.40_1.92_0.00_0.00_0.00.fits.gz\n",
      "Quick grid: 7250_4.00_-0.50_0.00_1.93_0.00_0.00_0.00.fits.gz\n",
      "Quick grid: 7250_4.00_-0.50_0.40_1.93_0.00_0.00_0.00.fits.gz\n",
      "Quick grid: 7250_4.00_-0.25_0.00_1.94_0.00_0.00_0.00.fits.gz\n",
      "Quick grid: 7250_4.00_-0.25_0.40_1.94_0.00_0.00_0.00.fits.gz\n",
      "Quick grid: 7250_4.00_0.00_0.00_1.95_0.00_0.00_0.00.fits.gz\n",
      "Quick grid: 7250_4.00_0.00_0.40_1.95_0.00_0.00_0.00.fits.gz\n",
      "Quick grid: 7250_4.00_0.25_0.00_1.96_0.00_0.00_0.00.fits.gz\n",
      "Quick grid: 7250_4.00_0.25_0.40_1.96_0.00_0.00_0.00.fits.gz\n",
      "Quick grid: 7250_4.00_0.50_0.00_1.98_0.00_0.00_0.00.fits.gz\n",
      "Quick grid: 7250_4.00_0.50_0.40_1.98_0.00_0.00_0.00.fits.gz\n",
      "Quick grid: 7250_4.50_-1.00_0.00_1.84_0.00_0.00_0.00.fits.gz\n",
      "Quick grid: 7250_4.50_-1.00_0.40_1.84_0.00_0.00_0.00.fits.gz\n",
      "Quick grid: 7250_4.50_-0.75_0.00_1.85_0.00_0.00_0.00.fits.gz\n",
      "Quick grid: 7250_4.50_-0.75_0.40_1.85_0.00_0.00_0.00.fits.gz\n",
      "Quick grid: 7250_4.50_-0.50_0.00_1.85_0.00_0.00_0.00.fits.gz\n",
      "Quick grid: 7250_4.50_-0.50_0.40_1.85_0.00_0.00_0.00.fits.gz\n",
      "Quick grid: 7250_4.50_-0.25_0.00_1.87_0.00_0.00_0.00.fits.gz\n",
      "Quick grid: 7250_4.50_-0.25_0.40_1.87_0.00_0.00_0.00.fits.gz\n",
      "Quick grid: 7250_4.50_0.00_0.00_1.88_0.00_0.00_0.00.fits.gz\n",
      "Quick grid: 7250_4.50_0.00_0.40_1.88_0.00_0.00_0.00.fits.gz\n",
      "Quick grid: 7250_4.50_0.25_0.00_1.89_0.00_0.00_0.00.fits.gz\n",
      "Quick grid: 7250_4.50_0.25_0.40_1.89_0.00_0.00_0.00.fits.gz\n",
      "Quick grid: 7250_4.50_0.50_0.00_1.90_0.00_0.00_0.00.fits.gz\n",
      "Quick grid: 7250_4.50_0.50_0.40_1.90_0.00_0.00_0.00.fits.gz\n",
      "Quick grid: 7250_5.00_-1.00_0.00_1.76_0.00_0.00_0.00.fits.gz\n",
      "Quick grid: 7250_5.00_-1.00_0.40_1.76_0.00_0.00_0.00.fits.gz\n",
      "Quick grid: 7250_5.00_-0.75_0.00_1.77_0.00_0.00_0.00.fits.gz\n",
      "Quick grid: 7250_5.00_-0.75_0.40_1.77_0.00_0.00_0.00.fits.gz\n",
      "Quick grid: 7250_5.00_-0.50_0.00_1.78_0.00_0.00_0.00.fits.gz\n",
      "Quick grid: 7250_5.00_-0.50_0.40_1.78_0.00_0.00_0.00.fits.gz\n",
      "Quick grid: 7250_5.00_-0.25_0.00_1.79_0.00_0.00_0.00.fits.gz\n",
      "Quick grid: 7250_5.00_-0.25_0.40_1.79_0.00_0.00_0.00.fits.gz\n",
      "Quick grid: 7250_5.00_0.00_0.00_1.80_0.00_0.00_0.00.fits.gz\n",
      "Quick grid: 7250_5.00_0.00_0.40_1.80_0.00_0.00_0.00.fits.gz\n",
      "Quick grid: 7250_5.00_0.25_0.00_1.82_0.00_0.00_0.00.fits.gz\n",
      "Quick grid: 7250_5.00_0.25_0.40_1.82_0.00_0.00_0.00.fits.gz\n",
      "Quick grid: 7250_5.00_0.50_0.00_1.83_0.00_0.00_0.00.fits.gz\n",
      "Quick grid: 7250_5.00_0.50_0.40_1.83_0.00_0.00_0.00.fits.gz\n",
      "Quick grid: 7500_3.00_-1.00_0.00_3.39_0.00_0.00_0.00.fits.gz\n",
      "Quick grid: 7500_3.00_-1.00_0.40_3.39_0.00_0.00_0.00.fits.gz\n",
      "Quick grid: 7500_3.00_-0.75_0.00_3.40_0.00_0.00_0.00.fits.gz\n",
      "Quick grid: 7500_3.00_-0.75_0.40_3.40_0.00_0.00_0.00.fits.gz\n",
      "Quick grid: 7500_3.00_-0.50_0.00_3.40_0.00_0.00_0.00.fits.gz\n",
      "Quick grid: 7500_3.00_-0.50_0.40_3.40_0.00_0.00_0.00.fits.gz\n",
      "Quick grid: 7500_3.00_-0.25_0.00_3.42_0.00_0.00_0.00.fits.gz\n",
      "Quick grid: 7500_3.00_-0.25_0.40_3.42_0.00_0.00_0.00.fits.gz\n",
      "Quick grid: 7500_3.00_0.00_0.00_3.43_0.00_0.00_0.00.fits.gz\n",
      "Quick grid: 7500_3.00_0.00_0.40_3.43_0.00_0.00_0.00.fits.gz\n",
      "Quick grid: 7500_3.00_0.25_0.00_3.44_0.00_0.00_0.00.fits.gz\n",
      "Quick grid: 7500_3.00_0.25_0.40_3.44_0.00_0.00_0.00.fits.gz\n",
      "Quick grid: 7500_3.00_0.50_0.00_3.45_0.00_0.00_0.00.fits.gz\n",
      "Quick grid: 7500_3.00_0.50_0.40_3.45_0.00_0.00_0.00.fits.gz\n",
      "Quick grid: 7500_3.50_-1.00_0.00_2.18_0.00_0.00_0.00.fits.gz\n",
      "Quick grid: 7500_3.50_-1.00_0.40_2.18_0.00_0.00_0.00.fits.gz\n",
      "Quick grid: 7500_3.50_-0.75_0.00_2.19_0.00_0.00_0.00.fits.gz\n",
      "Quick grid: 7500_3.50_-0.75_0.40_2.19_0.00_0.00_0.00.fits.gz\n",
      "Quick grid: 7500_3.50_-0.50_0.00_2.20_0.00_0.00_0.00.fits.gz\n",
      "Quick grid: 7500_3.50_-0.50_0.40_2.20_0.00_0.00_0.00.fits.gz\n",
      "Quick grid: 7500_3.50_-0.25_0.00_2.21_0.00_0.00_0.00.fits.gz\n",
      "Quick grid: 7500_3.50_-0.25_0.40_2.21_0.00_0.00_0.00.fits.gz\n",
      "Quick grid: 7500_3.50_0.00_0.00_2.22_0.00_0.00_0.00.fits.gz\n",
      "Quick grid: 7500_3.50_0.00_0.40_2.22_0.00_0.00_0.00.fits.gz\n",
      "Quick grid: 7500_3.50_0.25_0.00_2.23_0.00_0.00_0.00.fits.gz\n",
      "Quick grid: 7500_3.50_0.25_0.40_2.23_0.00_0.00_0.00.fits.gz\n",
      "Quick grid: 7500_3.50_0.50_0.00_2.25_0.00_0.00_0.00.fits.gz\n",
      "Quick grid: 7500_3.50_0.50_0.40_2.25_0.00_0.00_0.00.fits.gz\n",
      "Quick grid: 7500_4.00_-1.00_0.00_2.11_0.00_0.00_0.00.fits.gz\n",
      "Quick grid: 7500_4.00_-1.00_0.40_2.11_0.00_0.00_0.00.fits.gz\n",
      "Quick grid: 7500_4.00_-0.75_0.00_2.12_0.00_0.00_0.00.fits.gz\n",
      "Quick grid: 7500_4.00_-0.75_0.40_2.12_0.00_0.00_0.00.fits.gz\n",
      "Quick grid: 7500_4.00_-0.50_0.00_2.13_0.00_0.00_0.00.fits.gz\n",
      "Quick grid: 7500_4.00_-0.50_0.40_2.13_0.00_0.00_0.00.fits.gz\n",
      "Quick grid: 7500_4.00_-0.25_0.00_2.14_0.00_0.00_0.00.fits.gz\n",
      "Quick grid: 7500_4.00_-0.25_0.40_2.14_0.00_0.00_0.00.fits.gz\n",
      "Quick grid: 7500_4.00_0.00_0.00_2.15_0.00_0.00_0.00.fits.gz\n",
      "Quick grid: 7500_4.00_0.00_0.40_2.15_0.00_0.00_0.00.fits.gz\n",
      "Quick grid: 7500_4.00_0.25_0.00_2.17_0.00_0.00_0.00.fits.gz\n",
      "Quick grid: 7500_4.00_0.25_0.40_2.17_0.00_0.00_0.00.fits.gz\n",
      "Quick grid: 7500_4.00_0.50_0.00_2.18_0.00_0.00_0.00.fits.gz\n",
      "Quick grid: 7500_4.00_0.50_0.40_2.18_0.00_0.00_0.00.fits.gz\n",
      "Quick grid: 7500_4.50_-1.00_0.00_2.04_0.00_0.00_0.00.fits.gz\n",
      "Quick grid: 7500_4.50_-1.00_0.40_2.04_0.00_0.00_0.00.fits.gz\n",
      "Quick grid: 7500_4.50_-0.75_0.00_2.05_0.00_0.00_0.00.fits.gz\n",
      "Quick grid: 7500_4.50_-0.75_0.40_2.05_0.00_0.00_0.00.fits.gz\n",
      "Quick grid: 7500_4.50_-0.50_0.00_2.06_0.00_0.00_0.00.fits.gz\n",
      "Quick grid: 7500_4.50_-0.50_0.40_2.06_0.00_0.00_0.00.fits.gz\n",
      "Quick grid: 7500_4.50_-0.25_0.00_2.07_0.00_0.00_0.00.fits.gz\n",
      "Quick grid: 7500_4.50_-0.25_0.40_2.07_0.00_0.00_0.00.fits.gz\n",
      "Quick grid: 7500_4.50_0.00_0.00_2.08_0.00_0.00_0.00.fits.gz\n",
      "Quick grid: 7500_4.50_0.00_0.40_2.08_0.00_0.00_0.00.fits.gz\n",
      "Quick grid: 7500_4.50_0.25_0.00_2.09_0.00_0.00_0.00.fits.gz\n",
      "Quick grid: 7500_4.50_0.25_0.40_2.09_0.00_0.00_0.00.fits.gz\n",
      "Quick grid: 7500_4.50_0.50_0.00_2.11_0.00_0.00_0.00.fits.gz\n",
      "Quick grid: 7500_4.50_0.50_0.40_2.11_0.00_0.00_0.00.fits.gz\n",
      "Quick grid: 7500_5.00_-1.00_0.00_1.97_0.00_0.00_0.00.fits.gz\n",
      "Quick grid: 7500_5.00_-1.00_0.40_1.97_0.00_0.00_0.00.fits.gz\n",
      "Quick grid: 7500_5.00_-0.75_0.00_1.98_0.00_0.00_0.00.fits.gz\n",
      "Quick grid: 7500_5.00_-0.75_0.40_1.98_0.00_0.00_0.00.fits.gz\n",
      "Quick grid: 7500_5.00_-0.50_0.00_1.98_0.00_0.00_0.00.fits.gz\n",
      "Quick grid: 7500_5.00_-0.50_0.40_1.98_0.00_0.00_0.00.fits.gz\n",
      "Quick grid: 7500_5.00_-0.25_0.00_2.00_0.00_0.00_0.00.fits.gz\n",
      "Quick grid: 7500_5.00_-0.25_0.40_2.00_0.00_0.00_0.00.fits.gz\n",
      "Quick grid: 7500_5.00_0.00_0.00_2.01_0.00_0.00_0.00.fits.gz\n",
      "Quick grid: 7500_5.00_0.00_0.40_2.01_0.00_0.00_0.00.fits.gz\n",
      "Quick grid: 7500_5.00_0.25_0.00_2.02_0.00_0.00_0.00.fits.gz\n",
      "Quick grid: 7500_5.00_0.25_0.40_2.02_0.00_0.00_0.00.fits.gz\n",
      "Quick grid: 7500_5.00_0.50_0.00_2.03_0.00_0.00_0.00.fits.gz\n",
      "Quick grid: 7500_5.00_0.50_0.40_2.03_0.00_0.00_0.00.fits.gz\n",
      "Written ispecgrid_gaoes_turbospectrum//convolved_grid_400000.fits.gz\n"
     ]
    }
   ],
   "source": [
    "precompute_synthetic_grid(ranges, 500, 600, 80000, \"ispecgrid_gaoes\", \"turbospectrum\", number_of_processes=10)"
   ]
  },
  {
   "cell_type": "code",
   "execution_count": null,
   "id": "0501284f",
   "metadata": {},
   "outputs": [],
   "source": []
  }
 ],
 "metadata": {
  "kernelspec": {
   "display_name": "Python 3.9.7 ('base')",
   "language": "python",
   "name": "python3"
  },
  "language_info": {
   "codemirror_mode": {
    "name": "ipython",
    "version": 3
   },
   "file_extension": ".py",
   "mimetype": "text/x-python",
   "name": "python",
   "nbconvert_exporter": "python",
   "pygments_lexer": "ipython3",
   "version": "3.9.7"
  },
  "vscode": {
   "interpreter": {
    "hash": "359f24a9ef4d34d046c5442a240ac5cfc1e9dc848576e551c8feed79c29f3bc0"
   }
  }
 },
 "nbformat": 4,
 "nbformat_minor": 5
}
