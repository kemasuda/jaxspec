{
 "cells": [
  {
   "cell_type": "code",
   "execution_count": 1,
   "id": "cd9c6b68",
   "metadata": {},
   "outputs": [
    {
     "name": "stderr",
     "output_type": "stream",
     "text": [
      "[2023-01-06 17:52:31,697] [INFO] [utils:_init_num_threads:145]: Note: NumExpr detected 32 cores but \"NUMEXPR_MAX_THREADS\" not set, so enforcing safe limit of 8.\n",
      "[2023-01-06 17:52:31,699] [INFO] [utils:_init_num_threads:157]: NumExpr defaulting to 8 threads.\n"
     ]
    }
   ],
   "source": [
    "import os\n",
    "import sys\n",
    "import numpy as np\n",
    "import logging\n",
    "import multiprocessing\n",
    "from multiprocessing import Pool\n",
    "import pathlib\n",
    "ispec_dir = str(pathlib.Path(\"~/iSpec/\").expanduser()) + \"/\"\n",
    "sys.path.insert(0, os.path.abspath(ispec_dir))\n",
    "import ispec"
   ]
  },
  {
   "cell_type": "code",
   "execution_count": 2,
   "id": "f8dc26b7",
   "metadata": {},
   "outputs": [],
   "source": [
    "teffs = np.arange(3500, 7000.1, 250)\n",
    "loggs = np.arange(3, 5.01, 0.5)\n",
    "fehs = np.arange(-1, 0.51, 0.25)\n",
    "alphas = np.array([0, 0.4])\n",
    "grid_size = len(teffs)*len(loggs)*len(fehs)*len(alphas)"
   ]
  },
  {
   "cell_type": "code",
   "execution_count": 3,
   "id": "f5987919",
   "metadata": {},
   "outputs": [],
   "source": [
    "params = []\n",
    "for t in teffs:\n",
    "    for g in loggs:\n",
    "        for f in fehs:\n",
    "            for a in alphas:\n",
    "                params.append([t, g, f, a])\n",
    "params = np.array(params)"
   ]
  },
  {
   "cell_type": "code",
   "execution_count": 4,
   "id": "603e1207",
   "metadata": {},
   "outputs": [],
   "source": [
    "ranges = np.recarray((grid_size,),  dtype=[('teff', int), ('logg', float), ('MH', float), ('alpha', float), ('vmic', float)])"
   ]
  },
  {
   "cell_type": "code",
   "execution_count": 5,
   "id": "fc241132",
   "metadata": {},
   "outputs": [],
   "source": [
    "for i in range(grid_size):\n",
    "    t, g, m, a = params[i]\n",
    "    vmic = ispec.estimate_vmic(t, g, m)\n",
    "    ranges['teff'][i] = t\n",
    "    ranges['logg'][i] = g\n",
    "    ranges['MH'][i] = m\n",
    "    ranges['alpha'][i] = a\n",
    "    ranges['vmic'][i] = vmic"
   ]
  },
  {
   "cell_type": "code",
   "execution_count": 9,
   "id": "823da2d8",
   "metadata": {},
   "outputs": [],
   "source": [
    "def precompute_synthetic_grid(ranges, wnm_min, wnm_max, wavgrid_length, dir_head, code, atmosphere_model='marcs',\n",
    "                              number_of_processes=1):\n",
    "\n",
    "    precomputed_grid_dir = dir_head + \"_%s/\" % (code)\n",
    "\n",
    "    ## - Read grid ranges from file\n",
    "    #from astropy.io import ascii\n",
    "    #ranges_filename = \"input/minigrid/initial_estimate_grid_ranges.tsv\"\n",
    "    #ranges = ascii.read(ranges_filename, delimiter=\"\\t\")\n",
    "    ## - or define them directly here (example of only 2 reference points):\n",
    "\n",
    "    # wavelengths\n",
    "    initial_wave = wnm_min\n",
    "    final_wave = wnm_max\n",
    "    wavelengths = np.linspace(initial_wave, final_wave, wavgrid_length)\n",
    "    step_wav = np.diff(wavelengths)[0]\n",
    "    res = np.median(wavelengths/step_wav)\n",
    "    print (\"# step wave (AA):\", step_wav*10)\n",
    "    print (\"# resolution:\", res)\n",
    "    assert step_wav < 0.01\n",
    "    assert res > 200000\n",
    "    \n",
    "    to_resolution = 400000 # Individual files will not be convolved but the grid will be (for fast comparison)\n",
    "     # It can be parallelized for computers with multiple processors\n",
    "\n",
    "    # Selected model amtosphere, linelist and solar abundances\n",
    "    #model = ispec_dir + \"/input/atmospheres/MARCS/\"\n",
    "    print (\"# atmosphere model:\", atmosphere_model)\n",
    "    if atmosphere_model == 'marcs':\n",
    "        model = ispec_dir + \"/input/atmospheres/MARCS.GES/\"\n",
    "    else:\n",
    "        model = ispec_dir + \"/input/atmospheres/ATLAS9.Castelli/\"\n",
    "    #model = ispec_dir + \"/input/atmospheres/MARCS.APOGEE/\"\n",
    "    #model = ispec_dir + \"/input/atmospheres/ATLAS9.APOGEE/\"\n",
    "    #model = ispec_dir + \"/input/atmospheres/ATLAS9.Castelli/\"\n",
    "    #model = ispec_dir + \"/input/atmospheres/ATLAS9.Kurucz/\"\n",
    "    #model = ispec_dir + \"/input/atmospheres/ATLAS9.Kirby/\"\n",
    "\n",
    "    #atomic_linelist_file = ispec_dir + \"/input/linelists/transitions/VALD.300_1100nm/atomic_lines.tsv\"\n",
    "    atomic_linelist_file = ispec_dir + \"/input/linelists/transitions/VALD.1100_2400nm/atomic_lines.tsv\"\n",
    "    #atomic_linelist_file = ispec_dir + \"/input/linelists/transitions/GESv6_atom_hfs_iso.420_920nm/atomic_lines.tsv\"\n",
    "    #atomic_linelist_file = ispec_dir + \"/input/linelists/transitions/GESv6_atom_nohfs_noiso.420_920nm/atomic_lines.tsv\"\n",
    "\n",
    "    isotope_file = ispec_dir + \"/input/isotopes/SPECTRUM.lst\"\n",
    "\n",
    "    # Load chemical information and linelist\n",
    "    atomic_linelist = ispec.read_atomic_linelist(atomic_linelist_file, wave_base=initial_wave, wave_top=final_wave)\n",
    "    atomic_linelist = atomic_linelist[atomic_linelist['theoretical_depth'] >= 0.01] # Select lines that have some minimal contribution in the sun\n",
    "\n",
    "    isotopes = ispec.read_isotope_data(isotope_file)\n",
    "\n",
    "    if \"ATLAS\" in model:\n",
    "        solar_abundances_file = ispec_dir + \"/input/abundances/Grevesse.1998/stdatom.dat\"\n",
    "    else:\n",
    "        # MARCS\n",
    "        solar_abundances_file = ispec_dir + \"/input/abundances/Grevesse.2007/stdatom.dat\"\n",
    "    #solar_abundances_file = ispec_dir + \"/input/abundances/Asplund.2005/stdatom.dat\"\n",
    "    #solar_abundances_file = ispec_dir + \"/input/abundances/Asplund.2009/stdatom.dat\"\n",
    "    #solar_abundances_file = ispec_dir + \"/input/abundances/Anders.1989/stdatom.dat\"\n",
    "\n",
    "    # Load model atmospheres\n",
    "    modeled_layers_pack = ispec.load_modeled_layers_pack(model)\n",
    "    # Load SPECTRUM abundances\n",
    "    solar_abundances = ispec.read_solar_abundances(solar_abundances_file)\n",
    "\n",
    "    ## Custom fixed abundances\n",
    "    #fixed_abundances = ispec.create_free_abundances_structure([\"C\", \"N\", \"O\"], chemical_elements, solar_abundances)\n",
    "    #fixed_abundances['Abund'] = [-3.49, -3.71, -3.54] # Abundances in SPECTRUM scale (i.e., x - 12.0 - 0.036) and in the same order [\"C\", \"N\", \"O\"]\n",
    "    ## No fixed abundances\n",
    "    fixed_abundances = None\n",
    "\n",
    "    ispec.precompute_synthetic_grid(precomputed_grid_dir, ranges, wavelengths, to_resolution, \\\n",
    "                                    modeled_layers_pack, atomic_linelist, isotopes, solar_abundances, \\\n",
    "                                    segments=None, number_of_processes=number_of_processes, \\\n",
    "                                    code=code, steps=False)"
   ]
  },
  {
   "cell_type": "code",
   "execution_count": 10,
   "id": "5b64c13c",
   "metadata": {
    "scrolled": false
   },
   "outputs": [
    {
     "name": "stdout",
     "output_type": "stream",
     "text": [
      "# step wave (AA): 0.03333361111344857\n",
      "# resolution: 479995.9999996742\n",
      "# atmosphere model: marcs\n",
      "[started] 3500 3.0 -1.0 0.0 1.78 0.0 0.0[started]  0.03500 0 3.0 \n",
      "-1.0 0.4 1.78 0.0 0.0 0.0 [started] 03500\n",
      " 3.0 -0.75 0.0 1.79 0.0 0.0 0.0[started]  03500\n",
      " 3.0 -0.75 0.4 1.79 0.0[started]  0.0 35000.0  3.00 \n",
      "-0.5 0.0 [started]1.8  35000.0  3.00.0  -0.50.0  0.4 01.8\n",
      " 0.0 0.0[started] 0.0  35000 \n",
      "3.0"
     ]
    },
    {
     "name": "stderr",
     "output_type": "stream",
     "text": [
      "[2023-01-06 17:57:05,140] [INFO] [turbospectrum:generate_spectrum:88]: Spherical model atmosphere with radius 3.65e+11 cm\n",
      "[2023-01-06 17:57:05,140] [INFO] [turbospectrum:generate_spectrum:88]: Spherical model atmosphere with radius 3.65e+11 cm\n"
     ]
    },
    {
     "name": "stdout",
     "output_type": "stream",
     "text": [
      " -0.25 0.0 1.81 0.0 0.0[started]  35000.0  3.00 \n",
      "-0.25"
     ]
    },
    {
     "name": "stderr",
     "output_type": "stream",
     "text": [
      "[2023-01-06 17:57:05,168] [INFO] [turbospectrum:generate_spectrum:88]: Spherical model atmosphere with radius 3.65e+11 cm\n"
     ]
    },
    {
     "name": "stdout",
     "output_type": "stream",
     "text": [
      " 0.4 1.81 0.0 0.0[started]  0.03500 0 \n",
      "3.0 0.0"
     ]
    },
    {
     "name": "stderr",
     "output_type": "stream",
     "text": [
      "[2023-01-06 17:57:05,193] [INFO] [turbospectrum:generate_spectrum:88]: Spherical model atmosphere with radius 3.65e+11 cm\n"
     ]
    },
    {
     "name": "stdout",
     "output_type": "stream",
     "text": [
      " 0.0 1.82[started]  0.03500  3.00.0  0.00.0 0.4  1.820 "
     ]
    },
    {
     "name": "stderr",
     "output_type": "stream",
     "text": [
      "[2023-01-06 17:57:05,223] [INFO] [turbospectrum:generate_spectrum:88]: Spherical model atmosphere with radius 3.65e+11 cm\n"
     ]
    },
    {
     "name": "stdout",
     "output_type": "stream",
     "text": [
      "\n",
      "0.0 0.0 0.0 "
     ]
    },
    {
     "name": "stderr",
     "output_type": "stream",
     "text": [
      "[2023-01-06 17:57:05,235] [INFO] [turbospectrum:generate_spectrum:88]: Spherical model atmosphere with radius 3.65e+11 cm\n"
     ]
    },
    {
     "name": "stdout",
     "output_type": "stream",
     "text": [
      "0\n"
     ]
    },
    {
     "name": "stderr",
     "output_type": "stream",
     "text": [
      "[2023-01-06 17:57:05,269] [INFO] [turbospectrum:generate_spectrum:88]: Spherical model atmosphere with radius 3.65e+11 cm\n",
      "[2023-01-06 17:57:05,285] [INFO] [turbospectrum:generate_spectrum:88]: Spherical model atmosphere with radius 3.65e+11 cm\n",
      "[2023-01-06 17:57:05,316] [INFO] [turbospectrum:generate_spectrum:88]: Spherical model atmosphere with radius 3.65e+11 cm\n",
      "[2023-01-06 17:57:05,332] [INFO] [turbospectrum:generate_spectrum:88]: Spherical model atmosphere with radius 3.65e+11 cm\n"
     ]
    },
    {
     "name": "stdout",
     "output_type": "stream",
     "text": [
      "[finished] 3500 3.0 -0.5 0.4 1.8 0.0 0.0 0.0 0\n",
      "[finished] 3500 3.0 [started]-1.0 3500  3.00.4  0.25 1.78 0.00.0 0.0 0.0 0\n",
      " 1.84 0.0 0.0 0.0 [started]0 3500\n",
      " 3.0 0.25 0.4 1.84 0.0 0.0 0.0 0\n",
      "[finished] 3500 3.0 -0.75 0.0 1.79 0.0 0.0 0.0 0\n"
     ]
    },
    {
     "name": "stderr",
     "output_type": "stream",
     "text": [
      "[2023-01-06 17:58:47,710] [INFO] [turbospectrum:generate_spectrum:88]: Spherical model atmosphere with radius 3.65e+11 cm\n"
     ]
    },
    {
     "name": "stdout",
     "output_type": "stream",
     "text": [
      "[started] 3500 3.0 0.5 0.0 1.85 0.0"
     ]
    },
    {
     "name": "stderr",
     "output_type": "stream",
     "text": [
      "[2023-01-06 17:58:47,726] [INFO] [turbospectrum:generate_spectrum:88]: Spherical model atmosphere with radius 3.65e+11 cm\n"
     ]
    },
    {
     "name": "stdout",
     "output_type": "stream",
     "text": [
      " 0.0 0.0 0\n"
     ]
    },
    {
     "name": "stderr",
     "output_type": "stream",
     "text": [
      "[2023-01-06 17:58:47,827] [INFO] [turbospectrum:generate_spectrum:88]: Spherical model atmosphere with radius 3.65e+11 cm\n"
     ]
    },
    {
     "name": "stdout",
     "output_type": "stream",
     "text": [
      "[finished] 3500 3.0 -1.0 0.0 [finished]1.78  35000.0 3.0  0.00.0  0.00.0  01.82\n",
      " 0.0 0.0 0.0 0\n",
      "[started] 3500 3.0 0.5[started] 0.4  1.853500  0.03.5  0.0-1.0  0.00.0 0 \n",
      "0.99 0.0 0.0 0.0 0\n"
     ]
    },
    {
     "name": "stderr",
     "output_type": "stream",
     "text": [
      "[2023-01-06 17:58:48,128] [INFO] [turbospectrum:generate_spectrum:88]: Spherical model atmosphere with radius 3.65e+11 cm\n",
      "[2023-01-06 17:58:48,138] [INFO] [turbospectrum:generate_spectrum:88]: Spherical model atmosphere with radius 2.05e+11 cm\n"
     ]
    },
    {
     "name": "stdout",
     "output_type": "stream",
     "text": [
      "[finished] 3500 3.0 0.0 [finished] 0.43500  1.823.0  0.0 -0.75 0.0 0.40.0  1.790 \n",
      "0.0 0.0 0.0 0\n",
      "[started] 3500 3.5 -1.0 0.4 0.99[started]  0.03500  0.0 3.50.0  0-0.75\n",
      " 0.0 1.0 0.0 0.0 0.0 0\n"
     ]
    },
    {
     "name": "stderr",
     "output_type": "stream",
     "text": [
      "[2023-01-06 17:58:48,362] [INFO] [turbospectrum:generate_spectrum:88]: Spherical model atmosphere with radius 2.05e+11 cm\n",
      "[2023-01-06 17:58:48,362] [INFO] [turbospectrum:generate_spectrum:88]: Spherical model atmosphere with radius 2.05e+11 cm\n"
     ]
    },
    {
     "name": "stdout",
     "output_type": "stream",
     "text": [
      "[finished] 3500 3.0 -0.25 0.4 1.81 0.0 0.0 0.0 0\n",
      "[started] 3500 3.5 -0.75 0.4 1.0 0.0 0.0 0.0 0\n"
     ]
    },
    {
     "name": "stderr",
     "output_type": "stream",
     "text": [
      "[2023-01-06 17:58:48,535] [INFO] [turbospectrum:generate_spectrum:88]: Spherical model atmosphere with radius 2.05e+11 cm\n"
     ]
    },
    {
     "name": "stdout",
     "output_type": "stream",
     "text": [
      "[finished] 3500 3.0 -0.25 0.0 1.81 0.0 0.0 0.0 0\n",
      "[started] 3500 3.5 -0.5 0.0 1.01 0.0 0.0 0.0 0\n"
     ]
    },
    {
     "name": "stderr",
     "output_type": "stream",
     "text": [
      "[2023-01-06 17:58:48,857] [INFO] [turbospectrum:generate_spectrum:88]: Spherical model atmosphere with radius 2.05e+11 cm\n"
     ]
    },
    {
     "name": "stdout",
     "output_type": "stream",
     "text": [
      "[finished] 3500 3.0 -0.5 0.0 1.8 0.0 0.0 0.0 0\n",
      "[started] 3500 3.5 -0.5 0.4 1.01 0.0 0.0 0.0 0\n"
     ]
    },
    {
     "name": "stderr",
     "output_type": "stream",
     "text": [
      "[2023-01-06 17:58:49,530] [INFO] [turbospectrum:generate_spectrum:88]: Spherical model atmosphere with radius 2.05e+11 cm\n"
     ]
    },
    {
     "name": "stdout",
     "output_type": "stream",
     "text": [
      "[finished] 3500 3.0 0.25 0.4 1.84 0.0 0.0 0.0 0\n",
      "[started] 3500 3.5 -0.25 0.0 1.02 0.0 0.0 0.0 0\n",
      "[finished] 3500 3.0 0.5 0.4 1.85 0.0 0.0 0.0 0\n",
      "[started] 3500 3.5 -0.25 0.4 1.02 0.0 0.0 0.0 0\n"
     ]
    },
    {
     "name": "stderr",
     "output_type": "stream",
     "text": [
      "[2023-01-06 18:00:30,466] [INFO] [turbospectrum:generate_spectrum:88]: Spherical model atmosphere with radius 2.05e+11 cm\n",
      "[2023-01-06 18:00:30,530] [INFO] [turbospectrum:generate_spectrum:88]: Spherical model atmosphere with radius 2.05e+11 cm\n"
     ]
    },
    {
     "name": "stdout",
     "output_type": "stream",
     "text": [
      "[finished] 3500 3.0 0.25 0.0 1.84 0.0 0.0 0.0 0\n",
      "[started] 3500 3.5 0.0 0.0 1.03 0.0 0.0 0.0 0\n"
     ]
    },
    {
     "name": "stderr",
     "output_type": "stream",
     "text": [
      "[2023-01-06 18:00:30,963] [INFO] [turbospectrum:generate_spectrum:88]: Spherical model atmosphere with radius 2.05e+11 cm\n"
     ]
    },
    {
     "name": "stdout",
     "output_type": "stream",
     "text": [
      "[finished] 3500 3.5 -1.0 0.4 0.99 0.0 0.0 0.0 0\n",
      "[started] 3500 3.5 0.0 0.4 1.03 0.0 0.0 0.0 0\n"
     ]
    },
    {
     "name": "stderr",
     "output_type": "stream",
     "text": [
      "[2023-01-06 18:00:31,275] [INFO] [turbospectrum:generate_spectrum:88]: Spherical model atmosphere with radius 2.05e+11 cm\n"
     ]
    },
    {
     "name": "stdout",
     "output_type": "stream",
     "text": [
      "[finished] 3500 3.5 -0.75 0.0 1.0 0.0 0.0 0.0 0\n",
      "[started] 3500 3.5 0.25 0.0 1.04 0.0 0.0 0.0 0\n",
      "[finished] 3500 3.5 -1.0 0.0 0.99 0.0 0.0 0.0 0\n",
      "[started] 3500 3.5 0.25 0.4 1.04 0.0 0.0 0.0 0\n",
      "[finished] 3500 3.0 0.5 0.0 1.85 0.0 0.0 0.0 0\n"
     ]
    },
    {
     "name": "stderr",
     "output_type": "stream",
     "text": [
      "[2023-01-06 18:00:31,535] [INFO] [turbospectrum:generate_spectrum:88]: Spherical model atmosphere with radius 2.05e+11 cm\n"
     ]
    },
    {
     "name": "stdout",
     "output_type": "stream",
     "text": [
      "[started] 3500 3.5 0.5 0.0 1.06 0.0 0.0 0.0 0\n"
     ]
    },
    {
     "name": "stderr",
     "output_type": "stream",
     "text": [
      "[2023-01-06 18:00:31,590] [INFO] [turbospectrum:generate_spectrum:88]: Spherical model atmosphere with radius 2.05e+11 cm\n",
      "[2023-01-06 18:00:31,656] [INFO] [turbospectrum:generate_spectrum:88]: Spherical model atmosphere with radius 2.05e+11 cm\n"
     ]
    },
    {
     "name": "stdout",
     "output_type": "stream",
     "text": [
      "[finished] 3500 3.5 -0.75 0.4 1.0 0.0 0.0 0.0 0\n",
      "[started] 3500 3.5 0.5 0.4 1.06 0.0 0.0 0.0 0\n"
     ]
    },
    {
     "name": "stderr",
     "output_type": "stream",
     "text": [
      "[2023-01-06 18:00:31,877] [INFO] [turbospectrum:generate_spectrum:88]: Spherical model atmosphere with radius 2.05e+11 cm\n"
     ]
    },
    {
     "name": "stdout",
     "output_type": "stream",
     "text": [
      "[finished] 3500 3.5 -0.5 0.4 1.01 0.0 0.0 0.0 0\n",
      "[started] 3500 4.0 -1.0 0.0 0.92 0.0 0.0 0.0 0\n",
      "[finished] 3500 3.5 -0.5 0.0 1.01 0.0 0.0 0.0 0\n",
      "[started] 3500 4.0 -1.0 0.4 0.92 0.0 0.0 0.0 0\n",
      "[finished] 3500 4.0 -1.0 0.4 0.92 0.0 0.0 0.0 0\n",
      "[started] 3500 4.0 -0.75 0.0 0.93 0.0 0.0 0.0 0\n",
      "[finished] 3500 4.0 -1.0 0.0 0.92 0.0 0.0 0.0 0\n",
      "[started] 3500 4.0 -0.75 0.4 0.93 0.0 0.0 0.0 0\n",
      "[finished] 3500 3.5 -0.25 0.4 1.02 0.0 0.0 0.0 0\n",
      "[started] 3500 4.0 -0.5 0.0 0.94 0.0 0.0 0.0 0\n",
      "[finished] 3500 3.5 -0.25 0.0 1.02 0.0 0.0 0.0 0\n",
      "[started] 3500 4.0 -0.5 0.4 0.94 0.0 0.0 0.0 0\n",
      "[finished] 3500 3.5 0.0 0.0 1.03 0.0 0.0 0.0 0\n",
      "[started] 3500 4.0 -0.25 0.0 0.95 0.0 0.0 0.0 0\n",
      "[finished] 3500 3.5 0.25 0.4 1.04 0.0 0.0 0.0 0\n",
      "[started] 3500 4.0 -0.25 0.4 0.95 0.0 0.0 0.0 0\n",
      "[finished] 3500 3.5 0.5 0.4 1.06 0.0 0.0 0.0 0\n",
      "[started] 3500 4.0 0.0 0.0 0.96 0.0 0.0 0.0 0\n",
      "[finished] 3500 3.5 0.0 0.4 1.03 0.0 0.0 0.0 0\n",
      "[started] 3500 4.0 0.0 0.4 0.96 0.0 0.0 0.0 0\n",
      "[finished] 3500 3.5 0.25 0.0 1.04 0.0 0.0 0.0 0\n",
      "[started] 3500 4.0 0.25 0.0 0.98 0.0 0.0 0.0 0\n",
      "[finished] 3500 3.5 0.5 0.0 1.06 0.0 0.0 0.0 0\n",
      "[started] 3500 4.0 0.25 0.4 0.98 0.0 0.0 0.0 0\n",
      "[finished] 3500 4.0 -0.75 0.4 0.93 0.0 0.0 0.0 0\n",
      "[started] [finished]3500  4.03500  4.00.5  -0.750.0  0.00.99  0.00.93 0.0  0.00.0  00.0 \n",
      "0.0 0\n",
      "[started] 3500 4.0 0.5 0.4 0.99 0.0 0.0 0.0 0\n",
      "[finished] 3500 4.0 -0.5 0.0 0.94 0.0 0.0 0.0 0\n",
      "[started] 3500 4.5 -1.0 0.0 0.85 0.0 0.0 0.0 0\n",
      "[finished] 3500 4.0 -0.5 0.4 0.94 0.0 0.0 0.0 0\n",
      "[started] 3500 4.5 -1.0 0.4 0.85 0.0 0.0 0.0 0\n",
      "[finished] 3500 4.0 -0.25 0.4 0.95 0.0 0.0[finished]  0.03500  04.0\n",
      " -0.25 0.0 0.95 0.0 0.0 0.0 0\n",
      "[started] 3500 4.5 -0.75 0.0 0.00.86 0.0  0.0 0\n",
      "[started] 3500 4.5 -0.75 0.4 0.86 0.0 0.0 0.0 0\n",
      "[finished] 3500 4.0 0.0 0.4 0.96 0.0 0.0 0.0 0\n",
      "[started] 3500 4.5 -0.5 0.0 0.87 0.0 0.0 0.0 0\n",
      "[finished] 3500 4.0 0.0 0.0 0.96 0.0 0.0 0.0 0\n",
      "[started] 3500 4.5 -0.5 0.4 0.87 0.0 0.0 0.0 0\n",
      "[finished] 3500 4.0 0.25 0.4 0.98 0.0 0.0 0.0 0\n",
      "[started] 3500 4.5 -0.25 0.0 0.88 0.0 0.0 0.0 0\n",
      "[finished] 3500 4.0 0.25 0.0 0.98 0.0 0.0 0.0 0\n",
      "[started] 3500 4.5 -0.25 0.4 0.88 0.0 0.0 0.0 0\n",
      "[finished] 3500 4.0 0.5 0.4 0.99 0.0 0.0 0.0 0\n",
      "[started] 3500 4.5 0.0 0.0 0.89 0.0 0.0 0.0 0\n",
      "[finished] 3500 4.0 0.5 0.0 0.99 0.0 0.0 0.0 0\n",
      "[started] 3500 4.5 0.0 0.4 0.89 0.0 0.0 0.0 0\n",
      "[finished] 3500 4.5 -1.0 0.0 0.85 0.0 0.0 0.0 0\n",
      "[started] 3500 4.5 0.25 0.0 0.9 0.0 0.0 0.0 0\n",
      "[finished] 3500 4.5 -1.0 0.4 0.85 0.0 0.0 0.0 0\n",
      "[started] 3500 4.5 0.25 0.4 0.9 0.0 0.0 0.0 0\n",
      "[finished] 3500 4.5 -0.75 0.4 0.86 0.0 0.0 0.0 0\n",
      "[started] 3500 4.5 0.5 0.0 0.92 0.0 0.0 0.0 0\n",
      "[finished] 3500 4.5 -0.75 0.0 0.86 0.0 0.0 0.0 0\n",
      "[started] 3500 4.5 0.5 0.4 0.92 0.0 0.0 0.0 0\n",
      "[finished] 3500 4.5 -0.5 0.4 0.87 0.0 0.0 0.0 0\n",
      "[started] 3500 5.0 -1.0 0.0 0.78 0.0 0.0 0.0 0\n",
      "[finished] 3500 4.5 -0.25 0.4 0.88 0.0 0.0 0.0 0\n",
      "[started] 3500 5.0 -1.0 0.4 0.78 0.0 0.0 0.0 0\n",
      "[finished] 3500 4.5 -0.25 0.0 0.88 0.0 0.0 0.0 0\n",
      "[started] 3500 5.0 -0.75 0.0 0.79 0.0 0.0 0.0 0\n",
      "[finished] 3500 4.5 -0.5 0.0 0.87 0.0 0.0 0.0 0\n",
      "[started] 3500 5.0 -0.75 0.4 0.79 0.0 0.0 0.0 0\n",
      "[finished] 3500 4.5 0.0 0.4 0.89 0.0 0.0 0.0 0\n",
      "[started] 3500 5.0 -0.5 0.0 0.79 0.0 0.0 0.0 0\n",
      "[finished] 3500 4.5 0.0 0.0 0.89 0.0 0.0 0.0 0\n",
      "[started] 3500 5.0 -0.5 0.4 0.79 0.0 0.0 0.0 0\n",
      "[finished] 3500 4.5 0.25 0.4 0.9 0.0 0.0 0.0 0\n",
      "[started] 3500 5.0 -0.25 0.0 0.81 0.0 0.0 0.0 0\n",
      "[finished] 3500 4.5 0.25 0.0 0.9 0.0 0.0 0.0 0\n",
      "[started] 3500 5.0 -0.25 0.4 0.81 0.0 0.0 0.0 0\n",
      "[finished] 3500 5.0 -1.0 0.0 0.78 0.0 0.0 0.0 0\n",
      "[started] 3500 5.0 0.0 0.0 0.82 0.0 0.0 0.0 0\n",
      "[finished] 3500 4.5 0.5 0.4 0.92 0.0 0.0 0.0 0\n",
      "[started] 3500 5.0 0.0 0.4 0.82 0.0 0.0 0.0 0\n",
      "[finished] 3500 4.5 0.5 0.0 0.92 0.0 0.0 0.0 0\n",
      "[started] 3500 5.0 0.25 0.0 0.83 0.0 0.0 0.0 0\n",
      "[finished] 3500 5.0 -1.0 0.4 0.78 0.0 0.0 0.0 0\n",
      "[started] 3500 5.0 0.25 0.4 0.83 0.0 0.0 0.0 0\n",
      "[finished] 3500 5.0 -0.75 0.0 0.79 0.0 0.0 0.0 0\n",
      "[started] 3500 5.0 0.5 0.0 0.84 0.0 0.0 0.0 0\n",
      "[finished] 3500 5.0 -0.75 0.4 0.79 0.0 0.0 0.0 0\n",
      "[started] 3500 5.0 0.5 0.4 0.84 0.0 0.0 0.0 0\n",
      "[finished] 3500 5.0 -0.5[finished]  3500 0.45.0  0.79-0.5  0.00.0  0.00.79  0.00.0  0.00 0.0\n",
      " 0\n",
      "[started] 3750 3.0 -1.0 [started]0.0 3750  3.01.59  0.0-1.0  0.00.4  1.590.0  0.00 \n",
      "0.0 0.0 0\n"
     ]
    },
    {
     "name": "stderr",
     "output_type": "stream",
     "text": [
      "[2023-01-06 18:07:35,466] [INFO] [turbospectrum:generate_spectrum:88]: Spherical model atmosphere with radius 3.65e+11 cm\n",
      "[2023-01-06 18:07:35,476] [INFO] [turbospectrum:generate_spectrum:88]: Spherical model atmosphere with radius 3.65e+11 cm\n"
     ]
    },
    {
     "name": "stdout",
     "output_type": "stream",
     "text": [
      "[finished] 3500 5.0 -0.25 0.0 0.81 0.0 0.0 0.0 0\n",
      "[started] 3750 3.0 -0.75 0.0 1.6 0.0 0.0 0.0 0\n"
     ]
    },
    {
     "name": "stderr",
     "output_type": "stream",
     "text": [
      "[2023-01-06 18:07:51,897] [INFO] [turbospectrum:generate_spectrum:88]: Spherical model atmosphere with radius 3.65e+11 cm\n"
     ]
    },
    {
     "name": "stdout",
     "output_type": "stream",
     "text": [
      "[finished] 3500 5.0 -0.25 0.4 0.81 0.0 0.0 0.0 0\n",
      "[started] 3750 3.0 -0.75 0.4 1.6 0.0 0.0 0.0 0\n"
     ]
    },
    {
     "name": "stderr",
     "output_type": "stream",
     "text": [
      "[2023-01-06 18:07:52,350] [INFO] [turbospectrum:generate_spectrum:88]: Spherical model atmosphere with radius 3.65e+11 cm\n"
     ]
    },
    {
     "name": "stdout",
     "output_type": "stream",
     "text": [
      "[finished] 3500 5.0 0.0 0.4 0.82 0.0 0.0 0.0 0\n",
      "[started] 3750 3.0 -0.5 0.0 1.61 0.0 0.0 0.0 0\n",
      "[finished] 3500 "
     ]
    },
    {
     "name": "stderr",
     "output_type": "stream",
     "text": [
      "[2023-01-06 18:07:54,225] [INFO] [turbospectrum:generate_spectrum:88]: Spherical model atmosphere with radius 3.65e+11 cm\n"
     ]
    },
    {
     "name": "stdout",
     "output_type": "stream",
     "text": [
      "5.0 0.0 0.0 0.82 0.0 0.0 0.0 0\n",
      "[started] 3750 3.0 -0.5 0.4 1.61 0.0 0.0 0.0 0\n"
     ]
    },
    {
     "name": "stderr",
     "output_type": "stream",
     "text": [
      "[2023-01-06 18:07:54,369] [INFO] [turbospectrum:generate_spectrum:88]: Spherical model atmosphere with radius 3.65e+11 cm\n"
     ]
    },
    {
     "name": "stdout",
     "output_type": "stream",
     "text": [
      "[finished] 3500 5.0 0.25 0.0 0.83 0.0 0.0 0.0 0\n",
      "[started] 3750 3.0 -0.25 0.0 1.62 0.0 0.0 0.0 0\n"
     ]
    },
    {
     "name": "stderr",
     "output_type": "stream",
     "text": [
      "[2023-01-06 18:07:55,240] [INFO] [turbospectrum:generate_spectrum:88]: Spherical model atmosphere with radius 3.65e+11 cm\n"
     ]
    },
    {
     "name": "stdout",
     "output_type": "stream",
     "text": [
      "[finished] 3500 5.0 0.25 0.4 0.83 0.0 0.0 0.0 0\n",
      "[started] 3750 3.0 -0.25 0.4 1.62 0.0 0.0 0.0 0\n"
     ]
    },
    {
     "name": "stderr",
     "output_type": "stream",
     "text": [
      "[2023-01-06 18:07:56,849] [INFO] [turbospectrum:generate_spectrum:88]: Spherical model atmosphere with radius 3.65e+11 cm\n"
     ]
    },
    {
     "name": "stdout",
     "output_type": "stream",
     "text": [
      "[finished] 3500 5.0 0.5 0.0 0.84 0.0 0.0 0.0 0\n",
      "[started] 3750 3.0 0.0 0.0 1.63 0.0 0.0 0.0 0\n"
     ]
    },
    {
     "name": "stderr",
     "output_type": "stream",
     "text": [
      "[2023-01-06 18:07:57,508] [INFO] [turbospectrum:generate_spectrum:88]: Spherical model atmosphere with radius 3.65e+11 cm\n"
     ]
    },
    {
     "name": "stdout",
     "output_type": "stream",
     "text": [
      "[finished] 3500 5.0 0.5 0.4 0.84 0.0 0.0 0.0 0\n",
      "[started] 3750 3.0 0.0 0.4 1.63 0.0 0.0 0.0 0\n"
     ]
    },
    {
     "name": "stderr",
     "output_type": "stream",
     "text": [
      "[2023-01-06 18:08:00,372] [INFO] [turbospectrum:generate_spectrum:88]: Spherical model atmosphere with radius 3.65e+11 cm\n"
     ]
    },
    {
     "name": "stdout",
     "output_type": "stream",
     "text": [
      "[finished] 3750 3.0 -1.0 0.4 1.59 0.0 0.0 0.0 0\n",
      "[started] 3750 3.0 0.25 0.0 1.65 0.0 0.0 0.0 0\n"
     ]
    },
    {
     "name": "stderr",
     "output_type": "stream",
     "text": [
      "[2023-01-06 18:09:17,743] [INFO] [turbospectrum:generate_spectrum:88]: Spherical model atmosphere with radius 3.65e+11 cm\n"
     ]
    },
    {
     "name": "stdout",
     "output_type": "stream",
     "text": [
      "[finished] 3750 3.0 -1.0 0.0 1.59 0.0 0.0 0.0 0\n",
      "[started] 3750 3.0 0.25 0.4 1.65 0.0 0.0 0.0 0\n"
     ]
    },
    {
     "name": "stderr",
     "output_type": "stream",
     "text": [
      "[2023-01-06 18:09:18,260] [INFO] [turbospectrum:generate_spectrum:88]: Spherical model atmosphere with radius 3.65e+11 cm\n"
     ]
    },
    {
     "name": "stdout",
     "output_type": "stream",
     "text": [
      "[finished] 3750 3.0 -0.75 0.4 1.6 0.0 0.0 0.0 0\n",
      "[started] 3750 3.0 0.5 0.0 1.66 0.0 0.0 0.0 0\n"
     ]
    },
    {
     "name": "stderr",
     "output_type": "stream",
     "text": [
      "[2023-01-06 18:09:34,099] [INFO] [turbospectrum:generate_spectrum:88]: Spherical model atmosphere with radius 3.65e+11 cm\n"
     ]
    },
    {
     "name": "stdout",
     "output_type": "stream",
     "text": [
      "[finished] 3750 3.0 -0.75 0.0 1.6 0.0 0.0 0.0 0\n",
      "[started] 3750 3.0 0.5 0.4 1.66 0.0 0.0 0.0 0\n"
     ]
    },
    {
     "name": "stderr",
     "output_type": "stream",
     "text": [
      "[2023-01-06 18:09:34,510] [INFO] [turbospectrum:generate_spectrum:88]: Spherical model atmosphere with radius 3.65e+11 cm\n"
     ]
    },
    {
     "name": "stdout",
     "output_type": "stream",
     "text": [
      "[finished] 3750 3.0 -0.5 0.0 1.61 0.0 0.0 0.0 0\n",
      "[started] 3750 3.5 -1.0 0.0 0.99 0.0 0.0 0.0 0\n"
     ]
    },
    {
     "name": "stderr",
     "output_type": "stream",
     "text": [
      "[2023-01-06 18:09:36,129] [INFO] [turbospectrum:generate_spectrum:88]: Spherical model atmosphere with radius 2.05e+11 cm\n"
     ]
    },
    {
     "name": "stdout",
     "output_type": "stream",
     "text": [
      "[finished] 3750 3.0 -0.5 0.4 1.61 0.0 0.0 0.0 0\n",
      "[started] 3750 3.5 -1.0 0.4 0.99 0.0 0.0 0.0 0\n",
      "[finished] 3750 3.0 -0.25 0.0 1.62 0.0 0.0 0.0 0\n",
      "[started] 3750 3.5 -0.75 "
     ]
    },
    {
     "name": "stderr",
     "output_type": "stream",
     "text": [
      "[2023-01-06 18:09:36,941] [INFO] [turbospectrum:generate_spectrum:88]: Spherical model atmosphere with radius 2.05e+11 cm\n"
     ]
    },
    {
     "name": "stdout",
     "output_type": "stream",
     "text": [
      "0.0 1.0 0.0 0.0 0.0 0\n"
     ]
    },
    {
     "name": "stderr",
     "output_type": "stream",
     "text": [
      "[2023-01-06 18:09:37,033] [INFO] [turbospectrum:generate_spectrum:88]: Spherical model atmosphere with radius 2.05e+11 cm\n"
     ]
    },
    {
     "name": "stdout",
     "output_type": "stream",
     "text": [
      "[finished] 3750 3.0 0.0 0.0 1.63 0.0 0.0 0.0 0\n",
      "[started] 3750 3.5 -0.75 0.4 1.0 0.0 0.0 0.0 0\n"
     ]
    },
    {
     "name": "stderr",
     "output_type": "stream",
     "text": [
      "[2023-01-06 18:09:38,297] [INFO] [turbospectrum:generate_spectrum:88]: Spherical model atmosphere with radius 2.05e+11 cm\n"
     ]
    },
    {
     "name": "stdout",
     "output_type": "stream",
     "text": [
      "[finished] 3750 3.0 -0.25 0.4 1.62 0.0 0.0 0.0 0\n",
      "[started] 3750 3.5 -0.5 0.0 1.01 0.0 0.0 0.0 0\n"
     ]
    },
    {
     "name": "stderr",
     "output_type": "stream",
     "text": [
      "[2023-01-06 18:09:39,365] [INFO] [turbospectrum:generate_spectrum:88]: Spherical model atmosphere with radius 2.05e+11 cm\n"
     ]
    },
    {
     "name": "stdout",
     "output_type": "stream",
     "text": [
      "[finished] 3750 3.0 0.0 0.4 1.63 0.0 0.0 0.0 0\n",
      "[started] 3750 3.5 -0.5 0.4 1.01 0.0 0.0 0.0 0\n"
     ]
    },
    {
     "name": "stderr",
     "output_type": "stream",
     "text": [
      "[2023-01-06 18:09:41,667] [INFO] [turbospectrum:generate_spectrum:88]: Spherical model atmosphere with radius 2.05e+11 cm\n"
     ]
    },
    {
     "name": "stdout",
     "output_type": "stream",
     "text": [
      "[finished] 3750 3.0 0.25 0.0 1.65 0.0 0.0 0.0 0\n",
      "[started] 3750 3.5 -0.25 0.0 1.02 0.0 0.0 0.0 0\n"
     ]
    },
    {
     "name": "stderr",
     "output_type": "stream",
     "text": [
      "[2023-01-06 18:10:59,663] [INFO] [turbospectrum:generate_spectrum:88]: Spherical model atmosphere with radius 2.05e+11 cm\n"
     ]
    },
    {
     "name": "stdout",
     "output_type": "stream",
     "text": [
      "[finished] 3750 3.0 0.25 0.4 1.65 0.0 0.0 0.0 0\n",
      "[started] 3750 3.5 -0.25 0.4 1.02 0.0 0.0 0.0 0\n"
     ]
    },
    {
     "name": "stderr",
     "output_type": "stream",
     "text": [
      "[2023-01-06 18:10:59,904] [INFO] [turbospectrum:generate_spectrum:88]: Spherical model atmosphere with radius 2.05e+11 cm\n"
     ]
    },
    {
     "name": "stdout",
     "output_type": "stream",
     "text": [
      "[finished] 3750 3.0 0.5 0.4 1.66 0.0 0.0 0.0 0\n",
      "[finished][started]  37503750  3.53.0 0.5 0.0  1.660.0  0.00.0 1.03  0.0 0.00.0 0\n",
      " 0.0 0.0 0[started]\n",
      " 3750 3.5 0.0 0.4 1.03 0.0 0.0 0.0 0\n"
     ]
    },
    {
     "name": "stderr",
     "output_type": "stream",
     "text": [
      "[2023-01-06 18:11:15,994] [INFO] [turbospectrum:generate_spectrum:88]: Spherical model atmosphere with radius 2.05e+11 cm\n",
      "[2023-01-06 18:11:16,002] [INFO] [turbospectrum:generate_spectrum:88]: Spherical model atmosphere with radius 2.05e+11 cm\n"
     ]
    },
    {
     "name": "stdout",
     "output_type": "stream",
     "text": [
      "[finished] 3750 3.5 -0.75 0.0 1.0 0.0 0.0 0.0 0\n",
      "[started] 3750 3.5 0.25 0.0 1.04 0.0 0.0 0.0 0\n"
     ]
    },
    {
     "name": "stderr",
     "output_type": "stream",
     "text": [
      "[2023-01-06 18:11:18,928] [INFO] [turbospectrum:generate_spectrum:88]: Spherical model atmosphere with radius 2.05e+11 cm\n"
     ]
    },
    {
     "name": "stdout",
     "output_type": "stream",
     "text": [
      "[finished] 3750 3.5 -1.0 0.0 0.99 0.0 0.0 0.0 0\n",
      "[started] 3750 3.5 0.25 0.4 1.04 0.0 0.0 0.0 0\n"
     ]
    },
    {
     "name": "stderr",
     "output_type": "stream",
     "text": [
      "[2023-01-06 18:11:19,238] [INFO] [turbospectrum:generate_spectrum:88]: Spherical model atmosphere with radius 2.05e+11 cm\n"
     ]
    },
    {
     "name": "stdout",
     "output_type": "stream",
     "text": [
      "[finished] 3750 3.5 -1.0 0.4 0.99 0.0 0.0 0.0 0\n",
      "[started] 3750 3.5 0.5 0.0 1.06 0.0 0.0 0.0 0\n"
     ]
    },
    {
     "name": "stderr",
     "output_type": "stream",
     "text": [
      "[2023-01-06 18:11:19,551] [INFO] [turbospectrum:generate_spectrum:88]: Spherical model atmosphere with radius 2.05e+11 cm\n"
     ]
    },
    {
     "name": "stdout",
     "output_type": "stream",
     "text": [
      "[finished] 3750 3.5 -0.75 0.4 1.0 0.0 0.0 0.0 0\n",
      "[started] 3750 3.5 0.5 0.4 1.06 0.0 0.0 0.0 0\n"
     ]
    },
    {
     "name": "stderr",
     "output_type": "stream",
     "text": [
      "[2023-01-06 18:11:20,836] [INFO] [turbospectrum:generate_spectrum:88]: Spherical model atmosphere with radius 2.05e+11 cm\n"
     ]
    },
    {
     "name": "stdout",
     "output_type": "stream",
     "text": [
      "[finished] 3750 3.5 -0.5 0.0 1.01 0.0 0.0 0.0 0\n",
      "[started] 3750 4.0 -1.0 0.0 0.92 0.0 0.0 0.0 0\n",
      "[finished] 3750 3.5 -0.5 0.4 1.01 0.0 0.0 0.0 0\n",
      "[started] 3750 4.0 -1.0 0.4 0.92 0.0 0.0 0.0 0\n",
      "[finished] 3750 3.5 -0.25 0.4 1.02 0.0 0.0 0.0 0\n",
      "[started] 3750 4.0 -0.75 0.0 0.93 0.0 0.0 0.0 0\n",
      "[finished] 3750 3.5 -0.25 0.0 1.02 0.0 0.0 0.0 0\n",
      "[started] 3750 4.0 -0.75 0.4 0.93 0.0 0.0 0.0 0\n",
      "[finished] 3750 4.0 -1.0 0.0 0.92 0.0 0.0 0.0 0\n",
      "[started] 3750 4.0 -0.5 0.0 0.94 0.0 0.0 0.0 0\n",
      "[finished] 3750 4.0 -1.0 0.4 0.92 0.0 0.0 0.0 0\n",
      "[started] 3750 4.0 -0.5 0.4 0.94 0.0 0.0 0.0 0\n",
      "[finished] 3750 3.5 0.0 0.4 1.03 0.0 0.0 0.0 0\n",
      "[started] 3750 4.0 -0.25 0.0 0.95 0.0 0.0 0.0 0\n",
      "[finished] 3750 3.5 0.0 0.0 1.03 0.0 0.0 0.0 0\n",
      "[started] 3750 4.0 -0.25 0.4 0.95 0.0 0.0 0.0 0\n",
      "[finished] 3750 3.5 0.25 0.0 1.04 0.0 0.0 0.0 0\n",
      "[started] 3750 4.0 0.0 0.0 0.96 0.0 0.0 0.0 0\n",
      "[finished] 3750 3.5 0.25 0.4 1.04 0.0 0.0 0.0 0\n",
      "[started] 3750 4.0 0.0 0.4 0.96 0.0 0.0 0.0 0\n",
      "[finished] 3750 3.5 0.5 0.0 1.06 0.0 0.0 0.0 0\n",
      "[started] 3750 4.0 0.25 0.0 0.98 0.0 0.0 0.0 0\n",
      "[finished] 3750 3.5 0.5 0.4 1.06 0.0 0.0 0.0 0\n",
      "[started] 3750 4.0 0.25 0.4 0.98 0.0 0.0 0.0 0\n",
      "[finished] 3750 4.0 -0.75 0.4 0.93 0.0 0.0 0.0 0\n",
      "[finished] 3750 4.0 -0.75 0.0 0.93 0.0 0.0 [started]0.0  37500 \n",
      "4.0 0.5 0.0 0.99 0.0[started]  37500.0  4.00.0 0.5  00.4\n",
      " 0.99 0.0 0.0 0.0 0\n",
      "[finished] 3750 4.0 -0.5 0.0 0.94 0.0 0.0 0.0 0\n",
      "[started] 3750 4.5 -1.0 0.0 0.85 0.0 0.0 0.0 0\n",
      "[finished] 3750 4.0 -0.5 0.4 0.94 0.0 0.0 0.0 0\n",
      "[started] 3750 4.5 -1.0 0.4 0.85 0.0 0.0 0.0 0\n",
      "[finished] 3750 4.0 -0.25 0.4 0.95 0.0 0.0 0.0 0\n",
      "[started] 3750 4.5 -0.75 0.0 0.86 0.0 0.0 0.0 0\n",
      "[finished] 3750 4.0 -0.25 0.0 0.95 0.0 0.0 0.0 0\n",
      "[started] 3750 4.5 -0.75 0.4 0.86 0.0 0.0 0.0 0\n",
      "[finished] 3750 4.0 0.0 0.0 0.96 0.0 0.0 0.0 0\n",
      "[started] 3750 4.5 -0.5 0.0 0.87 0.0 0.0 0.0 0\n",
      "[finished] 3750 4.0 0.0 0.4 0.96 0.0 0.0 0.0 0\n",
      "[started] 3750 4.5 -0.5 0.4 0.87 0.0 0.0 0.0 0\n",
      "[finished] 3750 4.0 0.25 0.0 0.98 0.0 0.0 0.0 0\n",
      "[started] 3750 4.5 -0.25 0.0 0.88 0.0 0.0 0.0 0\n",
      "[finished] 3750 4.0 0.25 0.4 0.98 0.0 0.0 0.0 0\n",
      "[started] 3750 4.5 -0.25 0.4 0.88 0.0 0.0 0.0 0\n",
      "[finished] 3750 4.0 0.5 0.4 0.99 0.0 0.0 0.0 0\n",
      "[started] 3750 4.5 0.0 0.0 0.89 0.0 0.0 0.0 0\n",
      "[finished] 3750 4.0 0.5 0.0 0.99 0.0 0.0 0.0 0\n",
      "[started] 3750 4.5 0.0 0.4 0.89 0.0 0.0 0.0 0\n",
      "[finished] 3750 4.5 -1.0 0.0 0.85 0.0 0.0 0.0 0\n",
      "[started] 3750 4.5 0.25 0.0 0.9 0.0 0.0 0.0 0\n",
      "[finished] 3750 4.5 -1.0 0.4 0.85 0.0 0.0 0.0 0\n",
      "[started] 3750 4.5 0.25 0.4 0.9 0.0 0.0 0.0 0\n",
      "[finished] 3750 4.5 -0.75 0.4 0.86 0.0 0.0 0.0 0\n",
      "[started] 3750 4.5 0.5 0.0 0.92 0.0 0.0 0.0 0\n",
      "[finished] 3750 4.5 -0.75 0.0 0.86 0.0 0.0 0.0 0\n",
      "[started] 3750 4.5 0.5 0.4 0.92 0.0 0.0 0.0 0\n",
      "[finished] 3750 4.5 -0.5 0.0 0.87 0.0 0.0 0.0 0\n",
      "[started] 3750 5.0 -1.0 0.0 0.78 0.0 0.0 0.0 0\n",
      "[finished] 3750 4.5 -0.5 0.4 0.87 0.0 0.0 0.0 0\n",
      "[started] 3750 5.0 -1.0 0.4 0.78 0.0 0.0 0.0 0\n",
      "[finished] 3750 4.5 -0.25 0.0 0.88 0.0 0.0 0.0 0\n",
      "[started] 3750 5.0 -0.75 0.0 0.79 0.0 0.0 0.0 0\n",
      "[finished] 3750 4.5 -0.25 0.4 0.88 0.0 0.0 0.0 0\n",
      "[started] 3750 5.0 -0.75 0.4 0.79 0.0 0.0 0.0 0\n",
      "[finished] 3750 4.5 0.0 0.0 0.89 0.0 0.0 0.0 0\n",
      "[started] 3750 5.0 -0.5 0.0 0.79 0.0 0.0 0.0 0\n",
      "[finished] 3750 4.5 0.0 0.4 0.89 0.0 0.0 0.0 0\n",
      "[started] 3750 5.0 -0.5 0.4 0.79 0.0 0.0 0.0 0\n",
      "[finished] 3750 4.5 0.25 0.0 0.9 0.0 0.0 0.0 0\n",
      "[started] 3750 5.0 -0.25 0.0 0.81 0.0 0.0 0.0 0\n",
      "[finished] 3750 4.5 0.25 0.4 0.9 0.0 0.0 0.0 0\n",
      "[started] 3750 5.0 -0.25 0.4 0.81 0.0 0.0 0.0 0\n",
      "[finished] 3750 4.5 0.5 0.0 0.92 0.0 0.0 0.0 0\n",
      "[started] 3750 5.0 0.0 0.0 0.82 0.0 0.0 0.0 0\n",
      "[finished] 3750 4.5 0.5 0.4 0.92 0.0 0.0 0.0 0\n",
      "[started] 3750 5.0 0.0 0.4 0.82 0.0 0.0 0.0 0\n",
      "[finished] 3750 5.0 -1.0 0.0 0.78 0.0 0.0 0.0 0\n",
      "[started] 3750 5.0 0.25 0.0 0.83 0.0 0.0 0.0 0\n",
      "[finished] 3750 5.0 -1.0 0.4 0.78 0.0 0.0 0.0 0\n",
      "[started] 3750 5.0 0.25 0.4 0.83 0.0 0.0 0.0 0\n",
      "[finished] 3750 5.0 -0.75 0.0 0.79 0.0 0.0 0.0 0\n",
      "[started] 3750 5.0 0.5 0.0 0.84 0.0 0.0 0.0 0\n",
      "[finished] 3750 5.0 -0.75 0.4 0.79 0.0 0.0 0.0 0\n",
      "[started] 3750 5.0 0.5 0.4 0.84 0.0 0.0 0.0 0\n",
      "[finished] 3750 5.0 -0.5 0.0 0.79 0.0 0.0 0.0 0\n",
      "[started] 4000 3.0 -1.0 0.0 1.44 0.0 0.0 0.0 0\n"
     ]
    },
    {
     "name": "stderr",
     "output_type": "stream",
     "text": [
      "[2023-01-06 18:18:19,998] [INFO] [turbospectrum:generate_spectrum:88]: Spherical model atmosphere with radius 3.65e+11 cm\n"
     ]
    },
    {
     "name": "stdout",
     "output_type": "stream",
     "text": [
      "[finished] 3750 5.0 -0.5 0.4 0.79 0.0 0.0 0.0 0\n",
      "[started] 4000 3.0 -1.0 0.4 1.44 0.0 0.0 0.0 0\n"
     ]
    },
    {
     "name": "stderr",
     "output_type": "stream",
     "text": [
      "[2023-01-06 18:18:21,614] [INFO] [turbospectrum:generate_spectrum:88]: Spherical model atmosphere with radius 3.65e+11 cm\n"
     ]
    },
    {
     "name": "stdout",
     "output_type": "stream",
     "text": [
      "[finished] 3750 5.0 -0.25 0.0 0.81 0.0 0.0 0.0 0\n",
      "[started] 4000 3.0 -0.75 0.0 1.45 0.0 0.0 0.0 0\n"
     ]
    },
    {
     "name": "stderr",
     "output_type": "stream",
     "text": [
      "[2023-01-06 18:18:24,545] [INFO] [turbospectrum:generate_spectrum:88]: Spherical model atmosphere with radius 3.65e+11 cm\n"
     ]
    },
    {
     "name": "stdout",
     "output_type": "stream",
     "text": [
      "[finished] 3750 5.0 -0.25 0.4 0.81 0.0 0.0 0.0 0\n",
      "[started] 4000 3.0 -0.75 0.4 1.45 0.0 0.0 0.0 0\n"
     ]
    },
    {
     "name": "stderr",
     "output_type": "stream",
     "text": [
      "[2023-01-06 18:18:25,662] [INFO] [turbospectrum:generate_spectrum:88]: Spherical model atmosphere with radius 3.65e+11 cm\n"
     ]
    },
    {
     "name": "stdout",
     "output_type": "stream",
     "text": [
      "[finished] 3750 5.0 0.0 0.4 0.82 0.0 0.0 0.0 0\n",
      "[started] 4000 3.0 [finished] 3750 5.0 0.0 0.0 -0.5 0.82 0.0 0.00.0  0.0 01.46\n",
      " 0.0 0.0 0.0 0\n",
      "[started] 4000 3.0 -0.5 0.4 1.46 0.0 0.0 0.0 0\n"
     ]
    },
    {
     "name": "stderr",
     "output_type": "stream",
     "text": [
      "[2023-01-06 18:18:38,351] [INFO] [turbospectrum:generate_spectrum:88]: Spherical model atmosphere with radius 3.65e+11 cm\n",
      "[2023-01-06 18:18:38,372] [INFO] [turbospectrum:generate_spectrum:88]: Spherical model atmosphere with radius 3.65e+11 cm\n"
     ]
    },
    {
     "name": "stdout",
     "output_type": "stream",
     "text": [
      "[finished] 3750 5.0 0.25 0.0 0.83 0.0 0.0 0.0 0\n",
      "[started] 4000 3.0 -0.25 0.0 1.47 0.0 0.0 0.0 0\n"
     ]
    },
    {
     "name": "stderr",
     "output_type": "stream",
     "text": [
      "[2023-01-06 18:18:41,021] [INFO] [turbospectrum:generate_spectrum:88]: Spherical model atmosphere with radius 3.65e+11 cm\n"
     ]
    },
    {
     "name": "stdout",
     "output_type": "stream",
     "text": [
      "[finished] 3750 5.0 0.25 0.4 0.83 0.0 0.0 0.0 0\n",
      "[started] 4000 3.0 -0.25 0.4 1.47 0.0 0.0 0.0 0\n"
     ]
    },
    {
     "name": "stderr",
     "output_type": "stream",
     "text": [
      "[2023-01-06 18:18:41,294] [INFO] [turbospectrum:generate_spectrum:88]: Spherical model atmosphere with radius 3.65e+11 cm\n"
     ]
    },
    {
     "name": "stdout",
     "output_type": "stream",
     "text": [
      "[finished] 3750 5.0 0.5 0.0 0.84 0.0 0.0 0.0 0\n",
      "[started] 4000 3.0 0.0 0.0 1.48 0.0 0.0 0.0 0\n"
     ]
    },
    {
     "name": "stderr",
     "output_type": "stream",
     "text": [
      "[2023-01-06 18:18:42,471] [INFO] [turbospectrum:generate_spectrum:88]: Spherical model atmosphere with radius 3.65e+11 cm\n"
     ]
    },
    {
     "name": "stdout",
     "output_type": "stream",
     "text": [
      "[finished] 3750 5.0 0.5 0.4 0.84 0.0 0.0 0.0 0\n",
      "[started] 4000 3.0 0.0 0.4 1.48 0.0 0.0 0.0 0\n"
     ]
    },
    {
     "name": "stderr",
     "output_type": "stream",
     "text": [
      "[2023-01-06 18:18:43,561] [INFO] [turbospectrum:generate_spectrum:88]: Spherical model atmosphere with radius 3.65e+11 cm\n"
     ]
    },
    {
     "name": "stdout",
     "output_type": "stream",
     "text": [
      "[finished] 4000 3.0 -1.0 0.0 1.44 0.0 0.0 0.0 0\n",
      "[started] 4000 3.0 0.25 0.0 1.49 0.0 0.0 0.0 0\n"
     ]
    },
    {
     "name": "stderr",
     "output_type": "stream",
     "text": [
      "[2023-01-06 18:20:00,889] [INFO] [turbospectrum:generate_spectrum:88]: Spherical model atmosphere with radius 3.65e+11 cm\n"
     ]
    },
    {
     "name": "stdout",
     "output_type": "stream",
     "text": [
      "[finished] 4000 3.0 -1.0 0.4 1.44 0.0 0.0 0.0 0\n",
      "[started] 4000 3.0 0.25 0.4 1.49 0.0 0.0 0.0 0\n"
     ]
    },
    {
     "name": "stderr",
     "output_type": "stream",
     "text": [
      "[2023-01-06 18:20:02,514] [INFO] [turbospectrum:generate_spectrum:88]: Spherical model atmosphere with radius 3.65e+11 cm\n"
     ]
    },
    {
     "name": "stdout",
     "output_type": "stream",
     "text": [
      "[finished] 4000 3.0 -0.75 0.0 1.45 0.0 0.0 0.0 0\n",
      "[started] 4000 3.0 0.5 0.0 1.51 0.0 0.0 0.0 0\n"
     ]
    },
    {
     "name": "stderr",
     "output_type": "stream",
     "text": [
      "[2023-01-06 18:20:05,004] [INFO] [turbospectrum:generate_spectrum:88]: Spherical model atmosphere with radius 3.65e+11 cm\n"
     ]
    },
    {
     "name": "stdout",
     "output_type": "stream",
     "text": [
      "[finished] 4000 3.0 -0.75 0.4 1.45 0.0 0.0 0.0 0\n",
      "[started] 4000 3.0 0.5 0.4 1.51 0.0 0.0 0.0 0\n"
     ]
    },
    {
     "name": "stderr",
     "output_type": "stream",
     "text": [
      "[2023-01-06 18:20:06,293] [INFO] [turbospectrum:generate_spectrum:88]: Spherical model atmosphere with radius 3.65e+11 cm\n"
     ]
    },
    {
     "name": "stdout",
     "output_type": "stream",
     "text": [
      "[finished] 4000 3.0 -0.5 0.4 1.46 0.0 0.0 0.0 0\n",
      "[started] 4000 3.5 -1.0 0.0 0.99 0.0 0.0 0.0 0\n"
     ]
    },
    {
     "name": "stderr",
     "output_type": "stream",
     "text": [
      "[2023-01-06 18:20:19,597] [INFO] [turbospectrum:generate_spectrum:88]: Spherical model atmosphere with radius 2.05e+11 cm\n"
     ]
    },
    {
     "name": "stdout",
     "output_type": "stream",
     "text": [
      "[finished] 4000 3.0 -0.5 0.0 1.46 0.0 0.0 0.0 0\n",
      "[started] 4000 3.5 -1.0 0.4 0.99 0.0 0.0 0.0 0\n"
     ]
    },
    {
     "name": "stderr",
     "output_type": "stream",
     "text": [
      "[2023-01-06 18:20:20,017] [INFO] [turbospectrum:generate_spectrum:88]: Spherical model atmosphere with radius 2.05e+11 cm\n"
     ]
    },
    {
     "name": "stdout",
     "output_type": "stream",
     "text": [
      "[finished] 4000 3.0 -0.25 0.4 1.47 0.0 0.0 0.0 0\n",
      "[started] 4000 3.5 -0.75 0.0 1.0 0.0 0.0 0.0 0\n"
     ]
    },
    {
     "name": "stderr",
     "output_type": "stream",
     "text": [
      "[2023-01-06 18:20:21,261] [INFO] [turbospectrum:generate_spectrum:88]: Spherical model atmosphere with radius 2.05e+11 cm\n"
     ]
    },
    {
     "name": "stdout",
     "output_type": "stream",
     "text": [
      "[finished] 4000 3.0 -0.25 0.0 1.47 0.0 0.0 0.0 0\n",
      "[started] 4000 3.5 -0.75 0.4 1.0 0.0 0.0 0.0 0\n"
     ]
    },
    {
     "name": "stderr",
     "output_type": "stream",
     "text": [
      "[2023-01-06 18:20:21,704] [INFO] [turbospectrum:generate_spectrum:88]: Spherical model atmosphere with radius 2.05e+11 cm\n"
     ]
    },
    {
     "name": "stdout",
     "output_type": "stream",
     "text": [
      "[finished] 4000 3.0 0.0 0.0 1.48 0.0 0.0 0.0 0\n",
      "[started] 4000 3.5 -0.5 0.0 1.01 0.0 0.0 0.0 0\n"
     ]
    },
    {
     "name": "stderr",
     "output_type": "stream",
     "text": [
      "[2023-01-06 18:20:22,451] [INFO] [turbospectrum:generate_spectrum:88]: Spherical model atmosphere with radius 2.05e+11 cm\n"
     ]
    },
    {
     "name": "stdout",
     "output_type": "stream",
     "text": [
      "[finished] 4000 3.0 0.0 0.4 1.48 0.0 0.0 0.0 0\n",
      "[started] 4000 3.5 -0.5 0.4 1.01 0.0 0.0 0.0 0\n"
     ]
    },
    {
     "name": "stderr",
     "output_type": "stream",
     "text": [
      "[2023-01-06 18:20:24,032] [INFO] [turbospectrum:generate_spectrum:88]: Spherical model atmosphere with radius 2.05e+11 cm\n"
     ]
    },
    {
     "name": "stdout",
     "output_type": "stream",
     "text": [
      "[finished] 4000 3.0 0.25 0.0 1.49 0.0 0.0 0.0 0\n",
      "[started] 4000 3.5 -0.25 0.0 1.02 0.0 0.0 0.0 0\n"
     ]
    },
    {
     "name": "stderr",
     "output_type": "stream",
     "text": [
      "[2023-01-06 18:21:40,429] [INFO] [turbospectrum:generate_spectrum:88]: Spherical model atmosphere with radius 2.05e+11 cm\n"
     ]
    },
    {
     "name": "stdout",
     "output_type": "stream",
     "text": [
      "[finished] 4000 3.0 0.25 0.4 1.49 0.0 0.0 0.0 0\n",
      "[started] 4000 3.5 -0.25 0.4 1.02 0.0 0.0 0.0 0\n"
     ]
    },
    {
     "name": "stderr",
     "output_type": "stream",
     "text": [
      "[2023-01-06 18:21:42,696] [INFO] [turbospectrum:generate_spectrum:88]: Spherical model atmosphere with radius 2.05e+11 cm\n"
     ]
    },
    {
     "name": "stdout",
     "output_type": "stream",
     "text": [
      "[finished] 4000 3.0 0.5 0.0 1.51 0.0 0.0 0.0 0\n",
      "[started] 4000 3.5 0.0 0.0 1.03 0.0 0.0 0.0 0\n"
     ]
    },
    {
     "name": "stderr",
     "output_type": "stream",
     "text": [
      "[2023-01-06 18:21:44,562] [INFO] [turbospectrum:generate_spectrum:88]: Spherical model atmosphere with radius 2.05e+11 cm\n"
     ]
    },
    {
     "name": "stdout",
     "output_type": "stream",
     "text": [
      "[finished] 4000 3.0 0.5 0.4 1.51 0.0 0.0 0.0 0\n",
      "[started] 4000 3.5 0.0 0.4 1.03 0.0 0.0 0.0 0\n"
     ]
    },
    {
     "name": "stderr",
     "output_type": "stream",
     "text": [
      "[2023-01-06 18:21:47,333] [INFO] [turbospectrum:generate_spectrum:88]: Spherical model atmosphere with radius 2.05e+11 cm\n"
     ]
    },
    {
     "name": "stdout",
     "output_type": "stream",
     "text": [
      "[finished] 4000 3.5 -1.0 [finished]0.0  40000.99  3.50.0  -1.00.0  0.0 0.40 \n",
      "0.99 0.0 0.0 0.0 0\n",
      "[started] 4000 3.5 0.25 0.0 1.04 0.0 0.0 0.0 0\n",
      "[started] 4000 3.5 0.25 0.4 1.04 0.0 0.0 0.0 0\n"
     ]
    },
    {
     "name": "stderr",
     "output_type": "stream",
     "text": [
      "[2023-01-06 18:22:01,596] [INFO] [turbospectrum:generate_spectrum:88]: Spherical model atmosphere with radius 2.05e+11 cm\n",
      "[2023-01-06 18:22:01,623] [INFO] [turbospectrum:generate_spectrum:88]: Spherical model atmosphere with radius 2.05e+11 cm\n"
     ]
    },
    {
     "name": "stdout",
     "output_type": "stream",
     "text": [
      "[finished] 4000 3.5 -0.75 0.0 1.0 0.0 0.0 0.0 0\n",
      "[started] 4000 3.5 0.5 0.0 1.06 0.0 0.0 0.0 0\n"
     ]
    },
    {
     "name": "stderr",
     "output_type": "stream",
     "text": [
      "[2023-01-06 18:22:02,550] [INFO] [turbospectrum:generate_spectrum:88]: Spherical model atmosphere with radius 2.05e+11 cm\n"
     ]
    },
    {
     "name": "stdout",
     "output_type": "stream",
     "text": [
      "[finished] 4000 3.5 -0.75 0.4 1.0 0.0 0.0 0.0 0\n",
      "[started] 4000 3.5 0.5 0.4 1.06 0.0 0.0 0.0 0\n"
     ]
    },
    {
     "name": "stderr",
     "output_type": "stream",
     "text": [
      "[2023-01-06 18:22:03,722] [INFO] [turbospectrum:generate_spectrum:88]: Spherical model atmosphere with radius 2.05e+11 cm\n"
     ]
    },
    {
     "name": "stdout",
     "output_type": "stream",
     "text": [
      "[finished] 4000 3.5 -0.5 0.0 1.01 0.0 0.0 0.0 0\n",
      "[started] 4000 4.0 -1.0 0.0 0.92 0.0 0.0 0.0 0\n",
      "[finished] 4000 3.5 -0.5 0.4 1.01 0.0 0.0 0.0 0\n",
      "[started] 4000 4.0 -1.0 0.4 0.92 0.0 0.0 0.0 0\n",
      "[finished] 4000 3.5 -0.25 0.0 1.02 0.0 0.0 0.0 0\n",
      "[started] 4000 4.0 -0.75 0.0 0.93 0.0 0.0 0.0 0\n",
      "[finished] 4000 3.5 -0.25 0.4 1.02 0.0 0.0 0.0 0\n",
      "[started] 4000 4.0 -0.75 0.4 0.93 0.0 0.0 0.0 0\n",
      "[finished] 4000 3.5 0.0 0.0 1.03 0.0 0.0 0.0 0\n",
      "[started] 4000 4.0 -0.5 0.0 0.94 0.0 0.0 0.0 0\n",
      "[finished] 4000 3.5 0.0 0.4 1.03 0.0 0.0 0.0 0\n",
      "[started] 4000 4.0 -0.5 0.4 0.94 0.0 0.0 0.0 0\n",
      "[finished] 4000 4.0 -1.0 0.0 0.92 0.0 0.0 0.0 0\n",
      "[started] 4000 4.0 -0.25 0.0 0.95 0.0 0.0 0.0 0\n",
      "[finished] 4000 4.0 -1.0 0.4 0.92 0.0 0.0 0.0 0\n",
      "[started] 4000 4.0 -0.25 0.4 0.95 0.0 0.0 0.0 0\n",
      "[finished] 4000 3.5 0.25 0.4 1.04 0.0 0.0 0.0 0\n",
      "[started] 4000 4.0 0.0 0.0 0.96 0.0 0.0 0.0 0\n",
      "[finished] 4000 3.5 0.25 0.0 1.04 0.0 0.0 0.0 0\n",
      "[started] 4000 4.0 0.0 0.4 0.96 0.0 0.0 0.0 0\n",
      "[finished] 4000 3.5 0.5 0.0 1.06 0.0 0.0 0.0 0\n",
      "[started] 4000 4.0 0.25 0.0 0.98 0.0 0.0 0.0 0\n",
      "[finished] 4000 3.5 0.5 0.4 1.06 0.0 0.0 0.0 0\n",
      "[started] 4000 4.0 0.25 0.4 0.98 0.0 0.0 0.0 0\n",
      "[finished] 4000 4.0 -0.75 0.0 0.93 0.0 0.0 0.0 0\n",
      "[started] 4000 4.0 0.5 0.0 0.99 0.0 0.0 0.0 0\n",
      "[finished] 4000 4.0 -0.75 0.4 0.93 0.0 0.0 0.0 0\n",
      "[started] 4000 4.0 0.5 0.4 0.99 0.0 0.0 0.0 0\n",
      "[finished] 4000 4.0 -0.5 0.0 0.94 0.0 0.0 0.0 0\n",
      "[started] 4000 4.5 -1.0 0.0 0.85 0.0 0.0 0.0 0\n",
      "[finished] 4000 4.0 -0.25 0.4 0.95 0.0 0.0 0.0 0\n",
      "[started] 4000 4.5 -1.0 0.4 0.85 0.0 0.0 0.0 0\n",
      "[finished] 4000 4.0 -0.5 0.4 0.94 0.0 0.0 0.0 0\n",
      "[started] 4000 4.5 -0.75 0.0 0.86 0.0 0.0 0.0 0\n",
      "[finished] 4000 4.0 -0.25 0.0 0.95 0.0 0.0 0.0 0\n",
      "[started] 4000 4.5 -0.75 0.4 0.86 0.0 0.0 0.0 0\n",
      "[finished] 4000 4.0 0.0 0.0 0.96 0.0 0.0 0.0 0\n",
      "[started] 4000 4.5 -0.5 0.0 0.87 0.0 0.0 0.0 0\n",
      "[finished] 4000 4.0 0.0 0.4 0.96 0.0 0.0 0.0 0\n",
      "[started] 4000 4.5 -0.5 0.4 0.87 0.0 0.0 0.0 0\n",
      "[finished] 4000 4.0 0.25 0.0 0.98 0.0 0.0 0.0 0\n",
      "[started] 4000 4.5 -0.25 0.0 0.88 0.0 0.0 0.0 0\n",
      "[finished] 4000 4.0 0.25 0.4 0.98 0.0 0.0 0.0 0\n",
      "[started] 4000 4.5 -0.25 0.4 0.88 0.0 0.0 0.0 0\n",
      "[finished] 4000 4.0 0.5 0.0 0.99 0.0 0.0 0.0 0\n",
      "[started] 4000 4.5 0.0 0.0 0.89 0.0 0.0 0.0 0\n",
      "[finished] 4000 4.0 0.5 0.4 0.99 0.0 0.0 0.0 0\n",
      "[started] 4000 4.5 0.0 0.4 0.89 0.0 0.0 0.0 0\n",
      "[finished] 4000 4.5 -1.0 0.0 0.85 0.0 0.0 0.0 0\n",
      "[started] 4000 4.5 0.25 0.0 0.9 0.0 0.0 0.0 0\n",
      "[finished] 4000 4.5 -0.75 0.0 0.86 0.0 0.0 0.0 0\n",
      "[started] 4000 4.5 0.25 0.4 0.9 0.0 0.0 0.0 0\n",
      "[finished] 4000 4.5 -1.0 0.4 0.85 0.0 0.0 0.0 0\n",
      "[started] 4000 4.5 0.5 0.0 0.92 0.0 0.0 0.0 0\n",
      "[finished] 4000 4.5 -0.75 0.4 0.86 0.0 0.0 0.0 0\n",
      "[started] 4000 4.5 0.5 0.4 0.92 0.0 0.0 0.0 0\n",
      "[finished] 4000 4.5 -0.5 0.4 0.87 0.0 0.0 0.0 0\n",
      "[started] 4000 5.0 -1.0 0.0 0.78 0.0 0.0 0.0 0\n",
      "[finished] 4000 4.5 -0.5 0.0 0.87 0.0 0.0 0.0 0\n",
      "[started] 4000 5.0 -1.0 0.4 0.78 0.0 0.0 0.0 0\n",
      "[finished] 4000 4.5 -0.25 0.0 0.88 0.0 0.0 0.0 0\n",
      "[started] 4000 5.0 -0.75 0.0 0.79 0.0 0.0 0.0 0\n",
      "[finished] 4000 4.5 -0.25 0.4 0.88 0.0 0.0 0.0 0\n",
      "[started] 4000 5.0 -0.75 0.4 0.79 0.0 0.0 0.0 0\n",
      "[finished] 4000 4.5 0.0 0.0 0.89 0.0 0.0 0.0 0\n",
      "[started] 4000 5.0 -0.5 0.0 0.79 0.0 0.0 0.0 0\n",
      "[finished] 4000 4.5 0.0 0.4 0.89 0.0 0.0 0.0 0\n",
      "[started] 4000 5.0 -0.5 0.4 0.79 0.0 0.0 0.0 0\n",
      "[finished] 4000 4.5 0.25 0.0 0.9 0.0 0.0 0.0 0\n",
      "[started] 4000 5.0 -0.25 0.0 0.81 0.0 0.0 0.0 0\n",
      "[finished] 4000 4.5 0.25 0.4 0.9 0.0 0.0 0.0 0\n",
      "[started] 4000 5.0 -0.25 0.4 0.81 0.0 0.0 0.0 0\n",
      "[finished] 4000 4.5 0.5 0.0 0.92 0.0 0.0 0.0 0\n",
      "[started] 4000 5.0 0.0 0.0 0.82 0.0 0.0 0.0 0\n",
      "[finished] 4000 4.5 0.5 0.4 0.92 0.0 0.0 0.0 0\n",
      "[started] 4000 5.0 0.0 0.4 0.82 0.0 0.0 0.0 0\n",
      "[finished] 4000 5.0 -1.0 0.0 0.78 0.0 0.0 0.0 0\n",
      "[started] 4000 5.0 0.25 0.0 0.83 0.0 0.0 0.0 0\n",
      "[finished] 4000 5.0 -1.0 0.4 0.78 0.0 0.0 0.0 0\n",
      "[started] 4000 5.0 0.25 0.4 0.83 0.0 0.0 0.0 0\n",
      "[finished] 4000 5.0 -0.75 0.0 0.79 0.0 0.0 0.0 0\n",
      "[started] 4000 5.0 0.5 0.0 0.84 0.0 0.0 0.0 0\n",
      "[finished] 4000 5.0 -0.75 0.4 0.79 0.0 0.0 0.0 0\n",
      "[started] 4000 5.0 0.5 0.4 0.84 0.0 0.0 0.0 0\n",
      "[finished] 4000 5.0 -0.5 0.0 0.79 0.0 0.0 0.0 0\n",
      "[started] 4250 3.0 -1.0 0.0 1.33 0.0 0.0 0.0 0\n"
     ]
    },
    {
     "name": "stderr",
     "output_type": "stream",
     "text": [
      "[2023-01-06 18:28:57,818] [INFO] [turbospectrum:generate_spectrum:88]: Spherical model atmosphere with radius 3.65e+11 cm\n"
     ]
    },
    {
     "name": "stdout",
     "output_type": "stream",
     "text": [
      "[finished] 4000 5.0 -0.25 0.0 0.81 0.0 0.0 0.0 0\n",
      "[started] 4250 3.0 -1.0 0.4 1.33 0.0 0.0 0.0 0\n"
     ]
    },
    {
     "name": "stderr",
     "output_type": "stream",
     "text": [
      "[2023-01-06 18:29:02,307] [INFO] [turbospectrum:generate_spectrum:88]: Spherical model atmosphere with radius 3.65e+11 cm\n"
     ]
    },
    {
     "name": "stdout",
     "output_type": "stream",
     "text": [
      "[finished] 4000 5.0 -0.5 0.4 0.79 0.0 0.0 0.0 0\n",
      "[started] 4250 3.0 -0.75 0.0 1.34 0.0 0.0 0.0 0\n"
     ]
    },
    {
     "name": "stderr",
     "output_type": "stream",
     "text": [
      "[2023-01-06 18:29:02,703] [INFO] [turbospectrum:generate_spectrum:88]: Spherical model atmosphere with radius 3.65e+11 cm\n"
     ]
    },
    {
     "name": "stdout",
     "output_type": "stream",
     "text": [
      "[finished] 4000 5.0 0.0 0.4 0.82 0.0 0.0 0.0 0\n",
      "[started] 4250 3.0 -0.75 0.4 1.34 0.0 0.0 0.0 0\n"
     ]
    },
    {
     "name": "stderr",
     "output_type": "stream",
     "text": [
      "[2023-01-06 18:29:03,936] [INFO] [turbospectrum:generate_spectrum:88]: Spherical model atmosphere with radius 3.65e+11 cm\n"
     ]
    },
    {
     "name": "stdout",
     "output_type": "stream",
     "text": [
      "[finished] 4000 5.0 -0.25 0.4 0.81 0.0 0.0 0.0 0\n",
      "[started] 4250 3.0 -0.5 0.0 1.35 0.0 0.0 0.0 0\n"
     ]
    },
    {
     "name": "stderr",
     "output_type": "stream",
     "text": [
      "[2023-01-06 18:29:04,146] [INFO] [turbospectrum:generate_spectrum:88]: Spherical model atmosphere with radius 3.65e+11 cm\n"
     ]
    },
    {
     "name": "stdout",
     "output_type": "stream",
     "text": [
      "[finished] 4000 5.0 0.0 0.0 0.82 0.0 0.0 0.0 0\n",
      "[started] 4250 3.0 -0.5 0.4 1.35 0.0 0.0 0.0 0\n"
     ]
    },
    {
     "name": "stderr",
     "output_type": "stream",
     "text": [
      "[2023-01-06 18:29:04,951] [INFO] [turbospectrum:generate_spectrum:88]: Spherical model atmosphere with radius 3.65e+11 cm\n"
     ]
    },
    {
     "name": "stdout",
     "output_type": "stream",
     "text": [
      "[finished] 4000 5.0 0.25 0.0 0.83 0.0 0.0 0.0 0\n",
      "[started] 4250 3.0 -0.25 0.0 1.36 0.0 0.0 0.0 0\n",
      "[finished] 4000 5.0 0.25 0.4 0.83 0.0 0.0 0.0 0\n",
      "[started] 4250 3.0 -0.25 0.4 1.36 0.0 0.0 0.0 0\n"
     ]
    },
    {
     "name": "stderr",
     "output_type": "stream",
     "text": [
      "[2023-01-06 18:29:20,072] [INFO] [turbospectrum:generate_spectrum:88]: Spherical model atmosphere with radius 3.65e+11 cm\n",
      "[2023-01-06 18:29:20,144] [INFO] [turbospectrum:generate_spectrum:88]: Spherical model atmosphere with radius 3.65e+11 cm\n"
     ]
    },
    {
     "name": "stdout",
     "output_type": "stream",
     "text": [
      "[finished] 4000 5.0 0.5 0.0 0.84 0.0 0.0 0.0 0\n",
      "[started] 4250 3.0 0.0 0.0 1.37 0.0 0.0 0.0 0\n"
     ]
    },
    {
     "name": "stderr",
     "output_type": "stream",
     "text": [
      "[2023-01-06 18:29:21,950] [INFO] [turbospectrum:generate_spectrum:88]: Spherical model atmosphere with radius 3.65e+11 cm\n"
     ]
    },
    {
     "name": "stdout",
     "output_type": "stream",
     "text": [
      "[finished] 4000 5.0 0.5 0.4 0.84 0.0 0.0 0.0 0\n",
      "[started] 4250 3.0 0.0 0.4 1.37 0.0 0.0 0.0 0\n"
     ]
    },
    {
     "name": "stderr",
     "output_type": "stream",
     "text": [
      "[2023-01-06 18:29:22,404] [INFO] [turbospectrum:generate_spectrum:88]: Spherical model atmosphere with radius 3.65e+11 cm\n"
     ]
    },
    {
     "name": "stdout",
     "output_type": "stream",
     "text": [
      "[finished] 4250 3.0 -1.0 0.0 1.33 0.0 0.0 0.0 0\n",
      "[started] 4250 3.0 0.25 0.0 1.38 0.0 0.0 0.0 0\n"
     ]
    },
    {
     "name": "stderr",
     "output_type": "stream",
     "text": [
      "[2023-01-06 18:30:37,093] [INFO] [turbospectrum:generate_spectrum:88]: Spherical model atmosphere with radius 3.65e+11 cm\n"
     ]
    },
    {
     "name": "stdout",
     "output_type": "stream",
     "text": [
      "[finished] 4250 3.0 -1.0 0.4 1.33 0.0 0.0 0.0 0\n",
      "[started] 4250 3.0 0.25 0.4 1.38 0.0 0.0 0.0 0\n"
     ]
    },
    {
     "name": "stderr",
     "output_type": "stream",
     "text": [
      "[2023-01-06 18:30:41,694] [INFO] [turbospectrum:generate_spectrum:88]: Spherical model atmosphere with radius 3.65e+11 cm\n"
     ]
    },
    {
     "name": "stdout",
     "output_type": "stream",
     "text": [
      "[finished] 4250 3.0 -0.75 0.0 1.34 0.0 0.0 0.0 0\n",
      "[started] 4250 3.0 0.5 0.0 1.4 0.0 0.0 0.0 0\n"
     ]
    },
    {
     "name": "stderr",
     "output_type": "stream",
     "text": [
      "[2023-01-06 18:30:42,570] [INFO] [turbospectrum:generate_spectrum:88]: Spherical model atmosphere with radius 3.65e+11 cm\n"
     ]
    },
    {
     "name": "stdout",
     "output_type": "stream",
     "text": [
      "[finished] 4250 3.0 -0.75 0.4 1.34 0.0 0.0 0.0 0\n",
      "[started] 4250 3.0 0.5 0.4 1.4 0.0 0.0 0.0 0\n"
     ]
    },
    {
     "name": "stderr",
     "output_type": "stream",
     "text": [
      "[2023-01-06 18:30:43,131] [INFO] [turbospectrum:generate_spectrum:88]: Spherical model atmosphere with radius 3.65e+11 cm\n"
     ]
    },
    {
     "name": "stdout",
     "output_type": "stream",
     "text": [
      "[finished] 4250 3.0 -0.5 0.0 1.35 0.0 0.0 0.0 0\n",
      "[started] 4250 3.5 -1.0 0.0 0.99 0.0 0.0 0.0 0\n"
     ]
    },
    {
     "name": "stderr",
     "output_type": "stream",
     "text": [
      "[2023-01-06 18:30:43,367] [INFO] [turbospectrum:generate_spectrum:88]: Spherical model atmosphere with radius 2.05e+11 cm\n"
     ]
    },
    {
     "name": "stdout",
     "output_type": "stream",
     "text": [
      "[finished] 4250 3.0 -0.5 0.4 1.35 0.0 0.0 0.0 0\n",
      "[started] 4250 3.5 -1.0 0.4 0.99 0.0 0.0 0.0 0\n"
     ]
    },
    {
     "name": "stderr",
     "output_type": "stream",
     "text": [
      "[2023-01-06 18:30:44,474] [INFO] [turbospectrum:generate_spectrum:88]: Spherical model atmosphere with radius 2.05e+11 cm\n"
     ]
    },
    {
     "name": "stdout",
     "output_type": "stream",
     "text": [
      "[finished] 4250 3.0 -0.25 0.0 1.36 0.0 0.0 0.0 0\n",
      "[started] 4250 3.5 -0.75 0.0 1.0 0.0 0.0 0.0 0\n"
     ]
    },
    {
     "name": "stderr",
     "output_type": "stream",
     "text": [
      "[2023-01-06 18:30:59,611] [INFO] [turbospectrum:generate_spectrum:88]: Spherical model atmosphere with radius 2.05e+11 cm\n"
     ]
    },
    {
     "name": "stdout",
     "output_type": "stream",
     "text": [
      "[finished] 4250 3.0 -0.25 0.4 1.36 0.0 0.0 0.0 0\n",
      "[started] 4250 3.5 -0.75 0.4 1.0 0.0 0.0 0.0 0\n"
     ]
    },
    {
     "name": "stderr",
     "output_type": "stream",
     "text": [
      "[2023-01-06 18:31:00,740] [INFO] [turbospectrum:generate_spectrum:88]: Spherical model atmosphere with radius 2.05e+11 cm\n"
     ]
    },
    {
     "name": "stdout",
     "output_type": "stream",
     "text": [
      "[finished] 4250 3.0 0.0 0.0 1.37 0.0 0.0 0.0 0\n",
      "[started] 4250 3.5 -0.5 0.0 1.01 0.0 0.0 0.0 0\n"
     ]
    },
    {
     "name": "stderr",
     "output_type": "stream",
     "text": [
      "[2023-01-06 18:31:01,971] [INFO] [turbospectrum:generate_spectrum:88]: Spherical model atmosphere with radius 2.05e+11 cm\n"
     ]
    },
    {
     "name": "stdout",
     "output_type": "stream",
     "text": [
      "[finished] 4250 3.0 0.0 0.4 1.37 0.0 0.0 0.0 0\n",
      "[started] 4250 3.5 -0.5 0.4 1.01 0.0 0.0 0.0 0\n"
     ]
    },
    {
     "name": "stderr",
     "output_type": "stream",
     "text": [
      "[2023-01-06 18:31:02,461] [INFO] [turbospectrum:generate_spectrum:88]: Spherical model atmosphere with radius 2.05e+11 cm\n"
     ]
    },
    {
     "name": "stdout",
     "output_type": "stream",
     "text": [
      "[finished] 4250 3.0 0.25 0.0 1.38 0.0 0.0 0.0 0\n",
      "[started] 4250 3.5 -0.25 0.0 1.02 0.0 0.0 0.0 0\n"
     ]
    },
    {
     "name": "stderr",
     "output_type": "stream",
     "text": [
      "[2023-01-06 18:32:16,781] [INFO] [turbospectrum:generate_spectrum:88]: Spherical model atmosphere with radius 2.05e+11 cm\n"
     ]
    },
    {
     "name": "stdout",
     "output_type": "stream",
     "text": [
      "[finished] 4250 3.0 0.25 0.4 1.38 0.0 0.0 0.0 0\n",
      "[started] 4250 3.5 -0.25 0.4 1.02 0.0 0.0 0.0 0\n"
     ]
    },
    {
     "name": "stderr",
     "output_type": "stream",
     "text": [
      "[2023-01-06 18:32:21,583] [INFO] [turbospectrum:generate_spectrum:88]: Spherical model atmosphere with radius 2.05e+11 cm\n"
     ]
    },
    {
     "name": "stdout",
     "output_type": "stream",
     "text": [
      "[finished] 4250 3.5 -1.0 0.0 0.99 0.0 0.0 0.0 0\n",
      "[started] 4250 3.5 0.0 0.0 1.03 0.0 0.0 0.0 0\n"
     ]
    },
    {
     "name": "stderr",
     "output_type": "stream",
     "text": [
      "[2023-01-06 18:32:22,678] [INFO] [turbospectrum:generate_spectrum:88]: Spherical model atmosphere with radius 2.05e+11 cm\n"
     ]
    },
    {
     "name": "stdout",
     "output_type": "stream",
     "text": [
      "[finished] 4250 3.0 0.5 0.4 1.4 0.0 0.0 0.0 0\n",
      "[started] 4250 3.5 0.0 0.4 1.03 0.0 0.0 0.0 0\n"
     ]
    },
    {
     "name": "stderr",
     "output_type": "stream",
     "text": [
      "[2023-01-06 18:32:22,816] [INFO] [turbospectrum:generate_spectrum:88]: Spherical model atmosphere with radius 2.05e+11 cm\n"
     ]
    },
    {
     "name": "stdout",
     "output_type": "stream",
     "text": [
      "[finished] 4250 3.0 0.5 0.0 1.4 0.0 0.0 0.0 0\n",
      "[started] 4250 3.5 0.25 0.0 1.04 0.0 0.0 0.0 0\n"
     ]
    },
    {
     "name": "stderr",
     "output_type": "stream",
     "text": [
      "[2023-01-06 18:32:23,188] [INFO] [turbospectrum:generate_spectrum:88]: Spherical model atmosphere with radius 2.05e+11 cm\n"
     ]
    },
    {
     "name": "stdout",
     "output_type": "stream",
     "text": [
      "[finished] 4250 3.5 -1.0 0.4 0.99 0.0 0.0 0.0 0\n",
      "[started] 4250 3.5 0.25 0.4 1.04 0.0 0.0 0.0 0\n"
     ]
    },
    {
     "name": "stderr",
     "output_type": "stream",
     "text": [
      "[2023-01-06 18:32:24,199] [INFO] [turbospectrum:generate_spectrum:88]: Spherical model atmosphere with radius 2.05e+11 cm\n"
     ]
    },
    {
     "name": "stdout",
     "output_type": "stream",
     "text": [
      "[finished] 4250 3.5 -0.75 0.0 1.0 0.0 0.0 0.0 0\n",
      "[started] 4250 3.5 0.5 0.0 1.06 0.0 0.0 0.0 0\n"
     ]
    },
    {
     "name": "stderr",
     "output_type": "stream",
     "text": [
      "[2023-01-06 18:32:39,978] [INFO] [turbospectrum:generate_spectrum:88]: Spherical model atmosphere with radius 2.05e+11 cm\n"
     ]
    },
    {
     "name": "stdout",
     "output_type": "stream",
     "text": [
      "[finished] 4250 3.5 -0.75 0.4 1.0 0.0 0.0 0.0 0\n",
      "[started] 4250 3.5 0.5 0.4 1.06 0.0 0.0 0.0 0\n"
     ]
    },
    {
     "name": "stderr",
     "output_type": "stream",
     "text": [
      "[2023-01-06 18:32:40,352] [INFO] [turbospectrum:generate_spectrum:88]: Spherical model atmosphere with radius 2.05e+11 cm\n"
     ]
    },
    {
     "name": "stdout",
     "output_type": "stream",
     "text": [
      "[finished] 4250 3.5 -0.5 0.0 1.01 0.0 0.0 0.0 0\n",
      "[started] 4250 4.0 -1.0 0.0 0.92 0.0 0.0 0.0 0\n",
      "[finished] 4250 3.5 -0.5 0.4 1.01 0.0 0.0 0.0 0\n",
      "[started] 4250 4.0 -1.0 0.4 0.92 0.0 0.0 0.0 0\n",
      "[finished] 4250 3.5 -0.25 0.0 1.02 0.0 0.0 0.0 0\n",
      "[started] 4250 4.0 -0.75 0.0 0.93 0.0 0.0 0.0 0\n",
      "[finished] 4250 3.5 -0.25 0.4 1.02 0.0 0.0 0.0 0\n",
      "[started] 4250 4.0 -0.75 0.4 0.93 0.0 0.0 0.0 0\n",
      "[finished] 4250 3.5 0.0 0.4 1.03 0.0 0.0 0.0 0\n",
      "[started] 4250 4.0 -0.5 0.0 0.94 0.0 0.0 0.0 0\n",
      "[finished] 4250 3.5 0.0 0.0 1.03 0.0 0.0 0.0 0\n",
      "[started] 4250 4.0 -0.5 0.4 0.94 0.0 0.0 0.0 0\n",
      "[finished] 4250 3.5 0.25 0.0 1.04 0.0 0.0 0.0 0\n",
      "[started] 4250 4.0 -0.25 0.0 0.95 0.0 0.0 0.0 0\n",
      "[finished] 4250 3.5 0.25 0.4 1.04 0.0 0.0 0.0 0\n",
      "[started] 4250 4.0 -0.25 0.4 0.95 0.0 0.0 0.0 0\n",
      "[finished] 4250 4.0 -1.0 0.0 0.92 0.0 0.0 0.0 0\n",
      "[started] 4250 4.0 0.0 0.0 0.96 0.0 0.0 0.0 0\n",
      "[finished] 4250 4.0 -1.0 0.4 0.92 0.0 0.0 0.0 0\n",
      "[started] 4250 4.0 0.0 0.4 0.96 0.0 0.0 0.0 0\n",
      "[finished] 4250 3.5 0.5 0.0 1.06 0.0 0.0 0.0 0\n",
      "[started] 4250 4.0 0.25 0.0 0.98 0.0 0.0 0.0 0\n",
      "[finished] 4250 3.5 0.5 0.4 1.06 0.0 0.0 0.0 0\n",
      "[started] 4250 4.0 0.25 0.4 0.98 0.0 0.0 0.0 0\n",
      "[finished] 4250 4.0 -0.75 0.0 0.93 0.0 0.0 0.0 0\n",
      "[started] 4250 4.0 0.5 0.0 0.99 0.0 0.0 0.0 0\n",
      "[finished] 4250 4.0 -0.75 0.4 0.93 0.0 0.0 0.0 0\n",
      "[started] 4250 4.0 0.5 0.4 0.99 0.0 0.0 0.0 0\n",
      "[finished] 4250 4.0 -0.5 0.0 0.94 0.0 0.0 0.0 0\n",
      "[started] 4250 4.5 -1.0 0.0 0.85 0.0 0.0 0.0 0\n",
      "[finished] 4250 4.0 -0.5 0.4 0.94 0.0 0.0 0.0 0\n",
      "[started] 4250 4.5 -1.0 0.4 0.85 0.0 0.0 0.0 0\n",
      "[finished] 4250 4.0 -0.25 0.0 0.95 0.0 0.0 0.0 0\n",
      "[started] 4250 4.5 -0.75 0.0 0.86 0.0 0.0 0.0 0\n",
      "[finished] 4250 4.0 -0.25 0.4 0.95 0.0 0.0 0.0 0\n",
      "[started] 4250 4.5 -0.75 0.4 0.86 0.0 0.0 0.0 0\n",
      "[finished] 4250 4.0 0.0 0.0 0.96 0.0 0.0 0.0 0\n",
      "[started] 4250 4.5 -0.5 0.0 0.87 0.0 0.0 0.0 0\n",
      "[finished] 4250 4.0 0.0 0.4 0.96 0.0 0.0 0.0 0\n",
      "[started] 4250 4.5 -0.5 0.4 0.87 0.0 0.0 0.0 0\n",
      "[finished] 4250 4.0 0.25 0.0 0.98 0.0 0.0 0.0 0\n",
      "[started] 4250 4.5 -0.25 0.0 0.88 0.0 0.0 0.0 0\n",
      "[finished] 4250 4.0 0.25 0.4 0.98 0.0 0.0 0.0 0\n",
      "[started] 4250 4.5 -0.25 0.4 0.88 0.0 0.0 0.0 0\n",
      "[finished] 4250 4.0 0.5 0.0 0.99 0.0 0.0 0.0 0\n",
      "[started] 4250 4.5 0.0 0.0 0.89 0.0 0.0 0.0 0\n",
      "[finished] 4250 4.0 0.5 0.4 0.99 0.0 0.0 0.0 0\n",
      "[started] 4250 4.5 0.0 0.4 0.89 0.0 0.0 0.0 0\n",
      "[finished] 4250 4.5 -1.0 0.4 0.85 0.0 0.0 0.0 0\n",
      "[started] 4250 4.5 0.25 0.0 0.9 0.0 0.0 0.0 0\n",
      "[finished] 4250 4.5 -1.0 0.0 0.85 0.0 0.0 0.0 0\n",
      "[started] 4250 4.5 0.25 0.4 0.9 0.0 0.0 0.0 0\n",
      "[finished] 4250 4.5 -0.75 0.0 0.86 0.0 0.0 0.0 0\n",
      "[started] 4250 4.5 0.5 0.0 0.92 0.0 0.0 0.0 0\n",
      "[finished] 4250 4.5 -0.75 0.4 0.86 0.0 0.0 0.0 0\n",
      "[started] 4250 4.5 0.5 0.4 0.92 0.0 0.0 0.0 0\n",
      "[finished] 4250 4.5 -0.5 0.0 0.87 0.0 0.0 0.0 0\n",
      "[started] 4250 [finished]5.0  4250 4.5 -1.0-0.5  0.00.4 0.78  0.87 0.0 0.00.0  0.00.0  0.0 0\n",
      "0\n",
      "[started] 4250 5.0 -1.0 0.4 0.78 0.0 0.0 0.0 0\n",
      "[finished] 4250 4.5 -0.25 0.0 0.88 0.0 0.0 0.0 0\n",
      "[started] 4250 5.0 -0.75 0.0 0.79 0.0 0.0 0.0 0\n",
      "[finished] 4250 4.5 -0.25 0.4 0.88 0.0 0.0 0.0 0\n",
      "[started] 4250 5.0 -0.75 0.4 0.79 0.0 0.0 0.0 0\n",
      "[finished] 4250 4.5 0.0 0.0 0.89 0.0 0.0 0.0 0\n",
      "[started] 4250 5.0 -0.5 0.0 0.79 0.0 0.0 0.0 0\n",
      "[finished] 4250 4.5 0.0 0.4 0.89 0.0 0.0 0.0 0\n",
      "[started] 4250 5.0 -0.5 0.4 0.79 0.0 0.0 0.0 0\n",
      "[finished] 4250 4.5 0.25 0.4 0.9 0.0 0.0 0.0 0\n",
      "[started] 4250 5.0 -0.25 0.0 0.81 0.0 0.0 0.0 0\n",
      "[finished] 4250 4.5 0.25 0.0 0.9 0.0 0.0 0.0 0\n",
      "[started] 4250 5.0 -0.25 0.4 0.81 0.0 0.0 0.0 0\n",
      "[finished] 4250 4.5 0.5 0.0 0.92 0.0 0.0 0.0 0\n",
      "[started] 4250 5.0 0.0 0.0 0.82 0.0 0.0 0.0 0\n",
      "[finished] 4250 4.5 0.5 0.4 0.92 0.0 0.0 0.0 0\n",
      "[started] 4250 5.0 0.0 0.4 0.82 0.0 0.0 0.0 0\n",
      "[finished] 4250 5.0 -1.0 0.0 0.78 0.0 0.0 0.0 0\n",
      "[started][finished]  42504250  5.0 -1.0 0.4 5.00.78  0.00.25  0.00.0  0.00.83 0 \n",
      "0.0 0.0 0.0 0\n",
      "[started] 4250 5.0 0.25 0.4 0.83 0.0 0.0 0.0 0\n",
      "[finished] 4250 5.0 -0.75 0.0 0.79 0.0 0.0 0.0 0\n",
      "[started] 4250 5.0 0.5 0.0 0.84 0.0 0.0 0.0 0\n",
      "[finished] 4250 5.0 -0.75 0.4 0.79 0.0 0.0 0.0 0\n",
      "[started] 4250 5.0 0.5 0.4 0.84 0.0 0.0 0.0 0\n",
      "[finished] 4250 5.0 -0.5 0.0 0.79 0.0 0.0 0.0 0\n",
      "[started] 4500 3.0 -1.0 0.0 1.25 0.0 0.0 0.0 0\n"
     ]
    },
    {
     "name": "stderr",
     "output_type": "stream",
     "text": [
      "[2023-01-06 18:39:31,576] [INFO] [turbospectrum:generate_spectrum:88]: Spherical model atmosphere with radius 3.65e+11 cm\n"
     ]
    },
    {
     "name": "stdout",
     "output_type": "stream",
     "text": [
      "[finished] 4250 5.0 -0.5 0.4 0.79 0.0 0.0 0.0 0\n",
      "[started] 4500 3.0 -1.0 0.4 1.25 0.0 0.0 0.0 0\n"
     ]
    },
    {
     "name": "stderr",
     "output_type": "stream",
     "text": [
      "[2023-01-06 18:39:35,349] [INFO] [turbospectrum:generate_spectrum:88]: Spherical model atmosphere with radius 3.65e+11 cm\n"
     ]
    },
    {
     "name": "stdout",
     "output_type": "stream",
     "text": [
      "[finished] 4250 [finished]5.0  4250 -0.255.0  0.0-0.25  0.810.4  0.00.81  0.00.0 0.0  0.00.0  00\n",
      "\n",
      "[started] 4500 3.0 -0.75 0.0 1.26 0.0 0.0 0.0[started] 0 \n",
      "4500 3.0 -0.75 0.4 1.26 0.0 0.0 0.0 0\n"
     ]
    },
    {
     "name": "stderr",
     "output_type": "stream",
     "text": [
      "[2023-01-06 18:39:37,527] [INFO] [turbospectrum:generate_spectrum:88]: Spherical model atmosphere with radius 3.65e+11 cm\n",
      "[2023-01-06 18:39:37,534] [INFO] [turbospectrum:generate_spectrum:88]: Spherical model atmosphere with radius 3.65e+11 cm\n"
     ]
    },
    {
     "name": "stdout",
     "output_type": "stream",
     "text": [
      "[finished] 4250 5.0 0.0 0.0 0.82 0.0 0.0 0.0 0\n",
      "[started] 4500 3.0 -0.5 0.0 1.27 0.0 0.0 0.0 0\n"
     ]
    },
    {
     "name": "stderr",
     "output_type": "stream",
     "text": [
      "[2023-01-06 18:39:40,985] [INFO] [turbospectrum:generate_spectrum:88]: Spherical model atmosphere with radius 3.65e+11 cm\n"
     ]
    },
    {
     "name": "stdout",
     "output_type": "stream",
     "text": [
      "[finished] 4250 5.0 0.0 0.4 0.82 0.0 0.0 0.0 0\n",
      "[started] 4500 3.0 -0.5 0.4 1.27 0.0 0.0 0.0 0\n"
     ]
    },
    {
     "name": "stderr",
     "output_type": "stream",
     "text": [
      "[2023-01-06 18:39:42,047] [INFO] [turbospectrum:generate_spectrum:88]: Spherical model atmosphere with radius 3.65e+11 cm\n"
     ]
    },
    {
     "name": "stdout",
     "output_type": "stream",
     "text": [
      "[finished] 4250 5.0 0.25 0.4 0.83 0.0 0.0 0.0 0\n",
      "[started] 4500 3.0 -0.25 0.0 1.28 0.0 0.0 0.0 0\n"
     ]
    },
    {
     "name": "stderr",
     "output_type": "stream",
     "text": [
      "[2023-01-06 18:39:42,710] [INFO] [turbospectrum:generate_spectrum:88]: Spherical model atmosphere with radius 3.65e+11 cm\n"
     ]
    },
    {
     "name": "stdout",
     "output_type": "stream",
     "text": [
      "[finished] 4250 5.0 0.25 0.0 0.83 0.0 0.0 0.0 0\n",
      "[started] 4500 3.0 -0.25 0.4 1.28 0.0 0.0 0.0 0\n"
     ]
    },
    {
     "name": "stderr",
     "output_type": "stream",
     "text": [
      "[2023-01-06 18:39:43,063] [INFO] [turbospectrum:generate_spectrum:88]: Spherical model atmosphere with radius 3.65e+11 cm\n"
     ]
    },
    {
     "name": "stdout",
     "output_type": "stream",
     "text": [
      "[finished] 4250 5.0 0.5 0.0 0.84 0.0 0.0 0.0 0\n",
      "[started] 4500 3.0 0.0 0.0 1.29 0.0 0.0 0.0 0\n"
     ]
    },
    {
     "name": "stderr",
     "output_type": "stream",
     "text": [
      "[2023-01-06 18:40:00,728] [INFO] [turbospectrum:generate_spectrum:88]: Spherical model atmosphere with radius 3.65e+11 cm\n"
     ]
    },
    {
     "name": "stdout",
     "output_type": "stream",
     "text": [
      "[finished] 4250 5.0 0.5 0.4 0.84 0.0 0.0 0.0 0\n",
      "[started] 4500 3.0 0.0 0.4 1.29 0.0 0.0 0.0 0\n"
     ]
    },
    {
     "name": "stderr",
     "output_type": "stream",
     "text": [
      "[2023-01-06 18:40:01,177] [INFO] [turbospectrum:generate_spectrum:88]: Spherical model atmosphere with radius 3.65e+11 cm\n"
     ]
    },
    {
     "name": "stdout",
     "output_type": "stream",
     "text": [
      "[finished] 4500 3.0 -1.0 0.0 1.25 0.0 0.0 0.0 0\n",
      "[started] 4500 3.0 0.25 0.0 1.31 0.0 0.0 0.0 0\n"
     ]
    },
    {
     "name": "stderr",
     "output_type": "stream",
     "text": [
      "[2023-01-06 18:41:11,471] [INFO] [turbospectrum:generate_spectrum:88]: Spherical model atmosphere with radius 3.65e+11 cm\n"
     ]
    },
    {
     "name": "stdout",
     "output_type": "stream",
     "text": [
      "[finished] 4500 3.0 -1.0 0.4 1.25 0.0 0.0 0.0 0\n",
      "[started] 4500 3.0 0.25 0.4 1.31 0.0 0.0 0.0 0\n"
     ]
    },
    {
     "name": "stderr",
     "output_type": "stream",
     "text": [
      "[2023-01-06 18:41:15,135] [INFO] [turbospectrum:generate_spectrum:88]: Spherical model atmosphere with radius 3.65e+11 cm\n"
     ]
    },
    {
     "name": "stdout",
     "output_type": "stream",
     "text": [
      "[finished] 4500 3.0 -0.75 0.4 1.26 0.0 0.0 0.0 0\n",
      "[started] 4500 3.0 0.5 0.0 1.32 0.0 0.0 0.0 0\n"
     ]
    },
    {
     "name": "stderr",
     "output_type": "stream",
     "text": [
      "[2023-01-06 18:41:17,069] [INFO] [turbospectrum:generate_spectrum:88]: Spherical model atmosphere with radius 3.65e+11 cm\n"
     ]
    },
    {
     "name": "stdout",
     "output_type": "stream",
     "text": [
      "[finished] 4500 3.0 -0.75 0.0 1.26 0.0 0.0 0.0 0\n",
      "[started] 4500 3.0 0.5 0.4 1.32 0.0 0.0 0.0 0\n"
     ]
    },
    {
     "name": "stderr",
     "output_type": "stream",
     "text": [
      "[2023-01-06 18:41:17,264] [INFO] [turbospectrum:generate_spectrum:88]: Spherical model atmosphere with radius 3.65e+11 cm\n"
     ]
    },
    {
     "name": "stdout",
     "output_type": "stream",
     "text": [
      "[finished] 4500 3.0 -0.5 0.0 1.27 0.0 0.0 0.0 0\n",
      "[started] 4500 3.5 -1.0 0.0 0.99 0.0 0.0 0.0 0\n"
     ]
    },
    {
     "name": "stderr",
     "output_type": "stream",
     "text": [
      "[2023-01-06 18:41:20,699] [INFO] [turbospectrum:generate_spectrum:88]: Spherical model atmosphere with radius 2.05e+11 cm\n"
     ]
    },
    {
     "name": "stdout",
     "output_type": "stream",
     "text": [
      "[finished] 4500 3.0 -0.5 0.4 1.27 0.0 0.0 0.0 0\n",
      "[started] 4500 3.5 -1.0 0.4 0.99 0.0 0.0 0.0 0\n"
     ]
    },
    {
     "name": "stderr",
     "output_type": "stream",
     "text": [
      "[2023-01-06 18:41:22,163] [INFO] [turbospectrum:generate_spectrum:88]: Spherical model atmosphere with radius 2.05e+11 cm\n"
     ]
    },
    {
     "name": "stdout",
     "output_type": "stream",
     "text": [
      "[finished] 4500 3.0 -0.25 0.4 1.28 0.0 0.0 0.0 0\n",
      "[started] 4500 3.5 -0.75 0.0 1.0 0.0 0.0 0.0 0\n",
      "[finished] 4500 3.0 -0.25 0.0 1.28 0.0 0.0"
     ]
    },
    {
     "name": "stderr",
     "output_type": "stream",
     "text": [
      "[2023-01-06 18:41:23,241] [INFO] [turbospectrum:generate_spectrum:88]: Spherical model atmosphere with radius 2.05e+11 cm\n"
     ]
    },
    {
     "name": "stdout",
     "output_type": "stream",
     "text": [
      " 0.0 0\n",
      "[started] 4500 3.5 -0.75 0.4 1.0 0.0 0.0 0.0 0\n"
     ]
    },
    {
     "name": "stderr",
     "output_type": "stream",
     "text": [
      "[2023-01-06 18:41:23,357] [INFO] [turbospectrum:generate_spectrum:88]: Spherical model atmosphere with radius 2.05e+11 cm\n"
     ]
    },
    {
     "name": "stdout",
     "output_type": "stream",
     "text": [
      "[finished] 4500 3.0 0.0 0.4 1.29 0.0 0.0 0.0 0\n",
      "[started] 4500 3.5 -0.5 0.0 1.01 0.0[finished] 0.0  4500 0.03.0  00.0\n",
      " 0.0 1.29 0.0 0.0 0.0 0\n",
      "[started] 4500 3.5 -0.5 0.4 1.01 0.0 0.0 0.0 0\n"
     ]
    },
    {
     "name": "stderr",
     "output_type": "stream",
     "text": [
      "[2023-01-06 18:41:41,520] [INFO] [turbospectrum:generate_spectrum:88]: Spherical model atmosphere with radius 2.05e+11 cm\n",
      "[2023-01-06 18:41:41,578] [INFO] [turbospectrum:generate_spectrum:88]: Spherical model atmosphere with radius 2.05e+11 cm\n"
     ]
    },
    {
     "name": "stdout",
     "output_type": "stream",
     "text": [
      "[finished] 4500 3.0 0.25 0.0 1.31 0.0 0.0 0.0 0\n",
      "[started] 4500 3.5 -0.25 0.0 1.02 0.0 0.0 0.0 0\n"
     ]
    },
    {
     "name": "stderr",
     "output_type": "stream",
     "text": [
      "[2023-01-06 18:42:52,196] [INFO] [turbospectrum:generate_spectrum:88]: Spherical model atmosphere with radius 2.05e+11 cm\n"
     ]
    },
    {
     "name": "stdout",
     "output_type": "stream",
     "text": [
      "[finished] 4500 3.0 0.25 0.4 1.31 0.0 0.0 0.0 0\n",
      "[started] 4500 3.5 -0.25 0.4 1.02 0.0 0.0 0.0 0\n"
     ]
    },
    {
     "name": "stderr",
     "output_type": "stream",
     "text": [
      "[2023-01-06 18:42:56,674] [INFO] [turbospectrum:generate_spectrum:88]: Spherical model atmosphere with radius 2.05e+11 cm\n"
     ]
    },
    {
     "name": "stdout",
     "output_type": "stream",
     "text": [
      "[finished] 4500 3.0 0.5 0.4 1.32 0.0 0.0 0.0 0\n",
      "[started] 4500 3.5 0.0 0.0 1.03 0.0 0.0 0.0 0\n"
     ]
    },
    {
     "name": "stderr",
     "output_type": "stream",
     "text": [
      "[2023-01-06 18:42:57,177] [INFO] [turbospectrum:generate_spectrum:88]: Spherical model atmosphere with radius 2.05e+11 cm\n"
     ]
    },
    {
     "name": "stdout",
     "output_type": "stream",
     "text": [
      "[finished] 4500 3.0 0.5 0.0 1.32 0.0 0.0 0.0 0\n",
      "[started] 4500 3.5 0.0 0.4 1.03 0.0 0.0 0.0 0\n"
     ]
    },
    {
     "name": "stderr",
     "output_type": "stream",
     "text": [
      "[2023-01-06 18:42:57,743] [INFO] [turbospectrum:generate_spectrum:88]: Spherical model atmosphere with radius 2.05e+11 cm\n"
     ]
    },
    {
     "name": "stdout",
     "output_type": "stream",
     "text": [
      "[finished] 4500 3.5 -1.0 0.0 0.99 0.0 0.0 0.0 0\n",
      "[started] 4500 3.5 0.25 0.0 1.04 0.0 0.0 0.0 0\n"
     ]
    },
    {
     "name": "stderr",
     "output_type": "stream",
     "text": [
      "[2023-01-06 18:43:00,105] [INFO] [turbospectrum:generate_spectrum:88]: Spherical model atmosphere with radius 2.05e+11 cm\n"
     ]
    },
    {
     "name": "stdout",
     "output_type": "stream",
     "text": [
      "[finished] 4500 3.5 -1.0 0.4 0.99 0.0 0.0 0.0 0\n",
      "[started] 4500 3.5 0.25 0.4 1.04 0.0 0.0 0.0 0\n"
     ]
    },
    {
     "name": "stderr",
     "output_type": "stream",
     "text": [
      "[2023-01-06 18:43:02,481] [INFO] [turbospectrum:generate_spectrum:88]: Spherical model atmosphere with radius 2.05e+11 cm\n"
     ]
    },
    {
     "name": "stdout",
     "output_type": "stream",
     "text": [
      "[finished] 4500 3.5 -0.75 0.4 1.0 0.0 0.0 0.0 0\n",
      "[started] 4500 3.5 0.5 0.0 1.06 0.0 0.0 0.0 0\n"
     ]
    },
    {
     "name": "stderr",
     "output_type": "stream",
     "text": [
      "[2023-01-06 18:43:03,206] [INFO] [turbospectrum:generate_spectrum:88]: Spherical model atmosphere with radius 2.05e+11 cm\n"
     ]
    },
    {
     "name": "stdout",
     "output_type": "stream",
     "text": [
      "[finished] 4500 3.5 -0.75 0.0 1.0 0.0 0.0 0.0 0\n",
      "[started] 4500 3.5 0.5 0.4 1.06 0.0 0.0 0.0 0\n"
     ]
    },
    {
     "name": "stderr",
     "output_type": "stream",
     "text": [
      "[2023-01-06 18:43:03,724] [INFO] [turbospectrum:generate_spectrum:88]: Spherical model atmosphere with radius 2.05e+11 cm\n"
     ]
    },
    {
     "name": "stdout",
     "output_type": "stream",
     "text": [
      "[finished] 4500 3.5 -0.5 0.4 1.01 0.0 0.0 0.0 0\n",
      "[started] 4500 4.0 -1.0 0.0 0.92 0.0 0.0 0.0 0\n",
      "[finished] 4500 3.5 -0.5 0.0 1.01 0.0 0.0 0.0 0\n",
      "[started] 4500 4.0 -1.0 0.4 0.92 0.0 0.0 0.0 0\n",
      "[finished] 4500 3.5 -0.25 0.0 1.02 0.0 0.0 0.0 0\n",
      "[started] 4500 4.0 -0.75 0.0 0.93 0.0 0.0 0.0 0\n",
      "[finished] 4500 3.5 -0.25 0.4 1.02 0.0 0.0 0.0 0\n",
      "[started] 4500 4.0 -0.75 0.4 0.93 0.0 0.0 0.0 0\n",
      "[finished] 4500 3.5 0.0 0.0 1.03 0.0 0.0 0.0 0\n",
      "[started] 4500 4.0 -0.5 0.0 0.94 0.0 0.0 0.0 0\n",
      "[finished] 4500 3.5 0.0 0.4 1.03 0.0 0.0 0.0 0\n",
      "[started] 4500 4.0 -0.5 0.4 0.94 0.0 0.0 0.0 0\n",
      "[finished] 4500 3.5 0.25 0.0 1.04 0.0 0.0 0.0 0\n",
      "[started] 4500 4.0 -0.25 0.0 0.95 0.0 0.0 0.0 0\n",
      "[finished] 4500 3.5 0.25 0.4 1.04 0.0 0.0 0.0 0\n",
      "[started] 4500 4.0 -0.25 0.4 0.95 0.0 0.0 0.0 0\n",
      "[finished] 4500 3.5 0.5 0.4 1.06 0.0 0.0 0.0 0\n",
      "[started] 4500 4.0 0.0 0.0 0.96 0.0 0.0 0.0 0\n",
      "[finished] 4500 3.5 0.5 0.0 1.06 0.0 0.0 0.0 0\n",
      "[started] 4500 4.0 0.0 0.4 0.96 0.0 0.0 0.0 0\n",
      "[finished] 4500 4.0 -1.0 0.0 0.92 0.0 0.0 0.0 0\n",
      "[started] 4500 4.0 0.25 0.0 0.98 0.0 0.0 0.0 0\n",
      "[finished] 4500 4.0 -1.0 0.4 0.92 0.0 0.0 0.0 0\n",
      "[started] 4500 4.0 0.25 0.4 0.98 0.0 0.0 0.0 0\n",
      "[finished] 4500 4.0 -0.75 0.0 0.93 0.0 0.0 0.0 0\n",
      "[started] 4500 4.0 0.5 0.0 0.99 0.0 0.0 0.0 0\n",
      "[finished] 4500 4.0 -0.75 0.4 0.93 0.0 0.0 0.0 0\n",
      "[started] 4500 4.0 0.5 0.4 0.99 0.0 0.0 0.0 0\n",
      "[finished] 4500 4.0 -0.5 0.0 0.94 0.0 0.0 0.0 0\n",
      "[started] 4500 4.5 -1.0 0.0 0.85 0.0 0.0 0.0 0\n",
      "[finished] 4500 4.0 -0.5 0.4 0.94 0.0 0.0 0.0 0\n",
      "[started] 4500 4.5 -1.0 0.4 0.85 0.0 0.0 0.0 0\n",
      "[finished] 4500 4.0 -0.25 0.0 0.95 0.0 0.0 0.0 0\n",
      "[started] 4500 4.5 -0.75 0.0 0.86 0.0 0.0 0.0 0\n",
      "[finished] 4500 4.0 -0.25 0.4 0.95 0.0 0.0 0.0 0\n",
      "[started] 4500 4.5 -0.75 0.4 0.86 0.0 0.0 0.0 0\n",
      "[finished] 4500 4.0 0.0 0.4 0.96 0.0 0.0 0.0 0\n",
      "[started] 4500 4.5 -0.5 0.0 0.87 0.0 0.0 0.0 0\n",
      "[finished] 4500 4.0 0.0 0.0 0.96 0.0 0.0 0.0 0\n",
      "[started] 4500 4.5 -0.5 0.4 0.87 0.0 0.0 0.0 0\n",
      "[finished] 4500 4.0 0.25 0.0 0.98 0.0 0.0 0.0 0\n",
      "[started] 4500 4.5 -0.25 0.0 0.88 0.0 0.0 0.0 0\n",
      "[finished] 4500 4.0 0.25 0.4 0.98 0.0 0.0 0.0 0\n",
      "[started] 4500 4.5 -0.25 0.4 0.88 0.0 0.0 0.0 0\n",
      "[finished] 4500 4.0 0.5 0.0 0.99 0.0 0.0 0.0 0\n",
      "[started] 4500 4.5 0.0 0.0 0.89 0.0 0.0 0.0 0\n",
      "[finished] 4500 4.0 0.5 0.4 0.99 0.0 0.0 0.0 0\n",
      "[started] 4500 4.5 0.0 0.4 0.89 0.0 0.0 0.0 0\n",
      "[finished] 4500 4.5 -1.0 0.0 0.85 0.0 0.0 0.0 0\n",
      "[started] 4500 4.5 0.25 0.0 0.9 0.0 0.0 0.0 0\n",
      "[finished] 4500 4.5 -1.0 0.4 0.85 0.0 0.0 0.0 0\n",
      "[started] 4500 4.5 0.25 0.4 0.9 0.0 0.0 0.0 0\n",
      "[finished] 4500 4.5 -0.75 0.0 0.86 0.0 0.0 0.0 0\n",
      "[started] 4500 4.5 0.5 0.0 0.92 0.0 0.0 0.0 0\n",
      "[finished] 4500 4.5 -0.75 0.4 0.86 0.0 0.0 0.0 0\n",
      "[started] 4500 4.5 0.5 0.4 0.92 0.0 0.0 0.0 0\n",
      "[finished] 4500 4.5 -0.5 0.0 0.87 0.0 0.0 0.0 0\n",
      "[started] 4500 5.0 -1.0 0.0 0.78 0.0 0.0 0.0 0\n",
      "[finished] 4500 4.5 -0.5 0.4 0.87 0.0 0.0 0.0 0\n",
      "[started] 4500 5.0 -1.0 0.4 0.78 0.0 0.0 0.0 0\n",
      "[finished] 4500 4.5 -0.25 0.0 0.88 0.0 0.0 0.0 0\n",
      "[started] 4500 5.0 -0.75 0.0 0.79 0.0 0.0 0.0 0\n",
      "[finished] 4500 4.5 -0.25 0.4 0.88 0.0 0.0 0.0 0\n",
      "[started] 4500 5.0 -0.75 0.4 0.79 0.0 0.0 0.0 0\n",
      "[finished] 4500 4.5 0.0 0.0 0.89 0.0 0.0 0.0 0\n",
      "[started] 4500 5.0 -0.5 0.0 0.79 0.0 0.0 0.0 0\n",
      "[finished] 4500 4.5 0.0 0.4 0.89 0.0 0.0 0.0 0\n",
      "[started] 4500 5.0 -0.5 0.4 0.79 0.0 0.0 0.0 0\n",
      "[finished] 4500 4.5 0.25 0.0 0.9 0.0 0.0 0.0 0\n",
      "[started] 4500 5.0 -0.25 0.0 0.81 0.0 0.0 0.0 0\n",
      "[finished] 4500 4.5 0.25 0.4 0.9 0.0 0.0 0.0 0\n",
      "[started] 4500 5.0 -0.25 0.4 0.81 0.0 0.0 0.0 0\n",
      "[finished] 4500 4.5 0.5 0.0 0.92 0.0 0.0 0.0 0\n",
      "[started] 4500 5.0 0.0 0.0 0.82 0.0 0.0 0.0 0\n",
      "[finished] 4500 4.5 0.5 0.4 0.92 0.0 0.0 0.0 0\n",
      "[started] 4500 5.0 0.0 0.4 0.82 0.0 0.0 0.0 0\n",
      "[finished] 4500 5.0 -1.0 0.0 0.78 0.0 0.0 0.0 0\n",
      "[started] 4500 5.0 0.25 0.0 0.83 0.0 0.0 0.0 0\n",
      "[finished] 4500 5.0 -1.0 0.4 0.78 0.0 0.0 0.0 0\n",
      "[started] 4500 5.0 0.25 0.4 0.83 0.0 0.0 0.0 0\n",
      "[finished] 4500 5.0 -0.75 0.4 0.79 0.0 0.0 0.0 0\n",
      "[started] 4500 5.0 0.5 0.0 0.84 0.0 0.0 0.0 0\n",
      "[finished] 4500 5.0 -0.75 0.0 0.79 0.0 0.0 0.0 0\n",
      "[started] 4500 5.0 0.5 0.4 0.84 0.0 0.0 0.0 0\n",
      "[finished] 4500 5.0 -0.5 0.0 0.79 0.0 0.0 0.0 0\n",
      "[started] 4750 3.0 -1.0 0.0 1.22 0.0 0.0 0.0 0\n"
     ]
    },
    {
     "name": "stderr",
     "output_type": "stream",
     "text": [
      "[2023-01-06 18:50:08,028] [INFO] [turbospectrum:generate_spectrum:88]: Spherical model atmosphere with radius 3.65e+11 cm\n"
     ]
    },
    {
     "name": "stdout",
     "output_type": "stream",
     "text": [
      "[finished] 4500 5.0 -0.5 0.4 0.79 0.0 0.0 0.0 0\n",
      "[started] 4750 3.0 -1.0 0.4 1.22 0.0 0.0 0.0 0\n"
     ]
    },
    {
     "name": "stderr",
     "output_type": "stream",
     "text": [
      "[2023-01-06 18:50:11,157] [INFO] [turbospectrum:generate_spectrum:88]: Spherical model atmosphere with radius 3.65e+11 cm\n"
     ]
    },
    {
     "name": "stdout",
     "output_type": "stream",
     "text": [
      "[finished] 4500 5.0 -0.25 0.4 0.81 0.0 0.0 0.0 0\n",
      "[started] 4750 3.0 -0.75 0.0 1.23 0.0 0.0 0.0 0\n"
     ]
    },
    {
     "name": "stderr",
     "output_type": "stream",
     "text": [
      "[2023-01-06 18:50:11,790] [INFO] [turbospectrum:generate_spectrum:88]: Spherical model atmosphere with radius 3.65e+11 cm\n"
     ]
    },
    {
     "name": "stdout",
     "output_type": "stream",
     "text": [
      "[finished] 4500 5.0 -0.25 0.0 0.81 0.0 0.0 0.0 0\n",
      "[started] 4750 3.0 -0.75 0.4 1.23 0.0 0.0 0.0 0\n"
     ]
    },
    {
     "name": "stderr",
     "output_type": "stream",
     "text": [
      "[2023-01-06 18:50:12,192] [INFO] [turbospectrum:generate_spectrum:88]: Spherical model atmosphere with radius 3.65e+11 cm\n"
     ]
    },
    {
     "name": "stdout",
     "output_type": "stream",
     "text": [
      "[finished] 4500 5.0 0.0 0.0 0.82 0.0 0.0 0.0 0\n",
      "[started] 4750 3.0 -0.5 0.0 1.24 0.0 0.0 0.0 0\n"
     ]
    },
    {
     "name": "stderr",
     "output_type": "stream",
     "text": [
      "[2023-01-06 18:50:17,650] [INFO] [turbospectrum:generate_spectrum:88]: Spherical model atmosphere with radius 3.65e+11 cm\n"
     ]
    },
    {
     "name": "stdout",
     "output_type": "stream",
     "text": [
      "[finished] 4500 5.0 0.0 0.4 0.82 0.0 0.0 0.0 0\n",
      "[started] 4750 3.0 -0.5 0.4 1.24 0.0 0.0 0.0 0\n"
     ]
    },
    {
     "name": "stderr",
     "output_type": "stream",
     "text": [
      "[2023-01-06 18:50:18,021] [INFO] [turbospectrum:generate_spectrum:88]: Spherical model atmosphere with radius 3.65e+11 cm\n"
     ]
    },
    {
     "name": "stdout",
     "output_type": "stream",
     "text": [
      "[finished] 4500 5.0 0.25 0.0 0.83 0.0 0.0 0.0 0\n",
      "[started] 4750 3.0 -0.25 0.0 1.25 0.0 0.0 0.0 0\n"
     ]
    },
    {
     "name": "stderr",
     "output_type": "stream",
     "text": [
      "[2023-01-06 18:50:20,054] [INFO] [turbospectrum:generate_spectrum:88]: Spherical model atmosphere with radius 3.65e+11 cm\n"
     ]
    },
    {
     "name": "stdout",
     "output_type": "stream",
     "text": [
      "[finished] 4500 5.0 0.25 0.4 0.83 0.0 0.0 0.0 0\n",
      "[started] 4750 3.0 -0.25 0.4 1.25 0.0 0.0 0.0 0\n"
     ]
    },
    {
     "name": "stderr",
     "output_type": "stream",
     "text": [
      "[2023-01-06 18:50:20,350] [INFO] [turbospectrum:generate_spectrum:88]: Spherical model atmosphere with radius 3.65e+11 cm\n"
     ]
    },
    {
     "name": "stdout",
     "output_type": "stream",
     "text": [
      "[finished] 4500 5.0 0.5 0.4 0.84 0.0 0.0 0.0 0\n",
      "[started] 4750 3.0 0.0 0.0 1.26 0.0 0.0 0.0 0\n"
     ]
    },
    {
     "name": "stderr",
     "output_type": "stream",
     "text": [
      "[2023-01-06 18:50:21,477] [INFO] [turbospectrum:generate_spectrum:88]: Spherical model atmosphere with radius 3.65e+11 cm\n"
     ]
    },
    {
     "name": "stdout",
     "output_type": "stream",
     "text": [
      "[finished] 4500 5.0 0.5 0.0 0.84 0.0 0.0 0.0 0\n",
      "[started] 4750 3.0 0.0 0.4 1.26 0.0 0.0 0.0 0\n"
     ]
    },
    {
     "name": "stderr",
     "output_type": "stream",
     "text": [
      "[2023-01-06 18:50:22,408] [INFO] [turbospectrum:generate_spectrum:88]: Spherical model atmosphere with radius 3.65e+11 cm\n"
     ]
    },
    {
     "name": "stdout",
     "output_type": "stream",
     "text": [
      "[finished] 4750 3.0 -1.0 0.0 1.22 0.0 0.0 0.0 0\n",
      "[started] 4750 3.0 0.25 0.0 1.27 0.0 0.0 0.0 0\n"
     ]
    },
    {
     "name": "stderr",
     "output_type": "stream",
     "text": [
      "[2023-01-06 18:51:48,055] [INFO] [turbospectrum:generate_spectrum:88]: Spherical model atmosphere with radius 3.65e+11 cm\n"
     ]
    },
    {
     "name": "stdout",
     "output_type": "stream",
     "text": [
      "[finished] 4750 3.0 -0.75 0.0 1.23 0.0 0.0 0.0 0\n",
      "[started] 4750 3.0 0.25 0.4 1.27 0.0 0.0 0.0 0\n"
     ]
    },
    {
     "name": "stderr",
     "output_type": "stream",
     "text": [
      "[2023-01-06 18:51:51,951] [INFO] [turbospectrum:generate_spectrum:88]: Spherical model atmosphere with radius 3.65e+11 cm\n"
     ]
    },
    {
     "name": "stdout",
     "output_type": "stream",
     "text": [
      "[finished] 4750 3.0 -0.75 0.4 1.23 0.0 0.0 0.0 0\n",
      "[started] 4750 3.0 0.5 0.0 1.29 0.0 0.0 0.0 0\n"
     ]
    },
    {
     "name": "stderr",
     "output_type": "stream",
     "text": [
      "[2023-01-06 18:51:52,269] [INFO] [turbospectrum:generate_spectrum:88]: Spherical model atmosphere with radius 3.65e+11 cm\n"
     ]
    },
    {
     "name": "stdout",
     "output_type": "stream",
     "text": [
      "[finished] 4750 3.0 -1.0 0.4 1.22 0.0 0.0 0.0 0\n",
      "[started] 4750 3.0 0.5 0.4 1.29 0.0 0.0 0.0 0\n"
     ]
    },
    {
     "name": "stderr",
     "output_type": "stream",
     "text": [
      "[2023-01-06 18:51:52,460] [INFO] [turbospectrum:generate_spectrum:88]: Spherical model atmosphere with radius 3.65e+11 cm\n"
     ]
    },
    {
     "name": "stdout",
     "output_type": "stream",
     "text": [
      "[finished] 4750 3.0 -0.5 0.4 1.24 0.0 0.0 0.0 0\n",
      "[started] 4750 3.5 -1.0 0.0 0.99 0.0 0.0 0.0 0\n"
     ]
    },
    {
     "name": "stderr",
     "output_type": "stream",
     "text": [
      "[2023-01-06 18:51:58,343] [INFO] [turbospectrum:generate_spectrum:88]: Spherical model atmosphere with radius 2.05e+11 cm\n"
     ]
    },
    {
     "name": "stdout",
     "output_type": "stream",
     "text": [
      "[finished] 4750 3.0 -0.5 0.0 1.24 0.0 0.0 0.0 0\n",
      "[started] 4750 3.5 -1.0 0.4 0.99 0.0 0.0 0.0 0\n"
     ]
    },
    {
     "name": "stderr",
     "output_type": "stream",
     "text": [
      "[2023-01-06 18:51:58,949] [INFO] [turbospectrum:generate_spectrum:88]: Spherical model atmosphere with radius 2.05e+11 cm\n"
     ]
    },
    {
     "name": "stdout",
     "output_type": "stream",
     "text": [
      "[finished] 4750 3.0 -0.25 0.4 1.25 0.0 0.0 0.0 0\n",
      "[started] 4750 3.5 -0.75 0.0 1.0 0.0 0.0 0.0 0\n"
     ]
    },
    {
     "name": "stderr",
     "output_type": "stream",
     "text": [
      "[2023-01-06 18:52:00,193] [INFO] [turbospectrum:generate_spectrum:88]: Spherical model atmosphere with radius 2.05e+11 cm\n"
     ]
    },
    {
     "name": "stdout",
     "output_type": "stream",
     "text": [
      "[finished] 4750 3.0 -0.25 0.0 1.25 0.0 0.0 0.0 0\n",
      "[started] 4750 3.5 -0.75 0.4 1.0 0.0 0.0 0.0 0\n"
     ]
    },
    {
     "name": "stderr",
     "output_type": "stream",
     "text": [
      "[2023-01-06 18:52:00,703] [INFO] [turbospectrum:generate_spectrum:88]: Spherical model atmosphere with radius 2.05e+11 cm\n"
     ]
    },
    {
     "name": "stdout",
     "output_type": "stream",
     "text": [
      "[finished] 4750 3.0 0.0 0.0 1.26 0.0 0.0 0.0 0\n",
      "[started] 4750 3.5 -0.5 0.0 1.01 0.0 0.0 0.0 0\n"
     ]
    },
    {
     "name": "stderr",
     "output_type": "stream",
     "text": [
      "[2023-01-06 18:52:02,059] [INFO] [turbospectrum:generate_spectrum:88]: Spherical model atmosphere with radius 2.05e+11 cm\n"
     ]
    },
    {
     "name": "stdout",
     "output_type": "stream",
     "text": [
      "[finished] 4750 3.0 0.0 0.4 1.26 0.0 0.0 0.0 0\n",
      "[started] 4750 3.5 -0.5 0.4 1.01 0.0 0.0 0.0 0\n"
     ]
    },
    {
     "name": "stderr",
     "output_type": "stream",
     "text": [
      "[2023-01-06 18:52:02,816] [INFO] [turbospectrum:generate_spectrum:88]: Spherical model atmosphere with radius 2.05e+11 cm\n"
     ]
    },
    {
     "name": "stdout",
     "output_type": "stream",
     "text": [
      "[finished] 4750 3.0 0.25 0.0 1.27 0.0 0.0 0.0 0\n",
      "[started] 4750 3.5 -0.25 0.0 1.02 0.0 0.0 0.0 0\n"
     ]
    },
    {
     "name": "stderr",
     "output_type": "stream",
     "text": [
      "[2023-01-06 18:53:28,876] [INFO] [turbospectrum:generate_spectrum:88]: Spherical model atmosphere with radius 2.05e+11 cm\n"
     ]
    },
    {
     "name": "stdout",
     "output_type": "stream",
     "text": [
      "[finished] 4750 3.0 0.25 0.4 1.27 0.0 0.0 0.0 0\n",
      "[started] 4750 3.5 -0.25 0.4 1.02 0.0 0.0 0.0 0\n"
     ]
    },
    {
     "name": "stderr",
     "output_type": "stream",
     "text": [
      "[2023-01-06 18:53:32,143] [INFO] [turbospectrum:generate_spectrum:88]: Spherical model atmosphere with radius 2.05e+11 cm\n"
     ]
    },
    {
     "name": "stdout",
     "output_type": "stream",
     "text": [
      "[finished] 4750 3.0 0.5 0.4 1.29 0.0 0.0 0.0 0\n",
      "[started] 4750 3.5 0.0 0.0 1.03 0.0 0.0 0.0 0\n"
     ]
    },
    {
     "name": "stderr",
     "output_type": "stream",
     "text": [
      "[2023-01-06 18:53:32,649] [INFO] [turbospectrum:generate_spectrum:88]: Spherical model atmosphere with radius 2.05e+11 cm\n"
     ]
    },
    {
     "name": "stdout",
     "output_type": "stream",
     "text": [
      "[finished] 4750 3.0 0.5 0.0 1.29 0.0 0.0 0.0 0\n",
      "[started] 4750 3.5 0.0 0.4 1.03 0.0 0.0 0.0 0\n"
     ]
    },
    {
     "name": "stderr",
     "output_type": "stream",
     "text": [
      "[2023-01-06 18:53:33,067] [INFO] [turbospectrum:generate_spectrum:88]: Spherical model atmosphere with radius 2.05e+11 cm\n"
     ]
    },
    {
     "name": "stdout",
     "output_type": "stream",
     "text": [
      "[finished] 4750 3.5 -1.0 0.0 0.99 0.0 0.0 0.0 0\n",
      "[started] 4750 3.5 0.25 0.0 1.04 0.0 0.0 0.0 0\n"
     ]
    },
    {
     "name": "stderr",
     "output_type": "stream",
     "text": [
      "[2023-01-06 18:53:38,338] [INFO] [turbospectrum:generate_spectrum:88]: Spherical model atmosphere with radius 2.05e+11 cm\n"
     ]
    },
    {
     "name": "stdout",
     "output_type": "stream",
     "text": [
      "[finished] 4750 3.5 -1.0 0.4 0.99 0.0 0.0 0.0 0\n",
      "[started] 4750 3.5 0.25 0.4 1.04 0.0 0.0 0.0 0\n"
     ]
    },
    {
     "name": "stderr",
     "output_type": "stream",
     "text": [
      "[2023-01-06 18:53:39,316] [INFO] [turbospectrum:generate_spectrum:88]: Spherical model atmosphere with radius 2.05e+11 cm\n"
     ]
    },
    {
     "name": "stdout",
     "output_type": "stream",
     "text": [
      "[finished] 4750 3.5 -0.75 0.4 1.0 0.0 0.0 0.0 0\n",
      "[started] 4750 3.5 0.5 0.0 1.06 0.0 0.0 0.0 0\n"
     ]
    },
    {
     "name": "stderr",
     "output_type": "stream",
     "text": [
      "[2023-01-06 18:53:40,004] [INFO] [turbospectrum:generate_spectrum:88]: Spherical model atmosphere with radius 2.05e+11 cm\n"
     ]
    },
    {
     "name": "stdout",
     "output_type": "stream",
     "text": [
      "[finished] 4750 3.5 -0.75 0.0 1.0 0.0 0.0 0.0 0\n",
      "[started] 4750 3.5 0.5 0.4 1.06 0.0 0.0 0.0 0\n"
     ]
    },
    {
     "name": "stderr",
     "output_type": "stream",
     "text": [
      "[2023-01-06 18:53:40,285] [INFO] [turbospectrum:generate_spectrum:88]: Spherical model atmosphere with radius 2.05e+11 cm\n"
     ]
    },
    {
     "name": "stdout",
     "output_type": "stream",
     "text": [
      "[finished] 4750 3.5 -0.5 0.0 1.01 0.0 0.0 0.0 0\n",
      "[started] 4750 4.0 -1.0 0.0 0.92 0.0 0.0 0.0 0\n",
      "[finished] 4750 3.5 -0.5 0.4 1.01 0.0 0.0 0.0 0\n",
      "[started] 4750 4.0 -1.0 0.4 0.92 0.0 0.0 0.0 0\n",
      "[finished] 4750 4.0 -1.0 0.0 0.92 0.0 0.0 0.0 0\n",
      "[started] 4750 4.0 -0.75 0.0 0.93 0.0 0.0 0.0 0\n",
      "[finished] 4750 4.0 -1.0 0.4 0.92 0.0 0.0 0.0 0\n",
      "[started] 4750 4.0 -0.75 0.4 0.93 0.0 0.0 0.0 0\n",
      "[finished] 4750 3.5 -0.25 0.0 1.02 0.0 0.0 0.0 0\n",
      "[started] 4750 4.0 -0.5 0.0 0.94 0.0 0.0 0.0 0\n",
      "[finished] 4750 3.5 -0.25 0.4 1.02 0.0 0.0 0.0 0\n",
      "[started] 4750 4.0 -0.5 0.4 0.94 0.0 0.0 0.0 0\n",
      "[finished] 4750 3.5 0.0 0.0 1.03 0.0 0.0 0.0 0\n",
      "[started] 4750 4.0 -0.25 0.0 0.95 0.0 0.0 0.0 0\n",
      "[finished] 4750 3.5 0.0 0.4 1.03 0.0 0.0 0.0 0\n",
      "[started] 4750 4.0 -0.25 0.4 0.95 0.0 0.0 0.0 0\n",
      "[finished] 4750 3.5 0.25 0.4 1.04 0.0 0.0 0.0 0\n",
      "[started] 4750 4.0 0.0 0.0 0.96 0.0 0.0 0.0 0\n",
      "[finished] 4750 3.5 0.25 0.0 1.04 0.0 0.0 0.0 0\n",
      "[started] 4750 4.0 0.0 0.4 0.96 0.0 0.0 0.0 0\n",
      "[finished] 4750 3.5 0.5 0.0 1.06 0.0 0.0 0.0 0\n",
      "[started] 4750 4.0 0.25 0.0 0.98 0.0 0.0 0.0 0\n",
      "[finished] 4750 3.5 0.5 0.4 1.06 0.0 0.0 0.0 0\n",
      "[started] 4750 4.0 0.25 0.4 0.98 0.0 0.0 0.0 0\n",
      "[finished] 4750 4.0 -0.75 0.0 0.93 0.0 0.0 0.0 0\n",
      "[started] 4750 4.0 0.5 0.0 0.99 0.0 0.0 0.0 0\n",
      "[finished] 4750 4.0 -0.75 0.4 0.93 0.0 0.0 0.0 0\n",
      "[started] 4750 4.0 0.5 0.4 0.99 0.0 0.0 0.0 0\n",
      "[finished] 4750 4.0 -0.5 0.0 0.94 0.0 0.0 0.0 0\n",
      "[started] 4750 4.5 -1.0 0.0 0.85 0.0 0.0 0.0 0\n",
      "[finished] 4750 4.0 -0.5 0.4 0.94 0.0 0.0 0.0 0\n",
      "[started] 4750 4.5 -1.0 0.4 0.85 0.0 0.0 0.0 0\n",
      "[finished] 4750 4.0 -0.25 0.4 0.95 0.0 0.0 0.0 0\n",
      "[started] 4750 4.5 -0.75 0.0 0.86 0.0 0.0 0.0 0\n",
      "[finished] 4750 4.0 -0.25 0.0 0.95 0.0 0.0 0.0 0\n",
      "[started] 4750 4.5 -0.75 0.4 0.86 0.0 0.0 0.0 0\n",
      "[finished] 4750 4.0 0.0 0.4 0.96 0.0 0.0 0.0 0\n",
      "[started] 4750 4.5 -0.5 0.0 0.87 0.0 0.0 0.0 0\n",
      "[finished] 4750 4.0 0.0 0.0 0.96 0.0 0.0 0.0 0\n",
      "[started] 4750 4.5 -0.5 0.4 0.87 0.0 0.0 0.0 0\n",
      "[finished] 4750 4.0 0.25 0.0 0.98 0.0 0.0 0.0 0\n",
      "[started] 4750 4.5 -0.25 0.0 0.88 0.0 0.0 0.0 0\n",
      "[finished] 4750 4.0 0.25 0.4 0.98 0.0 0.0 0.0 0\n",
      "[started] 4750 4.5 -0.25 0.4 0.88 0.0 0.0 0.0 0\n",
      "[finished] 4750 4.0 0.5 0.0 0.99 0.0 0.0 0.0 0\n",
      "[started] 4750 4.5 0.0 0.0 0.89 0.0 0.0 0.0 0\n",
      "[finished] 4750 4.0 0.5 0.4 0.99 0.0 0.0 0.0 0\n",
      "[started] 4750 4.5 0.0 0.4 0.89 0.0 0.0 0.0 0\n",
      "[finished] 4750 4.5 -1.0 0.0 0.85 0.0 0.0 0.0 0\n",
      "[started] 4750 4.5 0.25 0.0 0.9 0.0 0.0 0.0 0\n",
      "[finished] 4750 4.5 -1.0 0.4 0.85 0.0 0.0 0.0 0\n",
      "[started] 4750 4.5 0.25 0.4 0.9 0.0 0.0 0.0 0\n",
      "[finished] 4750 4.5 -0.75 0.0 0.86 0.0 0.0 0.0 0\n",
      "[started] 4750 4.5 0.5 0.0 0.92 0.0 0.0 0.0 0\n",
      "[finished] 4750 4.5 -0.75 0.4 0.86 0.0 0.0 0.0 0\n",
      "[started] 4750 4.5 0.5 0.4 0.92 0.0 0.0 0.0 0\n",
      "[finished] 4750 4.5 -0.5 0.4 0.87 0.0 0.0 0.0 0\n",
      "[started] 4750 5.0 -1.0 0.0 0.78 0.0 0.0 0.0 0\n",
      "[finished] 4750 4.5 -0.25[finished]  4750 0.44.5  -0.50.88  0.00.0 0.87  0.00.0  0.00.0  00.0\n",
      " 0\n",
      "[finished][started]  47504750  5.04.5  -1.0-0.25  0.00.4  0.78 0.880.0 0.0 0.0  0.0 00.0\n",
      "[started] 0.0  4750 5.00 \n",
      "-0.75 0.0 0.79 0.0 0.0 0.0 0[started]\n",
      " 4750 5.0 -0.75 0.4 0.79 0.0 0.0 0.0 0\n",
      "[finished] 4750 4.5 0.0 0.0 0.89 0.0 0.0 0.0 0\n",
      "[started] 4750 5.0 -0.5 0.0 0.79 0.0 0.0 0.0 0\n",
      "[finished] 4750 4.5 0.25 0.0 0.9 0.0 0.0 0.0 0\n",
      "[started] 4750 5.0 -0.5 0.4 0.79 0.0 0.0 0.0 0\n",
      "[finished] 4750 4.5 0.0 0.4 0.89 0.0 0.0 0.0 0\n",
      "[started] 4750 5.0 -0.25 0.0 0.81 0.0 0.0 0.0 0\n",
      "[finished] 4750 4.5 0.25 0.4 0.9 0.0 0.0 0.0 0\n",
      "[started] 4750 5.0 -0.25 0.4 0.81 0.0 0.0 0.0 0\n",
      "[finished] 4750 4.5 0.5 0.4 0.92 0.0 0.0 0.0 0\n",
      "[started] 4750 5.0 0.0 0.0 0.82 0.0 0.0 0.0 0\n",
      "[finished] 4750 4.5 0.5 0.0 0.92 0.0 0.0 0.0 0\n",
      "[started] 4750 5.0 0.0 0.4 0.82 0.0 0.0 0.0 0\n",
      "[finished] 4750 5.0 -1.0 0.0 0.78 0.0 0.0 0.0 0\n",
      "[started] 4750 5.0 0.25 0.0 0.83 0.0 0.0 0.0 0\n",
      "[finished] 4750 5.0 -0.75 0.0 0.79 0.0 0.0 0.0 0\n",
      "[started][finished]  47504750  5.05.0  0.25-0.75  0.40.4  0.830.79  0.0 0.00.0  0.00.0  00.0\n",
      " [finished] 04750\n",
      " 5.0 -1.0 0.4 0.78 0.0 0.0 0.0 [started]0 \n",
      "4750 5.0 0.5 0.0 0.84 0.0 0.0 0.0 0\n",
      "[started] 4750 5.0 0.5 0.4 0.84 0.0 0.0 0.0 0\n",
      "[finished] 4750 5.0 -0.5 0.0 0.79 0.0 0.0 0.0 0\n",
      "[started] 5000 3.0 -1.0 0.0 1.22 0.0 0.0 0.0 0\n"
     ]
    },
    {
     "name": "stderr",
     "output_type": "stream",
     "text": [
      "[2023-01-06 19:00:41,197] [INFO] [turbospectrum:generate_spectrum:88]: Spherical model atmosphere with radius 3.65e+11 cm\n"
     ]
    },
    {
     "name": "stdout",
     "output_type": "stream",
     "text": [
      "[finished] 4750 5.0 -0.5 0.4 0.79 0.0 0.0 0.0 0\n",
      "[started] 5000 3.0 -1.0 0.4 1.22 0.0 0.0 0.0 0\n"
     ]
    },
    {
     "name": "stderr",
     "output_type": "stream",
     "text": [
      "[2023-01-06 19:00:41,835] [INFO] [turbospectrum:generate_spectrum:88]: Spherical model atmosphere with radius 3.65e+11 cm\n"
     ]
    },
    {
     "name": "stdout",
     "output_type": "stream",
     "text": [
      "[finished] 4750 5.0 -0.25 0.0 0.81 0.0 0.0 0.0 0\n",
      "[started] 5000 3.0 -0.75 0.0 1.23 0.0 0.0 0.0 0\n"
     ]
    },
    {
     "name": "stderr",
     "output_type": "stream",
     "text": [
      "[2023-01-06 19:00:42,843] [INFO] [turbospectrum:generate_spectrum:88]: Spherical model atmosphere with radius 3.65e+11 cm\n"
     ]
    },
    {
     "name": "stdout",
     "output_type": "stream",
     "text": [
      "[finished] 4750 5.0 -0.25 0.4 0.81 0.0 0.0 0.0 0\n",
      "[started] 5000 3.0 -0.75 0.4 1.23 0.0 0.0 0.0 0\n"
     ]
    },
    {
     "name": "stderr",
     "output_type": "stream",
     "text": [
      "[2023-01-06 19:00:44,464] [INFO] [turbospectrum:generate_spectrum:88]: Spherical model atmosphere with radius 3.65e+11 cm\n"
     ]
    },
    {
     "name": "stdout",
     "output_type": "stream",
     "text": [
      "[finished] 4750 5.0 0.0 0.0 0.82 0.0 0.0 0.0 0\n",
      "[started] 5000 3.0 -0.5 0.0 1.24 0.0 0.0 0.0 0\n"
     ]
    },
    {
     "name": "stderr",
     "output_type": "stream",
     "text": [
      "[2023-01-06 19:00:46,103] [INFO] [turbospectrum:generate_spectrum:88]: Spherical model atmosphere with radius 3.65e+11 cm\n"
     ]
    },
    {
     "name": "stdout",
     "output_type": "stream",
     "text": [
      "[finished] 4750 5.0 0.0 0.4 0.82 0.0 0.0 0.0 0\n",
      "[started] 5000 3.0 -0.5 0.4 1.24 0.0 0.0 0.0 0\n"
     ]
    },
    {
     "name": "stderr",
     "output_type": "stream",
     "text": [
      "[2023-01-06 19:00:46,393] [INFO] [turbospectrum:generate_spectrum:88]: Spherical model atmosphere with radius 3.65e+11 cm\n"
     ]
    },
    {
     "name": "stdout",
     "output_type": "stream",
     "text": [
      "[finished] 4750 5.0 0.25 0.0 0.83 0.0 0.0 0.0 0\n",
      "[started] 5000 3.0 -0.25 0.0 1.25 0.0 0.0 0.0 0\n"
     ]
    },
    {
     "name": "stderr",
     "output_type": "stream",
     "text": [
      "[2023-01-06 19:00:55,294] [INFO] [turbospectrum:generate_spectrum:88]: Spherical model atmosphere with radius 3.65e+11 cm\n"
     ]
    },
    {
     "name": "stdout",
     "output_type": "stream",
     "text": [
      "[finished] 4750 5.0 0.5 0.4 0.84 0.0 0.0 0.0 0\n",
      "[started] 5000 3.0 -0.25 0.4 1.25 0.0 0.0 0.0 0\n",
      "[finished] 4750 5.0 0.25 0.4 0.83 0.0 0.0 0.0 0\n"
     ]
    },
    {
     "name": "stderr",
     "output_type": "stream",
     "text": [
      "[2023-01-06 19:00:56,049] [INFO] [turbospectrum:generate_spectrum:88]: Spherical model atmosphere with radius 3.65e+11 cm\n"
     ]
    },
    {
     "name": "stdout",
     "output_type": "stream",
     "text": [
      "[started] 5000 3.0 0.0 0.0 1.26 0.0 0.0 0.0 0\n",
      "[finished] 4750 5.0 0.5 0.0 0.84 0.0 0.0 0.0 0\n",
      "[started] 5000 3.0 0.0 0.4 1.26 0.0 "
     ]
    },
    {
     "name": "stderr",
     "output_type": "stream",
     "text": [
      "[2023-01-06 19:00:56,178] [INFO] [turbospectrum:generate_spectrum:88]: Spherical model atmosphere with radius 3.65e+11 cm\n"
     ]
    },
    {
     "name": "stdout",
     "output_type": "stream",
     "text": [
      "0.0 0.0 0\n"
     ]
    },
    {
     "name": "stderr",
     "output_type": "stream",
     "text": [
      "[2023-01-06 19:00:56,277] [INFO] [turbospectrum:generate_spectrum:88]: Spherical model atmosphere with radius 3.65e+11 cm\n"
     ]
    },
    {
     "name": "stdout",
     "output_type": "stream",
     "text": [
      "[finished] 5000 3.0 -1.0 0.4 1.22 0.0 0.0 0.0 0\n",
      "[started] 5000 3.0 0.25 0.0 1.28 0.0 0.0 0.0 0\n"
     ]
    },
    {
     "name": "stderr",
     "output_type": "stream",
     "text": [
      "[2023-01-06 19:02:21,806] [INFO] [turbospectrum:generate_spectrum:88]: Spherical model atmosphere with radius 3.65e+11 cm\n"
     ]
    },
    {
     "name": "stdout",
     "output_type": "stream",
     "text": [
      "[finished] 5000 3.0 -1.0 0.0 1.22 0.0 0.0 0.0 0\n",
      "[started] 5000 3.0 0.25 0.4 1.28 0.0 0.0 0.0 0\n"
     ]
    },
    {
     "name": "stderr",
     "output_type": "stream",
     "text": [
      "[2023-01-06 19:02:22,628] [INFO] [turbospectrum:generate_spectrum:88]: Spherical model atmosphere with radius 3.65e+11 cm\n"
     ]
    },
    {
     "name": "stdout",
     "output_type": "stream",
     "text": [
      "[finished] 5000 3.0 -0.75 0.0 1.23 0.0 0.0 0.0 0\n",
      "[started] 5000 3.0 0.5 0.0 1.29 0.0 0.0 0.0 0\n"
     ]
    },
    {
     "name": "stderr",
     "output_type": "stream",
     "text": [
      "[2023-01-06 19:02:23,442] [INFO] [turbospectrum:generate_spectrum:88]: Spherical model atmosphere with radius 3.65e+11 cm\n"
     ]
    },
    {
     "name": "stdout",
     "output_type": "stream",
     "text": [
      "[finished] 5000 3.0 -0.75 0.4 1.23 0.0 0.0 0.0 0\n",
      "[started] 5000 3.0 0.5 0.4 1.29 0.0 0.0 0.0 0\n"
     ]
    },
    {
     "name": "stderr",
     "output_type": "stream",
     "text": [
      "[2023-01-06 19:02:24,343] [INFO] [turbospectrum:generate_spectrum:88]: Spherical model atmosphere with radius 3.65e+11 cm\n"
     ]
    },
    {
     "name": "stdout",
     "output_type": "stream",
     "text": [
      "[finished] 5000 3.0 -0.5 0.0 1.24 0.0 0.0 0.0 0\n",
      "[started] 5000 3.5 -1.0 0.0 0.99 0.0 0.0 0.0 0\n"
     ]
    },
    {
     "name": "stderr",
     "output_type": "stream",
     "text": [
      "[2023-01-06 19:02:25,830] [INFO] [turbospectrum:generate_spectrum:88]: Spherical model atmosphere with radius 2.05e+11 cm\n"
     ]
    },
    {
     "name": "stdout",
     "output_type": "stream",
     "text": [
      "[finished] 5000 3.0 -0.5 0.4 1.24 0.0 0.0 0.0 0\n",
      "[started] 5000 3.5 -1.0 0.4 0.99 0.0 0.0 0.0 0\n"
     ]
    },
    {
     "name": "stderr",
     "output_type": "stream",
     "text": [
      "[2023-01-06 19:02:26,516] [INFO] [turbospectrum:generate_spectrum:88]: Spherical model atmosphere with radius 2.05e+11 cm\n"
     ]
    },
    {
     "name": "stdout",
     "output_type": "stream",
     "text": [
      "[finished] 5000 3.0 -0.25 0.0 1.25 0.0 0.0 0.0 0\n",
      "[started] 5000 3.5 -0.75 0.0 1.0 0.0 0.0 0.0 0\n"
     ]
    },
    {
     "name": "stderr",
     "output_type": "stream",
     "text": [
      "[2023-01-06 19:02:35,948] [INFO] [turbospectrum:generate_spectrum:88]: Spherical model atmosphere with radius 2.05e+11 cm\n"
     ]
    },
    {
     "name": "stdout",
     "output_type": "stream",
     "text": [
      "[finished] 5000 3.0 -0.25 0.4 1.25 0.0 0.0 0.0 0\n",
      "[started] 5000 3.5 -0.75 0.4 1.0 0.0 0.0 0.0 0\n",
      "[finished] 5000 3.0 0.0 0.4 1.26 0.0 0.0 0.0 0\n",
      "[started] 5000 3.5 -0.5 0.0"
     ]
    },
    {
     "name": "stderr",
     "output_type": "stream",
     "text": [
      "[2023-01-06 19:02:36,406] [INFO] [turbospectrum:generate_spectrum:88]: Spherical model atmosphere with radius 2.05e+11 cm\n"
     ]
    },
    {
     "name": "stdout",
     "output_type": "stream",
     "text": [
      " 1.01 0.0 0.0 0.0 0\n"
     ]
    },
    {
     "name": "stderr",
     "output_type": "stream",
     "text": [
      "[2023-01-06 19:02:36,505] [INFO] [turbospectrum:generate_spectrum:88]: Spherical model atmosphere with radius 2.05e+11 cm\n"
     ]
    },
    {
     "name": "stdout",
     "output_type": "stream",
     "text": [
      "[finished] 5000 3.0 0.0 0.0 1.26 0.0 0.0 0.0 0\n",
      "[started] 5000 3.5 -0.5 0.4 1.01 0.0 0.0 0.0 0\n"
     ]
    },
    {
     "name": "stderr",
     "output_type": "stream",
     "text": [
      "[2023-01-06 19:02:36,838] [INFO] [turbospectrum:generate_spectrum:88]: Spherical model atmosphere with radius 2.05e+11 cm\n"
     ]
    },
    {
     "name": "stdout",
     "output_type": "stream",
     "text": [
      "[finished] 5000 3.0 0.25 0.0 1.28 0.0 0.0 0.0 0\n",
      "[started] 5000 3.5 -0.25 0.0 1.02 0.0 0.0 0.0 0\n"
     ]
    },
    {
     "name": "stderr",
     "output_type": "stream",
     "text": [
      "[2023-01-06 19:04:02,226] [INFO] [turbospectrum:generate_spectrum:88]: Spherical model atmosphere with radius 2.05e+11 cm\n"
     ]
    },
    {
     "name": "stdout",
     "output_type": "stream",
     "text": [
      "[finished] 5000 3.0 0.25 0.4 1.28 0.0 0.0 0.0 0\n",
      "[started] 5000 3.5 -0.25 0.4 1.02 0.0 0.0 0.0 0\n"
     ]
    },
    {
     "name": "stderr",
     "output_type": "stream",
     "text": [
      "[2023-01-06 19:04:04,043] [INFO] [turbospectrum:generate_spectrum:88]: Spherical model atmosphere with radius 2.05e+11 cm\n"
     ]
    },
    {
     "name": "stdout",
     "output_type": "stream",
     "text": [
      "[finished] 5000 3.0 0.5 0.0 1.29 0.0 0.0 0.0 0\n",
      "[started] 5000 3.5 0.0 0.0 1.03 0.0 0.0 0.0 0\n"
     ]
    },
    {
     "name": "stderr",
     "output_type": "stream",
     "text": [
      "[2023-01-06 19:04:04,389] [INFO] [turbospectrum:generate_spectrum:88]: Spherical model atmosphere with radius 2.05e+11 cm\n"
     ]
    },
    {
     "name": "stdout",
     "output_type": "stream",
     "text": [
      "[finished] 5000 3.0 0.5 0.4 1.29 0.0 0.0 0.0 0\n",
      "[started] 5000 3.5 0.0 0.4 1.03 0.0 0.0 0.0 0\n"
     ]
    },
    {
     "name": "stderr",
     "output_type": "stream",
     "text": [
      "[2023-01-06 19:04:04,547] [INFO] [turbospectrum:generate_spectrum:88]: Spherical model atmosphere with radius 2.05e+11 cm\n"
     ]
    },
    {
     "name": "stdout",
     "output_type": "stream",
     "text": [
      "[finished] 5000 3.5 -1.0 0.0 0.99 0.0 0.0 0.0 0\n",
      "[started] 5000 3.5 0.25 0.0 1.04 0.0 0.0 0.0 0\n"
     ]
    },
    {
     "name": "stderr",
     "output_type": "stream",
     "text": [
      "[2023-01-06 19:04:05,938] [INFO] [turbospectrum:generate_spectrum:88]: Spherical model atmosphere with radius 2.05e+11 cm\n"
     ]
    },
    {
     "name": "stdout",
     "output_type": "stream",
     "text": [
      "[finished] 5000 3.5 -1.0 0.4 0.99 0.0 0.0 0.0 0\n",
      "[started] 5000 3.5 0.25 0.4 1.04 0.0 0.0 0.0 0\n"
     ]
    },
    {
     "name": "stderr",
     "output_type": "stream",
     "text": [
      "[2023-01-06 19:04:07,264] [INFO] [turbospectrum:generate_spectrum:88]: Spherical model atmosphere with radius 2.05e+11 cm\n"
     ]
    },
    {
     "name": "stdout",
     "output_type": "stream",
     "text": [
      "[finished] 5000 3.5 -0.5 0.4 1.01 0.0 0.0 0.0 0\n",
      "[started] 5000 3.5 0.5 0.0 1.06 0.0 0.0 0.0 0\n"
     ]
    },
    {
     "name": "stderr",
     "output_type": "stream",
     "text": [
      "[2023-01-06 19:04:16,815] [INFO] [turbospectrum:generate_spectrum:88]: Spherical model atmosphere with radius 2.05e+11 cm\n"
     ]
    },
    {
     "name": "stdout",
     "output_type": "stream",
     "text": [
      "[finished] 5000 3.5 -0.75 0.0 1.0 0.0 0.0 0.0 0\n",
      "[started] 5000 3.5 0.5 0.4 1.06 0.0 0.0 0.0 0\n",
      "[finished] 5000 3.5 -0.75 0.4 1.0 0.0 0.0 0.0 0\n",
      "[started] 5000 4.0 -1.0 0.0 0.92 0.0 0.0 0.0 0\n"
     ]
    },
    {
     "name": "stderr",
     "output_type": "stream",
     "text": [
      "[2023-01-06 19:04:17,040] [INFO] [turbospectrum:generate_spectrum:88]: Spherical model atmosphere with radius 2.05e+11 cm\n"
     ]
    },
    {
     "name": "stdout",
     "output_type": "stream",
     "text": [
      "[finished] 5000 3.5 -0.5 0.0 1.01 0.0 0.0 0.0 0\n",
      "[started] 5000 4.0 -1.0 0.4 0.92 0.0 0.0 0.0 0\n",
      "[finished] 5000 4.0 -1.0 0.0 0.92 0.0 0.0 0.0 0\n",
      "[started] 5000 4.0 -0.75 0.0 0.93 0.0 0.0 0.0 0\n",
      "[finished] 5000 4.0 -1.0 0.4 0.92 0.0 0.0 0.0 0\n",
      "[started] 5000 4.0 -0.75 0.4 0.93 0.0 0.0 0.0 0\n",
      "[finished] 5000 3.5 -0.25 0.0 1.02 0.0 0.0 0.0 0\n",
      "[started] 5000 4.0 -0.5 0.0 0.94 0.0 0.0 0.0 0\n",
      "[finished] 5000 3.5 -0.25 0.4 1.02 0.0 0.0 0.0 0\n",
      "[started] 5000 4.0 -0.5 0.4 0.94 0.0 0.0 0.0 0\n",
      "[finished] 5000 3.5 0.0 0.0 1.03 0.0 0.0 0.0 0\n",
      "[started] 5000 4.0 -0.25 0.0 0.95 0.0 0.0 0.0 0\n",
      "[finished] 5000 3.5 0.0 0.4 1.03 0.0 0.0 0.0 0\n",
      "[started] 5000 4.0 -0.25 0.4 0.95 0.0 0.0 0.0 0\n",
      "[finished] 5000 3.5 0.25 0.0 1.04 0.0 0.0 0.0 0\n",
      "[started] 5000 4.0 0.0 0.0 0.96 0.0 0.0 0.0 0\n",
      "[finished] 5000 3.5 0.25 0.4 1.04 0.0 0.0 0.0 0\n",
      "[started] 5000 4.0 0.0 0.4 0.96 0.0 0.0 0.0 0\n",
      "[finished] 5000 3.5 0.5 0.4 1.06 0.0 0.0 0.0 0\n",
      "[started] 5000 4.0 0.25 0.0 0.98 0.0 0.0 0.0 0\n",
      "[finished] 5000 3.5 0.5 0.0 1.06 0.0 0.0 0.0 0\n",
      "[started] 5000 4.0 0.25 0.4 0.98 0.0 0.0 0.0 0\n",
      "[finished] 5000 4.0 -0.75 0.0 0.93 0.0 0.0 0.0 0\n",
      "[started] 5000 4.0 0.5 0.0 0.99 0.0 0.0 0.0 0\n",
      "[finished] 5000 4.0 -0.75 0.4 0.93 0.0 0.0 0.0 0\n",
      "[started] 5000 4.0 0.5 0.4 0.99 0.0 0.0 0.0 0\n",
      "[finished] 5000 4.0 -0.5 0.4 0.94 0.0 0.0 0.0 0\n",
      "[started] 5000 4.5 -1.0 0.0 0.85 0.0 0.0 0.0 0\n",
      "[finished] 5000 4.0 -0.5 0.0 0.94 0.0 0.0 0.0 0\n",
      "[started] 5000 4.5 -1.0 0.4 0.85 0.0 0.0 0.0 0\n",
      "[finished] 5000 4.0 -0.25 0.0 0.95 0.0 0.0 0.0 0\n",
      "[started] 5000 4.5 -0.75 0.0 0.86 0.0 0.0 0.0 0\n",
      "[finished] 5000 4.0 -0.25 0.4 0.95 0.0 0.0 0.0 0\n",
      "[started] 5000 4.5 -0.75 0.4 0.86 0.0 0.0 0.0 0\n",
      "[finished] 5000 4.0 0.0 0.0 0.96 0.0 0.0 0.0 0\n",
      "[started] 5000 4.5 -0.5 0.0 0.87 0.0 0.0 0.0 0\n",
      "[finished] 5000 4.0 0.0 0.4 0.96 0.0 0.0 0.0 0\n",
      "[started] 5000 4.5 -0.5 0.4 0.87 0.0 0.0 0.0 0\n",
      "[finished] 5000 4.0 0.25 0.4 0.98 0.0 0.0 0.0 0\n",
      "[started] 5000 4.5 -0.25 0.0 0.88 0.0 0.0 0.0 0\n",
      "[finished] 5000 4.0 0.25 0.0 0.98 0.0 0.0 0.0 0\n",
      "[started] 5000 4.5 -0.25 0.4 0.88 0.0 0.0 0.0 0\n",
      "[finished] 5000 4.0 0.5 0.4 0.99 0.0 0.0 0.0 0\n",
      "[finished] 5000[started]  4.05000  0.54.5  0.00.0  0.00.99  0.00.89  0.00.0 0.0  0.0 0.0 0\n",
      "0\n",
      "[started] 5000 4.5 0.0 0.4 0.89 0.0 0.0 0.0 0\n",
      "[finished] 5000 4.5 -1.0 0.0 0.85 0.0 0.0 0.0 0\n",
      "[started] 5000 4.5 0.25 0.0 0.9 0.0 0.0 0.0 0\n",
      "[finished] 5000 4.5 -1.0 0.4 0.85 0.0 0.0 0.0 0\n",
      "[started] 5000 4.5 0.25 0.4 0.9 0.0 0.0 0.0 0\n",
      "[finished] 5000 4.5 -0.75 0.0 0.86 0.0 0.0 0.0 0\n",
      "[started] 5000 4.5 0.5 0.0 0.92 0.0 0.0 0.0 0\n",
      "[finished] 5000 4.5 -0.75 0.4 0.86 0.0 0.0 0.0 0\n",
      "[started] 5000 4.5 0.5 0.4 0.92 0.0 0.0 0.0 0\n",
      "[finished] 5000 4.5 -0.5 0.4 0.87 0.0 0.0 0.0 0\n",
      "[started] 5000 5.0 -1.0 0.0 0.78 0.0 0.0 0.0 0\n",
      "[finished] 5000 4.5 -0.5 0.0 0.87 0.0 0.0 0.0 0\n",
      "[started] 5000 5.0 -1.0 0.4 0.78 0.0 0.0 0.0 0\n",
      "[finished] 5000 4.5 -0.25 0.0 0.88 0.0 0.0 0.0 0\n",
      "[started] 5000 5.0 -0.75 0.0 0.79 0.0 0.0 0.0 0\n",
      "[finished] 5000 4.5 -0.25 0.4 0.88 0.0 0.0 0.0 0\n",
      "[started] 5000 5.0 -0.75 0.4 0.79 0.0 0.0 0.0 0\n",
      "[finished] 5000 4.5 0.0 0.0 0.89 0.0 0.0 0.0 0\n",
      "[started] 5000 5.0 -0.5 0.0 0.79 0.0 0.0 0.0 0\n",
      "[finished] 5000 4.5 0.0 0.4 0.89 0.0 0.0 0.0 0\n",
      "[started] 5000 5.0 -0.5 0.4 0.79 0.0 0.0 0.0 0\n",
      "[finished] 5000 4.5 0.25 0.0 0.9 0.0 0.0 0.0 0\n",
      "[started] 5000 5.0 -0.25 0.0 0.81 0.0 0.0 0.0 0\n",
      "[finished] 5000 4.5 0.25 0.4 0.9 0.0 0.0 0.0 0\n",
      "[started] 5000 5.0 -0.25 0.4 0.81 0.0 0.0 0.0 0\n",
      "[finished] 5000 4.5 0.5 0.4 0.92 0.0 0.0 0.0 0\n",
      "[started] 5000 5.0 0.0 0.0 0.82 0.0 0.0 0.0 0\n",
      "[finished] 5000 4.5 0.5 0.0 0.92 0.0 0.0 0.0 0\n",
      "[started] 5000 5.0 0.0 0.4 0.82 0.0 0.0 0.0 0\n",
      "[finished] 5000 5.0 -1.0 0.0 0.78 0.0 0.0 0.0 0\n",
      "[started] 5000 5.0 0.25 0.0 0.83 0.0 0.0 0.0 0\n",
      "[finished] 5000 5.0 -1.0 0.4 0.78 0.0 0.0 0.0 0\n",
      "[started] 5000 5.0 0.25 0.4 0.83 0.0 0.0 0.0 0\n",
      "[finished] 5000 5.0 -0.75 0.0 0.79 0.0 0.0 0.0 0\n",
      "[started] 5000 5.0 0.5 0.0 0.84 0.0 0.0 0.0 0\n",
      "[finished] 5000 5.0 -0.75 0.4 0.79 0.0 0.0 0.0 0\n",
      "[started] 5000 5.0 0.5 0.4 0.84 0.0 0.0 0.0 0\n",
      "[finished] 5000 5.0 -0.5 0.0 0.79 0.0 0.0 0.0 0\n",
      "[started] 5250 3.0 -1.0 0.0 1.26 0.0 0.0 0.0 0\n"
     ]
    },
    {
     "name": "stderr",
     "output_type": "stream",
     "text": [
      "[2023-01-06 19:11:14,717] [INFO] [turbospectrum:generate_spectrum:88]: Spherical model atmosphere with radius 3.65e+11 cm\n"
     ]
    },
    {
     "name": "stdout",
     "output_type": "stream",
     "text": [
      "[finished] 5000 5.0 -0.5 0.4 0.79 0.0 0.0 0.0 0\n",
      "[started] 5250 3.0 -1.0 0.4 1.26 0.0 0.0 0.0 0\n"
     ]
    },
    {
     "name": "stderr",
     "output_type": "stream",
     "text": [
      "[2023-01-06 19:11:15,004] [INFO] [turbospectrum:generate_spectrum:88]: Spherical model atmosphere with radius 3.65e+11 cm\n"
     ]
    },
    {
     "name": "stdout",
     "output_type": "stream",
     "text": [
      "[finished] 5000 5.0 -0.25 0.0 0.81 0.0 0.0 0.0 0\n",
      "[started] 5250 3.0 -0.75 0.0 1.27 0.0 0.0 0.0 0\n"
     ]
    },
    {
     "name": "stderr",
     "output_type": "stream",
     "text": [
      "[2023-01-06 19:11:16,966] [INFO] [turbospectrum:generate_spectrum:88]: Spherical model atmosphere with radius 3.65e+11 cm\n"
     ]
    },
    {
     "name": "stdout",
     "output_type": "stream",
     "text": [
      "[finished] 5000 5.0 -0.25 0.4 0.81 0.0 0.0 0.0 0\n",
      "[started] 5250 3.0 -0.75 0.4 1.27 0.0 0.0 0.0 0\n"
     ]
    },
    {
     "name": "stderr",
     "output_type": "stream",
     "text": [
      "[2023-01-06 19:11:17,839] [INFO] [turbospectrum:generate_spectrum:88]: Spherical model atmosphere with radius 3.65e+11 cm\n"
     ]
    },
    {
     "name": "stdout",
     "output_type": "stream",
     "text": [
      "[finished] 5000 5.0 0.0 0.0 0.82 0.0 0.0 0.0 0\n",
      "[started] 5250 3.0 -0.5 0.0 1.28 0.0 0.0 0.0 0\n"
     ]
    },
    {
     "name": "stderr",
     "output_type": "stream",
     "text": [
      "[2023-01-06 19:11:19,154] [INFO] [turbospectrum:generate_spectrum:88]: Spherical model atmosphere with radius 3.65e+11 cm\n"
     ]
    },
    {
     "name": "stdout",
     "output_type": "stream",
     "text": [
      "[finished] 5000 5.0 0.0 0.4 0.82 0.0 0.0 0.0 0\n",
      "[started] 5250 3.0 -0.5 0.4 1.28 0.0 0.0 0.0 0\n"
     ]
    },
    {
     "name": "stderr",
     "output_type": "stream",
     "text": [
      "[2023-01-06 19:11:19,312] [INFO] [turbospectrum:generate_spectrum:88]: Spherical model atmosphere with radius 3.65e+11 cm\n"
     ]
    },
    {
     "name": "stdout",
     "output_type": "stream",
     "text": [
      "[finished] 5000 5.0 0.25 0.4 0.83 0.0 0.0 0.0 0\n",
      "[started] 5250 3.0 -0.25 0.0 1.29 0.0 0.0 0.0 0\n"
     ]
    },
    {
     "name": "stderr",
     "output_type": "stream",
     "text": [
      "[2023-01-06 19:11:20,473] [INFO] [turbospectrum:generate_spectrum:88]: Spherical model atmosphere with radius 3.65e+11 cm\n"
     ]
    },
    {
     "name": "stdout",
     "output_type": "stream",
     "text": [
      "[finished] 5000 5.0 0.25 0.0 0.83 0.0 0.0 0.0 0\n",
      "[started] 5250 3.0 -0.25 0.4 1.29 0.0 0.0 0.0 0\n"
     ]
    },
    {
     "name": "stderr",
     "output_type": "stream",
     "text": [
      "[2023-01-06 19:11:20,998] [INFO] [turbospectrum:generate_spectrum:88]: Spherical model atmosphere with radius 3.65e+11 cm\n"
     ]
    },
    {
     "name": "stdout",
     "output_type": "stream",
     "text": [
      "[finished] 5000 5.0 0.5 0.0 0.84 0.0 0.0 0.0 0\n",
      "[started] 5250 3.0 0.0 0.0 1.3 0.0 0.0 0.0 0\n"
     ]
    },
    {
     "name": "stderr",
     "output_type": "stream",
     "text": [
      "[2023-01-06 19:11:34,093] [INFO] [turbospectrum:generate_spectrum:88]: Spherical model atmosphere with radius 3.65e+11 cm\n"
     ]
    },
    {
     "name": "stdout",
     "output_type": "stream",
     "text": [
      "[finished] 5000 5.0 0.5 0.4 0.84 0.0 0.0 0.0 0\n",
      "[started] 5250 3.0 0.0 0.4 1.3 0.0 0.0 0.0 0\n"
     ]
    },
    {
     "name": "stderr",
     "output_type": "stream",
     "text": [
      "[2023-01-06 19:11:35,154] [INFO] [turbospectrum:generate_spectrum:88]: Spherical model atmosphere with radius 3.65e+11 cm\n"
     ]
    },
    {
     "name": "stdout",
     "output_type": "stream",
     "text": [
      "[finished] 5250 3.0 -1.0 0.0 1.26 0.0 0.0 0.0 0\n",
      "[started] 5250 3.0 0.25 0.0 1.32 0.0 0.0 0.0 0\n"
     ]
    },
    {
     "name": "stderr",
     "output_type": "stream",
     "text": [
      "[2023-01-06 19:12:54,507] [INFO] [turbospectrum:generate_spectrum:88]: Spherical model atmosphere with radius 3.65e+11 cm\n"
     ]
    },
    {
     "name": "stdout",
     "output_type": "stream",
     "text": [
      "[finished] 5250 3.0 -1.0 0.4 1.26 0.0 0.0 0.0 0\n",
      "[started] 5250 3.0 0.25 0.4 1.32 0.0 0.0 0.0 0\n"
     ]
    },
    {
     "name": "stderr",
     "output_type": "stream",
     "text": [
      "[2023-01-06 19:12:55,032] [INFO] [turbospectrum:generate_spectrum:88]: Spherical model atmosphere with radius 3.65e+11 cm\n"
     ]
    },
    {
     "name": "stdout",
     "output_type": "stream",
     "text": [
      "[finished] 5250 3.0 -0.75 0.0 1.27 0.0 0.0 0.0 0\n",
      "[started] 5250 3.0 0.5 0.0 1.33 0.0 0.0 0.0 0\n"
     ]
    },
    {
     "name": "stderr",
     "output_type": "stream",
     "text": [
      "[2023-01-06 19:12:56,269] [INFO] [turbospectrum:generate_spectrum:88]: Spherical model atmosphere with radius 3.65e+11 cm\n"
     ]
    },
    {
     "name": "stdout",
     "output_type": "stream",
     "text": [
      "[finished] 5250 3.0 -0.75 0.4 1.27 0.0 0.0 0.0 0\n",
      "[started] 5250 3.0 0.5 0.4 1.33 0.0 0.0 0.0 0\n"
     ]
    },
    {
     "name": "stderr",
     "output_type": "stream",
     "text": [
      "[2023-01-06 19:12:58,318] [INFO] [turbospectrum:generate_spectrum:88]: Spherical model atmosphere with radius 3.65e+11 cm\n"
     ]
    },
    {
     "name": "stdout",
     "output_type": "stream",
     "text": [
      "[finished] 5250 3.0 -0.5 0.4 1.28 0.0 0.0 0.0 0\n",
      "[started] 5250 3.5 -1.0 0.0 1.03 0.0 0.0 0.0 0\n"
     ]
    },
    {
     "name": "stderr",
     "output_type": "stream",
     "text": [
      "[2023-01-06 19:12:59,805] [INFO] [turbospectrum:generate_spectrum:88]: Spherical model atmosphere with radius 2.05e+11 cm\n"
     ]
    },
    {
     "name": "stdout",
     "output_type": "stream",
     "text": [
      "[finished] 5250 3.0 -0.5 0.0 1.28 0.0 0.0 0.0 0\n",
      "[started] 5250 3.5 -1.0 0.4 1.03 0.0 0.0 0.0 0\n"
     ]
    },
    {
     "name": "stderr",
     "output_type": "stream",
     "text": [
      "[2023-01-06 19:13:00,050] [INFO] [turbospectrum:generate_spectrum:88]: Spherical model atmosphere with radius 2.05e+11 cm\n"
     ]
    },
    {
     "name": "stdout",
     "output_type": "stream",
     "text": [
      "[finished] 5250 3.0 -0.25 0.0 1.29 0.0 0.0 0.0 0\n",
      "[started] 5250 3.5 -0.75 0.0 1.03 0.0 0.0 0.0 0\n"
     ]
    },
    {
     "name": "stderr",
     "output_type": "stream",
     "text": [
      "[2023-01-06 19:13:00,941] [INFO] [turbospectrum:generate_spectrum:88]: Spherical model atmosphere with radius 2.05e+11 cm\n"
     ]
    },
    {
     "name": "stdout",
     "output_type": "stream",
     "text": [
      "[finished] 5250 3.0 -0.25 0.4 1.29 0.0 0.0 0.0 0\n",
      "[started] 5250 3.5 -0.75 0.4 1.03 0.0 0.0 0.0 0\n"
     ]
    },
    {
     "name": "stderr",
     "output_type": "stream",
     "text": [
      "[2023-01-06 19:13:01,596] [INFO] [turbospectrum:generate_spectrum:88]: Spherical model atmosphere with radius 2.05e+11 cm\n"
     ]
    },
    {
     "name": "stdout",
     "output_type": "stream",
     "text": [
      "[finished] 5250 3.0 0.0 0.0 1.3 0.0 0.0 0.0 0\n",
      "[started] 5250 3.5 -0.5 0.0 1.04 0.0 0.0 0.0 0\n"
     ]
    },
    {
     "name": "stderr",
     "output_type": "stream",
     "text": [
      "[2023-01-06 19:13:14,296] [INFO] [turbospectrum:generate_spectrum:88]: Spherical model atmosphere with radius 2.05e+11 cm\n"
     ]
    },
    {
     "name": "stdout",
     "output_type": "stream",
     "text": [
      "[finished] 5250 3.0 0.0 0.4 1.3 0.0 0.0 0.0 0\n",
      "[started] 5250 3.5 -0.5 0.4 1.04 0.0 0.0 0.0 0\n"
     ]
    },
    {
     "name": "stderr",
     "output_type": "stream",
     "text": [
      "[2023-01-06 19:13:16,847] [INFO] [turbospectrum:generate_spectrum:88]: Spherical model atmosphere with radius 2.05e+11 cm\n"
     ]
    },
    {
     "name": "stdout",
     "output_type": "stream",
     "text": [
      "[finished] 5250 3.0 0.25 0.4 1.32 0.0 0.0 0.0 0\n",
      "[started] 5250 3.5 -0.25 0.0 1.05 0.0 0.0 0.0 0\n",
      "[finished] 5250 3.0 0.25 0.0 1.32 0.0 0.0 0.0 0\n",
      "[started] 5250 3.5 -0.25 0.4 1.05 0.0 0.0 0.0"
     ]
    },
    {
     "name": "stderr",
     "output_type": "stream",
     "text": [
      "[2023-01-06 19:14:35,462] [INFO] [turbospectrum:generate_spectrum:88]: Spherical model atmosphere with radius 2.05e+11 cm\n"
     ]
    },
    {
     "name": "stdout",
     "output_type": "stream",
     "text": [
      " 0\n"
     ]
    },
    {
     "name": "stderr",
     "output_type": "stream",
     "text": [
      "[2023-01-06 19:14:35,558] [INFO] [turbospectrum:generate_spectrum:88]: Spherical model atmosphere with radius 2.05e+11 cm\n"
     ]
    },
    {
     "name": "stdout",
     "output_type": "stream",
     "text": [
      "[finished] 5250 3.0 0.5 0.0 1.33 0.0 0.0 0.0 0\n",
      "[started] 5250 3.5 0.0 0.0 1.07 0.0 0.0 0.0 0\n"
     ]
    },
    {
     "name": "stderr",
     "output_type": "stream",
     "text": [
      "[2023-01-06 19:14:38,709] [INFO] [turbospectrum:generate_spectrum:88]: Spherical model atmosphere with radius 2.05e+11 cm\n"
     ]
    },
    {
     "name": "stdout",
     "output_type": "stream",
     "text": [
      "[finished] 5250 3.0 0.5 0.4 1.33 0.0 0.0 0.0 0\n",
      "[started] 5250 3.5 0.0 0.4 1.07 0.0 0.0 0.0 0\n"
     ]
    },
    {
     "name": "stderr",
     "output_type": "stream",
     "text": [
      "[2023-01-06 19:14:39,224] [INFO] [turbospectrum:generate_spectrum:88]: Spherical model atmosphere with radius 2.05e+11 cm\n"
     ]
    },
    {
     "name": "stdout",
     "output_type": "stream",
     "text": [
      "[finished] 5250 3.5 -1.0 0.4 1.03 0.0 0.0 0.0 0\n",
      "[started] 5250 3.5 0.25 0.0 1.08 0.0 0.0 0.0 0\n"
     ]
    },
    {
     "name": "stderr",
     "output_type": "stream",
     "text": [
      "[2023-01-06 19:14:40,377] [INFO] [turbospectrum:generate_spectrum:88]: Spherical model atmosphere with radius 2.05e+11 cm\n"
     ]
    },
    {
     "name": "stdout",
     "output_type": "stream",
     "text": [
      "[finished] 5250 3.5 -1.0 0.0 1.03 0.0 0.0 0.0 0\n",
      "[started] 5250 3.5 0.25 0.4 1.08 0.0 0.0 0.0 0\n"
     ]
    },
    {
     "name": "stderr",
     "output_type": "stream",
     "text": [
      "[2023-01-06 19:14:40,640] [INFO] [turbospectrum:generate_spectrum:88]: Spherical model atmosphere with radius 2.05e+11 cm\n"
     ]
    },
    {
     "name": "stdout",
     "output_type": "stream",
     "text": [
      "[finished] 5250 3.5 -0.75 0.0 1.03 0.0 0.0 0.0 0\n",
      "[started] 5250 3.5 0.5 0.0 1.09 0.0 0.0 0.0 0\n"
     ]
    },
    {
     "name": "stderr",
     "output_type": "stream",
     "text": [
      "[2023-01-06 19:14:41,750] [INFO] [turbospectrum:generate_spectrum:88]: Spherical model atmosphere with radius 2.05e+11 cm\n"
     ]
    },
    {
     "name": "stdout",
     "output_type": "stream",
     "text": [
      "[finished] 5250 3.5 -0.75 0.4 1.03 0.0 0.0 0.0 0\n",
      "[started] 5250 3.5 0.5 0.4 1.09 0.0 0.0 0.0 0\n"
     ]
    },
    {
     "name": "stderr",
     "output_type": "stream",
     "text": [
      "[2023-01-06 19:14:42,117] [INFO] [turbospectrum:generate_spectrum:88]: Spherical model atmosphere with radius 2.05e+11 cm\n"
     ]
    },
    {
     "name": "stdout",
     "output_type": "stream",
     "text": [
      "[finished] 5250 3.5 -0.5 0.0 1.04 0.0 0.0 0.0 0\n",
      "[started] 5250 4.0 -1.0 0.0 0.96 0.0 0.0 0.0 0\n",
      "[finished] 5250 3.5 -0.5 0.4 1.04 0.0 0.0 0.0 0\n",
      "[started] 5250 4.0 -1.0 0.4 0.96 0.0 0.0 0.0 0\n",
      "[finished] 5250 3.5 -0.25 0.0 1.05 0.0 0.0 0.0 0\n",
      "[started] 5250 4.0 -0.75 0.0 0.96 0.0 0.0 0.0 0\n",
      "[finished] 5250 3.5 -0.25 0.4 1.05 0.0 0.0 0.0 0\n",
      "[started] 5250 4.0 -0.75 0.4 0.96 0.0 0.0 0.0 0\n",
      "[finished] 5250 4.0 -1.0 0.0 0.96 0.0 0.0 0.0 0\n",
      "[started] 5250 4.0 -0.5 0.0 0.97 0.0 0.0 0.0 0\n",
      "[finished] 5250 3.5 0.0 0.0 1.07 0.0 0.0 0.0 0\n",
      "[started] 5250 4.0 -0.5 0.4 0.97 0.0 0.0 0.0 0\n",
      "[finished] 5250 4.0 -1.0 0.4 0.96 0.0 0.0 0.0 0\n",
      "[started] 5250 4.0 -0.25 0.0 0.98 0.0 0.0 0.0 0\n",
      "[finished] 5250 3.5 0.25 0.0 1.08 0.0 0.0 0.0 0\n",
      "[started] 5250 4.0 -0.25 0.4 0.98 0.0 0.0 0.0 0\n",
      "[finished] 5250 3.5 0.0 0.4 1.07 0.0 0.0 0.0 0\n",
      "[started] 5250 4.0 0.0 0.0 1.0 0.0 0.0 0.0 0\n",
      "[finished] 5250 3.5 0.25 0.4 1.08 0.0 0.0 0.0 0\n",
      "[started] 5250 4.0 0.0 0.4 1.0 0.0 0.0 0.0 0\n",
      "[finished] 5250 3.5 0.5 0.0 1.09 0.0 0.0 0.0 0\n",
      "[started] 5250 4.0 0.25 0.0 1.01 0.0 0.0 0.0 0\n",
      "[finished] 5250 3.5 0.5 0.4 1.09 0.0 0.0 0.0 0\n",
      "[started] 5250 4.0 0.25 0.4 1.01 0.0 0.0 0.0 0\n",
      "[finished] 5250 4.0 -0.75 0.0 0.96 0.0 0.0 0.0 0\n",
      "[started] 5250 4.0 0.5 0.0 1.02 0.0 0.0 0.0 0\n",
      "[finished] 5250 4.0 -0.75 0.4 0.96 0.0 0.0 0.0 0\n",
      "[started] 5250 4.0 0.5 0.4 1.02 0.0 0.0 0.0 0\n",
      "[finished] 5250 4.0 -0.5 0.0 0.97 0.0 0.0 0.0 0\n",
      "[started] 5250 4.5 -1.0 0.0 0.89 0.0 0.0 0.0 0\n",
      "[finished] 5250 4.0 -0.25 0.0 0.98 0.0 0.0 0.0 0\n",
      "[started] 5250 4.5 -1.0 0.4 0.89 0.0 0.0 0.0 0\n",
      "[finished] 5250 4.0 -0.5 0.4 0.97 0.0 0.0 0.0 0\n",
      "[started] 5250 4.5 -0.75 0.0 0.89 0.0 0.0 0.0 0\n",
      "[finished] 5250 4.0 -0.25 0.4 0.98 0.0 0.0 0.0 0\n",
      "[started] 5250 4.5 -0.75 0.4 0.89 0.0 0.0 0.0 0\n",
      "[finished] 5250 4.0 0.0 0.0 1.0 0.0 0.0 0.0 0\n",
      "[started] 5250 4.5 -0.5 0.0 0.9 0.0 0.0 0.0 0\n",
      "[finished] 5250 4.0 0.0 0.4 1.0 0.0 0.0 0.0 0\n",
      "[started] 5250 4.5 -0.5 0.4 0.9 0.0 0.0 0.0 0\n",
      "[finished] 5250 4.0 0.25 0.0 1.01 0.0 0.0 0.0 0\n",
      "[started] 5250 4.5 -0.25 0.0 0.91 0.0 0.0 0.0 0\n",
      "[finished] 5250 4.0 0.25 0.4 1.01 0.0 0.0 0.0 0\n",
      "[started] 5250 4.5 -0.25 0.4 0.91 0.0 0.0 0.0 0\n",
      "[finished] 5250 4.5 -1.0 0.0 0.89 0.0 0.0 0.0 0\n",
      "[started] 5250 4.5 0.0 0.0 0.93 0.0 0.0 0.0 0\n",
      "[finished] 5250 4.0 0.5 0.4 1.02 0.0 0.0 0.0 0\n",
      "[started] 5250 4.5 0.0 0.4 0.93 0.0 0.0 0.0 0\n",
      "[finished] 5250 4.0 0.5 0.0 1.02 0.0 0.0 0.0 0\n",
      "[started] 5250 4.5 0.25 0.0 0.94 0.0 0.0 0.0 0\n",
      "[finished] 5250 4.5 -0.75 0.0 0.89 0.0 0.0 0.0 0\n",
      "[finished] 5250 4.5 -0.75 [started]0.4  0.895250  4.50.0  0.00.25 0.0  0.40 \n",
      "0.94 0.0 0.0 0.0 0\n",
      "[started] 5250 4.5 0.5 0.0 0.95 0.0 0.0 0.0 0\n",
      "[finished] 5250 4.5 -1.0 0.4 0.89 0.0 0.0 0.0 0\n",
      "[started] 5250 4.5 0.5 0.4 0.95 0.0 0.0 0.0 0\n",
      "[finished] 5250 4.5 -0.5 0.0 0.9 0.0 0.0 0.0 0\n",
      "[started] 5250 5.0 -1.0 0.0 0.81 0.0 0.0 0.0 0\n",
      "[finished] 5250 4.5 -0.25 0.0 0.91 0.0 0.0 0.0 0\n",
      "[started] 5250 5.0 -1.0 0.4 0.81 0.0 0.0 0.0 0\n",
      "[finished] 5250 4.5 -0.5 0.4 0.9 0.0 0.0 0.0 0\n",
      "[started] 5250 5.0 -0.75 0.0 0.82 0.0 0.0 0.0 0\n",
      "[finished] 5250 4.5 -0.25 0.4 0.91 0.0 0.0 0.0 0\n",
      "[started] 5250 5.0 -0.75 0.4 0.82 0.0 0.0 0.0 0\n",
      "[finished] 5250 4.5 0.0 0.0 0.93 0.0 0.0 0.0 0\n",
      "[started] 5250 5.0 -0.5 0.0 0.83 0.0 0.0 0.0 0\n",
      "[finished] 5250 4.5 0.0 0.4 0.93 0.0 0.0 0.0 0\n",
      "[started] 5250 5.0 -0.5 0.4 0.83 0.0 0.0 0.0 0\n",
      "[finished] 5250 4.5 0.25 0.0 0.94 0.0 0.0 0.0 0\n",
      "[started] 5250 5.0 -0.25 0.0 0.84 0.0 0.0 0.0 0\n",
      "[finished] 5250 4.5 0.5 0.4 0.95 0.0 0.0 0.0 0\n",
      "[started] 5250 5.0 -0.25 0.4 0.84 0.0 0.0 0.0 0\n",
      "[finished] 5250 5.0 -1.0 0.0 0.81 0.0 0.0 0.0 0\n",
      "[started] 5250 5.0 0.0 0.0 0.85 0.0 0.0 0.0 0\n",
      "[finished] 5250 4.5 0.5 0.0 0.95 0.0 0.0 0.0 0\n",
      "[started] 5250 5.0 0.0 0.4 0.85 0.0 0.0 0.0 0\n",
      "[finished] 5250 4.5 0.25 0.4 0.94 0.0 0.0 0.0 0\n",
      "[started] 5250 5.0 0.25 0.0 0.86 0.0 0.0 0.0 0\n",
      "[finished] 5250 5.0 -0.75 0.0 0.82 0.0 0.0 0.0 0\n",
      "[started] 5250 5.0 0.25 0.4 0.86 0.0 0.0 0.0 0\n",
      "[finished] 5250 5.0 -1.0 0.4 0.81 0.0 0.0 0.0 0\n",
      "[started] 5250 5.0 0.5 0.0 0.88 0.0 0.0 0.0 0\n",
      "[finished] 5250 5.0 -0.75 0.4 0.82 0.0 0.0 0.0 0\n",
      "[started] 5250 5.0 0.5 0.4 0.88 0.0 0.0 0.0 0\n",
      "[finished] 5250 5.0 -0.5 0.4 0.83 0.0 0.0 0.0 0\n",
      "[started] 5500 3.0 -1.0 0.0 1.35 0.0 0.0 0.0 0\n",
      "[finished] 5250 5.0 -0.5 0.0 0.83 0.0 0.0 0.0 0\n",
      "[finished] 5250 5.0 -0.25 0.0 0.84 0.0 0.0 0.0 0[started]\n",
      " 5500 3.0 -1.0 0.4 "
     ]
    },
    {
     "name": "stderr",
     "output_type": "stream",
     "text": [
      "[2023-01-06 19:21:50,434] [INFO] [turbospectrum:generate_spectrum:88]: Spherical model atmosphere with radius 3.65e+11 cm\n"
     ]
    },
    {
     "name": "stdout",
     "output_type": "stream",
     "text": [
      "1.35 0.0 0.0 0.0 0[started] \n",
      "5500 3.0 -0.75 0.0 1.35 0.0 0.0 0.0 0\n"
     ]
    },
    {
     "name": "stderr",
     "output_type": "stream",
     "text": [
      "[2023-01-06 19:21:50,521] [INFO] [turbospectrum:generate_spectrum:88]: Spherical model atmosphere with radius 3.65e+11 cm\n",
      "[2023-01-06 19:21:50,559] [INFO] [turbospectrum:generate_spectrum:88]: Spherical model atmosphere with radius 3.65e+11 cm\n"
     ]
    },
    {
     "name": "stdout",
     "output_type": "stream",
     "text": [
      "[finished] 5250 5.0 -0.25 0.4 0.84 0.0 0.0 0.0 0\n",
      "[started] 5500 3.0 -0.75 0.4 1.35 0.0 0.0 0.0 0\n"
     ]
    },
    {
     "name": "stderr",
     "output_type": "stream",
     "text": [
      "[2023-01-06 19:21:52,579] [INFO] [turbospectrum:generate_spectrum:88]: Spherical model atmosphere with radius 3.65e+11 cm\n"
     ]
    },
    {
     "name": "stdout",
     "output_type": "stream",
     "text": [
      "[finished] 5250 5.0 0.0 0.0 0.85 0.0 0.0 0.0 0\n",
      "[started] 5500 3.0 -0.5 0.0 1.36 0.0 0.0 0.0 0\n"
     ]
    },
    {
     "name": "stderr",
     "output_type": "stream",
     "text": [
      "[2023-01-06 19:21:52,984] [INFO] [turbospectrum:generate_spectrum:88]: Spherical model atmosphere with radius 3.65e+11 cm\n"
     ]
    },
    {
     "name": "stdout",
     "output_type": "stream",
     "text": [
      "[finished] 5250 5.0 0.25 0.0 0.86 0.0 0.0 0.0 0\n",
      "[started] 5500 3.0 -0.5 0.4 1.36 0.0 0.0 0.0 0\n",
      "[finished] 5250 5.0 0.0 0.4 0.85 0.0 0.0 0.0 0\n",
      "[started] 5500 3.0 -0.25"
     ]
    },
    {
     "name": "stderr",
     "output_type": "stream",
     "text": [
      "[2023-01-06 19:21:53,637] [INFO] [turbospectrum:generate_spectrum:88]: Spherical model atmosphere with radius 3.65e+11 cm\n"
     ]
    },
    {
     "name": "stdout",
     "output_type": "stream",
     "text": [
      " 0.0 1.37 0.0 0.0 0.0 0\n"
     ]
    },
    {
     "name": "stderr",
     "output_type": "stream",
     "text": [
      "[2023-01-06 19:21:53,735] [INFO] [turbospectrum:generate_spectrum:88]: Spherical model atmosphere with radius 3.65e+11 cm\n"
     ]
    },
    {
     "name": "stdout",
     "output_type": "stream",
     "text": [
      "[finished] 5250 5.0 0.25 0.4 0.86 0.0 0.0 0.0 0\n",
      "[started] 5500 3.0 -0.25 0.4 1.37 0.0 0.0 0.0 0\n"
     ]
    },
    {
     "name": "stderr",
     "output_type": "stream",
     "text": [
      "[2023-01-06 19:21:54,299] [INFO] [turbospectrum:generate_spectrum:88]: Spherical model atmosphere with radius 3.65e+11 cm\n"
     ]
    },
    {
     "name": "stdout",
     "output_type": "stream",
     "text": [
      "[finished] 5250 5.0 0.5 0.4 0.88 0.0 0.0 0.0 0\n",
      "[started] 5500 3.0 0.0 0.0 1.39 0.0 0.0 0.0 0\n"
     ]
    },
    {
     "name": "stderr",
     "output_type": "stream",
     "text": [
      "[2023-01-06 19:21:55,155] [INFO] [turbospectrum:generate_spectrum:88]: Spherical model atmosphere with radius 3.65e+11 cm\n"
     ]
    },
    {
     "name": "stdout",
     "output_type": "stream",
     "text": [
      "[finished] 5250 5.0 0.5 0.0 0.88 0.0 0.0 0.0 0\n",
      "[started] 5500 3.0 0.0 0.4 1.39 0.0 0.0 0.0 0\n"
     ]
    },
    {
     "name": "stderr",
     "output_type": "stream",
     "text": [
      "[2023-01-06 19:21:55,452] [INFO] [turbospectrum:generate_spectrum:88]: Spherical model atmosphere with radius 3.65e+11 cm\n"
     ]
    },
    {
     "name": "stdout",
     "output_type": "stream",
     "text": [
      "[finished] 5500 3.0 -0.75 0.0 1.35 0.0 0.0 0.0 0\n",
      "[started] 5500 3.0 0.25 0.0 1.4 0.0 0.0 0.0 0\n"
     ]
    },
    {
     "name": "stderr",
     "output_type": "stream",
     "text": [
      "[2023-01-06 19:23:30,630] [INFO] [turbospectrum:generate_spectrum:88]: Spherical model atmosphere with radius 3.65e+11 cm\n"
     ]
    },
    {
     "name": "stdout",
     "output_type": "stream",
     "text": [
      "[finished] 5500 3.0 -1.0 0.0 1.35 0.0 0.0 0.0 0\n",
      "[started] 5500 3.0 0.25 0.4 1.4 0.0 0.0 0.0 0\n"
     ]
    },
    {
     "name": "stderr",
     "output_type": "stream",
     "text": [
      "[2023-01-06 19:23:30,938] [INFO] [turbospectrum:generate_spectrum:88]: Spherical model atmosphere with radius 3.65e+11 cm\n"
     ]
    },
    {
     "name": "stdout",
     "output_type": "stream",
     "text": [
      "[finished] 5500 3.0 -1.0 0.4 1.35 0.0 0.0 0.0 0\n",
      "[started] 5500 3.0 0.5 0.0 1.41 0.0 0.0 0.0 0\n"
     ]
    },
    {
     "name": "stderr",
     "output_type": "stream",
     "text": [
      "[2023-01-06 19:23:31,352] [INFO] [turbospectrum:generate_spectrum:88]: Spherical model atmosphere with radius 3.65e+11 cm\n"
     ]
    },
    {
     "name": "stdout",
     "output_type": "stream",
     "text": [
      "[finished] 5500 3.0 -0.5 0.0 1.36 0.0 0.0 0.0 0\n",
      "[started] 5500 3.0 0.5 0.4 1.41 0.0 0.0 0.0 0\n"
     ]
    },
    {
     "name": "stderr",
     "output_type": "stream",
     "text": [
      "[2023-01-06 19:23:33,496] [INFO] [turbospectrum:generate_spectrum:88]: Spherical model atmosphere with radius 3.65e+11 cm\n"
     ]
    },
    {
     "name": "stdout",
     "output_type": "stream",
     "text": [
      "[finished] 5500 3.0 -0.75 0.4 1.35[finished]  0.05500 0.0 3.0  -0.50.0  0\n",
      "0.4 1.36 0.0 0.0 0.0 0\n",
      "[started] 5500 3.5 -1.0 0.0 1.08 0.0 0.0 [started]0.0  55000\n",
      " 3.5 -1.0 0.4 1.08 0.0 0.0 0.0 0\n"
     ]
    },
    {
     "name": "stderr",
     "output_type": "stream",
     "text": [
      "[2023-01-06 19:23:33,809] [INFO] [turbospectrum:generate_spectrum:88]: Spherical model atmosphere with radius 2.05e+11 cm\n",
      "[2023-01-06 19:23:33,826] [INFO] [turbospectrum:generate_spectrum:88]: Spherical model atmosphere with radius 2.05e+11 cm\n"
     ]
    },
    {
     "name": "stdout",
     "output_type": "stream",
     "text": [
      "[finished] 5500 3.0 -0.25 0.4 1.37 0.0 0.0 0.0 0\n",
      "[started] 5500 3.5 -0.75 0.0 1.09 0.0 0.0 0.0 0\n"
     ]
    },
    {
     "name": "stderr",
     "output_type": "stream",
     "text": [
      "[2023-01-06 19:23:34,136] [INFO] [turbospectrum:generate_spectrum:88]: Spherical model atmosphere with radius 2.05e+11 cm\n"
     ]
    },
    {
     "name": "stdout",
     "output_type": "stream",
     "text": [
      "[finished] 5500 3.0 -0.25 0.0 1.37 0.0 0.0 0.0 0\n",
      "[started] 5500 3.5 -0.75 0.4 1.09 0.0 0.0 0.0 0\n"
     ]
    },
    {
     "name": "stderr",
     "output_type": "stream",
     "text": [
      "[2023-01-06 19:23:34,400] [INFO] [turbospectrum:generate_spectrum:88]: Spherical model atmosphere with radius 2.05e+11 cm\n"
     ]
    },
    {
     "name": "stdout",
     "output_type": "stream",
     "text": [
      "[finished] 5500 3.0 0.0 0.0 1.39 0.0 0.0 0.0 0\n",
      "[started] 5500 3.5 -0.5 0.0 1.1 0.0 0.0 0.0 0\n"
     ]
    },
    {
     "name": "stderr",
     "output_type": "stream",
     "text": [
      "[2023-01-06 19:23:35,709] [INFO] [turbospectrum:generate_spectrum:88]: Spherical model atmosphere with radius 2.05e+11 cm\n"
     ]
    },
    {
     "name": "stdout",
     "output_type": "stream",
     "text": [
      "[finished] 5500 3.0 0.0 0.4 1.39 0.0 0.0 0.0 0\n",
      "[started] 5500 3.5 -0.5 0.4 1.1 0.0 0.0 0.0 0\n"
     ]
    },
    {
     "name": "stderr",
     "output_type": "stream",
     "text": [
      "[2023-01-06 19:23:35,922] [INFO] [turbospectrum:generate_spectrum:88]: Spherical model atmosphere with radius 2.05e+11 cm\n"
     ]
    },
    {
     "name": "stdout",
     "output_type": "stream",
     "text": [
      "[finished] 5500 3.0 0.25 0.0 1.4 [finished]0.0 5500  0.0 3.00.0  00.25\n",
      " 0.4 1.4 0.0 0.0 0.0 0\n",
      "[started] 5500 3.5 -0.25 0.0 1.11 0.0 0.0 0.0 0\n",
      "[started] 5500 3.5 -0.25 0.4 1.11 0.0 0.0 0.0 0\n"
     ]
    },
    {
     "name": "stderr",
     "output_type": "stream",
     "text": [
      "[2023-01-06 19:25:11,539] [INFO] [turbospectrum:generate_spectrum:88]: Spherical model atmosphere with radius 2.05e+11 cm\n",
      "[2023-01-06 19:25:11,552] [INFO] [turbospectrum:generate_spectrum:88]: Spherical model atmosphere with radius 2.05e+11 cm\n"
     ]
    },
    {
     "name": "stdout",
     "output_type": "stream",
     "text": [
      "[finished] 5500 3.0 0.5 0.0 1.41 0.0 0.0 0.0 0\n",
      "[started] 5500 3.5 0.0 0.0 1.12 0.0 0.0 0.0 0\n"
     ]
    },
    {
     "name": "stderr",
     "output_type": "stream",
     "text": [
      "[2023-01-06 19:25:12,157] [INFO] [turbospectrum:generate_spectrum:88]: Spherical model atmosphere with radius 2.05e+11 cm\n"
     ]
    },
    {
     "name": "stdout",
     "output_type": "stream",
     "text": [
      "[finished] 5500 3.5 -1.0 0.0 1.08 0.0 0.0 0.0 0\n",
      "[started] 5500 3.5 0.0 0.4 1.12 0.0 0.0 0.0 0\n"
     ]
    },
    {
     "name": "stderr",
     "output_type": "stream",
     "text": [
      "[2023-01-06 19:25:13,851] [INFO] [turbospectrum:generate_spectrum:88]: Spherical model atmosphere with radius 2.05e+11 cm\n"
     ]
    },
    {
     "name": "stdout",
     "output_type": "stream",
     "text": [
      "[finished] 5500 3.0 0.5 0.4 1.41 0.0 0.0 0.0 0\n",
      "[started] 5500 3.5 0.25 0.0 1.13 0.0 0.0 0.0 0\n",
      "[finished] 5500 3.5 -1.0 0.4 1.08 0.0 0.0 0.0 0\n"
     ]
    },
    {
     "name": "stderr",
     "output_type": "stream",
     "text": [
      "[2023-01-06 19:25:14,155] [INFO] [turbospectrum:generate_spectrum:88]: Spherical model atmosphere with radius 2.05e+11 cm\n"
     ]
    },
    {
     "name": "stdout",
     "output_type": "stream",
     "text": [
      "[started] 5500 3.5 0.25 0.4 1.13 0.0 0.0 0.0 0\n"
     ]
    },
    {
     "name": "stderr",
     "output_type": "stream",
     "text": [
      "[2023-01-06 19:25:14,262] [INFO] [turbospectrum:generate_spectrum:88]: Spherical model atmosphere with radius 2.05e+11 cm\n"
     ]
    },
    {
     "name": "stdout",
     "output_type": "stream",
     "text": [
      "[finished] 5500 3.5 -0.75[finished]  55000.4  3.5 1.09-0.75  0.0 0.00.0  0.01.09 0 \n",
      "0.0 0.0 0.0 0[started]\n",
      " 5500 3.5 0.5 0.0 1.15 0.0  0.0 0.00\n",
      "[started] 5500 3.5 0.5 0.4 1.15 0.0 0.0 0.0 0\n"
     ]
    },
    {
     "name": "stderr",
     "output_type": "stream",
     "text": [
      "[2023-01-06 19:25:14,838] [INFO] [turbospectrum:generate_spectrum:88]: Spherical model atmosphere with radius 2.05e+11 cm\n",
      "[2023-01-06 19:25:14,870] [INFO] [turbospectrum:generate_spectrum:88]: Spherical model atmosphere with radius 2.05e+11 cm\n"
     ]
    },
    {
     "name": "stdout",
     "output_type": "stream",
     "text": [
      "[finished] 5500 3.5 -0.5 0.4 1.1 0.0 0.0 0.0 0\n",
      "[started] 5500 4.0 -1.0 0.0 1.01 0.0 0.0 0.0 0\n",
      "[finished] 5500 3.5 -0.5 0.0 1.1 0.0 0.0 0.0 0\n",
      "[started] 5500 4.0 -1.0 0.4 1.01 0.0 0.0 0.0 0\n",
      "[finished] 5500 4.0 -1.0 0.0 1.01 0.0 0.0 0.0 0\n",
      "[started] 5500 4.0 -0.75 0.0 1.02 0.0 0.0 0.0 0\n",
      "[finished] 5500 4.0 -1.0 0.4 1.01 0.0 0.0 0.0 0\n",
      "[started] 5500 4.0 -0.75 0.4 1.02 0.0 0.0 0.0 0\n",
      "[finished] 5500 3.5 -0.25 0.0 1.11 0.0 0.0 0.0 0\n",
      "[started] 5500 4.0 -0.5 0.0 1.03 0.0 0.0 0.0 0\n",
      "[finished] 5500 3.5 -0.25 0.4 1.11 0.0 0.0 0.0 0\n",
      "[started] 5500 4.0 -0.5 0.4 1.03 0.0 0.0 0.0 0\n",
      "[finished] 5500 3.5 0.0 0.0 1.12 0.0 0.0 0.0 0\n",
      "[started] 5500 4.0 -0.25 0.0 1.04 0.0 0.0 0.0 0\n",
      "[finished] 5500 3.5 0.25 0.4 1.13 0.0 0.0 0.0 0\n",
      "[started] 5500 4.0 -0.25 0.4 1.04 0.0 0.0 0.0 0\n",
      "[finished] 5500 3.5 0.25 0.0 1.13 0.0 0.0 0.0 0\n",
      "[started] 5500 4.0 0.0 0.0 1.05 0.0 0.0 0.0 0\n",
      "[finished] 5500 3.5 0.5 0.0 1.15 0.0 0.0 0.0 0\n",
      "[started] 5500 4.0 0.0 0.4 1.05 0.0 0.0 0.0 0[finished]\n",
      " 5500 3.5 0.0 0.4 1.12 0.0 0.0 0.0 0\n",
      "[started] 5500 4.0 0.25 0.0 1.06 0.0 0.0 0.0 0\n",
      "[finished] 5500 3.5 0.5 0.4 1.15 0.0 0.0 0.0 0\n",
      "[started] 5500 4.0 0.25 0.4 1.06 0.0 0.0 0.0 0\n",
      "[finished] 5500 4.0 -0.75 0.4 1.02 0.0 0.0 0.0 0\n",
      "[started] 5500 4.0 0.5 0.0 1.08 0.0 0.0 0.0 0\n",
      "[finished] 5500 4.0 -0.75 0.0 1.02 0.0 0.0 0.0 0\n",
      "[started] 5500 4.0 0.5 0.4 1.08 0.0 0.0 0.0 0\n",
      "[finished] 5500 4.0 -0.5 0.4 1.03 0.0 0.0 0.0 0\n",
      "[started] 5500 4.5 -1.0 0.0 0.94 0.0 0.0 0.0 0\n",
      "[finished] 5500 4.0 -0.5 0.0 1.03 0.0 0.0 0.0 0\n",
      "[started] 5500 4.5 -1.0 0.4 0.94 0.0 0.0 0.0 0\n",
      "[finished] 5500 4.0 -0.25 0.0 1.04 0.0 0.0 0.0 0\n",
      "[started] 5500 4.5 -0.75 0.0 0.95 0.0 0.0 0.0 0\n",
      "[finished] 5500 4.0 0.0 0.0 1.05 0.0 0.0 0.0 0\n",
      "[started] 5500 4.5 -0.75 0.4 0.95 0.0 0.0 0.0 0\n",
      "[finished] 5500 4.0 -0.25 0.4 1.04 0.0 0.0 0.0 0\n",
      "[started] 5500 4.5 -0.5 0.0 0.96 0.0 0.0 0.0 0\n",
      "[finished] 5500 4.0 0.0 0.4 1.05 0.0 0.0 0.0 0\n",
      "[started] 5500 4.5 -0.5 0.4 0.96 0.0 0.0 0.0 0\n",
      "[finished] 5500 4.0 0.25 0.0 1.06 0.0 0.0 0.0 0\n",
      "[started] 5500 4.5 -0.25 0.0 0.97 0.0 0.0 0.0 0\n",
      "[finished] 5500 4.0 0.25 0.4 1.06 0.0 0.0 0.0 0\n",
      "[started] 5500 4.5 -0.25 0.4 0.97 0.0 0.0 0.0 0\n",
      "[finished] 5500 4.0 0.5 0.0 1.08 0.0 0.0 0.0 0\n",
      "[started] 5500 4.5 0.0 0.0 0.98 0.0 0.0 0.0 0\n",
      "[finished] 5500 4.0 0.5 0.4 1.08 0.0 0.0 0.0 0\n",
      "[started] 5500 4.5 0.0 0.4 0.98 0.0 0.0 0.0 0\n",
      "[finished] 5500 4.5 -1.0 0.0 0.94 0.0 0.0 0.0 0\n",
      "[started] 5500 4.5 0.25 0.0 0.99 0.0 0.0 0.0 0\n",
      "[finished] 5500 4.5 -1.0 0.4 0.94 0.0 0.0 0.0 0\n",
      "[started] 5500 4.5 0.25 0.4 0.99 0.0 0.0 0.0 0\n",
      "[finished] 5500 4.5 -0.75 0.4 0.95 0.0 0.0 0.0 0\n",
      "[started] 5500 4.5 0.5 0.0 1.01 0.0 0.0 0.0 0\n",
      "[finished] 5500 4.5 -0.75 0.0 0.95 0.0 0.0 0.0 0\n",
      "[started] 5500 4.5 0.5 0.4 1.01 0.0 0.0 0.0 0\n",
      "[finished] 5500 4.5 -0.5 0.0 0.96 0.0 0.0 0.0 0\n",
      "[started] 5500 5.0 -1.0 0.0 0.86 0.0 0.0 0.0 0\n",
      "[finished] 5500 4.5 -0.5 0.4 0.96 0.0 0.0 0.0 0\n",
      "[started] 5500 5.0 -1.0 0.4 0.86 0.0 0.0 0.0 0\n",
      "[finished] 5500 4.5 -0.25 0.0 0.97 0.0 0.0 0.0 0\n",
      "[started] 5500 5.0 -0.75 0.0 0.87 0.0 0.0 0.0 0\n",
      "[finished] 5500 4.5 -0.25 0.4 0.97 0.0 0.0 0.0 0\n",
      "[started] 5500 5.0 -0.75 0.4 0.87 0.0 0.0 0.0 0\n",
      "[finished] 5500 4.5 0.0 0.0 0.98 0.0 0.0 0.0 0\n",
      "[started] 5500 5.0 -0.5 0.0 0.88 0.0 0.0 0.0 0\n",
      "[finished] 5500 4.5 0.0 0.4 0.98 0.0 0.0 0.0 0\n",
      "[started] 5500 5.0 -0.5 0.4 0.88 0.0 0.0 0.0 0\n",
      "[finished] 5500 4.5 0.25 0.0 0.99 0.0 0.0 0.0 0\n",
      "[started] 5500 5.0 -0.25 0.0 0.89 0.0 0.0 0.0 0\n",
      "[finished] 5500 4.5 0.25 0.4 0.99 0.0 0.0 0.0 0\n",
      "[started] 5500 5.0 -0.25 0.4 0.89 0.0 0.0 0.0 0\n",
      "[finished] 5500 4.5 0.5 0.0 1.01 0.0 0.0 0.0 0\n",
      "[started] 5500 5.0 0.0 0.0 0.91 0.0 0.0 0.0 0\n",
      "[finished] 5500 5.0 -1.0 0.4 0.86 0.0 0.0 0.0 0\n",
      "[started] 5500 5.0 0.0 0.4 0.91 0.0 0.0 0.0 0\n",
      "[finished] 5500 5.0 -1.0 0.0 0.86 0.0 0.0 0.0 0\n",
      "[started] 5500 5.0 0.25 0.0 0.92 0.0 0.0 0.0 0\n",
      "[finished] 5500 4.5 0.5 0.4 1.01 0.0 0.0 0.0 0\n",
      "[started] 5500 5.0 0.25 0.4 0.92 0.0 0.0 0.0 0\n",
      "[finished] 5500 5.0 -0.75 0.4 0.87 0.0 0.0 0.0 0\n",
      "[started] 5500 5.0 0.5 0.0 0.93 0.0 0.0 0.0 0\n",
      "[finished] 5500 5.0 -0.75 0.0 0.87 0.0 0.0 0.0 0\n",
      "[started] 5500 5.0 0.5 0.4 0.93 0.0 0.0 0.0 0\n",
      "[finished] 5500 5.0 -0.5 0.0 0.88 0.0 0.0 0.0 0\n",
      "[started] 5750 3.0 -1.0 0.0 1.46 0.0 0.0 0.0 0\n"
     ]
    },
    {
     "name": "stderr",
     "output_type": "stream",
     "text": [
      "[2023-01-06 19:32:10,933] [INFO] [turbospectrum:generate_spectrum:88]: Spherical model atmosphere with radius 3.65e+11 cm\n"
     ]
    },
    {
     "name": "stdout",
     "output_type": "stream",
     "text": [
      "[finished] 5500 5.0 -0.5 0.4 0.88 0.0 0.0 0.0 0\n",
      "[started] 5750 3.0 -1.0 0.4 1.46 0.0 0.0 0.0 0\n"
     ]
    },
    {
     "name": "stderr",
     "output_type": "stream",
     "text": [
      "[2023-01-06 19:32:11,424] [INFO] [turbospectrum:generate_spectrum:88]: Spherical model atmosphere with radius 3.65e+11 cm\n"
     ]
    },
    {
     "name": "stdout",
     "output_type": "stream",
     "text": [
      "[finished] 5500 5.0 -0.25 0.0 0.89 0.0 0.0 0.0 0\n",
      "[started] 5750 3.0 -0.75 0.0 1.47 0.0 0.0 0.0 0\n"
     ]
    },
    {
     "name": "stderr",
     "output_type": "stream",
     "text": [
      "[2023-01-06 19:32:25,414] [INFO] [turbospectrum:generate_spectrum:88]: Spherical model atmosphere with radius 3.65e+11 cm\n"
     ]
    },
    {
     "name": "stdout",
     "output_type": "stream",
     "text": [
      "[finished] 5500 5.0 -0.25 0.4 0.89 0.0 0.0 0.0 0\n",
      "[started] 5750 3.0 -0.75 0.4 1.47 0.0 0.0 0.0 0\n"
     ]
    },
    {
     "name": "stderr",
     "output_type": "stream",
     "text": [
      "[2023-01-06 19:32:25,860] [INFO] [turbospectrum:generate_spectrum:88]: Spherical model atmosphere with radius 3.65e+11 cm\n"
     ]
    },
    {
     "name": "stdout",
     "output_type": "stream",
     "text": [
      "[finished] 5500 5.0 0.0 0.0 0.91 0.0 0.0 0.0 0\n",
      "[started] 5750 3.0 -0.5 0.0 1.48 0.0 0.0 0.0 0\n"
     ]
    },
    {
     "name": "stderr",
     "output_type": "stream",
     "text": [
      "[2023-01-06 19:32:26,915] [INFO] [turbospectrum:generate_spectrum:88]: Spherical model atmosphere with radius 3.65e+11 cm\n"
     ]
    },
    {
     "name": "stdout",
     "output_type": "stream",
     "text": [
      "[finished] 5500 5.0 0.0 0.4 0.91 0.0 0.0 0.0 0\n",
      "[started] 5750 3.0 -0.5 0.4 1.48 0.0 0.0 0.0 0\n"
     ]
    },
    {
     "name": "stderr",
     "output_type": "stream",
     "text": [
      "[2023-01-06 19:32:27,305] [INFO] [turbospectrum:generate_spectrum:88]: Spherical model atmosphere with radius 3.65e+11 cm\n"
     ]
    },
    {
     "name": "stdout",
     "output_type": "stream",
     "text": [
      "[finished] 5500 5.0 0.25 0.0 0.92 0.0 0.0 0.0 0\n",
      "[started] 5750 3.0 -0.25 0.0 1.49 0.0 0.0 0.0 0\n"
     ]
    },
    {
     "name": "stderr",
     "output_type": "stream",
     "text": [
      "[2023-01-06 19:32:27,468] [INFO] [turbospectrum:generate_spectrum:88]: Spherical model atmosphere with radius 3.65e+11 cm\n"
     ]
    },
    {
     "name": "stdout",
     "output_type": "stream",
     "text": [
      "[finished] 5500 5.0 0.25 0.4 0.92 0.0 0.0 0.0 0\n",
      "[started] 5750 3.0 -0.25 0.4 1.49 0.0 0.0 0.0 0\n"
     ]
    },
    {
     "name": "stderr",
     "output_type": "stream",
     "text": [
      "[2023-01-06 19:32:28,215] [INFO] [turbospectrum:generate_spectrum:88]: Spherical model atmosphere with radius 3.65e+11 cm\n"
     ]
    },
    {
     "name": "stdout",
     "output_type": "stream",
     "text": [
      "[finished] 5500 5.0 0.5 0.0 0.93 0.0 0.0 0.0 0\n",
      "[started] 5750 3.0 0.0 0.0 1.5 0.0 0.0 0.0 0\n"
     ]
    },
    {
     "name": "stderr",
     "output_type": "stream",
     "text": [
      "[2023-01-06 19:32:30,642] [INFO] [turbospectrum:generate_spectrum:88]: Spherical model atmosphere with radius 3.65e+11 cm\n"
     ]
    },
    {
     "name": "stdout",
     "output_type": "stream",
     "text": [
      "[finished] 5500 5.0 0.5 0.4 0.93 0.0 0.0 0.0 0\n",
      "[started] 5750 3.0 0.0 0.4 1.5 0.0 0.0 0.0 0\n"
     ]
    },
    {
     "name": "stderr",
     "output_type": "stream",
     "text": [
      "[2023-01-06 19:32:31,175] [INFO] [turbospectrum:generate_spectrum:88]: Spherical model atmosphere with radius 3.65e+11 cm\n"
     ]
    },
    {
     "name": "stdout",
     "output_type": "stream",
     "text": [
      "[finished] 5750 3.0 -1.0 0.0 1.46 0.0 0.0 0.0 0\n",
      "[started] 5750 3.0 0.25 0.0 1.52 0.0 0.0 0.0 0\n"
     ]
    },
    {
     "name": "stderr",
     "output_type": "stream",
     "text": [
      "[2023-01-06 19:33:51,283] [INFO] [turbospectrum:generate_spectrum:88]: Spherical model atmosphere with radius 3.65e+11 cm\n"
     ]
    },
    {
     "name": "stdout",
     "output_type": "stream",
     "text": [
      "[finished] 5750 3.0 -1.0 0.4 1.46 0.0 0.0 0.0 0\n",
      "[started] 5750 3.0 0.25 0.4 1.52 0.0 0.0 0.0 0\n"
     ]
    },
    {
     "name": "stderr",
     "output_type": "stream",
     "text": [
      "[2023-01-06 19:33:51,977] [INFO] [turbospectrum:generate_spectrum:88]: Spherical model atmosphere with radius 3.65e+11 cm\n"
     ]
    },
    {
     "name": "stdout",
     "output_type": "stream",
     "text": [
      "[finished] 5750 3.0 -0.75 0.0 1.47 0.0 0.0 0.0 0\n",
      "[started] 5750 3.0 0.5 0.0 1.53 0.0 0.0 0.0 0\n"
     ]
    },
    {
     "name": "stderr",
     "output_type": "stream",
     "text": [
      "[2023-01-06 19:34:06,568] [INFO] [turbospectrum:generate_spectrum:88]: Spherical model atmosphere with radius 3.65e+11 cm\n"
     ]
    },
    {
     "name": "stdout",
     "output_type": "stream",
     "text": [
      "[finished] 5750 3.0 -0.75 0.4 1.47 0.0 0.0 0.0 0\n",
      "[started] 5750 3.0 0.5 0.4 1.53 0.0 0.0 0.0 0\n"
     ]
    },
    {
     "name": "stderr",
     "output_type": "stream",
     "text": [
      "[2023-01-06 19:34:06,958] [INFO] [turbospectrum:generate_spectrum:88]: Spherical model atmosphere with radius 3.65e+11 cm\n"
     ]
    },
    {
     "name": "stdout",
     "output_type": "stream",
     "text": [
      "[finished] 5750 3.0 -0.5 0.4 1.48 0.0 0.0 0.0 0\n",
      "[started] 5750 3.5 -1.0 0.0 1.15 0.0 0.0 0.0 0\n",
      "[finished] 5750 3.0 -0.5 0.0 1.48 0.0 0.0 0.0 0\n",
      "[started] 5750 3.5 -1.0 0.4 1.15 0.0 0.0 0.0 0"
     ]
    },
    {
     "name": "stderr",
     "output_type": "stream",
     "text": [
      "[2023-01-06 19:34:07,306] [INFO] [turbospectrum:generate_spectrum:88]: Spherical model atmosphere with radius 2.05e+11 cm\n"
     ]
    },
    {
     "name": "stdout",
     "output_type": "stream",
     "text": [
      "\n"
     ]
    },
    {
     "name": "stderr",
     "output_type": "stream",
     "text": [
      "[2023-01-06 19:34:07,395] [INFO] [turbospectrum:generate_spectrum:88]: Spherical model atmosphere with radius 2.05e+11 cm\n"
     ]
    },
    {
     "name": "stdout",
     "output_type": "stream",
     "text": [
      "[finished] 5750 3.0 -0.25 0.4 1.49 0.0 0.0 0.0 0\n",
      "[started] 5750 3.5 -0.75 0.0 1.16 0.0 0.0 0.0 0\n"
     ]
    },
    {
     "name": "stderr",
     "output_type": "stream",
     "text": [
      "[2023-01-06 19:34:08,284] [INFO] [turbospectrum:generate_spectrum:88]: Spherical model atmosphere with radius 2.05e+11 cm\n"
     ]
    },
    {
     "name": "stdout",
     "output_type": "stream",
     "text": [
      "[finished] 5750 3.0 -0.25 0.0 1.49 0.0 0.0 0.0 0\n",
      "[started] 5750 3.5 -0.75 0.4 1.16 0.0 0.0 0.0 0\n"
     ]
    },
    {
     "name": "stderr",
     "output_type": "stream",
     "text": [
      "[2023-01-06 19:34:09,510] [INFO] [turbospectrum:generate_spectrum:88]: Spherical model atmosphere with radius 2.05e+11 cm\n"
     ]
    },
    {
     "name": "stdout",
     "output_type": "stream",
     "text": [
      "[finished] 5750 3.0 0.0 0.0 1.5 0.0 0.0 0.0 0\n",
      "[started] 5750 3.5 -0.5 0.0 1.17 0.0 0.0 0.0 0\n"
     ]
    },
    {
     "name": "stderr",
     "output_type": "stream",
     "text": [
      "[2023-01-06 19:34:10,769] [INFO] [turbospectrum:generate_spectrum:88]: Spherical model atmosphere with radius 2.05e+11 cm\n"
     ]
    },
    {
     "name": "stdout",
     "output_type": "stream",
     "text": [
      "[finished] 5750 3.0 0.0 0.4 1.5 0.0 0.0 0.0 0\n",
      "[started] 5750 3.5 -0.5 0.4 1.17 0.0 0.0 0.0 0\n"
     ]
    },
    {
     "name": "stderr",
     "output_type": "stream",
     "text": [
      "[2023-01-06 19:34:14,309] [INFO] [turbospectrum:generate_spectrum:88]: Spherical model atmosphere with radius 2.05e+11 cm\n"
     ]
    },
    {
     "name": "stdout",
     "output_type": "stream",
     "text": [
      "[finished] 5750 3.0 0.25 0.0 1.52 0.0 0.0 0.0 0\n",
      "[started] 5750 3.5 -0.25 0.0 1.18 0.0 0.0 0.0 0\n"
     ]
    },
    {
     "name": "stderr",
     "output_type": "stream",
     "text": [
      "[2023-01-06 19:35:32,304] [INFO] [turbospectrum:generate_spectrum:88]: Spherical model atmosphere with radius 2.05e+11 cm\n"
     ]
    },
    {
     "name": "stdout",
     "output_type": "stream",
     "text": [
      "[finished] 5750 3.0 0.25 0.4 1.52 0.0 0.0 0.0 0\n",
      "[started] 5750 3.5 -0.25 0.4 1.18 0.0 0.0 0.0 0\n"
     ]
    },
    {
     "name": "stderr",
     "output_type": "stream",
     "text": [
      "[2023-01-06 19:35:32,801] [INFO] [turbospectrum:generate_spectrum:88]: Spherical model atmosphere with radius 2.05e+11 cm\n"
     ]
    },
    {
     "name": "stdout",
     "output_type": "stream",
     "text": [
      "[finished] 5750 3.5 -1.0 0.0 1.15 0.0 0.0 0.0 0\n",
      "[started] 5750 3.5 0.0 0.0[finished] 1.19  57500.0  3.00.0  0.50.0  0.00\n",
      " 1.53 0.0 0.0 0.0 0\n",
      "[started] 5750 3.5 0.0 0.4 1.19 0.0 0.0 0.0 0\n"
     ]
    },
    {
     "name": "stderr",
     "output_type": "stream",
     "text": [
      "[2023-01-06 19:35:47,857] [INFO] [turbospectrum:generate_spectrum:88]: Spherical model atmosphere with radius 2.05e+11 cm\n",
      "[2023-01-06 19:35:47,901] [INFO] [turbospectrum:generate_spectrum:88]: Spherical model atmosphere with radius 2.05e+11 cm\n"
     ]
    },
    {
     "name": "stdout",
     "output_type": "stream",
     "text": [
      "[finished] 5750 3.0 0.5 0.4 1.53 0.0 0.0 0.0 0\n",
      "[started] 5750 3.5 0.25 0.0 1.2 0.0 0.0 0.0 0\n",
      "[finished] 5750 3.5 "
     ]
    },
    {
     "name": "stderr",
     "output_type": "stream",
     "text": [
      "[2023-01-06 19:35:48,437] [INFO] [turbospectrum:generate_spectrum:88]: Spherical model atmosphere with radius 2.05e+11 cm\n"
     ]
    },
    {
     "name": "stdout",
     "output_type": "stream",
     "text": [
      "-1.0 0.4 1.15 0.0 0.0 0.0 0\n",
      "[started] 5750 3.5 0.25 0.4 1.2 0.0 0.0 0.0 0\n"
     ]
    },
    {
     "name": "stderr",
     "output_type": "stream",
     "text": [
      "[2023-01-06 19:35:48,568] [INFO] [turbospectrum:generate_spectrum:88]: Spherical model atmosphere with radius 2.05e+11 cm\n"
     ]
    },
    {
     "name": "stdout",
     "output_type": "stream",
     "text": [
      "[finished] 5750 3.5 -0.75 0.0 1.16 0.0 0.0 0.0 0\n",
      "[started] 5750 3.5 0.5 0.0 1.22 0.0 0.0 0.0 0\n"
     ]
    },
    {
     "name": "stderr",
     "output_type": "stream",
     "text": [
      "[2023-01-06 19:35:49,195] [INFO] [turbospectrum:generate_spectrum:88]: Spherical model atmosphere with radius 2.05e+11 cm\n"
     ]
    },
    {
     "name": "stdout",
     "output_type": "stream",
     "text": [
      "[finished] 5750 3.5 -0.75 0.4 1.16 0.0 0.0 0.0 0\n",
      "[started] 5750 3.5 0.5 0.4 1.22 0.0 0.0 0.0 0\n"
     ]
    },
    {
     "name": "stderr",
     "output_type": "stream",
     "text": [
      "[2023-01-06 19:35:50,158] [INFO] [turbospectrum:generate_spectrum:88]: Spherical model atmosphere with radius 2.05e+11 cm\n"
     ]
    },
    {
     "name": "stdout",
     "output_type": "stream",
     "text": [
      "[finished] 5750 3.5 -0.5 0.0 1.17 0.0 0.0 0.0 0\n",
      "[started] 5750 4.0 -1.0 0.0 1.08 0.0 0.0 0.0 0\n",
      "[finished] 5750 3.5 -0.5 0.4 1.17 0.0 0.0 0.0 0\n",
      "[started] 5750 4.0 -1.0 0.4 1.08 0.0 0.0 0.0 0\n",
      "[finished] 5750 3.5 -0.25 0.0 1.18 0.0 0.0 0.0 0\n",
      "[started] 5750 4.0 -0.75 0.0 1.09 0.0 0.0 0.0 0\n",
      "[finished] 5750 3.5 -0.25 0.4 1.18 0.0 0.0 0.0 0\n",
      "[started] 5750 4.0 -0.75 0.4 1.09 0.0 0.0 0.0 0\n",
      "[finished] 5750 4.0 -1.0 0.0 1.08 0.0 0.0 0.0 0\n",
      "[started] 5750 4.0 -0.5 0.0 1.1 0.0 0.0 0.0 0\n",
      "[finished] 5750 4.0 -1.0 0.4 1.08 0.0 0.0 0.0 0\n",
      "[started] 5750 4.0 -0.5 0.4 1.1 0.0 0.0 0.0 0\n",
      "[finished] 5750 3.5 0.0 0.4 1.19 0.0 0.0 0.0 0\n",
      "[started] 5750 4.0 -0.25 0.0 1.11 0.0 0.0 0.0 0\n",
      "[finished] 5750 3.5 0.25 0.0 1.2 0.0 0.0 0.0[finished]  05750\n",
      " 3.5 0.25 0.4 1.2 0.0 0.0 0.0 0\n",
      "[started] 5750 4.0 -0.25 0.4 1.11[started]  57500.0  4.00.0  0.00.0 0.0  1.120 0.0\n",
      " 0.0 0.0 0\n",
      "[finished] 5750 3.5 0.0 0.0 1.19 0.0 0.0 0.0 0\n",
      "[started] 5750 4.0 0.0 0.4 1.12 0.0 0.0 0.0 0\n",
      "[finished] 5750 3.5 0.5 0.0 1.22 0.0 0.0 0.0 0\n",
      "[started] 5750 4.0 0.25 0.0 1.14 0.0 0.0 0.0 0\n",
      "[finished] 5750 3.5 0.5 0.4 1.22 0.0 0.0 0.0 0\n",
      "[started] 5750 4.0 0.25 0.4 1.14 0.0 0.0 0.0 0\n",
      "[finished] 5750 4.0 -0.75 0.0 1.09 0.0 0.0 0.0 0\n",
      "[started] 5750 4.0 0.5 0.0 1.15 0.0 0.0 0.0 0\n",
      "[finished] 5750 4.0 -0.75 0.4 1.09 0.0 0.0 0.0 0\n",
      "[started] 5750 4.0 0.5 0.4 1.15 0.0 0.0 0.0 0\n",
      "[finished] 5750 4.0 -0.5 0.0 1.1 0.0 0.0 0.0 0\n",
      "[started] 5750 4.5 -1.0 0.0 1.01 0.0 0.0 0.0 0\n",
      "[finished] 5750 4.0 -0.5 0.4 1.1 0.0 0.0 0.0 0\n",
      "[started] 5750 4.5 -1.0 0.4 1.01 0.0 0.0 0.0 0\n",
      "[finished] 5750 4.0 -0.25 0.0 1.11 0.0 0.0 0.0 0\n",
      "[started] 5750 4.5 -0.75 0.0 1.02 0.0 0.0 0.0 0\n",
      "[finished] 5750 4.0 -0.25 0.4 1.11 0.0 0.0 0.0 0\n",
      "[started] 5750 4.5 -0.75 0.4 1.02 0.0 0.0 0.0 0\n",
      "[finished] 5750 4.0 0.0 0.0 1.12 0.0 0.0 0.0 0\n",
      "[started] 5750 4.5 -0.5 0.0 1.03 0.0 0.0 0.0 0\n",
      "[finished] 5750 4.0 0.0 0.4 1.12 0.0 0.0 0.0 0\n",
      "[started] 5750 4.5 -0.5 0.4 1.03 0.0 0.0 0.0 0\n",
      "[finished] 5750 4.0 0.25 0.0 1.14 0.0 0.0 0.0 0\n",
      "[started] 5750 4.5 -0.25 0.0 1.04 0.0 0.0 0.0 0\n",
      "[finished] 5750 4.0 0.25 0.4 1.14 0.0 0.0 0.0 0\n",
      "[started] 5750 4.5 -0.25 0.4 1.04 0.0 0.0 0.0 0\n",
      "[finished] 5750 4.0 0.5 0.0 1.15 0.0 0.0 0.0 0\n",
      "[started] 5750 4.5 0.0 0.0 1.05 0.0 0.0 0.0 0\n",
      "[finished] 5750 4.5 -1.0 0.0 1.01 0.0 0.0 0.0 0\n",
      "[started] 5750 4.5 0.0 0.4 1.05 0.0 0.0 0.0 0\n",
      "[finished] 5750 4.0 0.5 0.4 1.15 0.0 0.0 0.0 0\n",
      "[started] 5750 4.5 0.25 0.0 1.06 0.0 0.0 0.0 0\n",
      "[finished] 5750 4.5 -1.0 0.4 1.01 0.0 0.0 0.0 0\n",
      "[started] 5750 4.5 0.25 0.4 1.06 0.0 0.0 0.0 0\n",
      "[finished] 5750 4.5 -0.75 0.0 1.02 0.0 0.0 0.0 0\n",
      "[started] 5750 4.5 0.5 0.0 1.08 0.0 0.0 0.0 0\n",
      "[finished] 5750 4.5 -0.75 0.4 1.02 0.0 0.0 0.0 0\n",
      "[started] 5750 4.5 0.5 0.4 1.08 0.0 0.0 0.0 0\n",
      "[finished]4.5 5750  -0.5 0.4 1.03 0.0 0.0 0.0 0\n",
      "[started] 5750[finished]  5.05750  4.5-1.0  -0.50.0  0.00.94  0.01.03 0.0  0.00.0  0.00.0  00\n",
      "\n",
      "[started] 5750 5.0 -1.0 0.4 0.94 0.0 0.0 0.0 0\n",
      "[finished] 5750 4.5 -0.25 0.4 1.04 0.0 0.0 0.0 0\n",
      "[started] 5750 5.0 -0.75 0.0 0.95 0.0 0.0 0.0 0\n",
      "[finished] 5750 4.5 -0.25 0.0 1.04 0.0 0.0 0.0 0\n",
      "[started] 5750 5.0 -0.75 0.4 0.95 0.0 0.0 0.0 0\n",
      "[finished] 5750 4.5 0.0 0.0 1.05 0.0 0.0 0.0 0\n",
      "[started] 5750 5.0 -0.5 0.0 0.95 0.0 0.0 0.0 0\n",
      "[finished] 5750 4.5 0.25 0.0 1.06 0.0 0.0 0.0 0\n",
      "[started] 5750 5.0 -0.5 0.4 0.95 0.0 0.0 0.0 0\n",
      "[finished] 5750 4.5 0.0 0.4 1.05 0.0 0.0 0.0 0\n",
      "[started] 5750 5.0 -0.25 0.0 0.97 0.0 0.0 0.0 0\n",
      "[finished] 5750 4.5 0.25 0.4 1.06 0.0 0.0 0.0 0\n",
      "[started] 5750 5.0 -0.25 0.4 0.97 0.0 0.0 0.0 0\n",
      "[finished] 5750 4.5 0.5 0.0 1.08 0.0 0.0 0.0 0\n",
      "[started] 5750 5.0 0.0 0.0 0.98 0.0 0.0 0.0 0\n",
      "[finished] 5750 5.0 -1.0 0.4 0.94 0.0 0.0 0.0 0\n",
      "[started] 5750 5.0 0.0 0.4 0.98 0.0 0.0 0.0 0\n",
      "[finished] 5750 5.0 -1.0 0.0 0.94 0.0 0.0 0.0 0\n",
      "[started] 5750 5.0 0.25 0.0 0.99 0.0 0.0 0.0 0\n",
      "[finished] 5750 4.5 0.5 0.4 1.08 0.0 0.0 0.0 0\n",
      "[started] 5750 5.0 0.25 0.4 0.99 0.0 0.0 0.0 0\n",
      "[finished] 5750 5.0 -0.75 0.0 0.95 0.0 0.0 0.0 0\n",
      "[started] 5750 5.0 0.5 0.0 1.0 0.0 0.0 0.0 0\n",
      "[finished] 5750 5.0 -0.75 0.4 0.95 0.0 0.0 0.0 0\n",
      "[started] 5750 5.0 0.5 0.4 1.0 0.0 0.0 0.0 0\n",
      "[finished] 5750 5.0 -0.5 0.0 0.95 0.0 0.0 0.0 0\n",
      "[started] 6000 3.0 -1.0 0.0 1.62 0.0 0.0 0.0 0\n"
     ]
    },
    {
     "name": "stderr",
     "output_type": "stream",
     "text": [
      "[2023-01-06 19:42:45,431] [INFO] [turbospectrum:generate_spectrum:88]: Spherical model atmosphere with radius 3.65e+11 cm\n"
     ]
    },
    {
     "name": "stdout",
     "output_type": "stream",
     "text": [
      "[finished] 5750 5.0 -0.5 0.4 0.95 0.0 0.0 0.0 0\n",
      "[started] 6000 3.0 -1.0 0.4 1.62 0.0 0.0 0.0 0\n"
     ]
    },
    {
     "name": "stderr",
     "output_type": "stream",
     "text": [
      "[2023-01-06 19:42:46,633] [INFO] [turbospectrum:generate_spectrum:88]: Spherical model atmosphere with radius 3.65e+11 cm\n"
     ]
    },
    {
     "name": "stdout",
     "output_type": "stream",
     "text": [
      "[finished] 5750 5.0 -0.25 0.0 0.97 0.0 0.0 0.0 0\n",
      "[started] 6000 3.0 -0.75 0.0 1.63 0.0 0.0 0.0 0\n"
     ]
    },
    {
     "name": "stderr",
     "output_type": "stream",
     "text": [
      "[2023-01-06 19:42:47,369] [INFO] [turbospectrum:generate_spectrum:88]: Spherical model atmosphere with radius 3.65e+11 cm\n"
     ]
    },
    {
     "name": "stdout",
     "output_type": "stream",
     "text": [
      "[finished] 5750 5.0 -0.25 0.4 0.97 0.0 0.0 0.0 0\n",
      "[started] 6000 3.0 -0.75 0.4 1.63 0.0 0.0 0.0 0\n"
     ]
    },
    {
     "name": "stderr",
     "output_type": "stream",
     "text": [
      "[2023-01-06 19:42:49,759] [INFO] [turbospectrum:generate_spectrum:88]: Spherical model atmosphere with radius 3.65e+11 cm\n"
     ]
    },
    {
     "name": "stdout",
     "output_type": "stream",
     "text": [
      "[finished] 5750 5.0 0.0 0.4 0.98 0.0 0.0 0.0 0\n",
      "[started] 6000 3.0 -0.5 0.0 1.64 0.0 0.0 0.0 0\n"
     ]
    },
    {
     "name": "stderr",
     "output_type": "stream",
     "text": [
      "[2023-01-06 19:43:01,405] [INFO] [turbospectrum:generate_spectrum:88]: Spherical model atmosphere with radius 3.65e+11 cm\n"
     ]
    },
    {
     "name": "stdout",
     "output_type": "stream",
     "text": [
      "[finished] 5750 5.0 0.0 0.0 0.98 0.0 0.0 0.0 0\n",
      "[started] 6000 3.0 -0.5 0.4 1.64 0.0 0.0 0.0 0\n"
     ]
    },
    {
     "name": "stderr",
     "output_type": "stream",
     "text": [
      "[2023-01-06 19:43:01,788] [INFO] [turbospectrum:generate_spectrum:88]: Spherical model atmosphere with radius 3.65e+11 cm\n"
     ]
    },
    {
     "name": "stdout",
     "output_type": "stream",
     "text": [
      "[finished] 5750 5.0 0.25 0.0 0.99 0.0 0.0 0.0 0\n",
      "[started] 6000 3.0 -0.25 0.0 1.65 [finished]0.0  57500.0  5.00.0  0.25 00.4\n",
      " 0.99 0.0 0.0 0.0 0\n",
      "[started] 6000 3.0 -0.25 0.4 1.65 0.0 0.0 0.0 0\n"
     ]
    },
    {
     "name": "stderr",
     "output_type": "stream",
     "text": [
      "[2023-01-06 19:43:02,000] [INFO] [turbospectrum:generate_spectrum:88]: Spherical model atmosphere with radius 3.65e+11 cm\n",
      "[2023-01-06 19:43:02,031] [INFO] [turbospectrum:generate_spectrum:88]: Spherical model atmosphere with radius 3.65e+11 cm\n"
     ]
    },
    {
     "name": "stdout",
     "output_type": "stream",
     "text": [
      "[finished] 5750 5.0 0.5 0.0 1.0 0.0 0.0 0.0 0\n",
      "[started] 6000 3.0 0.0 0.0 1.66 0.0 0.0 0.0 0\n"
     ]
    },
    {
     "name": "stderr",
     "output_type": "stream",
     "text": [
      "[2023-01-06 19:43:04,514] [INFO] [turbospectrum:generate_spectrum:88]: Spherical model atmosphere with radius 3.65e+11 cm\n"
     ]
    },
    {
     "name": "stdout",
     "output_type": "stream",
     "text": [
      "[finished] 5750 5.0 0.5 0.4 1.0 0.0 0.0 0.0 0\n",
      "[started] 6000 3.0 0.0 0.4 1.66 0.0 0.0 0.0 0\n"
     ]
    },
    {
     "name": "stderr",
     "output_type": "stream",
     "text": [
      "[2023-01-06 19:43:04,896] [INFO] [turbospectrum:generate_spectrum:88]: Spherical model atmosphere with radius 3.65e+11 cm\n"
     ]
    },
    {
     "name": "stdout",
     "output_type": "stream",
     "text": [
      "[finished] 6000 3.0 -1.0 0.0 1.62 0.0 0.0 0.0 0\n",
      "[started] 6000 3.0 0.25 0.0 1.68 0.0 0.0 0.0 0\n"
     ]
    },
    {
     "name": "stderr",
     "output_type": "stream",
     "text": [
      "[2023-01-06 19:44:25,010] [INFO] [turbospectrum:generate_spectrum:88]: Spherical model atmosphere with radius 3.65e+11 cm\n"
     ]
    },
    {
     "name": "stdout",
     "output_type": "stream",
     "text": [
      "[finished] 6000 3.0 -1.0 0.4 1.62 0.0 0.0 0.0 0\n",
      "[started] 6000 3.0 0.25 0.4 1.68 0.0 0.0 0.0 0\n"
     ]
    },
    {
     "name": "stderr",
     "output_type": "stream",
     "text": [
      "[2023-01-06 19:44:26,424] [INFO] [turbospectrum:generate_spectrum:88]: Spherical model atmosphere with radius 3.65e+11 cm\n"
     ]
    },
    {
     "name": "stdout",
     "output_type": "stream",
     "text": [
      "[finished] 6000 3.0 -0.75 0.0 1.63 0.0 0.0 0.0 0\n",
      "[started] 6000 3.0 0.5 0.0 1.69 0.0 0.0 0.0 0\n"
     ]
    },
    {
     "name": "stderr",
     "output_type": "stream",
     "text": [
      "[2023-01-06 19:44:26,637] [INFO] [turbospectrum:generate_spectrum:88]: Spherical model atmosphere with radius 3.65e+11 cm\n"
     ]
    },
    {
     "name": "stdout",
     "output_type": "stream",
     "text": [
      "[finished] 6000 3.0 -0.75 0.4 1.63 0.0 0.0 0.0 0\n",
      "[started] 6000 3.0 0.5 0.4 1.69 0.0 0.0 0.0 0\n"
     ]
    },
    {
     "name": "stderr",
     "output_type": "stream",
     "text": [
      "[2023-01-06 19:44:28,632] [INFO] [turbospectrum:generate_spectrum:88]: Spherical model atmosphere with radius 3.65e+11 cm\n"
     ]
    },
    {
     "name": "stdout",
     "output_type": "stream",
     "text": [
      "[finished] 6000 3.0 -0.5 0.4 1.64 0.0 0.0 0.0 0\n",
      "[started] 6000 3.5 -1.0 0.0 1.24 0.0 0.0 0.0 0\n"
     ]
    },
    {
     "name": "stderr",
     "output_type": "stream",
     "text": [
      "[2023-01-06 19:44:41,128] [INFO] [turbospectrum:generate_spectrum:88]: Spherical model atmosphere with radius 2.05e+11 cm\n"
     ]
    },
    {
     "name": "stdout",
     "output_type": "stream",
     "text": [
      "[finished] 6000 3.0 -0.5 0.0 1.64 0.0 0.0 0.0 0\n",
      "[started] 6000 3.5 -1.0 0.4 1.24 0.0 0.0 0.0 0\n"
     ]
    },
    {
     "name": "stderr",
     "output_type": "stream",
     "text": [
      "[2023-01-06 19:44:41,585] [INFO] [turbospectrum:generate_spectrum:88]: Spherical model atmosphere with radius 2.05e+11 cm\n"
     ]
    },
    {
     "name": "stdout",
     "output_type": "stream",
     "text": [
      "[finished] 6000 3.0 -0.25 0.4 1.65 0.0 0.0 0.0 0\n",
      "[started] 6000 3.5 -0.75 0.0 1.25 0.0 0.0 0.0 0\n"
     ]
    },
    {
     "name": "stderr",
     "output_type": "stream",
     "text": [
      "[2023-01-06 19:44:41,724] [INFO] [turbospectrum:generate_spectrum:88]: Spherical model atmosphere with radius 2.05e+11 cm\n"
     ]
    },
    {
     "name": "stdout",
     "output_type": "stream",
     "text": [
      "[finished] 6000 3.0 -0.25 0.0 1.65 0.0 0.0 0.0 0\n",
      "[started] 6000 3.5 -0.75 0.4 1.25 0.0 0.0 0.0 0\n"
     ]
    },
    {
     "name": "stderr",
     "output_type": "stream",
     "text": [
      "[2023-01-06 19:44:41,954] [INFO] [turbospectrum:generate_spectrum:88]: Spherical model atmosphere with radius 2.05e+11 cm\n"
     ]
    },
    {
     "name": "stdout",
     "output_type": "stream",
     "text": [
      "[finished] 6000 3.0 0.0 0.0 1.66 0.0 0.0 0.0 0\n",
      "[started] 6000 3.5 -0.5 0.0 1.26 0.0 0.0 0.0 0\n"
     ]
    },
    {
     "name": "stderr",
     "output_type": "stream",
     "text": [
      "[2023-01-06 19:44:44,299] [INFO] [turbospectrum:generate_spectrum:88]: Spherical model atmosphere with radius 2.05e+11 cm\n"
     ]
    },
    {
     "name": "stdout",
     "output_type": "stream",
     "text": [
      "[finished] 6000 3.0 0.0 0.4 1.66 0.0 0.0 0.0 0\n",
      "[started] 6000 3.5 -0.5 0.4 1.26 0.0 0.0 0.0 0\n"
     ]
    },
    {
     "name": "stderr",
     "output_type": "stream",
     "text": [
      "[2023-01-06 19:44:44,594] [INFO] [turbospectrum:generate_spectrum:88]: Spherical model atmosphere with radius 2.05e+11 cm\n"
     ]
    },
    {
     "name": "stdout",
     "output_type": "stream",
     "text": [
      "[finished] 6000 3.0 0.25 0.0 1.68 0.0 0.0 0.0 0\n",
      "[started] 6000 3.5 -0.25 0.0 1.27 0.0 0.0 0.0 0\n"
     ]
    },
    {
     "name": "stderr",
     "output_type": "stream",
     "text": [
      "[2023-01-06 19:46:05,533] [INFO] [turbospectrum:generate_spectrum:88]: Spherical model atmosphere with radius 2.05e+11 cm\n"
     ]
    },
    {
     "name": "stdout",
     "output_type": "stream",
     "text": [
      "[finished] 6000 3.0 0.5 0.0 1.69 0.0 0.0 0.0 0\n",
      "[started] 6000 3.5 -0.25 0.4 1.27 0.0 0.0 0.0 0\n"
     ]
    },
    {
     "name": "stderr",
     "output_type": "stream",
     "text": [
      "[2023-01-06 19:46:06,120] [INFO] [turbospectrum:generate_spectrum:88]: Spherical model atmosphere with radius 2.05e+11 cm\n"
     ]
    },
    {
     "name": "stdout",
     "output_type": "stream",
     "text": [
      "[finished] 6000 3.0 0.25 0.4 1.68 0.0 0.0 0.0 0\n",
      "[started] 6000 3.5 0.0 0.0 1.28 0.0 0.0 0.0 0\n"
     ]
    },
    {
     "name": "stderr",
     "output_type": "stream",
     "text": [
      "[2023-01-06 19:46:06,532] [INFO] [turbospectrum:generate_spectrum:88]: Spherical model atmosphere with radius 2.05e+11 cm\n"
     ]
    },
    {
     "name": "stdout",
     "output_type": "stream",
     "text": [
      "[finished] 6000 3.0 0.5 0.4 1.69 0.0 0.0 0.0 0\n",
      "[started] 6000 3.5 0.0 0.4 1.28 0.0 0.0 0.0 0\n"
     ]
    },
    {
     "name": "stderr",
     "output_type": "stream",
     "text": [
      "[2023-01-06 19:46:09,054] [INFO] [turbospectrum:generate_spectrum:88]: Spherical model atmosphere with radius 2.05e+11 cm\n"
     ]
    },
    {
     "name": "stdout",
     "output_type": "stream",
     "text": [
      "[finished] 6000 3.5 -1.0 0.0 1.24 0.0 0.0 0.0 0\n",
      "[started] 6000 3.5 0.25 0.0 1.29 0.0 0.0 0.0 0\n"
     ]
    },
    {
     "name": "stderr",
     "output_type": "stream",
     "text": [
      "[2023-01-06 19:46:19,797] [INFO] [turbospectrum:generate_spectrum:88]: Spherical model atmosphere with radius 2.05e+11 cm\n"
     ]
    },
    {
     "name": "stdout",
     "output_type": "stream",
     "text": [
      "[finished] 6000 3.5 -0.75 0.0 1.25 0.0 0.0 0.0 0\n",
      "[started] 6000 3.5 0.25 0.4 1.29 0.0 0.0 0.0 0\n"
     ]
    },
    {
     "name": "stderr",
     "output_type": "stream",
     "text": [
      "[2023-01-06 19:46:20,930] [INFO] [turbospectrum:generate_spectrum:88]: Spherical model atmosphere with radius 2.05e+11 cm\n"
     ]
    },
    {
     "name": "stdout",
     "output_type": "stream",
     "text": [
      "[finished] 6000 3.5 -1.0 0.4 1.24 0.0 0.0 0.0 0\n",
      "[started] 6000 3.5 0.5 0.0 1.31 0.0 0.0 0.0 0\n"
     ]
    },
    {
     "name": "stderr",
     "output_type": "stream",
     "text": [
      "[2023-01-06 19:46:21,959] [INFO] [turbospectrum:generate_spectrum:88]: Spherical model atmosphere with radius 2.05e+11 cm\n"
     ]
    },
    {
     "name": "stdout",
     "output_type": "stream",
     "text": [
      "[finished] 6000 3.5 -0.75 0.4 1.25 0.0 0.0 0.0 0\n",
      "[started] 6000 3.5 0.5 0.4 1.31 0.0 0.0 0.0 0\n"
     ]
    },
    {
     "name": "stderr",
     "output_type": "stream",
     "text": [
      "[2023-01-06 19:46:22,201] [INFO] [turbospectrum:generate_spectrum:88]: Spherical model atmosphere with radius 2.05e+11 cm\n"
     ]
    },
    {
     "name": "stdout",
     "output_type": "stream",
     "text": [
      "[finished] 6000 3.5 -0.5 0.4 1.26 0.0 0.0 0.0 0\n",
      "[started] 6000 4.0[finished]  -1.06000  3.50.0  -0.51.17 0.0  0.01.26  0.00.0  0.00.0  0\n",
      "0.0 0\n",
      "[started] 6000 4.0 -1.0 0.4 1.17 0.0 0.0 0.0 0\n",
      "[finished] 6000 3.5 -0.25 0.4 1.27 0.0 0.0 0.0 0\n",
      "[started] 6000 4.0 -0.75 0.0 1.18 0.0 0.0 0.0 0\n",
      "[finished] 6000 4.0 -1.0 0.4 1.17 0.0 0.0 0.0 0\n",
      "[started] 6000 4.0 -0.75 0.4 1.18 0.0 0.0 0.0 0\n",
      "[finished] 6000 4.0 -1.0 0.0 1.17 0.0 0.0 0.0 0\n",
      "[started] 6000 4.0 -0.5 0.0 1.19 0.0 0.0 0.0 0\n",
      "[finished] 6000 3.5 -0.25 0.0 1.27 0.0 0.0 0.0 0\n",
      "[started] 6000 4.0 -0.5 0.4 1.19 0.0 0.0 0.0 0\n",
      "[finished] 6000 3.5 0.0 0.0 1.28 0.0 0.0 0.0 0\n",
      "[started] 6000 4.0 -0.25 0.0 1.2 0.0 0.0 0.0 0\n",
      "[finished] 6000 3.5 0.0 0.4 1.28 0.0 0.0 0.0 0\n",
      "[started] 6000 4.0 -0.25 0.4 1.2 0.0 0.0 0.0 0\n",
      "[finished] 6000 3.5 0.25 0.0 1.29 0.0 0.0 0.0 0\n",
      "[started] 6000 4.0 0.0 0.0 1.21 0.0 0.0 0.0 0\n",
      "[finished] 6000 3.5 0.25 0.4 1.29 0.0 0.0 0.0 0\n",
      "[started] 6000 4.0 0.0 0.4 1.21 0.0 0.0 0.0 0\n",
      "[finished] 6000 3.5 0.5 0.0 1.31 0.0 0.0 0.0 0\n",
      "[started] 6000 4.0 0.25 0.0 1.23 0.0 0.0 0.0 0\n",
      "[finished] 6000 3.5 0.5 0.4 1.31 0.0 0.0 0.0 0\n",
      "[started] 6000 4.0 0.25 0.4 1.23 0.0 0.0 0.0 0\n",
      "[finished] 6000 4.0 -0.75 0.0 1.18 0.0 0.0 0.0 0\n",
      "[started] 6000 4.0 0.5 0.0 1.24 0.0 0.0 0.0 0\n",
      "[finished] 6000 4.0 -0.5 0.0 1.19 0.0 0.0 0.0 0\n",
      "[started] 6000 4.0 0.5 0.4 1.24 0.0 0.0 0.0 0\n",
      "[finished] 6000 4.0 -0.75 0.4 1.18 0.0 0.0 0.0 0\n",
      "[started] 6000 4.5 -1.0 0.0 1.1 0.0 0.0 0.0 0\n",
      "[finished] 6000 4.0 -0.5 0.4 1.19 0.0 0.0 0.0 0\n",
      "[started] 6000 4.5 -1.0 0.4 1.1 0.0 0.0 0.0 0\n",
      "[finished] 6000 4.0 -0.25 0.0 1.2 0.0 0.0 0.0 0\n",
      "[started] 6000 4.5 -0.75 0.0 1.11 0.0 0.0 0.0 0\n",
      "[finished] 6000 4.0 -0.25 0.4 1.2 0.0 0.0 0.0 0\n",
      "[started] 6000 4.5 -0.75 0.4 1.11 0.0 0.0 0.0 0\n",
      "[finished] 6000 4.0 0.0 0.0 1.21 0.0 0.0 0.0 0\n",
      "[started] 6000 4.5 -0.5 0.0 1.12 0.0 0.0 0.0 0\n",
      "[finished] 6000 4.0 0.0 0.4 1.21 0.0 0.0 0.0 0\n",
      "[started] 6000 4.5 -0.5 0.4 1.12 0.0 0.0 0.0 0\n",
      "[finished] 6000 4.0 0.25 0.4 1.23 0.0 0.0 0.0 0\n",
      "[started] 6000 4.5 -0.25 0.0 1.13 0.0 0.0 0.0 0\n",
      "[finished] 6000 4.0 0.25 0.0 1.23 0.0 0.0 0.0 0\n",
      "[started] 6000 4.5 -0.25 0.4 1.13 0.0 0.0 0.0 0\n",
      "[finished] 6000 4.5 -1.0 0.0 1.1 0.0 0.0 0.0 0\n",
      "[started] 6000 4.5 0.0 0.0 1.14 0.0 0.0 0.0 0\n",
      "[finished] 6000 4.0 0.5 0.0 1.24 0.0 0.0 0.0 0\n",
      "[started] 6000 4.5 0.0 0.4 1.14 0.0 0.0 0.0 0\n",
      "[finished] 6000 4.0 0.5 0.4 1.24 0.0 0.0 0.0 0\n",
      "[started] 6000 4.5 0.25 0.0 1.15 0.0 0.0 0.0 0\n",
      "[finished] 6000 4.5 -1.0 0.4 1.1 0.0 0.0 0.0 0\n",
      "[started] 6000 4.5 0.25 0.4 1.15 0.0 0.0 0.0 0\n",
      "[finished] 6000 4.5 -0.75 0.0 1.11 0.0 0.0 0.0 0\n",
      "[started] 6000 4.5 0.5 0.0 1.17 0.0 0.0 0.0 0\n",
      "[finished] 6000 4.5 -0.75 0.4 1.11 0.0 0.0 0.0 0\n",
      "[started] 6000 4.5 0.5 0.4 1.17 0.0 0.0 0.0 0\n",
      "[finished] 6000 4.5 -0.5 0.0 1.12 0.0 0.0 0.0 0\n",
      "[started] 6000 5.0 -1.0 0.0 1.03 0.0 0.0 0.0 0\n",
      "[finished] 6000 4.5 -0.5 0.4 1.12 0.0 0.0 0.0 0\n",
      "[started] 6000 5.0 -1.0 0.4 1.03 0.0 0.0 0.0 0\n",
      "[finished] 6000 4.5 -0.25 0.0 1.13 0.0 0.0 0.0 0\n",
      "[started] 6000 5.0 -0.75 0.0 1.04 0.0 0.0 0.0 0\n",
      "[finished] 6000 4.5 -0.25 0.4 1.13 0.0 0.0 0.0 0\n",
      "[started] 6000 5.0 -0.75 0.4 1.04 0.0 0.0 0.0 0\n",
      "[finished] 6000 4.5 0.0 0.0 1.14 0.0 0.0 0.0 0\n",
      "[started] 6000 5.0 -0.5 0.0 1.05 0.0 0.0 0.0 0\n",
      "[finished] 6000 4.5 0.0 0.4 1.14 0.0 0.0 0.0 0\n",
      "[started] 6000 5.0 -0.5 0.4 1.05 0.0 0.0 0.0 0\n",
      "[finished] 6000 4.5 0.25 0.0 1.15 0.0 0.0 0.0 0\n",
      "[started] 6000 5.0 -0.25 0.0 1.06 0.0 0.0 0.0 0\n",
      "[finished] 6000 4.5 0.25 0.4 1.15 0.0 0.0 0.0 0\n",
      "[started] 6000 5.0 -0.25 0.4 1.06 0.0 0.0 0.0 0\n",
      "[finished] 6000 4.5 0.5 0.4 1.17 0.0 0.0 0.0 0\n",
      "[started] 6000 5.0 0.0 0.0[finished]  6000 1.074.5  0.00.5  0.00.0  1.17 0.0 0.0 0.00 \n",
      "0.0 0\n",
      "[started] 6000 5.0 0.0 0.4 1.07 0.0 0.0 0.0 0\n",
      "[finished] 6000 5.0 -1.0 0.0 1.03 0.0 0.0 0.0 0\n",
      "[started] 6000 5.0 0.25 0.0 1.08 0.0 0.0 0.0 0\n",
      "[finished] 6000 5.0 -1.0 0.4 1.03 0.0 0.0 0.0 0\n",
      "[started] 6000 5.0 0.25 0.4 1.08 0.0 0.0 0.0 0\n",
      "[finished] 6000 5.0 -0.75 0.4 1.04 0.0 0.0 0.0 0\n",
      "[started] 6000 5.0 0.5 0.0 1.1 0.0 0.0 0.0 0\n",
      "[finished] 6000 5.0 -0.75 0.0 1.04 0.0 0.0 0.0 0\n",
      "[started] 6000 5.0 0.5 0.4 1.1 0.0 0.0 0.0 0\n",
      "[finished][finished]  60006000 5.0 5.0 -0.5  -0.50.4  1.05 0.00.0  1.050.0  0.00.0  00.0\n",
      " 0.0 0\n",
      "[started] 6250 3.0 -1.0 0.0[started]  1.826250  3.0 -1.00.0  0.40.0  0.0 1.820 \n",
      "0.0 0.0 0.0 0\n"
     ]
    },
    {
     "name": "stderr",
     "output_type": "stream",
     "text": [
      "[2023-01-06 19:53:14,805] [INFO] [turbospectrum:generate_spectrum:88]: Spherical model atmosphere with radius 3.65e+11 cm\n",
      "[2023-01-06 19:53:14,805] [INFO] [turbospectrum:generate_spectrum:88]: Spherical model atmosphere with radius 3.65e+11 cm\n"
     ]
    },
    {
     "name": "stdout",
     "output_type": "stream",
     "text": [
      "[finished] 6000 5.0 -0.25 0.0 1.06 0.0 0.0 0.0 0\n",
      "[started] 6250 3.0 -0.75 0.0 1.83 0.0 0.0 0.0 0\n"
     ]
    },
    {
     "name": "stderr",
     "output_type": "stream",
     "text": [
      "[2023-01-06 19:53:16,510] [INFO] [turbospectrum:generate_spectrum:88]: Spherical model atmosphere with radius 3.65e+11 cm\n"
     ]
    },
    {
     "name": "stdout",
     "output_type": "stream",
     "text": [
      "[finished] 6000 5.0 -0.25 0.4 1.06 0.0 0.0 0.0 0\n",
      "[started] 6250 3.0 -0.75 0.4 1.83 0.0 0.0 0.0 0\n"
     ]
    },
    {
     "name": "stderr",
     "output_type": "stream",
     "text": [
      "[2023-01-06 19:53:16,991] [INFO] [turbospectrum:generate_spectrum:88]: Spherical model atmosphere with radius 3.65e+11 cm\n"
     ]
    },
    {
     "name": "stdout",
     "output_type": "stream",
     "text": [
      "[finished] 6000 5.0 0.0 0.4 1.07 0.0 0.0 0.0 0\n",
      "[started] 6250 3.0 -0.5 0.0 1.84 0.0 0.0 0.0 0\n"
     ]
    },
    {
     "name": "stderr",
     "output_type": "stream",
     "text": [
      "[2023-01-06 19:53:18,774] [INFO] [turbospectrum:generate_spectrum:88]: Spherical model atmosphere with radius 3.65e+11 cm\n"
     ]
    },
    {
     "name": "stdout",
     "output_type": "stream",
     "text": [
      "[finished] 6000 5.0 0.0 0.0 1.07 0.0 0.0 0.0 0\n",
      "[started] 6250 3.0 -0.5 0.4 1.84 0.0 0.0 0.0 0\n"
     ]
    },
    {
     "name": "stderr",
     "output_type": "stream",
     "text": [
      "[2023-01-06 19:53:19,214] [INFO] [turbospectrum:generate_spectrum:88]: Spherical model atmosphere with radius 3.65e+11 cm\n"
     ]
    },
    {
     "name": "stdout",
     "output_type": "stream",
     "text": [
      "[finished] 6000 5.0 0.25 0.0 1.08 0.0 0.0 0.0 0\n",
      "[started] 6250 3.0 -0.25 0.0 1.85 0.0 0.0 0.0 0\n"
     ]
    },
    {
     "name": "stderr",
     "output_type": "stream",
     "text": [
      "[2023-01-06 19:53:29,622] [INFO] [turbospectrum:generate_spectrum:88]: Spherical model atmosphere with radius 3.65e+11 cm\n"
     ]
    },
    {
     "name": "stdout",
     "output_type": "stream",
     "text": [
      "[finished] 6000 5.0 0.25 0.4 1.08 0.0 0.0 0.0 0\n",
      "[started] 6250 3.0 -0.25 0.4 1.85 0.0 0.0 0.0 0\n"
     ]
    },
    {
     "name": "stderr",
     "output_type": "stream",
     "text": [
      "[2023-01-06 19:53:32,311] [INFO] [turbospectrum:generate_spectrum:88]: Spherical model atmosphere with radius 3.65e+11 cm\n"
     ]
    },
    {
     "name": "stdout",
     "output_type": "stream",
     "text": [
      "[finished] 6000 5.0 0.5 0.0 1.1 0.0 0.0 0.0 0\n",
      "[started] 6250 3.0 0.0 0.0 1.86 0.0 0.0 0.0 0\n"
     ]
    },
    {
     "name": "stderr",
     "output_type": "stream",
     "text": [
      "[2023-01-06 19:53:36,679] [INFO] [turbospectrum:generate_spectrum:88]: Spherical model atmosphere with radius 3.65e+11 cm\n"
     ]
    },
    {
     "name": "stdout",
     "output_type": "stream",
     "text": [
      "[finished] 6000 5.0 0.5 0.4 1.1 0.0 0.0 0.0 0\n",
      "[started] 6250 3.0 0.0 0.4 1.86 0.0 0.0 0.0 0\n"
     ]
    },
    {
     "name": "stderr",
     "output_type": "stream",
     "text": [
      "[2023-01-06 19:53:38,849] [INFO] [turbospectrum:generate_spectrum:88]: Spherical model atmosphere with radius 3.65e+11 cm\n"
     ]
    },
    {
     "name": "stdout",
     "output_type": "stream",
     "text": [
      "[finished] 6250 3.0 -1.0 0.4 1.82 0.0 0.0 0.0 0\n",
      "[started] 6250 3.0 0.25 0.0 1.87 0.0 0.0 0.0 0\n"
     ]
    },
    {
     "name": "stderr",
     "output_type": "stream",
     "text": [
      "[2023-01-06 19:54:54,976] [INFO] [turbospectrum:generate_spectrum:88]: Spherical model atmosphere with radius 3.65e+11 cm\n"
     ]
    },
    {
     "name": "stdout",
     "output_type": "stream",
     "text": [
      "[finished] 6250 3.0 -1.0 0.0 1.82 0.0 0.0 0.0 0\n",
      "[started] 6250 3.0 0.25 0.4 1.87 0.0 0.0 0.0 0\n"
     ]
    },
    {
     "name": "stderr",
     "output_type": "stream",
     "text": [
      "[2023-01-06 19:54:55,170] [INFO] [turbospectrum:generate_spectrum:88]: Spherical model atmosphere with radius 3.65e+11 cm\n"
     ]
    },
    {
     "name": "stdout",
     "output_type": "stream",
     "text": [
      "[finished] 6250 3.0 -0.75 0.4 1.83 0.0 0.0 0.0 0\n",
      "[started] 6250 3.0 0.5 0.0 1.89 0.0 0.0 0.0 0\n"
     ]
    },
    {
     "name": "stderr",
     "output_type": "stream",
     "text": [
      "[2023-01-06 19:54:56,810] [INFO] [turbospectrum:generate_spectrum:88]: Spherical model atmosphere with radius 3.65e+11 cm\n"
     ]
    },
    {
     "name": "stdout",
     "output_type": "stream",
     "text": [
      "[finished] 6250 3.0 -0.75 0.0 1.83 0.0 0.0 0.0 0\n",
      "[started] 6250 3.0 0.5 0.4 1.89 0.0 0.0 0.0 0\n"
     ]
    },
    {
     "name": "stderr",
     "output_type": "stream",
     "text": [
      "[2023-01-06 19:54:57,216] [INFO] [turbospectrum:generate_spectrum:88]: Spherical model atmosphere with radius 3.65e+11 cm\n"
     ]
    },
    {
     "name": "stdout",
     "output_type": "stream",
     "text": [
      "[finished] 6250 3.0 -0.5 0.0 1.84 0.0 0.0 0.0 0\n",
      "[started] 6250 3.5 -1.0 0.0 1.35 0.0 0.0 0.0 0\n"
     ]
    },
    {
     "name": "stderr",
     "output_type": "stream",
     "text": [
      "[2023-01-06 19:54:58,770] [INFO] [turbospectrum:generate_spectrum:88]: Spherical model atmosphere with radius 2.05e+11 cm\n"
     ]
    },
    {
     "name": "stdout",
     "output_type": "stream",
     "text": [
      "[finished] 6250 3.0 -0.5 0.4 1.84 0.0 0.0 0.0 0\n",
      "[started] 6250 3.5 -1.0 0.4 1.35 0.0 0.0 0.0 0\n"
     ]
    },
    {
     "name": "stderr",
     "output_type": "stream",
     "text": [
      "[2023-01-06 19:54:59,992] [INFO] [turbospectrum:generate_spectrum:88]: Spherical model atmosphere with radius 2.05e+11 cm\n"
     ]
    },
    {
     "name": "stdout",
     "output_type": "stream",
     "text": [
      "[finished] 6250 3.0 -0.25 0.0 1.85 0.0 0.0 0.0 0\n",
      "[started] 6250 3.5 -0.75 0.0 1.36 0.0 0.0 0.0 0\n"
     ]
    },
    {
     "name": "stderr",
     "output_type": "stream",
     "text": [
      "[2023-01-06 19:55:10,718] [INFO] [turbospectrum:generate_spectrum:88]: Spherical model atmosphere with radius 2.05e+11 cm\n"
     ]
    },
    {
     "name": "stdout",
     "output_type": "stream",
     "text": [
      "[finished] 6250 3.0 -0.25 0.4 1.85 0.0 0.0 0.0 0\n",
      "[started] 6250 3.5 -0.75 0.4 1.36 0.0 0.0 0.0 0\n"
     ]
    },
    {
     "name": "stderr",
     "output_type": "stream",
     "text": [
      "[2023-01-06 19:55:13,139] [INFO] [turbospectrum:generate_spectrum:88]: Spherical model atmosphere with radius 2.05e+11 cm\n"
     ]
    },
    {
     "name": "stdout",
     "output_type": "stream",
     "text": [
      "[finished] 6250 3.0 0.0 0.0 1.86 0.0 0.0 0.0 0\n",
      "[started] 6250 3.5 -0.5 0.0 1.37 0.0 0.0 0.0 0\n"
     ]
    },
    {
     "name": "stderr",
     "output_type": "stream",
     "text": [
      "[2023-01-06 19:55:16,839] [INFO] [turbospectrum:generate_spectrum:88]: Spherical model atmosphere with radius 2.05e+11 cm\n"
     ]
    },
    {
     "name": "stdout",
     "output_type": "stream",
     "text": [
      "[finished] 6250 3.0 0.0 0.4 1.86 0.0 0.0 0.0 0\n",
      "[started] 6250 3.5 -0.5 0.4 1.37 0.0 0.0 0.0 0\n"
     ]
    },
    {
     "name": "stderr",
     "output_type": "stream",
     "text": [
      "[2023-01-06 19:55:18,773] [INFO] [turbospectrum:generate_spectrum:88]: Spherical model atmosphere with radius 2.05e+11 cm\n"
     ]
    },
    {
     "name": "stdout",
     "output_type": "stream",
     "text": [
      "[finished] 6250 3.0 0.25 0.0 1.87 0.0 0.0 0.0 0\n",
      "[started] 6250 3.5 -0.25 0.0 1.38 0.0 0.0[finished]  0.06250 3.0  00.25\n",
      " 0.4 1.87 0.0 0.0 0.0 0\n",
      "[started] 6250 3.5 -0.25 0.4 1.38 0.0 0.0 0.0 0\n"
     ]
    },
    {
     "name": "stderr",
     "output_type": "stream",
     "text": [
      "[2023-01-06 19:56:35,924] [INFO] [turbospectrum:generate_spectrum:88]: Spherical model atmosphere with radius 2.05e+11 cm\n",
      "[2023-01-06 19:56:35,966] [INFO] [turbospectrum:generate_spectrum:88]: Spherical model atmosphere with radius 2.05e+11 cm\n"
     ]
    },
    {
     "name": "stdout",
     "output_type": "stream",
     "text": [
      "[finished] 6250 3.0 0.5 0.0 1.89 0.0 0.0 0.0 0\n",
      "[started] 6250 3.5 0.0 0.0 1.39 0.0 0.0 0.0 0\n"
     ]
    },
    {
     "name": "stderr",
     "output_type": "stream",
     "text": [
      "[2023-01-06 19:56:37,364] [INFO] [turbospectrum:generate_spectrum:88]: Spherical model atmosphere with radius 2.05e+11 cm\n"
     ]
    },
    {
     "name": "stdout",
     "output_type": "stream",
     "text": [
      "[finished] 6250 3.0 0.5 0.4 1.89 0.0 0.0 0.0 0\n",
      "[started] 6250 3.5 0.0 0.4[finished]  62501.39  3.5 -1.00.0  0.00.0  1.350.0 0.0 0.0 0.0 0\n",
      " 0\n",
      "[started] 6250 3.5 0.25 0.0 1.4 0.0 0.0 0.0 0\n"
     ]
    },
    {
     "name": "stderr",
     "output_type": "stream",
     "text": [
      "[2023-01-06 19:56:38,563] [INFO] [turbospectrum:generate_spectrum:88]: Spherical model atmosphere with radius 2.05e+11 cm\n",
      "[2023-01-06 19:56:38,588] [INFO] [turbospectrum:generate_spectrum:88]: Spherical model atmosphere with radius 2.05e+11 cm\n"
     ]
    },
    {
     "name": "stdout",
     "output_type": "stream",
     "text": [
      "[finished] 6250 3.5 -1.0 0.4 1.35 0.0 0.0 0.0 0\n",
      "[started] 6250 3.5 0.25 0.4 1.4 0.0 0.0 0.0 0\n"
     ]
    },
    {
     "name": "stderr",
     "output_type": "stream",
     "text": [
      "[2023-01-06 19:56:40,651] [INFO] [turbospectrum:generate_spectrum:88]: Spherical model atmosphere with radius 2.05e+11 cm\n"
     ]
    },
    {
     "name": "stdout",
     "output_type": "stream",
     "text": [
      "[finished] 6250 3.5 -0.75 0.0 1.36 0.0 0.0 0.0 0\n",
      "[started] 6250 3.5 0.5 0.0 1.42 0.0 0.0 0.0 0\n"
     ]
    },
    {
     "name": "stderr",
     "output_type": "stream",
     "text": [
      "[2023-01-06 19:56:51,616] [INFO] [turbospectrum:generate_spectrum:88]: Spherical model atmosphere with radius 2.05e+11 cm\n"
     ]
    },
    {
     "name": "stdout",
     "output_type": "stream",
     "text": [
      "[finished] 6250 3.5 -0.75 0.4 1.36 0.0 0.0 0.0 0\n",
      "[started] 6250 3.5 0.5 0.4 1.42 0.0 0.0 0.0 0\n"
     ]
    },
    {
     "name": "stderr",
     "output_type": "stream",
     "text": [
      "[2023-01-06 19:56:54,469] [INFO] [turbospectrum:generate_spectrum:88]: Spherical model atmosphere with radius 2.05e+11 cm\n"
     ]
    },
    {
     "name": "stdout",
     "output_type": "stream",
     "text": [
      "[finished] 6250 3.5 -0.5 0.0 1.37 0.0 0.0 0.0 0\n",
      "[started] 6250 4.0 -1.0 0.0 1.28 0.0 0.0 0.0 0\n",
      "[finished] 6250 3.5 -0.5 0.4 1.37 0.0 0.0 0.0 0\n",
      "[started] 6250 4.0 -1.0 0.4 1.28 0.0 0.0 0.0 0\n",
      "[finished] 6250 3.5 -0.25 0.0 1.38 0.0 0.0 0.0 0\n",
      "[started] 6250 4.0 -0.75 0.0 1.29 0.0 0.0 0.0 0\n",
      "[finished] 6250 3.5 -0.25 0.4 1.38 0.0 0.0 0.0 0\n",
      "[started] 6250 4.0 -0.75 0.4 1.29 0.0 0.0 0.0 0\n",
      "[finished] 6250 3.5 0.0 0.0 1.39 0.0 0.0 0.0 0\n",
      "[started] 6250 4.0 -0.5 0.0 1.3 0.0 0.0 0.0 0\n",
      "[finished] 6250 3.5 0.25 0.0 1.4 0.0 0.0 0.0 0\n",
      "[started] 6250 4.0 -0.5 0.4 1.3 0.0 0.0 0.0 0\n",
      "[finished] 6250 3.5 0.0 0.4 1.39 0.0 0.0 0.0 0\n",
      "[started] 6250 4.0 -0.25 0.0 1.31 0.0 0.0 0.0 0\n",
      "[finished] 6250 4.0 -1.0 0.0 1.28 0.0 0.0 0.0 0\n",
      "[started] 6250 4.0 -0.25 0.4 1.31 0.0 0.0 0.0 0\n",
      "[finished] 6250 3.5 0.25 0.4 1.4 0.0 0.0 0.0 0\n",
      "[started] 6250 4.0 0.0 0.0 1.32 0.0 0.0 0.0 0\n",
      "[finished] 6250 4.0 -1.0 0.4 1.28 0.0 0.0 0.0 0\n",
      "[started] 6250 4.0 0.0 0.4 1.32 0.0 0.0 0.0 0\n",
      "[finished] 6250 3.5 0.5 0.0 1.42 0.0 0.0 0.0 0\n",
      "[started] 6250 4.0 0.25 0.0 1.34 0.0 0.0 0.0 0\n",
      "[finished] 6250 3.5 0.5 0.4 1.42 0.0 0.0 0.0 0\n",
      "[started] 6250 4.0 0.25 0.4 1.34 0.0 0.0 0.0 0\n",
      "[finished] 6250 4.0 -0.75 0.4 1.29 0.0 0.0 0.0 0\n",
      "[started] 6250 4.0 0.5 0.0 1.35 0.0 0.0 0.0 0\n",
      "[finished] 6250 4.0 -0.75 0.0 1.29 0.0 0.0 0.0 0\n",
      "[started] 6250 4.0 0.5 0.4 1.35 0.0 0.0 0.0 0\n",
      "[finished] 6250 4.0 -0.5 0.0 1.3 0.0 0.0 0.0 0\n",
      "[started] 6250 4.5 -1.0 0.0 1.21 0.0 0.0 0.0 0\n",
      "[finished] 6250 4.0 -0.25 0.0 1.31 0.0 0.0 0.0 0\n",
      "[started] 6250 [finished]4.5 6250 4.0 -0.5 0.4  -1.01.3 0.0 0.4 0.0  0.01.21  00.0\n",
      " 0.0 0.0 0\n",
      "[started] 6250 4.5 -0.75 0.0 1.22 0.0 0.0 0.0 0\n",
      "[finished] 6250 4.0 -0.25 0.4 1.31 0.0 0.0 0.0 0\n",
      "[started] 6250 4.5 -0.75 0.4 1.22 0.0 0.0 0.0 0\n",
      "[finished] 6250 4.0 0.0 0.4 1.32 0.0 0.0 0.0 0\n",
      "[started] 6250 4.5 -0.5 0.0 1.23 0.0 0.0 0.0 0\n",
      "[finished] 6250 4.0 0.0 0.0 1.32 0.0 0.0 0.0 0\n",
      "[started] 6250 4.5 -0.5 0.4 1.23 0.0 0.0 0.0 0\n",
      "[finished] 6250 4.0 0.25 0.0 1.34 0.0 0.0 0.0 0\n",
      "[started] 6250 4.5 -0.25 0.0 1.24 0.0 0.0 0.0 0\n",
      "[finished] 6250 4.0 0.25 0.4 1.34 0.0 0.0 0.0 0\n",
      "[started] 6250 4.5 -0.25 0.4 1.24 0.0 0.0 0.0 0\n",
      "[finished] 6250 4.0 0.5 0.0 1.35 0.0 0.0 0.0 0\n",
      "[started] 6250 4.5 0.0 0.0 1.25 0.0 0.0 0.0 0\n",
      "[finished] 6250 4.0 0.5 0.4 1.35 0.0 0.0 0.0 0\n",
      "[started] 6250 4.5 0.0 0.4 1.25 0.0 0.0 0.0 0\n",
      "[finished] 6250 4.5 -1.0 0.0 1.21 0.0 0.0 0.0 0\n",
      "[started] 6250 4.5 0.25 0.0 1.26 0.0 0.0 0.0 0\n",
      "[finished] 6250 4.5 -0.75 0.4 1.22 0.0 0.0 0.0 0\n",
      "[started] 6250 4.5 0.25 0.4 1.26 0.0 0.0 0.0 0\n",
      "[finished] 6250 4.5 -1.0 0.4 1.21 0.0 0.0 0.0 0\n",
      "[started] 6250 4.5 0.5 0.0 1.28 0.0 0.0 0.0 0\n",
      "[finished] 6250 4.5 -0.5 0.0 1.23 0.0 0.0 0.0 0\n",
      "[started] 6250 4.5 0.5 0.4 1.28 0.0 0.0 0.0 0\n",
      "[finished] 6250 4.5 -0.75 0.0 1.22 0.0 0.0 0.0 0\n",
      "[started] 6250 5.0 -1.0 0.0 1.14 0.0 0.0 0.0 0\n",
      "[finished] 6250 4.5 -0.5 0.4 1.23 0.0 0.0 0.0 0\n",
      "[started] 6250 5.0 -1.0 0.4 1.14 0.0 0.0 0.0 0\n",
      "[finished] 6250 4.5 -0.25 0.0 1.24 0.0 0.0 0.0 0\n",
      "[started] 6250 5.0 -0.75 0.0 1.15 0.0 0.0 0.0 0\n",
      "[finished] 6250 4.5 -0.25 0.4 1.24 0.0 0.0 0.0 0\n",
      "[started] 6250 5.0 -0.75 0.4 1.15 0.0 0.0 0.0 0\n",
      "[finished] 6250 4.5 0.0 0.0 1.25 0.0 0.0 0.0 0\n",
      "[started] 6250 5.0 -0.5 0.0 1.16 0.0 0.0 0.0 0\n",
      "[finished] 6250 4.5 0.0 0.4 1.25 0.0 0.0 0.0 0\n",
      "[started] 6250 5.0 -0.5 0.4 1.16 0.0 0.0 0.0 0\n",
      "[finished] 6250 4.5 0.25 0.0 1.26 0.0 0.0 0.0 0\n",
      "[started] 6250 5.0 -0.25 0.0 1.17 0.0 0.0 0.0 0\n",
      "[finished] 6250 4.5 0.25 0.4 1.26 0.0 0.0 0.0 0\n",
      "[started] 6250 5.0 -0.25 0.4 1.17 0.0 0.0 0.0 0\n",
      "[finished] 6250 4.5 0.5 0.0 1.28 0.0 0.0 0.0 0\n",
      "[started] 6250 5.0 0.0 0.0 1.18 0.0 0.0 0.0 0\n",
      "[finished] 6250 5.0 -1.0 0.0 1.14 0.0 0.0 0.0 0\n",
      "[started] 6250 5.0 0.0 0.4 1.18 0.0 0.0 0.0 0\n",
      "[finished] 6250 4.5 0.5 0.4 1.28 0.0 0.0 0.0 0\n",
      "[started] 6250 5.0 0.25 0.0 1.19 0.0 0.0 0.0 0\n",
      "[finished] 6250 5.0 -1.0 0.4 1.14 0.0 0.0 0.0 0\n",
      "[started] 6250 5.0 0.25 0.4 1.19 0.0 0.0 0.0 0\n",
      "[finished] 6250 5.0 -0.75 0.4 1.15 0.0 0.0 0.0 0\n",
      "[started] 6250 5.0 0.5 0.0 1.21 0.0 0.0 0.0 0\n",
      "[finished] 6250 5.0 -0.75 0.0 1.15 0.0 0.0 0.0 0\n",
      "[started] 6250 5.0 0.5 0.4 1.21 0.0 0.0 0.0 0\n",
      "[finished] 6250 5.0 -0.5 0.0 1.16 0.0 0.0 0.0 0\n",
      "[started] 6500 3.0 -1.0 0.0 2.06 0.0 0.0 0.0 0\n"
     ]
    },
    {
     "name": "stderr",
     "output_type": "stream",
     "text": [
      "[2023-01-06 20:03:46,954] [INFO] [turbospectrum:generate_spectrum:88]: Spherical model atmosphere with radius 3.65e+11 cm\n"
     ]
    },
    {
     "name": "stdout",
     "output_type": "stream",
     "text": [
      "[finished] 6250 5.0 -0.5 0.4 1.16 0.0 0.0 0.0 0\n",
      "[started] 6500 3.0 -1.0 0.4 2.06 0.0 0.0 0.0 0\n"
     ]
    },
    {
     "name": "stderr",
     "output_type": "stream",
     "text": [
      "[2023-01-06 20:03:48,013] [INFO] [turbospectrum:generate_spectrum:88]: Spherical model atmosphere with radius 3.65e+11 cm\n"
     ]
    },
    {
     "name": "stdout",
     "output_type": "stream",
     "text": [
      "[finished] 6250 5.0 -0.25 0.0 1.17 0.0 0.0 0.0 0\n",
      "[started] 6500 3.0 -0.75 0.0 2.06 0.0 0.0 0.0 0\n"
     ]
    },
    {
     "name": "stderr",
     "output_type": "stream",
     "text": [
      "[2023-01-06 20:03:49,451] [INFO] [turbospectrum:generate_spectrum:88]: Spherical model atmosphere with radius 3.65e+11 cm\n"
     ]
    },
    {
     "name": "stdout",
     "output_type": "stream",
     "text": [
      "[finished] 6250 5.0 -0.25 0.4 1.17 0.0 0.0 0.0 0\n",
      "[started] 6500 3.0 -0.75 0.4 2.06 0.0 0.0 0.0 0\n"
     ]
    },
    {
     "name": "stderr",
     "output_type": "stream",
     "text": [
      "[2023-01-06 20:03:50,045] [INFO] [turbospectrum:generate_spectrum:88]: Spherical model atmosphere with radius 3.65e+11 cm\n"
     ]
    },
    {
     "name": "stdout",
     "output_type": "stream",
     "text": [
      "[finished] 6250 5.0 0.0 0.0 1.18 0.0 0.0 0.0 0\n",
      "[started] 6500 3.0 -0.5 0.0 2.07 0.0 0.0 0.0 0\n"
     ]
    },
    {
     "name": "stderr",
     "output_type": "stream",
     "text": [
      "[2023-01-06 20:03:50,463] [INFO] [turbospectrum:generate_spectrum:88]: Spherical model atmosphere with radius 3.65e+11 cm\n"
     ]
    },
    {
     "name": "stdout",
     "output_type": "stream",
     "text": [
      "[finished] 6250 5.0 0.0 0.4 1.18 0.0 0.0 0.0 0\n",
      "[started] 6500 3.0 -0.5 0.4 2.07 0.0 0.0 0.0 0\n"
     ]
    },
    {
     "name": "stderr",
     "output_type": "stream",
     "text": [
      "[2023-01-06 20:03:51,554] [INFO] [turbospectrum:generate_spectrum:88]: Spherical model atmosphere with radius 3.65e+11 cm\n"
     ]
    },
    {
     "name": "stdout",
     "output_type": "stream",
     "text": [
      "[finished] 6250 5.0 0.25 0.0 1.19 0.0 0.0 0.0 0\n",
      "[started] 6500 3.0 -0.25 0.0 2.08 0.0 0.0 0.0 0\n",
      "[finished] 6250 5.0 0.25 0.4 1.19 0.0 0.0 0.0 0\n",
      "[started] 6500 3.0 -0.25 0.4 2.08"
     ]
    },
    {
     "name": "stderr",
     "output_type": "stream",
     "text": [
      "[2023-01-06 20:03:52,661] [INFO] [turbospectrum:generate_spectrum:88]: Spherical model atmosphere with radius 3.65e+11 cm\n"
     ]
    },
    {
     "name": "stdout",
     "output_type": "stream",
     "text": [
      " 0.0 0.0 0.0 0\n"
     ]
    },
    {
     "name": "stderr",
     "output_type": "stream",
     "text": [
      "[2023-01-06 20:03:52,754] [INFO] [turbospectrum:generate_spectrum:88]: Spherical model atmosphere with radius 3.65e+11 cm\n"
     ]
    },
    {
     "name": "stdout",
     "output_type": "stream",
     "text": [
      "[finished] 6250 5.0 0.5 0.0 1.21 0.0 0.0 0.0 0\n",
      "[started] 6500 3.0 0.0 0.0 2.1 0.0 0.0 0.0 0\n"
     ]
    },
    {
     "name": "stderr",
     "output_type": "stream",
     "text": [
      "[2023-01-06 20:04:07,237] [INFO] [turbospectrum:generate_spectrum:88]: Spherical model atmosphere with radius 3.65e+11 cm\n"
     ]
    },
    {
     "name": "stdout",
     "output_type": "stream",
     "text": [
      "[finished] 6250 5.0 0.5 0.4 1.21 0.0 0.0 0.0 0\n",
      "[started] 6500 3.0 0.0 0.4 2.1 0.0 0.0 0.0 0\n"
     ]
    },
    {
     "name": "stderr",
     "output_type": "stream",
     "text": [
      "[2023-01-06 20:04:07,468] [INFO] [turbospectrum:generate_spectrum:88]: Spherical model atmosphere with radius 3.65e+11 cm\n"
     ]
    },
    {
     "name": "stdout",
     "output_type": "stream",
     "text": [
      "[finished] 6500 3.0 -1.0 0.0 2.06 0.0 0.0 0.0 0\n",
      "[started] 6500 3.0 0.25 0.0 2.11 0.0 0.0 0.0 0\n"
     ]
    },
    {
     "name": "stderr",
     "output_type": "stream",
     "text": [
      "[2023-01-06 20:05:27,488] [INFO] [turbospectrum:generate_spectrum:88]: Spherical model atmosphere with radius 3.65e+11 cm\n"
     ]
    },
    {
     "name": "stdout",
     "output_type": "stream",
     "text": [
      "[finished] 6500 3.0 -1.0 0.4 2.06 0.0 0.0 0.0 0\n",
      "[started] 6500 3.0 0.25 0.4 2.11 0.0 0.0 0.0 0\n"
     ]
    },
    {
     "name": "stderr",
     "output_type": "stream",
     "text": [
      "[2023-01-06 20:05:28,156] [INFO] [turbospectrum:generate_spectrum:88]: Spherical model atmosphere with radius 3.65e+11 cm\n"
     ]
    },
    {
     "name": "stdout",
     "output_type": "stream",
     "text": [
      "[finished] 6500 3.0 -0.75 0.0 2.06 0.0 0.0 0.0 0\n",
      "[started] 6500 3.0 0.5 0.0 2.12 0.0 0.0 0.0 0\n"
     ]
    },
    {
     "name": "stderr",
     "output_type": "stream",
     "text": [
      "[2023-01-06 20:05:29,701] [INFO] [turbospectrum:generate_spectrum:88]: Spherical model atmosphere with radius 3.65e+11 cm\n"
     ]
    },
    {
     "name": "stdout",
     "output_type": "stream",
     "text": [
      "[finished] 6500 3.0 -0.75 0.4 2.06 0.0 0.0 0.0 0\n",
      "[started] 6500 3.0 0.5 0.4 2.12 0.0 0.0 0.0 0\n"
     ]
    },
    {
     "name": "stderr",
     "output_type": "stream",
     "text": [
      "[2023-01-06 20:05:30,571] [INFO] [turbospectrum:generate_spectrum:88]: Spherical model atmosphere with radius 3.65e+11 cm\n"
     ]
    },
    {
     "name": "stdout",
     "output_type": "stream",
     "text": [
      "[finished] 6500 3.0 -0.5 0.0 2.07 0.0 0.0 0.0 0\n",
      "[started] 6500 3.5 -1.0 0.0 1.48 0.0 0.0 0.0 0\n"
     ]
    },
    {
     "name": "stderr",
     "output_type": "stream",
     "text": [
      "[2023-01-06 20:05:30,957] [INFO] [turbospectrum:generate_spectrum:88]: Spherical model atmosphere with radius 2.05e+11 cm\n"
     ]
    },
    {
     "name": "stdout",
     "output_type": "stream",
     "text": [
      "[finished] 6500 3.0 -0.5 0.4 2.07 0.0 0.0 0.0 0\n",
      "[started] 6500 3.5 -1.0 0.4 1.48 0.0 0.0 0.0 0\n"
     ]
    },
    {
     "name": "stderr",
     "output_type": "stream",
     "text": [
      "[2023-01-06 20:05:31,469] [INFO] [turbospectrum:generate_spectrum:88]: Spherical model atmosphere with radius 2.05e+11 cm\n"
     ]
    },
    {
     "name": "stdout",
     "output_type": "stream",
     "text": [
      "[finished] 6500 3.0 -0.25 0.4 2.08 0.0 0.0 0.0 0\n",
      "[started] 6500 3.5 -0.75 0.0 1.49 0.0 0.0 0.0 0\n"
     ]
    },
    {
     "name": "stderr",
     "output_type": "stream",
     "text": [
      "[2023-01-06 20:05:32,361] [INFO] [turbospectrum:generate_spectrum:88]: Spherical model atmosphere with radius 2.05e+11 cm\n"
     ]
    },
    {
     "name": "stdout",
     "output_type": "stream",
     "text": [
      "[finished] 6500 3.0 -0.25 0.0 2.08 0.0 0.0 0.0 0\n",
      "[started] 6500 3.5 -0.75 0.4 1.49 0.0 0.0 0.0 0\n"
     ]
    },
    {
     "name": "stderr",
     "output_type": "stream",
     "text": [
      "[2023-01-06 20:05:32,497] [INFO] [turbospectrum:generate_spectrum:88]: Spherical model atmosphere with radius 2.05e+11 cm\n"
     ]
    },
    {
     "name": "stdout",
     "output_type": "stream",
     "text": [
      "[finished] 6500 3.0 0.0 0.4 2.1 0.0 0.0 0.0 0\n",
      "[started] 6500 3.5 -0.5 0.0 1.5 0.0 0.0 0.0 0\n"
     ]
    },
    {
     "name": "stderr",
     "output_type": "stream",
     "text": [
      "[2023-01-06 20:05:48,094] [INFO] [turbospectrum:generate_spectrum:88]: Spherical model atmosphere with radius 2.05e+11 cm\n"
     ]
    },
    {
     "name": "stdout",
     "output_type": "stream",
     "text": [
      "[finished] 6500 3.0 0.0 0.0 2.1 0.0 0.0 0.0 0\n",
      "[started] 6500 3.5 -0.5 0.4 1.5 0.0 0.0 0.0 0\n"
     ]
    },
    {
     "name": "stderr",
     "output_type": "stream",
     "text": [
      "[2023-01-06 20:05:48,561] [INFO] [turbospectrum:generate_spectrum:88]: Spherical model atmosphere with radius 2.05e+11 cm\n"
     ]
    },
    {
     "name": "stdout",
     "output_type": "stream",
     "text": [
      "[finished] 6500 3.0 0.25 0.0 2.11 0.0 0.0 0.0 0\n",
      "[started] 6500 3.5 -0.25 0.0 1.51 0.0 0.0 0.0 0\n"
     ]
    },
    {
     "name": "stderr",
     "output_type": "stream",
     "text": [
      "[2023-01-06 20:07:07,257] [INFO] [turbospectrum:generate_spectrum:88]: Spherical model atmosphere with radius 2.05e+11 cm\n"
     ]
    },
    {
     "name": "stdout",
     "output_type": "stream",
     "text": [
      "[finished] 6500 3.0 0.25 0.4 2.11 0.0 0.0 0.0 0\n",
      "[started] 6500 3.5 -0.25 0.4 1.51 0.0 0.0 0.0 0\n"
     ]
    },
    {
     "name": "stderr",
     "output_type": "stream",
     "text": [
      "[2023-01-06 20:07:09,311] [INFO] [turbospectrum:generate_spectrum:88]: Spherical model atmosphere with radius 2.05e+11 cm\n"
     ]
    },
    {
     "name": "stdout",
     "output_type": "stream",
     "text": [
      "[finished] 6500 3.0 0.5 0.0 2.12 0.0 0.0 0.0 0\n",
      "[started] 6500 3.5 0.0 0.0 1.52 0.0 0.0 0.0 0\n"
     ]
    },
    {
     "name": "stderr",
     "output_type": "stream",
     "text": [
      "[2023-01-06 20:07:10,198] [INFO] [turbospectrum:generate_spectrum:88]: Spherical model atmosphere with radius 2.05e+11 cm\n"
     ]
    },
    {
     "name": "stdout",
     "output_type": "stream",
     "text": [
      "[finished] 6500 3.5 -1.0 0.0 1.48 0.0 0.0 0.0 0\n",
      "[started] 6500 3.5 0.0 0.4 1.52 0.0 0.0 0.0 0\n"
     ]
    },
    {
     "name": "stderr",
     "output_type": "stream",
     "text": [
      "[2023-01-06 20:07:11,035] [INFO] [turbospectrum:generate_spectrum:88]: Spherical model atmosphere with radius 2.05e+11 cm\n"
     ]
    },
    {
     "name": "stdout",
     "output_type": "stream",
     "text": [
      "[finished] 6500 3.0 0.5 0.4 2.12 0.0 0.0 0.0 0\n",
      "[started] 6500 3.5 0.25 0.0 1.53 0.0 0.0 0.0 0\n"
     ]
    },
    {
     "name": "stderr",
     "output_type": "stream",
     "text": [
      "[2023-01-06 20:07:11,327] [INFO] [turbospectrum:generate_spectrum:88]: Spherical model atmosphere with radius 2.05e+11 cm\n"
     ]
    },
    {
     "name": "stdout",
     "output_type": "stream",
     "text": [
      "[finished] 6500 3.5 -1.0 0.4 1.48 0.0 0.0 0.0 0\n",
      "[started] 6500 3.5 0.25 0.4 1.53 0.0 0.0 0.0 0\n"
     ]
    },
    {
     "name": "stderr",
     "output_type": "stream",
     "text": [
      "[2023-01-06 20:07:12,372] [INFO] [turbospectrum:generate_spectrum:88]: Spherical model atmosphere with radius 2.05e+11 cm\n"
     ]
    },
    {
     "name": "stdout",
     "output_type": "stream",
     "text": [
      "[finished] 6500 3.5 -0.75 0.4 1.49 0.0 0.0 0.0 0\n",
      "[started] 6500 3.5 0.5 0.0 1.55 0.0 0.0 0.0 0\n"
     ]
    },
    {
     "name": "stderr",
     "output_type": "stream",
     "text": [
      "[2023-01-06 20:07:12,735] [INFO] [turbospectrum:generate_spectrum:88]: Spherical model atmosphere with radius 2.05e+11 cm\n"
     ]
    },
    {
     "name": "stdout",
     "output_type": "stream",
     "text": [
      "[finished] 6500 3.5 -0.75 0.0 1.49 0.0 0.0 0.0 0\n",
      "[started] 6500 3.5 0.5 0.4 1.55 0.0 0.0 0.0 0\n"
     ]
    },
    {
     "name": "stderr",
     "output_type": "stream",
     "text": [
      "[2023-01-06 20:07:13,266] [INFO] [turbospectrum:generate_spectrum:88]: Spherical model atmosphere with radius 2.05e+11 cm\n"
     ]
    },
    {
     "name": "stdout",
     "output_type": "stream",
     "text": [
      "[finished] 6500 3.5 -0.5 0.0 1.5 0.0 0.0 0.0 0\n",
      "[started] 6500 4.0 -1.0 0.0 1.41 0.0 0.0 0.0 0\n",
      "[finished] 6500 3.5 -0.5 0.4 1.5 0.0 0.0 0.0 0\n",
      "[started] 6500 4.0 -1.0 0.4 1.41 0.0 0.0 0.0 0\n",
      "[finished] 6500 3.5 -0.25 0.0 1.51 0.0 0.0 0.0 0\n",
      "[started] 6500 4.0 -0.75 0.0 1.42 0.0 0.0 0.0 0\n",
      "[finished] 6500 3.5 -0.25 0.4 1.51 0.0 0.0 0.0 0\n",
      "[started] 6500 4.0 -0.75 0.4 1.42 0.0 0.0 0.0 0\n",
      "[finished] 6500 3.5 0.0 0.0 1.52 0.0 0.0 0.0 0\n",
      "[started] 6500 4.0 -0.5 0.0 1.43 0.0 0.0 0.0 0\n",
      "[finished] 6500 3.5 0.0 0.4 1.52 0.0 0.0 0.0 0\n",
      "[finished] 6500 4.0 -1.0 0.0 1.41 0.0 0.0 0.0 0\n",
      "[started] 6500 4.0 -0.5[started] 6500  4.00.4 -0.25  1.430.0 0.0  1.440.0  0.00.0  0.00 \n",
      "0.0 0\n",
      "[finished] 6500 4.0 -1.0 0.4 1.41 0.0 0.0 0.0 0\n",
      "[started] 6500 4.0 -0.25 0.4 1.44 0.0 0.0 0.0 0\n",
      "[finished] 6500 3.5 0.25 0.0 1.53 0.0 0.0 0.0 0\n",
      "[started] 6500 4.0 0.0 0.0 1.45 0.0 0.0 0.0 0\n",
      "[finished] 6500 3.5 0.25 0.4 1.53 0.0 0.0 0.0 0\n",
      "[started] 6500 4.0 0.0 0.4 1.45 0.0 0.0 0.0 0\n",
      "[finished] 6500 3.5 0.5 0.0 1.55 0.0 0.0 0.0 0\n",
      "[started] 6500 4.0 0.25 0.0 1.46 0.0 0.0 0.0 0\n",
      "[finished] 6500 3.5 0.5 0.4 1.55 0.0 0.0 0.0 0\n",
      "[started] 6500 4.0 0.25 0.4 1.46 0.0 0.0 0.0 0\n",
      "[finished] 6500 4.0 -0.75 0.0 1.42 0.0 0.0 0.0 0\n",
      "[started] 6500 4.0 0.5 0.0 1.48 0.0 0.0 0.0 0\n",
      "[finished] 6500 4.0 -0.75 0.4 1.42 0.0 0.0 0.0 0\n",
      "[started] 6500 4.0 0.5 0.4 1.48 0.0 0.0 [finished]0.0  6500 0\n",
      "4.0 -0.5 0.0 1.43 0.0 0.0 0.0 0\n",
      "[started] 6500 4.5 -1.0 0.0 1.34 0.0 0.0 0.0 0\n",
      "[finished] 6500 4.0 -0.5 0.4 1.43 0.0 0.0 0.0 0\n",
      "[started] 6500 4.5 -1.0 0.4 1.34 0.0 0.0 0.0 0\n",
      "[finished] 6500 4.0 -0.25 0.0 1.44 0.0 0.0 0.0 0\n",
      "[started] 6500 4.5 -0.75 0.0 1.35 0.0 0.0 0.0 0\n",
      "[finished] 6500 4.0 -0.25 0.4 1.44 0.0 0.0 0.0 0\n",
      "[started] 6500 4.5 -0.75 0.4 1.35 0.0 0.0 0.0 0\n",
      "[finished] 6500 4.0 0.0 0.0 1.45 0.0 0.0 0.0 0\n",
      "[started] 6500 4.5 -0.5 0.0 1.36 0.0 0.0 0.0 0\n",
      "[finished] 6500 4.0 0.25 0.0 1.46 0.0 0.0 0.0 0\n",
      "[started] 6500 4.5 -0.5 0.4 1.36 0.0 0.0 0.0 0\n",
      "[finished] 6500 4.0 0.0 0.4 1.45 0.0 0.0 0.0 0\n",
      "[started] 6500 4.5 -0.25 0.0 1.37 0.0 0.0 0.0 0\n",
      "[finished] 6500 4.0 0.25 0.4 1.46 0.0 0.0 0.0 0\n",
      "[started] 6500 4.5 -0.25 0.4 1.37 0.0 0.0 0.0 0\n",
      "[finished] 6500 4.0 0.5 0.0 1.48 0.0 0.0 0.0 0\n",
      "[started] 6500 4.5 0.0 0.0 1.38 0.0 0.0 0.0 0\n",
      "[finished] 6500 4.5 -1.0 0.0 1.34 0.0 0.0 0.0 0\n",
      "[started] 6500 4.5 0.0 0.4 1.38 0.0 0.0 0.0 0\n",
      "[finished] 6500 4.0 0.5 0.4 1.48 0.0 0.0 0.0 0\n",
      "[started] 6500 4.5 0.25 0.0 1.39 0.0 0.0 0.0 0\n",
      "[finished] 6500 4.5 -1.0 0.4 1.34 0.0 0.0 0.0 0\n",
      "[started] 6500 4.5 0.25 0.4 1.39 0.0 0.0 0.0 0\n",
      "[finished] 6500 4.5 -0.75 0.0 1.35 0.0 0.0 0.0 0\n",
      "[started] 6500 4.5 0.5 0.0 1.41 0.0 0.0 0.0 0\n",
      "[finished] 6500 4.5 -0.75 0.4 1.35 0.0 0.0 0.0 0\n",
      "[started] 6500 4.5 0.5 0.4 1.41 0.0 0.0 0.0 0\n",
      "[finished] 6500 4.5 -0.5 0.0 1.36 0.0 0.0 0.0 0\n",
      "[started] 6500 5.0 -1.0 0.0 1.27 0.0 0.0 0.0 0\n",
      "[finished] 6500 4.5 -0.5 0.4 1.36 0.0 0.0 0.0 0\n",
      "[started] 6500 5.0 -1.0 0.4 1.27 0.0 0.0 0.0 0\n",
      "[finished] 6500 4.5 -0.25 0.0 1.37 0.0 0.0 0.0 0\n",
      "[started] 6500 5.0 -0.75 0.0 1.27 0.0 0.0 0.0 0\n",
      "[finished] 6500 4.5 -0.25 0.4 1.37 0.0 0.0 0.0 0\n",
      "[started] 6500 5.0 -0.75 0.4 1.27 0.0 0.0 0.0 0\n",
      "[finished] 6500 4.5 0.0 0.0 1.38 0.0 0.0 0.0 0\n",
      "[started] 6500 5.0 -0.5 0.0 1.28 0.0 0.0 0.0 0\n",
      "[finished] 6500 4.5 0.0 0.4 1.38 0.0 0.0 0.0 0\n",
      "[started] 6500 5.0 -0.5 0.4 1.28 0.0 0.0 0.0 0\n",
      "[finished] 6500 4.5 0.25 0.0 1.39 0.0 0.0 0.0 0\n",
      "[started] 6500 5.0 -0.25 0.0 1.29 0.0 0.0 0.0 0\n",
      "[finished] 6500 4.5 0.25 0.4 1.39 0.0 0.0 0.0 0\n",
      "[started] 6500 5.0 -0.25 0.4 1.29 0.0 0.0 0.0 0\n",
      "[finished] 6500 4.5 0.5 0.0 1.41 0.0 0.0 0.0 0\n",
      "[started] 6500 5.0 0.0 0.0 1.31 0.0 0.0 0.0 0\n",
      "[finished] 6500 5.0 -1.0 0.0 1.27 0.0 0.0 0.0 0\n",
      "[started] 6500 5.0 0.0 0.4 1.31 0.0 0.0 0.0 0\n",
      "[finished] 6500 4.5 0.5 0.4 1.41 0.0 0.0 0.0 0\n",
      "[started] 6500 5.0 0.25 0.0 1.32 0.0 0.0 0.0 0\n",
      "[finished] 6500 5.0 -0.75 0.0 1.27 0.0 0.0 0.0 0\n",
      "[started] 6500 5.0 0.25 0.4 1.32 0.0 0.0 0.0 0\n",
      "[finished] 6500 5.0 -1.0 0.4 1.27 0.0 0.0 0.0 0\n",
      "[started] 6500 5.0 0.5 0.0 1.33 0.0 0.0 0.0 0\n",
      "[finished] 6500 5.0 -0.75 0.4 1.27 0.0 0.0 0.0 0\n",
      "[started] 6500 5.0 0.5 0.4 1.33 0.0 0.0 0.0 0\n",
      "[finished] 6500 5.0 -0.5 0.0 1.28 0.0 0.0 0.0 0\n",
      "[started] 6750 3.0 -1.0 0.0 2.33 0.0 0.0 0.0 0\n"
     ]
    },
    {
     "name": "stderr",
     "output_type": "stream",
     "text": [
      "[2023-01-06 20:14:19,726] [INFO] [turbospectrum:generate_spectrum:88]: Spherical model atmosphere with radius 3.65e+11 cm\n"
     ]
    },
    {
     "name": "stdout",
     "output_type": "stream",
     "text": [
      "[finished] 6500 5.0 -0.5 0.4 1.28 0.0 0.0 0.0 0\n",
      "[started] 6750 3.0 -1.0 0.4 2.33 0.0 0.0 0.0 0\n"
     ]
    },
    {
     "name": "stderr",
     "output_type": "stream",
     "text": [
      "[2023-01-06 20:14:21,027] [INFO] [turbospectrum:generate_spectrum:88]: Spherical model atmosphere with radius 3.65e+11 cm\n"
     ]
    },
    {
     "name": "stdout",
     "output_type": "stream",
     "text": [
      "[finished] 6500 5.0 -0.25 0.0 1.29 0.0 0.0 0.0 0\n",
      "[started] 6750 3.0 -0.75 0.0 2.34 0.0 0.0 0.0 0\n"
     ]
    },
    {
     "name": "stderr",
     "output_type": "stream",
     "text": [
      "[2023-01-06 20:14:21,323] [INFO] [turbospectrum:generate_spectrum:88]: Spherical model atmosphere with radius 3.65e+11 cm\n"
     ]
    },
    {
     "name": "stdout",
     "output_type": "stream",
     "text": [
      "[finished] 6500 5.0 -0.25 0.4 1.29 0.0 0.0 0.0 0\n",
      "[started] 6750 3.0 -0.75 0.4 2.34 0.0 0.0 0.0 0\n"
     ]
    },
    {
     "name": "stderr",
     "output_type": "stream",
     "text": [
      "[2023-01-06 20:14:22,430] [INFO] [turbospectrum:generate_spectrum:88]: Spherical model atmosphere with radius 3.65e+11 cm\n"
     ]
    },
    {
     "name": "stdout",
     "output_type": "stream",
     "text": [
      "[finished] 6500 5.0 0.25 0.0 1.32 0.0 0.0 0.0 0\n",
      "[started] 6750 3.0 -0.5 0.0 2.35 0.0 0.0 0.0 0\n",
      "[finished] 6500 5.0 0.0 0.4 1.31 0.0 0.0 0.0 0\n",
      "[started] 6750 3.0 -0.5 0.4 2.35 0.0 0.0"
     ]
    },
    {
     "name": "stderr",
     "output_type": "stream",
     "text": [
      "[2023-01-06 20:14:23,549] [INFO] [turbospectrum:generate_spectrum:88]: Spherical model atmosphere with radius 3.65e+11 cm\n"
     ]
    },
    {
     "name": "stdout",
     "output_type": "stream",
     "text": [
      " 0.0 0\n"
     ]
    },
    {
     "name": "stderr",
     "output_type": "stream",
     "text": [
      "[2023-01-06 20:14:23,630] [INFO] [turbospectrum:generate_spectrum:88]: Spherical model atmosphere with radius 3.65e+11 cm\n"
     ]
    },
    {
     "name": "stdout",
     "output_type": "stream",
     "text": [
      "[finished] 6500 5.0 0.0 0.0 1.31 0.0 0.0 0.0 0\n",
      "[started] 6750 3.0 -0.25 0.0 2.36 0.0 0.0 0.0 0\n"
     ]
    },
    {
     "name": "stderr",
     "output_type": "stream",
     "text": [
      "[2023-01-06 20:14:23,827] [INFO] [turbospectrum:generate_spectrum:88]: Spherical model atmosphere with radius 3.65e+11 cm\n"
     ]
    },
    {
     "name": "stdout",
     "output_type": "stream",
     "text": [
      "[finished] 6500 5.0 0.5 0.0 1.33 0.0 0.0 0.0 0\n",
      "[started] 6750 3.0 -0.25 0.4 2.36 0.0 0.0 0.0 0\n"
     ]
    },
    {
     "name": "stderr",
     "output_type": "stream",
     "text": [
      "[2023-01-06 20:14:24,624] [INFO] [turbospectrum:generate_spectrum:88]: Spherical model atmosphere with radius 3.65e+11 cm\n"
     ]
    },
    {
     "name": "stdout",
     "output_type": "stream",
     "text": [
      "[finished] 6500 5.0 0.25 0.4 1.32 0.0 0.0 0.0 0\n",
      "[started] 6750 3.0 0.0 0.0 2.37 0.0 0.0 0.0 0\n"
     ]
    },
    {
     "name": "stderr",
     "output_type": "stream",
     "text": [
      "[2023-01-06 20:14:24,796] [INFO] [turbospectrum:generate_spectrum:88]: Spherical model atmosphere with radius 3.65e+11 cm\n"
     ]
    },
    {
     "name": "stdout",
     "output_type": "stream",
     "text": [
      "[finished] 6500 5.0 0.5 0.4 1.33 0.0 0.0 0.0 0\n",
      "[started] 6750 3.0 0.0 0.4 2.37 0.0 0.0 0.0 0\n"
     ]
    },
    {
     "name": "stderr",
     "output_type": "stream",
     "text": [
      "[2023-01-06 20:14:25,693] [INFO] [turbospectrum:generate_spectrum:88]: Spherical model atmosphere with radius 3.65e+11 cm\n"
     ]
    },
    {
     "name": "stdout",
     "output_type": "stream",
     "text": [
      "[finished] 6750 3.0 -1.0 0.0 2.33 0.0 0.0 0.0 0\n",
      "[started] 6750 3.0 0.25 0.0 2.38 0.0 0.0 0.0 0\n"
     ]
    },
    {
     "name": "stderr",
     "output_type": "stream",
     "text": [
      "[2023-01-06 20:16:00,327] [INFO] [turbospectrum:generate_spectrum:88]: Spherical model atmosphere with radius 3.65e+11 cm\n"
     ]
    },
    {
     "name": "stdout",
     "output_type": "stream",
     "text": [
      "[finished] 6750 3.0 -0.75 0.0 2.34 0.0 0.0 0.0 0\n",
      "[started] 6750 3.0 0.25 0.4 2.38 0.0 0.0 0.0 0\n"
     ]
    },
    {
     "name": "stderr",
     "output_type": "stream",
     "text": [
      "[2023-01-06 20:16:01,384] [INFO] [turbospectrum:generate_spectrum:88]: Spherical model atmosphere with radius 3.65e+11 cm\n"
     ]
    },
    {
     "name": "stdout",
     "output_type": "stream",
     "text": [
      "[finished] 6750 3.0 -1.0 0.4 2.33 0.0 0.0 0.0 0\n",
      "[started] 6750 3.0 0.5 0.0 2.4 0.0 0.0 0.0 0\n"
     ]
    },
    {
     "name": "stderr",
     "output_type": "stream",
     "text": [
      "[2023-01-06 20:16:01,812] [INFO] [turbospectrum:generate_spectrum:88]: Spherical model atmosphere with radius 3.65e+11 cm\n"
     ]
    },
    {
     "name": "stdout",
     "output_type": "stream",
     "text": [
      "[finished] 6750 3.0 -0.75 0.4 2.34 0.0 0.0 0.0 0\n",
      "[started] 6750 3.0 0.5 0.4 2.4 0.0 0.0 0.0 0\n"
     ]
    },
    {
     "name": "stderr",
     "output_type": "stream",
     "text": [
      "[2023-01-06 20:16:02,456] [INFO] [turbospectrum:generate_spectrum:88]: Spherical model atmosphere with radius 3.65e+11 cm\n"
     ]
    },
    {
     "name": "stdout",
     "output_type": "stream",
     "text": [
      "[finished] 6750 3.0 -0.5 0.0 2.35 0.0 0.0 0.0 0\n",
      "[started] 6750 3.5 -1.0 0.0 1.63 0.0 0.0 0.0 0\n"
     ]
    },
    {
     "name": "stderr",
     "output_type": "stream",
     "text": [
      "[2023-01-06 20:16:03,087] [INFO] [turbospectrum:generate_spectrum:88]: Spherical model atmosphere with radius 2.05e+11 cm\n"
     ]
    },
    {
     "name": "stdout",
     "output_type": "stream",
     "text": [
      "[finished] 6750 3.0 -0.25 0.0 2.36 0.0 0.0 0.0 0\n",
      "[started] 6750 3.5 -1.0 0.4 1.63 0.0 0.0 0.0 0\n"
     ]
    },
    {
     "name": "stderr",
     "output_type": "stream",
     "text": [
      "[2023-01-06 20:16:03,736] [INFO] [turbospectrum:generate_spectrum:88]: Spherical model atmosphere with radius 2.05e+11 cm\n"
     ]
    },
    {
     "name": "stdout",
     "output_type": "stream",
     "text": [
      "[finished] 6750 3.0 -0.5 0.4 2.35 0.0 0.0 0.0 0\n",
      "[started] 6750 3.5 -0.75 0.0 1.64 0.0 0.0 0.0 0\n"
     ]
    },
    {
     "name": "stderr",
     "output_type": "stream",
     "text": [
      "[2023-01-06 20:16:03,889] [INFO] [turbospectrum:generate_spectrum:88]: Spherical model atmosphere with radius 2.05e+11 cm\n"
     ]
    },
    {
     "name": "stdout",
     "output_type": "stream",
     "text": [
      "[finished] 6750 3.0 -0.25 0.4 2.36 0.0 0.0 0.0 0\n",
      "[started] 6750 3.5 -0.75 0.4 1.64 0.0 0.0 0.0 0\n"
     ]
    },
    {
     "name": "stderr",
     "output_type": "stream",
     "text": [
      "[2023-01-06 20:16:04,705] [INFO] [turbospectrum:generate_spectrum:88]: Spherical model atmosphere with radius 2.05e+11 cm\n"
     ]
    },
    {
     "name": "stdout",
     "output_type": "stream",
     "text": [
      "[finished] 6750 3.0 0.0 0.0 2.37 0.0 0.0 0.0 0\n",
      "[started] 6750 3.5 -0.5 0.0 1.64 0.0 0.0 0.0 0\n"
     ]
    },
    {
     "name": "stderr",
     "output_type": "stream",
     "text": [
      "[2023-01-06 20:16:04,920] [INFO] [turbospectrum:generate_spectrum:88]: Spherical model atmosphere with radius 2.05e+11 cm\n"
     ]
    },
    {
     "name": "stdout",
     "output_type": "stream",
     "text": [
      "[finished] 6750 3.0 0.0 0.4 2.37 0.0 0.0 0.0 0\n",
      "[started] 6750 3.5 -0.5 0.4 1.64 0.0 0.0 0.0 0\n"
     ]
    },
    {
     "name": "stderr",
     "output_type": "stream",
     "text": [
      "[2023-01-06 20:16:05,112] [INFO] [turbospectrum:generate_spectrum:88]: Spherical model atmosphere with radius 2.05e+11 cm\n"
     ]
    },
    {
     "name": "stdout",
     "output_type": "stream",
     "text": [
      "[finished] 6750 3.0 0.25 0.0 2.38 0.0 0.0 0.0 0\n",
      "[started] 6750 3.5 -0.25 0.0 1.66 0.0 0.0 0.0 0\n"
     ]
    },
    {
     "name": "stderr",
     "output_type": "stream",
     "text": [
      "[2023-01-06 20:17:39,701] [INFO] [turbospectrum:generate_spectrum:88]: Spherical model atmosphere with radius 2.05e+11 cm\n"
     ]
    },
    {
     "name": "stdout",
     "output_type": "stream",
     "text": [
      "[finished] 6750 3.0 0.25 0.4 2.38 0.0 0.0 0.0 0\n",
      "[started] 6750 3.5 -0.25 0.4 1.66 0.0 0.0 0.0 0\n"
     ]
    },
    {
     "name": "stderr",
     "output_type": "stream",
     "text": [
      "[2023-01-06 20:17:41,057] [INFO] [turbospectrum:generate_spectrum:88]: Spherical model atmosphere with radius 2.05e+11 cm\n"
     ]
    },
    {
     "name": "stdout",
     "output_type": "stream",
     "text": [
      "[finished] 6750 3.0 0.5 0.0 2.4 0.0 0.0 0.0 0\n",
      "[started] 6750 3.5 0.0 0.0 1.67 0.0 0.0 0.0 0\n"
     ]
    },
    {
     "name": "stderr",
     "output_type": "stream",
     "text": [
      "[2023-01-06 20:17:42,513] [INFO] [turbospectrum:generate_spectrum:88]: Spherical model atmosphere with radius 2.05e+11 cm\n"
     ]
    },
    {
     "name": "stdout",
     "output_type": "stream",
     "text": [
      "[finished] 6750 3.0 0.5 0.4 2.4 0.0 0.0 0.0 0\n",
      "[finished] 6750 3.5 -1.0 0.0 1.63 0.0[started] 0.0  0.0 0\n",
      "6750 3.5 0.0 [started] 0.46750  1.673.5  0.0 0.00.25  0.00.0  1.68 0\n",
      "0.0 0.0 0.0 0\n"
     ]
    },
    {
     "name": "stderr",
     "output_type": "stream",
     "text": [
      "[2023-01-06 20:17:42,722] [INFO] [turbospectrum:generate_spectrum:88]: Spherical model atmosphere with radius 2.05e+11 cm\n",
      "[2023-01-06 20:17:42,722] [INFO] [turbospectrum:generate_spectrum:88]: Spherical model atmosphere with radius 2.05e+11 cm\n"
     ]
    },
    {
     "name": "stdout",
     "output_type": "stream",
     "text": [
      "[finished] 6750 3.5 -1.0 0.4 1.63 0.0 0.0 0.0 0\n",
      "[started] 6750 3.5 0.25 0.4 1.68 0.0 0.0 0.0 0\n"
     ]
    },
    {
     "name": "stderr",
     "output_type": "stream",
     "text": [
      "[2023-01-06 20:17:43,336] [INFO] [turbospectrum:generate_spectrum:88]: Spherical model atmosphere with radius 2.05e+11 cm\n"
     ]
    },
    {
     "name": "stdout",
     "output_type": "stream",
     "text": [
      "[finished] 6750 3.5 -0.75 0.0 1.64 0.0 0.0 0.0 0\n",
      "[started] 6750 3.5 0.5 0.0 1.69 0.0 0.0 0.0 0\n"
     ]
    },
    {
     "name": "stderr",
     "output_type": "stream",
     "text": [
      "[2023-01-06 20:17:44,124] [INFO] [turbospectrum:generate_spectrum:88]: Spherical model atmosphere with radius 2.05e+11 cm\n"
     ]
    },
    {
     "name": "stdout",
     "output_type": "stream",
     "text": [
      "[finished] 6750 3.5 -0.75 0.4 1.64 0.0 0.0 0.0 0\n",
      "[started] 6750 3.5 0.5 0.4 1.69 0.0 0.0 0.0 0\n"
     ]
    },
    {
     "name": "stderr",
     "output_type": "stream",
     "text": [
      "[2023-01-06 20:17:44,342] [INFO] [turbospectrum:generate_spectrum:88]: Spherical model atmosphere with radius 2.05e+11 cm\n"
     ]
    },
    {
     "name": "stdout",
     "output_type": "stream",
     "text": [
      "[finished] 6750 3.5 -0.5 0.0 1.64 0.0 0.0 0.0 0\n",
      "[started] 6750 4.0 -1.0 0.0 1.56 0.0 0.0 0.0 0\n",
      "[finished] 6750 3.5 -0.5 0.4 1.64 0.0 0.0 0.0 0\n",
      "[started] 6750 4.0 -1.0 0.4 1.56 0.0 0.0 0.0 0\n",
      "[finished] 6750 4.0 -1.0 0.0 1.56 0.0 0.0 0.0 0\n",
      "[started] 6750 4.0 -0.75 0.0 1.57 0.0 0.0 0.0 0\n",
      "[finished] 6750 4.0 -1.0 0.4 1.56 0.0 0.0 0.0 0\n",
      "[started] 6750 4.0 -0.75 0.4 1.57 0.0 0.0 0.0 0\n",
      "[finished] 6750 3.5 -0.25 0.0 1.66 0.0 0.0 0.0 0\n",
      "[started] 6750 4.0 -0.5 0.0 1.58 0.0 0.0 0.0 0\n",
      "[finished] 6750 3.5 -0.25 0.4 1.66 0.0 0.0 0.0 0\n",
      "[started] 6750 4.0 -0.5 0.4 1.58 0.0 0.0 0.0 0\n",
      "[finished] 6750 3.5 0.25 0.0 1.68 0.0 0.0 0.0 0\n",
      "[started] 6750 4.0 -0.25 0.0 1.59 0.0 0.0 0.0 0\n",
      "[finished] 6750 3.5 0.0 0.0 1.67 0.0 0.0 0.0 0\n",
      "[started] 6750 4.0 -0.25 0.4 1.59 0.0 0.0 0.0 0\n",
      "[finished] 6750 3.5 0.0 0.4 1.67 0.0 0.0 0.0 0\n",
      "[started] 6750 4.0 0.0 0.0 1.6 0.0 0.0 0.0 0\n",
      "[finished] 6750 3.5 0.25 0.4 1.68 0.0 0.0 0.0 0\n",
      "[started] 6750 4.0 0.0 0.4 1.6 0.0 0.0 0.0 0\n",
      "[finished] 6750 3.5 0.5 0.0 1.69 0.0 0.0 0.0 0\n",
      "[started] 6750 4.0 0.25 0.0 1.61 0.0 0.0 0.0 0\n",
      "[finished] 6750 3.5 0.5 0.4 1.69 0.0 0.0 0.0 0\n",
      "[started] 6750 4.0 0.25 0.4 1.61 0.0 0.0 0.0 0\n",
      "[finished] 6750 4.0 -0.75 0.0 1.57 0.0 0.0 0.0 0\n",
      "[started] 6750 4.0 0.5 0.0 1.63 0.0 0.0 0.0 0\n",
      "[finished] 6750 4.0 -0.75 0.4 1.57 0.0 0.0 0.0 0\n",
      "[started] 6750 4.0 0.5 0.4 1.63 0.0 0.0 0.0 0\n",
      "[finished] 6750 4.0 -0.5 0.0 1.58 0.0 0.0 0.0 0\n",
      "[started] 6750 4.5 -1.0 0.0 1.49 0.0 0.0 0.0 0\n",
      "[finished] 6750 4.0 -0.5 0.4 1.58 0.0 0.0 0.0 0\n",
      "[started] 6750 4.5 -1.0 0.4 1.49 0.0 0.0 0.0 0\n",
      "[finished] 6750 4.0 -0.25 0.0 1.59 0.0 0.0 0.0 0\n",
      "[started] 6750 4.5 -0.75 0.0 1.49 0.0 0.0 0.0 0\n",
      "[finished] 6750 4.0 -0.25 0.4 1.59 0.0 0.0 0.0 0\n",
      "[started] 6750 4.5 -0.75 0.4 1.49 0.0 0.0 0.0 0\n",
      "[finished] 6750 4.0 0.0 0.4 1.6 0.0 0.0 0.0 0\n",
      "[finished] 6750 4.0 [started]0.0  67500.0  1.64.5  -0.50.0  0.00.0  1.50.0  00.0 \n",
      "0.0 0.0 0\n",
      "[started] 6750 4.5 -0.5 0.4 1.5 0.0 0.0 0.0 0\n",
      "[finished] 6750 4.0 0.25 0.0 1.61 0.0 0.0 0.0 0\n",
      "[started] 6750 4.5 -0.25 0.0 1.52 0.0 0.0 0.0 0\n",
      "[finished] 6750 4.0 0.25 0.4 1.61 0.0 0.0 0.0 0\n",
      "[started] 6750 4.5 -0.25 0.4 1.52 0.0 0.0 0.0 0\n",
      "[finished] 6750 4.0 0.5 0.0 1.63 0.0 0.0 0.0 0\n",
      "[started] 6750 4.5 0.0 0.0 1.53 0.0 0.0 0.0 0\n",
      "[finished] 6750 4.0 0.5 0.4 1.63 0.0 0.0 0.0 0\n",
      "[started] 6750 4.5 0.0 0.4 1.53 0.0 0.0 0.0 0\n",
      "[finished] 6750 4.5 -1.0 0.0 1.49 0.0 0.0 0.0 0\n",
      "[started] 6750 4.5 0.25 0.0 1.54 0.0 0.0 0.0 0\n",
      "[finished] 6750 4.5 -1.0 0.4 1.49 0.0 0.0 0.0 0\n",
      "[started] 6750 4.5 0.25 0.4 1.54 0.0 0.0 0.0 0\n",
      "[finished] 6750 4.5 -0.75 0.0 1.49 0.0 0.0 0.0 0\n",
      "[started] 6750 4.5 0.5 0.0 1.55 0.0 0.0 0.0 0\n",
      "[finished] 6750 4.5 -0.75 0.4 1.49 0.0 0.0 0.0 0\n",
      "[started] 6750 4.5 0.5 0.4 1.55 0.0 0.0 0.0 0\n",
      "[finished] 6750 4.5 -0.25 0.0 1.52 0.0 0.0 0.0 0\n",
      "[started] 6750 5.0 -1.0 0.0 1.41 0.0 0.0 0.0 0\n",
      "[finished] 6750 4.5 -0.5 0.0 1.5 0.0 0.0 0.0 0\n",
      "[started] 6750 5.0 -1.0 0.4 1.41 0.0 0.0 0.0 0\n",
      "[finished] 6750 4.5 -0.5 0.4 1.5 0.0 0.0 0.0 0\n",
      "[started] 6750 5.0 -0.75 0.0 1.42 0.0 0.0 0.0 0\n",
      "[finished] 6750 4.5 -0.25 0.4 1.52 0.0 0.0 0.0 0\n",
      "[started] 6750 5.0 -0.75 0.4 1.42 0.0 0.0 0.0 0\n",
      "[finished] 6750 4.5 0.0 0.0 1.53 0.0 0.0 0.0 0\n",
      "[started] 6750 5.0 -0.5 0.0 1.43 0.0 0.0 0.0 0\n",
      "[finished] 6750 4.5 0.0 0.4 1.53 0.0 0.0 0.0 0\n",
      "[started] 6750 5.0 -0.5 0.4 1.43 0.0 0.0 0.0 0\n",
      "[finished] 6750 4.5 0.25 0.0 1.54 0.0 0.0 0.0 0\n",
      "[started] 6750 5.0 -0.25 0.0 1.44 0.0 0.0 0.0 0\n",
      "[finished] 6750 4.5 0.25 0.4 1.54 0.0 0.0 0.0 0\n",
      "[started] 6750 5.0 -0.25 0.4 1.44 0.0 0.0 0.0 0\n",
      "[finished] 6750 4.5 0.5 0.0 1.55 0.0 0.0 0.0 0\n",
      "[started] 6750 5.0 0.0 0.0 1.45 0.0 0.0 0.0 0\n",
      "[finished] 6750 4.5 0.5 0.4 1.55 0.0 0.0 0.0 0\n",
      "[started] 6750 5.0 0.0 0.4 1.45 0.0 0.0 0.0 0\n",
      "[finished] 6750 5.0 -1.0 0.4 1.41 0.0 0.0 0.0 0\n",
      "[started] 6750 5.0 0.25 0.0 1.47 0.0 0.0 0.0 0\n",
      "[finished] 6750 5.0 -1.0 0.0 1.41 0.0 0.0 0.0 0\n",
      "[started] 6750 5.0 0.25 0.4 1.47 0.0 0.0 0.0 0\n",
      "[finished] 6750 5.0 -0.75 0.4 1.42 0.0 0.0 0.0 0\n",
      "[started] 6750 5.0 0.5 0.0 1.48 0.0 0.0 0.0 0\n",
      "[finished] 6750 5.0 -0.75 0.0 1.42 0.0 0.0 0.0 0\n",
      "[started] 6750 5.0 0.5 0.4 1.48 0.0 0.0 0.0 0\n",
      "[finished] 6750 5.0 -0.5 0.0 1.43 0.0 0.0 0.0 0\n",
      "[started] 7000 3.0 -1.0 0.0 2.64 0.0 0.0 0.0 0\n"
     ]
    },
    {
     "name": "stderr",
     "output_type": "stream",
     "text": [
      "[2023-01-06 20:24:38,387] [INFO] [turbospectrum:generate_spectrum:88]: Spherical model atmosphere with radius 8.17e+11 cm\n"
     ]
    },
    {
     "name": "stdout",
     "output_type": "stream",
     "text": [
      "[finished] 6750 5.0 -0.5 0.4 1.43 0.0 0.0 0.0 0\n",
      "[started] 7000 3.0 -1.0 0.4 2.64 0.0 0.0 0.0 0\n"
     ]
    },
    {
     "name": "stderr",
     "output_type": "stream",
     "text": [
      "[2023-01-06 20:24:39,130] [INFO] [turbospectrum:generate_spectrum:88]: Spherical model atmosphere with radius 8.17e+11 cm\n"
     ]
    },
    {
     "name": "stdout",
     "output_type": "stream",
     "text": [
      "[finished] 6750 5.0 -0.25 0.0 1.44 0.0 0.0 0.0 0\n",
      "[started] 7000 3.0 -0.75 0.0 2.65 0.0 0.0 0.0 0\n"
     ]
    },
    {
     "name": "stderr",
     "output_type": "stream",
     "text": [
      "[2023-01-06 20:24:51,398] [INFO] [turbospectrum:generate_spectrum:88]: Spherical model atmosphere with radius 3.65e+11 cm\n"
     ]
    },
    {
     "name": "stdout",
     "output_type": "stream",
     "text": [
      "[finished] 6750 5.0 -0.25 0.4 1.44 0.0 0.0 0.0 0\n",
      "[started] 7000 3.0 -0.75 0.4 2.65 0.0 0.0 0.0 0\n"
     ]
    },
    {
     "name": "stderr",
     "output_type": "stream",
     "text": [
      "[2023-01-06 20:24:54,041] [INFO] [turbospectrum:generate_spectrum:88]: Spherical model atmosphere with radius 3.65e+11 cm\n"
     ]
    },
    {
     "name": "stdout",
     "output_type": "stream",
     "text": [
      "[finished] 6750 5.0 0.0 0.4 1.45 0.0 0.0 0.0 0\n",
      "[started][finished]  70006750  3.05.0  -0.50.0 0.0  0.02.66  1.45 0.0 0.0 0.0 0.00.0  00.0\n",
      " 0\n",
      "[started] 7000 3.0 -0.5 0.4 2.66 0.0 0.0 0.0 0\n"
     ]
    },
    {
     "name": "stderr",
     "output_type": "stream",
     "text": [
      "[2023-01-06 20:24:54,801] [INFO] [turbospectrum:generate_spectrum:88]: Spherical model atmosphere with radius 3.65e+11 cm\n",
      "[2023-01-06 20:24:54,828] [INFO] [turbospectrum:generate_spectrum:88]: Spherical model atmosphere with radius 3.65e+11 cm\n"
     ]
    },
    {
     "name": "stdout",
     "output_type": "stream",
     "text": [
      "[finished] 6750 5.0 0.25 0.0 1.47 0.0 0.0 0.0 0\n",
      "[started] 7000 3.0 -0.25 0.0 2.67 0.0 0.0 0.0 0\n",
      "[finished] 6750 5.0 0.5 0.0 1.48 0.0 0.0 0.0 0\n",
      "[started] 7000 3.0 -0.25 0.4 2.67 0.0 0.0 0.0 0\n",
      "[finished] 6750 5.0 0.5 0.4 1.48 0.0 0.0 0.0 0\n",
      "[started] 7000 3.0 0.0 0.0 2.68 0.0 0.0 0.0 0\n"
     ]
    },
    {
     "name": "stderr",
     "output_type": "stream",
     "text": [
      "[2023-01-06 20:24:56,998] [INFO] [turbospectrum:generate_spectrum:88]: Spherical model atmosphere with radius 3.65e+11 cm\n"
     ]
    },
    {
     "name": "stdout",
     "output_type": "stream",
     "text": [
      "[finished] 6750 5.0 0.25 0.4 1.47 0.0 0.0 0.0 0\n",
      "[started] 7000 3.0 0.0 0.4 2.68 0.0 0.0 0.0 0\n"
     ]
    },
    {
     "name": "stderr",
     "output_type": "stream",
     "text": [
      "[2023-01-06 20:24:58,965] [INFO] [turbospectrum:generate_spectrum:88]: Spherical model atmosphere with radius 3.65e+11 cm\n"
     ]
    },
    {
     "name": "stdout",
     "output_type": "stream",
     "text": [
      "[finished] 7000 3.0 -0.25 0.0 2.67 0.0 0.0 0.0 0\n",
      "[started] 7000 3.0 0.25 0.0 2.7 0.0 0.0 0.0 0\n"
     ]
    },
    {
     "name": "stderr",
     "output_type": "stream",
     "text": [
      "[2023-01-06 20:26:17,539] [INFO] [turbospectrum:generate_spectrum:88]: Spherical model atmosphere with radius 3.65e+11 cm\n"
     ]
    },
    {
     "name": "stdout",
     "output_type": "stream",
     "text": [
      "[finished] 7000 3.0 -1.0 0.4 2.64 0.0 0.0 0.0 0\n",
      "[started] 7000 3.0 0.25 0.4 2.7 0.0 0.0 0.0 0\n",
      "[finished] 7000 3.0 -1.0 0.0 2.64 0.0 0.0 "
     ]
    },
    {
     "name": "stderr",
     "output_type": "stream",
     "text": [
      "[2023-01-06 20:26:18,494] [INFO] [turbospectrum:generate_spectrum:88]: Spherical model atmosphere with radius 3.65e+11 cm\n"
     ]
    },
    {
     "name": "stdout",
     "output_type": "stream",
     "text": [
      "0.0 0\n",
      "[started] 7000 3.0 0.5 0.0 2.71 0.0 0.0 0.0 0\n"
     ]
    },
    {
     "name": "stderr",
     "output_type": "stream",
     "text": [
      "[2023-01-06 20:26:18,610] [INFO] [turbospectrum:generate_spectrum:88]: Spherical model atmosphere with radius 3.65e+11 cm\n"
     ]
    },
    {
     "name": "stdout",
     "output_type": "stream",
     "text": [
      "[finished] 7000 3.0 -0.25 0.4 2.67 0.0 0.0 0.0 0\n",
      "[started] 7000 3.0 0.5 0.4 2.71 0.0 0.0 0.0 0\n"
     ]
    },
    {
     "name": "stderr",
     "output_type": "stream",
     "text": [
      "[2023-01-06 20:26:18,925] [INFO] [turbospectrum:generate_spectrum:88]: Spherical model atmosphere with radius 3.65e+11 cm\n"
     ]
    },
    {
     "name": "stdout",
     "output_type": "stream",
     "text": [
      "[finished] 7000 3.0 -0.75 0.0 2.65 0.0 0.0 0.0 0\n",
      "[started] 7000 3.5 -1.0 0.0 1.79 0.0 0.0 0.0 0\n"
     ]
    },
    {
     "name": "stderr",
     "output_type": "stream",
     "text": [
      "[2023-01-06 20:26:30,742] [INFO] [turbospectrum:generate_spectrum:88]: Spherical model atmosphere with radius 2.05e+11 cm\n"
     ]
    },
    {
     "name": "stdout",
     "output_type": "stream",
     "text": [
      "[finished] 7000 3.0 -0.75 0.4 2.65 0.0 0.0 0.0 0\n",
      "[started] 7000 3.5 -1.0 0.4 1.79 0.0 0.0 0.0 0\n",
      "[finished] 7000 3.0 -0.5 0.4 2.66 0.0 0.0 0.0 0\n"
     ]
    },
    {
     "name": "stderr",
     "output_type": "stream",
     "text": [
      "[2023-01-06 20:26:34,222] [INFO] [turbospectrum:generate_spectrum:88]: Spherical model atmosphere with radius 2.05e+11 cm\n"
     ]
    },
    {
     "name": "stdout",
     "output_type": "stream",
     "text": [
      "[started] 7000 3.5 -0.75 0.0 1.8 0.0 0.0 0.0 0\n",
      "[finished] 7000 3.0 -0.5 0.0 2.66 0.0 0.0 0.0 0\n",
      "[started] 7000 3.5 -0.75 0.4 1.8 0.0 0.0 0.0 0\n",
      "[finished] 7000 3.0 0.0 0.0 2.68 0.0 0.0 0.0 0\n",
      "[started] 7000 3.5 -0.5 0.0 1.81 0.0 0.0 0.0 0\n"
     ]
    },
    {
     "name": "stderr",
     "output_type": "stream",
     "text": [
      "[2023-01-06 20:26:37,243] [INFO] [turbospectrum:generate_spectrum:88]: Spherical model atmosphere with radius 2.05e+11 cm\n"
     ]
    },
    {
     "name": "stdout",
     "output_type": "stream",
     "text": [
      "[finished] 7000 3.0 0.0 0.4 2.68 0.0 0.0 0.0 0\n",
      "[started] 7000 3.5 -0.5 0.4 1.81 0.0 0.0 0.0 0\n"
     ]
    },
    {
     "name": "stderr",
     "output_type": "stream",
     "text": [
      "[2023-01-06 20:26:38,546] [INFO] [turbospectrum:generate_spectrum:88]: Spherical model atmosphere with radius 2.05e+11 cm\n"
     ]
    },
    {
     "name": "stdout",
     "output_type": "stream",
     "text": [
      "[finished] 7000 3.5 -0.75 0.0 1.8 0.0 0.0 0.0 0\n",
      "[started] 7000 3.5 -0.25 0.0 1.82 0.0 0.0 0.0 0\n"
     ]
    },
    {
     "name": "stderr",
     "output_type": "stream",
     "text": [
      "[2023-01-06 20:27:56,699] [INFO] [turbospectrum:generate_spectrum:88]: Spherical model atmosphere with radius 2.05e+11 cm\n"
     ]
    },
    {
     "name": "stdout",
     "output_type": "stream",
     "text": [
      "[finished] 7000 3.5 -0.75 0.4 1.8 0.0 0.0 0.0 0\n",
      "[started] 7000 3.5 -0.25 0.4 1.82 0.0 0.0 0.0 0\n"
     ]
    },
    {
     "name": "stderr",
     "output_type": "stream",
     "text": [
      "[2023-01-06 20:27:56,963] [INFO] [turbospectrum:generate_spectrum:88]: Spherical model atmosphere with radius 2.05e+11 cm\n"
     ]
    },
    {
     "name": "stdout",
     "output_type": "stream",
     "text": [
      "[finished] 7000 3.0 0.25 0.0 2.7 0.0 0.0 0.0 0\n",
      "[started] 7000 3.5 0.0 0.0 1.83 0.0 0.0 0.0 0\n",
      "[finished] 7000 3.0 0.5 0.0 2.71 0.0 0.0 0.0 0\n",
      "[started] 7000 3.5 0.0 0.4 1.83 0.0 0.0 0.0 0\n",
      "[finished] 7000 3.0 0.5 0.4 2.71 0.0 0.0 0.0 0\n",
      "[started] 7000 3.5 0.25 0.0 1.85 0.0 0.0 0.0 0\n"
     ]
    },
    {
     "name": "stderr",
     "output_type": "stream",
     "text": [
      "[2023-01-06 20:27:59,378] [INFO] [turbospectrum:generate_spectrum:88]: Spherical model atmosphere with radius 2.05e+11 cm\n"
     ]
    },
    {
     "name": "stdout",
     "output_type": "stream",
     "text": [
      "[finished] 7000 3.0 0.25 0.4 2.7 0.0 0.0 0.0 0\n",
      "[started] 7000 3.5 0.25 0.4 1.85 0.0 0.0 0.0 0\n"
     ]
    },
    {
     "name": "stderr",
     "output_type": "stream",
     "text": [
      "[2023-01-06 20:27:59,756] [INFO] [turbospectrum:generate_spectrum:88]: Spherical model atmosphere with radius 2.05e+11 cm\n"
     ]
    },
    {
     "name": "stdout",
     "output_type": "stream",
     "text": [
      "[finished] 7000 3.5 -1.0 0.0 1.79 0.0 0.0 0.0 0\n",
      "[started] 7000 3.5 0.5 0.0 1.86 0.0 0.0 0.0 0\n",
      "[finished] 7000 3.5 -1.0 0.4 1.79 0.0 0.0 0.0 0\n",
      "[started] 7000 3.5 0.5 0.4 1.86 0.0 0.0 0.0 0\n",
      "[finished] 7000 3.5 -0.5 0.0 1.81 0.0 0.0 0.0 0\n",
      "[started] 7000 4.0 -1.0 0.0 1.72 0.0 0.0 0.0 0\n",
      "[finished] 7000 3.5 -0.5 0.4 1.81 0.0 0.0 0.0 0\n",
      "[started] 7000 4.0 -1.0 0.4 1.72 0.0 0.0 0.0 0\n",
      "[finished] 7000 3.5 0.0 0.0 1.83 0.0 0.0 0.0 0\n",
      "[started] 7000 4.0 -0.75 0.0 1.73 0.0 0.0 0.0 0\n",
      "[finished] 7000 3.5 0.0 0.4 1.83 0.0 0.0 0.0 0\n",
      "[started] 7000 4.0 -0.75 0.4 1.73 0.0 0.0 0.0 0\n",
      "[finished] 7000 3.5 0.5 0.0 1.86 0.0 0.0 0.0 0\n",
      "[started] 7000 4.0 -0.5 0.0 1.74 0.0 0.0 0.0 0\n",
      "[finished] 7000 3.5 -0.25 0.0 1.82 0.0 0.0 0.0 0\n",
      "[started] 7000 4.0 -0.5 0.4 1.74 0.0 0.0 0.0 0\n",
      "[finished] 7000 3.5 0.5 0.4 1.86 0.0 0.0 0.0 0\n",
      "[started] 7000 4.0 -0.25 0.0 1.75 0.0 0.0 0.0 0\n",
      "[finished] 7000 3.5 -0.25 0.4 1.82 0.0 0.0 0.0 0\n",
      "[started] 7000 4.0 -0.25 0.4 1.75 0.0 0.0 0.0 0\n",
      "[finished] 7000 3.5 0.25 0.0 1.85 0.0 0.0 0.0 0\n",
      "[started] 7000 4.0 0.0 0.0 1.76 0.0 0.0 0.0 0\n",
      "[finished] 7000 3.5 0.25 0.4 1.85 0.0 0.0 0.0 0\n",
      "[started] 7000 4.0 0.0 0.4 1.76 0.0 0.0 0.0 0\n",
      "[finished] 7000 4.0 -1.0 0.4 1.72 0.0 0.0 0.0 0\n",
      "[started] 7000 4.0 0.25 0.0 1.78 0.0 0.0 0.0 0\n",
      "[finished] 7000 4.0 -1.0 0.0 1.72 0.0 0.0 0.0 0\n",
      "[started] 7000 4.0 0.25 0.4 1.78 0.0 0.0 0.0 0\n",
      "[finished] 7000 4.0 -0.75 0.0 1.73 0.0 0.0 0.0 0\n",
      "[started] 7000 4.0 0.5 0.0 1.79 0.0 0.0 0.0 0\n",
      "[finished] 7000 4.0 -0.75 0.4 1.73 0.0 0.0 0.0 0\n",
      "[started] 7000 4.0 0.5 0.4 1.79 0.0 0.0 0.0 0\n",
      "[finished] 7000 4.0 -0.5 0.0 1.74 0.0 0.0 0.0 0\n",
      "[started] 7000 4.5 -1.0 0.0 1.65 0.0 0.0 0.0 0\n",
      "[finished] 7000 4.0 -0.5 0.4 1.74 0.0 0.0 0.0 0\n",
      "[started] 7000 4.5 -1.0 0.4 1.65 0.0 0.0 0.0 0\n",
      "[finished] 7000 4.0 -0.25 0.0 1.75 0.0 0.0 0.0 0\n",
      "[started] 7000 4.5 -0.75 0.0 1.66 0.0 0.0 0.0 0\n",
      "[finished] 7000 4.0 -0.25 0.4 1.75 0.0 0.0 0.0 0\n",
      "[started] 7000 4.5 -0.75 0.4 1.66 0.0 0.0 0.0 0\n",
      "[finished] 7000 4.0 0.0 0.0 1.76 0.0 0.0 0.0 0\n",
      "[started] 7000 4.5 -0.5 0.0 1.67 0.0 0.0 0.0 0\n",
      "[finished] 7000 4.0 0.0 0.4 1.76 0.0 0.0 0.0 0\n",
      "[started] 7000 4.5 -0.5 0.4 1.67 0.0 0.0 0.0 0\n",
      "[finished] 7000 4.0 0.25 0.0 1.78 0.0 0.0 0.0 0\n",
      "[started] 7000 4.5 -0.25 0.0 1.68 0.0 0.0 0.0 0\n",
      "[finished] 7000 4.0 0.25 0.4 1.78 0.0 0.0 0.0 0\n",
      "[started] 7000 4.5 -0.25 0.4 1.68 0.0 0.0 0.0 0\n",
      "[finished] 7000 4.0 0.5 0.0 1.79 0.0 0.0 0.0 0\n",
      "[started] 7000 4.5 0.0 0.0 1.69 0.0 0.0 0.0 0\n",
      "[finished] 7000 4.0 0.5 0.4 1.79 0.0 0.0 0.0 0\n",
      "[started] 7000 4.5 0.0 0.4 1.69 0.0 0.0 0.0 0\n",
      "[finished] 7000 4.5 -1.0 0.0 1.65 0.0 0.0 0.0 0\n",
      "[started] 7000 4.5 0.25 0.0 1.71 0.0 0.0 0.0 0\n",
      "[finished] 7000 4.5 -1.0 0.4 1.65 0.0 0.0 0.0 0\n",
      "[started] 7000 4.5 0.25 0.4 1.71 0.0 0.0 0.0 0\n",
      "[finished] 7000 4.5 -0.75 0.0 1.66 0.0 0.0 0.0 0\n",
      "[started] 7000 4.5 0.5 0.0 1.72 0.0 0.0 0.0 0\n",
      "[finished] 7000 4.5 -0.5 0.0 1.67 0.0 0.0 0.0 0\n",
      "[started] 7000 4.5 0.5 0.4 1.72 0.0 0.0 0.0 0\n",
      "[finished] 7000 4.5 -0.75 0.4 1.66 0.0 0.0 0.0 0\n",
      "[started] 7000 5.0 -1.0 0.0 1.58 0.0 0.0 0.0 0\n",
      "[finished] 7000 4.5 -0.5 0.4 1.67 0.0 0.0 0.0 0\n",
      "[started] 7000 5.0 -1.0 0.4 1.58 0.0 0.0 0.0 0\n",
      "[finished] 7000 4.5 -0.25 0.0 1.68 0.0 0.0 0.0 0\n",
      "[started] 7000 5.0 -0.75 0.0 1.59 0.0 0.0 0.0 0\n",
      "[finished] 7000 4.5 -0.25 0.4 1.68 0.0 0.0 0.0 0\n",
      "[started] 7000 5.0 -0.75 0.4 1.59 0.0 0.0 0.0 0\n",
      "[finished] 7000 4.5 0.0 0.0 1.69 0.0 0.0 0.0 0\n",
      "[started] 7000 5.0 -0.5 0.0 1.6 0.0 0.0 0.0 0\n",
      "[finished] 7000 4.5 0.0 0.4 1.69 0.0 0.0 0.0 0\n",
      "[started] 7000 5.0 -0.5 0.4 1.6 0.0 0.0 0.0 0\n",
      "[finished] 7000 4.5 0.25 0.0 1.71 0.0 0.0 0.0 0\n",
      "[started] 7000 5.0 -0.25 0.0 1.61 0.0 0.0 0.0 0\n",
      "[finished] 7000 4.5 0.25 0.4 1.71 0.0 0.0 0.0 0\n",
      "[started] 7000 5.0 -0.25 0.4 1.61 0.0 0.0 0.0 0\n",
      "[finished] 7000 5.0 -1.0 0.0 1.58 0.0 0.0 0.0 0\n",
      "[started] 7000 5.0 0.0 0.0 1.62 0.0 0.0 0.0 0\n",
      "[finished] 7000 4.5 0.5 0.0 1.72 0.0 0.0 0.0 0\n",
      "[started] 7000 5.0 0.0 0.4 1.62 0.0 0.0 0.0 0\n",
      "[finished] 7000 4.5 0.5 0.4 1.72 0.0 0.0 0.0 0\n",
      "[started] 7000 5.0 0.25 0.0 1.63 0.0 0.0 0.0 0\n",
      "[finished] 7000 5.0 -1.0 0.4 1.58 0.0 0.0 0.0 0\n",
      "[started] 7000 5.0 0.25 0.4 1.63 0.0 0.0 0.0 0\n",
      "[finished] 7000 5.0 -0.75 0.0 1.59 0.0 0.0 0.0 0\n",
      "[started] 7000 5.0 0.5 0.0 1.65 0.0 0.0 0.0 0\n",
      "[finished] 7000 5.0 -0.75 0.4 1.59 0.0 0.0 0.0 0\n",
      "[started] 7000 5.0 0.5 0.4 1.65 0.0 0.0 0.0 0\n",
      "[finished] 7000 5.0 -0.5 0.4 1.6 0.0 0.0 0.0 0\n",
      "[finished] 7000 5.0 -0.5 0.0 1.6 0.0 0.0 0.0 0\n",
      "[finished] 7000 5.0 -0.25 0.0 1.61 0.0 0.0 0.0 0\n",
      "[finished] 7000 5.0 -0.25 0.4 1.61 0.0 0.0 0.0 0\n",
      "[finished] 7000 5.0 0.0 0.0 1.62 0.0 0.0 0.0 0\n",
      "[finished] 7000 5.0 0.25 0.0 1.63 0.0 0.0 0.0 0\n",
      "[finished] 7000 5.0 0.0 0.4 1.62 0.0 0.0 0.0 0\n",
      "[finished] 7000 5.0 0.25 0.4 1.63 0.0 0.0 0.0 0\n",
      "[finished] 7000 5.0 0.5 0.0 1.65 0.0 0.0 0.0 0\n",
      "[finished] 7000 5.0 0.5 0.4 1.65 0.0 0.0 0.0 0\n",
      "Written ispecgrid_hband_turbospectrum//parameters.tsv\n",
      "Quick grid: 3500_3.00_-1.00_0.00_1.78_0.00_0.00_0.00.fits.gz\n",
      "Quick grid: 3500_3.00_-1.00_0.40_1.78_0.00_0.00_0.00.fits.gz\n",
      "Quick grid: 3500_3.00_-0.75_0.00_1.79_0.00_0.00_0.00.fits.gz\n",
      "Quick grid: 3500_3.00_-0.75_0.40_1.79_0.00_0.00_0.00.fits.gz\n",
      "Quick grid: 3500_3.00_-0.50_0.00_1.80_0.00_0.00_0.00.fits.gz\n",
      "Quick grid: 3500_3.00_-0.50_0.40_1.80_0.00_0.00_0.00.fits.gz\n",
      "Quick grid: 3500_3.00_-0.25_0.00_1.81_0.00_0.00_0.00.fits.gz\n",
      "Quick grid: 3500_3.00_-0.25_0.40_1.81_0.00_0.00_0.00.fits.gz\n",
      "Quick grid: 3500_3.00_0.00_0.00_1.82_0.00_0.00_0.00.fits.gz\n",
      "Quick grid: 3500_3.00_0.00_0.40_1.82_0.00_0.00_0.00.fits.gz\n",
      "Quick grid: 3500_3.00_0.25_0.00_1.84_0.00_0.00_0.00.fits.gz\n",
      "Quick grid: 3500_3.00_0.25_0.40_1.84_0.00_0.00_0.00.fits.gz\n",
      "Quick grid: 3500_3.00_0.50_0.00_1.85_0.00_0.00_0.00.fits.gz\n",
      "Quick grid: 3500_3.00_0.50_0.40_1.85_0.00_0.00_0.00.fits.gz\n",
      "Quick grid: 3500_3.50_-1.00_0.00_0.99_0.00_0.00_0.00.fits.gz\n",
      "Quick grid: 3500_3.50_-1.00_0.40_0.99_0.00_0.00_0.00.fits.gz\n",
      "Quick grid: 3500_3.50_-0.75_0.00_1.00_0.00_0.00_0.00.fits.gz\n",
      "Quick grid: 3500_3.50_-0.75_0.40_1.00_0.00_0.00_0.00.fits.gz\n",
      "Quick grid: 3500_3.50_-0.50_0.00_1.01_0.00_0.00_0.00.fits.gz\n",
      "Quick grid: 3500_3.50_-0.50_0.40_1.01_0.00_0.00_0.00.fits.gz\n",
      "Quick grid: 3500_3.50_-0.25_0.00_1.02_0.00_0.00_0.00.fits.gz\n",
      "Quick grid: 3500_3.50_-0.25_0.40_1.02_0.00_0.00_0.00.fits.gz\n",
      "Quick grid: 3500_3.50_0.00_0.00_1.03_0.00_0.00_0.00.fits.gz\n",
      "Quick grid: 3500_3.50_0.00_0.40_1.03_0.00_0.00_0.00.fits.gz\n",
      "Quick grid: 3500_3.50_0.25_0.00_1.04_0.00_0.00_0.00.fits.gz\n",
      "Quick grid: 3500_3.50_0.25_0.40_1.04_0.00_0.00_0.00.fits.gz\n",
      "Quick grid: 3500_3.50_0.50_0.00_1.06_0.00_0.00_0.00.fits.gz\n",
      "Quick grid: 3500_3.50_0.50_0.40_1.06_0.00_0.00_0.00.fits.gz\n",
      "Quick grid: 3500_4.00_-1.00_0.00_0.92_0.00_0.00_0.00.fits.gz\n",
      "Quick grid: 3500_4.00_-1.00_0.40_0.92_0.00_0.00_0.00.fits.gz\n",
      "Quick grid: 3500_4.00_-0.75_0.00_0.93_0.00_0.00_0.00.fits.gz\n",
      "Quick grid: 3500_4.00_-0.75_0.40_0.93_0.00_0.00_0.00.fits.gz\n",
      "Quick grid: 3500_4.00_-0.50_0.00_0.94_0.00_0.00_0.00.fits.gz\n",
      "Quick grid: 3500_4.00_-0.50_0.40_0.94_0.00_0.00_0.00.fits.gz\n",
      "Quick grid: 3500_4.00_-0.25_0.00_0.95_0.00_0.00_0.00.fits.gz\n",
      "Quick grid: 3500_4.00_-0.25_0.40_0.95_0.00_0.00_0.00.fits.gz\n",
      "Quick grid: 3500_4.00_0.00_0.00_0.96_0.00_0.00_0.00.fits.gz\n",
      "Quick grid: 3500_4.00_0.00_0.40_0.96_0.00_0.00_0.00.fits.gz\n",
      "Quick grid: 3500_4.00_0.25_0.00_0.98_0.00_0.00_0.00.fits.gz\n",
      "Quick grid: 3500_4.00_0.25_0.40_0.98_0.00_0.00_0.00.fits.gz\n",
      "Quick grid: 3500_4.00_0.50_0.00_0.99_0.00_0.00_0.00.fits.gz\n",
      "Quick grid: 3500_4.00_0.50_0.40_0.99_0.00_0.00_0.00.fits.gz\n",
      "Quick grid: 3500_4.50_-1.00_0.00_0.85_0.00_0.00_0.00.fits.gz\n",
      "Quick grid: 3500_4.50_-1.00_0.40_0.85_0.00_0.00_0.00.fits.gz\n",
      "Quick grid: 3500_4.50_-0.75_0.00_0.86_0.00_0.00_0.00.fits.gz\n",
      "Quick grid: 3500_4.50_-0.75_0.40_0.86_0.00_0.00_0.00.fits.gz\n",
      "Quick grid: 3500_4.50_-0.50_0.00_0.87_0.00_0.00_0.00.fits.gz\n",
      "Quick grid: 3500_4.50_-0.50_0.40_0.87_0.00_0.00_0.00.fits.gz\n",
      "Quick grid: 3500_4.50_-0.25_0.00_0.88_0.00_0.00_0.00.fits.gz\n",
      "Quick grid: 3500_4.50_-0.25_0.40_0.88_0.00_0.00_0.00.fits.gz\n",
      "Quick grid: 3500_4.50_0.00_0.00_0.89_0.00_0.00_0.00.fits.gz\n",
      "Quick grid: 3500_4.50_0.00_0.40_0.89_0.00_0.00_0.00.fits.gz\n",
      "Quick grid: 3500_4.50_0.25_0.00_0.90_0.00_0.00_0.00.fits.gz\n",
      "Quick grid: 3500_4.50_0.25_0.40_0.90_0.00_0.00_0.00.fits.gz\n",
      "Quick grid: 3500_4.50_0.50_0.00_0.92_0.00_0.00_0.00.fits.gz\n",
      "Quick grid: 3500_4.50_0.50_0.40_0.92_0.00_0.00_0.00.fits.gz\n",
      "Quick grid: 3500_5.00_-1.00_0.00_0.78_0.00_0.00_0.00.fits.gz\n",
      "Quick grid: 3500_5.00_-1.00_0.40_0.78_0.00_0.00_0.00.fits.gz\n"
     ]
    },
    {
     "name": "stdout",
     "output_type": "stream",
     "text": [
      "Quick grid: 3500_5.00_-0.75_0.00_0.79_0.00_0.00_0.00.fits.gz\n",
      "Quick grid: 3500_5.00_-0.75_0.40_0.79_0.00_0.00_0.00.fits.gz\n",
      "Quick grid: 3500_5.00_-0.50_0.00_0.79_0.00_0.00_0.00.fits.gz\n",
      "Quick grid: 3500_5.00_-0.50_0.40_0.79_0.00_0.00_0.00.fits.gz\n",
      "Quick grid: 3500_5.00_-0.25_0.00_0.81_0.00_0.00_0.00.fits.gz\n",
      "Quick grid: 3500_5.00_-0.25_0.40_0.81_0.00_0.00_0.00.fits.gz\n",
      "Quick grid: 3500_5.00_0.00_0.00_0.82_0.00_0.00_0.00.fits.gz\n",
      "Quick grid: 3500_5.00_0.00_0.40_0.82_0.00_0.00_0.00.fits.gz\n",
      "Quick grid: 3500_5.00_0.25_0.00_0.83_0.00_0.00_0.00.fits.gz\n",
      "Quick grid: 3500_5.00_0.25_0.40_0.83_0.00_0.00_0.00.fits.gz\n",
      "Quick grid: 3500_5.00_0.50_0.00_0.84_0.00_0.00_0.00.fits.gz\n",
      "Quick grid: 3500_5.00_0.50_0.40_0.84_0.00_0.00_0.00.fits.gz\n",
      "Quick grid: 3750_3.00_-1.00_0.00_1.59_0.00_0.00_0.00.fits.gz\n",
      "Quick grid: 3750_3.00_-1.00_0.40_1.59_0.00_0.00_0.00.fits.gz\n",
      "Quick grid: 3750_3.00_-0.75_0.00_1.60_0.00_0.00_0.00.fits.gz\n",
      "Quick grid: 3750_3.00_-0.75_0.40_1.60_0.00_0.00_0.00.fits.gz\n",
      "Quick grid: 3750_3.00_-0.50_0.00_1.61_0.00_0.00_0.00.fits.gz\n",
      "Quick grid: 3750_3.00_-0.50_0.40_1.61_0.00_0.00_0.00.fits.gz\n",
      "Quick grid: 3750_3.00_-0.25_0.00_1.62_0.00_0.00_0.00.fits.gz\n",
      "Quick grid: 3750_3.00_-0.25_0.40_1.62_0.00_0.00_0.00.fits.gz\n",
      "Quick grid: 3750_3.00_0.00_0.00_1.63_0.00_0.00_0.00.fits.gz\n",
      "Quick grid: 3750_3.00_0.00_0.40_1.63_0.00_0.00_0.00.fits.gz\n",
      "Quick grid: 3750_3.00_0.25_0.00_1.65_0.00_0.00_0.00.fits.gz\n",
      "Quick grid: 3750_3.00_0.25_0.40_1.65_0.00_0.00_0.00.fits.gz\n",
      "Quick grid: 3750_3.00_0.50_0.00_1.66_0.00_0.00_0.00.fits.gz\n",
      "Quick grid: 3750_3.00_0.50_0.40_1.66_0.00_0.00_0.00.fits.gz\n",
      "Quick grid: 3750_3.50_-1.00_0.00_0.99_0.00_0.00_0.00.fits.gz\n",
      "Quick grid: 3750_3.50_-1.00_0.40_0.99_0.00_0.00_0.00.fits.gz\n",
      "Quick grid: 3750_3.50_-0.75_0.00_1.00_0.00_0.00_0.00.fits.gz\n",
      "Quick grid: 3750_3.50_-0.75_0.40_1.00_0.00_0.00_0.00.fits.gz\n",
      "Quick grid: 3750_3.50_-0.50_0.00_1.01_0.00_0.00_0.00.fits.gz\n",
      "Quick grid: 3750_3.50_-0.50_0.40_1.01_0.00_0.00_0.00.fits.gz\n",
      "Quick grid: 3750_3.50_-0.25_0.00_1.02_0.00_0.00_0.00.fits.gz\n",
      "Quick grid: 3750_3.50_-0.25_0.40_1.02_0.00_0.00_0.00.fits.gz\n",
      "Quick grid: 3750_3.50_0.00_0.00_1.03_0.00_0.00_0.00.fits.gz\n",
      "Quick grid: 3750_3.50_0.00_0.40_1.03_0.00_0.00_0.00.fits.gz\n",
      "Quick grid: 3750_3.50_0.25_0.00_1.04_0.00_0.00_0.00.fits.gz\n",
      "Quick grid: 3750_3.50_0.25_0.40_1.04_0.00_0.00_0.00.fits.gz\n",
      "Quick grid: 3750_3.50_0.50_0.00_1.06_0.00_0.00_0.00.fits.gz\n",
      "Quick grid: 3750_3.50_0.50_0.40_1.06_0.00_0.00_0.00.fits.gz\n",
      "Quick grid: 3750_4.00_-1.00_0.00_0.92_0.00_0.00_0.00.fits.gz\n",
      "Quick grid: 3750_4.00_-1.00_0.40_0.92_0.00_0.00_0.00.fits.gz\n",
      "Quick grid: 3750_4.00_-0.75_0.00_0.93_0.00_0.00_0.00.fits.gz\n",
      "Quick grid: 3750_4.00_-0.75_0.40_0.93_0.00_0.00_0.00.fits.gz\n",
      "Quick grid: 3750_4.00_-0.50_0.00_0.94_0.00_0.00_0.00.fits.gz\n",
      "Quick grid: 3750_4.00_-0.50_0.40_0.94_0.00_0.00_0.00.fits.gz\n",
      "Quick grid: 3750_4.00_-0.25_0.00_0.95_0.00_0.00_0.00.fits.gz\n",
      "Quick grid: 3750_4.00_-0.25_0.40_0.95_0.00_0.00_0.00.fits.gz\n",
      "Quick grid: 3750_4.00_0.00_0.00_0.96_0.00_0.00_0.00.fits.gz\n",
      "Quick grid: 3750_4.00_0.00_0.40_0.96_0.00_0.00_0.00.fits.gz\n",
      "Quick grid: 3750_4.00_0.25_0.00_0.98_0.00_0.00_0.00.fits.gz\n",
      "Quick grid: 3750_4.00_0.25_0.40_0.98_0.00_0.00_0.00.fits.gz\n",
      "Quick grid: 3750_4.00_0.50_0.00_0.99_0.00_0.00_0.00.fits.gz\n",
      "Quick grid: 3750_4.00_0.50_0.40_0.99_0.00_0.00_0.00.fits.gz\n",
      "Quick grid: 3750_4.50_-1.00_0.00_0.85_0.00_0.00_0.00.fits.gz\n",
      "Quick grid: 3750_4.50_-1.00_0.40_0.85_0.00_0.00_0.00.fits.gz\n",
      "Quick grid: 3750_4.50_-0.75_0.00_0.86_0.00_0.00_0.00.fits.gz\n",
      "Quick grid: 3750_4.50_-0.75_0.40_0.86_0.00_0.00_0.00.fits.gz\n",
      "Quick grid: 3750_4.50_-0.50_0.00_0.87_0.00_0.00_0.00.fits.gz\n",
      "Quick grid: 3750_4.50_-0.50_0.40_0.87_0.00_0.00_0.00.fits.gz\n",
      "Quick grid: 3750_4.50_-0.25_0.00_0.88_0.00_0.00_0.00.fits.gz\n",
      "Quick grid: 3750_4.50_-0.25_0.40_0.88_0.00_0.00_0.00.fits.gz\n",
      "Quick grid: 3750_4.50_0.00_0.00_0.89_0.00_0.00_0.00.fits.gz\n",
      "Quick grid: 3750_4.50_0.00_0.40_0.89_0.00_0.00_0.00.fits.gz\n",
      "Quick grid: 3750_4.50_0.25_0.00_0.90_0.00_0.00_0.00.fits.gz\n",
      "Quick grid: 3750_4.50_0.25_0.40_0.90_0.00_0.00_0.00.fits.gz\n",
      "Quick grid: 3750_4.50_0.50_0.00_0.92_0.00_0.00_0.00.fits.gz\n",
      "Quick grid: 3750_4.50_0.50_0.40_0.92_0.00_0.00_0.00.fits.gz\n",
      "Quick grid: 3750_5.00_-1.00_0.00_0.78_0.00_0.00_0.00.fits.gz\n",
      "Quick grid: 3750_5.00_-1.00_0.40_0.78_0.00_0.00_0.00.fits.gz\n",
      "Quick grid: 3750_5.00_-0.75_0.00_0.79_0.00_0.00_0.00.fits.gz\n",
      "Quick grid: 3750_5.00_-0.75_0.40_0.79_0.00_0.00_0.00.fits.gz\n",
      "Quick grid: 3750_5.00_-0.50_0.00_0.79_0.00_0.00_0.00.fits.gz\n",
      "Quick grid: 3750_5.00_-0.50_0.40_0.79_0.00_0.00_0.00.fits.gz\n",
      "Quick grid: 3750_5.00_-0.25_0.00_0.81_0.00_0.00_0.00.fits.gz\n",
      "Quick grid: 3750_5.00_-0.25_0.40_0.81_0.00_0.00_0.00.fits.gz\n",
      "Quick grid: 3750_5.00_0.00_0.00_0.82_0.00_0.00_0.00.fits.gz\n",
      "Quick grid: 3750_5.00_0.00_0.40_0.82_0.00_0.00_0.00.fits.gz\n",
      "Quick grid: 3750_5.00_0.25_0.00_0.83_0.00_0.00_0.00.fits.gz\n",
      "Quick grid: 3750_5.00_0.25_0.40_0.83_0.00_0.00_0.00.fits.gz\n",
      "Quick grid: 3750_5.00_0.50_0.00_0.84_0.00_0.00_0.00.fits.gz\n",
      "Quick grid: 3750_5.00_0.50_0.40_0.84_0.00_0.00_0.00.fits.gz\n",
      "Quick grid: 4000_3.00_-1.00_0.00_1.44_0.00_0.00_0.00.fits.gz\n",
      "Quick grid: 4000_3.00_-1.00_0.40_1.44_0.00_0.00_0.00.fits.gz\n",
      "Quick grid: 4000_3.00_-0.75_0.00_1.45_0.00_0.00_0.00.fits.gz\n",
      "Quick grid: 4000_3.00_-0.75_0.40_1.45_0.00_0.00_0.00.fits.gz\n",
      "Quick grid: 4000_3.00_-0.50_0.00_1.46_0.00_0.00_0.00.fits.gz\n",
      "Quick grid: 4000_3.00_-0.50_0.40_1.46_0.00_0.00_0.00.fits.gz\n",
      "Quick grid: 4000_3.00_-0.25_0.00_1.47_0.00_0.00_0.00.fits.gz\n",
      "Quick grid: 4000_3.00_-0.25_0.40_1.47_0.00_0.00_0.00.fits.gz\n",
      "Quick grid: 4000_3.00_0.00_0.00_1.48_0.00_0.00_0.00.fits.gz\n",
      "Quick grid: 4000_3.00_0.00_0.40_1.48_0.00_0.00_0.00.fits.gz\n",
      "Quick grid: 4000_3.00_0.25_0.00_1.49_0.00_0.00_0.00.fits.gz\n",
      "Quick grid: 4000_3.00_0.25_0.40_1.49_0.00_0.00_0.00.fits.gz\n",
      "Quick grid: 4000_3.00_0.50_0.00_1.51_0.00_0.00_0.00.fits.gz\n",
      "Quick grid: 4000_3.00_0.50_0.40_1.51_0.00_0.00_0.00.fits.gz\n",
      "Quick grid: 4000_3.50_-1.00_0.00_0.99_0.00_0.00_0.00.fits.gz\n",
      "Quick grid: 4000_3.50_-1.00_0.40_0.99_0.00_0.00_0.00.fits.gz\n",
      "Quick grid: 4000_3.50_-0.75_0.00_1.00_0.00_0.00_0.00.fits.gz\n",
      "Quick grid: 4000_3.50_-0.75_0.40_1.00_0.00_0.00_0.00.fits.gz\n",
      "Quick grid: 4000_3.50_-0.50_0.00_1.01_0.00_0.00_0.00.fits.gz\n",
      "Quick grid: 4000_3.50_-0.50_0.40_1.01_0.00_0.00_0.00.fits.gz\n",
      "Quick grid: 4000_3.50_-0.25_0.00_1.02_0.00_0.00_0.00.fits.gz\n",
      "Quick grid: 4000_3.50_-0.25_0.40_1.02_0.00_0.00_0.00.fits.gz\n",
      "Quick grid: 4000_3.50_0.00_0.00_1.03_0.00_0.00_0.00.fits.gz\n",
      "Quick grid: 4000_3.50_0.00_0.40_1.03_0.00_0.00_0.00.fits.gz\n",
      "Quick grid: 4000_3.50_0.25_0.00_1.04_0.00_0.00_0.00.fits.gz\n",
      "Quick grid: 4000_3.50_0.25_0.40_1.04_0.00_0.00_0.00.fits.gz\n",
      "Quick grid: 4000_3.50_0.50_0.00_1.06_0.00_0.00_0.00.fits.gz\n",
      "Quick grid: 4000_3.50_0.50_0.40_1.06_0.00_0.00_0.00.fits.gz\n",
      "Quick grid: 4000_4.00_-1.00_0.00_0.92_0.00_0.00_0.00.fits.gz\n",
      "Quick grid: 4000_4.00_-1.00_0.40_0.92_0.00_0.00_0.00.fits.gz\n",
      "Quick grid: 4000_4.00_-0.75_0.00_0.93_0.00_0.00_0.00.fits.gz\n",
      "Quick grid: 4000_4.00_-0.75_0.40_0.93_0.00_0.00_0.00.fits.gz\n",
      "Quick grid: 4000_4.00_-0.50_0.00_0.94_0.00_0.00_0.00.fits.gz\n",
      "Quick grid: 4000_4.00_-0.50_0.40_0.94_0.00_0.00_0.00.fits.gz\n",
      "Quick grid: 4000_4.00_-0.25_0.00_0.95_0.00_0.00_0.00.fits.gz\n",
      "Quick grid: 4000_4.00_-0.25_0.40_0.95_0.00_0.00_0.00.fits.gz\n",
      "Quick grid: 4000_4.00_0.00_0.00_0.96_0.00_0.00_0.00.fits.gz\n",
      "Quick grid: 4000_4.00_0.00_0.40_0.96_0.00_0.00_0.00.fits.gz\n",
      "Quick grid: 4000_4.00_0.25_0.00_0.98_0.00_0.00_0.00.fits.gz\n",
      "Quick grid: 4000_4.00_0.25_0.40_0.98_0.00_0.00_0.00.fits.gz\n",
      "Quick grid: 4000_4.00_0.50_0.00_0.99_0.00_0.00_0.00.fits.gz\n",
      "Quick grid: 4000_4.00_0.50_0.40_0.99_0.00_0.00_0.00.fits.gz\n",
      "Quick grid: 4000_4.50_-1.00_0.00_0.85_0.00_0.00_0.00.fits.gz\n",
      "Quick grid: 4000_4.50_-1.00_0.40_0.85_0.00_0.00_0.00.fits.gz\n",
      "Quick grid: 4000_4.50_-0.75_0.00_0.86_0.00_0.00_0.00.fits.gz\n",
      "Quick grid: 4000_4.50_-0.75_0.40_0.86_0.00_0.00_0.00.fits.gz\n",
      "Quick grid: 4000_4.50_-0.50_0.00_0.87_0.00_0.00_0.00.fits.gz\n",
      "Quick grid: 4000_4.50_-0.50_0.40_0.87_0.00_0.00_0.00.fits.gz\n",
      "Quick grid: 4000_4.50_-0.25_0.00_0.88_0.00_0.00_0.00.fits.gz\n",
      "Quick grid: 4000_4.50_-0.25_0.40_0.88_0.00_0.00_0.00.fits.gz\n",
      "Quick grid: 4000_4.50_0.00_0.00_0.89_0.00_0.00_0.00.fits.gz\n",
      "Quick grid: 4000_4.50_0.00_0.40_0.89_0.00_0.00_0.00.fits.gz\n",
      "Quick grid: 4000_4.50_0.25_0.00_0.90_0.00_0.00_0.00.fits.gz\n",
      "Quick grid: 4000_4.50_0.25_0.40_0.90_0.00_0.00_0.00.fits.gz\n"
     ]
    },
    {
     "name": "stdout",
     "output_type": "stream",
     "text": [
      "Quick grid: 4000_4.50_0.50_0.00_0.92_0.00_0.00_0.00.fits.gz\n",
      "Quick grid: 4000_4.50_0.50_0.40_0.92_0.00_0.00_0.00.fits.gz\n",
      "Quick grid: 4000_5.00_-1.00_0.00_0.78_0.00_0.00_0.00.fits.gz\n",
      "Quick grid: 4000_5.00_-1.00_0.40_0.78_0.00_0.00_0.00.fits.gz\n",
      "Quick grid: 4000_5.00_-0.75_0.00_0.79_0.00_0.00_0.00.fits.gz\n",
      "Quick grid: 4000_5.00_-0.75_0.40_0.79_0.00_0.00_0.00.fits.gz\n",
      "Quick grid: 4000_5.00_-0.50_0.00_0.79_0.00_0.00_0.00.fits.gz\n",
      "Quick grid: 4000_5.00_-0.50_0.40_0.79_0.00_0.00_0.00.fits.gz\n",
      "Quick grid: 4000_5.00_-0.25_0.00_0.81_0.00_0.00_0.00.fits.gz\n",
      "Quick grid: 4000_5.00_-0.25_0.40_0.81_0.00_0.00_0.00.fits.gz\n",
      "Quick grid: 4000_5.00_0.00_0.00_0.82_0.00_0.00_0.00.fits.gz\n",
      "Quick grid: 4000_5.00_0.00_0.40_0.82_0.00_0.00_0.00.fits.gz\n",
      "Quick grid: 4000_5.00_0.25_0.00_0.83_0.00_0.00_0.00.fits.gz\n",
      "Quick grid: 4000_5.00_0.25_0.40_0.83_0.00_0.00_0.00.fits.gz\n",
      "Quick grid: 4000_5.00_0.50_0.00_0.84_0.00_0.00_0.00.fits.gz\n",
      "Quick grid: 4000_5.00_0.50_0.40_0.84_0.00_0.00_0.00.fits.gz\n",
      "Quick grid: 4250_3.00_-1.00_0.00_1.33_0.00_0.00_0.00.fits.gz\n",
      "Quick grid: 4250_3.00_-1.00_0.40_1.33_0.00_0.00_0.00.fits.gz\n",
      "Quick grid: 4250_3.00_-0.75_0.00_1.34_0.00_0.00_0.00.fits.gz\n",
      "Quick grid: 4250_3.00_-0.75_0.40_1.34_0.00_0.00_0.00.fits.gz\n",
      "Quick grid: 4250_3.00_-0.50_0.00_1.35_0.00_0.00_0.00.fits.gz\n",
      "Quick grid: 4250_3.00_-0.50_0.40_1.35_0.00_0.00_0.00.fits.gz\n",
      "Quick grid: 4250_3.00_-0.25_0.00_1.36_0.00_0.00_0.00.fits.gz\n",
      "Quick grid: 4250_3.00_-0.25_0.40_1.36_0.00_0.00_0.00.fits.gz\n",
      "Quick grid: 4250_3.00_0.00_0.00_1.37_0.00_0.00_0.00.fits.gz\n",
      "Quick grid: 4250_3.00_0.00_0.40_1.37_0.00_0.00_0.00.fits.gz\n",
      "Quick grid: 4250_3.00_0.25_0.00_1.38_0.00_0.00_0.00.fits.gz\n",
      "Quick grid: 4250_3.00_0.25_0.40_1.38_0.00_0.00_0.00.fits.gz\n",
      "Quick grid: 4250_3.00_0.50_0.00_1.40_0.00_0.00_0.00.fits.gz\n",
      "Quick grid: 4250_3.00_0.50_0.40_1.40_0.00_0.00_0.00.fits.gz\n",
      "Quick grid: 4250_3.50_-1.00_0.00_0.99_0.00_0.00_0.00.fits.gz\n",
      "Quick grid: 4250_3.50_-1.00_0.40_0.99_0.00_0.00_0.00.fits.gz\n",
      "Quick grid: 4250_3.50_-0.75_0.00_1.00_0.00_0.00_0.00.fits.gz\n",
      "Quick grid: 4250_3.50_-0.75_0.40_1.00_0.00_0.00_0.00.fits.gz\n",
      "Quick grid: 4250_3.50_-0.50_0.00_1.01_0.00_0.00_0.00.fits.gz\n",
      "Quick grid: 4250_3.50_-0.50_0.40_1.01_0.00_0.00_0.00.fits.gz\n",
      "Quick grid: 4250_3.50_-0.25_0.00_1.02_0.00_0.00_0.00.fits.gz\n",
      "Quick grid: 4250_3.50_-0.25_0.40_1.02_0.00_0.00_0.00.fits.gz\n",
      "Quick grid: 4250_3.50_0.00_0.00_1.03_0.00_0.00_0.00.fits.gz\n",
      "Quick grid: 4250_3.50_0.00_0.40_1.03_0.00_0.00_0.00.fits.gz\n",
      "Quick grid: 4250_3.50_0.25_0.00_1.04_0.00_0.00_0.00.fits.gz\n",
      "Quick grid: 4250_3.50_0.25_0.40_1.04_0.00_0.00_0.00.fits.gz\n",
      "Quick grid: 4250_3.50_0.50_0.00_1.06_0.00_0.00_0.00.fits.gz\n",
      "Quick grid: 4250_3.50_0.50_0.40_1.06_0.00_0.00_0.00.fits.gz\n",
      "Quick grid: 4250_4.00_-1.00_0.00_0.92_0.00_0.00_0.00.fits.gz\n",
      "Quick grid: 4250_4.00_-1.00_0.40_0.92_0.00_0.00_0.00.fits.gz\n",
      "Quick grid: 4250_4.00_-0.75_0.00_0.93_0.00_0.00_0.00.fits.gz\n",
      "Quick grid: 4250_4.00_-0.75_0.40_0.93_0.00_0.00_0.00.fits.gz\n",
      "Quick grid: 4250_4.00_-0.50_0.00_0.94_0.00_0.00_0.00.fits.gz\n",
      "Quick grid: 4250_4.00_-0.50_0.40_0.94_0.00_0.00_0.00.fits.gz\n",
      "Quick grid: 4250_4.00_-0.25_0.00_0.95_0.00_0.00_0.00.fits.gz\n",
      "Quick grid: 4250_4.00_-0.25_0.40_0.95_0.00_0.00_0.00.fits.gz\n",
      "Quick grid: 4250_4.00_0.00_0.00_0.96_0.00_0.00_0.00.fits.gz\n",
      "Quick grid: 4250_4.00_0.00_0.40_0.96_0.00_0.00_0.00.fits.gz\n",
      "Quick grid: 4250_4.00_0.25_0.00_0.98_0.00_0.00_0.00.fits.gz\n",
      "Quick grid: 4250_4.00_0.25_0.40_0.98_0.00_0.00_0.00.fits.gz\n",
      "Quick grid: 4250_4.00_0.50_0.00_0.99_0.00_0.00_0.00.fits.gz\n",
      "Quick grid: 4250_4.00_0.50_0.40_0.99_0.00_0.00_0.00.fits.gz\n",
      "Quick grid: 4250_4.50_-1.00_0.00_0.85_0.00_0.00_0.00.fits.gz\n",
      "Quick grid: 4250_4.50_-1.00_0.40_0.85_0.00_0.00_0.00.fits.gz\n",
      "Quick grid: 4250_4.50_-0.75_0.00_0.86_0.00_0.00_0.00.fits.gz\n",
      "Quick grid: 4250_4.50_-0.75_0.40_0.86_0.00_0.00_0.00.fits.gz\n",
      "Quick grid: 4250_4.50_-0.50_0.00_0.87_0.00_0.00_0.00.fits.gz\n",
      "Quick grid: 4250_4.50_-0.50_0.40_0.87_0.00_0.00_0.00.fits.gz\n",
      "Quick grid: 4250_4.50_-0.25_0.00_0.88_0.00_0.00_0.00.fits.gz\n",
      "Quick grid: 4250_4.50_-0.25_0.40_0.88_0.00_0.00_0.00.fits.gz\n",
      "Quick grid: 4250_4.50_0.00_0.00_0.89_0.00_0.00_0.00.fits.gz\n",
      "Quick grid: 4250_4.50_0.00_0.40_0.89_0.00_0.00_0.00.fits.gz\n",
      "Quick grid: 4250_4.50_0.25_0.00_0.90_0.00_0.00_0.00.fits.gz\n",
      "Quick grid: 4250_4.50_0.25_0.40_0.90_0.00_0.00_0.00.fits.gz\n",
      "Quick grid: 4250_4.50_0.50_0.00_0.92_0.00_0.00_0.00.fits.gz\n",
      "Quick grid: 4250_4.50_0.50_0.40_0.92_0.00_0.00_0.00.fits.gz\n",
      "Quick grid: 4250_5.00_-1.00_0.00_0.78_0.00_0.00_0.00.fits.gz\n",
      "Quick grid: 4250_5.00_-1.00_0.40_0.78_0.00_0.00_0.00.fits.gz\n",
      "Quick grid: 4250_5.00_-0.75_0.00_0.79_0.00_0.00_0.00.fits.gz\n",
      "Quick grid: 4250_5.00_-0.75_0.40_0.79_0.00_0.00_0.00.fits.gz\n",
      "Quick grid: 4250_5.00_-0.50_0.00_0.79_0.00_0.00_0.00.fits.gz\n",
      "Quick grid: 4250_5.00_-0.50_0.40_0.79_0.00_0.00_0.00.fits.gz\n",
      "Quick grid: 4250_5.00_-0.25_0.00_0.81_0.00_0.00_0.00.fits.gz\n",
      "Quick grid: 4250_5.00_-0.25_0.40_0.81_0.00_0.00_0.00.fits.gz\n",
      "Quick grid: 4250_5.00_0.00_0.00_0.82_0.00_0.00_0.00.fits.gz\n",
      "Quick grid: 4250_5.00_0.00_0.40_0.82_0.00_0.00_0.00.fits.gz\n",
      "Quick grid: 4250_5.00_0.25_0.00_0.83_0.00_0.00_0.00.fits.gz\n",
      "Quick grid: 4250_5.00_0.25_0.40_0.83_0.00_0.00_0.00.fits.gz\n",
      "Quick grid: 4250_5.00_0.50_0.00_0.84_0.00_0.00_0.00.fits.gz\n",
      "Quick grid: 4250_5.00_0.50_0.40_0.84_0.00_0.00_0.00.fits.gz\n",
      "Quick grid: 4500_3.00_-1.00_0.00_1.25_0.00_0.00_0.00.fits.gz\n",
      "Quick grid: 4500_3.00_-1.00_0.40_1.25_0.00_0.00_0.00.fits.gz\n",
      "Quick grid: 4500_3.00_-0.75_0.00_1.26_0.00_0.00_0.00.fits.gz\n",
      "Quick grid: 4500_3.00_-0.75_0.40_1.26_0.00_0.00_0.00.fits.gz\n",
      "Quick grid: 4500_3.00_-0.50_0.00_1.27_0.00_0.00_0.00.fits.gz\n",
      "Quick grid: 4500_3.00_-0.50_0.40_1.27_0.00_0.00_0.00.fits.gz\n",
      "Quick grid: 4500_3.00_-0.25_0.00_1.28_0.00_0.00_0.00.fits.gz\n",
      "Quick grid: 4500_3.00_-0.25_0.40_1.28_0.00_0.00_0.00.fits.gz\n",
      "Quick grid: 4500_3.00_0.00_0.00_1.29_0.00_0.00_0.00.fits.gz\n",
      "Quick grid: 4500_3.00_0.00_0.40_1.29_0.00_0.00_0.00.fits.gz\n",
      "Quick grid: 4500_3.00_0.25_0.00_1.31_0.00_0.00_0.00.fits.gz\n",
      "Quick grid: 4500_3.00_0.25_0.40_1.31_0.00_0.00_0.00.fits.gz\n",
      "Quick grid: 4500_3.00_0.50_0.00_1.32_0.00_0.00_0.00.fits.gz\n",
      "Quick grid: 4500_3.00_0.50_0.40_1.32_0.00_0.00_0.00.fits.gz\n",
      "Quick grid: 4500_3.50_-1.00_0.00_0.99_0.00_0.00_0.00.fits.gz\n",
      "Quick grid: 4500_3.50_-1.00_0.40_0.99_0.00_0.00_0.00.fits.gz\n",
      "Quick grid: 4500_3.50_-0.75_0.00_1.00_0.00_0.00_0.00.fits.gz\n",
      "Quick grid: 4500_3.50_-0.75_0.40_1.00_0.00_0.00_0.00.fits.gz\n",
      "Quick grid: 4500_3.50_-0.50_0.00_1.01_0.00_0.00_0.00.fits.gz\n",
      "Quick grid: 4500_3.50_-0.50_0.40_1.01_0.00_0.00_0.00.fits.gz\n",
      "Quick grid: 4500_3.50_-0.25_0.00_1.02_0.00_0.00_0.00.fits.gz\n",
      "Quick grid: 4500_3.50_-0.25_0.40_1.02_0.00_0.00_0.00.fits.gz\n",
      "Quick grid: 4500_3.50_0.00_0.00_1.03_0.00_0.00_0.00.fits.gz\n",
      "Quick grid: 4500_3.50_0.00_0.40_1.03_0.00_0.00_0.00.fits.gz\n",
      "Quick grid: 4500_3.50_0.25_0.00_1.04_0.00_0.00_0.00.fits.gz\n",
      "Quick grid: 4500_3.50_0.25_0.40_1.04_0.00_0.00_0.00.fits.gz\n",
      "Quick grid: 4500_3.50_0.50_0.00_1.06_0.00_0.00_0.00.fits.gz\n",
      "Quick grid: 4500_3.50_0.50_0.40_1.06_0.00_0.00_0.00.fits.gz\n",
      "Quick grid: 4500_4.00_-1.00_0.00_0.92_0.00_0.00_0.00.fits.gz\n",
      "Quick grid: 4500_4.00_-1.00_0.40_0.92_0.00_0.00_0.00.fits.gz\n",
      "Quick grid: 4500_4.00_-0.75_0.00_0.93_0.00_0.00_0.00.fits.gz\n",
      "Quick grid: 4500_4.00_-0.75_0.40_0.93_0.00_0.00_0.00.fits.gz\n",
      "Quick grid: 4500_4.00_-0.50_0.00_0.94_0.00_0.00_0.00.fits.gz\n",
      "Quick grid: 4500_4.00_-0.50_0.40_0.94_0.00_0.00_0.00.fits.gz\n",
      "Quick grid: 4500_4.00_-0.25_0.00_0.95_0.00_0.00_0.00.fits.gz\n",
      "Quick grid: 4500_4.00_-0.25_0.40_0.95_0.00_0.00_0.00.fits.gz\n",
      "Quick grid: 4500_4.00_0.00_0.00_0.96_0.00_0.00_0.00.fits.gz\n",
      "Quick grid: 4500_4.00_0.00_0.40_0.96_0.00_0.00_0.00.fits.gz\n",
      "Quick grid: 4500_4.00_0.25_0.00_0.98_0.00_0.00_0.00.fits.gz\n",
      "Quick grid: 4500_4.00_0.25_0.40_0.98_0.00_0.00_0.00.fits.gz\n",
      "Quick grid: 4500_4.00_0.50_0.00_0.99_0.00_0.00_0.00.fits.gz\n",
      "Quick grid: 4500_4.00_0.50_0.40_0.99_0.00_0.00_0.00.fits.gz\n",
      "Quick grid: 4500_4.50_-1.00_0.00_0.85_0.00_0.00_0.00.fits.gz\n",
      "Quick grid: 4500_4.50_-1.00_0.40_0.85_0.00_0.00_0.00.fits.gz\n",
      "Quick grid: 4500_4.50_-0.75_0.00_0.86_0.00_0.00_0.00.fits.gz\n",
      "Quick grid: 4500_4.50_-0.75_0.40_0.86_0.00_0.00_0.00.fits.gz\n",
      "Quick grid: 4500_4.50_-0.50_0.00_0.87_0.00_0.00_0.00.fits.gz\n",
      "Quick grid: 4500_4.50_-0.50_0.40_0.87_0.00_0.00_0.00.fits.gz\n",
      "Quick grid: 4500_4.50_-0.25_0.00_0.88_0.00_0.00_0.00.fits.gz\n",
      "Quick grid: 4500_4.50_-0.25_0.40_0.88_0.00_0.00_0.00.fits.gz\n"
     ]
    },
    {
     "name": "stdout",
     "output_type": "stream",
     "text": [
      "Quick grid: 4500_4.50_0.00_0.00_0.89_0.00_0.00_0.00.fits.gz\n",
      "Quick grid: 4500_4.50_0.00_0.40_0.89_0.00_0.00_0.00.fits.gz\n",
      "Quick grid: 4500_4.50_0.25_0.00_0.90_0.00_0.00_0.00.fits.gz\n",
      "Quick grid: 4500_4.50_0.25_0.40_0.90_0.00_0.00_0.00.fits.gz\n",
      "Quick grid: 4500_4.50_0.50_0.00_0.92_0.00_0.00_0.00.fits.gz\n",
      "Quick grid: 4500_4.50_0.50_0.40_0.92_0.00_0.00_0.00.fits.gz\n",
      "Quick grid: 4500_5.00_-1.00_0.00_0.78_0.00_0.00_0.00.fits.gz\n",
      "Quick grid: 4500_5.00_-1.00_0.40_0.78_0.00_0.00_0.00.fits.gz\n",
      "Quick grid: 4500_5.00_-0.75_0.00_0.79_0.00_0.00_0.00.fits.gz\n",
      "Quick grid: 4500_5.00_-0.75_0.40_0.79_0.00_0.00_0.00.fits.gz\n",
      "Quick grid: 4500_5.00_-0.50_0.00_0.79_0.00_0.00_0.00.fits.gz\n",
      "Quick grid: 4500_5.00_-0.50_0.40_0.79_0.00_0.00_0.00.fits.gz\n",
      "Quick grid: 4500_5.00_-0.25_0.00_0.81_0.00_0.00_0.00.fits.gz\n",
      "Quick grid: 4500_5.00_-0.25_0.40_0.81_0.00_0.00_0.00.fits.gz\n",
      "Quick grid: 4500_5.00_0.00_0.00_0.82_0.00_0.00_0.00.fits.gz\n",
      "Quick grid: 4500_5.00_0.00_0.40_0.82_0.00_0.00_0.00.fits.gz\n",
      "Quick grid: 4500_5.00_0.25_0.00_0.83_0.00_0.00_0.00.fits.gz\n",
      "Quick grid: 4500_5.00_0.25_0.40_0.83_0.00_0.00_0.00.fits.gz\n",
      "Quick grid: 4500_5.00_0.50_0.00_0.84_0.00_0.00_0.00.fits.gz\n",
      "Quick grid: 4500_5.00_0.50_0.40_0.84_0.00_0.00_0.00.fits.gz\n",
      "Quick grid: 4750_3.00_-1.00_0.00_1.22_0.00_0.00_0.00.fits.gz\n",
      "Quick grid: 4750_3.00_-1.00_0.40_1.22_0.00_0.00_0.00.fits.gz\n",
      "Quick grid: 4750_3.00_-0.75_0.00_1.23_0.00_0.00_0.00.fits.gz\n",
      "Quick grid: 4750_3.00_-0.75_0.40_1.23_0.00_0.00_0.00.fits.gz\n",
      "Quick grid: 4750_3.00_-0.50_0.00_1.24_0.00_0.00_0.00.fits.gz\n",
      "Quick grid: 4750_3.00_-0.50_0.40_1.24_0.00_0.00_0.00.fits.gz\n",
      "Quick grid: 4750_3.00_-0.25_0.00_1.25_0.00_0.00_0.00.fits.gz\n",
      "Quick grid: 4750_3.00_-0.25_0.40_1.25_0.00_0.00_0.00.fits.gz\n",
      "Quick grid: 4750_3.00_0.00_0.00_1.26_0.00_0.00_0.00.fits.gz\n",
      "Quick grid: 4750_3.00_0.00_0.40_1.26_0.00_0.00_0.00.fits.gz\n",
      "Quick grid: 4750_3.00_0.25_0.00_1.27_0.00_0.00_0.00.fits.gz\n",
      "Quick grid: 4750_3.00_0.25_0.40_1.27_0.00_0.00_0.00.fits.gz\n",
      "Quick grid: 4750_3.00_0.50_0.00_1.29_0.00_0.00_0.00.fits.gz\n",
      "Quick grid: 4750_3.00_0.50_0.40_1.29_0.00_0.00_0.00.fits.gz\n",
      "Quick grid: 4750_3.50_-1.00_0.00_0.99_0.00_0.00_0.00.fits.gz\n",
      "Quick grid: 4750_3.50_-1.00_0.40_0.99_0.00_0.00_0.00.fits.gz\n",
      "Quick grid: 4750_3.50_-0.75_0.00_1.00_0.00_0.00_0.00.fits.gz\n",
      "Quick grid: 4750_3.50_-0.75_0.40_1.00_0.00_0.00_0.00.fits.gz\n",
      "Quick grid: 4750_3.50_-0.50_0.00_1.01_0.00_0.00_0.00.fits.gz\n",
      "Quick grid: 4750_3.50_-0.50_0.40_1.01_0.00_0.00_0.00.fits.gz\n",
      "Quick grid: 4750_3.50_-0.25_0.00_1.02_0.00_0.00_0.00.fits.gz\n",
      "Quick grid: 4750_3.50_-0.25_0.40_1.02_0.00_0.00_0.00.fits.gz\n",
      "Quick grid: 4750_3.50_0.00_0.00_1.03_0.00_0.00_0.00.fits.gz\n",
      "Quick grid: 4750_3.50_0.00_0.40_1.03_0.00_0.00_0.00.fits.gz\n",
      "Quick grid: 4750_3.50_0.25_0.00_1.04_0.00_0.00_0.00.fits.gz\n",
      "Quick grid: 4750_3.50_0.25_0.40_1.04_0.00_0.00_0.00.fits.gz\n",
      "Quick grid: 4750_3.50_0.50_0.00_1.06_0.00_0.00_0.00.fits.gz\n",
      "Quick grid: 4750_3.50_0.50_0.40_1.06_0.00_0.00_0.00.fits.gz\n",
      "Quick grid: 4750_4.00_-1.00_0.00_0.92_0.00_0.00_0.00.fits.gz\n",
      "Quick grid: 4750_4.00_-1.00_0.40_0.92_0.00_0.00_0.00.fits.gz\n",
      "Quick grid: 4750_4.00_-0.75_0.00_0.93_0.00_0.00_0.00.fits.gz\n",
      "Quick grid: 4750_4.00_-0.75_0.40_0.93_0.00_0.00_0.00.fits.gz\n",
      "Quick grid: 4750_4.00_-0.50_0.00_0.94_0.00_0.00_0.00.fits.gz\n",
      "Quick grid: 4750_4.00_-0.50_0.40_0.94_0.00_0.00_0.00.fits.gz\n",
      "Quick grid: 4750_4.00_-0.25_0.00_0.95_0.00_0.00_0.00.fits.gz\n",
      "Quick grid: 4750_4.00_-0.25_0.40_0.95_0.00_0.00_0.00.fits.gz\n",
      "Quick grid: 4750_4.00_0.00_0.00_0.96_0.00_0.00_0.00.fits.gz\n",
      "Quick grid: 4750_4.00_0.00_0.40_0.96_0.00_0.00_0.00.fits.gz\n",
      "Quick grid: 4750_4.00_0.25_0.00_0.98_0.00_0.00_0.00.fits.gz\n",
      "Quick grid: 4750_4.00_0.25_0.40_0.98_0.00_0.00_0.00.fits.gz\n",
      "Quick grid: 4750_4.00_0.50_0.00_0.99_0.00_0.00_0.00.fits.gz\n",
      "Quick grid: 4750_4.00_0.50_0.40_0.99_0.00_0.00_0.00.fits.gz\n",
      "Quick grid: 4750_4.50_-1.00_0.00_0.85_0.00_0.00_0.00.fits.gz\n",
      "Quick grid: 4750_4.50_-1.00_0.40_0.85_0.00_0.00_0.00.fits.gz\n",
      "Quick grid: 4750_4.50_-0.75_0.00_0.86_0.00_0.00_0.00.fits.gz\n",
      "Quick grid: 4750_4.50_-0.75_0.40_0.86_0.00_0.00_0.00.fits.gz\n",
      "Quick grid: 4750_4.50_-0.50_0.00_0.87_0.00_0.00_0.00.fits.gz\n",
      "Quick grid: 4750_4.50_-0.50_0.40_0.87_0.00_0.00_0.00.fits.gz\n",
      "Quick grid: 4750_4.50_-0.25_0.00_0.88_0.00_0.00_0.00.fits.gz\n",
      "Quick grid: 4750_4.50_-0.25_0.40_0.88_0.00_0.00_0.00.fits.gz\n",
      "Quick grid: 4750_4.50_0.00_0.00_0.89_0.00_0.00_0.00.fits.gz\n",
      "Quick grid: 4750_4.50_0.00_0.40_0.89_0.00_0.00_0.00.fits.gz\n",
      "Quick grid: 4750_4.50_0.25_0.00_0.90_0.00_0.00_0.00.fits.gz\n",
      "Quick grid: 4750_4.50_0.25_0.40_0.90_0.00_0.00_0.00.fits.gz\n",
      "Quick grid: 4750_4.50_0.50_0.00_0.92_0.00_0.00_0.00.fits.gz\n",
      "Quick grid: 4750_4.50_0.50_0.40_0.92_0.00_0.00_0.00.fits.gz\n",
      "Quick grid: 4750_5.00_-1.00_0.00_0.78_0.00_0.00_0.00.fits.gz\n",
      "Quick grid: 4750_5.00_-1.00_0.40_0.78_0.00_0.00_0.00.fits.gz\n",
      "Quick grid: 4750_5.00_-0.75_0.00_0.79_0.00_0.00_0.00.fits.gz\n",
      "Quick grid: 4750_5.00_-0.75_0.40_0.79_0.00_0.00_0.00.fits.gz\n",
      "Quick grid: 4750_5.00_-0.50_0.00_0.79_0.00_0.00_0.00.fits.gz\n",
      "Quick grid: 4750_5.00_-0.50_0.40_0.79_0.00_0.00_0.00.fits.gz\n",
      "Quick grid: 4750_5.00_-0.25_0.00_0.81_0.00_0.00_0.00.fits.gz\n",
      "Quick grid: 4750_5.00_-0.25_0.40_0.81_0.00_0.00_0.00.fits.gz\n",
      "Quick grid: 4750_5.00_0.00_0.00_0.82_0.00_0.00_0.00.fits.gz\n",
      "Quick grid: 4750_5.00_0.00_0.40_0.82_0.00_0.00_0.00.fits.gz\n",
      "Quick grid: 4750_5.00_0.25_0.00_0.83_0.00_0.00_0.00.fits.gz\n",
      "Quick grid: 4750_5.00_0.25_0.40_0.83_0.00_0.00_0.00.fits.gz\n",
      "Quick grid: 4750_5.00_0.50_0.00_0.84_0.00_0.00_0.00.fits.gz\n",
      "Quick grid: 4750_5.00_0.50_0.40_0.84_0.00_0.00_0.00.fits.gz\n",
      "Quick grid: 5000_3.00_-1.00_0.00_1.22_0.00_0.00_0.00.fits.gz\n",
      "Quick grid: 5000_3.00_-1.00_0.40_1.22_0.00_0.00_0.00.fits.gz\n",
      "Quick grid: 5000_3.00_-0.75_0.00_1.23_0.00_0.00_0.00.fits.gz\n",
      "Quick grid: 5000_3.00_-0.75_0.40_1.23_0.00_0.00_0.00.fits.gz\n",
      "Quick grid: 5000_3.00_-0.50_0.00_1.24_0.00_0.00_0.00.fits.gz\n",
      "Quick grid: 5000_3.00_-0.50_0.40_1.24_0.00_0.00_0.00.fits.gz\n",
      "Quick grid: 5000_3.00_-0.25_0.00_1.25_0.00_0.00_0.00.fits.gz\n",
      "Quick grid: 5000_3.00_-0.25_0.40_1.25_0.00_0.00_0.00.fits.gz\n",
      "Quick grid: 5000_3.00_0.00_0.00_1.26_0.00_0.00_0.00.fits.gz\n",
      "Quick grid: 5000_3.00_0.00_0.40_1.26_0.00_0.00_0.00.fits.gz\n",
      "Quick grid: 5000_3.00_0.25_0.00_1.28_0.00_0.00_0.00.fits.gz\n",
      "Quick grid: 5000_3.00_0.25_0.40_1.28_0.00_0.00_0.00.fits.gz\n",
      "Quick grid: 5000_3.00_0.50_0.00_1.29_0.00_0.00_0.00.fits.gz\n",
      "Quick grid: 5000_3.00_0.50_0.40_1.29_0.00_0.00_0.00.fits.gz\n",
      "Quick grid: 5000_3.50_-1.00_0.00_0.99_0.00_0.00_0.00.fits.gz\n",
      "Quick grid: 5000_3.50_-1.00_0.40_0.99_0.00_0.00_0.00.fits.gz\n",
      "Quick grid: 5000_3.50_-0.75_0.00_1.00_0.00_0.00_0.00.fits.gz\n",
      "Quick grid: 5000_3.50_-0.75_0.40_1.00_0.00_0.00_0.00.fits.gz\n",
      "Quick grid: 5000_3.50_-0.50_0.00_1.01_0.00_0.00_0.00.fits.gz\n",
      "Quick grid: 5000_3.50_-0.50_0.40_1.01_0.00_0.00_0.00.fits.gz\n",
      "Quick grid: 5000_3.50_-0.25_0.00_1.02_0.00_0.00_0.00.fits.gz\n",
      "Quick grid: 5000_3.50_-0.25_0.40_1.02_0.00_0.00_0.00.fits.gz\n",
      "Quick grid: 5000_3.50_0.00_0.00_1.03_0.00_0.00_0.00.fits.gz\n",
      "Quick grid: 5000_3.50_0.00_0.40_1.03_0.00_0.00_0.00.fits.gz\n",
      "Quick grid: 5000_3.50_0.25_0.00_1.04_0.00_0.00_0.00.fits.gz\n",
      "Quick grid: 5000_3.50_0.25_0.40_1.04_0.00_0.00_0.00.fits.gz\n",
      "Quick grid: 5000_3.50_0.50_0.00_1.06_0.00_0.00_0.00.fits.gz\n",
      "Quick grid: 5000_3.50_0.50_0.40_1.06_0.00_0.00_0.00.fits.gz\n",
      "Quick grid: 5000_4.00_-1.00_0.00_0.92_0.00_0.00_0.00.fits.gz\n",
      "Quick grid: 5000_4.00_-1.00_0.40_0.92_0.00_0.00_0.00.fits.gz\n",
      "Quick grid: 5000_4.00_-0.75_0.00_0.93_0.00_0.00_0.00.fits.gz\n",
      "Quick grid: 5000_4.00_-0.75_0.40_0.93_0.00_0.00_0.00.fits.gz\n",
      "Quick grid: 5000_4.00_-0.50_0.00_0.94_0.00_0.00_0.00.fits.gz\n",
      "Quick grid: 5000_4.00_-0.50_0.40_0.94_0.00_0.00_0.00.fits.gz\n",
      "Quick grid: 5000_4.00_-0.25_0.00_0.95_0.00_0.00_0.00.fits.gz\n",
      "Quick grid: 5000_4.00_-0.25_0.40_0.95_0.00_0.00_0.00.fits.gz\n",
      "Quick grid: 5000_4.00_0.00_0.00_0.96_0.00_0.00_0.00.fits.gz\n",
      "Quick grid: 5000_4.00_0.00_0.40_0.96_0.00_0.00_0.00.fits.gz\n",
      "Quick grid: 5000_4.00_0.25_0.00_0.98_0.00_0.00_0.00.fits.gz\n",
      "Quick grid: 5000_4.00_0.25_0.40_0.98_0.00_0.00_0.00.fits.gz\n",
      "Quick grid: 5000_4.00_0.50_0.00_0.99_0.00_0.00_0.00.fits.gz\n",
      "Quick grid: 5000_4.00_0.50_0.40_0.99_0.00_0.00_0.00.fits.gz\n",
      "Quick grid: 5000_4.50_-1.00_0.00_0.85_0.00_0.00_0.00.fits.gz\n",
      "Quick grid: 5000_4.50_-1.00_0.40_0.85_0.00_0.00_0.00.fits.gz\n",
      "Quick grid: 5000_4.50_-0.75_0.00_0.86_0.00_0.00_0.00.fits.gz\n",
      "Quick grid: 5000_4.50_-0.75_0.40_0.86_0.00_0.00_0.00.fits.gz\n"
     ]
    },
    {
     "name": "stdout",
     "output_type": "stream",
     "text": [
      "Quick grid: 5000_4.50_-0.50_0.00_0.87_0.00_0.00_0.00.fits.gz\n",
      "Quick grid: 5000_4.50_-0.50_0.40_0.87_0.00_0.00_0.00.fits.gz\n",
      "Quick grid: 5000_4.50_-0.25_0.00_0.88_0.00_0.00_0.00.fits.gz\n",
      "Quick grid: 5000_4.50_-0.25_0.40_0.88_0.00_0.00_0.00.fits.gz\n",
      "Quick grid: 5000_4.50_0.00_0.00_0.89_0.00_0.00_0.00.fits.gz\n",
      "Quick grid: 5000_4.50_0.00_0.40_0.89_0.00_0.00_0.00.fits.gz\n",
      "Quick grid: 5000_4.50_0.25_0.00_0.90_0.00_0.00_0.00.fits.gz\n",
      "Quick grid: 5000_4.50_0.25_0.40_0.90_0.00_0.00_0.00.fits.gz\n",
      "Quick grid: 5000_4.50_0.50_0.00_0.92_0.00_0.00_0.00.fits.gz\n",
      "Quick grid: 5000_4.50_0.50_0.40_0.92_0.00_0.00_0.00.fits.gz\n",
      "Quick grid: 5000_5.00_-1.00_0.00_0.78_0.00_0.00_0.00.fits.gz\n",
      "Quick grid: 5000_5.00_-1.00_0.40_0.78_0.00_0.00_0.00.fits.gz\n",
      "Quick grid: 5000_5.00_-0.75_0.00_0.79_0.00_0.00_0.00.fits.gz\n",
      "Quick grid: 5000_5.00_-0.75_0.40_0.79_0.00_0.00_0.00.fits.gz\n",
      "Quick grid: 5000_5.00_-0.50_0.00_0.79_0.00_0.00_0.00.fits.gz\n",
      "Quick grid: 5000_5.00_-0.50_0.40_0.79_0.00_0.00_0.00.fits.gz\n",
      "Quick grid: 5000_5.00_-0.25_0.00_0.81_0.00_0.00_0.00.fits.gz\n",
      "Quick grid: 5000_5.00_-0.25_0.40_0.81_0.00_0.00_0.00.fits.gz\n",
      "Quick grid: 5000_5.00_0.00_0.00_0.82_0.00_0.00_0.00.fits.gz\n",
      "Quick grid: 5000_5.00_0.00_0.40_0.82_0.00_0.00_0.00.fits.gz\n",
      "Quick grid: 5000_5.00_0.25_0.00_0.83_0.00_0.00_0.00.fits.gz\n",
      "Quick grid: 5000_5.00_0.25_0.40_0.83_0.00_0.00_0.00.fits.gz\n",
      "Quick grid: 5000_5.00_0.50_0.00_0.84_0.00_0.00_0.00.fits.gz\n",
      "Quick grid: 5000_5.00_0.50_0.40_0.84_0.00_0.00_0.00.fits.gz\n",
      "Quick grid: 5250_3.00_-1.00_0.00_1.26_0.00_0.00_0.00.fits.gz\n",
      "Quick grid: 5250_3.00_-1.00_0.40_1.26_0.00_0.00_0.00.fits.gz\n",
      "Quick grid: 5250_3.00_-0.75_0.00_1.27_0.00_0.00_0.00.fits.gz\n",
      "Quick grid: 5250_3.00_-0.75_0.40_1.27_0.00_0.00_0.00.fits.gz\n",
      "Quick grid: 5250_3.00_-0.50_0.00_1.28_0.00_0.00_0.00.fits.gz\n",
      "Quick grid: 5250_3.00_-0.50_0.40_1.28_0.00_0.00_0.00.fits.gz\n",
      "Quick grid: 5250_3.00_-0.25_0.00_1.29_0.00_0.00_0.00.fits.gz\n",
      "Quick grid: 5250_3.00_-0.25_0.40_1.29_0.00_0.00_0.00.fits.gz\n",
      "Quick grid: 5250_3.00_0.00_0.00_1.30_0.00_0.00_0.00.fits.gz\n",
      "Quick grid: 5250_3.00_0.00_0.40_1.30_0.00_0.00_0.00.fits.gz\n",
      "Quick grid: 5250_3.00_0.25_0.00_1.32_0.00_0.00_0.00.fits.gz\n",
      "Quick grid: 5250_3.00_0.25_0.40_1.32_0.00_0.00_0.00.fits.gz\n",
      "Quick grid: 5250_3.00_0.50_0.00_1.33_0.00_0.00_0.00.fits.gz\n",
      "Quick grid: 5250_3.00_0.50_0.40_1.33_0.00_0.00_0.00.fits.gz\n",
      "Quick grid: 5250_3.50_-1.00_0.00_1.03_0.00_0.00_0.00.fits.gz\n",
      "Quick grid: 5250_3.50_-1.00_0.40_1.03_0.00_0.00_0.00.fits.gz\n",
      "Quick grid: 5250_3.50_-0.75_0.00_1.03_0.00_0.00_0.00.fits.gz\n",
      "Quick grid: 5250_3.50_-0.75_0.40_1.03_0.00_0.00_0.00.fits.gz\n",
      "Quick grid: 5250_3.50_-0.50_0.00_1.04_0.00_0.00_0.00.fits.gz\n",
      "Quick grid: 5250_3.50_-0.50_0.40_1.04_0.00_0.00_0.00.fits.gz\n",
      "Quick grid: 5250_3.50_-0.25_0.00_1.05_0.00_0.00_0.00.fits.gz\n",
      "Quick grid: 5250_3.50_-0.25_0.40_1.05_0.00_0.00_0.00.fits.gz\n",
      "Quick grid: 5250_3.50_0.00_0.00_1.07_0.00_0.00_0.00.fits.gz\n",
      "Quick grid: 5250_3.50_0.00_0.40_1.07_0.00_0.00_0.00.fits.gz\n",
      "Quick grid: 5250_3.50_0.25_0.00_1.08_0.00_0.00_0.00.fits.gz\n",
      "Quick grid: 5250_3.50_0.25_0.40_1.08_0.00_0.00_0.00.fits.gz\n",
      "Quick grid: 5250_3.50_0.50_0.00_1.09_0.00_0.00_0.00.fits.gz\n",
      "Quick grid: 5250_3.50_0.50_0.40_1.09_0.00_0.00_0.00.fits.gz\n",
      "Quick grid: 5250_4.00_-1.00_0.00_0.96_0.00_0.00_0.00.fits.gz\n",
      "Quick grid: 5250_4.00_-1.00_0.40_0.96_0.00_0.00_0.00.fits.gz\n",
      "Quick grid: 5250_4.00_-0.75_0.00_0.96_0.00_0.00_0.00.fits.gz\n",
      "Quick grid: 5250_4.00_-0.75_0.40_0.96_0.00_0.00_0.00.fits.gz\n",
      "Quick grid: 5250_4.00_-0.50_0.00_0.97_0.00_0.00_0.00.fits.gz\n",
      "Quick grid: 5250_4.00_-0.50_0.40_0.97_0.00_0.00_0.00.fits.gz\n",
      "Quick grid: 5250_4.00_-0.25_0.00_0.98_0.00_0.00_0.00.fits.gz\n",
      "Quick grid: 5250_4.00_-0.25_0.40_0.98_0.00_0.00_0.00.fits.gz\n",
      "Quick grid: 5250_4.00_0.00_0.00_1.00_0.00_0.00_0.00.fits.gz\n",
      "Quick grid: 5250_4.00_0.00_0.40_1.00_0.00_0.00_0.00.fits.gz\n",
      "Quick grid: 5250_4.00_0.25_0.00_1.01_0.00_0.00_0.00.fits.gz\n",
      "Quick grid: 5250_4.00_0.25_0.40_1.01_0.00_0.00_0.00.fits.gz\n",
      "Quick grid: 5250_4.00_0.50_0.00_1.02_0.00_0.00_0.00.fits.gz\n",
      "Quick grid: 5250_4.00_0.50_0.40_1.02_0.00_0.00_0.00.fits.gz\n",
      "Quick grid: 5250_4.50_-1.00_0.00_0.89_0.00_0.00_0.00.fits.gz\n",
      "Quick grid: 5250_4.50_-1.00_0.40_0.89_0.00_0.00_0.00.fits.gz\n",
      "Quick grid: 5250_4.50_-0.75_0.00_0.89_0.00_0.00_0.00.fits.gz\n",
      "Quick grid: 5250_4.50_-0.75_0.40_0.89_0.00_0.00_0.00.fits.gz\n",
      "Quick grid: 5250_4.50_-0.50_0.00_0.90_0.00_0.00_0.00.fits.gz\n",
      "Quick grid: 5250_4.50_-0.50_0.40_0.90_0.00_0.00_0.00.fits.gz\n",
      "Quick grid: 5250_4.50_-0.25_0.00_0.91_0.00_0.00_0.00.fits.gz\n",
      "Quick grid: 5250_4.50_-0.25_0.40_0.91_0.00_0.00_0.00.fits.gz\n",
      "Quick grid: 5250_4.50_0.00_0.00_0.93_0.00_0.00_0.00.fits.gz\n",
      "Quick grid: 5250_4.50_0.00_0.40_0.93_0.00_0.00_0.00.fits.gz\n",
      "Quick grid: 5250_4.50_0.25_0.00_0.94_0.00_0.00_0.00.fits.gz\n",
      "Quick grid: 5250_4.50_0.25_0.40_0.94_0.00_0.00_0.00.fits.gz\n",
      "Quick grid: 5250_4.50_0.50_0.00_0.95_0.00_0.00_0.00.fits.gz\n",
      "Quick grid: 5250_4.50_0.50_0.40_0.95_0.00_0.00_0.00.fits.gz\n",
      "Quick grid: 5250_5.00_-1.00_0.00_0.81_0.00_0.00_0.00.fits.gz\n",
      "Quick grid: 5250_5.00_-1.00_0.40_0.81_0.00_0.00_0.00.fits.gz\n",
      "Quick grid: 5250_5.00_-0.75_0.00_0.82_0.00_0.00_0.00.fits.gz\n",
      "Quick grid: 5250_5.00_-0.75_0.40_0.82_0.00_0.00_0.00.fits.gz\n",
      "Quick grid: 5250_5.00_-0.50_0.00_0.83_0.00_0.00_0.00.fits.gz\n",
      "Quick grid: 5250_5.00_-0.50_0.40_0.83_0.00_0.00_0.00.fits.gz\n",
      "Quick grid: 5250_5.00_-0.25_0.00_0.84_0.00_0.00_0.00.fits.gz\n",
      "Quick grid: 5250_5.00_-0.25_0.40_0.84_0.00_0.00_0.00.fits.gz\n",
      "Quick grid: 5250_5.00_0.00_0.00_0.85_0.00_0.00_0.00.fits.gz\n",
      "Quick grid: 5250_5.00_0.00_0.40_0.85_0.00_0.00_0.00.fits.gz\n",
      "Quick grid: 5250_5.00_0.25_0.00_0.86_0.00_0.00_0.00.fits.gz\n",
      "Quick grid: 5250_5.00_0.25_0.40_0.86_0.00_0.00_0.00.fits.gz\n",
      "Quick grid: 5250_5.00_0.50_0.00_0.88_0.00_0.00_0.00.fits.gz\n",
      "Quick grid: 5250_5.00_0.50_0.40_0.88_0.00_0.00_0.00.fits.gz\n",
      "Quick grid: 5500_3.00_-1.00_0.00_1.35_0.00_0.00_0.00.fits.gz\n",
      "Quick grid: 5500_3.00_-1.00_0.40_1.35_0.00_0.00_0.00.fits.gz\n",
      "Quick grid: 5500_3.00_-0.75_0.00_1.35_0.00_0.00_0.00.fits.gz\n",
      "Quick grid: 5500_3.00_-0.75_0.40_1.35_0.00_0.00_0.00.fits.gz\n",
      "Quick grid: 5500_3.00_-0.50_0.00_1.36_0.00_0.00_0.00.fits.gz\n",
      "Quick grid: 5500_3.00_-0.50_0.40_1.36_0.00_0.00_0.00.fits.gz\n",
      "Quick grid: 5500_3.00_-0.25_0.00_1.37_0.00_0.00_0.00.fits.gz\n",
      "Quick grid: 5500_3.00_-0.25_0.40_1.37_0.00_0.00_0.00.fits.gz\n",
      "Quick grid: 5500_3.00_0.00_0.00_1.39_0.00_0.00_0.00.fits.gz\n",
      "Quick grid: 5500_3.00_0.00_0.40_1.39_0.00_0.00_0.00.fits.gz\n",
      "Quick grid: 5500_3.00_0.25_0.00_1.40_0.00_0.00_0.00.fits.gz\n",
      "Quick grid: 5500_3.00_0.25_0.40_1.40_0.00_0.00_0.00.fits.gz\n",
      "Quick grid: 5500_3.00_0.50_0.00_1.41_0.00_0.00_0.00.fits.gz\n",
      "Quick grid: 5500_3.00_0.50_0.40_1.41_0.00_0.00_0.00.fits.gz\n",
      "Quick grid: 5500_3.50_-1.00_0.00_1.08_0.00_0.00_0.00.fits.gz\n",
      "Quick grid: 5500_3.50_-1.00_0.40_1.08_0.00_0.00_0.00.fits.gz\n",
      "Quick grid: 5500_3.50_-0.75_0.00_1.09_0.00_0.00_0.00.fits.gz\n",
      "Quick grid: 5500_3.50_-0.75_0.40_1.09_0.00_0.00_0.00.fits.gz\n",
      "Quick grid: 5500_3.50_-0.50_0.00_1.10_0.00_0.00_0.00.fits.gz\n",
      "Quick grid: 5500_3.50_-0.50_0.40_1.10_0.00_0.00_0.00.fits.gz\n",
      "Quick grid: 5500_3.50_-0.25_0.00_1.11_0.00_0.00_0.00.fits.gz\n",
      "Quick grid: 5500_3.50_-0.25_0.40_1.11_0.00_0.00_0.00.fits.gz\n",
      "Quick grid: 5500_3.50_0.00_0.00_1.12_0.00_0.00_0.00.fits.gz\n",
      "Quick grid: 5500_3.50_0.00_0.40_1.12_0.00_0.00_0.00.fits.gz\n",
      "Quick grid: 5500_3.50_0.25_0.00_1.13_0.00_0.00_0.00.fits.gz\n",
      "Quick grid: 5500_3.50_0.25_0.40_1.13_0.00_0.00_0.00.fits.gz\n",
      "Quick grid: 5500_3.50_0.50_0.00_1.15_0.00_0.00_0.00.fits.gz\n",
      "Quick grid: 5500_3.50_0.50_0.40_1.15_0.00_0.00_0.00.fits.gz\n",
      "Quick grid: 5500_4.00_-1.00_0.00_1.01_0.00_0.00_0.00.fits.gz\n",
      "Quick grid: 5500_4.00_-1.00_0.40_1.01_0.00_0.00_0.00.fits.gz\n",
      "Quick grid: 5500_4.00_-0.75_0.00_1.02_0.00_0.00_0.00.fits.gz\n",
      "Quick grid: 5500_4.00_-0.75_0.40_1.02_0.00_0.00_0.00.fits.gz\n",
      "Quick grid: 5500_4.00_-0.50_0.00_1.03_0.00_0.00_0.00.fits.gz\n",
      "Quick grid: 5500_4.00_-0.50_0.40_1.03_0.00_0.00_0.00.fits.gz\n",
      "Quick grid: 5500_4.00_-0.25_0.00_1.04_0.00_0.00_0.00.fits.gz\n",
      "Quick grid: 5500_4.00_-0.25_0.40_1.04_0.00_0.00_0.00.fits.gz\n",
      "Quick grid: 5500_4.00_0.00_0.00_1.05_0.00_0.00_0.00.fits.gz\n",
      "Quick grid: 5500_4.00_0.00_0.40_1.05_0.00_0.00_0.00.fits.gz\n",
      "Quick grid: 5500_4.00_0.25_0.00_1.06_0.00_0.00_0.00.fits.gz\n",
      "Quick grid: 5500_4.00_0.25_0.40_1.06_0.00_0.00_0.00.fits.gz\n",
      "Quick grid: 5500_4.00_0.50_0.00_1.08_0.00_0.00_0.00.fits.gz\n",
      "Quick grid: 5500_4.00_0.50_0.40_1.08_0.00_0.00_0.00.fits.gz\n"
     ]
    },
    {
     "name": "stdout",
     "output_type": "stream",
     "text": [
      "Quick grid: 5500_4.50_-1.00_0.00_0.94_0.00_0.00_0.00.fits.gz\n",
      "Quick grid: 5500_4.50_-1.00_0.40_0.94_0.00_0.00_0.00.fits.gz\n",
      "Quick grid: 5500_4.50_-0.75_0.00_0.95_0.00_0.00_0.00.fits.gz\n",
      "Quick grid: 5500_4.50_-0.75_0.40_0.95_0.00_0.00_0.00.fits.gz\n",
      "Quick grid: 5500_4.50_-0.50_0.00_0.96_0.00_0.00_0.00.fits.gz\n",
      "Quick grid: 5500_4.50_-0.50_0.40_0.96_0.00_0.00_0.00.fits.gz\n",
      "Quick grid: 5500_4.50_-0.25_0.00_0.97_0.00_0.00_0.00.fits.gz\n",
      "Quick grid: 5500_4.50_-0.25_0.40_0.97_0.00_0.00_0.00.fits.gz\n",
      "Quick grid: 5500_4.50_0.00_0.00_0.98_0.00_0.00_0.00.fits.gz\n",
      "Quick grid: 5500_4.50_0.00_0.40_0.98_0.00_0.00_0.00.fits.gz\n",
      "Quick grid: 5500_4.50_0.25_0.00_0.99_0.00_0.00_0.00.fits.gz\n",
      "Quick grid: 5500_4.50_0.25_0.40_0.99_0.00_0.00_0.00.fits.gz\n",
      "Quick grid: 5500_4.50_0.50_0.00_1.01_0.00_0.00_0.00.fits.gz\n",
      "Quick grid: 5500_4.50_0.50_0.40_1.01_0.00_0.00_0.00.fits.gz\n",
      "Quick grid: 5500_5.00_-1.00_0.00_0.86_0.00_0.00_0.00.fits.gz\n",
      "Quick grid: 5500_5.00_-1.00_0.40_0.86_0.00_0.00_0.00.fits.gz\n",
      "Quick grid: 5500_5.00_-0.75_0.00_0.87_0.00_0.00_0.00.fits.gz\n",
      "Quick grid: 5500_5.00_-0.75_0.40_0.87_0.00_0.00_0.00.fits.gz\n",
      "Quick grid: 5500_5.00_-0.50_0.00_0.88_0.00_0.00_0.00.fits.gz\n",
      "Quick grid: 5500_5.00_-0.50_0.40_0.88_0.00_0.00_0.00.fits.gz\n",
      "Quick grid: 5500_5.00_-0.25_0.00_0.89_0.00_0.00_0.00.fits.gz\n",
      "Quick grid: 5500_5.00_-0.25_0.40_0.89_0.00_0.00_0.00.fits.gz\n",
      "Quick grid: 5500_5.00_0.00_0.00_0.91_0.00_0.00_0.00.fits.gz\n",
      "Quick grid: 5500_5.00_0.00_0.40_0.91_0.00_0.00_0.00.fits.gz\n",
      "Quick grid: 5500_5.00_0.25_0.00_0.92_0.00_0.00_0.00.fits.gz\n",
      "Quick grid: 5500_5.00_0.25_0.40_0.92_0.00_0.00_0.00.fits.gz\n",
      "Quick grid: 5500_5.00_0.50_0.00_0.93_0.00_0.00_0.00.fits.gz\n",
      "Quick grid: 5500_5.00_0.50_0.40_0.93_0.00_0.00_0.00.fits.gz\n",
      "Quick grid: 5750_3.00_-1.00_0.00_1.46_0.00_0.00_0.00.fits.gz\n",
      "Quick grid: 5750_3.00_-1.00_0.40_1.46_0.00_0.00_0.00.fits.gz\n",
      "Quick grid: 5750_3.00_-0.75_0.00_1.47_0.00_0.00_0.00.fits.gz\n",
      "Quick grid: 5750_3.00_-0.75_0.40_1.47_0.00_0.00_0.00.fits.gz\n",
      "Quick grid: 5750_3.00_-0.50_0.00_1.48_0.00_0.00_0.00.fits.gz\n",
      "Quick grid: 5750_3.00_-0.50_0.40_1.48_0.00_0.00_0.00.fits.gz\n",
      "Quick grid: 5750_3.00_-0.25_0.00_1.49_0.00_0.00_0.00.fits.gz\n",
      "Quick grid: 5750_3.00_-0.25_0.40_1.49_0.00_0.00_0.00.fits.gz\n",
      "Quick grid: 5750_3.00_0.00_0.00_1.50_0.00_0.00_0.00.fits.gz\n",
      "Quick grid: 5750_3.00_0.00_0.40_1.50_0.00_0.00_0.00.fits.gz\n",
      "Quick grid: 5750_3.00_0.25_0.00_1.52_0.00_0.00_0.00.fits.gz\n",
      "Quick grid: 5750_3.00_0.25_0.40_1.52_0.00_0.00_0.00.fits.gz\n",
      "Quick grid: 5750_3.00_0.50_0.00_1.53_0.00_0.00_0.00.fits.gz\n",
      "Quick grid: 5750_3.00_0.50_0.40_1.53_0.00_0.00_0.00.fits.gz\n",
      "Quick grid: 5750_3.50_-1.00_0.00_1.15_0.00_0.00_0.00.fits.gz\n",
      "Quick grid: 5750_3.50_-1.00_0.40_1.15_0.00_0.00_0.00.fits.gz\n",
      "Quick grid: 5750_3.50_-0.75_0.00_1.16_0.00_0.00_0.00.fits.gz\n",
      "Quick grid: 5750_3.50_-0.75_0.40_1.16_0.00_0.00_0.00.fits.gz\n",
      "Quick grid: 5750_3.50_-0.50_0.00_1.17_0.00_0.00_0.00.fits.gz\n",
      "Quick grid: 5750_3.50_-0.50_0.40_1.17_0.00_0.00_0.00.fits.gz\n",
      "Quick grid: 5750_3.50_-0.25_0.00_1.18_0.00_0.00_0.00.fits.gz\n",
      "Quick grid: 5750_3.50_-0.25_0.40_1.18_0.00_0.00_0.00.fits.gz\n",
      "Quick grid: 5750_3.50_0.00_0.00_1.19_0.00_0.00_0.00.fits.gz\n",
      "Quick grid: 5750_3.50_0.00_0.40_1.19_0.00_0.00_0.00.fits.gz\n",
      "Quick grid: 5750_3.50_0.25_0.00_1.20_0.00_0.00_0.00.fits.gz\n",
      "Quick grid: 5750_3.50_0.25_0.40_1.20_0.00_0.00_0.00.fits.gz\n",
      "Quick grid: 5750_3.50_0.50_0.00_1.22_0.00_0.00_0.00.fits.gz\n",
      "Quick grid: 5750_3.50_0.50_0.40_1.22_0.00_0.00_0.00.fits.gz\n",
      "Quick grid: 5750_4.00_-1.00_0.00_1.08_0.00_0.00_0.00.fits.gz\n",
      "Quick grid: 5750_4.00_-1.00_0.40_1.08_0.00_0.00_0.00.fits.gz\n",
      "Quick grid: 5750_4.00_-0.75_0.00_1.09_0.00_0.00_0.00.fits.gz\n",
      "Quick grid: 5750_4.00_-0.75_0.40_1.09_0.00_0.00_0.00.fits.gz\n",
      "Quick grid: 5750_4.00_-0.50_0.00_1.10_0.00_0.00_0.00.fits.gz\n",
      "Quick grid: 5750_4.00_-0.50_0.40_1.10_0.00_0.00_0.00.fits.gz\n",
      "Quick grid: 5750_4.00_-0.25_0.00_1.11_0.00_0.00_0.00.fits.gz\n",
      "Quick grid: 5750_4.00_-0.25_0.40_1.11_0.00_0.00_0.00.fits.gz\n",
      "Quick grid: 5750_4.00_0.00_0.00_1.12_0.00_0.00_0.00.fits.gz\n",
      "Quick grid: 5750_4.00_0.00_0.40_1.12_0.00_0.00_0.00.fits.gz\n",
      "Quick grid: 5750_4.00_0.25_0.00_1.14_0.00_0.00_0.00.fits.gz\n",
      "Quick grid: 5750_4.00_0.25_0.40_1.14_0.00_0.00_0.00.fits.gz\n",
      "Quick grid: 5750_4.00_0.50_0.00_1.15_0.00_0.00_0.00.fits.gz\n",
      "Quick grid: 5750_4.00_0.50_0.40_1.15_0.00_0.00_0.00.fits.gz\n",
      "Quick grid: 5750_4.50_-1.00_0.00_1.01_0.00_0.00_0.00.fits.gz\n",
      "Quick grid: 5750_4.50_-1.00_0.40_1.01_0.00_0.00_0.00.fits.gz\n",
      "Quick grid: 5750_4.50_-0.75_0.00_1.02_0.00_0.00_0.00.fits.gz\n",
      "Quick grid: 5750_4.50_-0.75_0.40_1.02_0.00_0.00_0.00.fits.gz\n",
      "Quick grid: 5750_4.50_-0.50_0.00_1.03_0.00_0.00_0.00.fits.gz\n",
      "Quick grid: 5750_4.50_-0.50_0.40_1.03_0.00_0.00_0.00.fits.gz\n",
      "Quick grid: 5750_4.50_-0.25_0.00_1.04_0.00_0.00_0.00.fits.gz\n",
      "Quick grid: 5750_4.50_-0.25_0.40_1.04_0.00_0.00_0.00.fits.gz\n",
      "Quick grid: 5750_4.50_0.00_0.00_1.05_0.00_0.00_0.00.fits.gz\n",
      "Quick grid: 5750_4.50_0.00_0.40_1.05_0.00_0.00_0.00.fits.gz\n",
      "Quick grid: 5750_4.50_0.25_0.00_1.06_0.00_0.00_0.00.fits.gz\n",
      "Quick grid: 5750_4.50_0.25_0.40_1.06_0.00_0.00_0.00.fits.gz\n",
      "Quick grid: 5750_4.50_0.50_0.00_1.08_0.00_0.00_0.00.fits.gz\n",
      "Quick grid: 5750_4.50_0.50_0.40_1.08_0.00_0.00_0.00.fits.gz\n",
      "Quick grid: 5750_5.00_-1.00_0.00_0.94_0.00_0.00_0.00.fits.gz\n",
      "Quick grid: 5750_5.00_-1.00_0.40_0.94_0.00_0.00_0.00.fits.gz\n",
      "Quick grid: 5750_5.00_-0.75_0.00_0.95_0.00_0.00_0.00.fits.gz\n",
      "Quick grid: 5750_5.00_-0.75_0.40_0.95_0.00_0.00_0.00.fits.gz\n",
      "Quick grid: 5750_5.00_-0.50_0.00_0.95_0.00_0.00_0.00.fits.gz\n",
      "Quick grid: 5750_5.00_-0.50_0.40_0.95_0.00_0.00_0.00.fits.gz\n",
      "Quick grid: 5750_5.00_-0.25_0.00_0.97_0.00_0.00_0.00.fits.gz\n",
      "Quick grid: 5750_5.00_-0.25_0.40_0.97_0.00_0.00_0.00.fits.gz\n",
      "Quick grid: 5750_5.00_0.00_0.00_0.98_0.00_0.00_0.00.fits.gz\n",
      "Quick grid: 5750_5.00_0.00_0.40_0.98_0.00_0.00_0.00.fits.gz\n",
      "Quick grid: 5750_5.00_0.25_0.00_0.99_0.00_0.00_0.00.fits.gz\n",
      "Quick grid: 5750_5.00_0.25_0.40_0.99_0.00_0.00_0.00.fits.gz\n",
      "Quick grid: 5750_5.00_0.50_0.00_1.00_0.00_0.00_0.00.fits.gz\n",
      "Quick grid: 5750_5.00_0.50_0.40_1.00_0.00_0.00_0.00.fits.gz\n",
      "Quick grid: 6000_3.00_-1.00_0.00_1.62_0.00_0.00_0.00.fits.gz\n",
      "Quick grid: 6000_3.00_-1.00_0.40_1.62_0.00_0.00_0.00.fits.gz\n",
      "Quick grid: 6000_3.00_-0.75_0.00_1.63_0.00_0.00_0.00.fits.gz\n",
      "Quick grid: 6000_3.00_-0.75_0.40_1.63_0.00_0.00_0.00.fits.gz\n",
      "Quick grid: 6000_3.00_-0.50_0.00_1.64_0.00_0.00_0.00.fits.gz\n",
      "Quick grid: 6000_3.00_-0.50_0.40_1.64_0.00_0.00_0.00.fits.gz\n",
      "Quick grid: 6000_3.00_-0.25_0.00_1.65_0.00_0.00_0.00.fits.gz\n",
      "Quick grid: 6000_3.00_-0.25_0.40_1.65_0.00_0.00_0.00.fits.gz\n",
      "Quick grid: 6000_3.00_0.00_0.00_1.66_0.00_0.00_0.00.fits.gz\n",
      "Quick grid: 6000_3.00_0.00_0.40_1.66_0.00_0.00_0.00.fits.gz\n",
      "Quick grid: 6000_3.00_0.25_0.00_1.68_0.00_0.00_0.00.fits.gz\n",
      "Quick grid: 6000_3.00_0.25_0.40_1.68_0.00_0.00_0.00.fits.gz\n",
      "Quick grid: 6000_3.00_0.50_0.00_1.69_0.00_0.00_0.00.fits.gz\n",
      "Quick grid: 6000_3.00_0.50_0.40_1.69_0.00_0.00_0.00.fits.gz\n",
      "Quick grid: 6000_3.50_-1.00_0.00_1.24_0.00_0.00_0.00.fits.gz\n",
      "Quick grid: 6000_3.50_-1.00_0.40_1.24_0.00_0.00_0.00.fits.gz\n",
      "Quick grid: 6000_3.50_-0.75_0.00_1.25_0.00_0.00_0.00.fits.gz\n",
      "Quick grid: 6000_3.50_-0.75_0.40_1.25_0.00_0.00_0.00.fits.gz\n",
      "Quick grid: 6000_3.50_-0.50_0.00_1.26_0.00_0.00_0.00.fits.gz\n",
      "Quick grid: 6000_3.50_-0.50_0.40_1.26_0.00_0.00_0.00.fits.gz\n",
      "Quick grid: 6000_3.50_-0.25_0.00_1.27_0.00_0.00_0.00.fits.gz\n",
      "Quick grid: 6000_3.50_-0.25_0.40_1.27_0.00_0.00_0.00.fits.gz\n",
      "Quick grid: 6000_3.50_0.00_0.00_1.28_0.00_0.00_0.00.fits.gz\n",
      "Quick grid: 6000_3.50_0.00_0.40_1.28_0.00_0.00_0.00.fits.gz\n",
      "Quick grid: 6000_3.50_0.25_0.00_1.29_0.00_0.00_0.00.fits.gz\n",
      "Quick grid: 6000_3.50_0.25_0.40_1.29_0.00_0.00_0.00.fits.gz\n",
      "Quick grid: 6000_3.50_0.50_0.00_1.31_0.00_0.00_0.00.fits.gz\n",
      "Quick grid: 6000_3.50_0.50_0.40_1.31_0.00_0.00_0.00.fits.gz\n",
      "Quick grid: 6000_4.00_-1.00_0.00_1.17_0.00_0.00_0.00.fits.gz\n",
      "Quick grid: 6000_4.00_-1.00_0.40_1.17_0.00_0.00_0.00.fits.gz\n",
      "Quick grid: 6000_4.00_-0.75_0.00_1.18_0.00_0.00_0.00.fits.gz\n",
      "Quick grid: 6000_4.00_-0.75_0.40_1.18_0.00_0.00_0.00.fits.gz\n",
      "Quick grid: 6000_4.00_-0.50_0.00_1.19_0.00_0.00_0.00.fits.gz\n",
      "Quick grid: 6000_4.00_-0.50_0.40_1.19_0.00_0.00_0.00.fits.gz\n",
      "Quick grid: 6000_4.00_-0.25_0.00_1.20_0.00_0.00_0.00.fits.gz\n",
      "Quick grid: 6000_4.00_-0.25_0.40_1.20_0.00_0.00_0.00.fits.gz\n",
      "Quick grid: 6000_4.00_0.00_0.00_1.21_0.00_0.00_0.00.fits.gz\n",
      "Quick grid: 6000_4.00_0.00_0.40_1.21_0.00_0.00_0.00.fits.gz\n"
     ]
    },
    {
     "name": "stdout",
     "output_type": "stream",
     "text": [
      "Quick grid: 6000_4.00_0.25_0.00_1.23_0.00_0.00_0.00.fits.gz\n",
      "Quick grid: 6000_4.00_0.25_0.40_1.23_0.00_0.00_0.00.fits.gz\n",
      "Quick grid: 6000_4.00_0.50_0.00_1.24_0.00_0.00_0.00.fits.gz\n",
      "Quick grid: 6000_4.00_0.50_0.40_1.24_0.00_0.00_0.00.fits.gz\n",
      "Quick grid: 6000_4.50_-1.00_0.00_1.10_0.00_0.00_0.00.fits.gz\n",
      "Quick grid: 6000_4.50_-1.00_0.40_1.10_0.00_0.00_0.00.fits.gz\n",
      "Quick grid: 6000_4.50_-0.75_0.00_1.11_0.00_0.00_0.00.fits.gz\n",
      "Quick grid: 6000_4.50_-0.75_0.40_1.11_0.00_0.00_0.00.fits.gz\n",
      "Quick grid: 6000_4.50_-0.50_0.00_1.12_0.00_0.00_0.00.fits.gz\n",
      "Quick grid: 6000_4.50_-0.50_0.40_1.12_0.00_0.00_0.00.fits.gz\n",
      "Quick grid: 6000_4.50_-0.25_0.00_1.13_0.00_0.00_0.00.fits.gz\n",
      "Quick grid: 6000_4.50_-0.25_0.40_1.13_0.00_0.00_0.00.fits.gz\n",
      "Quick grid: 6000_4.50_0.00_0.00_1.14_0.00_0.00_0.00.fits.gz\n",
      "Quick grid: 6000_4.50_0.00_0.40_1.14_0.00_0.00_0.00.fits.gz\n",
      "Quick grid: 6000_4.50_0.25_0.00_1.15_0.00_0.00_0.00.fits.gz\n",
      "Quick grid: 6000_4.50_0.25_0.40_1.15_0.00_0.00_0.00.fits.gz\n",
      "Quick grid: 6000_4.50_0.50_0.00_1.17_0.00_0.00_0.00.fits.gz\n",
      "Quick grid: 6000_4.50_0.50_0.40_1.17_0.00_0.00_0.00.fits.gz\n",
      "Quick grid: 6000_5.00_-1.00_0.00_1.03_0.00_0.00_0.00.fits.gz\n",
      "Quick grid: 6000_5.00_-1.00_0.40_1.03_0.00_0.00_0.00.fits.gz\n",
      "Quick grid: 6000_5.00_-0.75_0.00_1.04_0.00_0.00_0.00.fits.gz\n",
      "Quick grid: 6000_5.00_-0.75_0.40_1.04_0.00_0.00_0.00.fits.gz\n",
      "Quick grid: 6000_5.00_-0.50_0.00_1.05_0.00_0.00_0.00.fits.gz\n",
      "Quick grid: 6000_5.00_-0.50_0.40_1.05_0.00_0.00_0.00.fits.gz\n",
      "Quick grid: 6000_5.00_-0.25_0.00_1.06_0.00_0.00_0.00.fits.gz\n",
      "Quick grid: 6000_5.00_-0.25_0.40_1.06_0.00_0.00_0.00.fits.gz\n",
      "Quick grid: 6000_5.00_0.00_0.00_1.07_0.00_0.00_0.00.fits.gz\n",
      "Quick grid: 6000_5.00_0.00_0.40_1.07_0.00_0.00_0.00.fits.gz\n",
      "Quick grid: 6000_5.00_0.25_0.00_1.08_0.00_0.00_0.00.fits.gz\n",
      "Quick grid: 6000_5.00_0.25_0.40_1.08_0.00_0.00_0.00.fits.gz\n",
      "Quick grid: 6000_5.00_0.50_0.00_1.10_0.00_0.00_0.00.fits.gz\n",
      "Quick grid: 6000_5.00_0.50_0.40_1.10_0.00_0.00_0.00.fits.gz\n",
      "Quick grid: 6250_3.00_-1.00_0.00_1.82_0.00_0.00_0.00.fits.gz\n",
      "Quick grid: 6250_3.00_-1.00_0.40_1.82_0.00_0.00_0.00.fits.gz\n",
      "Quick grid: 6250_3.00_-0.75_0.00_1.83_0.00_0.00_0.00.fits.gz\n",
      "Quick grid: 6250_3.00_-0.75_0.40_1.83_0.00_0.00_0.00.fits.gz\n",
      "Quick grid: 6250_3.00_-0.50_0.00_1.84_0.00_0.00_0.00.fits.gz\n",
      "Quick grid: 6250_3.00_-0.50_0.40_1.84_0.00_0.00_0.00.fits.gz\n",
      "Quick grid: 6250_3.00_-0.25_0.00_1.85_0.00_0.00_0.00.fits.gz\n",
      "Quick grid: 6250_3.00_-0.25_0.40_1.85_0.00_0.00_0.00.fits.gz\n",
      "Quick grid: 6250_3.00_0.00_0.00_1.86_0.00_0.00_0.00.fits.gz\n",
      "Quick grid: 6250_3.00_0.00_0.40_1.86_0.00_0.00_0.00.fits.gz\n",
      "Quick grid: 6250_3.00_0.25_0.00_1.87_0.00_0.00_0.00.fits.gz\n",
      "Quick grid: 6250_3.00_0.25_0.40_1.87_0.00_0.00_0.00.fits.gz\n",
      "Quick grid: 6250_3.00_0.50_0.00_1.89_0.00_0.00_0.00.fits.gz\n",
      "Quick grid: 6250_3.00_0.50_0.40_1.89_0.00_0.00_0.00.fits.gz\n",
      "Quick grid: 6250_3.50_-1.00_0.00_1.35_0.00_0.00_0.00.fits.gz\n",
      "Quick grid: 6250_3.50_-1.00_0.40_1.35_0.00_0.00_0.00.fits.gz\n",
      "Quick grid: 6250_3.50_-0.75_0.00_1.36_0.00_0.00_0.00.fits.gz\n",
      "Quick grid: 6250_3.50_-0.75_0.40_1.36_0.00_0.00_0.00.fits.gz\n",
      "Quick grid: 6250_3.50_-0.50_0.00_1.37_0.00_0.00_0.00.fits.gz\n",
      "Quick grid: 6250_3.50_-0.50_0.40_1.37_0.00_0.00_0.00.fits.gz\n",
      "Quick grid: 6250_3.50_-0.25_0.00_1.38_0.00_0.00_0.00.fits.gz\n",
      "Quick grid: 6250_3.50_-0.25_0.40_1.38_0.00_0.00_0.00.fits.gz\n",
      "Quick grid: 6250_3.50_0.00_0.00_1.39_0.00_0.00_0.00.fits.gz\n",
      "Quick grid: 6250_3.50_0.00_0.40_1.39_0.00_0.00_0.00.fits.gz\n",
      "Quick grid: 6250_3.50_0.25_0.00_1.40_0.00_0.00_0.00.fits.gz\n",
      "Quick grid: 6250_3.50_0.25_0.40_1.40_0.00_0.00_0.00.fits.gz\n",
      "Quick grid: 6250_3.50_0.50_0.00_1.42_0.00_0.00_0.00.fits.gz\n",
      "Quick grid: 6250_3.50_0.50_0.40_1.42_0.00_0.00_0.00.fits.gz\n",
      "Quick grid: 6250_4.00_-1.00_0.00_1.28_0.00_0.00_0.00.fits.gz\n",
      "Quick grid: 6250_4.00_-1.00_0.40_1.28_0.00_0.00_0.00.fits.gz\n",
      "Quick grid: 6250_4.00_-0.75_0.00_1.29_0.00_0.00_0.00.fits.gz\n",
      "Quick grid: 6250_4.00_-0.75_0.40_1.29_0.00_0.00_0.00.fits.gz\n",
      "Quick grid: 6250_4.00_-0.50_0.00_1.30_0.00_0.00_0.00.fits.gz\n",
      "Quick grid: 6250_4.00_-0.50_0.40_1.30_0.00_0.00_0.00.fits.gz\n",
      "Quick grid: 6250_4.00_-0.25_0.00_1.31_0.00_0.00_0.00.fits.gz\n",
      "Quick grid: 6250_4.00_-0.25_0.40_1.31_0.00_0.00_0.00.fits.gz\n",
      "Quick grid: 6250_4.00_0.00_0.00_1.32_0.00_0.00_0.00.fits.gz\n",
      "Quick grid: 6250_4.00_0.00_0.40_1.32_0.00_0.00_0.00.fits.gz\n",
      "Quick grid: 6250_4.00_0.25_0.00_1.34_0.00_0.00_0.00.fits.gz\n",
      "Quick grid: 6250_4.00_0.25_0.40_1.34_0.00_0.00_0.00.fits.gz\n",
      "Quick grid: 6250_4.00_0.50_0.00_1.35_0.00_0.00_0.00.fits.gz\n",
      "Quick grid: 6250_4.00_0.50_0.40_1.35_0.00_0.00_0.00.fits.gz\n",
      "Quick grid: 6250_4.50_-1.00_0.00_1.21_0.00_0.00_0.00.fits.gz\n",
      "Quick grid: 6250_4.50_-1.00_0.40_1.21_0.00_0.00_0.00.fits.gz\n",
      "Quick grid: 6250_4.50_-0.75_0.00_1.22_0.00_0.00_0.00.fits.gz\n",
      "Quick grid: 6250_4.50_-0.75_0.40_1.22_0.00_0.00_0.00.fits.gz\n",
      "Quick grid: 6250_4.50_-0.50_0.00_1.23_0.00_0.00_0.00.fits.gz\n",
      "Quick grid: 6250_4.50_-0.50_0.40_1.23_0.00_0.00_0.00.fits.gz\n",
      "Quick grid: 6250_4.50_-0.25_0.00_1.24_0.00_0.00_0.00.fits.gz\n",
      "Quick grid: 6250_4.50_-0.25_0.40_1.24_0.00_0.00_0.00.fits.gz\n",
      "Quick grid: 6250_4.50_0.00_0.00_1.25_0.00_0.00_0.00.fits.gz\n",
      "Quick grid: 6250_4.50_0.00_0.40_1.25_0.00_0.00_0.00.fits.gz\n",
      "Quick grid: 6250_4.50_0.25_0.00_1.26_0.00_0.00_0.00.fits.gz\n",
      "Quick grid: 6250_4.50_0.25_0.40_1.26_0.00_0.00_0.00.fits.gz\n",
      "Quick grid: 6250_4.50_0.50_0.00_1.28_0.00_0.00_0.00.fits.gz\n",
      "Quick grid: 6250_4.50_0.50_0.40_1.28_0.00_0.00_0.00.fits.gz\n",
      "Quick grid: 6250_5.00_-1.00_0.00_1.14_0.00_0.00_0.00.fits.gz\n",
      "Quick grid: 6250_5.00_-1.00_0.40_1.14_0.00_0.00_0.00.fits.gz\n",
      "Quick grid: 6250_5.00_-0.75_0.00_1.15_0.00_0.00_0.00.fits.gz\n",
      "Quick grid: 6250_5.00_-0.75_0.40_1.15_0.00_0.00_0.00.fits.gz\n",
      "Quick grid: 6250_5.00_-0.50_0.00_1.16_0.00_0.00_0.00.fits.gz\n",
      "Quick grid: 6250_5.00_-0.50_0.40_1.16_0.00_0.00_0.00.fits.gz\n",
      "Quick grid: 6250_5.00_-0.25_0.00_1.17_0.00_0.00_0.00.fits.gz\n",
      "Quick grid: 6250_5.00_-0.25_0.40_1.17_0.00_0.00_0.00.fits.gz\n",
      "Quick grid: 6250_5.00_0.00_0.00_1.18_0.00_0.00_0.00.fits.gz\n",
      "Quick grid: 6250_5.00_0.00_0.40_1.18_0.00_0.00_0.00.fits.gz\n",
      "Quick grid: 6250_5.00_0.25_0.00_1.19_0.00_0.00_0.00.fits.gz\n",
      "Quick grid: 6250_5.00_0.25_0.40_1.19_0.00_0.00_0.00.fits.gz\n",
      "Quick grid: 6250_5.00_0.50_0.00_1.21_0.00_0.00_0.00.fits.gz\n",
      "Quick grid: 6250_5.00_0.50_0.40_1.21_0.00_0.00_0.00.fits.gz\n",
      "Quick grid: 6500_3.00_-1.00_0.00_2.06_0.00_0.00_0.00.fits.gz\n",
      "Quick grid: 6500_3.00_-1.00_0.40_2.06_0.00_0.00_0.00.fits.gz\n",
      "Quick grid: 6500_3.00_-0.75_0.00_2.06_0.00_0.00_0.00.fits.gz\n",
      "Quick grid: 6500_3.00_-0.75_0.40_2.06_0.00_0.00_0.00.fits.gz\n",
      "Quick grid: 6500_3.00_-0.50_0.00_2.07_0.00_0.00_0.00.fits.gz\n",
      "Quick grid: 6500_3.00_-0.50_0.40_2.07_0.00_0.00_0.00.fits.gz\n",
      "Quick grid: 6500_3.00_-0.25_0.00_2.08_0.00_0.00_0.00.fits.gz\n",
      "Quick grid: 6500_3.00_-0.25_0.40_2.08_0.00_0.00_0.00.fits.gz\n",
      "Quick grid: 6500_3.00_0.00_0.00_2.10_0.00_0.00_0.00.fits.gz\n",
      "Quick grid: 6500_3.00_0.00_0.40_2.10_0.00_0.00_0.00.fits.gz\n",
      "Quick grid: 6500_3.00_0.25_0.00_2.11_0.00_0.00_0.00.fits.gz\n",
      "Quick grid: 6500_3.00_0.25_0.40_2.11_0.00_0.00_0.00.fits.gz\n",
      "Quick grid: 6500_3.00_0.50_0.00_2.12_0.00_0.00_0.00.fits.gz\n",
      "Quick grid: 6500_3.00_0.50_0.40_2.12_0.00_0.00_0.00.fits.gz\n",
      "Quick grid: 6500_3.50_-1.00_0.00_1.48_0.00_0.00_0.00.fits.gz\n",
      "Quick grid: 6500_3.50_-1.00_0.40_1.48_0.00_0.00_0.00.fits.gz\n",
      "Quick grid: 6500_3.50_-0.75_0.00_1.49_0.00_0.00_0.00.fits.gz\n",
      "Quick grid: 6500_3.50_-0.75_0.40_1.49_0.00_0.00_0.00.fits.gz\n",
      "Quick grid: 6500_3.50_-0.50_0.00_1.50_0.00_0.00_0.00.fits.gz\n",
      "Quick grid: 6500_3.50_-0.50_0.40_1.50_0.00_0.00_0.00.fits.gz\n",
      "Quick grid: 6500_3.50_-0.25_0.00_1.51_0.00_0.00_0.00.fits.gz\n",
      "Quick grid: 6500_3.50_-0.25_0.40_1.51_0.00_0.00_0.00.fits.gz\n",
      "Quick grid: 6500_3.50_0.00_0.00_1.52_0.00_0.00_0.00.fits.gz\n",
      "Quick grid: 6500_3.50_0.00_0.40_1.52_0.00_0.00_0.00.fits.gz\n",
      "Quick grid: 6500_3.50_0.25_0.00_1.53_0.00_0.00_0.00.fits.gz\n",
      "Quick grid: 6500_3.50_0.25_0.40_1.53_0.00_0.00_0.00.fits.gz\n",
      "Quick grid: 6500_3.50_0.50_0.00_1.55_0.00_0.00_0.00.fits.gz\n",
      "Quick grid: 6500_3.50_0.50_0.40_1.55_0.00_0.00_0.00.fits.gz\n",
      "Quick grid: 6500_4.00_-1.00_0.00_1.41_0.00_0.00_0.00.fits.gz\n",
      "Quick grid: 6500_4.00_-1.00_0.40_1.41_0.00_0.00_0.00.fits.gz\n",
      "Quick grid: 6500_4.00_-0.75_0.00_1.42_0.00_0.00_0.00.fits.gz\n",
      "Quick grid: 6500_4.00_-0.75_0.40_1.42_0.00_0.00_0.00.fits.gz\n",
      "Quick grid: 6500_4.00_-0.50_0.00_1.43_0.00_0.00_0.00.fits.gz\n",
      "Quick grid: 6500_4.00_-0.50_0.40_1.43_0.00_0.00_0.00.fits.gz\n"
     ]
    },
    {
     "name": "stdout",
     "output_type": "stream",
     "text": [
      "Quick grid: 6500_4.00_-0.25_0.00_1.44_0.00_0.00_0.00.fits.gz\n",
      "Quick grid: 6500_4.00_-0.25_0.40_1.44_0.00_0.00_0.00.fits.gz\n",
      "Quick grid: 6500_4.00_0.00_0.00_1.45_0.00_0.00_0.00.fits.gz\n",
      "Quick grid: 6500_4.00_0.00_0.40_1.45_0.00_0.00_0.00.fits.gz\n",
      "Quick grid: 6500_4.00_0.25_0.00_1.46_0.00_0.00_0.00.fits.gz\n",
      "Quick grid: 6500_4.00_0.25_0.40_1.46_0.00_0.00_0.00.fits.gz\n",
      "Quick grid: 6500_4.00_0.50_0.00_1.48_0.00_0.00_0.00.fits.gz\n",
      "Quick grid: 6500_4.00_0.50_0.40_1.48_0.00_0.00_0.00.fits.gz\n",
      "Quick grid: 6500_4.50_-1.00_0.00_1.34_0.00_0.00_0.00.fits.gz\n",
      "Quick grid: 6500_4.50_-1.00_0.40_1.34_0.00_0.00_0.00.fits.gz\n",
      "Quick grid: 6500_4.50_-0.75_0.00_1.35_0.00_0.00_0.00.fits.gz\n",
      "Quick grid: 6500_4.50_-0.75_0.40_1.35_0.00_0.00_0.00.fits.gz\n",
      "Quick grid: 6500_4.50_-0.50_0.00_1.36_0.00_0.00_0.00.fits.gz\n",
      "Quick grid: 6500_4.50_-0.50_0.40_1.36_0.00_0.00_0.00.fits.gz\n",
      "Quick grid: 6500_4.50_-0.25_0.00_1.37_0.00_0.00_0.00.fits.gz\n",
      "Quick grid: 6500_4.50_-0.25_0.40_1.37_0.00_0.00_0.00.fits.gz\n",
      "Quick grid: 6500_4.50_0.00_0.00_1.38_0.00_0.00_0.00.fits.gz\n",
      "Quick grid: 6500_4.50_0.00_0.40_1.38_0.00_0.00_0.00.fits.gz\n",
      "Quick grid: 6500_4.50_0.25_0.00_1.39_0.00_0.00_0.00.fits.gz\n",
      "Quick grid: 6500_4.50_0.25_0.40_1.39_0.00_0.00_0.00.fits.gz\n",
      "Quick grid: 6500_4.50_0.50_0.00_1.41_0.00_0.00_0.00.fits.gz\n",
      "Quick grid: 6500_4.50_0.50_0.40_1.41_0.00_0.00_0.00.fits.gz\n",
      "Quick grid: 6500_5.00_-1.00_0.00_1.27_0.00_0.00_0.00.fits.gz\n",
      "Quick grid: 6500_5.00_-1.00_0.40_1.27_0.00_0.00_0.00.fits.gz\n",
      "Quick grid: 6500_5.00_-0.75_0.00_1.27_0.00_0.00_0.00.fits.gz\n",
      "Quick grid: 6500_5.00_-0.75_0.40_1.27_0.00_0.00_0.00.fits.gz\n",
      "Quick grid: 6500_5.00_-0.50_0.00_1.28_0.00_0.00_0.00.fits.gz\n",
      "Quick grid: 6500_5.00_-0.50_0.40_1.28_0.00_0.00_0.00.fits.gz\n",
      "Quick grid: 6500_5.00_-0.25_0.00_1.29_0.00_0.00_0.00.fits.gz\n",
      "Quick grid: 6500_5.00_-0.25_0.40_1.29_0.00_0.00_0.00.fits.gz\n",
      "Quick grid: 6500_5.00_0.00_0.00_1.31_0.00_0.00_0.00.fits.gz\n",
      "Quick grid: 6500_5.00_0.00_0.40_1.31_0.00_0.00_0.00.fits.gz\n",
      "Quick grid: 6500_5.00_0.25_0.00_1.32_0.00_0.00_0.00.fits.gz\n",
      "Quick grid: 6500_5.00_0.25_0.40_1.32_0.00_0.00_0.00.fits.gz\n",
      "Quick grid: 6500_5.00_0.50_0.00_1.33_0.00_0.00_0.00.fits.gz\n",
      "Quick grid: 6500_5.00_0.50_0.40_1.33_0.00_0.00_0.00.fits.gz\n",
      "Quick grid: 6750_3.00_-1.00_0.00_2.33_0.00_0.00_0.00.fits.gz\n",
      "Quick grid: 6750_3.00_-1.00_0.40_2.33_0.00_0.00_0.00.fits.gz\n",
      "Quick grid: 6750_3.00_-0.75_0.00_2.34_0.00_0.00_0.00.fits.gz\n",
      "Quick grid: 6750_3.00_-0.75_0.40_2.34_0.00_0.00_0.00.fits.gz\n",
      "Quick grid: 6750_3.00_-0.50_0.00_2.35_0.00_0.00_0.00.fits.gz\n",
      "Quick grid: 6750_3.00_-0.50_0.40_2.35_0.00_0.00_0.00.fits.gz\n",
      "Quick grid: 6750_3.00_-0.25_0.00_2.36_0.00_0.00_0.00.fits.gz\n",
      "Quick grid: 6750_3.00_-0.25_0.40_2.36_0.00_0.00_0.00.fits.gz\n",
      "Quick grid: 6750_3.00_0.00_0.00_2.37_0.00_0.00_0.00.fits.gz\n",
      "Quick grid: 6750_3.00_0.00_0.40_2.37_0.00_0.00_0.00.fits.gz\n",
      "Quick grid: 6750_3.00_0.25_0.00_2.38_0.00_0.00_0.00.fits.gz\n",
      "Quick grid: 6750_3.00_0.25_0.40_2.38_0.00_0.00_0.00.fits.gz\n",
      "Quick grid: 6750_3.00_0.50_0.00_2.40_0.00_0.00_0.00.fits.gz\n",
      "Quick grid: 6750_3.00_0.50_0.40_2.40_0.00_0.00_0.00.fits.gz\n",
      "Quick grid: 6750_3.50_-1.00_0.00_1.63_0.00_0.00_0.00.fits.gz\n",
      "Quick grid: 6750_3.50_-1.00_0.40_1.63_0.00_0.00_0.00.fits.gz\n",
      "Quick grid: 6750_3.50_-0.75_0.00_1.64_0.00_0.00_0.00.fits.gz\n",
      "Quick grid: 6750_3.50_-0.75_0.40_1.64_0.00_0.00_0.00.fits.gz\n",
      "Quick grid: 6750_3.50_-0.50_0.00_1.64_0.00_0.00_0.00.fits.gz\n",
      "Quick grid: 6750_3.50_-0.50_0.40_1.64_0.00_0.00_0.00.fits.gz\n",
      "Quick grid: 6750_3.50_-0.25_0.00_1.66_0.00_0.00_0.00.fits.gz\n",
      "Quick grid: 6750_3.50_-0.25_0.40_1.66_0.00_0.00_0.00.fits.gz\n",
      "Quick grid: 6750_3.50_0.00_0.00_1.67_0.00_0.00_0.00.fits.gz\n",
      "Quick grid: 6750_3.50_0.00_0.40_1.67_0.00_0.00_0.00.fits.gz\n",
      "Quick grid: 6750_3.50_0.25_0.00_1.68_0.00_0.00_0.00.fits.gz\n",
      "Quick grid: 6750_3.50_0.25_0.40_1.68_0.00_0.00_0.00.fits.gz\n",
      "Quick grid: 6750_3.50_0.50_0.00_1.69_0.00_0.00_0.00.fits.gz\n",
      "Quick grid: 6750_3.50_0.50_0.40_1.69_0.00_0.00_0.00.fits.gz\n",
      "Quick grid: 6750_4.00_-1.00_0.00_1.56_0.00_0.00_0.00.fits.gz\n",
      "Quick grid: 6750_4.00_-1.00_0.40_1.56_0.00_0.00_0.00.fits.gz\n",
      "Quick grid: 6750_4.00_-0.75_0.00_1.57_0.00_0.00_0.00.fits.gz\n",
      "Quick grid: 6750_4.00_-0.75_0.40_1.57_0.00_0.00_0.00.fits.gz\n",
      "Quick grid: 6750_4.00_-0.50_0.00_1.58_0.00_0.00_0.00.fits.gz\n",
      "Quick grid: 6750_4.00_-0.50_0.40_1.58_0.00_0.00_0.00.fits.gz\n",
      "Quick grid: 6750_4.00_-0.25_0.00_1.59_0.00_0.00_0.00.fits.gz\n",
      "Quick grid: 6750_4.00_-0.25_0.40_1.59_0.00_0.00_0.00.fits.gz\n",
      "Quick grid: 6750_4.00_0.00_0.00_1.60_0.00_0.00_0.00.fits.gz\n",
      "Quick grid: 6750_4.00_0.00_0.40_1.60_0.00_0.00_0.00.fits.gz\n",
      "Quick grid: 6750_4.00_0.25_0.00_1.61_0.00_0.00_0.00.fits.gz\n",
      "Quick grid: 6750_4.00_0.25_0.40_1.61_0.00_0.00_0.00.fits.gz\n",
      "Quick grid: 6750_4.00_0.50_0.00_1.63_0.00_0.00_0.00.fits.gz\n",
      "Quick grid: 6750_4.00_0.50_0.40_1.63_0.00_0.00_0.00.fits.gz\n",
      "Quick grid: 6750_4.50_-1.00_0.00_1.49_0.00_0.00_0.00.fits.gz\n",
      "Quick grid: 6750_4.50_-1.00_0.40_1.49_0.00_0.00_0.00.fits.gz\n",
      "Quick grid: 6750_4.50_-0.75_0.00_1.49_0.00_0.00_0.00.fits.gz\n",
      "Quick grid: 6750_4.50_-0.75_0.40_1.49_0.00_0.00_0.00.fits.gz\n",
      "Quick grid: 6750_4.50_-0.50_0.00_1.50_0.00_0.00_0.00.fits.gz\n",
      "Quick grid: 6750_4.50_-0.50_0.40_1.50_0.00_0.00_0.00.fits.gz\n",
      "Quick grid: 6750_4.50_-0.25_0.00_1.52_0.00_0.00_0.00.fits.gz\n",
      "Quick grid: 6750_4.50_-0.25_0.40_1.52_0.00_0.00_0.00.fits.gz\n",
      "Quick grid: 6750_4.50_0.00_0.00_1.53_0.00_0.00_0.00.fits.gz\n",
      "Quick grid: 6750_4.50_0.00_0.40_1.53_0.00_0.00_0.00.fits.gz\n",
      "Quick grid: 6750_4.50_0.25_0.00_1.54_0.00_0.00_0.00.fits.gz\n",
      "Quick grid: 6750_4.50_0.25_0.40_1.54_0.00_0.00_0.00.fits.gz\n",
      "Quick grid: 6750_4.50_0.50_0.00_1.55_0.00_0.00_0.00.fits.gz\n",
      "Quick grid: 6750_4.50_0.50_0.40_1.55_0.00_0.00_0.00.fits.gz\n",
      "Quick grid: 6750_5.00_-1.00_0.00_1.41_0.00_0.00_0.00.fits.gz\n",
      "Quick grid: 6750_5.00_-1.00_0.40_1.41_0.00_0.00_0.00.fits.gz\n",
      "Quick grid: 6750_5.00_-0.75_0.00_1.42_0.00_0.00_0.00.fits.gz\n",
      "Quick grid: 6750_5.00_-0.75_0.40_1.42_0.00_0.00_0.00.fits.gz\n",
      "Quick grid: 6750_5.00_-0.50_0.00_1.43_0.00_0.00_0.00.fits.gz\n",
      "Quick grid: 6750_5.00_-0.50_0.40_1.43_0.00_0.00_0.00.fits.gz\n",
      "Quick grid: 6750_5.00_-0.25_0.00_1.44_0.00_0.00_0.00.fits.gz\n",
      "Quick grid: 6750_5.00_-0.25_0.40_1.44_0.00_0.00_0.00.fits.gz\n",
      "Quick grid: 6750_5.00_0.00_0.00_1.45_0.00_0.00_0.00.fits.gz\n",
      "Quick grid: 6750_5.00_0.00_0.40_1.45_0.00_0.00_0.00.fits.gz\n",
      "Quick grid: 6750_5.00_0.25_0.00_1.47_0.00_0.00_0.00.fits.gz\n",
      "Quick grid: 6750_5.00_0.25_0.40_1.47_0.00_0.00_0.00.fits.gz\n",
      "Quick grid: 6750_5.00_0.50_0.00_1.48_0.00_0.00_0.00.fits.gz\n",
      "Quick grid: 6750_5.00_0.50_0.40_1.48_0.00_0.00_0.00.fits.gz\n",
      "Quick grid: 7000_3.00_-1.00_0.00_2.64_0.00_0.00_0.00.fits.gz\n",
      "Quick grid: 7000_3.00_-1.00_0.40_2.64_0.00_0.00_0.00.fits.gz\n",
      "Quick grid: 7000_3.00_-0.75_0.00_2.65_0.00_0.00_0.00.fits.gz\n",
      "Quick grid: 7000_3.00_-0.75_0.40_2.65_0.00_0.00_0.00.fits.gz\n",
      "Quick grid: 7000_3.00_-0.50_0.00_2.66_0.00_0.00_0.00.fits.gz\n",
      "Quick grid: 7000_3.00_-0.50_0.40_2.66_0.00_0.00_0.00.fits.gz\n",
      "Quick grid: 7000_3.00_-0.25_0.00_2.67_0.00_0.00_0.00.fits.gz\n",
      "Quick grid: 7000_3.00_-0.25_0.40_2.67_0.00_0.00_0.00.fits.gz\n",
      "Quick grid: 7000_3.00_0.00_0.00_2.68_0.00_0.00_0.00.fits.gz\n",
      "Quick grid: 7000_3.00_0.00_0.40_2.68_0.00_0.00_0.00.fits.gz\n",
      "Quick grid: 7000_3.00_0.25_0.00_2.70_0.00_0.00_0.00.fits.gz\n",
      "Quick grid: 7000_3.00_0.25_0.40_2.70_0.00_0.00_0.00.fits.gz\n",
      "Quick grid: 7000_3.00_0.50_0.00_2.71_0.00_0.00_0.00.fits.gz\n",
      "Quick grid: 7000_3.00_0.50_0.40_2.71_0.00_0.00_0.00.fits.gz\n",
      "Quick grid: 7000_3.50_-1.00_0.00_1.79_0.00_0.00_0.00.fits.gz\n",
      "Quick grid: 7000_3.50_-1.00_0.40_1.79_0.00_0.00_0.00.fits.gz\n",
      "Quick grid: 7000_3.50_-0.75_0.00_1.80_0.00_0.00_0.00.fits.gz\n",
      "Quick grid: 7000_3.50_-0.75_0.40_1.80_0.00_0.00_0.00.fits.gz\n",
      "Quick grid: 7000_3.50_-0.50_0.00_1.81_0.00_0.00_0.00.fits.gz\n",
      "Quick grid: 7000_3.50_-0.50_0.40_1.81_0.00_0.00_0.00.fits.gz\n",
      "Quick grid: 7000_3.50_-0.25_0.00_1.82_0.00_0.00_0.00.fits.gz\n",
      "Quick grid: 7000_3.50_-0.25_0.40_1.82_0.00_0.00_0.00.fits.gz\n",
      "Quick grid: 7000_3.50_0.00_0.00_1.83_0.00_0.00_0.00.fits.gz\n",
      "Quick grid: 7000_3.50_0.00_0.40_1.83_0.00_0.00_0.00.fits.gz\n",
      "Quick grid: 7000_3.50_0.25_0.00_1.85_0.00_0.00_0.00.fits.gz\n",
      "Quick grid: 7000_3.50_0.25_0.40_1.85_0.00_0.00_0.00.fits.gz\n",
      "Quick grid: 7000_3.50_0.50_0.00_1.86_0.00_0.00_0.00.fits.gz\n",
      "Quick grid: 7000_3.50_0.50_0.40_1.86_0.00_0.00_0.00.fits.gz\n",
      "Quick grid: 7000_4.00_-1.00_0.00_1.72_0.00_0.00_0.00.fits.gz\n",
      "Quick grid: 7000_4.00_-1.00_0.40_1.72_0.00_0.00_0.00.fits.gz\n"
     ]
    },
    {
     "name": "stdout",
     "output_type": "stream",
     "text": [
      "Quick grid: 7000_4.00_-0.75_0.00_1.73_0.00_0.00_0.00.fits.gz\n",
      "Quick grid: 7000_4.00_-0.75_0.40_1.73_0.00_0.00_0.00.fits.gz\n",
      "Quick grid: 7000_4.00_-0.50_0.00_1.74_0.00_0.00_0.00.fits.gz\n",
      "Quick grid: 7000_4.00_-0.50_0.40_1.74_0.00_0.00_0.00.fits.gz\n",
      "Quick grid: 7000_4.00_-0.25_0.00_1.75_0.00_0.00_0.00.fits.gz\n",
      "Quick grid: 7000_4.00_-0.25_0.40_1.75_0.00_0.00_0.00.fits.gz\n",
      "Quick grid: 7000_4.00_0.00_0.00_1.76_0.00_0.00_0.00.fits.gz\n",
      "Quick grid: 7000_4.00_0.00_0.40_1.76_0.00_0.00_0.00.fits.gz\n",
      "Quick grid: 7000_4.00_0.25_0.00_1.78_0.00_0.00_0.00.fits.gz\n",
      "Quick grid: 7000_4.00_0.25_0.40_1.78_0.00_0.00_0.00.fits.gz\n",
      "Quick grid: 7000_4.00_0.50_0.00_1.79_0.00_0.00_0.00.fits.gz\n",
      "Quick grid: 7000_4.00_0.50_0.40_1.79_0.00_0.00_0.00.fits.gz\n",
      "Quick grid: 7000_4.50_-1.00_0.00_1.65_0.00_0.00_0.00.fits.gz\n",
      "Quick grid: 7000_4.50_-1.00_0.40_1.65_0.00_0.00_0.00.fits.gz\n",
      "Quick grid: 7000_4.50_-0.75_0.00_1.66_0.00_0.00_0.00.fits.gz\n",
      "Quick grid: 7000_4.50_-0.75_0.40_1.66_0.00_0.00_0.00.fits.gz\n",
      "Quick grid: 7000_4.50_-0.50_0.00_1.67_0.00_0.00_0.00.fits.gz\n",
      "Quick grid: 7000_4.50_-0.50_0.40_1.67_0.00_0.00_0.00.fits.gz\n",
      "Quick grid: 7000_4.50_-0.25_0.00_1.68_0.00_0.00_0.00.fits.gz\n",
      "Quick grid: 7000_4.50_-0.25_0.40_1.68_0.00_0.00_0.00.fits.gz\n",
      "Quick grid: 7000_4.50_0.00_0.00_1.69_0.00_0.00_0.00.fits.gz\n",
      "Quick grid: 7000_4.50_0.00_0.40_1.69_0.00_0.00_0.00.fits.gz\n",
      "Quick grid: 7000_4.50_0.25_0.00_1.71_0.00_0.00_0.00.fits.gz\n",
      "Quick grid: 7000_4.50_0.25_0.40_1.71_0.00_0.00_0.00.fits.gz\n",
      "Quick grid: 7000_4.50_0.50_0.00_1.72_0.00_0.00_0.00.fits.gz\n",
      "Quick grid: 7000_4.50_0.50_0.40_1.72_0.00_0.00_0.00.fits.gz\n",
      "Quick grid: 7000_5.00_-1.00_0.00_1.58_0.00_0.00_0.00.fits.gz\n",
      "Quick grid: 7000_5.00_-1.00_0.40_1.58_0.00_0.00_0.00.fits.gz\n",
      "Quick grid: 7000_5.00_-0.75_0.00_1.59_0.00_0.00_0.00.fits.gz\n",
      "Quick grid: 7000_5.00_-0.75_0.40_1.59_0.00_0.00_0.00.fits.gz\n",
      "Quick grid: 7000_5.00_-0.50_0.00_1.60_0.00_0.00_0.00.fits.gz\n",
      "Quick grid: 7000_5.00_-0.50_0.40_1.60_0.00_0.00_0.00.fits.gz\n",
      "Quick grid: 7000_5.00_-0.25_0.00_1.61_0.00_0.00_0.00.fits.gz\n",
      "Quick grid: 7000_5.00_-0.25_0.40_1.61_0.00_0.00_0.00.fits.gz\n",
      "Quick grid: 7000_5.00_0.00_0.00_1.62_0.00_0.00_0.00.fits.gz\n",
      "Quick grid: 7000_5.00_0.00_0.40_1.62_0.00_0.00_0.00.fits.gz\n",
      "Quick grid: 7000_5.00_0.25_0.00_1.63_0.00_0.00_0.00.fits.gz\n",
      "Quick grid: 7000_5.00_0.25_0.40_1.63_0.00_0.00_0.00.fits.gz\n",
      "Quick grid: 7000_5.00_0.50_0.00_1.65_0.00_0.00_0.00.fits.gz\n",
      "Quick grid: 7000_5.00_0.50_0.40_1.65_0.00_0.00_0.00.fits.gz\n",
      "Written ispecgrid_hband_turbospectrum//convolved_grid_400000.fits.gz\n"
     ]
    }
   ],
   "source": [
    "precompute_synthetic_grid(ranges, 1400, 1800, 120000, \"ispecgrid_hband\", \"turbospectrum\", number_of_processes=10)"
   ]
  },
  {
   "cell_type": "code",
   "execution_count": 11,
   "id": "687bcab1",
   "metadata": {
    "scrolled": false
   },
   "outputs": [
    {
     "name": "stdout",
     "output_type": "stream",
     "text": [
      "# step wave (AA): 0.03333361111344857\n",
      "# resolution: 479995.9999996742\n",
      "# atmosphere model: atlas\n",
      "[started]  35003.0 -1.0 0.0 1.78 0.0 0.0 0.0 0\n",
      "[started] 3500 3.0 -1.0 0.4 1.78 0.0 0.0 0.0[started]  35000 \n",
      "3.0 -0.75 0.0 1.79 0.0 0.0 0.0 0\n",
      "[started] 3500 3.0 -0.75 0.4 1.79 0.0 0.0 0.0 0[started]\n",
      " 3500 3.0 -0.5 0.0 1.8 0.0 0.0 0.0 0\n",
      "[started] 3500 3.0 -0.5 0.4 1.8 0.0 0.0 [started]0.0 0 \n",
      "3500 3.0 -0.25 0.0 1.81 0.0 0.0 0.0 0\n",
      "[started] 3500 3.0 -0.25 0.4 1.81 0.0 0.0 0.0 0\n",
      "[started] 3500 3.0 0.0 0.0 1.82 0.0 0.0 0.0 0\n",
      "[started] 3500 3.0 0.0 0.4 1.82 0.0 0.0 0.0 0\n",
      "[finished] 3500 3.0 -1.0 0.4 1.78 0.0 0.0 0.0 0\n",
      "[started] 3500 3.0 0.25 0.0 1.84 0.0 0.0 0.0 0\n",
      "[finished] 3500 3.0 -0.25 0.4 1.81 0.0 0.0 0.0 0\n",
      "[started] 3500 3.0 0.25 0.4 1.84 0.0 0.0 0.0 0\n",
      "[finished] 3500 3.0 0.0 0.4 1.82 0.0 0.0 0.0 0\n",
      "[started] 3500 3.0 0.5 0.0 1.85 0.0 0.0 0.0 0\n",
      "[finished] 3500 3.0 -0.5 0.4 1.8 0.0 0.0 0.0 0\n",
      "[started] 3500 3.0 0.5 0.4 1.85 0.0 0.0 0.0[finished]  03500\n",
      " 3.0 -0.75 0.4 1.79 0.0 0.0 0.0 0\n",
      "[started] 3500 3.5 -1.0 0.0 0.99 0.0 0.0 0.0 0\n",
      "[finished] 3500 3.0 -1.0 0.0 1.78 0.0 0.0 0.0 0\n",
      "[started] 3500 3.5 -1.0 0.4 0.99 0.0 0.0 0.0 0\n",
      "[finished] 3500 3.0 -0.25 0.0 1.81 0.0 0.0 0.0 0\n",
      "[started] 3500 3.5 -0.75 0.0 1.0 0.0 0.0 0.0 0\n",
      "[finished] 3500 3.0 0.0 0.0 1.82 0.0 0.0 0.0 0\n",
      "[finished] 3500[started]  3.03500  -0.53.5 -0.75  0.40.0  1.01.8  0.00.0  0.00.0  0.00.0  00\n",
      "\n",
      "[started] 3500 3.5 -0.5 0.0 1.01 0.0 0.0 0.0 0\n",
      "[finished] 3500 3.0 -0.75 0.0 1.79 0.0 0.0 0.0 0\n",
      "[started] 3500 3.5 -0.5 0.4 1.01 0.0 0.0 0.0 0\n",
      "[finished] 3500 3.0 0.25 0.0 1.84 0.0 0.0 0.0 0\n",
      "[started] 3500 3.5 -0.25 0.0 1.02 0.0 0.0 0.0 0\n",
      "[finished] 3500 3.0 0.25 0.4 1.84 0.0 0.0 0.0 0\n",
      "[started] 3500 3.5 -0.25 0.4 1.02 0.0 0.0 0.0 0\n",
      "[finished] 3500 3.5 -1.0 0.0 0.99 0.0 0.0 0.0 0\n",
      "[started] 3500 3.5 0.0 0.0 1.03 0.0 0.0 0.0 0\n",
      "[finished] 3500 3.5 -0.75 0.4 1.0 0.0 0.0 0.0 0\n",
      "[started] 3500 3.5 0.0 0.4 1.03 0.0 0.0 0.0 0\n",
      "[finished] 3500 3.0 0.5 0.4 1.85 0.0 0.0 0.0 0\n",
      "[started] 3500 3.5 0.25 0.0 1.04 0.0 0.0 0.0 0\n",
      "[finished] 3500 3.5 -0.75 0.0 1.0 0.0 0.0 0.0 0\n",
      "[started] 3500 3.5 0.25 0.4 1.04 0.0 0.0 0.0 0\n",
      "[finished] 3500 3.5 -0.5 0.0 1.01 0.0 0.0 0.0 0\n",
      "[started] 3500 3.5 0.5 0.0 1.06 0.0 0.0 0.0 0\n",
      "[finished] 3500 3.0 0.5 0.0 1.85 0.0 0.0 0.0 0\n",
      "[started] 3500 3.5 0.5 0.4 1.06 0.0 0.0 0.0 0\n",
      "[finished] 3500 3.5 -0.5 0.4 1.01 0.0 0.0 0.0 0\n",
      "[started] 3500 4.0 -1.0 0.0 0.92 0.0 0.0 0.0 0\n",
      "[finished] 3500 3.5 -1.0 0.4 0.99 0.0 0.0 0.0 0\n",
      "[started] 3500 4.0 -1.0 0.4 0.92 0.0 0.0 0.0 0\n",
      "[finished] 3500 3.5 -0.25 0.0 1.02 0.0 0.0 0.0 0\n",
      "[started] 3500 4.0 -0.75 0.0 0.93 0.0 0.0 0.0 0\n",
      "[finished] 3500 3.5 0.0 0.0 1.03 0.0 0.0 0.0 0\n",
      "[started] 3500 4.0 -0.75 0.4 0.93 0.0 0.0 0.0 0\n",
      "[finished] 3500 3.5 -0.25 0.4 1.02 0.0 0.0 0.0 0\n",
      "[started] 3500 4.0 -0.5 0.0 0.94 0.0 0.0 0.0 0\n",
      "[finished] 3500 3.5 0.0 0.4 1.03 0.0 0.0 0.0 0\n",
      "[started] 3500 4.0 -0.5 0.4 0.94 0.0 0.0 0.0 0\n",
      "[finished] 3500 4.0 -1.0 0.0 0.92 0.0 0.0 0.0 0\n",
      "[started] 3500 4.0 -0.25 0.0 0.95 0.0 0.0 0.0 0\n",
      "[finished] 3500 3.5 0.25 0.0 1.04 0.0 0.0 0.0 0\n",
      "[started] 3500 4.0 -0.25 0.4 0.95 0.0 0.0 0.0 0\n",
      "[finished] 3500 3.5 0.25 0.4 1.04 0.0 0.0 0.0 0\n",
      "[started] 3500 4.0 0.0 0.0 0.96 0.0 0.0 0.0 0\n",
      "[finished] 3500 4.0 -1.0 0.4 0.92 0.0 0.0 0.0 0\n",
      "[finished] 3500 3.5 0.5 0.0 1.06 0.0 0.0 0.0 0\n",
      "[started] 3500 4.0 0.0 0.4 0.96 0.0 0.0 0.0 0\n",
      "[started] 3500 4.0 0.25 0.0 0.98 0.0 0.0 0.0 0\n",
      "[finished] 3500 3.5 0.5 0.4 1.06 0.0 0.0 0.0 0\n",
      "[started] 3500 4.0 0.25 0.4 0.98 0.0 0.0 0.0 0\n",
      "[finished] 3500 4.0 -0.75 0.4 0.93 0.0 0.0 0.0 0\n",
      "[started] 3500 4.0 0.5 0.0 0.99 0.0 0.0 0.0 0\n",
      "[finished] 3500 4.0 -0.75 0.0 0.93 0.0 0.0 0.0 0\n",
      "[started] 3500 4.0 0.5 0.4 0.99 0.0 0.0 0.0 0\n",
      "[finished] 3500 4.0 -0.5 0.0 0.94 0.0 0.0 0.0 0\n",
      "[started] 3500 4.5 -1.0 0.0 0.85 0.0 0.0 0.0 0\n",
      "[finished] 3500 4.0 -0.25 0.0 0.95 0.0 0.0 0.0 0\n",
      "[started] 3500 4.5 -1.0 0.4[finished]  0.853500 0.0  4.00.0  0.00.0  00.0 0.96 0.0 0.0\n",
      " 0.0 0\n",
      "[started] 3500 4.5 -0.75 0.0 0.86 0.0 0.0 0.0 0\n",
      "[finished] 3500 4.0 -0.5 0.4 0.94 0.0 0.0 0.0 0\n",
      "[started] 3500 4.5 -0.75 0.4 0.86 0.0 0.0 0.0 0\n",
      "[finished] 3500 4.0 -0.25 0.4 0.95 0.0 0.0 0.0 0\n",
      "[started] 3500 4.5 -0.5 0.0 0.87 0.0 0.0 0.0 0\n",
      "[finished] 3500 4.0 0.0 0.4 0.96 0.0 0.0 0.0 0\n",
      "[started] 3500 4.5 -0.5 0.4 0.87 0.0 0.0 0.0 0\n",
      "[finished] 3500 4.0 0.25 0.4 0.98 0.0 0.0 0.0 0\n",
      "[started] 3500 4.5 -0.25 0.0 0.88 0.0 0.0 0.0 0\n",
      "[finished] 3500 4.0 0.25 0.0 0.98 0.0 0.0 0.0 0\n",
      "[started] 3500 4.5 -0.25 0.4 0.88 0.0 0.0 0.0 0\n",
      "[finished] 3500 4.0 0.5 0.0 0.99 0.0 0.0 0.0 0\n",
      "[started] 3500 4.5 0.0 0.0 0.89 0.0 0.0 0.0 0\n",
      "[finished] 3500 4.5 -1.0 0.0 0.85 0.0 0.0 0.0 0\n",
      "[started] 3500 4.5 0.0 0.4 0.89 0.0 0.0 0.0 0\n",
      "[finished] 3500 4.5 -0.75 0.4 0.86 0.0 0.0 0.0 0\n",
      "[started] 3500 4.5 0.25 0.0 0.9 0.0 0.0 0.0 0\n",
      "[finished] 3500 4.5 -1.0 0.4 0.85 0.0 0.0 0.0 0\n",
      "[started] 3500 4.5 0.25 0.4 0.9 0.0 0.0 0.0 0\n",
      "[finished] 3500 4.0 0.5 0.4 0.99 0.0 0.0 0.0 0\n",
      "[started] 3500 4.5 0.5 0.0 0.92 0.0 0.0 0.0 0\n",
      "[finished] 3500 4.5 -0.75 0.0 0.86 0.0 0.0 0.0 0\n",
      "[started] 3500 4.5 0.5 0.4 0.92 0.0 0.0 0.0 0\n",
      "[finished] 3500 4.5 -0.5 0.0 0.87 0.0 0.0 0.0 0\n",
      "[started] 3500 5.0 -1.0 0.0 0.78 0.0 0.0 0.0 0\n",
      "[finished] 3500 4.5 -0.25 0.0 0.88 0.0 0.0 0.0 0\n",
      "[started] 3500 5.0 -1.0 0.4 0.78 0.0 0.0 0.0 0\n",
      "[finished] 3500 4.5 -0.5 0.4 0.87 0.0 0.0 0.0 0\n",
      "[started] 3500 5.0 -0.75 0.0 0.79 0.0 0.0 0.0 0\n",
      "[finished] 3500 4.5 -0.25 0.4 0.88 0.0 0.0 0.0 0\n",
      "[started] 3500 5.0 -0.75 0.4 0.79 0.0 0.0 0.0 0\n",
      "[finished] 3500 4.5 0.0 0.0 0.89 0.0 0.0 0.0 0\n",
      "[finished] 3500 4.5 0.25 0.4 0.9 0.0 0.0 0.0 0\n",
      "[started] 3500 5.0 -0.5 0.0 0.79 0.0[started]  0.03500  0.05.0  -0.5 00.4\n",
      " 0.79 0.0 0.0 0.0 0\n",
      "[finished] 3500 4.5 0.5 0.4 0.92 0.0 0.0 0.0 0\n",
      "[started] 3500 5.0 -0.25 0.0 0.81 0.0 0.0 0.0 0\n",
      "[finished] 3500 4.5 0.0 0.4 0.89 0.0 0.0 0.0 0\n",
      "[started] 3500 5.0 -0.25 0.4 0.81 0.0 0.0 0.0 0\n",
      "[finished] 3500 4.5 0.25 0.0 0.9 0.0 0.0 0.0 0\n",
      "[started] 3500 5.0 0.0 0.0 0.82 0.0 0.0 0.0 0\n",
      "[finished] 3500 5.0 -1.0 0.0 0.78 0.0 0.0 0.0 0\n",
      "[started] 3500 5.0 0.0 0.4 0.82 0.0 0.0 0.0 0\n",
      "[finished] 3500 4.5 0.5 0.0 0.92 0.0 0.0 0.0 0\n",
      "[started] 3500 5.0 0.25 0.0 0.83 0.0 0.0 0.0 0\n",
      "[finished] 3500 5.0 -0.75 0.0 0.79 0.0 0.0 0.0 0\n",
      "[started] 3500 5.0 0.25 0.4 0.83 0.0 0.0 0.0 0\n",
      "[finished] 3500 5.0 -1.0 0.4 0.78 0.0 0.0 0.0 0\n",
      "[started] 3500 5.0 0.5 0.0 0.84 0.0 0.0 0.0 0\n",
      "[finished] 3500 5.0 -0.75 0.4 0.79 0.0 0.0 0.0 0\n",
      "[started] 3500 5.0 0.5 0.4 0.84 0.0 0.0 0.0 0\n",
      "[finished] 3500 5.0 -0.5 0.4 0.79 0.0 0.0 0.0 0\n",
      "[started] 3750 3.0 -1.0 0.0 1.59 0.0 0.0 0.0 0\n",
      "[finished] 3500 5.0 0.0 0.0 0.82 0.0 0.0 0.0 0\n",
      "[started] 3750 3.0 -1.0 0.4 1.59 0.0 0.0 0.0 0\n",
      "[finished] 3500 5.0 -0.5 0.0 0.79 0.0 0.0 0.0 0\n",
      "[started] 3750 3.0 -0.75 0.0 1.6 0.0 0.0 0.0 0\n",
      "[finished] 3500 5.0 -0.25 0.4 0.81 0.0 0.0 0.0 0\n",
      "[started] 3750 3.0 -0.75 0.4 1.6 0.0 0.0 0.0 0\n",
      "[finished] 3500 5.0 -0.25 0.0 0.81 0.0 0.0 0.0 0\n",
      "[started] 3750 3.0 -0.5 0.0 1.61 0.0 0.0 0.0 0\n",
      "[finished] 3500 5.0 0.0 0.4 0.82 0.0 0.0 0.0 0\n",
      "[started] 3750 3.0 -0.5 0.4 1.61 0.0 0.0 0.0 0\n",
      "[finished] 3500 5.0 0.25 0.4 0.83 0.0 0.0 0.0 0\n",
      "[started] 3750 3.0 -0.25 0.0 1.62 0.0 0.0 0.0 0\n",
      "[finished] 3500 5.0 0.5 0.4 0.84 0.0 0.0 0.0 0\n",
      "[started] 3750 3.0 -0.25 0.4 1.62 0.0 0.0 0.0 0\n",
      "[finished] 3500 5.0 0.5 0.0 0.84 0.0 0.0 0.0 0\n",
      "[started] 3750 3.0 0.0 0.0 1.63 0.0 0.0 0.0 0\n",
      "[finished] 3500 5.0 0.25 0.0 0.83 0.0 0.0 0.0 0\n",
      "[started] 3750 3.0 0.0 0.4 1.63 0.0 0.0 0.0 0\n",
      "[finished] 3750 3.0 -0.75 0.0 1.6 0.0 0.0 0.0 0\n",
      "[started] 3750 3.0 0.25 0.0 1.65 0.0 0.0 0.0 0\n",
      "[finished] 3750 3.0 -1.0 0.4 1.59 0.0 0.0 0.0 0\n",
      "[started] 3750 3.0 0.25 0.4 1.65 0.0 0.0 0.0 0\n",
      "[finished] 3750 3.0 -1.0 0.0 1.59 0.0 0.0 0.0 0\n",
      "[started] 3750 3.0 0.5 0.0 1.66 0.0 0.0 0.0 0\n",
      "[finished] 3750 3.0 -0.5 0.0 1.61 0.0 0.0 0.0 0\n",
      "[started] 3750 3.0 0.5 0.4 1.66 0.0 0.0 0.0 0\n",
      "[finished] 3750 3.0 -0.75 0.4 1.6 0.0 0.0 0.0 0\n",
      "[started] 3750 3.5 -1.0 0.0 0.99 0.0 0.0 0.0 0\n",
      "[finished] 3750 3.0 -0.5 0.4 1.61 0.0 0.0 0.0 0\n",
      "[started] 3750 3.5 -1.0 0.4 0.99 0.0 0.0 0.0 0\n",
      "[finished] 3750 3.0 -0.25 0.0 1.62 0.0 0.0 0.0 0\n",
      "[started] 3750 3.5 -0.75 0.0 1.0 0.0 0.0 0.0 0\n",
      "[finished] 3750 3.0 0.0 0.0 1.63 0.0 0.0 0.0 0\n",
      "[started] 3750 3.5 -0.75 0.4 1.0 0.0 0.0 0.0 0\n",
      "[finished] 3750 3.0 -0.25 0.4 1.62 0.0 0.0 0.0 0\n",
      "[finished] 3750 3.0 0.0 0.4 1.63 [started]0.0 3750 3.5  0.0-0.5  0.00.0  01.01\n",
      " 0.0 0.0 0.0 0\n",
      "[started] 3750 3.5 -0.5 0.4 1.01 0.0 0.0 0.0 0\n"
     ]
    },
    {
     "name": "stdout",
     "output_type": "stream",
     "text": [
      "[finished] 3750 3.0 0.25 0.0 1.65 0.0 0.0 0.0 0\n",
      "[started] 3750 3.5 -0.25 0.0 1.02 0.0 0.0 0.0 0\n",
      "[finished] 3750 3.5 -1.0 0.0 0.99 0.0 0.0 0.0 0\n",
      "[started] 3750 3.5 -0.25 0.4 1.02 0.0 0.0 0.0 0\n",
      "[finished] 3750 3.0 0.5 0.4 1.66 0.0 0.0 0.0 0\n",
      "[started] 3750 3.5 0.0 0.0 1.03 0.0 0.0 0.0 0\n",
      "[finished] 3750 3.0 0.5 0.0[finished]  3750 3.01.66 0.25  0.0 0.0 0.0 00.4\n",
      " 1.65 0.0 0.0 0.0 0\n",
      "[started] 3750 3.5 0.0 0.4 1.03 0.0 0.0 0.0 0\n",
      "[started] 3750 3.5 0.25 0.0 1.04 0.0 0.0 0.0 0\n",
      "[finished] 3750 3.5 -0.75 0.0 1.0 0.0 0.0 0.0 0\n",
      "[started] 3750 3.5 0.25 0.4 1.04 0.0 0.0 0.0 0\n",
      "[finished] 3750 3.5 -1.0 0.4 0.99 0.0 0.0 0.0 0\n",
      "[started] 3750 3.5 0.5 0.0 1.06 0.0 0.0 0.0 0\n",
      "[finished] 3750 3.5 -0.75 0.4 1.0 0.0 0.0 0.0 0\n",
      "[started] 3750 3.5 0.5 0.4 1.06 0.0 0.0 0.0 0\n",
      "[finished] 3750 3.5 -0.5 0.0 1.01 0.0 0.0 0.0 0\n",
      "[started] 3750 4.0 -1.0 0.0 0.92 0.0 0.0 0.0 0\n",
      "[finished] 3750 3.5 -0.5 0.4 1.01 0.0 0.0 0.0 0\n",
      "[started] 3750 4.0 -1.0 0.4 0.92 0.0 0.0 0.0 0\n",
      "[finished] 3750 3.5 -0.25 0.0 1.02 0.0 0.0 0.0 0\n",
      "[started] 3750 4.0 -0.75 0.0 0.93 0.0 0.0 0.0 0\n",
      "[finished] 3750 3.5 -0.25 0.4 1.02 0.0 0.0 0.0 0\n",
      "[started] 3750 4.0 -0.75 0.4 0.93 0.0 0.0 0.0 0\n",
      "[finished] 3750 3.5 0.0 0.0 1.03 0.0 0.0 0.0 0\n",
      "[started][finished] 3750 3750 4.0 3.5  0.25-0.5  0.4 0.01.04  0.00.94  0.00.0 0.0  00.0 0.0\n",
      " 0\n",
      "[started] 3750 4.0 -0.5 0.4 0.94 0.0 0.0 0.0 0\n",
      "[finished] 3750 3.5 0.0 [finished]0.4  3750 3.51.03 0.0  0.00.25  0.00.0  01.04\n",
      " 0.0 0.0 0.0 0\n",
      "[started] 3750 4.0 -0.25 0.0 0.95  0.00.0 0.0 0\n",
      "[started] 3750 4.0 -0.25 0.4 0.95 0.0 0.0 0.0 0\n",
      "[finished] 3750 3.5 0.5 0.0 1.06 0.0 0.0 0.0 0\n",
      "[started] 3750 4.0 0.0 0.0 0.96 0.0 0.0 0.0 0\n",
      "[finished] 3750 3.5 0.5 0.4 1.06 0.0 0.0 0.0 0\n",
      "[started] 3750 4.0 0.0 0.4 0.96 0.0 0.0 0.0 0\n",
      "[finished] 3750 4.0 -1.0 0.0 0.92 0.0 0.0 0.0 0\n",
      "[started] 3750 4.0 0.25 0.0 0.98 0.0 0.0 0.0 0\n",
      "[finished] 3750 4.0 -1.0 0.4 0.92 0.0 0.0 0.0 0\n",
      "[started] 3750 4.0 0.25 0.4 0.98 0.0 0.0 0.0 0\n",
      "[finished] 3750 4.0 -0.75 0.0 0.93 0.0 0.0 0.0 0\n",
      "[started] 3750 4.0 0.5 0.0 0.99 0.0 0.0 0.0 0\n",
      "[finished] 3750 4.0 -0.75 0.4 0.93 0.0 0.0 0.0 0\n",
      "[started] 3750 4.0 0.5 0.4 0.99 0.0 0.0 0.0 0\n",
      "[finished] 3750 4.0 -0.5 0.4 0.94 0.0 0.0 0.0 0\n",
      "[started] 3750 4.5 -1.0 0.0 0.85 0.0 0.0 0.0 0\n",
      "[finished] 3750 4.0 -0.5 0.0 0.94 0.0 0.0 0.0 0\n",
      "[finished] 3750 4.0 -0.25 0.0 0.95 0.0 0.0 0.0 [started]0 \n",
      "3750 4.5 -1.0 0.4 0.85 0.0 0.0 0.0 0\n",
      "[started] 3750 4.5 -0.75 0.0 0.86 0.0 0.0 0.0 0\n",
      "[finished] 3750 4.0 -0.25 0.4 0.95 0.0 0.0 0.0 0\n",
      "[started] 3750 4.5 -0.75 0.4 0.86 0.0 0.0 0.0 0\n",
      "[finished] 3750 4.0 0.0 0.0 0.96 0.0 0.0 0.0 0\n",
      "[started] 3750 4.5 -0.5 0.0 0.87 0.0 0.0 0.0 0\n",
      "[finished] 3750 4.0 0.0 0.4 0.96 0.0 0.0 0.0 0\n",
      "[started] 3750 4.5 -0.5 0.4 0.87 0.0 0.0 0.0 0\n",
      "[finished] 3750 4.0 0.25 0.0 0.98 0.0 0.0 0.0 0\n",
      "[started] 3750 4.5 -0.25 0.0 0.88 0.0 0.0 0.0 0\n",
      "[finished] 3750 4.0 0.25 0.4 0.98 0.0 0.0 0.0 0\n",
      "[started] 3750 4.5 -0.25 0.4 0.88 0.0 0.0 0.0 0\n",
      "[finished] 3750 4.0 0.5 0.0 0.99 0.0 0.0 0.0 0\n",
      "[started] 3750 4.5 0.0 0.0 0.89 0.0 0.0 0.0 0\n",
      "[finished] 3750 4.0 0.5 0.4 0.99 0.0 0.0 0.0 0\n",
      "[started] 3750 4.5 0.0 0.4 0.89 0.0 0.0 0.0 0\n",
      "[finished] 3750 4.5 -1.0 0.4 0.85 0.0 0.0 0.0 0\n",
      "[finished] 3750 4.5 -1.0 0.0[started]  0.853750 0.0 0.0  4.50.0 0\n",
      " 0.25 0.0 0.9 0.0 0.0 0.0 0\n",
      "[started] 3750 4.5 0.25 0.4 0.9 0.0 0.0 0.0 0\n",
      "[finished] 3750 4.5 -0.75 0.0 0.86 0.0 0.0 0.0 0\n",
      "[started] 3750 4.5 0.5 0.0 0.92 0.0 0.0 0.0 0\n",
      "[finished] 3750 4.5 -0.75 0.4 0.86 0.0 0.0 0.0 0\n",
      "[started] 3750 4.5 0.5 0.4 0.92 0.0 0.0 0.0 0\n",
      "[finished] 3750 4.5 -0.5 0.0 0.87 0.0 0.0 0.0 0\n",
      "[started] 3750 5.0 -1.0 0.0 0.78 0.0 0.0 0.0 0\n",
      "[finished] 3750 4.5 -0.25 0.0 0.88 0.0 0.0 0.0 0\n",
      "[started] 3750 5.0 -1.0 0.4 0.78 0.0 0.0 0.0 0\n",
      "[finished] 3750 4.5 -0.5 0.4 0.87 0.0 0.0 0.0 0\n",
      "[started] 3750 5.0 -0.75 0.0 0.79 0.0 0.0 0.0 0\n",
      "[finished] 3750 4.5 -0.25 0.4 0.88 0.0 0.0 0.0 0\n",
      "[started] 3750 5.0 -0.75 0.4 0.79 0.0 0.0 0.0 0\n",
      "[finished] 3750 4.5 0.0 0.0 0.89 0.0 0.0 0.0 0\n",
      "[started] 3750 5.0 -0.5 0.0 0.79 0.0 0.0 0.0 0\n",
      "[finished] 3750 4.5 0.0 0.4 0.89 0.0 0.0 0.0 0\n",
      "[started] 3750 5.0 -0.5 0.4 0.79 0.0 0.0 0.0 0\n",
      "[finished] 3750 4.5 0.25 0.4 0.9 0.0 0.0 0.0 0\n",
      "[started] 3750 5.0 -0.25 0.0 0.81 0.0 0.0 0.0 0\n",
      "[finished] 3750 4.5 0.5 0.0 0.92 0.0 0.0 0.0 0\n",
      "[started] 3750 5.0 -0.25 0.4 0.81 0.0 0.0 0.0 0\n",
      "[finished] 3750 4.5 0.25 0.0 0.9 0.0 0.0 0.0 0\n",
      "[started] 3750 5.0 0.0 0.0 0.82 0.0 0.0 0.0 0\n",
      "[finished] 3750 5.0 -1.0 0.0 0.78 0.0 0.0 0.0 0\n",
      "[started] 3750 5.0 0.0 0.4 0.82 0.0 0.0 0.0 0\n",
      "[finished] 3750 5.0 -1.0 0.4 0.78 0.0 0.0 0.0 0\n",
      "[started] 3750 5.0 0.25 0.0 0.83 0.0 0.0 0.0 0\n",
      "[finished] 3750 4.5 0.5 0.4 0.92 0.0 0.0 0.0 0\n",
      "[started] 3750 5.0 0.25 0.4 0.83 0.0 0.0 0.0 0\n",
      "[finished] 3750 5.0 -0.75 0.0 0.79 0.0 0.0 0.0 0\n",
      "[started] 3750 5.0 0.5 0.0 0.84 0.0 0.0 0.0 0\n",
      "[finished] 3750 5.0 -0.75 0.4 0.79 0.0 0.0 0.0 0\n",
      "[started] 3750 5.0 0.5 0.4 0.84 0.0 0.0 0.0 0\n",
      "[finished] 3750 5.0 -0.5 0.0 0.79 0.0 0.0 0.0 0\n",
      "[started] 4000 3.0 -1.0 0.0 1.44 0.0 0.0 0.0 0\n",
      "[finished] 3750 5.0 -0.25 0.4 0.81 0.0 0.0 0.0 0\n",
      "[started] 4000 3.0 -1.0 0.4 1.44 0.0 0.0 0.0 0\n",
      "[finished] 3750 5.0 -0.25 0.0 0.81 0.0 0.0 0.0 0\n",
      "[started] 4000 3.0 -0.75 0.0 1.45 0.0 0.0 0.0 0\n",
      "[finished] 3750 5.0 -0.5 0.4 0.79 0.0 0.0 0.0 0\n",
      "[started] 4000 3.0 -0.75 0.4 1.45 0.0 0.0 0.0 0\n",
      "[finished] 3750 5.0 0.0 0.0 0.82 0.0 0.0 0.0 0\n",
      "[started] 4000 3.0 -0.5 0.0 1.46 0.0 0.0 0.0 0\n",
      "[finished] 3750 5.0 0.0 0.4 0.82 0.0 0.0 0.0 0\n",
      "[started] 4000 3.0 -0.5 0.4 1.46 0.0 0.0 0.0 0\n",
      "[finished] 3750 5.0 0.25 0.0 0.83 0.0 0.0 0.0 0\n",
      "[started] 4000 3.0 -0.25 0.0 1.47 0.0 0.0 0.0 0\n",
      "[finished] 3750 5.0 0.25 0.4 0.83 0.0 0.0 0.0 0\n",
      "[started] 4000 3.0 -0.25 0.4 1.47 0.0 0.0 0.0 0\n",
      "[finished] 3750 5.0 0.5 0.0 0.84 0.0 0.0 0.0 0\n",
      "[started] 4000 3.0 0.0 0.0 1.48 0.0 0.0 0.0 0\n",
      "[finished] 3750 5.0 0.5 0.4 0.84 0.0 0.0 0.0 0\n",
      "[started] 4000 3.0 0.0 0.4 1.48 0.0 0.0 0.0 0\n",
      "[finished] 4000 3.0 -1.0 0.0 1.44 0.0 0.0 0.0 0\n",
      "[started] 4000 3.0 0.25 0.0 1.49 0.0 0.0 0.0 0\n",
      "[finished] 4000 3.0 -1.0 0.4 1.44 0.0 0.0 0.0 0\n",
      "[started] 4000 3.0 0.25 0.4 1.49 0.0 0.0 0.0 0\n",
      "[finished] 4000 3.0 -0.75 0.0 1.45 0.0 0.0 0.0 0\n",
      "[started] 4000 3.0 0.5 0.0 1.51 0.0 0.0 0.0 0\n",
      "[finished] 4000 3.0 -0.5 0.0 1.46 0.0 0.0 0.0 0\n",
      "[finished] 4000 3.0 -0.75 0.4 1.45 0.0 0.0 0.0 0\n",
      "[started] 4000 3.0 0.5 0.4 1.51 0.0 0.0 0.0 0\n",
      "[started] 4000 3.5 -1.0 0.0 0.99 0.0 0.0 0.0 0\n",
      "[finished] 4000 3.0 -0.25 0.4 1.47 0.0 0.0 0.0 0\n",
      "[finished] 4000 [started]3.0  -0.54000  3.50.4  -1.01.46  0.40.0  0.99 0.00.0  0.00.0  0.00 0\n",
      "\n",
      "[started] 4000 3.5 -0.75 0.0 1.0 0.0 0.0 0.0 0\n",
      "[finished] 4000 3.0 -0.25 0.0 1.47 0.0 0.0 0.0 0\n",
      "[started] 4000 3.5 -0.75 0.4 1.0 0.0 0.0 0.0 0\n",
      "[finished] 4000 3.0 0.0 0.0 1.48 0.0 0.0 0.0 0\n",
      "[started] 4000 3.5 -0.5 0.0 1.01 0.0 0.0 0.0 0\n",
      "[finished] 4000 3.0 0.0 0.4 1.48 0.0 0.0 0.0 0\n",
      "[started] 4000 3.5 -0.5 0.4 1.01 0.0 0.0 0.0 0\n",
      "[finished] 4000 3.0 0.25 0.0 1.49 0.0 0.0 0.0 0\n",
      "[started] 4000 3.5 -0.25 0.0 1.02 0.0 0.0 0.0 0\n",
      "[finished] 4000 3.0 0.5 0.0 1.51 0.0 0.0 0.0 0\n",
      "[started] 4000 3.5 -0.25 0.4 1.02 0.0 0.0 0.0 0\n",
      "[finished] 4000 3.5 -1.0 0.0 0.99 0.0 0.0 0.0 0\n",
      "[started] 4000 3.5 0.0 0.0 1.03 0.0 0.0 0.0[finished]  40000\n",
      " 3.0 0.25 0.4 1.49 0.0 0.0 0.0 0\n",
      "[started] 4000 3.5 0.0 0.4 1.03 0.0 0.0 0.0 0\n",
      "[finished] 4000 3.0 0.5 0.4 1.51 0.0 0.0 0.0 0\n",
      "[started] 4000 3.5 0.25 0.0 1.04 0.0 0.0 0.0 0\n",
      "[finished] 4000 3.5 -1.0 0.4 0.99 0.0 0.0 0.0 0\n",
      "[started] 4000 3.5 0.25 0.4 1.04 0.0 0.0 0.0 0\n",
      "[finished] 4000 3.5 -0.75 0.4 1.0 0.0[finished]  0.04000 3.5  -0.50.0  0\n",
      "0.0 1.01 0.0 0.0 0.0 0\n",
      "[started] 4000 3.5 0.5 0.0 1.06 0.0 0.0 0.0 0\n",
      "[started] 4000 3.5 0.5 0.4 1.06 0.0 0.0 0.0 0\n",
      "[finished] 4000 3.5 -0.75 0.0 1.0 0.0 0.0 0.0 0\n",
      "[started] 4000 4.0 -1.0 0.0 0.92 0.0 0.0 0.0 0\n",
      "[finished] 4000 3.5 -0.5 0.4 1.01 0.0 0.0 0.0 0\n",
      "[started] 4000 4.0 -1.0 0.4 0.92 0.0 0.0 0.0 0\n",
      "[finished] 4000 3.5 -0.25 0.0 1.02 0.0 0.0 0.0 0\n",
      "[started] 4000 4.0 -0.75 0.0 0.93 0.0 0.0 0.0 0\n",
      "[finished] 4000 3.5 -0.25 0.4 1.02 0.0 0.0 0.0 0\n",
      "[started] 4000 4.0 -0.75 0.4 0.93 0.0 0.0 0.0 0\n",
      "[finished] 4000 3.5 0.0 0.0 1.03 0.0 0.0 0.0 0\n",
      "[started] 4000 4.0 -0.5 0.0 0.94 0.0 0.0 0.0 0\n",
      "[finished] 4000 3.5 0.0 0.4 1.03 0.0 0.0 0.0 0\n",
      "[finished] 4000 3.5 0.25 0.0 1.04 0.0 0.0 0.0 [started]0 \n",
      "4000 4.0 -0.5 0.4 0.94 0.0 0.0 0.0 0\n",
      "[started] 4000 4.0 -0.25 0.0 0.95 0.0 0.0 0.0 0\n",
      "[finished] 4000 3.5 0.25 0.4 1.04 0.0 0.0 0.0 0\n",
      "[started] 4000 4.0 -0.25 0.4 0.95 0.0 0.0 0.0 0\n"
     ]
    },
    {
     "name": "stdout",
     "output_type": "stream",
     "text": [
      "[finished] 4000 4.0 -1.0 0.0 0.92 0.0 0.0 0.0 0\n",
      "[started] 4000 4.0 0.0 0.0 0.96 0.0 0.0 0.0 0\n",
      "[finished] 4000 3.5 0.5 0.4 1.06 0.0 0.0 0.0 0\n",
      "[started] 4000 4.0 0.0 0.4 0.96 0.0 0.0 0.0 0\n",
      "[finished] 4000 3.5 0.5 0.0 1.06 0.0 0.0 0.0 0\n",
      "[started] 4000 4.0 0.25 0.0 0.98 0.0 0.0 0.0 0\n",
      "[finished] 4000 4.0 -1.0 0.4 0.92 0.0 0.0 0.0 0\n",
      "[started] 4000 4.0 0.25 0.4 0.98 0.0 0.0 0.0 0\n",
      "[finished] 4000 4.0 -0.75 0.0 0.93 0.0 0.0 0.0 0\n",
      "[started] 4000 4.0 0.5 0.0 0.99 0.0 0.0 0.0 0\n",
      "[finished] 4000 4.0 -0.5 0.0 0.94 0.0 0.0 0.0 0\n",
      "[started] 4000 4.0 0.5 0.4 0.99 0.0 0.0 0.0 0\n",
      "[finished] 4000 4.0 -0.75 0.4 0.93 0.0 0.0 0.0 0\n",
      "[started] 4000 4.5 -1.0 0.0 0.85 0.0 0.0 0.0 0\n",
      "[finished] 4000 4.0 -0.5 0.4 0.94 0.0 0.0 0.0 0\n",
      "[started] 4000 4.5 -1.0 0.4 0.85 0.0 0.0 0.0 0\n",
      "[finished] 4000 4.0 -0.25 0.0 0.95 0.0 0.0 0.0 0\n",
      "[started] 4000 4.5 -0.75 0.0 0.86 0.0 0.0 0.0 0\n",
      "[finished] 4000 4.0 -0.25 0.4 0.95 0.0 0.0 0.0 0\n",
      "[started] 4000 4.5 -0.75 0.4 0.86 0.0 0.0 0.0 0\n",
      "[finished] 4000 4.0 0.0 0.0 0.96 0.0 0.0 0.0 0\n",
      "[started] 4000 4.5 -0.5 0.0 0.87 0.0 0.0 0.0 0\n",
      "[finished] 4000 4.0 0.0 0.4 0.96 0.0 0.0 0.0 0\n",
      "[started] 4000 4.5 -0.5 0.4 0.87 0.0 0.0 0.0 0\n",
      "[finished] 4000 4.0 0.25 0.0 0.98 0.0 0.0 0.0 0\n",
      "[started] 4000 4.5 -0.25 0.0 0.88 0.0 0.0 0.0 0\n",
      "[finished] 4000 4.0 0.25 0.4 0.98 0.0 0.0 0.0 0\n",
      "[started] 4000 4.5 -0.25 0.4 0.88 0.0 0.0 0.0 0\n",
      "[finished] 4000 4.0 0.5 0.0 0.99 0.0 0.0 0.0 0\n",
      "[started] 4000 4.5 0.0 0.0 0.89 0.0 0.0 0.0 0\n",
      "[finished] 4000 4.0 0.5 0.4 0.99 0.0 0.0 0.0 0\n",
      "[started] 4000 4.5 0.0 0.4 0.89 0.0 0.0 0.0 0\n",
      "[finished] 4000 4.5 -1.0 0.0 0.85 0.0 0.0 0.0 0\n",
      "[started] 4000 4.5 0.25 0.0 0.9 0.0 0.0 0.0 0\n",
      "[finished] 4000 4.5 -0.75 0.0 0.86 0.0 0.0 0.0 0\n",
      "[started] 4000 4.5 0.25 0.4 0.9 [finished] 0.04000  4.50.0  0.0-1.0 0.4  0\n",
      "0.85 0.0 0.0 0.0 0\n",
      "[started] 4000 4.5 0.5 0.0 0.92 0.0 0.0 0.0 0\n",
      "[finished] 4000 4.5 -0.75 0.4 0.86 0.0 0.0 0.0 0\n",
      "[started] 4000 4.5 0.5 0.4 0.92 0.0 0.0 0.0 0\n",
      "[finished] 4000 4.5 -0.5 0.0 0.87 0.0 0.0 0.0 0\n",
      "[started] 4000 5.0 -1.0 0.0 0.78 0.0 0.0 0.0 0\n",
      "[finished] 4000 4.5 -0.5 0.4 0.87 0.0 0.0 0.0 0\n",
      "[started] 4000 5.0 -1.0 0.4 0.78 0.0 0.0 0.0 0\n",
      "[finished] 4000 4.5 -0.25 0.0 0.88 0.0 0.0 0.0 0\n",
      "[started] 4000 5.0 -0.75 0.0 0.79 0.0 0.0 0.0 0\n",
      "[finished] 4000 4.5 -0.25 0.4 0.88 0.0 0.0 0.0 0\n",
      "[started] 4000 5.0 -0.75 0.4 0.79 0.0 0.0 0.0 0\n",
      "[finished] 4000 4.5 0.0 0.0 0.89 0.0 0.0 0.0 0\n",
      "[started] 4000 5.0 -0.5 0.0 0.79 0.0 0.0 0.0 0\n",
      "[finished] 4000 4.5 0.25 0.0 0.9 0.0 0.0 0.0 0\n",
      "[started] 4000 5.0 -0.5 0.4 0.79 0.0 0.0 0.0 0\n",
      "[finished] 4000 4.5 0.0 0.4 0.89 0.0 0.0 0.0 0\n",
      "[started] 4000 5.0 -0.25 0.0 0.81 0.0 0.0 0.0 0\n",
      "[finished] 4000 4.5 0.5 0.0 0.92 0.0 0.0 0.0 0\n",
      "[started] 4000 5.0 -0.25 0.4 0.81 0.0 0.0 0.0 0\n",
      "[finished] 4000 4.5 0.25 0.4 0.9 0.0 0.0 0.0 0\n",
      "[started] 4000 5.0 0.0 0.0 0.82 0.0 0.0 0.0 0\n",
      "[finished] 4000 5.0 -1.0 0.4 0.78 0.0 0.0 0.0 0\n",
      "[started] 4000 5.0 0.0 0.4 0.82 0.0 0.0 0.0 [finished]0 \n",
      "4000 5.0 -1.0 0.0 0.78 0.0 0.0 0.0 0\n",
      "[started] 4000 5.0 0.25 0.0 0.83 0.0 0.0 0.0 0\n",
      "[finished] 4000 4.5 0.5 0.4 0.92 0.0 0.0 0.0 0\n",
      "[started] 4000 5.0 0.25 0.4 0.83 0.0 0.0 0.0 0\n",
      "[finished] 4000 5.0 -0.75 0.0 0.79 0.0 0.0 0.0 0\n",
      "[started] 4000 5.0 0.5 0.0 0.84 0.0 0.0 0.0 0\n",
      "[finished] 4000 5.0 -0.75 0.4 0.79 0.0 0.0 0.0 0\n",
      "[started] 4000 5.0 0.5 0.4 0.84 0.0 0.0 0.0 0\n",
      "[finished] 4000 5.0 -0.5 0.0 0.79 0.0 0.0 0.0 0\n",
      "[started] 4250 3.0 -1.0 0.0 1.33 0.0 0.0 0.0 0\n",
      "[finished] 4000 5.0 -0.5 0.4 0.79 0.0 0.0 0.0 0\n",
      "[started] 4250 3.0 -1.0 0.4 1.33 0.0 0.0 0.0 0\n",
      "[finished] 4000 5.0 -0.25 0.0 0.81 0.0 0.0 0.0 0\n",
      "[started] 4250 3.0 -0.75 0.0 1.34 0.0 0.0 0.0 0\n",
      "[finished] 4000 5.0 -0.25 0.4 0.81 0.0 0.0 0.0 0\n",
      "[started] 4250 3.0 -0.75 0.4 1.34 0.0 0.0 0.0 0\n",
      "[finished] 4000 5.0 0.0 0.0 0.82 0.0 0.0 0.0 0\n",
      "[started] 4250 3.0 -0.5 0.0 1.35 0.0 0.0 0.0 0\n",
      "[finished] 4000 5.0 0.0 0.4 0.82 0.0 0.0 0.0 0\n",
      "[started] 4250 3.0 -0.5 0.4 1.35 0.0 0.0 0.0 0\n",
      "[finished] 4000 5.0 0.25 0.4 0.83 0.0 0.0 0.0 0\n",
      "[started] 4250 3.0 -0.25 0.0 1.36 0.0 0.0 0.0 0\n",
      "[finished] 4000 5.0 0.25 0.0 0.83 0.0 0.0 0.0 0\n",
      "[started] 4250 3.0 -0.25 0.4 1.36 0.0 0.0 0.0 0\n",
      "[finished] 4000 5.0 0.5 0.0 0.84 0.0 0.0 0.0 0\n",
      "[started] 4250 3.0 0.0 0.0 1.37 0.0 0.0 0.0 0\n",
      "[finished] 4000 5.0 0.5 0.4 0.84 0.0 0.0 0.0 0\n",
      "[started] 4250 3.0 0.0 0.4 1.37 0.0 0.0 0.0 0\n",
      "[finished] 4250 3.0 -1.0 0.0 1.33 0.0 0.0 0.0 0\n",
      "[started] 4250 3.0 0.25 0.0 1.38 0.0 0.0 0.0 0\n",
      "[finished] 4250 3.0 -1.0 0.4 1.33 0.0 0.0 0.0 0\n",
      "[started] 4250 3.0 0.25 0.4 1.38 0.0 0.0 0.0 0\n",
      "[finished] 4250 3.0 -0.75 0.4 1.34 0.0 0.0 0.0 0\n",
      "[started] 4250 3.0 0.5 0.0 1.4 0.0 0.0 0.0 0\n",
      "[finished] 4250 3.0 -0.75 0.0 1.34 0.0 0.0 0.0 0\n",
      "[started] 4250 3.0 0.5 0.4 1.4 0.0 0.0 0.0 0\n",
      "[finished] 4250 3.0 -0.5 0.0 1.35 0.0 0.0 0.0 0\n",
      "[started] 4250 3.5 -1.0 0.0 0.99 0.0 0.0 0.0 0\n",
      "[finished] 4250 3.0 -0.25 0.0 1.36 0.0 0.0 0.0 0\n",
      "[started] 4250 3.5 -1.0 0.4 0.99 0.0 0.0 0.0 0\n",
      "[finished] 4250 3.0 -0.5 0.4 1.35 0.0 0.0 0.0 0\n",
      "[started] 4250 3.5 -0.75 0.0 1.0 0.0 0.0 0.0 0\n",
      "[finished] 4250 3.0 -0.25 0.4 1.36 0.0 0.0 0.0 0\n",
      "[started] 4250 3.5 -0.75 0.4 1.0 0.0 0.0 0.0 0\n",
      "[finished] 4250 3.0 0.0 0.0 1.37 0.0 0.0 0.0 0\n",
      "[started] 4250 3.5 -0.5 0.0 1.01 0.0 0.0 0.0 0\n",
      "[finished] 4250 3.0 0.0 0.4 1.37 0.0 0.0 0.0 0\n",
      "[started] 4250 3.5 -0.5 0.4 1.01 0.0 0.0 0.0 0\n",
      "[finished] 4250 3.0 0.25 0.0 1.38 0.0 0.0 0.0 0\n",
      "[started] 4250 3.5 -0.25 0.0 1.02 0.0 0.0 0.0 0\n",
      "[finished] 4250 3.0 0.25 0.4 1.38 0.0 0.0 0.0 0\n",
      "[started] 4250 3.5 -0.25 0.4 1.02 0.0 0.0 0.0 0\n",
      "[finished] 4250 3.0 0.5 0.0 1.4 0.0 0.0 0.0 0\n",
      "[started] 4250 3.5 0.0 0.0 1.03 0.0 0.0 0.0 0\n",
      "[finished] 4250 3.0 0.5 0.4 1.4 0.0 0.0 0.0 0\n",
      "[started] 4250 3.5 0.0 0.4 1.03 0.0 0.0 0.0 0\n",
      "[finished] 4250 3.5 -1.0 0.0 0.99 0.0 0.0 0.0 0\n",
      "[started] 4250 3.5 0.25 0.0 1.04 0.0 0.0 0.0 0\n",
      "[finished] 4250 3.5 -0.75 0.0 1.0 0.0 0.0 0.0 0\n",
      "[started] 4250 3.5 0.25 0.4 1.04 0.0 0.0 0.0 0\n",
      "[finished] 4250 3.5 -0.75 0.4 1.0 0.0 0.0 0.0 0\n",
      "[started] 4250 3.5 0.5 0.0 1.06 0.0 0.0 0.0 0\n",
      "[finished] 4250 3.5 -0.5 0.0 1.01 0.0 0.0 0.0 0\n",
      "[started] 4250 3.5 0.5 0.4 1.06 0.0 0.0 0.0 0\n",
      "[finished] 4250 3.5 -1.0 0.4 0.99 0.0 0.0 0.0 0\n",
      "[started] 4250 4.0 -1.0 0.0 0.92 0.0 0.0 0.0 0\n",
      "[finished] 4250 3.5 -0.5 0.4 1.01 0.0 0.0 0.0 0\n",
      "[started] 4250 4.0 -1.0 0.4 0.92 0.0 0.0 0.0 0\n",
      "[finished] 4250 3.5 -0.25 0.0 1.02 0.0 0.0 0.0 0\n",
      "[started] 4250 4.0 -0.75 0.0 0.93 0.0 0.0 0.0 0\n",
      "[finished] 4250 3.5 -0.25 0.4 1.02 0.0 0.0 0.0 0\n",
      "[started] 4250 4.0 -0.75 0.4 0.93 0.0 0.0 0.0 0\n",
      "[finished] 4250 3.5 0.0 0.4 1.03[finished]  0.0 0.0 0.0 0\n",
      "4250 3.5 0.0 0.0 1.03 0.0 0.0 0.0 0\n",
      "[started] 4250 4.0 -0.5 0.0 0.00.94 0.0 0.0  0\n",
      "[started] 4250 4.0 -0.5 0.4 0.94 0.0 0.0 0.0 0\n",
      "[finished] 4250 3.5 0.25 0.0 1.04 0.0 0.0 0.0 0\n",
      "[started] 4250 4.0 -0.25 0.0 0.95 0.0 0.0 0.0 0\n",
      "[finished] 4250 3.5 0.5 0.0 1.06 0.0 0.0 0.0 0\n",
      "[started] 4250 4.0 -0.25 0.4 0.95 0.0 0.0 0.0 0\n",
      "[finished] 4250 4.0 -1.0 0.0 0.92 0.0 0.0 0.0 0\n",
      "[started] 4250 4.0 0.0 0.0 0.96 0.0 0.0 0.0 0\n",
      "[finished] 4250 3.5 0.25 0.4 1.04 0.0 0.0 0.0 0\n",
      "[started] 4250 4.0 0.0 0.4 0.96 0.0 0.0 0.0 0\n",
      "[finished] 4250 3.5 0.5 0.4 1.06 0.0 0.0 0.0 0\n",
      "[started] 4250 4.0 0.25 0.0 0.98 0.0 0.0 0.0 0\n",
      "[finished] 4250 4.0 -1.0 0.4 0.92 0.0 0.0 0.0 0\n",
      "[started] 4250 4.0 0.25 0.4 0.98 0.0 0.0 0.0 0\n",
      "[finished] 4250 4.0 -0.75 0.0 0.93 0.0 0.0 0.0 0\n",
      "[started] 4250 4.0 0.5 0.0 0.99 0.0 0.0 0.0 0\n",
      "[finished] 4250 4.0 -0.75 0.4 0.93 0.0 0.0 0.0 0\n",
      "[started] 4250 4.0 0.5 0.4 0.99 0.0 0.0 0.0 0\n",
      "[finished] 4250 4.0 -0.5 0.0 0.94 0.0 0.0 0.0 0\n",
      "[started] 4250 4.5 -1.0 0.0 0.85 0.0 0.0 0.0 0\n",
      "[finished] 4250 4.0 -0.5 0.4 0.94 0.0 0.0 0.0 0\n",
      "[started] 4250 4.5 -1.0 0.4 0.85 0.0 0.0 0.0 0\n",
      "[finished] 4250 4.0 -0.25 0.0 0.95 0.0 0.0 0.0 0\n",
      "[started] 4250 4.5 -0.75 0.0 0.86 0.0 0.0 0.0 0\n",
      "[finished] 4250 4.0 0.0 0.0 0.96 0.0 0.0 0.0 0\n",
      "[started] 4250 4.5 -0.75 0.4 0.86 0.0 0.0 0.0 0\n",
      "[finished] 4250 4.0 0.0 0.4 0.96 0.0 0.0 0.0 0\n",
      "[started] 4250 4.5 -0.5 0.0 0.87 0.0 0.0 0.0 0\n",
      "[finished] 4250 4.0 -0.25 0.4 0.95 0.0 0.0 0.0 0\n",
      "[started] 4250 4.5 -0.5 0.4 0.87 0.0 0.0 0.0 0\n",
      "[finished] 4250 4.0 0.25 0.0 0.98 0.0 0.0 0.0 0\n",
      "[started] 4250 4.5 -0.25 0.0 0.88 0.0 0.0 0.0 0\n",
      "[finished] 4250 4.0 0.25 0.4 0.98 0.0 0.0 0.0 0\n",
      "[started] 4250 4.5 -0.25 0.4 0.88 0.0 0.0 0.0 0\n",
      "[finished] 4250 4.0 0.5 0.0 0.99 0.0 0.0 0.0 0\n",
      "[started] 4250 4.5 0.0 0.0 0.89 0.0 0.0 0.0 0\n",
      "[finished] 4250 4.0 0.5 0.4 0.99 0.0 0.0 0.0 0\n",
      "[started] 4250 4.5 0.0 0.4 0.89 0.0 0.0 0.0 0\n"
     ]
    },
    {
     "name": "stdout",
     "output_type": "stream",
     "text": [
      "[finished] 4250 4.5 -1.0 0.0 0.85 0.0 0.0 0.0 0\n",
      "[started] 4250 4.5 0.25 0.0 0.9 0.0 0.0 0.0 0\n",
      "[finished] 4250 4.5 -1.0 0.4 0.85 0.0 0.0 0.0 0\n",
      "[started] 4250 4.5 0.25 0.4 0.9 0.0 0.0 0.0 0\n",
      "[finished] 4250 4.5 -0.75 0.0 0.86 0.0[finished]  42500.0 0.0  04.5\n",
      " -0.75 0.4 0.86 0.0 0.0 0.0 0\n",
      "[started] 4250 4.5 0.5 0.0 0.92 0.0 0.0 [started] 0.04250  4.50 \n",
      "0.5 0.4 0.92 0.0 0.0 0.0 0\n",
      "[finished] 4250 4.5 -0.5 0.0 0.87 0.0 0.0 0.0 0\n",
      "[started] 4250 5.0 -1.0 0.0 0.78 0.0 0.0 0.0 0\n",
      "[finished] 4250 4.5 -0.5 0.4 0.87 0.0 0.0 0.0 0\n",
      "[started] 4250 5.0 -1.0 0.4 0.78 0.0 0.0 0.0 0\n",
      "[finished] 4250 4.5 -0.25 0.0 0.88 0.0 0.0 0.0 0\n",
      "[started] 4250 5.0 -0.75 0.0 0.79 0.0 0.0 0.0 0\n",
      "[finished] 4250 4.5 -0.25 0.4 0.88 0.0 0.0 0.0 0\n",
      "[started] 4250 5.0 -0.75 0.4 0.79 0.0 0.0 0.0 0\n",
      "[finished] 4250 4.5 0.0 0.0 0.89 0.0 0.0 0.0 0\n",
      "[started] 4250 5.0 -0.5 0.0 0.79 0.0 0.0 0.0 0\n",
      "[finished] 4250 4.5 0.0 0.4 0.89 0.0 0.0 0.0 0\n",
      "[started] 4250 5.0 -0.5 0.4 0.79 0.0 0.0 0.0 0\n",
      "[finished] 4250 4.5 0.25 0.4 0.9 0.0 0.0 0.0 0\n",
      "[started] 4250 5.0 -0.25 0.0 0.81 0.0 0.0 0.0 0\n",
      "[finished] 4250 4.5 0.25 0.0 0.9 0.0 0.0 0.0 0\n",
      "[started] 4250 5.0 -0.25 0.4 0.81 0.0 0.0 0.0 0\n",
      "[finished] 4250 4.5 0.5 0.0 0.92 0.0 [finished] 0.04250  4.5 0.5 0.4 0.92 0.0 0.0 0.0 0.00\n",
      " 0\n",
      "[started] 4250 5.0 0.0 0.0 0.82 0.0 0.0 0.0 0\n",
      "[started] 4250 5.0 0.0 0.4 0.82 0.0 0.0 0.0 0\n",
      "[finished] 4250 5.0 -1.0 0.4 0.78 0.0 0.0 0.0 0\n",
      "[started] 4250 5.0 0.25 0.0 0.83 0.0 0.0 0.0 0\n",
      "[finished] 4250 5.0 -1.0 0.0 0.78 0.0 0.0 0.0 0\n",
      "[started] 4250 5.0 0.25 0.4 0.83 0.0 0.0 0.0 0\n",
      "[finished] 4250 5.0 -0.75 0.0 0.79 0.0 0.0 0.0 0\n",
      "[started] 4250 5.0 0.5 0.0 0.84 0.0 0.0 0.0 0\n",
      "[finished] 4250 5.0 -0.75 0.4 0.79 0.0 0.0 0.0 0\n",
      "[started] 4250 5.0 0.5 0.4 0.84 0.0 0.0 0.0 0\n",
      "[finished] 4250 5.0 -0.5 0.0 0.79 0.0 0.0 0.0 0\n",
      "[started] 4500 3.0 -1.0 0.0 1.25 0.0 0.0 0.0 0\n",
      "[finished] 4250 5.0 -0.5 0.4 0.79 0.0 0.0 0.0 0\n",
      "[started] 4500 3.0 -1.0 0.4 1.25 0.0 0.0 0.0 0\n",
      "[finished] 4250 5.0 -0.25 0.4 0.81 0.0 0.0 0.0 0\n",
      "[started] 4500 3.0 -0.75 0.0 1.26 0.0 0.0 0.0 0\n",
      "[finished] 4250 5.0 -0.25 0.0 0.81 0.0 0.0 0.0 0\n",
      "[started] 4500 3.0 -0.75 0.4 1.26 0.0 0.0 0.0 0\n",
      "[finished] 4250 5.0 0.0 0.4 0.82 0.0 0.0 0.0 0\n",
      "[started] 4500 3.0 -0.5 0.0 1.27 0.0 0.0 0.0 0\n",
      "[finished] 4250 5.0 0.25 0.0 0.83 0.0 0.0 0.0 0\n",
      "[started] 4500 3.0 -0.5 0.4 1.27 0.0 0.0 0.0 0\n",
      "[finished] 4250 5.0 0.0 0.0 0.82 0.0 0.0 0.0 0\n",
      "[started] 4500 3.0 -0.25 0.0 1.28 0.0 0.0 0.0 0\n",
      "[finished] 4250 5.0 0.25 0.4 0.83 0.0 0.0 [finished]0.0  0\n",
      "4250 5.0 0.5 0.0 0.84 0.0 0.0 0.0 0\n",
      "[started] 4500 3.0 -0.25 0.4 1.28 0.0 0.0 0.0 0\n",
      "[started] 4500 3.0 0.0 0.0 1.29 0.0 0.0 0.0 0\n",
      "[finished] 4250 5.0 0.5 0.4 0.84 0.0 0.0 0.0 0\n",
      "[started] 4500 3.0 0.0 0.4 1.29 0.0 0.0 0.0 0\n",
      "[finished] 4500 3.0 -1.0 0.0 1.25 0.0 0.0 0.0 0\n",
      "[started] 4500 3.0 0.25 0.0 1.31 0.0 0.0 0.0 0\n",
      "[finished] 4500 3.0 -1.0 0.4 1.25 0.0 0.0 0.0[finished]  45000\n",
      " 3.0 -0.75 0.4 1.26 0.0 0.0 0.0 0\n",
      "[started] 4500 3.0 0.25 0.4 1.31 0.0 0.0 0.0 0\n",
      "[started] 4500 3.0 0.5 0.0 1.32 0.0 0.0 0.0 0\n",
      "[finished] 4500 3.0 -0.75 0.0 1.26 0.0 0.0 0.0 0\n",
      "[started] 4500 3.0 0.5 0.4 1.32 0.0 0.0 0.0 0\n",
      "[finished] 4500 3.0 -0.5 0.0 1.27 0.0 0.0 0.0 0\n",
      "[started] 4500 3.5 -1.0 0.0 0.99 0.0 0.0 0.0 0\n",
      "[finished] 4500 3.0 -0.25 0.0 1.28 0.0 0.0 0.0 0\n",
      "[started] 4500 3.5 -1.0 0.4 0.99 0.0 0.0 0.0 0\n",
      "[finished] 4500 3.0 -0.5 0.4 1.27 0.0 0.0 0.0 0\n",
      "[started] 4500 3.5 -0.75 0.0 1.0 0.0 0.0 0.0 0\n",
      "[finished] 4500 3.0 0.0 0.0 1.29 0.0 0.0 0.0 0\n",
      "[started] 4500 3.5 -0.75 0.4 1.0 0.0 0.0 0.0 0\n",
      "[finished] 4500 3.0 -0.25 0.4 1.28 0.0 0.0 0.0 0\n",
      "[started] 4500 3.5 -0.5 0.0 1.01 0.0 0.0 0.0 0\n",
      "[finished] 4500 3.0 0.0 0.4 1.29 0.0 0.0 0.0 0\n",
      "[started] 4500 3.5 -0.5 0.4 1.01 0.0 0.0 0.0 0\n",
      "[finished] 4500 3.0 0.25 0.0 1.31 0.0 0.0 0.0 0\n",
      "[started] 4500 3.5 -0.25 0.0 1.02 0.0 0.0 0.0 0\n",
      "[finished] 4500 3.0 0.5 0.0 1.32 0.0 0.0 0.0 0\n",
      "[started] 4500 3.5 -0.25 0.4 1.02 0.0 0.0 0.0 0\n",
      "[finished] 4500 3.0 0.25 0.4 1.31 0.0 0.0 0.0 0\n",
      "[started] 4500 3.5 0.0 0.0 1.03 0.0 0.0 0.0 0\n",
      "[finished] 4500 3.0 0.5 0.4 1.32 0.0 0.0 0.0 0\n",
      "[started] 4500 3.5 0.0 0.4 1.03 0.0 0.0 0.0 0\n",
      "[finished] 4500 3.5 -1.0 0.0 0.99 0.0 0.0 0.0 0\n",
      "[started] 4500 3.5 0.25 0.0 1.04 0.0 0.0 0.0 0\n",
      "[finished] 4500 3.5 -0.75 0.0 1.0 0.0 0.0 0.0 0\n",
      "[started] 4500 3.5 0.25 0.4 1.04 0.0 0.0 0.0 0\n",
      "[finished] 4500 3.5 -1.0 0.4 0.99 0.0 0.0 0.0 0\n",
      "[started] 4500 3.5 0.5 0.0 1.06 0.0 0.0 0.0 0\n",
      "[finished] 4500 3.5 -0.75 0.4 1.0 0.0 0.0 0.0 0\n",
      "[started] 4500 3.5 0.5 0.4 1.06 0.0 0.0 0.0 0\n",
      "[finished] 4500 3.5 -0.5 0.0 1.01 0.0 0.0 0.0 0\n",
      "[started] 4500 4.0 -1.0 0.0 0.92 0.0 0.0 0.0 0\n",
      "[finished] 4500 3.5 -0.5 0.4 1.01 0.0 0.0 0.0 0\n",
      "[started] 4500 4.0 -1.0 0.4 0.92 0.0 0.0 0.0 0\n",
      "[finished] 4500 3.5 -0.25 0.0 1.02 0.0 0.0 0.0 0\n",
      "[started] 4500 4.0 -0.75 0.0 0.93 0.0 0.0 0.0 0\n",
      "[finished] 4500 3.5 -0.25 0.4 1.02 0.0 0.0 0.0 0\n",
      "[started] 4500 4.0 -0.75 0.4 0.93 0.0 0.0 0.0 0\n",
      "[finished] 4500 3.5 0.0 0.0 1.03 0.0 0.0 0.0 0\n",
      "[finished] 4500 3.5 0.0 0.4 1.03 0.0 0.0 0.0[started]  45000 4.0\n",
      " -0.5 0.0 0.94 0.0 0.0 0.0 0\n",
      "[started] 4500 4.0 -0.5 0.4 0.94 0.0 0.0 0.0 0\n",
      "[finished] 4500 3.5 0.25 0.0 1.04 0.0 0.0 0.0 0\n",
      "[started] 4500 4.0 -0.25 0.0 0.95 0.0 0.0 0.0 0\n",
      "[finished] 4500 3.5 0.25 0.4 1.04 0.0 0.0 0.0 0\n",
      "[started] 4500 4.0 -0.25 0.4 0.95 0.0 0.0 0.0 0\n",
      "[finished] 4500 3.5 0.5 0.0 1.06 0.0 0.0 0.0 0\n",
      "[started] 4500 4.0 0.0 0.0 0.96 0.0 0.0 0.0 0\n",
      "[finished] 4500[finished]  3.5 0.5 0.4 1.06 0.0 45000.0  4.00.0  -1.00\n",
      " 0.0 0.92 0.0 0.0 0.0 0\n",
      "[started] 4500 4.0  0.0 0.4 0.96 0.0 0.00.0 0[started]\n",
      " 4500 4.0 0.25 0.0 0.98 0.0 0.0 0.0 0\n",
      "[finished] 4500 4.0 -1.0 0.4 0.92 0.0 0.0 0.0 0\n",
      "[started] 4500 4.0 0.25 0.4 0.98 0.0 0.0 0.0 0\n",
      "[finished] 4500 4.0 -0.75 0.0 0.93 0.0 0.0 0.0 0\n",
      "[started] 4500 4.0 0.5 0.0 0.99 0.0 0.0 0.0 0\n",
      "[finished] 4500 4.0 -0.75 0.4 0.93 0.0 0.0 0.0 0\n",
      "[started] 4500 4.0 0.5 0.4 0.99 0.0 0.0 0.0 0\n",
      "[finished] 4500 4.0 -0.5 0.0 0.94 0.0 0.0 0.0 0\n",
      "[started] 4500 4.5 -1.0 0.0 0.85 0.0 0.0 0.0 0\n",
      "[finished] 4500 4.0 -0.25 0.0 0.95 0.0 0.0 0.0 0\n",
      "[started] 4500 4.5 -1.0 0.4 0.85 0.0 0.0 0.0 0\n",
      "[finished] 4500 4.0 -0.5 0.4 0.94 0.0 0.0 0.0 0\n",
      "[started] 4500 4.5 -0.75 0.0 0.86 0.0 0.0 0.0 0\n",
      "[finished] 4500 4.0 -0.25 0.4 0.95 0.0 0.0 0.0 0\n",
      "[started] 4500 4.5 -0.75 0.4 0.86 0.0 0.0 0.0 0\n",
      "[finished] 4500 4.0 0.0 0.0 0.96 0.0 0.0 0.0 0\n",
      "[started] 4500 4.5 -0.5 0.0 0.87 0.0 0.0 0.0 0\n",
      "[finished] 4500 4.0 0.25 0.0 0.98 0.0 0.0 0.0 0\n",
      "[started] 4500 4.5 -0.5 0.4 0.87 0.0 0.0 0.0 0\n",
      "[finished] 4500 4.0 0.0 0.4 0.96 0.0 0.0 0.0 0\n",
      "[started] 4500 4.5 -0.25 0.0 0.88 0.0 0.0 0.0 0\n",
      "[finished] 4500 4.0 0.25 0.4 0.98 0.0 0.0 0.0 0\n",
      "[started] 4500 4.5 -0.25 0.4 0.88 0.0 0.0 0.0 0\n",
      "[finished] 4500 4.0 0.5 0.0 0.99 0.0 0.0 0.0 0\n",
      "[started] 4500 4.5 0.0 0.0 0.89 0.0 0.0 0.0 0\n",
      "[finished] 4500 4.0 0.5 0.4 0.99 0.0 0.0 0.0 0\n",
      "[started] 4500 4.5 0.0 0.4 0.89 0.0 0.0 0.0 0\n",
      "[finished] 4500 4.5 -1.0 0.0 0.85 0.0 0.0 0.0 0\n",
      "[started] 4500 4.5 0.25 0.0 0.9 0.0 0.0 0.0 0\n",
      "[finished] 4500 4.5 -1.0 0.4 0.85 0.0 0.0 0.0 0\n",
      "[started] 4500 4.5 0.25 0.4 0.9 0.0 0.0 0.0 0\n",
      "[finished] 4500 4.5 -0.75 0.4 0.86 0.0 0.0 0.0 0\n",
      "[started] 4500 4.5 0.5 0.0 0.92 0.0 0.0 0.0 0\n",
      "[finished] 4500 4.5 -0.75 0.0 0.86 0.0 0.0 0.0 0\n",
      "[started] 4500 4.5 0.5 0.4 0.92 0.0 0.0 0.0 0\n",
      "[finished] 4500 4.5 -0.5 0.0 0.87 0.0 0.0 0.0 0\n",
      "[started] 4500 5.0 -1.0 0.0 0.78 0.0 0.0 0.0 0\n",
      "[finished] 4500 4.5 -0.5 0.4 0.87 0.0 0.0 0.0 0\n",
      "[started] 4500 5.0 -1.0 0.4 0.78 0.0 0.0 0.0 0\n",
      "[finished] 4500 4.5 -0.25 0.0 0.88 0.0 0.0 0.0 0\n",
      "[started] 4500 5.0 -0.75 0.0 0.79 0.0 0.0 0.0 0\n",
      "[finished] 4500 4.5 -0.25 0.4 0.88 0.0 0.0 0.0 0\n",
      "[started] 4500 5.0 -0.75 0.4 0.79 0.0 0.0 0.0 0\n",
      "[finished] 4500 4.5 0.0 0.0 0.89 0.0 0.0 0.0 0\n",
      "[started] 4500 5.0 -0.5 0.0 0.79 0.0 0.0 0.0 0\n",
      "[finished] 4500 4.5 0.0 0.4 0.89 0.0 0.0 0.0 0\n",
      "[started] 4500 5.0 -0.5 0.4 0.79 0.0 0.0 0.0 0\n",
      "[finished] 4500 4.5 0.25 0.4 0.9 0.0 0.0 0.0 0\n",
      "[started] 4500 5.0 -0.25 0.0 0.81 0.0 0.0 0.0 0\n",
      "[finished] 4500 4.5 0.25 0.0 0.9 0.0 0.0 0.0 0\n",
      "[started] 4500 5.0 -0.25 0.4 0.81 0.0 0.0 0.0 0\n",
      "[finished] 4500 4.5 0.5 0.0 0.92 0.0 0.0 0.0 0\n",
      "[started] 4500 5.0 0.0 0.0 0.82 0.0 0.0 0.0 0\n",
      "[finished] 4500 5.0 -1.0 0.4 0.78 0.0 0.0 0.0 0\n",
      "[started] 4500 5.0 0.0 0.4 0.82 0.0 0.0 0.0 0\n",
      "[finished] 4500 5.0 -1.0 0.0 0.78 0.0 0.0 0.0 0\n",
      "[started] 4500 5.0 0.25 0.0 0.83 0.0 0.0 0.0 0\n",
      "[finished] 4500 5.0 -0.75 0.0 0.79 0.0 0.0 0.0 0\n",
      "[started] 4500 5.0 0.25 0.4 0.83 0.0 0.0 0.0 0\n"
     ]
    },
    {
     "name": "stdout",
     "output_type": "stream",
     "text": [
      "[finished] 4500 4.5 0.5 0.4 0.92 0.0 0.0 0.0 0\n",
      "[started] 4500 5.0 0.5 0.0 0.84 0.0 0.0 0.0 0\n",
      "[finished] 4500 5.0 -0.75 0.4 0.79 0.0 0.0 0.0 0\n",
      "[started] 4500 5.0 0.5 0.4 0.84 0.0 0.0 0.0 0\n",
      "[finished] 4500 5.0 -0.5 0.0 0.79 0.0 0.0 0.0 0\n",
      "[started] 4750 3.0 -1.0 0.0 1.22 0.0 0.0 0.0 0\n",
      "[finished] 4500 5.0 -0.25 0.0 0.81 0.0 0.0 0.0 0\n",
      "[started] 4750 3.0 -1.0 0.4 1.22 0.0 0.0 0.0 0\n",
      "[finished] 4500 5.0 -0.5 0.4 0.79 0.0 0.0 0.0 0\n",
      "[started] 4750 3.0 -0.75 0.0 1.23 0.0 0.0 0.0 0\n",
      "[finished] 4500 5.0 -0.25 0.4 0.81 0.0 0.0 0.0 0\n",
      "[started] 4750 3.0 -0.75 0.4 1.23 0.0 0.0 0.0 0\n",
      "[finished] 4500 5.0 0.0 0.0 0.82 0.0 0.0 0.0 0\n",
      "[started] 4750 3.0 -0.5 0.0 1.24 0.0 0.0 0.0 0\n",
      "[finished] 4500 5.0 0.0 0.4 0.82 0.0 0.0 0.0 0\n",
      "[started] 4750 3.0 -0.5 0.4 1.24 0.0 0.0 0.0 0\n",
      "[finished] 4500 5.0 0.25 0.0 0.83 0.0 0.0 0.0 0\n",
      "[started] 4750 3.0 -0.25 0.0 1.25 0.0 0.0 0.0 0\n",
      "[finished] 4500 5.0 0.25 0.4 0.83 0.0 0.0 0.0 0\n",
      "[started] 4750 3.0 -0.25 0.4 1.25 0.0 0.0 0.0 0\n",
      "[finished] 4500 5.0 0.5 0.0 0.84 0.0 0.0 0.0 0\n",
      "[started] 4750 3.0 0.0 0.0 1.26 0.0 0.0 0.0 0\n",
      "[finished] 4500 5.0 0.5 0.4 0.84 0.0 0.0 0.0 0\n",
      "[started] 4750 3.0 0.0 0.4 1.26 0.0 0.0 0.0 0\n",
      "[finished] 4750 3.0 -1.0 0.0 1.22 0.0 0.0 0.0 0\n",
      "[started] 4750 3.0 0.25 0.0 1.27 0.0 0.0 0.0 0\n",
      "[finished] 4750 3.0 -1.0 0.4 1.22 0.0 0.0 0.0 0\n",
      "[started] 4750 3.0 0.25 0.4 1.27 0.0 0.0 0.0 0\n",
      "[finished] 4750 3.0 -0.75 0.0 1.23 0.0 0.0 0.0 0\n",
      "[started] 4750 3.0 0.5 0.0 1.29 0.0 0.0 0.0 0\n",
      "[finished] 4750 3.0 -0.75 0.4 1.23 0.0 0.0 0.0 0\n",
      "[started] 4750 3.0 0.5 0.4 1.29 0.0 0.0 0.0 0\n",
      "[finished] 4750 3.0 -0.5 0.0 1.24 0.0 0.0 0.0 0\n",
      "[started] 4750 3.5 -1.0 0.0 0.99 0.0 0.0 0.0 0\n",
      "[finished] 4750 3.0 -0.5 0.4 1.24 0.0 0.0 0.0 0\n",
      "[started] 4750 3.5 -1.0 0.4 0.99 0.0 0.0 0.0 0\n",
      "[finished] 4750 3.0 0.0 0.0 1.26 0.0 0.0 0.0 0\n",
      "[started] 4750 3.5 -0.75 0.0 1.0 0.0 0.0 0.0 0\n",
      "[finished] 4750 3.0 -0.25 0.0 1.25 0.0 0.0 0.0 0\n",
      "[started] 4750 3.5 -0.75 0.4 1.0 0.0 0.0 0.0 0\n",
      "[finished] 4750 3.0 -0.25 0.4 1.25 0.0 0.0 0.0 0\n",
      "[started] 4750 3.5 -0.5 0.0 1.01 0.0 0.0 0.0 0\n",
      "[finished] 4750 3.0 0.0 0.4 1.26 0.0 0.0 0.0 0\n",
      "[started] 4750 3.5 -0.5 0.4 1.01 0.0 0.0 0.0 0\n",
      "[finished] 4750 3.0 0.25 0.0 1.27 0.0 0.0 0.0 0\n",
      "[started] 4750 3.5 -0.25 0.0 1.02 0.0 0.0 0.0 0\n",
      "[finished] 4750 3.0 0.25 0.4 1.27 0.0 0.0 0.0 0\n",
      "[started] 4750 3.5 -0.25 0.4 1.02 0.0 0.0 0.0 0\n",
      "[finished] 4750 3.0 0.5 0.0 1.29 0.0 0.0 0.0 0\n",
      "[started] 4750 3.5 0.0 0.0 1.03 0.0 0.0 0.0 0\n",
      "[finished] 4750 3.0 0.5 0.4 1.29 0.0 0.0 0.0 0\n",
      "[started] 4750 3.5 0.0 0.4 1.03 0.0 0.0 0.0 0\n",
      "[finished] 4750 3.5 -1.0 0.0 0.99 0.0 0.0 0.0 0\n",
      "[started] 4750 3.5 0.25 0.0 1.04 0.0 0.0 0.0 0\n",
      "[finished] 4750 3.5 -1.0 0.4 0.99 0.0 0.0 0.0 0\n",
      "[started] 4750 3.5 0.25 0.4 1.04 0.0 0.0 0.0 0\n",
      "[finished] 4750 3.5 -0.5 0.0 1.01 0.0 0.0 0.0 0\n",
      "[started] 4750 3.5 0.5 0.0 1.06 0.0 0.0 0.0 0\n",
      "[finished] 4750 3.5 -0.75 0.0 1.0 0.0 0.0 0.0 0\n",
      "[started] 4750 3.5 0.5 0.4 1.06 0.0 0.0 0.0 0\n",
      "[finished] 4750 3.5 -0.75 0.4 1.0 0.0 0.0 0.0 0\n",
      "[started] 4750 4.0 -1.0 0.0 0.92 0.0 0.0 0.0 0\n",
      "[finished] 4750 3.5 -0.5 0.4 1.01 0.0 0.0 0.0 0\n",
      "[started] 4750 4.0 -1.0 0.4 0.92 0.0 0.0 0.0 0\n",
      "[finished] 4750 3.5 -0.25 0.0 1.02 0.0 0.0 0.0 0\n",
      "[started] 4750 4.0 -0.75 0.0 0.93 0.0 0.0 0.0 0\n",
      "[finished] 4750 3.5 -0.25 0.4 1.02 0.0 0.0 0.0 0\n",
      "[started] 4750 4.0 -0.75 0.4 0.93 0.0 0.0 0.0 0\n",
      "[finished] 4750 3.5 0.0 0.4 1.03 0.0 0.0 0.0 0\n",
      "[started] 4750 4.0 -0.5 0.0 0.94 0.0 0.0 0.0 0\n",
      "[finished] 4750 3.5 0.0 0.0 1.03 0.0 0.0 0.0 0\n",
      "[started] 4750 4.0 -0.5 0.4 0.94 0.0 0.0 0.0 0\n",
      "[finished] 4750 3.5 0.25 0.0 1.04 0.0 0.0 0.0 0\n",
      "[started] 4750 4.0 -0.25 0.0 0.95 0.0 0.0 0.0 0\n",
      "[finished] 4750 3.5 0.25 0.4 1.04 0.0 0.0 0.0 0\n",
      "[started] 4750 4.0 -0.25 0.4 0.95 0.0 0.0 0.0 0\n",
      "[finished] 4750 3.5 0.5 0.4 1.06 0.0 0.0 0.0 0\n",
      "[started] 4750 4.0 0.0 0.0 0.96 0.0 0.0 0.0 0\n",
      "[finished] 4750 3.5 0.5 0.0 1.06 0.0 0.0 0.0 0\n",
      "[started] 4750 4.0 0.0 0.4 0.96 0.0 0.0 0.0 0\n",
      "[finished] 4750 4.0 -1.0 0.0 0.92 0.0 0.0 0.0 0\n",
      "[started] 4750 4.0 0.25 0.0 0.98 0.0 0.0 0.0 0\n",
      "[finished] 4750 4.0 -1.0 0.4 0.92 0.0 0.0 0.0 0\n",
      "[started] 4750 4.0 0.25 0.4 0.98 0.0 0.0 0.0 0\n",
      "[finished] 4750 4.0 -0.75 0.0 0.93 0.0 0.0 0.0 0\n",
      "[started] 4750 4.0 0.5 0.0 0.99 0.0 0.0 0.0 0\n",
      "[finished] 4750 4.0 -0.75 0.4 0.93 0.0 0.0 0.0 0\n",
      "[started] 4750 4.0 0.5 0.4 0.99 0.0 0.0 0.0 0\n",
      "[finished] 4750 4.0 -0.5 0.4 0.94 0.0 0.0 0.0 0\n",
      "[finished] 4750 4.0 -0.5 0.0 0.94 0.0 0.0 0.0 0\n",
      "[started] 4750 4.5 -1.0 0.0 0.85 0.0 0.00.0  0\n",
      "[started] 4750 4.5 -1.0 0.4 0.85 0.0 0.0 0.0 0\n",
      "[finished] 4750 4.0 -0.25 0.0 0.95 0.0 0.0 0.0 0\n",
      "[started] 4750 4.5 -0.75 0.0 0.86 0.0 0.0 0.0 0\n",
      "[finished] 4750 4.0 -0.25 0.4 0.95 0.0 0.0 0.0 0\n",
      "[started] 4750 4.5 -0.75 0.4 0.86 0.0 0.0 0.0 0\n",
      "[finished] 4750 4.0 0.0 0.4 0.96 0.0 0.0 0.0 0\n",
      "[started] 4750 4.5 -0.5 0.0 0.87 0.0 0.0 0.0 0\n",
      "[finished] 4750 4.0 0.25 0.0 0.98 0.0 0.0 0.0 0\n",
      "[started] 4750 4.5 -0.5 0.4 0.87 0.0 0.0 0.0 0\n",
      "[finished] 4750 4.0 0.0 0.0 0.96 0.0 0.0 0.0 0\n",
      "[started] 4750 4.5 -0.25 0.0 0.88 0.0 0.0 0.0 0\n",
      "[finished] 4750 4.0 0.25 0.4 0.98 0.0 0.0 0.0 0\n",
      "[started] 4750 4.5 -0.25 0.4 0.88 0.0 0.0 0.0 0\n",
      "[finished] 4750 4.0 0.5 0.0 0.99 0.0 0.0 0.0 0\n",
      "[started] 4750 4.5 0.0 0.0 0.89 0.0 0.0 0.0 0\n",
      "[finished] 4750 4.0 0.5 0.4 0.99 0.0 0.0 0.0 0\n",
      "[started] 4750 4.5 0.0 0.4 0.89 0.0 0.0 0.0 0\n",
      "[finished] 4750 4.5 -1.0 0.4 0.85 0.0 0.0 0.0 0\n",
      "[started] 4750 4.5 0.25 0.0 0.9 0.0 0.0 0.0 0\n",
      "[finished] 4750 4.5 -1.0 0.0 0.85 0.0 0.0 0.0 0\n",
      "[started] 4750 4.5 0.25 0.4 0.9 0.0 0.0 0.0 0\n",
      "[finished] 4750 4.5 -0.75 0.0 0.86 0.0 0.0 0.0 0\n",
      "[started] 4750 4.5 0.5 0.0 0.92 0.0 0.0 0.0 0\n",
      "[finished] 4750 4.5 -0.75 0.4 0.86 0.0 0.0 0.0 0\n",
      "[started] 4750 4.5 0.5 0.4 0.92 0.0 0.0 0.0 0\n",
      "[finished] 4750 4.5 -0.5 0.0 0.87 0.0 0.0 0.0 0\n",
      "[started] 4750 5.0 -1.0 0.0 0.78 0.0 0.0 0.0 0\n",
      "[finished] 4750 4.5 -0.5 0.4 0.87 0.0 0.0 0.0 0\n",
      "[started] 4750 5.0 -1.0 0.4 0.78 0.0 0.0 0.0 0\n",
      "[finished] 4750 4.5 -0.25 0.0 0.88 0.0 0.0 0.0 0\n",
      "[started] 4750 5.0 -0.75 0.0 0.79 0.0 0.0 0.0 0\n",
      "[finished] 4750 4.5 -0.25 0.4 0.88 0.0 0.0 0.0 0\n",
      "[started] 4750 5.0 -0.75 0.4 0.79 0.0 0.0 0.0 0\n",
      "[finished] 4750 4.5 0.0 0.0 0.89 0.0 0.0 0.0 0\n",
      "[started] 4750 5.0 -0.5 0.0 0.79 0.0 0.0 0.0 0\n",
      "[finished] 4750 4.5 0.0 0.4 0.89 0.0 0.0 0.0 0\n",
      "[started] 4750 5.0 -0.5 0.4 0.79 0.0 0.0 0.0 0\n",
      "[finished] 4750 4.5 0.25 0.0 0.9 0.0 0.0 0.0 0\n",
      "[started] 4750 5.0 -0.25 0.0 0.81 0.0 0.0 0.0 0\n",
      "[finished] 4750 4.5 0.25 0.4 0.9 0.0 0.0 0.0 0\n",
      "[started] 4750 5.0 -0.25 0.4 0.81 0.0 0.0 0.0 0\n",
      "[finished] 4750 4.5 0.5 0.0 0.92 0.0 0.0 0.0 0\n",
      "[started] 4750 5.0 0.0 0.0 0.82 0.0 0.0 0.0 0\n",
      "[finished] 4750 4.5 0.5 0.4 0.92 0.0 0.0 0.0 0\n",
      "[started] 4750 5.0 0.0 0.4 0.82 0.0 0.0 0.0 0\n",
      "[finished] 4750 5.0 -1.0 0.0 0.78 0.0 0.0 0.0 0\n",
      "[started] 4750 5.0 0.25 0.0 0.83 0.0 0.0 0.0 0\n",
      "[finished] 4750 5.0 -1.0 0.4 0.78 0.0 0.0 0.0 0\n",
      "[started] 4750 5.0 0.25 0.4 0.83 0.0 0.0 0.0 0\n",
      "[finished] 4750 5.0 -0.75 0.0 0.79 0.0 0.0 0.0 0\n",
      "[started] 4750 5.0 0.5 0.0 0.84 0.0 0.0 0.0 0\n",
      "[finished] 4750 5.0 -0.75 0.4 0.79 0.0 0.0 0.0 0\n",
      "[started] 4750 5.0 0.5 0.4 0.84 0.0 0.0 0.0 0\n",
      "[finished] 4750 5.0 -0.5 0.0 0.79 0.0 0.0 0.0 0\n",
      "[started] 5000 3.0 -1.0 0.0 1.22 0.0 0.0 0.0 0\n",
      "[finished] 4750 5.0 -0.25 0.0 0.81 0.0 0.0 0.0 0\n",
      "[started] 5000 3.0 -1.0 0.4 1.22 0.0 0.0 0.0 0\n",
      "[finished] 4750 5.0 -0.5 0.4 0.79 0.0 0.0 0.0 0\n",
      "[started] 5000 3.0 -0.75 0.0 1.23 0.0 0.0 0.0 0\n",
      "[finished] 4750 5.0 -0.25 0.4 0.81 0.0 0.0 0.0 0\n",
      "[started] 5000 3.0 -0.75 0.4 1.23 0.0 0.0 0.0 0\n",
      "[finished] 4750 5.0 0.0 0.0 0.82 0.0 0.0 0.0 0\n",
      "[started] 5000 3.0 -0.5 0.0 1.24 0.0 0.0 0.0 0\n",
      "[finished] 4750 5.0 0.0 0.4 0.82 0.0 0.0 0.0 0\n",
      "[started] 5000 3.0 -0.5 0.4 1.24 0.0 0.0 0.0 0\n",
      "[finished] 4750 5.0 0.25 0.0 0.83 0.0 0.0 0.0 0\n",
      "[started] 5000 3.0 -0.25 0.0 1.25 0.0 0.0 0.0 0\n",
      "[finished] 4750 5.0 0.5 0.0 0.84 0.0 0.0 0.0 0\n",
      "[started] 5000 3.0 -0.25 0.4 1.25 0.0 0.0 0.0 0\n",
      "[finished] 4750 5.0 0.25 0.4 0.83 0.0 0.0 0.0 0\n",
      "[started] 5000 3.0 0.0 0.0 1.26 0.0 0.0 0.0 0\n",
      "[finished] 4750 5.0 0.5 0.4 0.84 0.0 0.0 0.0 0\n",
      "[started] 5000 3.0 0.0 0.4 1.26 0.0 0.0 0.0 0\n",
      "[finished] 5000 3.0 -1.0 0.0 1.22 0.0 0.0 0.0 0\n",
      "[started] 5000 3.0 0.25 0.0 1.28 0.0 0.0 0.0 0\n",
      "[finished] 5000 3.0 -1.0 0.4 1.22 0.0 0.0 0.0 0\n",
      "[started] 5000 3.0 0.25 0.4 1.28 0.0 0.0 0.0 0\n",
      "[finished] 5000 3.0 -0.75 0.0 1.23 0.0 0.0 0.0 0\n",
      "[started] 5000 3.0 0.5 0.0 1.29 0.0 0.0 0.0 0\n",
      "[finished] 5000 3.0 -0.75 0.4 1.23 0.0 0.0 0.0 0\n",
      "[started] 5000 3.0 0.5 0.4 1.29 0.0 0.0 0.0 0\n"
     ]
    },
    {
     "name": "stdout",
     "output_type": "stream",
     "text": [
      "[finished] 5000 3.0 -0.5 0.4 1.24 0.0 0.0 0.0 0\n",
      "[started] 5000 3.5 -1.0 0.0 0.99 0.0 0.0 0.0 0\n",
      "[finished] 5000 3.0 -0.5 0.0 1.24 0.0 0.0 0.0 0\n",
      "[started] 5000 3.5 -1.0 0.4 0.99 0.0 0.0 0.0 0\n",
      "[finished] 5000 3.0 -0.25 0.0 1.25 0.0 0.0 0.0 0\n",
      "[started] 5000 3.5 -0.75 0.0 1.0 0.0 0.0 0.0 0\n",
      "[finished] 5000 3.0 -0.25 0.4 1.25 0.0 0.0 0.0 0\n",
      "[started] 5000 3.5 -0.75 0.4 1.0 0.0 0.0 0.0 0\n",
      "[finished] 5000 3.0 0.0 0.0 1.26 0.0 0.0 0.0 0\n",
      "[started] 5000 3.5 -0.5 0.0 1.01 0.0 0.0 0.0 0\n",
      "[finished] 5000 3.0 0.0 0.4 1.26 0.0 0.0 0.0 0\n",
      "[started] 5000 3.5 -0.5 0.4 1.01 0.0 0.0 0.0 0\n",
      "[finished] 5000 3.0 0.25 0.0 1.28 0.0 0.0 0.0 0\n",
      "[started] 5000 3.5 -0.25 0.0 1.02 0.0 0.0 0.0 0\n",
      "[finished] 5000 3.0 0.25 0.4 1.28 0.0 0.0 0.0 0\n",
      "[started] 5000 3.5 -0.25 0.4 1.02 0.0 0.0 0.0 0\n",
      "[finished] 5000 3.0 0.5 0.0 1.29 0.0 0.0 0.0 0\n",
      "[started] 5000 3.5 0.0 0.0 1.03 0.0 0.0 0.0 0\n",
      "[finished] 5000 3.0 0.5 0.4 1.29 0.0 0.0 0.0 0\n",
      "[started] 5000 3.5 0.0 0.4 1.03 0.0 0.0 0.0 0\n",
      "[finished] 5000 3.5 -1.0 0.0 0.99 0.0 0.0 0.0 0\n",
      "[started] 5000 3.5 0.25 0.0 1.04 0.0 0.0 0.0 0\n",
      "[finished] 5000 3.5 -1.0 0.4 0.99 0.0 0.0 0.0 0\n",
      "[started] 5000 3.5 0.25 0.4 1.04 0.0 0.0 0.0 0\n",
      "[finished] 5000 3.5 -0.75 0.0 1.0 0.0 0.0 0.0 0\n",
      "[started] 5000 3.5 0.5 0.0 1.06 0.0 0.0 0.0 0\n",
      "[finished] 5000 3.5 -0.75 0.4 1.0 0.0 0.0 0.0 0\n",
      "[started] 5000 3.5 0.5 0.4 1.06 0.0 0.0 0.0 0\n",
      "[finished] 5000 3.5 -0.5 0.0 1.01 0.0 0.0 0.0 0\n",
      "[started] 5000 4.0 -1.0 0.0 0.92 0.0 0.0 0.0 0\n",
      "[finished] 5000 3.5 -0.5 0.4 1.01 0.0 0.0 0.0 0\n",
      "[started] 5000 4.0 -1.0 0.4 0.92 0.0 0.0 0.0 0\n",
      "[finished] 5000 3.5 -0.25 0.0 1.02 0.0 0.0 0.0 0\n",
      "[started] 5000 4.0 -0.75 0.0 0.93 0.0 0.0 0.0 0\n",
      "[finished] 5000 3.5 -0.25 0.4 1.02 0.0 0.0 0.0 0\n",
      "[started] 5000 4.0 -0.75 0.4 0.93 0.0 0.0 0.0 0\n",
      "[finished] 5000 3.5 0.0 0.0 1.03 0.0 0.0 0.0 0\n",
      "[started] 5000 4.0 -0.5 0.0 0.94 0.0 0.0 0.0 0\n",
      "[finished] 5000 3.5 0.0 0.4 1.03 0.0 0.0 0.0 0\n",
      "[started] 5000 4.0 -0.5 0.4 0.94 0.0 0.0 0.0 0\n",
      "[finished] 5000 3.5 0.25 0.0 1.04 0.0 0.0 0.0 0\n",
      "[started] 5000 4.0 -0.25 0.0 0.95 0.0 0.0 0.0 0\n",
      "[finished] 5000 3.5 0.25 0.4 1.04 0.0 0.0 0.0 0\n",
      "[started] 5000 4.0 -0.25 0.4 0.95 0.0 0.0 0.0 0\n",
      "[finished] 5000 3.5 0.5 0.0 1.06 0.0 0.0 0.0 0\n",
      "[started] 5000 4.0 0.0 0.0 0.96 0.0 0.0 0.0 0\n",
      "[finished] 5000 3.5 0.5 0.4 1.06 0.0 0.0 0.0 0\n",
      "[started] 5000 4.0 0.0 0.4 0.96 0.0 0.0 0.0 0\n",
      "[finished] 5000 4.0 -1.0 0.0 0.92 0.0 0.0 0.0 0\n",
      "[started] 5000 4.0 0.25 0.0 0.98 0.0 0.0 0.0 0\n",
      "[finished] 5000 4.0 -1.0 0.4 0.92 0.0 0.0 0.0 0\n",
      "[started] 5000 4.0 0.25 0.4 0.98 0.0 0.0 0.0 0\n",
      "[finished] 5000 4.0 -0.75 0.0 0.93 0.0 0.0 0.0 0\n",
      "[started] 5000 4.0 0.5 0.0 0.99 0.0 0.0 0.0 0\n",
      "[finished] 5000 4.0 -0.5 0.0 0.94 0.0 0.0 0.0 0\n",
      "[started] 5000 4.0 0.5 0.4 0.99 0.0 0.0 0.0 0\n",
      "[finished] 5000 4.0 -0.75 0.4 0.93 0.0 0.0 0.0 0\n",
      "[started] 5000 4.5 -1.0 0.0 0.85 0.0 0.0 0.0 0\n",
      "[finished] 5000 4.0 -0.5 0.4 0.94 0.0 0.0 0.0 0\n",
      "[started] 5000 4.5 -1.0 0.4 0.85 0.0 0.0 0.0 0\n",
      "[finished] 5000 4.0 -0.25 0.0 0.95 0.0 0.0 0.0 0\n",
      "[started] 5000 4.5 -0.75 0.0 0.86 0.0 0.0 0.0 0\n",
      "[finished] 5000 4.0 -0.25 0.4 0.95 0.0 0.0 0.0 0\n",
      "[started] 5000 4.5 -0.75 0.4 0.86 0.0 0.0 0.0 0\n",
      "[finished] 5000 4.0 0.0 0.0 0.96 0.0 0.0 0.0 0\n",
      "[started] 5000 4.5 -0.5 0.0 0.87 0.0 0.0 0.0 0\n",
      "[finished] 5000 4.0 0.0 0.4 0.96 0.0 0.0 0.0 0\n",
      "[started] 5000 4.5 -0.5 0.4 0.87 0.0 0.0 0.0 0\n",
      "[finished] 5000 4.0 0.25 0.0 0.98 0.0 0.0 0.0 0\n",
      "[started] 5000 4.5 -0.25 0.0 0.88 0.0 0.0 0.0 0\n",
      "[finished] 5000 4.0 0.25 0.4 0.98 0.0 0.0 0.0 0\n",
      "[started] 5000 4.5 -0.25 0.4 0.88 0.0 0.0 0.0 0\n",
      "[finished] 5000 4.0 0.5 0.0 0.99 0.0 0.0 0.0 0\n",
      "[started] 5000 4.5 0.0 0.0 0.89 0.0 0.0 0.0 0\n",
      "[finished] 5000 4.0 0.5 0.4 0.99 0.0 0.0 0.0 0\n",
      "[started] 5000 4.5 0.0 0.4 0.89 0.0 0.0 0.0 0\n",
      "[finished] 5000 4.5 -1.0 0.0 0.85 0.0 0.0 0.0 0\n",
      "[started] 5000 4.5 0.25 0.0 0.9 0.0 0.0 0.0 0\n",
      "[finished] 5000 4.5 -1.0 0.4 0.85 0.0 0.0 0.0 0\n",
      "[started] 5000 4.5 0.25 0.4 0.9 0.0 0.0 0.0 0\n",
      "[finished] 5000 4.5 -0.75 0.0 0.86 0.0 0.0 0.0 0\n",
      "[started] 5000 4.5 0.5 0.0 0.92 0.0 0.0 0.0 0\n",
      "[finished] 5000 4.5 -0.75 0.4 0.86 0.0 0.0 0.0 0\n",
      "[started] 5000 4.5 0.5 0.4 0.92 0.0 0.0 0.0 0\n",
      "[finished] 5000 4.5 -0.5 0.4 0.87 0.0 0.0 0.0 0\n",
      "[started] 5000 5.0 -1.0 0.0 0.78 0.0 0.0 0.0 0\n",
      "[finished] 5000 4.5 -0.5 0.0 0.87 0.0 0.0 0.0 0\n",
      "[started] 5000 5.0 -1.0 0.4 0.78 0.0 0.0 0.0 0\n",
      "[finished] 5000 4.5 -0.25 0.0 0.88 0.0 0.0 0.0 0\n",
      "[started] 5000 5.0 -0.75 0.0 0.79 0.0 0.0 0.0 0\n",
      "[finished] 5000 4.5 -0.25 0.4 0.88 0.0 0.0 0.0 0\n",
      "[started] 5000 5.0 -0.75 0.4 0.79 0.0 0.0 0.0 0\n",
      "[finished] 5000 4.5 0.0 0.0 0.89 0.0 0.0 0.0 0\n",
      "[started] 5000 5.0 -0.5 0.0 0.79 0.0 0.0 0.0 0\n",
      "[finished] 5000 4.5 0.0 0.4 0.89 0.0 0.0 0.0 0\n",
      "[started] 5000 5.0 -0.5 0.4 0.79 0.0 0.0 0.0 0\n",
      "[finished] 5000 4.5 0.25 0.0 0.9 0.0 0.0 0.0 0\n",
      "[started] 5000 5.0 -0.25 0.0 0.81 0.0 0.0 0.0 0\n",
      "[finished] 5000 4.5 0.25 0.4 0.9 0.0 0.0 0.0 0\n",
      "[started] 5000 5.0 -0.25 0.4 0.81 0.0 0.0 0.0 0\n",
      "[finished] 5000 4.5 0.5 0.4 0.92 0.0 0.0 0.0 0\n",
      "[started] 5000 5.0 0.0 0.0 0.82 0.0 0.0 0.0 0\n",
      "[finished] 5000 4.5 0.5 0.0 0.92 0.0 0.0 0.0 0\n",
      "[started] 5000 5.0 0.0 0.4 0.82 0.0 0.0 0.0 0\n",
      "[finished] 5000 5.0 -1.0 0.0 0.78 0.0 0.0 0.0 0\n",
      "[started] 5000 5.0 0.25 0.0 0.83 0.0 0.0 0.0 0\n",
      "[finished] 5000 5.0 -1.0 0.4 0.78 0.0 0.0 0.0 0\n",
      "[started] 5000 5.0 0.25 0.4 0.83 0.0 0.0 0.0 0\n",
      "[finished] 5000 5.0 -0.75 0.0 0.79 0.0 0.0 0.0 0\n",
      "[started] 5000 5.0 0.5 0.0 0.84 0.0 0.0 0.0 0\n",
      "[finished] 5000 5.0 -0.75 0.4 0.79 0.0 0.0 0.0 0\n",
      "[started] 5000 5.0 0.5 0.4 0.84 0.0 0.0 0.0 0\n",
      "[finished] 5000 5.0 -0.5 0.0 0.79 0.0 0.0 0.0 0\n",
      "[started] 5250 3.0 -1.0 0.0 1.26 0.0 0.0 0.0 0\n",
      "[finished] 5000 5.0 -0.5 0.4 0.79 0.0 0.0 0.0 0\n",
      "[started] 5250 3.0 -1.0 0.4 1.26 0.0 0.0 0.0 0\n",
      "[finished] 5000 5.0 -0.25 0.0 0.81 0.0 0.0 0.0 0\n",
      "[started] 5250 3.0 -0.75 0.0 1.27 0.0 0.0 0.0 0\n",
      "[finished] 5000 5.0 -0.25 0.4 0.81 0.0 0.0 0.0 0\n",
      "[started] 5250 3.0 -0.75 0.4 1.27 0.0 0.0 0.0 0\n",
      "[finished] 5000 5.0 0.0 0.0 0.82 0.0 0.0 0.0 0\n",
      "[started] 5250 3.0 -0.5 0.0 1.28 0.0 0.0 0.0 0\n",
      "[finished] 5000 5.0 0.0 0.4 0.82 0.0 0.0 0.0 0\n",
      "[started] 5250 3.0 -0.5 0.4 1.28 0.0 0.0 0.0 0\n",
      "[finished] 5000 5.0 0.25 0.0 0.83 0.0 0.0 0.0 0\n",
      "[started] 5250 3.0 -0.25 0.0 1.29 0.0 0.0 0.0 0\n",
      "[finished] 5000 5.0 0.25 0.4 0.83 0.0 0.0 0.0 0\n",
      "[started] 5250 3.0 -0.25 0.4 1.29 0.0 0.0 0.0 0\n",
      "[finished] 5000 5.0 0.5 0.0 0.84 0.0 0.0 0.0 0\n",
      "[started] 5250 3.0 0.0 0.0 1.3 0.0 0.0 0.0 0\n",
      "[finished] 5250 3.0 -1.0 0.0 1.26 0.0 0.0 0.0 0\n",
      "[started] 5250 3.0 0.0 0.4 1.3 0.0 0.0 0.0 0\n",
      "[finished] 5000 5.0 0.5 0.4 0.84 0.0 0.0 0.0 0\n",
      "[started] 5250 3.0 0.25 0.0 1.32 0.0 0.0 0.0 0\n",
      "[finished] 5250 3.0 -1.0 0.4 1.26 0.0 0.0 0.0 0\n",
      "[started] 5250 3.0 0.25 0.4 1.32 0.0 0.0 0.0 0\n",
      "[finished] 5250 3.0 -0.75 0.0 1.27 0.0 0.0 0.0 0\n",
      "[started] 5250 3.0 0.5 0.0 1.33 0.0 0.0 0.0 0\n",
      "[finished] 5250 3.0 -0.75 0.4 1.27 0.0 0.0 0.0 0\n",
      "[started] 5250 3.0 0.5 0.4 1.33 0.0 0.0 0.0 0\n",
      "[finished] 5250 3.0 -0.5 0.0 1.28 0.0 0.0 0.0 0\n",
      "[started] 5250 3.5 -1.0 0.0 1.03 0.0 0.0 0.0 0\n",
      "[finished] 5250 3.0 -0.5 0.4 1.28 0.0 0.0 0.0 0\n",
      "[started] 5250 3.5 -1.0 0.4 1.03 0.0 0.0 0.0 0\n",
      "[finished] 5250 3.0 -0.25 0.0 1.29 0.0 0.0 0.0 0\n",
      "[finished][started]  52505250  3.03.5  -0.25-0.75  0.40.0  1.031.29  0.00.0 0.0  0.00.0  00.0\n",
      " 0\n",
      "[started] 5250 3.5 -0.75 0.4 1.03 0.0 0.0 0.0 0\n",
      "[finished] 5250 3.0 0.0 0.0 1.3 0.0 0.0 0.0 0\n",
      "[started] 5250 3.5 -0.5 0.0 1.04 0.0 0.0 0.0 0\n",
      "[finished] 5250 3.0 0.25 0.0 1.32 0.0 0.0 0.0 0\n",
      "[started] 5250 3.5 -0.5 0.4 1.04 0.0 0.0 0.0 0\n",
      "[finished] 5250 3.0 0.0 0.4 1.3 0.0 0.0 0.0 0\n",
      "[started] 5250 3.5 -0.25 0.0 1.05 0.0 0.0 0.0 0\n",
      "[finished] 5250 3.0 0.25 0.4 1.32 0.0 0.0 0.0 0\n",
      "[started] 5250 3.5 -0.25 0.4 1.05 0.0 0.0 0.0 0\n",
      "[finished] 5250 3.0 0.5 0.0 1.33 0.0 0.0 0.0 0\n",
      "[started] 5250 3.5 0.0 0.0 1.07 0.0 0.0 0.0 0\n",
      "[finished] 5250 3.0 0.5 0.4 1.33 0.0 0.0 0.0 0\n",
      "[started] 5250 3.5 0.0 0.4 1.07 0.0 0.0 0.0 0\n",
      "[finished] 5250 3.5 -1.0 0.0 1.03 0.0 0.0 0.0 0\n",
      "[started] 5250 3.5 0.25 0.0 1.08 0.0 0.0 0.0 0\n",
      "[finished] 5250 3.5 -1.0 0.4 1.03 0.0 0.0 0.0 0\n",
      "[started] 5250 3.5 0.25 0.4 1.08 0.0 0.0 0.0 0\n",
      "[finished] 5250 3.5 -0.75 0.4 1.03 0.0 0.0 0.0 0\n",
      "[started] 5250 3.5 0.5 0.0 1.09 0.0 0.0 0.0 0\n",
      "[finished] 5250 3.5 -0.75 0.0 1.03 0.0 0.0 0.0 0\n",
      "[started] 5250 3.5 0.5 0.4 1.09 0.0 0.0 0.0 0\n",
      "[finished] 5250 3.5 -0.5 0.0 1.04 0.0 0.0 0.0 0\n",
      "[started] 5250 4.0 -1.0 0.0 0.96 0.0 0.0 0.0 0\n",
      "[finished] 5250 3.5 -0.5 0.4 1.04 0.0 0.0 0.0 0\n",
      "[started] 5250 4.0 -1.0 0.4 0.96 0.0 0.0 0.0 0\n"
     ]
    },
    {
     "name": "stdout",
     "output_type": "stream",
     "text": [
      "[finished] 5250 3.5 -0.25 0.0 1.05 0.0 0.0 0.0 0\n",
      "[started] 5250 4.0 -0.75 0.0 0.96 0.0 0.0 0.0 0\n",
      "[finished] 5250 3.5 -0.25 0.4 1.05 0.0 0.0 0.0 0\n",
      "[started] 5250 4.0 -0.75 0.4 0.96 0.0 0.0 0.0 0\n",
      "[finished] 5250 3.5 0.0 0.0 1.07 0.0 0.0 0.0 0\n",
      "[started] 5250 4.0 -0.5 0.0 0.97 0.0 0.0 0.0 0\n",
      "[finished] 5250 3.5 0.0 0.4 1.07 0.0 0.0 0.0 0\n",
      "[started] 5250 4.0 -0.5 0.4 0.97 0.0 0.0 0.0 0\n",
      "[finished] 5250 3.5 0.25 0.0 1.08 0.0 0.0 0.0 0\n",
      "[started] 5250 4.0 -0.25 0.0 0.98 0.0 0.0 0.0 0\n",
      "[finished] 5250 3.5 0.25 0.4 1.08 0.0 0.0 0.0 0\n",
      "[started] 5250 4.0 -0.25 0.4 0.98 0.0 0.0 0.0 0\n",
      "[finished] 5250 3.5 0.5 0.0 1.09 0.0 0.0 0.0 0\n",
      "[started] 5250 4.0 0.0 0.0 1.0 0.0 0.0 0.0 0\n",
      "[finished] 5250 3.5 0.5 0.4 1.09 0.0 0.0 0.0 0\n",
      "[started] 5250 4.0 0.0 0.4 1.0 0.0 0.0 0.0 0\n",
      "[finished] 5250 4.0 -1.0 0.0 0.96 0.0 0.0 0.0 0\n",
      "[started] 5250 4.0 0.25 0.0 1.01 0.0 0.0 0.0 0\n",
      "[finished] 5250 4.0 -1.0 0.4 0.96 0.0 0.0 0.0 0\n",
      "[started] 5250 4.0 0.25 0.4 1.01 0.0 0.0 0.0 0\n",
      "[finished] 5250 4.0 -0.75 0.0 0.96 0.0 0.0 0.0 0\n",
      "[started] 5250 4.0 0.5 0.0 1.02 0.0 0.0 0.0 0\n",
      "[finished] 5250 4.0 -0.5 0.0 0.97 0.0 0.0 0.0 0\n",
      "[started] 5250 4.0 0.5 0.4 1.02 0.0 0.0 0.0 0\n",
      "[finished] 5250 4.0 -0.75 0.4 0.96 0.0 0.0 0.0 0\n",
      "[started] 5250 4.5 -1.0 0.0 0.89 0.0 0.0 0.0 0\n",
      "[finished] 5250 4.0 -0.5 0.4 0.97 0.0 0.0 0.0 0\n",
      "[started] 5250 4.5 -1.0 0.4 0.89 0.0 0.0 0.0 0\n",
      "[finished] 5250 4.0 -0.25 0.0 0.98 0.0 0.0 0.0 0\n",
      "[started] 5250 4.5 -0.75 0.0 0.89 0.0 0.0 0.0 0\n",
      "[finished] 5250 4.0 -0.25 0.4 0.98 0.0 0.0 0.0 0\n",
      "[started] 5250 4.5 -0.75 0.4 0.89 0.0 0.0 0.0 0\n",
      "[finished] 5250 4.0 0.0 0.0 1.0 0.0 0.0 0.0 0\n",
      "[started] 5250 4.5 -0.5 0.0 0.9 0.0 0.0 0.0 0\n",
      "[finished] 5250 4.0 0.0 0.4 1.0 0.0 0.0 0.0 0\n",
      "[started] 5250 4.5 -0.5 0.4 0.9 0.0 0.0 0.0 0\n",
      "[finished] 5250 4.0 0.25 0.0 1.01 0.0 0.0 0.0 0\n",
      "[started] 5250 4.5 -0.25 0.0 0.91 0.0 0.0 0.0 0\n",
      "[finished] 5250 4.0 0.25 0.4 1.01 0.0 0.0 0.0 0\n",
      "[started] 5250 4.5 -0.25 0.4 0.91 0.0 0.0 0.0 0\n",
      "[finished] 5250 4.0 0.5 0.4 1.02 0.0 0.0 0.0 0\n",
      "[started] 5250 4.5 0.0 0.0 0.93 0.0 0.0 0.0 0\n",
      "[finished] 5250 4.0 0.5 0.0 1.02 0.0 0.0 0.0 0\n",
      "[started] 5250 4.5 0.0 0.4 0.93 0.0 0.0 0.0 0\n",
      "[finished] 5250 4.5 -1.0 0.4 0.89 0.0 0.0 0.0 0\n",
      "[started] 5250 4.5 0.25 0.0 0.94 0.0 0.0 0.0 0\n",
      "[finished] 5250 4.5 -1.0 0.0 0.89 0.0 0.0 0.0 0\n",
      "[started] 5250 4.5 0.25 0.4 0.94 0.0 0.0 0.0 0\n",
      "[finished] 5250 4.5 -0.75 0.0 0.89 0.0 0.0 0.0 0\n",
      "[started] 5250 4.5 0.5 0.0 0.95 0.0 0.0 0.0 0\n",
      "[finished] 5250 4.5 -0.75 0.4 0.89 0.0 0.0 0.0 0\n",
      "[started] 5250 4.5 0.5 0.4 0.95 0.0 0.0 0.0 0\n",
      "[finished] 5250 4.5 -0.5 0.0 0.9 0.0 0.0 0.0 0\n",
      "[started] 5250 5.0 -1.0 0.0 0.81 0.0 0.0 0.0 0\n",
      "[finished] 5250 4.5 -0.5 0.4 0.9 0.0 0.0 0.0 0\n",
      "[started] 5250 5.0 -1.0 0.4 0.81 0.0 0.0 0.0 0\n",
      "[finished] 5250 4.5 -0.25 0.0 0.91 0.0 0.0 0.0 0\n",
      "[started] 5250 5.0 -0.75 0.0 0.82 0.0 0.0 0.0 0\n",
      "[finished] 5250 4.5 0.0 0.4 0.93 0.0 0.0 0.0 0\n",
      "[started] 5250 5.0 -0.75 0.4 0.82 0.0 0.0 0.0 0\n",
      "[finished] 5250 4.5 -0.25 0.4 0.91 0.0 0.0 0.0 0\n",
      "[started] 5250 5.0 -0.5 0.0 0.83 0.0 0.0 0.0 0\n",
      "[finished] 5250 4.5 0.0 0.0 0.93 0.0 0.0 0.0 0\n",
      "[started] 5250 5.0 -0.5 0.4 0.83 0.0 0.0 0.0 0\n",
      "[finished] 5250 4.5 0.25 0.0 0.94 0.0 0.0 0.0 0\n",
      "[started] 5250 5.0 -0.25 0.0 0.84 0.0 0.0 0.0 0\n",
      "[finished] 5250 4.5 0.25 0.4 0.94 0.0 0.0 0.0 0\n",
      "[started] 5250 5.0 -0.25 0.4 0.84 0.0 0.0 0.0 0\n",
      "[finished] 5250 4.5 0.5 0.0 0.95 0.0 0.0 0.0 0\n",
      "[started] 5250 5.0 0.0 0.0 0.85 0.0 0.0 0.0 0\n",
      "[finished] 5250 4.5 0.5 0.4[finished]  0.95 0.05250 0.0  0.0 5.00 -1.0\n",
      " 0.0 0.81 0.0 0.0 0.0 0\n",
      "[started] 5250 5.0 0.0 0.4 0.85 0.0 0.0 0.0 [started]0 \n",
      "5250 5.0 0.25 0.0 0.86 0.0 0.0 0.0 0\n",
      "[finished] 5250 5.0 -0.75 0.0 0.82 0.0 0.0 0.0 0\n",
      "[started] 5250 5.0 0.25 0.4 0.86 0.0 0.0 0.0 0\n",
      "[finished] 5250 5.0 -1.0 0.4 0.81 0.0 0.0 0.0 0\n",
      "[started] 5250 5.0 0.5 0.0 0.88 0.0 0.0 0.0 0\n",
      "[finished] 5250 5.0 -0.75 0.4 0.82 0.0 0.0 0.0 0\n",
      "[started] 5250 5.0 0.5 0.4 0.88 0.0 0.0 0.0 0\n",
      "[finished] 5250 5.0 -0.25 0.0 0.84 0.0 0.0 0.0 0\n",
      "[started] 5500 3.0 -1.0 0.0 1.35 0.0 0.0 0.0 0\n",
      "[finished] 5250 5.0 -0.5 0.4 0.83 0.0 0.0 0.0 0\n",
      "[started] 5500 3.0 -1.0 0.4 1.35 0.0 0.0 0.0 0\n",
      "[finished] 5250 5.0 -0.5 0.0 0.83 0.0 0.0 0.0 0\n",
      "[started] 5500 3.0 -0.75 0.0 1.35 0.0 0.0 0.0 0\n",
      "[finished] 5250 5.0 -0.25 0.4 0.84 0.0 0.0 0.0 0\n",
      "[started] 5500 3.0 -0.75 0.4 1.35 0.0 0.0 0.0 0\n",
      "[finished] 5250 5.0 0.0 0.0 0.85 0.0 0.0 0.0 0\n",
      "[started] 5500 3.0 -0.5 0.0 1.36 0.0 0.0 0.0 0\n",
      "[finished] 5250 5.0 0.0 0.4 0.85 0.0 0.0 0.0 0\n",
      "[started] 5500 3.0 -0.5 0.4 1.36 0.0 0.0 0.0 0\n",
      "[finished] 5250 5.0 0.25 0.0 0.86 0.0 0.0 0.0 0\n",
      "[started] 5500 3.0 -0.25 0.0 1.37 0.0 0.0 0.0 0\n",
      "[finished] 5250 5.0 0.25 0.4 0.86 0.0 0.0 0.0 0\n",
      "[started] 5500 3.0 -0.25 0.4 1.37 0.0 0.0 0.0 0\n",
      "[finished] 5250 5.0 0.5 0.0 0.88 0.0 0.0 0.0 0\n",
      "[started] 5500 3.0 0.0 0.0 1.39 0.0 0.0 0.0 0\n",
      "[finished] 5250 5.0 0.5 0.4 0.88 0.0 0.0 0.0 0\n",
      "[started] 5500 3.0 0.0 0.4 1.39 0.0 0.0 0.0 0\n",
      "[finished] 5500 3.0 -1.0 0.0 1.35 0.0 0.0 0.0 0\n",
      "[started] 5500 3.0 0.25 0.0 1.4 0.0 0.0 0.0 0\n",
      "[finished] 5500 3.0 -1.0 0.4 1.35 0.0 0.0 0.0 0\n",
      "[started] 5500 3.0 0.25 0.4 1.4 0.0 0.0 0.0 0\n",
      "[finished] 5500 3.0 -0.75 0.0 1.35 0.0 0.0 0.0 0\n",
      "[started] 5500 3.0 0.5 0.0 1.41 0.0 0.0 0.0 0\n",
      "[finished] 5500 3.0 -0.75 0.4 1.35 0.0 0.0 0.0 0\n",
      "[started] 5500 3.0 0.5 0.4 1.41 0.0 0.0 0.0 0\n",
      "[finished] 5500 3.0 -0.5 0.0 1.36 0.0 0.0 0.0 0\n",
      "[started] 5500 3.5 -1.0 0.0 1.08 0.0 0.0 0.0 0\n",
      "[finished] 5500 3.0 -0.5 0.4 1.36 0.0 0.0 0.0 0\n",
      "[started] 5500 3.5 -1.0 0.4 1.08 0.0 0.0 0.0 0\n",
      "[finished] 5500 3.0 -0.25 0.0 1.37 0.0 0.0 0.0 0\n",
      "[started] 5500 3.5 -0.75 0.0 1.09 0.0 0.0 0.0 0\n",
      "[finished] 5500 3.0 -0.25 0.4 1.37 0.0 0.0 0.0 0\n",
      "[started] 5500 3.5 -0.75 0.4 1.09 0.0 0.0 0.0 0\n",
      "[finished] 5500 3.0 0.0 0.0 1.39 0.0 0.0 0.0 0\n",
      "[started] 5500 3.5 -0.5 0.0 1.1 0.0 0.0 0.0 0\n",
      "[finished] 5500 3.0 0.0 0.4 1.39 0.0 0.0 0.0 0\n",
      "[started] 5500 3.5 -0.5 0.4 1.1 0.0 0.0 0.0 0\n",
      "[finished] 5500 3.0 0.25 0.0 1.4 0.0 0.0 0.0 0\n",
      "[started] 5500 3.5 -0.25 0.0 1.11 0.0 0.0 0.0 0\n",
      "[finished] 5500 3.0 0.25 0.4 1.4 0.0 0.0 0.0 0\n",
      "[started] 5500 3.5 -0.25 0.4 1.11 0.0 0.0 0.0 0\n",
      "[finished] 5500 3.0 0.5 0.0 1.41 0.0 0.0 0.0 0\n",
      "[started] 5500 3.5 0.0 0.0 1.12 0.0 0.0 0.0 0\n",
      "[finished] 5500 3.0 0.5 0.4 1.41 0.0 0.0 0.0 0\n",
      "[started] 5500 3.5 0.0 0.4 1.12 0.0 0.0 0.0 0\n",
      "[finished] 5500 3.5 -1.0 0.0 1.08 0.0 0.0 0.0 0\n",
      "[started] 5500 3.5 0.25 0.0 1.13 0.0 0.0 0.0 0\n",
      "[finished] 5500 3.5 -1.0 0.4 1.08 0.0 0.0 0.0 0\n",
      "[started] 5500 3.5 0.25 0.4 1.13 0.0 0.0 0.0 0\n",
      "[finished] 5500 3.5 -0.75 0.0 1.09 0.0 0.0 0.0 0\n",
      "[started] 5500 3.5 0.5 0.0 1.15 0.0 0.0 0.0 0\n",
      "[finished] 5500 3.5 -0.75 0.4 1.09 0.0 0.0 0.0 0\n",
      "[started] 5500 3.5 0.5 0.4 1.15 0.0 0.0 0.0 0\n",
      "[finished] 5500 3.5 -0.5 0.0 1.1 0.0 0.0 0.0 0\n",
      "[started] 5500 4.0 -1.0 0.0 1.01 0.0 0.0 0.0 0\n",
      "[finished] 5500 3.5 -0.5 0.4 1.1 0.0 0.0 0.0 0\n",
      "[started] 5500 4.0 -1.0 0.4 1.01 0.0 0.0 0.0 0\n",
      "[finished] 5500 3.5 -0.25 0.0 1.11 0.0 0.0 0.0 0\n",
      "[started] 5500 4.0 -0.75 0.0 1.02 0.0 0.0 0.0 0\n",
      "[finished] 5500 3.5 -0.25 0.4 1.11 0.0 0.0 0.0 0\n",
      "[started] 5500 4.0 -0.75 0.4 1.02 0.0 0.0 0.0 0\n",
      "[finished] 5500 3.5 0.0 0.0 1.12 0.0 0.0 0.0 0\n",
      "[started] 5500 4.0 -0.5 0.0 1.03 0.0 0.0 0.0 0\n",
      "[finished] 5500 3.5 0.0 0.4 1.12 0.0 0.0 0.0 0\n",
      "[started] 5500 4.0 -0.5 0.4 1.03 0.0 0.0 0.0 0\n",
      "[finished] 5500 3.5 0.25 0.0 1.13 0.0 0.0 0.0 0\n",
      "[started] 5500 4.0 -0.25 0.0 1.04 0.0 0.0 0.0 0\n",
      "[finished] 5500 3.5 0.25 0.4 1.13 0.0 0.0 0.0 0\n",
      "[started] 5500 4.0 -0.25 0.4 1.04 0.0 0.0 0.0 0\n",
      "[finished] 5500 3.5 0.5 0.0 1.15 0.0 0.0 0.0 0\n",
      "[started] 5500 4.0 0.0 0.0 1.05 0.0 0.0 0.0 0\n",
      "[finished] 5500 3.5 0.5 0.4 1.15 0.0 0.0 0.0 0\n",
      "[started] 5500 4.0 0.0 0.4 1.05 0.0 0.0 0.0 0\n",
      "[finished] 5500 4.0 -1.0 0.0 1.01 0.0 0.0 0.0 0\n",
      "[started] 5500 4.0 0.25 0.0 1.06 0.0 0.0 0.0 0\n",
      "[finished] 5500 4.0 -0.75 0.4 1.02 0.0 0.0 0.0 0\n",
      "[started] 5500 4.0[finished]  0.255500  0.44.0  -1.0 0.4 1.061.01 0.0 0.0  0.0 0\n",
      "0.0 0.0 0.0 0\n",
      "[started] 5500 4.0 0.5 0.0 1.08 0.0 0.0 0.0 0\n",
      "[finished] 5500 4.0 -0.75 0.0 1.02 0.0 0.0 0.0 0\n",
      "[started] 5500 4.0 0.5 0.4 1.08 0.0 0.0 0.0 0\n",
      "[finished] 5500 4.0 -0.5 0.0 1.03 0.0 0.0 0.0 0\n",
      "[started] 5500 4.5 -1.0 0.0 0.94 0.0 0.0 0.0 0\n",
      "[finished] 5500 4.0 -0.5 0.4 1.03 0.0 0.0 0.0 0\n",
      "[started] 5500 4.5 -1.0 0.4 0.94 0.0 0.0 0.0 0\n",
      "[finished] 5500 4.0 -0.25 0.0 1.04 0.0 0.0 0.0 0\n",
      "[started] 5500 4.5 -0.75 0.0 0.95 0.0 0.0 0.0 0\n",
      "[finished] 5500 4.0 0.0 0.0 1.05 0.0 0.0 0.0 0\n",
      "[started] 5500 4.5 -0.75 0.4 0.95 0.0 0.0 0.0 0\n"
     ]
    },
    {
     "name": "stdout",
     "output_type": "stream",
     "text": [
      "[finished] 5500 4.0 -0.25 0.4 1.04 0.0 0.0 0.0 0\n",
      "[started] 5500 4.5 -0.5 0.0 0.96 0.0 0.0 0.0 0\n",
      "[finished] 5500 4.0 0.0 0.4 1.05 0.0 0.0 0.0 0\n",
      "[started] 5500 4.5 -0.5 0.4 0.96 0.0 0.0 0.0 0\n",
      "[finished] 5500 4.0 0.25 0.0 1.06 0.0 0.0 0.0 0\n",
      "[started] 5500 4.5 -0.25 0.0 0.97 0.0 0.0 0.0 0\n",
      "[finished] 5500 4.0 0.5 0.4 1.08 0.0 0.0 0.0 0\n",
      "[started] 5500 4.5 -0.25 0.4 0.97 0.0 0.0 0.0 0\n",
      "[finished] 5500 4.0 0.5 0.0 1.08 0.0 0.0 0.0 0\n",
      "[started] 5500 4.5 0.0 0.0 0.98 0.0 0.0 0.0 0\n",
      "[finished] 5500 4.0 0.25 0.4 1.06 0.0 0.0 0.0 0\n",
      "[started] 5500 4.5 0.0 0.4 0.98 0.0 0.0 0.0 0\n",
      "[finished] 5500 4.5 -1.0 0.4 0.94 0.0 0.0 0.0 0\n",
      "[started] 5500 4.5 0.25 0.0 0.99 0.0 0.0 0.0 0\n",
      "[finished] 5500 4.5 -1.0 0.0 0.94 0.0 0.0 0.0 0\n",
      "[started] 5500 4.5 0.25 0.4 0.99 0.0 0.0 0.0 0\n",
      "[finished] 5500 4.5 -0.75 0.4 0.95 0.0 0.0 0.0 0\n",
      "[started] 5500 4.5 0.5 0.0 1.01 0.0 0.0 0.0 0\n",
      "[finished] 5500 4.5 -0.5 0.0 0.96 0.0 0.0 0.0 0\n",
      "[started] 5500 4.5 0.5 0.4 1.01 0.0 0.0 0.0 0\n",
      "[finished] 5500 4.5 -0.75 0.0 0.95 0.0 0.0 0.0 0\n",
      "[started] 5500 5.0 -1.0 0.0 0.86 0.0 0.0 0.0 0\n",
      "[finished] 5500 4.5 -0.5 0.4 0.96 0.0 0.0 0.0 0\n",
      "[started] 5500 5.0 -1.0 0.4 0.86 0.0 0.0 0.0 0\n",
      "[finished] 5500 4.5 -0.25 0.0 0.97 0.0 0.0 0.0 0\n",
      "[started] 5500 5.0 -0.75 0.0 0.87 0.0 0.0 0.0 0\n",
      "[finished] 5500 4.5 0.0 0.0 0.98 0.0 0.0 0.0 0\n",
      "[started] 5500 5.0 -0.75 0.4 0.87 0.0 0.0 0.0 0\n",
      "[finished] 5500 4.5 -0.25 0.4 0.97 0.0 0.0 0.0 0\n",
      "[started] 5500 5.0 -0.5 0.0 0.88 0.0 0.0 0.0 0\n",
      "[finished] 5500 4.5 0.0 0.4 0.98 0.0 0.0 0.0 0\n",
      "[started] 5500 5.0 -0.5 0.4 0.88 0.0 0.0 0.0 0\n",
      "[finished] 5500 4.5 0.25 0.0 0.99 0.0 0.0 0.0 0\n",
      "[started] 5500 5.0 -0.25 0.0 0.89 0.0 0.0 0.0 0\n",
      "[finished] 5500 4.5 0.25 0.4 0.99 0.0 0.0 0.0 0\n",
      "[started] 5500 5.0 -0.25 0.4 0.89 0.0 0.0 0.0 0\n",
      "[finished] 5500 4.5 0.5 0.0 1.01 0.0 0.0 0.0 0\n",
      "[started] 5500 5.0 0.0 0.0 0.91 0.0 0.0 0.0 0\n",
      "[finished] 5500 5.0 -1.0 0.0 0.86 0.0 0.0 0.0 0\n",
      "[started] 5500 5.0 0.0 0.4 0.91 0.0 0.0 0.0 0\n",
      "[finished] 5500 4.5 0.5 0.4 1.01 0.0 0.0 0.0 0\n",
      "[started] 5500 5.0 0.25 0.0 0.92 0.0 0.0 0.0 0\n",
      "[finished] 5500 5.0 -1.0 0.4 0.86 0.0 0.0 0.0 0\n",
      "[started] 5500 5.0 0.25 0.4 0.92 0.0 0.0 0.0 0\n",
      "[finished] 5500 5.0 -0.75 0.0 0.87 0.0 0.0 0.0 0\n",
      "[started] 5500 5.0 0.5 0.0 0.93 0.0 0.0 0.0 0\n",
      "[finished] 5500 5.0 -0.5 0.0 0.88 0.0 0.0 0.0 0\n",
      "[started] 5500 5.0 0.5 0.4 0.93 0.0 0.0 0.0 0\n",
      "[finished] 5500 5.0 -0.75 0.4 0.87 0.0 0.0 0.0 0\n",
      "[started] 5750 3.0 -1.0 0.0 1.46 0.0 0.0 0.0 0\n",
      "[finished] 5500 5.0 -0.5 0.4 0.88 0.0 0.0 0.0 0\n",
      "[started] 5750 3.0 -1.0 0.4 1.46 0.0 0.0 0.0 0\n",
      "[finished] 5500 5.0 -0.25 0.0 0.89 0.0 0.0 0.0 0\n",
      "[started] 5750 3.0 -0.75 0.0 1.47 0.0 0.0 0.0 0\n",
      "[finished] 5500 5.0 -0.25 0.4 0.89 0.0 0.0 0.0 0\n",
      "[started] 5750 3.0 -0.75 0.4 1.47 0.0 0.0 0.0 0\n",
      "[finished] 5500 5.0 0.0 0.0 0.91 0.0 0.0 0.0 0\n",
      "[started] 5750 3.0 -0.5 0.0 1.48 0.0 0.0 0.0 0\n",
      "[finished] 5500 5.0 0.0 0.4 0.91 0.0 0.0 0.0 0\n",
      "[started] 5750 3.0 -0.5 0.4 1.48 0.0 0.0 0.0 0\n",
      "[finished] 5500 5.0 0.25 0.4 0.92 0.0 0.0 0.0 0\n",
      "[started] 5750 3.0 -0.25 0.0 1.49 0.0 0.0 0.0 0\n",
      "[finished] 5500 5.0 0.25 0.0 0.92 0.0 0.0 0.0 0\n",
      "[started] 5750 3.0 -0.25 0.4 1.49 0.0 0.0 0.0 0\n",
      "[finished] 5500 5.0 0.5 0.0 0.93 0.0 0.0 0.0 0\n",
      "[started] 5750 3.0 0.0 0.0 1.5 0.0 0.0 0.0 0\n",
      "[finished] 5750 3.0 -1.0 0.0 1.46 0.0 0.0 0.0 0\n",
      "[started] 5750 3.0 0.0 0.4 1.5 0.0 0.0 0.0 0\n",
      "[finished] 5500 5.0 0.5 0.4 0.93 0.0 0.0 0.0 0\n",
      "[started] 5750 3.0 0.25 0.0 1.52 0.0 0.0 0.0 0\n",
      "[finished] 5750 3.0 -1.0 0.4 1.46 0.0 0.0 0.0 0\n",
      "[started] 5750 3.0 0.25 0.4 1.52 0.0 0.0 0.0 0\n",
      "[finished] 5750 3.0 -0.75 0.0 1.47 0.0 0.0 0.0 0\n",
      "[started] 5750 3.0 0.5 0.0 1.53 0.0 0.0 0.0 0\n",
      "[finished] 5750 3.0 -0.5 0.0 1.48 0.0 0.0 0.0 0\n",
      "[started] 5750 3.0 0.5 0.4 1.53 0.0 0.0 0.0 0\n",
      "[finished] 5750 3.0 -0.5 0.4 1.48 0.0 0.0 0.0 0\n",
      "[started] 5750 3.5 -1.0 0.0 1.15 0.0 0.0 0.0 0\n",
      "[finished] 5750 3.0 -0.25 0.0 1.49 0.0 0.0 0.0 0\n",
      "[finished] 5750 3.0 -0.25 0.4 1.49 0.0 0.0 0.0 0\n",
      "[started] 5750 3.5 -1.0 0.4 1.15 0.0 0.0 0.0 0\n",
      "[started] 5750 3.5 -0.75 0.0 1.16 0.0 0.0 0.0 0\n",
      "[finished] 5750 3.0 -0.75 0.4 1.47 0.0 0.0 0.0 0\n",
      "[started] 5750 3.5 -0.75 0.4 1.16 0.0 0.0 0.0 0\n",
      "[finished] 5750 3.0 0.0 0.0 1.5 0.0 0.0 0.0 0\n",
      "[started] 5750 3.5 -0.5 0.0 1.17 0.0 0.0 0.0 0\n",
      "[finished] 5750 3.0 0.0 0.4 1.5 0.0 0.0 0.0 0\n",
      "[started] 5750 3.5 -0.5 0.4 1.17 0.0 0.0 0.0 0\n",
      "[finished] 5750 3.0 0.25 0.0 1.52 0.0 0.0 0.0 0\n",
      "[started] 5750 3.5 -0.25 0.0 1.18 0.0 0.0 0.0 0\n",
      "[finished] 5750 3.0 0.25 0.4 1.52 0.0 0.0 0.0 0\n",
      "[started] 5750 3.5 -0.25 0.4 1.18 0.0 0.0 0.0 0\n",
      "[finished] 5750 3.0 0.5 0.0 1.53 0.0 0.0 0.0 0\n",
      "[started] 5750 3.5 0.0 0.0 1.19 0.0 0.0 0.0 0\n",
      "[finished] 5750 3.5 -1.0 0.0 1.15 0.0 0.0 0.0 0\n",
      "[started] 5750 3.5 0.0 0.4 1.19 0.0 0.0 0.0 0\n",
      "[finished] 5750 3.0 0.5 0.4 1.53 0.0 0.0 0.0 0\n",
      "[started] 5750 3.5 0.25 0.0 1.2 0.0 0.0 0.0 0\n",
      "[finished] 5750 3.5 -0.75 0.0 1.16 0.0 0.0 0.0 0\n",
      "[started] 5750 3.5 0.25 0.4 1.2 0.0 0.0 0.0 0\n",
      "[finished] 5750 3.5 -1.0 0.4 1.15 0.0 0.0 0.0 0\n",
      "[started] 5750 3.5 0.5 0.0 1.22 0.0 0.0 0.0 0\n",
      "[finished] 5750 3.5 -0.75 0.4 1.16 0.0 0.0 0.0 0\n",
      "[started] 5750 3.5 0.5 0.4 1.22 0.0 0.0 0.0 0\n",
      "[finished] 5750 3.5 -0.5 0.0 1.17 0.0 0.0 0.0 0\n",
      "[started] 5750 4.0 -1.0 0.0 1.08 0.0 0.0 0.0 0\n",
      "[finished] 5750 3.5 -0.5 0.4 1.17 0.0 0.0 0.0 0\n",
      "[started] 5750 4.0 -1.0 0.4 1.08 0.0 0.0 0.0 0\n",
      "[finished] 5750 3.5 -0.25 0.0 1.18 0.0 0.0 0.0 0\n",
      "[started] 5750 4.0 -0.75 0.0 1.09 0.0 0.0 0.0 0\n",
      "[finished] 5750 3.5 -0.25 0.4 1.18 0.0 0.0 0.0 0\n",
      "[started] 5750 4.0 -0.75 0.4 1.09 0.0 0.0 0.0 0\n",
      "[finished] 5750 3.5 0.0 0.4 1.19 0.0 0.0 0.0 0\n",
      "[started] 5750 4.0 -0.5 0.0 1.1 0.0 0.0 0.0 0\n",
      "[finished] 5750 3.5 0.0 0.0 1.19 0.0 0.0 0.0 0\n",
      "[started] 5750 4.0 -0.5 0.4 1.1 0.0 0.0 0.0 0\n",
      "[finished] 5750 3.5 0.5 0.0 1.22 0.0 0.0 0.0 0\n",
      "[finished] 5750 3.5 0.25 0.0 1.2 0.0 0.0 [started]0.0 5750  04.0\n",
      " -0.25 0.0 1.11 0.0 0.0 0.0 0\n",
      "[started] 5750 4.0 -0.25 0.4 1.11 0.0 0.0 0.0 0\n",
      "[finished] 5750 3.5 0.25 0.4 1.2 0.0 0.0 0.0 0\n",
      "[started] 5750 4.0 0.0 0.0 1.12 0.0 0.0 0.0 0\n",
      "[finished] 5750 4.0 -1.0 0.0 1.08 0.0 0.0 0.0 0\n",
      "[started] 5750 4.0 0.0 0.4 1.12 0.0 0.0 0.0 0\n",
      "[finished] 5750 3.5 0.5 0.4 1.22 0.0 0.0 0.0 0\n",
      "[started] 5750 4.0 0.25 0.0 1.14 0.0 0.0 0.0 0\n",
      "[finished] 5750 4.0 -1.0 0.4 1.08 0.0 0.0 0.0 0\n",
      "[started] 5750 4.0 0.25 0.4 1.14 0.0 0.0 0.0 0\n",
      "[finished] 5750 4.0 -0.75 0.0 1.09 0.0 0.0 0.0 0\n",
      "[started] 5750 4.0 0.5 0.0 1.15 0.0 0.0 0.0 0\n",
      "[finished] 5750 4.0 -0.75 0.4 1.09 0.0 0.0 0.0 0\n",
      "[started] 5750 4.0 0.5 0.4 1.15 0.0 0.0 0.0 0\n",
      "[finished] 5750 4.0 -0.5 0.4 1.1 0.0 0.0 0.0 0\n",
      "[started] 5750 4.5 -1.0 0.0 1.01 0.0 0.0 0.0 0\n",
      "[finished] 5750 4.0 -0.5 0.0 1.1 0.0 0.0 0.0 0\n",
      "[started] 5750 4.5 -1.0 0.4 1.01 0.0 0.0 0.0 0\n",
      "[finished] 5750 4.0 -0.25 0.4 1.11 0.0 0.0 0.0 0\n",
      "[finished] [started]5750  5750 4.5 4.0 -0.75-0.25  0.00.0 1.02  0.0 1.110.0 0.0  0.00.0  00.0\n",
      " 0\n",
      "[started] 5750 4.5 -0.75 0.4 1.02 0.0 0.0 0.0 0\n",
      "[finished] 5750 4.0 0.0 0.0 1.12 0.0 0.0 0.0 0\n",
      "[started] 5750 4.5 -0.5 0.0 1.03 0.0 0.0 0.0 0\n",
      "[finished] 5750 4.0 0.0 0.4 1.12 0.0 0.0 0.0 0\n",
      "[started] 5750 4.5 -0.5 0.4 1.03 0.0 0.0 0.0 0\n",
      "[finished] 5750 4.0 0.25 0.0 1.14 0.0 0.0 0.0 0\n",
      "[started] 5750 4.5 -0.25 0.0 1.04 0.0 0.0 0.0 0\n",
      "[finished] 5750 4.0 0.25 0.4 1.14 0.0 0.0 0.0 0\n",
      "[started] 5750 4.5 -0.25 0.4 1.04 0.0 0.0 0.0 0\n",
      "[finished] 5750 4.0 0.5 0.0 1.15 0.0 0.0 0.0 0\n",
      "[started] 5750 4.5 0.0 0.0 1.05 0.0 0.0 0.0 0\n",
      "[finished] 5750 4.0 0.5 0.4 1.15 0.0 0.0 0.0 0\n",
      "[started] 5750 4.5 0.0 0.4 1.05 0.0 0.0 0.0 0\n",
      "[finished] 5750 4.5 -1.0 0.0 1.01 0.0 0.0 0.0 0\n",
      "[started] 5750 4.5 0.25 0.0 1.06 0.0 0.0 0.0 0\n",
      "[finished] 5750 4.5 -1.0 0.4 1.01 0.0 0.0 0.0 0\n",
      "[started] 5750 4.5 0.25 0.4 1.06 0.0 0.0 0.0 0\n",
      "[finished] 5750 4.5 -0.75 0.0 1.02 0.0 0.0 0.0 0\n",
      "[started] 5750 4.5 0.5 0.0 1.08 0.0 0.0 0.0 0\n",
      "[finished] 5750 4.5 -0.75 0.4 1.02 0.0 0.0 0.0 0\n",
      "[started] 5750 4.5 0.5 0.4 1.08 0.0 0.0 0.0 0\n",
      "[finished] 5750 4.5 -0.5 0.0 1.03 0.0 0.0 0.0 0\n",
      "[started] 5750 5.0 -1.0 0.0 0.94 0.0 0.0 0.0 0\n",
      "[finished] 5750 4.5 -0.5 0.4 1.03 0.0 0.0 0.0 0\n",
      "[started] 5750 5.0 -1.0 0.4 0.94 0.0 0.0 0.0 0\n",
      "[finished] 5750 4.5 -0.25 0.0 1.04 0.0 0.0 0.0 0\n",
      "[started] 5750 5.0 -0.75 0.0 0.95 0.0 0.0 0.0 0\n",
      "[finished] 5750 4.5 -0.25 0.4 1.04 0.0 0.0 0.0 0\n",
      "[started] 5750 5.0 -0.75 0.4 0.95 0.0 0.0 0.0 0\n",
      "[finished] 5750 4.5 0.0 0.0 1.05 0.0 0.0 0.0 0\n",
      "[started] 5750 5.0 -0.5 0.0 0.95 0.0 0.0 0.0 0\n",
      "[finished] 5750 4.5 0.0 0.4 1.05 0.0 0.0 0.0 0\n",
      "[started] 5750 5.0 -0.5 0.4 0.95 0.0 0.0 0.0 0\n"
     ]
    },
    {
     "name": "stdout",
     "output_type": "stream",
     "text": [
      "[finished] 5750 4.5 0.25 0.0 1.06 0.0 0.0 0.0 0\n",
      "[started] 5750 5.0 -0.25 0.0 0.97 0.0 0.0 0.0 0\n",
      "[finished] 5750 4.5 0.25 0.4 1.06 0.0 0.0 0.0 0\n",
      "[started] 5750 5.0 -0.25 0.4 0.97 0.0 0.0 0.0 0\n",
      "[finished] 5750 4.5 0.5 0.0 1.08 0.0 0.0 0.0 0\n",
      "[started] 5750 5.0 0.0 0.0 0.98 0.0 0.0 0.0 0\n",
      "[finished] 5750 4.5 0.5 0.4 1.08 0.0 0.0 0.0 0\n",
      "[started] 5750 5.0 0.0 0.4 0.98 0.0 0.0 0.0 0\n",
      "[finished] 5750 5.0 -1.0 0.0 0.94 0.0 0.0 0.0 0\n",
      "[started] 5750 5.0 0.25 0.0 0.99 0.0 0.0 0.0 0\n",
      "[finished] 5750 5.0 -1.0 0.4 0.94 0.0 0.0 0.0 0\n",
      "[started] 5750 5.0 0.25 0.4 0.99 0.0 0.0 0.0 0\n",
      "[finished] 5750 5.0 -0.75 0.0 0.95 0.0 0.0 0.0 0\n",
      "[started] 5750 5.0 0.5 0.0 1.0 0.0 0.0 0.0 0\n",
      "[finished] 5750 5.0 -0.75 0.4 0.95 0.0 0.0 0.0 0\n",
      "[started] 5750 5.0 0.5 0.4 1.0 0.0 0.0 0.0 0\n",
      "[finished] 5750 5.0 -0.5 0.0 0.95 0.0 0.0 0.0 0\n",
      "[started] 6000 3.0 -1.0 0.0 1.62 0.0 0.0 0.0 0\n",
      "[finished] 5750 5.0 -0.5 0.4 0.95 0.0 0.0 0.0 0\n",
      "[started] 6000 3.0 -1.0 0.4 1.62 0.0 0.0 0.0 0\n",
      "[finished] 5750 5.0 -0.25 0.0 0.97 0.0 0.0 0.0 0\n",
      "[started] 6000 3.0 -0.75 0.0 1.63 0.0 0.0 0.0 0\n",
      "[finished] 5750 5.0 -0.25 0.4 0.97 0.0 0.0 0.0 0\n",
      "[started] 6000 3.0 -0.75 0.4 1.63 0.0 0.0 0.0 0\n",
      "[finished] 5750 5.0 0.0 0.4 0.98 0.0 0.0 0.0 0\n",
      "[started] 6000 3.0 -0.5 0.0 1.64 0.0 0.0 0.0 0\n",
      "[finished] 5750 5.0 0.0 0.0 0.98 0.0 0.0 0.0 0\n",
      "[started] 6000 3.0 -0.5 0.4 1.64 0.0 0.0 0.0 0\n",
      "[finished] 5750 5.0 0.25 0.0 0.99 0.0 0.0 0.0 0\n",
      "[started] 6000 3.0 -0.25 0.0 1.65 0.0 0.0 0.0 0\n",
      "[finished] 5750 5.0 0.25 0.4 0.99 0.0 0.0 0.0 0\n",
      "[started] 6000 3.0 -0.25 0.4 1.65 0.0 0.0 0.0 0\n",
      "[finished] 5750 5.0 0.5 0.0 1.0 0.0 0.0 0.0 0\n",
      "[started] 6000 3.0 0.0 0.0 1.66 0.0 0.0 0.0 0\n",
      "[finished] 5750 5.0 0.5 0.4 1.0 0.0 0.0 0.0 0\n",
      "[started] 6000 3.0 0.0 0.4 1.66 0.0 0.0 0.0 0\n",
      "[finished] 6000 3.0 -1.0 0.0 1.62 0.0 0.0 0.0 0\n",
      "[started] 6000 3.0 0.25 0.0 1.68 0.0 0.0 0.0 0\n",
      "[finished] 6000 3.0 -1.0 0.4 1.62 0.0 0.0 0.0 0\n",
      "[started] 6000 3.0 0.25 0.4 1.68 0.0 0.0 0.0 0\n",
      "[finished] 6000 3.0 -0.75 0.0 1.63 0.0 0.0 0.0 0\n",
      "[started] 6000 3.0 0.5 0.0 1.69 0.0 0.0 0.0 0\n",
      "[finished] 6000 3.0 -0.75 0.4 1.63 0.0 0.0 0.0 0\n",
      "[started] 6000 3.0 0.5 0.4 1.69 0.0 0.0 0.0 0\n",
      "[finished] 6000 3.0 -0.5 0.0 1.64 0.0 0.0 0.0 0\n",
      "[started] 6000 3.5 -1.0 0.0 1.24 0.0 0.0 0.0 0\n",
      "[finished] 6000 3.0 -0.5 0.4 1.64 0.0 0.0 0.0 0\n",
      "[started] 6000 3.5 -1.0 0.4 1.24 0.0 0.0 0.0 0\n",
      "[finished] 6000 3.0 -0.25 0.0 1.65 0.0 0.0 0.0 0\n",
      "[started] 6000 3.5 -0.75 0.0 1.25 0.0 0.0 0.0 0\n",
      "[finished] 6000 3.0 -0.25 0.4 1.65 0.0 0.0 0.0 0\n",
      "[started] 6000 3.5 -0.75 0.4 1.25 0.0 0.0 0.0 0\n",
      "[finished] 6000 3.0 0.0 0.0 1.66 0.0 0.0 0.0 0\n",
      "[started] 6000 3.5 -0.5 0.0 1.26 0.0 0.0 0.0 0\n",
      "[finished] 6000 3.0 0.0 0.4 1.66 0.0 0.0 0.0 0\n",
      "[started] 6000 3.5 -0.5 0.4 1.26 0.0 0.0 0.0 0\n",
      "[finished] 6000 3.0 0.25 0.0 1.68 0.0 0.0 0.0 0\n",
      "[started] 6000 3.5 -0.25 0.0 1.27 0.0 0.0 0.0 0\n",
      "[finished] 6000 3.0 0.5 0.0 1.69 0.0 0.0 0.0 0\n",
      "[started] 6000 3.5 -0.25 0.4 1.27 0.0 0.0 0.0 0\n",
      "[finished] 6000 3.0 0.25 0.4 1.68 0.0 0.0 0.0 0\n",
      "[started] 6000 3.5 0.0 0.0 1.28 0.0 0.0 0.0 0\n",
      "[finished] 6000 3.0 0.5 0.4 1.69 0.0 0.0 0.0 0\n",
      "[started] 6000 3.5 0.0 0.4 1.28 0.0 0.0 0.0 0\n",
      "[finished] 6000 3.5 -1.0 0.4 1.24 0.0 0.0 0.0 0\n",
      "[started] 6000 3.5 0.25 0.0 1.29 0.0 0.0 0.0 0\n",
      "[finished][finished]  6000 60003.5  -0.753.5 0.0  1.25 0.0 0.0 -1.00.0  00.0\n",
      " 1.24 0.0 0.0 0.0 0\n",
      "[started] 6000 3.5 0.25 0.4 1.29 0.0 0.0 0.0 0\n",
      "[started] 6000 3.5 0.5 0.0 1.31 0.0 0.0 0.0 0\n",
      "[finished] 6000 3.5 -0.75 0.4 1.25 0.0 0.0 0.0 0\n",
      "[started] 6000 3.5 0.5 0.4 1.31 0.0 0.0 0.0 0\n",
      "[finished] 6000 3.5 -0.5 0.0 1.26 0.0 0.0 0.0 0\n",
      "[started] 6000 4.0 -1.0 0.0 1.17 0.0 0.0 0.0 0\n",
      "[finished] 6000 3.5 -0.5 0.4 1.26 0.0 0.0 0.0 0\n",
      "[started] 6000 4.0 -1.0 0.4 1.17 0.0 0.0 0.0 0\n",
      "[finished] 6000 3.5 -0.25 0.0 1.27 0.0 0.0 0.0 0\n",
      "[started] 6000 4.0 -0.75 0.0 1.18 0.0 0.0 0.0 0\n",
      "[finished] 6000 3.5 0.0 0.0 1.28 0.0 0.0 0.0 0\n",
      "[started] 6000 4.0 -0.75 0.4 1.18 0.0 0.0 0.0 0\n",
      "[finished] 6000 3.5 -0.25 0.4 1.27 0.0 0.0 0.0 0\n",
      "[started] 6000 4.0 -0.5 0.0 1.19 0.0 0.0 0.0 0\n",
      "[finished] 6000 3.5 0.5 0.0 1.31 0.0 0.0 0.0 0\n",
      "[started] 6000 4.0 -0.5 0.4 1.19 0.0 0.0 0.0 0\n",
      "[finished] 6000 3.5 0.0 0.4 1.28 0.0 0.0 0.0 0\n",
      "[started] 6000 4.0 -0.25 0.0 1.2 0.0 0.0 0.0 0\n",
      "[finished] 6000 3.5 0.25 0.0 1.29 0.0 0.0 0.0 0\n",
      "[started] 6000 4.0 -0.25 0.4 1.2 0.0 0.0 0.0 0\n",
      "[finished] 6000 3.5 0.25 0.4 1.29 0.0 0.0 0.0 0\n",
      "[started] 6000 4.0 0.0 0.0 1.21 0.0 0.0 0.0 0\n",
      "[finished] 6000 3.5 0.5 0.4 1.31 0.0 0.0 0.0 0\n",
      "[started] 6000 4.0 0.0 0.4 1.21 0.0 0.0 0.0 0\n",
      "[finished] 6000 4.0 -1.0 0.0 1.17 0.0 0.0 0.0 0\n",
      "[started] 6000 4.0 0.25 0.0 1.23 0.0 0.0 0.0 0\n",
      "[finished] 6000 4.0 -0.75 0.0 1.18 0.0 0.0 0.0 0\n",
      "[started] 6000 4.0 0.25 0.4 1.23 0.0 0.0 0.0 0\n",
      "[finished] 6000 4.0 -1.0 0.4 1.17 0.0 0.0 0.0 0\n",
      "[started] 6000 4.0 0.5 0.0 1.24 0.0 0.0 0.0 0\n",
      "[finished] 6000 4.0 -0.75 0.4 1.18 0.0 0.0 0.0 0\n",
      "[started] 6000 4.0 0.5 0.4 1.24 0.0 0.0 0.0 0\n",
      "[finished] 6000 4.0 -0.5 0.0 1.19 0.0 0.0 0.0 0\n",
      "[started] 6000 4.5 -1.0 0.0 1.1 0.0 0.0 0.0 0\n",
      "[finished] 6000 4.0 -0.5 0.4 1.19 0.0 0.0 0.0 0\n",
      "[started] 6000 4.5 -1.0 0.4 1.1 0.0 0.0 0.0 0\n",
      "[finished] 6000 4.0 -0.25 0.4 1.2 0.0 0.0 0.0 0\n",
      "[started] 6000 4.5 -0.75 0.0 1.11 0.0 0.0 0.0 0\n",
      "[finished] 6000 4.0 -0.25 0.0 1.2 0.0 0.0 0.0 0\n",
      "[started] 6000 4.5 -0.75 0.4 1.11 0.0 0.0 0.0 0\n",
      "[finished] 6000 4.0 0.0 0.0 1.21 0.0 0.0 0.0 0\n",
      "[started] 6000 4.5 -0.5 0.0 1.12 0.0 0.0 0.0 0\n",
      "[finished] 6000 4.0 0.0 0.4 1.21 0.0 0.0 0.0 0\n",
      "[started] 6000 4.5 -0.5 0.4 1.12 0.0 0.0 0.0 0\n",
      "[finished] 6000 4.0 0.25 0.0 1.23 0.0 0.0 0.0 0\n",
      "[started] 6000 4.5 -0.25 0.0 1.13 0.0 0.0 0.0 0\n",
      "[finished] 6000 4.0 0.25 0.4 1.23 0.0 0.0 0.0 0\n",
      "[started] 6000 4.5 -0.25 0.4 1.13 0.0 0.0 0.0 0\n",
      "[finished] 6000 4.0 0.5 0.0 1.24 0.0 0.0 0.0 0\n",
      "[started] 6000 4.5 0.0 0.0 1.14 0.0 0.0 0.0 0\n",
      "[finished] 6000 4.0 0.5 0.4 1.24 0.0 0.0 0.0 0\n",
      "[started] 6000 4.5 0.0 0.4 1.14 0.0 0.0 0.0 0\n",
      "[finished] 6000 4.5 -1.0 0.0 1.1 0.0 0.0 0.0 0\n",
      "[started] 6000 4.5 0.25 0.0 1.15 0.0 0.0 0.0 0\n",
      "[finished] 6000 4.5 -0.75 0.0 1.11 0.0 0.0 0.0 0\n",
      "[started] 6000 4.5 0.25 0.4 1.15 0.0 0.0 0.0 0\n",
      "[finished] 6000 4.5 -0.75 0.4 1.11 0.0 0.0 0.0 0\n",
      "[started] 6000 4.5 0.5 0.0 1.17 0.0 0.0 0.0 0\n",
      "[finished] 6000 4.5 -1.0 0.4 1.1 0.0 0.0 0.0 0\n",
      "[started] 6000 4.5 0.5 0.4 1.17 0.0 0.0 0.0 0\n",
      "[finished] 6000 4.5 -0.5 0.0 1.12 0.0 0.0 0.0 0\n",
      "[started] 6000 5.0 -1.0 0.0 1.03 0.0 0.0 0.0 0\n",
      "[finished] 6000 4.5 -0.5 0.4 1.12 0.0 0.0 0.0 0\n",
      "[started] 6000 5.0 -1.0 0.4 1.03 0.0 0.0 0.0 0\n",
      "[finished] 6000 4.5 -0.25 0.0 1.13 0.0 0.0 0.0 0\n",
      "[started] 6000 5.0 -0.75 0.0 1.04 0.0 0.0 0.0 0\n",
      "[finished] 6000 4.5 -0.25 0.4 1.13 0.0 0.0 0.0 0\n",
      "[started] 6000 5.0 -0.75 0.4 1.04 0.0 0.0 0.0 0\n",
      "[finished] 6000 4.5 0.0 0.0 1.14 0.0 0.0 0.0 0\n",
      "[started] 6000 5.0 -0.5 0.0 1.05 0.0 0.0 0.0 0\n",
      "[finished] 6000 4.5 0.0 0.4 1.14 0.0 0.0 0.0 0\n",
      "[started] 6000 5.0 -0.5 0.4 1.05 0.0 0.0 0.0 0\n",
      "[finished] 6000 4.5 0.25 0.0 1.15 0.0 0.0 0.0 0\n",
      "[started] 6000 5.0 -0.25 0.0 1.06 0.0 0.0 0.0 0\n",
      "[finished] 6000 4.5 0.25 0.4 1.15 0.0 0.0 0.0 0\n",
      "[started] 6000 5.0 -0.25 0.4 1.06 0.0 0.0 0.0 0\n",
      "[finished] 6000 4.5 0.5 0.0 1.17 0.0 0.0 0.0 0\n",
      "[started] 6000 5.0 0.0 0.0 1.07 0.0 0.0 0.0 0\n",
      "[finished] 6000 4.5 0.5 0.4 1.17 0.0 0.0 0.0 0\n",
      "[started] 6000 5.0 0.0 0.4 1.07 0.0 0.0 0.0 0\n",
      "[finished] 6000 5.0 -1.0 0.0 1.03 0.0 0.0 0.0 0\n",
      "[started] 6000 5.0 0.25 0.0 1.08 0.0 0.0 0.0 0\n",
      "[finished] 6000 5.0 -1.0 0.4 1.03 0.0 0.0 0.0 0\n",
      "[started] 6000 5.0 0.25 0.4 1.08 0.0 0.0 0.0 0\n",
      "[finished] 6000 5.0 -0.75 0.0 1.04 0.0 0.0 0.0 0\n",
      "[started] 6000 5.0 0.5 0.0 1.1 0.0 0.0 0.0 0\n",
      "[finished] 6000 5.0 -0.75 0.4 1.04 0.0 0.0 0.0 0\n",
      "[started] 6000 5.0 0.5 0.4 1.1 0.0 0.0 0.0 0\n",
      "[finished] 6000 5.0 -0.5 0.0 1.05 0.0 0.0 0.0 0\n",
      "[started] 6250 3.0 -1.0 0.0 1.82 0.0 0.0 0.0 0\n",
      "[finished] 6000 5.0 -0.5 0.4 1.05 0.0 0.0 0.0 0\n",
      "[started] 6250 3.0 -1.0 0.4 1.82 0.0 0.0 0.0 0\n",
      "[finished] 6000 5.0 -0.25 0.0 1.06 0.0 0.0 0.0 0\n",
      "[started] 6250 3.0 -0.75 0.0 1.83 0.0 0.0 0.0 0\n",
      "[finished] 6000 5.0 -0.25 0.4 1.06 0.0 0.0 0.0 0\n",
      "[started] 6250 3.0 -0.75 0.4 1.83 0.0 0.0 0.0 0\n",
      "[finished] 6000 5.0 0.0 0.0 1.07 0.0 0.0 0.0 0\n",
      "[started] 6250 3.0 -0.5 0.0 1.84 0.0 0.0 0.0 0\n",
      "[finished] 6000 5.0 0.25 0.0 1.08 0.0 0.0 0.0 0\n",
      "[started] 6250 3.0 -0.5 0.4 1.84 0.0 0.0 0.0 0\n",
      "[finished] 6000 5.0 0.0 0.4 1.07 0.0 0.0 0.0 0\n",
      "[started] 6250 3.0 -0.25 0.0 1.85 0.0 0.0 0.0 0\n",
      "[finished] 6000 5.0 0.25 0.4 1.08 0.0 0.0 0.0 0\n",
      "[started] 6250 3.0 -0.25 0.4 1.85 0.0 0.0 0.0 0\n"
     ]
    },
    {
     "name": "stdout",
     "output_type": "stream",
     "text": [
      "[finished] 6000 5.0 0.5 0.0 1.1 0.0 0.0 0.0 0\n",
      "[started] 6250 3.0 0.0 0.0 1.86 0.0 0.0 0.0 0\n",
      "[finished] 6000 5.0 0.5 0.4 1.1 0.0 0.0 0.0 0\n",
      "[started] 6250 3.0 0.0 0.4 1.86 0.0 0.0 0.0 0\n",
      "[finished] 6250 3.0 -1.0 0.0 1.82 0.0 0.0 0.0 0\n",
      "[started] 6250 3.0 0.25 0.0 1.87 0.0 0.0 0.0 0\n",
      "[finished] 6250 3.0 -1.0 0.4 1.82 0.0 0.0 0.0 0\n",
      "[started] 6250 3.0 0.25 0.4 1.87 0.0 0.0 0.0 0\n",
      "[finished] 6250 3.0 -0.75 0.0 1.83 0.0 0.0 0.0 0\n",
      "[started] 6250 3.0 0.5 0.0 1.89 0.0 0.0 0.0 0\n",
      "[finished] 6250 3.0 -0.75 0.4 1.83 0.0 0.0 0.0 0\n",
      "[started] 6250 3.0 0.5 0.4 1.89 0.0 0.0 0.0 0\n",
      "[finished] 6250 3.0 -0.5 0.4 1.84 0.0 0.0 0.0 0\n",
      "[started] 6250 3.5 -1.0 0.0 1.35 0.0 0.0 0.0 0\n",
      "[finished] 6250 3.0 -0.5 0.0 1.84 0.0 0.0 0.0 0\n",
      "[started] 6250 3.5 -1.0 0.4 1.35 0.0 0.0 0.0 0\n",
      "[finished] 6250 3.0 -0.25 0.0 1.85 0.0 0.0 0.0 0\n",
      "[started] 6250 3.5 -0.75 0.0 1.36 0.0 0.0 0.0 0\n",
      "[finished] 6250 3.0 -0.25 0.4 1.85 0.0 0.0 0.0 0\n",
      "[started] 6250 3.5 -0.75 0.4 1.36 0.0 0.0 0.0 0\n",
      "[finished] 6250 3.0 0.0 0.0 1.86 0.0 0.0 0.0 0\n",
      "[started] 6250 3.5 -0.5 0.0 1.37 0.0 0.0 0.0 0\n",
      "[finished] 6250 3.0 0.0 0.4 1.86 0.0 0.0 0.0 0\n",
      "[started] 6250 3.5 -0.5 0.4 1.37 0.0 0.0 0.0 0\n",
      "[finished] 6250 3.0 0.25 0.0 1.87 0.0 0.0 0.0 0\n",
      "[started] 6250 3.5 -0.25 0.0 1.38 0.0 0.0 0.0 0\n",
      "[finished] 6250 3.0 0.25 0.4 1.87 0.0 0.0 0.0 0\n",
      "[started] 6250 3.5 -0.25 0.4 1.38 0.0 0.0 0.0 0\n",
      "[finished] 6250 3.0 0.5 0.0 1.89 0.0 0.0 0.0 0\n",
      "[started] 6250 3.5 0.0 0.0 1.39 0.0 0.0 0.0 0\n",
      "[finished] 6250 3.0 0.5 0.4 1.89 0.0 0.0 0.0 0\n",
      "[started] 6250 3.5 0.0 0.4 1.39 0.0 0.0 0.0 0\n",
      "[finished] 6250 3.5 -1.0 0.4 1.35 0.0 0.0 0.0 0\n",
      "[started] 6250 3.5 0.25 0.0 1.4 0.0 0.0 0.0 0\n",
      "[finished] 6250 3.5 -0.75 0.0 1.36 0.0 0.0 0.0 0\n",
      "[started] 6250 3.5 0.25 0.4 1.4 [finished]0.0  62500.0  3.5 0.0 -1.00\n",
      " 0.0 1.35 0.0 0.0 0.0 0\n",
      "[started] 6250 3.5 0.5 0.0 1.42 0.0 0.0 0.0 0\n",
      "[finished] 6250 3.5 -0.75 0.4 1.36 0.0 0.0 0.0 0\n",
      "[started] 6250 3.5 0.5 0.4 1.42 0.0 0.0 0.0 0\n",
      "[finished] 6250 3.5 -0.5 0.0 1.37 0.0 0.0 0.0 0\n",
      "[started] 6250 4.0 -1.0 0.0 1.28 0.0 0.0 0.0 0\n",
      "[finished] 6250 3.5 -0.5 0.4 1.37 0.0 0.0 0.0 0\n",
      "[started] 6250 4.0 -1.0 0.4 1.28 0.0 0.0 0.0 0\n",
      "[finished] 6250 3.5 -0.25 0.0 1.38 0.0 0.0 0.0 0\n",
      "[started] 6250 4.0 -0.75 0.0 1.29 0.0 0.0 0.0 0\n",
      "[finished] 6250 3.5 -0.25 0.4 1.38 0.0 0.0 0.0 0\n",
      "[started] 6250 4.0 -0.75 0.4 1.29 0.0 0.0 0.0 0\n",
      "[finished] 6250 3.5 0.0 0.0 1.39 0.0 0.0 0.0 0\n",
      "[started] 6250 4.0 -0.5 0.0 1.3 0.0 0.0 0.0 0\n",
      "[finished] 6250 3.5 0.25 0.0 1.4 0.0 0.0 0.0 0\n",
      "[started] 6250 4.0 -0.5 0.4 1.3 0.0 0.0 0.0 0\n",
      "[finished] 6250 3.5 0.0 0.4 1.39 0.0 0.0 0.0 0\n",
      "[started] 6250 4.0 -0.25 0.0 1.31 0.0 0.0 0.0 0\n",
      "[finished] 6250 3.5 0.5 0.0 1.42 0.0 0.0 0.0 0\n",
      "[started] 6250 4.0 -0.25 0.4 1.31 0.0 0.0 0.0 0\n",
      "[finished] 6250 3.5 0.25 0.4 1.4 0.0 0.0 0.0 0\n",
      "[started] 6250 4.0 0.0 0.0 1.32 0.0 0.0 0.0 0\n",
      "[finished] 6250 3.5 0.5 0.4 1.42 0.0 0.0 0.0 0\n",
      "[started] 6250 4.0 0.0 0.4 1.32 0.0 0.0 0.0 0\n",
      "[finished] 6250 4.0 -1.0 0.0 1.28 0.0 0.0 0.0 0\n",
      "[started] 6250 4.0 0.25 0.0 1.34 0.0 0.0 0.0 0\n",
      "[finished] 6250 4.0 -1.0 0.4 1.28 0.0 0.0 0.0 0\n",
      "[started] 6250 4.0 0.25 0.4 1.34 0.0 0.0 0.0 0\n",
      "[finished] 6250 4.0 -0.75 0.0 1.29 0.0 0.0 0.0 0\n",
      "[started] 6250 4.0 0.5 0.0 1.35 0.0 0.0 0.0 0\n",
      "[finished] 6250 4.0 -0.75 0.4 1.29 0.0 0.0 0.0 0\n",
      "[started] 6250 4.0 0.5 0.4 1.35 0.0 0.0 0.0 0\n",
      "[finished] 6250 4.0 -0.5 0.0 1.3 0.0 0.0 0.0 0\n",
      "[started] 6250 4.5 -1.0 0.0 1.21 0.0 0.0 0.0 0\n",
      "[finished] 6250 4.0 -0.25 0.4 1.31 0.0 0.0 0.0 0\n",
      "[started] 6250 4.5 -1.0 0.4 1.21 0.0 0.0 0.0 0\n",
      "[finished] 6250 4.0 -0.5 0.4 1.3 0.0 0.0 0.0 0\n",
      "[started] 6250 4.5 -0.75 0.0 1.22 0.0 0.0 0.0 0\n",
      "[finished] 6250 4.0 -0.25 0.0 1.31 0.0 0.0 0.0 0\n",
      "[started] 6250 4.5 -0.75 0.4 1.22 0.0 0.0 0.0 0\n",
      "[finished] 6250 4.0 0.0 0.0 1.32 0.0 0.0 0.0 0\n",
      "[started] 6250 4.5 -0.5 0.0 1.23 0.0 0.0 0.0 0\n",
      "[finished] 6250 4.0 0.0 0.4 1.32 0.0 0.0 0.0 0\n",
      "[started] 6250 4.5 -0.5 0.4 1.23 0.0 0.0 0.0 0\n",
      "[finished] 6250 4.0 0.25 0.0 1.34 0.0 0.0 0.0 0\n",
      "[started] 6250 4.5 -0.25 0.0 1.24 0.0 0.0 0.0 0\n",
      "[finished] 6250 4.0 0.25 0.4 1.34 0.0 0.0 0.0 0\n",
      "[started] 6250 4.5 -0.25 0.4 1.24 0.0 0.0 0.0 0\n",
      "[finished] 6250 4.0 0.5 0.4 1.35 0.0 0.0 0.0 0\n",
      "[started] 6250 4.5 0.0 0.0 1.25 0.0 0.0 0.0 0\n",
      "[finished] 6250 4.0 0.5 0.0 1.35 0.0 0.0 0.0 0\n",
      "[started] 6250 4.5 0.0 0.4 1.25 0.0 0.0 0.0 0\n",
      "[finished] 6250 4.5 -1.0 0.0 1.21 0.0 0.0 0.0 0\n",
      "[started] 6250 4.5 0.25 0.0 1.26 0.0 0.0 0.0 0\n",
      "[finished] 6250 4.5 -1.0 0.4 1.21 0.0 0.0 0.0 0\n",
      "[started] 6250 4.5 0.25 0.4 1.26 0.0 0.0 0.0 0\n",
      "[finished] 6250 4.5 -0.75 0.4 1.22 0.0 0.0 0.0 0\n",
      "[started] 6250 4.5 0.5 0.0 1.28 0.0 0.0 0.0 0\n",
      "[finished] 6250 [finished]4.5  6250-0.75  4.50.0  1.22 0.0 0.0 -0.5 0.00.0  01.23\n",
      " 0.0 0.0 0.0 0\n",
      "[started] 6250 4.5 0.5 0.4 1.28 0.0 0.0 0.0 0\n",
      "[started] 6250 5.0 -1.0 0.0 1.14 0.0 0.0 0.0 0\n",
      "[finished] 6250 4.5 -0.5 0.4 1.23 0.0 0.0 0.0 0\n",
      "[started] 6250 5.0 -1.0 0.4 1.14 0.0 0.0 0.0 0\n",
      "[finished] 6250 4.5 -0.25 0.0 1.24 0.0 0.0 0.0 0\n",
      "[started] 6250 5.0 -0.75 0.0 1.15 0.0 0.0 0.0 0\n",
      "[finished] 6250 4.5 -0.25 0.4 1.24 0.0 0.0 0.0 0\n",
      "[started] 6250 5.0 -0.75 0.4 1.15 0.0 0.0 0.0 0\n",
      "[finished] 6250 4.5 0.0 0.0 1.25 0.0 0.0 0.0 0\n",
      "[started] 6250 5.0 -0.5 0.0 1.16 0.0 0.0 0.0 0\n",
      "[finished] 6250 4.5 0.25 0.0 1.26 0.0 0.0 0.0 0\n",
      "[started] 6250 5.0 -0.5 0.4 1.16 0.0 0.0 0.0 0\n",
      "[finished] 6250 4.5 0.0 0.4 1.25 0.0 0.0 0.0 0\n",
      "[started] 6250 5.0 -0.25 0.0 1.17 0.0 0.0 0.0 0\n",
      "[finished] 6250 4.5 0.25 0.4 1.26 0.0 0.0 0.0 0\n",
      "[started] 6250 5.0 -0.25 0.4 1.17 0.0 0.0 0.0 0\n",
      "[finished] 6250 4.5 0.5 0.0 1.28 0.0 0.0 0.0 0\n",
      "[started] 6250 5.0 0.0 0.0 1.18 0.0 0.0 0.0 0\n",
      "[finished] 6250 4.5 0.5 0.4 1.28 0.0 0.0 0.0 0\n",
      "[started] 6250 5.0 0.0 0.4 1.18 0.0 0.0 0.0 0\n",
      "[finished] 6250 5.0 -1.0 0.0 1.14 0.0 0.0 0.0 0\n",
      "[started] 6250 5.0 0.25 0.0 1.19 0.0 0.0 0.0 0\n",
      "[finished] 6250 5.0 -1.0 0.4 1.14 0.0 0.0 0.0 0\n",
      "[started] 6250 5.0 0.25 0.4 1.19 0.0 0.0 0.0 0\n",
      "[finished] 6250 5.0 -0.75 0.0 1.15 0.0 0.0 0.0 0\n",
      "[started] 6250 5.0 0.5 0.0 1.21 0.0 0.0 0.0 0\n",
      "[finished] 6250 5.0 -0.75 0.4 1.15 0.0 0.0 0.0 0\n",
      "[started] 6250 5.0 0.5 0.4 1.21 0.0 0.0 0.0 0\n",
      "[finished] 6250 5.0 -0.5 0.0 1.16 0.0 0.0 0.0 0\n",
      "[started] 6500 3.0 -1.0 0.0 2.06 0.0 0.0 0.0 0\n",
      "[finished] 6250 5.0 -0.5 0.4 1.16 0.0 0.0 0.0 0\n",
      "[started] 6500 3.0 -1.0 0.4 2.06 0.0 0.0 0.0 0\n",
      "[finished] 6250 5.0 -0.25 0.0 1.17 0.0 0.0 0.0 0\n",
      "[started] 6500 3.0 -0.75 0.0 2.06 0.0 0.0 0.0 0\n",
      "[finished] 6250 5.0 -0.25 0.4 1.17 0.0 0.0 0.0 0\n",
      "[started] 6500 3.0 -0.75 0.4 2.06 0.0 0.0 0.0 0\n",
      "[finished] 6250 5.0 0.0 0.0 1.18 0.0 0.0 0.0 0\n",
      "[started] 6500 3.0 -0.5 0.0 2.07 0.0 0.0 0.0 0\n",
      "[finished] 6250 5.0 0.25 0.0 1.19 0.0 0.0 0.0 0\n",
      "[started] 6500 3.0 -0.5 0.4 2.07 0.0 0.0 0.0 0\n",
      "[finished] 6250 5.0 0.0 0.4 1.18 0.0 0.0 0.0 0\n",
      "[started] 6500 3.0 -0.25 0.0 2.08 0.0 0.0 0.0 0\n",
      "[finished] 6250 5.0 0.25 0.4 1.19 0.0 0.0 0.0 0\n",
      "[started] 6500 3.0 -0.25 0.4 2.08 0.0 0.0 0.0 0\n",
      "[finished] 6250 5.0 0.5 0.0 1.21 0.0 0.0 0.0 0\n",
      "[started] 6500 3.0 0.0 0.0 2.1 0.0 0.0 0.0 0\n",
      "[finished] 6500 3.0 -1.0 0.4 2.06 0.0 0.0 0.0 0\n",
      "[started] 6500 3.0 0.0 0.4 2.1 0.0 0.0 0.0 0\n",
      "[finished] 6250 5.0 0.5 0.4 1.21 0.0 0.0 0.0 0\n",
      "[started] 6500 3.0 0.25 0.0 2.11 0.0 0.0 0.0 0\n",
      "[finished] 6500 3.0 -1.0 0.0 2.06 0.0 0.0 0.0 0\n",
      "[started] 6500 3.0 0.25 0.4 2.11 0.0 0.0 0.0 0\n",
      "[finished] 6500 3.0 -0.75 0.0 2.06 0.0 0.0 0.0 0\n",
      "[started] 6500 3.0 0.5 0.0 2.12 0.0 0.0 0.0 0\n",
      "[finished] 6500 3.0 -0.75 0.4 2.06 0.0 0.0 0.0 0\n",
      "[started] 6500 3.0 0.5 0.4 2.12 0.0 0.0 0.0 0\n",
      "[finished] 6500 3.0 -0.5 0.0 2.07 0.0 0.0 0.0 0\n",
      "[started] 6500 3.5 -1.0 0.0 1.48 0.0 0.0 0.0 0\n",
      "[finished] 6500 3.0 -0.5 0.4 2.07 0.0 0.0 0.0 0\n",
      "[started] 6500 3.5 -1.0 0.4 1.48 0.0 0.0 0.0 0\n",
      "[finished] 6500 3.0 -0.25 0.0 2.08 0.0 0.0 0.0 0\n",
      "[started] 6500 3.5 -0.75 0.0 1.49 0.0 0.0 0.0 0\n",
      "[finished] 6500 3.0 -0.25 0.4 2.08 0.0 0.0 0.0 0\n",
      "[started] 6500 3.5 -0.75 0.4 1.49 0.0 0.0 0.0 0\n",
      "[finished] 6500 3.0 0.0 0.0 2.1 0.0 0.0 0.0 0\n",
      "[started] 6500 3.5 -0.5 0.0 1.5 0.0 0.0 0.0 0\n",
      "[finished] 6500 3.0 0.0 0.4 2.1 0.0 0.0 0.0 0\n",
      "[started] 6500 3.5 -0.5 0.4 1.5 0.0 0.0 0.0 0\n",
      "[finished] 6500 3.0 0.25 0.0 2.11 0.0 0.0 0.0 0\n",
      "[started] 6500 3.5 -0.25 0.0 1.51 0.0 0.0 0.0 0\n",
      "[finished] 6500 3.0 0.5 0.0 2.12 0.0 0.0 0.0 0\n",
      "[started] 6500 3.5 -0.25 0.4 1.51 0.0 0.0 0.0 0\n",
      "[finished] 6500 3.0 0.25 0.4 2.11 0.0 0.0 0.0 0\n",
      "[started] 6500 3.5 0.0 0.0 1.52 0.0 0.0 0.0 0\n",
      "[finished] 6500 3.0 0.5 0.4 2.12 0.0 0.0 0.0 0\n",
      "[started] 6500 3.5 0.0 0.4 1.52 0.0 0.0 0.0 0\n"
     ]
    },
    {
     "name": "stdout",
     "output_type": "stream",
     "text": [
      "[finished] 6500 3.5 -1.0 0.0 1.48 0.0 0.0 0.0 0\n",
      "[started] 6500 3.5 0.25 0.0 1.53 0.0 0.0 0.0 0\n",
      "[finished] 6500 3.5 -1.0 0.4 1.48 0.0 0.0 0.0 0\n",
      "[started] 6500 3.5 0.25 0.4 1.53 0.0 0.0 0.0 0\n",
      "[finished] 6500 3.5 -0.75 0.0 1.49 0.0 0.0 0.0 0\n",
      "[started] 6500 3.5 0.5 0.0 1.55 0.0 0.0 0.0 0\n",
      "[finished] 6500 3.5 -0.75 0.4 1.49 0.0 0.0 0.0 0\n",
      "[started] 6500 3.5 0.5 0.4 1.55 0.0 0.0 0.0 0\n",
      "[finished] 6500 3.5 -0.5 0.0 1.5 0.0 0.0 0.0 0\n",
      "[started] 6500 4.0 -1.0 0.0 1.41 0.0 0.0 0.0 0\n",
      "[finished] 6500 3.5 -0.5 0.4 1.5 0.0 0.0 0.0 0\n",
      "[started] 6500 4.0 -1.0 0.4 1.41 0.0 0.0 0.0 0\n",
      "[finished] 6500 3.5 -0.25 0.4 1.51 0.0 0.0 0.0 0\n",
      "[started] 6500 4.0 [finished]-0.75  65000.0 3.5  1.42 0.0 -0.250.0 0.0  0.00\n",
      " 1.51 0.0 0.0 0.0 0\n",
      "[started] 6500 4.0 -0.75 0.4 1.42 0.0 0.0 0.0 0\n",
      "[finished] 6500 3.5 0.0 0.0 1.52 0.0 0.0 0.0 0\n",
      "[started] 6500 4.0 -0.5 0.0 1.43 0.0 0.0 0.0 0\n",
      "[finished] 6500 3.5 0.0 0.4 1.52 0.0 0.0 0.0 0\n",
      "[started] 6500 4.0 -0.5 0.4 1.43 0.0 0.0 0.0 0\n",
      "[finished] 6500 3.5 0.25 0.0 1.53 0.0 0.0 0.0 0\n",
      "[started] 6500 4.0 -0.25 0.0 1.44 0.0 0.0 0.0 0\n",
      "[finished] 6500 3.5 0.25 0.4 1.53 0.0 0.0 0.0 0\n",
      "[started] 6500 4.0 -0.25 0.4 1.44 0.0 0.0 0.0 0\n",
      "[finished] 6500 3.5 0.5 0.0 1.55 0.0 0.0 0.0 0\n",
      "[started] 6500 4.0 0.0 0.0 1.45 0.0 0.0 0.0 0\n",
      "[finished] 6500 3.5 0.5 0.4 1.55 0.0 0.0 0.0 0\n",
      "[started] 6500 4.0 0.0 0.4 1.45 0.0 0.0 0.0 0\n",
      "[finished] 6500 4.0 -1.0 0.0 1.41 0.0 0.0 0.0 0\n",
      "[started] 6500 4.0 0.25 0.0 1.46 0.0 0.0 0.0 0\n",
      "[finished] 6500 4.0 -1.0 0.4 1.41 0.0 0.0 0.0 0\n",
      "[started] 6500 4.0 0.25 0.4 1.46 0.0 0.0 0.0 0\n",
      "[finished] 6500 4.0 -0.75 0.0 1.42 0.0 0.0 0.0 0\n",
      "[started] 6500 4.0 0.5 0.0 1.48 0.0 0.0 0.0 0\n",
      "[finished] 6500 4.0 -0.75 0.4 1.42 0.0 0.0 0.0 0\n",
      "[started] 6500 4.0 0.5 0.4 1.48 0.0 0.0 0.0 0\n",
      "[finished] 6500 4.0 -0.5 0.0 1.43 0.0 0.0 0.0 0\n",
      "[started] 6500 4.5 -1.0 0.0 1.34 0.0 0.0 0.0 0\n",
      "[finished] 6500 4.0 -0.5 0.4 1.43 0.0 0.0 0.0 0\n",
      "[started] 6500 4.5 -1.0 0.4 1.34 0.0 0.0 0.0 0\n",
      "[finished] 6500 4.0 -0.25 0.0 1.44 0.0 0.0 0.0 0\n",
      "[started] 6500 4.5 -0.75 0.0 1.35 0.0 0.0 0.0 0\n",
      "[finished] 6500 4.0 -0.25 0.4 1.44 0.0 0.0 0.0 0\n",
      "[started] 6500 4.5 -0.75 0.4 1.35 0.0 0.0 0.0 0\n",
      "[finished] 6500 4.0 0.0 0.0 1.45 0.0 0.0 0.0 0\n",
      "[started] 6500 4.5 -0.5 0.0 1.36 0.0 0.0 0.0 0\n",
      "[finished] 6500 4.0 0.0 0.4 1.45 0.0 0.0 0.0 0\n",
      "[started] 6500 4.5 -0.5 0.4 1.36 0.0 0.0 0.0 0\n",
      "[finished] 6500 4.0 0.25 0.0 1.46 0.0 0.0 0.0 0\n",
      "[started] 6500 4.5 -0.25 0.0 1.37 0.0 0.0 0.0 0\n",
      "[finished] 6500 4.0 0.5 0.0 1.48 0.0 0.0 0.0[finished]  06500\n",
      " 4.0 0.25 0.4 1.46 0.0 0.0 0.0 0\n",
      "[started] 6500 4.5 -0.25 0.4 1.37 0.0 [started] 0.06500  0.04.5  00.0\n",
      " 0.0 1.38 0.0 0.0 0.0 0\n",
      "[finished] 6500 4.0 0.5 0.4 1.48 0.0 0.0 0.0 0\n",
      "[started] 6500 4.5 0.0 0.4 1.38 0.0 0.0 0.0 0\n",
      "[finished] 6500 4.5 -1.0 0.0 1.34 0.0 0.0 0.0 0\n",
      "[started] 6500 4.5 0.25 0.0 1.39 0.0 0.0 0.0 0\n",
      "[finished] 6500 4.5 -1.0 0.4 1.34 0.0 0.0 0.0 0\n",
      "[started] 6500 4.5 0.25 0.4 1.39 0.0 0.0 0.0 0\n",
      "[finished] 6500 4.5 -0.75 0.0 1.35 0.0 0.0 0.0 0\n",
      "[started] 6500 4.5 0.5 0.0 1.41 0.0 0.0 0.0 0\n",
      "[finished] 6500 4.5 -0.75 0.4 1.35 0.0 0.0 0.0 0\n",
      "[started] 6500 4.5 0.5 0.4 1.41 0.0 0.0 0.0 0\n",
      "[finished] 6500 4.5 -0.5 0.0 1.36 0.0 0.0 0.0 0\n",
      "[started] 6500 5.0 -1.0 0.0 1.27 0.0 0.0 0.0 0\n",
      "[finished] 6500 4.5 -0.5 0.4 1.36 0.0 0.0 0.0 0\n",
      "[started] 6500 5.0 -1.0 0.4 1.27 0.0 0.0 0.0 0\n",
      "[finished] 6500 4.5 -0.25 0.0 1.37 0.0 0.0 0.0 0\n",
      "[started] 6500 5.0 -0.75 0.0 1.27 0.0 0.0 0.0 0\n",
      "[finished] 6500 4.5 -0.25 0.4 1.37 0.0 0.0 0.0 0\n",
      "[started] 6500 5.0 -0.75 0.4 1.27 0.0 0.0 0.0 [finished]0 \n",
      "6500 4.5 0.0 0.0 1.38 0.0 0.0 0.0 0\n",
      "[started] 6500 5.0 -0.5 0.0 1.28 0.0 0.0 0.0 0\n",
      "[finished] 6500 4.5 0.0 0.4 1.38 0.0 0.0 0.0 0\n",
      "[started] 6500 5.0 -0.5 0.4 1.28 0.0 0.0 0.0 0\n",
      "[finished] 6500 4.5 0.25 0.0 1.39 0.0 0.0 0.0 0\n",
      "[started] 6500 5.0 -0.25 0.0 1.29 0.0 0.0 0.0 0\n",
      "[finished] 6500 4.5 0.25 0.4 1.39 0.0 0.0 0.0 0\n",
      "[started] 6500 5.0 -0.25 0.4 1.29 0.0 0.0 0.0 0\n",
      "[finished] 6500 4.5 0.5 0.0 1.41 0.0 0.0 0.0 0\n",
      "[started] 6500 5.0 0.0 0.0 1.31 0.0 0.0 0.0 0\n",
      "[finished] 6500 4.5 0.5 0.4 1.41 0.0 0.0 0.0 0\n",
      "[started] 6500 5.0 0.0 0.4 1.31 0.0 0.0 0.0 0\n",
      "[finished] 6500 5.0 -1.0 0.0 1.27 0.0 0.0 0.0 0\n",
      "[started] 6500 5.0 0.25 0.0 1.32 0.0 0.0 0.0 0\n",
      "[finished] 6500 5.0 -1.0 0.4 1.27 0.0 0.0 0.0 0\n",
      "[started] 6500 5.0 0.25 0.4 1.32 0.0 0.0 0.0 0\n",
      "[finished] 6500 5.0 -0.75 0.0 1.27 0.0 0.0 0.0 0\n",
      "[started] 6500 5.0 0.5 0.0 1.33 0.0 0.0 0.0 0\n",
      "[finished] 6500 5.0 -0.5 0.0 1.28 0.0 0.0 0.0 0\n",
      "[started] 6500 5.0 0.5 0.4 1.33 0.0 0.0 0.0 0\n",
      "[finished] 6500 5.0 -0.75 0.4 1.27 0.0 0.0 0.0 0\n",
      "[started] 6750 3.0 -1.0 0.0 2.33 0.0 0.0 0.0 0\n",
      "[finished] 6500 5.0 -0.5 0.4 1.28 0.0 0.0 0.0 0\n",
      "[started] 6750 3.0 -1.0 0.4 2.33 0.0 0.0 0.0 0\n",
      "[finished] 6500 5.0 -0.25 0.0 1.29 0.0 0.0 0.0 0\n",
      "[started] 6750 3.0 -0.75 0.0 2.34 0.0 0.0 0.0 0\n",
      "[finished] 6500 5.0 -0.25 0.4 1.29 0.0 0.0 0.0 0\n",
      "[started] 6750 3.0 -0.75 0.4 2.34 0.0 0.0 0.0 0\n",
      "[finished] 6500 5.0 0.0 0.0 1.31 0.0 0.0 0.0 0\n",
      "[started] 6750 3.0 -0.5 0.0 2.35 0.0 0.0 0.0 0\n",
      "[finished] 6500 5.0 0.0 0.4 1.31 0.0 0.0 0.0 0\n",
      "[started] 6750 3.0 -0.5 0.4 2.35 0.0 0.0 0.0 0\n",
      "[finished] 6500 5.0 0.25 0.0 1.32 0.0 0.0 0.0 0\n",
      "[started] 6750 3.0 -0.25 0.0 2.36 0.0 0.0 0.0 0\n",
      "[finished] 6500 5.0 0.25 0.4 1.32 0.0 0.0 0.0 0\n",
      "[started] 6750 3.0 -0.25 0.4 2.36 0.0 0.0 0.0 0\n",
      "[finished] 6500 5.0 0.5 0.0 1.33 0.0 0.0 0.0 0\n",
      "[started] 6750 3.0 0.0 0.0 2.37 0.0 0.0 0.0 0\n",
      "[finished] 6750 3.0 -1.0 0.0 2.33 0.0 0.0 0.0 0\n",
      "[started] 6750 3.0 0.0 0.4 2.37 0.0 0.0 0.0 0\n",
      "[finished] 6500 5.0 0.5 0.4 1.33 0.0 0.0 0.0 0\n",
      "[started] 6750 3.0 0.25 0.0 2.38 0.0 0.0 0.0 0\n",
      "[finished] 6750 3.0 -1.0 0.4 2.33 0.0 0.0 0.0 0\n",
      "[started] 6750 3.0 0.25 0.4 2.38 0.0 0.0 0.0 0\n",
      "[finished] 6750 3.0 -0.75 0.0 2.34 0.0 0.0 0.0 0\n",
      "[started] 6750 3.0 0.5 0.0 2.4 0.0 0.0 0.0 0\n",
      "[finished] 6750 3.0 -0.75 0.4 2.34 0.0 0.0 0.0 0\n",
      "[started] 6750 3.0 0.5 0.4 2.4 0.0 0.0 0.0 0\n",
      "[finished] 6750 3.0 -0.5 0.0 2.35 0.0 0.0 0.0 0\n",
      "[started] 6750 3.5 -1.0 0.0 1.63 0.0 0.0 0.0 0\n",
      "[finished] 6750 3.0 -0.5 0.4 2.35 0.0 0.0 0.0 0\n",
      "[started] 6750 3.5 -1.0 0.4 1.63 0.0 0.0 0.0 0\n",
      "[finished] 6750 3.0 -0.25 0.0 2.36 0.0 0.0 0.0 0\n",
      "[started] 6750 3.5 -0.75 0.0 1.64 0.0 0.0 0.0 0\n",
      "[finished] 6750 3.0 -0.25 0.4 2.36 0.0 0.0 0.0 0\n",
      "[started] 6750 3.5 -0.75 0.4 1.64 0.0 0.0 0.0 0\n",
      "[finished] 6750 3.0 0.0 0.0 2.37 0.0 0.0 0.0 0\n",
      "[started] 6750 3.5 -0.5 0.0 1.64 0.0 0.0 0.0 0\n",
      "[finished] 6750 3.0 0.0 0.4 2.37 0.0 0.0 0.0 0\n",
      "[started] 6750 3.5 -0.5 0.4 1.64 0.0 0.0 0.0 0\n",
      "[finished] 6750 3.0 0.25 0.0 2.38 0.0 0.0 0.0 0\n",
      "[started] 6750 3.5 -0.25 0.0 1.66 0.0 0.0 0.0 0\n",
      "[finished] 6750 3.0 0.25 0.4 2.38 0.0 0.0 0.0 0\n",
      "[started] 6750 3.5 -0.25 0.4 1.66 0.0 0.0 0.0 0\n",
      "[finished] 6750 3.0 0.5 0.0 2.4 0.0 0.0 0.0 0\n",
      "[started] 6750 3.5 0.0 0.0 1.67 0.0 0.0 0.0 0\n",
      "[finished] 6750 3.0 0.5 0.4 2.4 0.0 0.0 0.0 0\n",
      "[started] 6750 3.5 0.0 0.4 1.67 0.0 0.0 0.0 0\n",
      "[finished] 6750 3.5 -1.0 0.0 1.63 0.0 0.0 0.0 0\n",
      "[started] 6750 3.5 0.25 0.0 1.68 0.0 0.0 0.0 0\n",
      "[finished] 6750 3.5 -1.0 0.4 1.63 0.0 0.0 0.0 0\n",
      "[started] 6750 3.5 0.25 0.4 1.68 0.0 0.0 0.0 0\n",
      "[finished] 6750 3.5 -0.75 0.0 1.64 0.0 0.0 0.0 0\n",
      "[started] 6750 3.5 0.5 0.0 1.69 0.0 0.0 0.0 0\n",
      "[finished] 6750 3.5 -0.75 0.4 1.64 0.0 0.0 0.0 0\n",
      "[started] 6750 3.5 0.5 0.4 1.69 0.0 0.0 0.0 0\n",
      "[finished] 6750 3.5 -0.5 0.0 1.64 0.0 0.0 0.0 0\n",
      "[started] 6750 4.0 -1.0 0.0 1.56 0.0 0.0 0.0 0\n",
      "[finished] 6750 3.5 -0.5 0.4 1.64 0.0 0.0 0.0 0\n",
      "[started] 6750 4.0 -1.0 0.4 1.56 0.0 0.0 0.0 0\n",
      "[finished] 6750 3.5 -0.25 0.0 1.66 0.0 0.0 0.0 0\n",
      "[started] 6750 4.0 -0.75 0.0 1.57 0.0 0.0 0.0 0\n",
      "[finished] 6750 3.5 -0.25 0.4 1.66 0.0 0.0 0.0 0\n",
      "[started] 6750 4.0 -0.75 0.4 1.57 0.0 0.0 0.0 0\n",
      "[finished] 6750 3.5 0.0 0.0 1.67 0.0 0.0 0.0 0\n",
      "[started] 6750 4.0 -0.5 0.0 1.58 0.0 0.0 0.0 0\n",
      "[finished] 6750 3.5 0.0 0.4 1.67 0.0 0.0 0.0 0\n",
      "[started] 6750 4.0 -0.5 0.4 1.58 0.0 0.0 0.0 0\n",
      "[finished] 6750 3.5 0.25 0.0 1.68 0.0 0.0 0.0 0\n",
      "[started] 6750 4.0 -0.25 0.0 1.59 0.0 0.0 0.0 0\n",
      "[finished] 6750 3.5 0.25 0.4 1.68 0.0 0.0 0.0 0\n",
      "[started] 6750 4.0 -0.25 0.4 1.59 0.0 0.0 0.0 0\n",
      "[finished] 6750 3.5 0.5 0.0 1.69 0.0 0.0 0.0 0\n",
      "[started] 6750 4.0 0.0 0.0 1.6 0.0 0.0 0.0 0\n",
      "[finished] 6750 3.5 0.5 0.4 1.69 0.0 0.0 0.0 0\n",
      "[started] 6750 4.0 0.0 0.4 1.6 0.0 0.0 0.0 0\n",
      "[finished] 6750 4.0 -1.0 0.0 1.56 0.0 0.0 0.0 0\n",
      "[started] 6750 4.0 0.25 0.0 1.61 0.0 0.0 0.0 0\n",
      "[finished] 6750 4.0 -1.0 0.4 1.56 0.0 0.0 0.0 0\n",
      "[started] 6750 4.0 0.25 0.4 1.61 0.0 0.0 0.0 0\n"
     ]
    },
    {
     "name": "stdout",
     "output_type": "stream",
     "text": [
      "[finished] 6750 4.0 -0.75 0.4 1.57 0.0 0.0 0.0 0\n",
      "[started] 6750 4.0 0.5 0.0 1.63 0.0 0.0 0.0 0\n",
      "[finished] 6750 4.0 -0.75 0.0 1.57 0.0 0.0 0.0 0\n",
      "[started] 6750 4.0 0.5 0.4 1.63 0.0 0.0 0.0 0\n",
      "[finished] 6750 4.0 -0.5 0.4 1.58 0.0 0.0 0.0 0\n",
      "[started] 6750 4.5 -1.0 0.0 1.49 0.0 0.0 0.0 0\n",
      "[finished] 6750 4.0 -0.5 0.0 1.58 0.0 0.0 0.0 0\n",
      "[started] 6750 4.5 -1.0 0.4 1.49 0.0 0.0 0.0 0\n",
      "[finished] 6750 4.0 -0.25 0.0 1.59 0.0 0.0 0.0 0\n",
      "[started] 6750 4.5 -0.75 0.0 1.49 0.0 0.0 0.0 0\n",
      "[finished] 6750 4.0 -0.25 0.4 1.59 0.0 0.0 0.0 0\n",
      "[started] 6750 4.5 -0.75 0.4 1.49 0.0 0.0 0.0 0\n",
      "[finished] 6750 4.0 0.0 0.0 1.6 0.0 0.0 0.0 0\n",
      "[started] 6750 4.5 -0.5 0.0 1.5 0.0 0.0 0.0 0\n",
      "[finished] 6750 4.0 0.0 0.4 1.6 0.0 0.0 0.0 0\n",
      "[started] 6750 4.5 -0.5 0.4 1.5 0.0 0.0 0.0 0\n",
      "[finished] 6750 4.0 0.25 0.0 1.61 0.0 0.0 0.0 0\n",
      "[started] 6750 4.5 -0.25 0.0 1.52 0.0 0.0 0.0 0\n",
      "[finished] 6750 4.0 0.25 0.4 1.61 0.0 0.0 0.0 0\n",
      "[started] 6750 4.5 -0.25 0.4 1.52 0.0 0.0 0.0 0\n",
      "[finished] 6750 4.0 0.5 0.0 1.63 0.0 0.0 0.0 0\n",
      "[started] 6750 4.5 0.0 0.0 1.53 0.0 0.0 0.0 0\n",
      "[finished] 6750 4.0 0.5 0.4 1.63 0.0 0.0 0.0 0\n",
      "[started] 6750 4.5 0.0 0.4 1.53 0.0 0.0 0.0 0\n",
      "[finished] 6750 4.5 -1.0 0.0 1.49 0.0 0.0 0.0 0\n",
      "[started] 6750 4.5 0.25 0.0 1.54 0.0 0.0 0.0 0\n",
      "[finished] 6750 4.5 -1.0 0.4 1.49 0.0 0.0 0.0 0\n",
      "[started] 6750 4.5 0.25 0.4 1.54 0.0 0.0 0.0 0\n",
      "[finished] 6750 4.5 -0.75 0.0 1.49 0.0 0.0 0.0 0\n",
      "[started] 6750 4.5 0.5 0.0 1.55 0.0 0.0 0.0 0\n",
      "[finished] 6750 4.5 -0.75 0.4 1.49 0.0 0.0 0.0 0\n",
      "[started] 6750 4.5 0.5 0.4 1.55 0.0 0.0 0.0 0\n",
      "[finished] 6750 4.5 -0.5 0.0 1.5 0.0 0.0 0.0 0\n",
      "[started] 6750 5.0 -1.0 0.0 1.41 0.0 0.0 0.0 0\n",
      "[finished] 6750 4.5 -0.5 0.4 1.5 0.0 0.0 0.0 0\n",
      "[started] 6750 5.0 -1.0 0.4 1.41 0.0 0.0 0.0 0\n",
      "[finished] 6750 4.5 -0.25 0.0 1.52 0.0 0.0 0.0 0\n",
      "[started] 6750 5.0 -0.75 0.0 1.42 0.0 0.0 0.0 0\n",
      "[finished] 6750 4.5 -0.25 0.4 1.52 0.0 0.0 0.0 0\n",
      "[started] 6750 5.0 -0.75 0.4 1.42 0.0 0.0 0.0 0\n",
      "[finished] 6750 4.5 0.0 0.4 1.53 0.0 0.0 0.0 0\n",
      "[started] 6750 5.0 -0.5 0.0 1.43 0.0 0.0 0.0 0\n",
      "[finished] 6750 4.5 0.0 0.0 1.53 0.0 0.0 0.0 0\n",
      "[started] 6750 5.0 -0.5 0.4 1.43 0.0 0.0 0.0 0\n",
      "[finished] 6750 4.5 0.25 0.0 1.54 0.0 0.0 0.0 0\n",
      "[started] 6750 5.0 -0.25 0.0 1.44 0.0 0.0 0.0 0\n",
      "[finished] 6750 4.5 0.25 0.4 1.54 0.0 0.0 0.0 0\n",
      "[started] 6750 5.0 -0.25 0.4 1.44 0.0 0.0 0.0 0\n",
      "[finished] 6750 4.5 0.5 0.0 1.55 0.0 0.0 0.0 0\n",
      "[started] 6750 5.0 0.0 0.0 1.45 0.0 0.0 0.0 0\n",
      "[finished] 6750 4.5 0.5 0.4 1.55 0.0 0.0 0.0 0\n",
      "[started] 6750 5.0 0.0 0.4 1.45 0.0 0.0 0.0 0\n",
      "[finished] 6750 5.0 -1.0 0.0 1.41 0.0 0.0 0.0 0\n",
      "[started] 6750 5.0 0.25 0.0 1.47 0.0 0.0 0.0 0\n",
      "[finished] 6750 5.0 -1.0 0.4 1.41 0.0 0.0 0.0 0\n",
      "[started] 6750 5.0 0.25 0.4 1.47 0.0 0.0 0.0 0\n",
      "[finished] 6750 5.0 -0.75 0.4 1.42 0.0 0.0 0.0 0\n",
      "[started] 6750 5.0 0.5 0.0 1.48 0.0 0.0 0.0 0\n",
      "[finished] 6750 5.0 -0.75 0.0 1.42 0.0 0.0 0.0 0\n",
      "[started] 6750 5.0 0.5 0.4 1.48 0.0 0.0 0.0 0\n",
      "[finished] 6750 5.0 -0.5 0.4 1.43 0.0 0.0 0.0 0[finished]\n",
      " 6750 5.0 -0.25 0.0 1.44 0.0 0.0 0.0 0\n",
      "[started] 7000 3.0 -1.0 0.0 2.64 0.0 0.0 0.0 0\n",
      "[started] 7000 3.0 -1.0 0.4 2.64 0.0 0.0 0.0 0\n",
      "[finished] 6750 5.0 -0.5 0.0 1.43 0.0 0.0 0.0 0\n",
      "[started] 7000 3.0 -0.75 0.0 2.65 0.0 0.0 0.0 0\n",
      "[finished] 6750 5.0 -0.25 0.4 1.44 0.0 0.0 0.0 0\n",
      "[started] 7000 3.0 -0.75 0.4 2.65 0.0 0.0 0.0 0\n",
      "[finished] 6750 5.0 0.0 0.0 1.45 0.0 0.0 0.0 0\n",
      "[started] 7000 3.0 -0.5 0.0 2.66 0.0 0.0 0.0 0\n",
      "[finished] 6750 5.0 0.0 0.4 1.45 0.0 0.0 0.0 0\n",
      "[started] 7000 3.0 -0.5 0.4 2.66 0.0 0.0 0.0 0\n",
      "[finished] 6750 5.0 0.25 0.0 1.47 0.0 0.0 0.0 0\n",
      "[started] 7000 3.0 -0.25 0.0 2.67 0.0 0.0 0.0 0\n",
      "[finished] 6750 5.0 0.25 0.4 1.47 0.0 0.0 0.0 0\n",
      "[started] 7000 3.0 -0.25 0.4 2.67 0.0 0.0 0.0 0\n",
      "[finished] 6750 5.0 0.5 0.4 1.48 0.0 0.0 0.0 0\n",
      "[started] 7000 3.0 0.0 0.0 2.68 0.0 0.0 0.0 0\n",
      "[finished] 6750 5.0 0.5 0.0 1.48 0.0 0.0 0.0 0\n",
      "[started] 7000 3.0 0.0 0.4 2.68 0.0 0.0 0.0 0\n",
      "[finished] 7000 3.0 -1.0 0.0 2.64 0.0 0.0 0.0 0\n",
      "[started] 7000 3.0 0.25 0.0 2.7 0.0 0.0 0.0 0\n",
      "[finished] 7000 3.0 -1.0 0.4 2.64 0.0 0.0 0.0 0\n",
      "[started] 7000 3.0 0.25 0.4 2.7 0.0 0.0 0.0 0\n",
      "[finished] 7000 3.0 -0.75 0.4 2.65 0.0 0.0 0.0 0\n",
      "[started] 7000 3.0 0.5 0.0 2.71 0.0 0.0 0.0 0\n",
      "[finished] 7000 3.0 -0.75 0.0 2.65 0.0 0.0 0.0 0\n",
      "[started] 7000 3.0 0.5 0.4 2.71 0.0 0.0 0.0 0\n",
      "[finished] 7000 3.0 -0.5 0.0 2.66 0.0 0.0 0.0 0\n",
      "[started] 7000 3.5 -1.0 0.0 1.79 0.0 0.0 0.0 0\n",
      "[finished] 7000 3.0 -0.5 0.4 2.66 0.0 0.0 0.0 0\n",
      "[started] 7000 3.5 -1.0 0.4 1.79 0.0 0.0 0.0 0\n",
      "[finished] 7000 3.0 -0.25 0.0 2.67 0.0 0.0 0.0 0\n",
      "[started] 7000 3.5 -0.75 0.0 1.8 0.0 0.0 0.0 0\n",
      "[finished] 7000 3.0 -0.25 0.4 2.67 0.0 0.0 0.0 0\n",
      "[started] 7000 3.5 -0.75 0.4 1.8 0.0 0.0 0.0 0\n",
      "[finished] 7000 3.0 0.0 0.0 2.68 0.0 0.0 0.0 0\n",
      "[started] 7000 3.5 -0.5 0.0 1.81 0.0 0.0 0.0 0\n",
      "[finished] 7000 3.0 0.0 0.4 2.68 0.0 0.0 0.0 0\n",
      "[started] 7000 3.5 -0.5 0.4 1.81 0.0 0.0 0.0 0\n",
      "[finished] 7000 3.0 0.25 0.0 2.7 0.0 0.0 0.0 0\n",
      "[started] 7000 3.5 -0.25 0.0 1.82 0.0 0.0 0.0 0\n",
      "[finished] 7000 3.0 0.25 0.4 2.7 0.0 0.0 0.0 0\n",
      "[started] 7000 3.5 -0.25 0.4 1.82 0.0 0.0 0.0 0\n",
      "[finished] 7000 3.0 0.5 0.4 2.71 0.0 0.0 0.0 0\n",
      "[started] 7000 3.5 0.0 0.0 1.83 0.0 0.0 0.0 0\n",
      "[finished] 7000 3.0 0.5 0.0 2.71 0.0 0.0 0.0 0\n",
      "[started] 7000 3.5 0.0 0.4 1.83 0.0 0.0 0.0 0\n",
      "[finished] 7000 3.5 -1.0 0.0 1.79 0.0 0.0 0.0 0\n",
      "[started] 7000 3.5 0.25 0.0 1.85 0.0 0.0 0.0 0\n",
      "[finished] 7000 3.5 -1.0 0.4 1.79 0.0 0.0 0.0 0\n",
      "[started] 7000 3.5 0.25 0.4 1.85 0.0 0.0 0.0 0\n",
      "[finished] 7000 3.5 -0.75 0.0 1.8 0.0 0.0 0.0 0\n",
      "[started] 7000 3.5 0.5 0.0 1.86 0.0 0.0 0.0 0\n",
      "[finished] 7000 3.5 -0.75 0.4 1.8 0.0 0.0 0.0 0\n",
      "[started] 7000 3.5 0.5 0.4 1.86 0.0 0.0 0.0 0\n",
      "[finished] 7000 3.5 -0.5 0.0 1.81 0.0 0.0 0.0 0\n",
      "[started] 7000 4.0 -1.0 0.0 1.72 0.0 0.0 0.0 0\n",
      "[finished] 7000 3.5 -0.5 0.4 1.81 0.0 0.0 0.0 0\n",
      "[started] 7000 4.0 -1.0 0.4 1.72 0.0 0.0 0.0 0\n",
      "[finished] 7000 3.5 -0.25 0.0 1.82 0.0 0.0 0.0 0\n",
      "[started] 7000 4.0 -0.75 0.0 1.73 0.0 0.0 0.0 0\n",
      "[finished] 7000 3.5 0.0 0.0 1.83 0.0 0.0 0.0 0\n",
      "[started] 7000 4.0 -0.75 0.4 1.73 0.0 0.0 0.0 0\n",
      "[finished] 7000 3.5 0.0 0.4 1.83 0.0 0.0 0.0 0\n",
      "[started] 7000 4.0 -0.5 0.0 1.74 0.0 0.0 0.0 0\n",
      "[finished] 7000 3.5 -0.25 0.4 1.82 0.0 0.0 0.0 0\n",
      "[started] 7000 4.0 -0.5 0.4 1.74 0.0 0.0 0.0 0\n",
      "[finished] 7000 3.5 0.25 0.4 1.85 0.0 0.0 0.0 0\n",
      "[started] 7000 4.0 -0.25 0.0 1.75 0.0 0.0 0.0 0\n",
      "[finished] 7000 3.5 0.25 0.0 1.85 0.0 0.0 0.0 0\n",
      "[started] 7000 4.0 -0.25 0.4 1.75 0.0 0.0 0.0 0\n",
      "[finished] 7000 3.5 0.5 0.0 1.86 0.0 0.0 0.0 0\n",
      "[started] 7000 4.0 0.0 0.0 1.76 0.0 0.0 0.0 0\n",
      "[finished] 7000 3.5 0.5 0.4 1.86 0.0 0.0 0.0 0\n",
      "[started] 7000 4.0 0.0 0.4 1.76 0.0 0.0 0.0 0\n",
      "[finished] 7000 4.0 -1.0 0.4 1.72 0.0 0.0 0.0 0\n",
      "[started] 7000 4.0 0.25 0.0 1.78 0.0 0.0 0.0 0\n",
      "[finished] 7000 4.0 -1.0 0.0 1.72 0.0 0.0 0.0 0\n",
      "[started] 7000 4.0 0.25 0.4 1.78 0.0 0.0 0.0 0\n",
      "[finished] 7000 4.0 -0.75 0.0 1.73 0.0 0.0 0.0 0\n",
      "[started] 7000 4.0 0.5 0.0 1.79 0.0 0.0 0.0 0\n",
      "[finished] 7000 4.0 -0.75 0.4 1.73 0.0 0.0 0.0 0\n",
      "[started] 7000 4.0 0.5 0.4 1.79 0.0 0.0 0.0 0\n",
      "[finished] 7000 4.0 -0.5 0.0 1.74 0.0 0.0 0.0 0\n",
      "[started] 7000 4.5 -1.0 0.0 1.65 0.0 0.0 0.0 0\n",
      "[finished] 7000 4.0 -0.5 0.4 1.74 0.0 0.0 0.0 0\n",
      "[started] 7000 4.5 -1.0 0.4 1.65 0.0 0.0 0.0 0\n",
      "[finished] 7000 4.0 -0.25 0.0 1.75 0.0 0.0 0.0 0\n",
      "[started] 7000 4.5 -0.75 0.0 1.66 0.0 0.0 0.0 0\n",
      "[finished] 7000 4.0 -0.25 0.4 1.75 0.0 0.0 0.0 0\n",
      "[started] 7000 4.5 -0.75 0.4 1.66 0.0 0.0 0.0 0\n",
      "[finished] 7000 4.0 0.0 0.0 1.76 0.0 0.0 0.0 0\n",
      "[started] 7000 4.5 -0.5 0.0 1.67 0.0 0.0 0.0 0\n",
      "[finished] 7000 4.0 0.0 0.4 1.76 0.0 0.0 0.0 0\n",
      "[started] 7000 4.5 -0.5 0.4 1.67 0.0 0.0 0.0 0\n",
      "[finished] 7000 4.0 0.25 0.4 1.78 0.0 0.0 0.0 0\n",
      "[started] 7000 4.5 -0.25 0.0 1.68 0.0 0.0 0.0 0\n",
      "[finished] 7000 4.0 0.25 0.0 1.78 0.0 0.0 0.0 0\n",
      "[started] 7000 4.5 -0.25 0.4 1.68 0.0 0.0 0.0 0\n",
      "[finished] 7000 4.0 0.5 0.4 1.79 0.0 0.0 0.0 0\n",
      "[started] 7000 4.5 0.0 0.0 1.69 0.0 0.0 0.0 0\n",
      "[finished] 7000 4.5 -1.0 0.4 1.65 0.0 0.0 0.0 0\n",
      "[started] 7000 4.5 0.0 0.4 1.69 0.0 0.0 0.0 0\n",
      "[finished] 7000 4.0 0.5 [finished]0.0 7000  1.794.5  0.0-1.0  0.00.0  1.65 0.0 0.00 \n",
      "0.0 0.0 0\n",
      "[started] 7000 4.5 0.25 0.0 1.71 0.0 0.0 0.0 0\n",
      "[started] 7000 4.5 0.25 0.4 1.71 0.0 0.0 0.0 0\n",
      "[finished] 7000 4.5 -0.75 0.0 1.66 0.0 0.0 0.0 0\n",
      "[started] 7000 4.5 0.5 0.0 1.72 0.0 0.0 0.0 0\n",
      "[finished] 7000 4.5 -0.75 0.4 1.66 0.0 0.0 0.0 0\n",
      "[started] 7000 4.5 0.5 0.4 1.72 0.0 0.0 0.0 0\n"
     ]
    },
    {
     "name": "stdout",
     "output_type": "stream",
     "text": [
      "[finished] 7000 4.5 -0.5 0.0 1.67 0.0 0.0 0.0 0\n",
      "[started] 7000 5.0 -1.0 0.0 1.58 0.0 0.0 0.0 0\n",
      "[finished] 7000 4.5 -0.5 0.4 1.67 0.0 0.0 0.0 0\n",
      "[started] 7000 5.0 -1.0 0.4 1.58 0.0 0.0 0.0 0\n",
      "[finished] 7000 4.5 -0.25 0.4 1.68 0.0 0.0 [finished]0.0  7000 0\n",
      "4.5 -0.25 0.0 1.68 0.0 0.0 0.0 0\n",
      "[started] 7000 5.0 -0.75 0.0 1.59 0.0 0.0 0.0 0\n",
      "[started] 7000 5.0 -0.75 0.4 1.59 0.0 0.0 0.0 0\n",
      "[finished] 7000 4.5 0.0 0.0 1.69 0.0 0.0 0.0 0\n",
      "[started] 7000 5.0 -0.5 0.0 1.6 0.0 0.0 0.0 0\n",
      "[finished] 7000 4.5 0.25 0.0 1.71 0.0 0.0 0.0 0\n",
      "[started] 7000 5.0 -0.5 0.4 1.6 0.0 0.0 0.0 0\n",
      "[finished] 7000 4.5 0.25 0.4 1.71 0.0 0.0 0.0 0\n",
      "[started] 7000 5.0 -0.25 0.0 1.61 0.0 0.0 0.0 0\n",
      "[finished] 7000 4.5 0.0 0.4 1.69 0.0 0.0 0.0 0\n",
      "[started] 7000 5.0 -0.25 0.4 1.61 0.0 0.0 0.0 0\n",
      "[finished] 7000 4.5 0.5 0.4 1.72 0.0 0.0 0.0 0\n",
      "[started] 7000 5.0 0.0 0.0 1.62 0.0 0.0 0.0 0\n",
      "[finished] 7000 4.5 0.5 0.0 1.72 0.0 0.0 0.0 0\n",
      "[started] 7000 5.0 0.0 0.4 1.62 0.0 0.0 0.0 0\n",
      "[finished] 7000 5.0 -1.0 0.0 1.58 0.0 0.0 0.0 0\n",
      "[started] 7000 5.0 0.25 0.0 1.63 0.0 0.0 0.0 0\n",
      "[finished] 7000 5.0 -1.0 0.4 1.58 0.0 0.0 0.0 0\n",
      "[started] 7000 5.0 0.25 0.4 1.63 0.0 0.0 0.0 0\n",
      "[finished] 7000 5.0 -0.75 0.0 1.59 0.0 0.0 0.0 0\n",
      "[started] 7000 5.0 0.5 0.0 1.65 0.0 0.0 0.0 0\n",
      "[finished] 7000 5.0 -0.75 0.4 1.59 0.0 0.0 0.0 0\n",
      "[started] 7000 5.0 0.5 0.4 1.65 0.0 0.0 0.0 0\n",
      "[finished] 7000 5.0 -0.5 0.0 1.6 0.0 0.0 0.0 0\n",
      "[finished] 7000 5.0 -0.5 0.4 1.6 0.0 0.0 0.0 0\n",
      "[finished] 7000 5.0 -0.25 0.0 1.61 0.0 0.0 0.0 0\n",
      "[finished] 7000 5.0 -0.25 0.4 1.61 0.0 0.0 0.0 0\n",
      "[finished] 7000 5.0 0.0 0.0 1.62 0.0 0.0 0.0 0\n",
      "[finished] 7000 5.0 0.0 0.4 1.62 0.0 0.0 0.0 0\n",
      "[finished] 7000 5.0 0.25 0.0 1.63 0.0 0.0 0.0 0\n",
      "[finished] 7000 5.0 0.25 0.4 1.63 0.0 0.0 0.0 0\n",
      "[finished] 7000 5.0 0.5 0.0 1.65 0.0 0.0 0.0 0\n",
      "[finished] 7000 5.0 0.5 0.4 1.65 0.0 0.0 0.0 0\n",
      "Written ispecgrid_hband_synthe//parameters.tsv\n",
      "Quick grid: 3500_3.00_-1.00_0.00_1.78_0.00_0.00_0.00.fits.gz\n",
      "Quick grid: 3500_3.00_-1.00_0.40_1.78_0.00_0.00_0.00.fits.gz\n",
      "Quick grid: 3500_3.00_-0.75_0.00_1.79_0.00_0.00_0.00.fits.gz\n",
      "Quick grid: 3500_3.00_-0.75_0.40_1.79_0.00_0.00_0.00.fits.gz\n",
      "Quick grid: 3500_3.00_-0.50_0.00_1.80_0.00_0.00_0.00.fits.gz\n",
      "Quick grid: 3500_3.00_-0.50_0.40_1.80_0.00_0.00_0.00.fits.gz\n",
      "Quick grid: 3500_3.00_-0.25_0.00_1.81_0.00_0.00_0.00.fits.gz\n",
      "Quick grid: 3500_3.00_-0.25_0.40_1.81_0.00_0.00_0.00.fits.gz\n",
      "Quick grid: 3500_3.00_0.00_0.00_1.82_0.00_0.00_0.00.fits.gz\n",
      "Quick grid: 3500_3.00_0.00_0.40_1.82_0.00_0.00_0.00.fits.gz\n",
      "Quick grid: 3500_3.00_0.25_0.00_1.84_0.00_0.00_0.00.fits.gz\n",
      "Quick grid: 3500_3.00_0.25_0.40_1.84_0.00_0.00_0.00.fits.gz\n",
      "Quick grid: 3500_3.00_0.50_0.00_1.85_0.00_0.00_0.00.fits.gz\n",
      "Quick grid: 3500_3.00_0.50_0.40_1.85_0.00_0.00_0.00.fits.gz\n",
      "Quick grid: 3500_3.50_-1.00_0.00_0.99_0.00_0.00_0.00.fits.gz\n",
      "Quick grid: 3500_3.50_-1.00_0.40_0.99_0.00_0.00_0.00.fits.gz\n",
      "Quick grid: 3500_3.50_-0.75_0.00_1.00_0.00_0.00_0.00.fits.gz\n",
      "Quick grid: 3500_3.50_-0.75_0.40_1.00_0.00_0.00_0.00.fits.gz\n",
      "Quick grid: 3500_3.50_-0.50_0.00_1.01_0.00_0.00_0.00.fits.gz\n",
      "Quick grid: 3500_3.50_-0.50_0.40_1.01_0.00_0.00_0.00.fits.gz\n",
      "Quick grid: 3500_3.50_-0.25_0.00_1.02_0.00_0.00_0.00.fits.gz\n",
      "Quick grid: 3500_3.50_-0.25_0.40_1.02_0.00_0.00_0.00.fits.gz\n",
      "Quick grid: 3500_3.50_0.00_0.00_1.03_0.00_0.00_0.00.fits.gz\n",
      "Quick grid: 3500_3.50_0.00_0.40_1.03_0.00_0.00_0.00.fits.gz\n",
      "Quick grid: 3500_3.50_0.25_0.00_1.04_0.00_0.00_0.00.fits.gz\n",
      "Quick grid: 3500_3.50_0.25_0.40_1.04_0.00_0.00_0.00.fits.gz\n",
      "Quick grid: 3500_3.50_0.50_0.00_1.06_0.00_0.00_0.00.fits.gz\n",
      "Quick grid: 3500_3.50_0.50_0.40_1.06_0.00_0.00_0.00.fits.gz\n",
      "Quick grid: 3500_4.00_-1.00_0.00_0.92_0.00_0.00_0.00.fits.gz\n",
      "Quick grid: 3500_4.00_-1.00_0.40_0.92_0.00_0.00_0.00.fits.gz\n",
      "Quick grid: 3500_4.00_-0.75_0.00_0.93_0.00_0.00_0.00.fits.gz\n",
      "Quick grid: 3500_4.00_-0.75_0.40_0.93_0.00_0.00_0.00.fits.gz\n",
      "Quick grid: 3500_4.00_-0.50_0.00_0.94_0.00_0.00_0.00.fits.gz\n",
      "Quick grid: 3500_4.00_-0.50_0.40_0.94_0.00_0.00_0.00.fits.gz\n",
      "Quick grid: 3500_4.00_-0.25_0.00_0.95_0.00_0.00_0.00.fits.gz\n",
      "Quick grid: 3500_4.00_-0.25_0.40_0.95_0.00_0.00_0.00.fits.gz\n",
      "Quick grid: 3500_4.00_0.00_0.00_0.96_0.00_0.00_0.00.fits.gz\n",
      "Quick grid: 3500_4.00_0.00_0.40_0.96_0.00_0.00_0.00.fits.gz\n",
      "Quick grid: 3500_4.00_0.25_0.00_0.98_0.00_0.00_0.00.fits.gz\n",
      "Quick grid: 3500_4.00_0.25_0.40_0.98_0.00_0.00_0.00.fits.gz\n",
      "Quick grid: 3500_4.00_0.50_0.00_0.99_0.00_0.00_0.00.fits.gz\n",
      "Quick grid: 3500_4.00_0.50_0.40_0.99_0.00_0.00_0.00.fits.gz\n",
      "Quick grid: 3500_4.50_-1.00_0.00_0.85_0.00_0.00_0.00.fits.gz\n",
      "Quick grid: 3500_4.50_-1.00_0.40_0.85_0.00_0.00_0.00.fits.gz\n",
      "Quick grid: 3500_4.50_-0.75_0.00_0.86_0.00_0.00_0.00.fits.gz\n",
      "Quick grid: 3500_4.50_-0.75_0.40_0.86_0.00_0.00_0.00.fits.gz\n",
      "Quick grid: 3500_4.50_-0.50_0.00_0.87_0.00_0.00_0.00.fits.gz\n",
      "Quick grid: 3500_4.50_-0.50_0.40_0.87_0.00_0.00_0.00.fits.gz\n",
      "Quick grid: 3500_4.50_-0.25_0.00_0.88_0.00_0.00_0.00.fits.gz\n",
      "Quick grid: 3500_4.50_-0.25_0.40_0.88_0.00_0.00_0.00.fits.gz\n",
      "Quick grid: 3500_4.50_0.00_0.00_0.89_0.00_0.00_0.00.fits.gz\n",
      "Quick grid: 3500_4.50_0.00_0.40_0.89_0.00_0.00_0.00.fits.gz\n",
      "Quick grid: 3500_4.50_0.25_0.00_0.90_0.00_0.00_0.00.fits.gz\n",
      "Quick grid: 3500_4.50_0.25_0.40_0.90_0.00_0.00_0.00.fits.gz\n",
      "Quick grid: 3500_4.50_0.50_0.00_0.92_0.00_0.00_0.00.fits.gz\n",
      "Quick grid: 3500_4.50_0.50_0.40_0.92_0.00_0.00_0.00.fits.gz\n",
      "Quick grid: 3500_5.00_-1.00_0.00_0.78_0.00_0.00_0.00.fits.gz\n",
      "Quick grid: 3500_5.00_-1.00_0.40_0.78_0.00_0.00_0.00.fits.gz\n",
      "Quick grid: 3500_5.00_-0.75_0.00_0.79_0.00_0.00_0.00.fits.gz\n",
      "Quick grid: 3500_5.00_-0.75_0.40_0.79_0.00_0.00_0.00.fits.gz\n",
      "Quick grid: 3500_5.00_-0.50_0.00_0.79_0.00_0.00_0.00.fits.gz\n",
      "Quick grid: 3500_5.00_-0.50_0.40_0.79_0.00_0.00_0.00.fits.gz\n",
      "Quick grid: 3500_5.00_-0.25_0.00_0.81_0.00_0.00_0.00.fits.gz\n",
      "Quick grid: 3500_5.00_-0.25_0.40_0.81_0.00_0.00_0.00.fits.gz\n",
      "Quick grid: 3500_5.00_0.00_0.00_0.82_0.00_0.00_0.00.fits.gz\n",
      "Quick grid: 3500_5.00_0.00_0.40_0.82_0.00_0.00_0.00.fits.gz\n",
      "Quick grid: 3500_5.00_0.25_0.00_0.83_0.00_0.00_0.00.fits.gz\n",
      "Quick grid: 3500_5.00_0.25_0.40_0.83_0.00_0.00_0.00.fits.gz\n",
      "Quick grid: 3500_5.00_0.50_0.00_0.84_0.00_0.00_0.00.fits.gz\n",
      "Quick grid: 3500_5.00_0.50_0.40_0.84_0.00_0.00_0.00.fits.gz\n",
      "Quick grid: 3750_3.00_-1.00_0.00_1.59_0.00_0.00_0.00.fits.gz\n",
      "Quick grid: 3750_3.00_-1.00_0.40_1.59_0.00_0.00_0.00.fits.gz\n",
      "Quick grid: 3750_3.00_-0.75_0.00_1.60_0.00_0.00_0.00.fits.gz\n",
      "Quick grid: 3750_3.00_-0.75_0.40_1.60_0.00_0.00_0.00.fits.gz\n",
      "Quick grid: 3750_3.00_-0.50_0.00_1.61_0.00_0.00_0.00.fits.gz\n",
      "Quick grid: 3750_3.00_-0.50_0.40_1.61_0.00_0.00_0.00.fits.gz\n",
      "Quick grid: 3750_3.00_-0.25_0.00_1.62_0.00_0.00_0.00.fits.gz\n",
      "Quick grid: 3750_3.00_-0.25_0.40_1.62_0.00_0.00_0.00.fits.gz\n",
      "Quick grid: 3750_3.00_0.00_0.00_1.63_0.00_0.00_0.00.fits.gz\n",
      "Quick grid: 3750_3.00_0.00_0.40_1.63_0.00_0.00_0.00.fits.gz\n",
      "Quick grid: 3750_3.00_0.25_0.00_1.65_0.00_0.00_0.00.fits.gz\n",
      "Quick grid: 3750_3.00_0.25_0.40_1.65_0.00_0.00_0.00.fits.gz\n",
      "Quick grid: 3750_3.00_0.50_0.00_1.66_0.00_0.00_0.00.fits.gz\n",
      "Quick grid: 3750_3.00_0.50_0.40_1.66_0.00_0.00_0.00.fits.gz\n",
      "Quick grid: 3750_3.50_-1.00_0.00_0.99_0.00_0.00_0.00.fits.gz\n",
      "Quick grid: 3750_3.50_-1.00_0.40_0.99_0.00_0.00_0.00.fits.gz\n",
      "Quick grid: 3750_3.50_-0.75_0.00_1.00_0.00_0.00_0.00.fits.gz\n",
      "Quick grid: 3750_3.50_-0.75_0.40_1.00_0.00_0.00_0.00.fits.gz\n",
      "Quick grid: 3750_3.50_-0.50_0.00_1.01_0.00_0.00_0.00.fits.gz\n",
      "Quick grid: 3750_3.50_-0.50_0.40_1.01_0.00_0.00_0.00.fits.gz\n",
      "Quick grid: 3750_3.50_-0.25_0.00_1.02_0.00_0.00_0.00.fits.gz\n",
      "Quick grid: 3750_3.50_-0.25_0.40_1.02_0.00_0.00_0.00.fits.gz\n",
      "Quick grid: 3750_3.50_0.00_0.00_1.03_0.00_0.00_0.00.fits.gz\n",
      "Quick grid: 3750_3.50_0.00_0.40_1.03_0.00_0.00_0.00.fits.gz\n",
      "Quick grid: 3750_3.50_0.25_0.00_1.04_0.00_0.00_0.00.fits.gz\n",
      "Quick grid: 3750_3.50_0.25_0.40_1.04_0.00_0.00_0.00.fits.gz\n",
      "Quick grid: 3750_3.50_0.50_0.00_1.06_0.00_0.00_0.00.fits.gz\n",
      "Quick grid: 3750_3.50_0.50_0.40_1.06_0.00_0.00_0.00.fits.gz\n",
      "Quick grid: 3750_4.00_-1.00_0.00_0.92_0.00_0.00_0.00.fits.gz\n",
      "Quick grid: 3750_4.00_-1.00_0.40_0.92_0.00_0.00_0.00.fits.gz\n",
      "Quick grid: 3750_4.00_-0.75_0.00_0.93_0.00_0.00_0.00.fits.gz\n",
      "Quick grid: 3750_4.00_-0.75_0.40_0.93_0.00_0.00_0.00.fits.gz\n",
      "Quick grid: 3750_4.00_-0.50_0.00_0.94_0.00_0.00_0.00.fits.gz\n",
      "Quick grid: 3750_4.00_-0.50_0.40_0.94_0.00_0.00_0.00.fits.gz\n",
      "Quick grid: 3750_4.00_-0.25_0.00_0.95_0.00_0.00_0.00.fits.gz\n"
     ]
    },
    {
     "name": "stdout",
     "output_type": "stream",
     "text": [
      "Quick grid: 3750_4.00_-0.25_0.40_0.95_0.00_0.00_0.00.fits.gz\n",
      "Quick grid: 3750_4.00_0.00_0.00_0.96_0.00_0.00_0.00.fits.gz\n",
      "Quick grid: 3750_4.00_0.00_0.40_0.96_0.00_0.00_0.00.fits.gz\n",
      "Quick grid: 3750_4.00_0.25_0.00_0.98_0.00_0.00_0.00.fits.gz\n",
      "Quick grid: 3750_4.00_0.25_0.40_0.98_0.00_0.00_0.00.fits.gz\n",
      "Quick grid: 3750_4.00_0.50_0.00_0.99_0.00_0.00_0.00.fits.gz\n",
      "Quick grid: 3750_4.00_0.50_0.40_0.99_0.00_0.00_0.00.fits.gz\n",
      "Quick grid: 3750_4.50_-1.00_0.00_0.85_0.00_0.00_0.00.fits.gz\n",
      "Quick grid: 3750_4.50_-1.00_0.40_0.85_0.00_0.00_0.00.fits.gz\n",
      "Quick grid: 3750_4.50_-0.75_0.00_0.86_0.00_0.00_0.00.fits.gz\n",
      "Quick grid: 3750_4.50_-0.75_0.40_0.86_0.00_0.00_0.00.fits.gz\n",
      "Quick grid: 3750_4.50_-0.50_0.00_0.87_0.00_0.00_0.00.fits.gz\n",
      "Quick grid: 3750_4.50_-0.50_0.40_0.87_0.00_0.00_0.00.fits.gz\n",
      "Quick grid: 3750_4.50_-0.25_0.00_0.88_0.00_0.00_0.00.fits.gz\n",
      "Quick grid: 3750_4.50_-0.25_0.40_0.88_0.00_0.00_0.00.fits.gz\n",
      "Quick grid: 3750_4.50_0.00_0.00_0.89_0.00_0.00_0.00.fits.gz\n",
      "Quick grid: 3750_4.50_0.00_0.40_0.89_0.00_0.00_0.00.fits.gz\n",
      "Quick grid: 3750_4.50_0.25_0.00_0.90_0.00_0.00_0.00.fits.gz\n",
      "Quick grid: 3750_4.50_0.25_0.40_0.90_0.00_0.00_0.00.fits.gz\n",
      "Quick grid: 3750_4.50_0.50_0.00_0.92_0.00_0.00_0.00.fits.gz\n",
      "Quick grid: 3750_4.50_0.50_0.40_0.92_0.00_0.00_0.00.fits.gz\n",
      "Quick grid: 3750_5.00_-1.00_0.00_0.78_0.00_0.00_0.00.fits.gz\n",
      "Quick grid: 3750_5.00_-1.00_0.40_0.78_0.00_0.00_0.00.fits.gz\n",
      "Quick grid: 3750_5.00_-0.75_0.00_0.79_0.00_0.00_0.00.fits.gz\n",
      "Quick grid: 3750_5.00_-0.75_0.40_0.79_0.00_0.00_0.00.fits.gz\n",
      "Quick grid: 3750_5.00_-0.50_0.00_0.79_0.00_0.00_0.00.fits.gz\n",
      "Quick grid: 3750_5.00_-0.50_0.40_0.79_0.00_0.00_0.00.fits.gz\n",
      "Quick grid: 3750_5.00_-0.25_0.00_0.81_0.00_0.00_0.00.fits.gz\n",
      "Quick grid: 3750_5.00_-0.25_0.40_0.81_0.00_0.00_0.00.fits.gz\n",
      "Quick grid: 3750_5.00_0.00_0.00_0.82_0.00_0.00_0.00.fits.gz\n",
      "Quick grid: 3750_5.00_0.00_0.40_0.82_0.00_0.00_0.00.fits.gz\n",
      "Quick grid: 3750_5.00_0.25_0.00_0.83_0.00_0.00_0.00.fits.gz\n",
      "Quick grid: 3750_5.00_0.25_0.40_0.83_0.00_0.00_0.00.fits.gz\n",
      "Quick grid: 3750_5.00_0.50_0.00_0.84_0.00_0.00_0.00.fits.gz\n",
      "Quick grid: 3750_5.00_0.50_0.40_0.84_0.00_0.00_0.00.fits.gz\n",
      "Quick grid: 4000_3.00_-1.00_0.00_1.44_0.00_0.00_0.00.fits.gz\n",
      "Quick grid: 4000_3.00_-1.00_0.40_1.44_0.00_0.00_0.00.fits.gz\n",
      "Quick grid: 4000_3.00_-0.75_0.00_1.45_0.00_0.00_0.00.fits.gz\n",
      "Quick grid: 4000_3.00_-0.75_0.40_1.45_0.00_0.00_0.00.fits.gz\n",
      "Quick grid: 4000_3.00_-0.50_0.00_1.46_0.00_0.00_0.00.fits.gz\n",
      "Quick grid: 4000_3.00_-0.50_0.40_1.46_0.00_0.00_0.00.fits.gz\n",
      "Quick grid: 4000_3.00_-0.25_0.00_1.47_0.00_0.00_0.00.fits.gz\n",
      "Quick grid: 4000_3.00_-0.25_0.40_1.47_0.00_0.00_0.00.fits.gz\n",
      "Quick grid: 4000_3.00_0.00_0.00_1.48_0.00_0.00_0.00.fits.gz\n",
      "Quick grid: 4000_3.00_0.00_0.40_1.48_0.00_0.00_0.00.fits.gz\n",
      "Quick grid: 4000_3.00_0.25_0.00_1.49_0.00_0.00_0.00.fits.gz\n",
      "Quick grid: 4000_3.00_0.25_0.40_1.49_0.00_0.00_0.00.fits.gz\n",
      "Quick grid: 4000_3.00_0.50_0.00_1.51_0.00_0.00_0.00.fits.gz\n",
      "Quick grid: 4000_3.00_0.50_0.40_1.51_0.00_0.00_0.00.fits.gz\n",
      "Quick grid: 4000_3.50_-1.00_0.00_0.99_0.00_0.00_0.00.fits.gz\n",
      "Quick grid: 4000_3.50_-1.00_0.40_0.99_0.00_0.00_0.00.fits.gz\n",
      "Quick grid: 4000_3.50_-0.75_0.00_1.00_0.00_0.00_0.00.fits.gz\n",
      "Quick grid: 4000_3.50_-0.75_0.40_1.00_0.00_0.00_0.00.fits.gz\n",
      "Quick grid: 4000_3.50_-0.50_0.00_1.01_0.00_0.00_0.00.fits.gz\n",
      "Quick grid: 4000_3.50_-0.50_0.40_1.01_0.00_0.00_0.00.fits.gz\n",
      "Quick grid: 4000_3.50_-0.25_0.00_1.02_0.00_0.00_0.00.fits.gz\n",
      "Quick grid: 4000_3.50_-0.25_0.40_1.02_0.00_0.00_0.00.fits.gz\n",
      "Quick grid: 4000_3.50_0.00_0.00_1.03_0.00_0.00_0.00.fits.gz\n",
      "Quick grid: 4000_3.50_0.00_0.40_1.03_0.00_0.00_0.00.fits.gz\n",
      "Quick grid: 4000_3.50_0.25_0.00_1.04_0.00_0.00_0.00.fits.gz\n",
      "Quick grid: 4000_3.50_0.25_0.40_1.04_0.00_0.00_0.00.fits.gz\n",
      "Quick grid: 4000_3.50_0.50_0.00_1.06_0.00_0.00_0.00.fits.gz\n",
      "Quick grid: 4000_3.50_0.50_0.40_1.06_0.00_0.00_0.00.fits.gz\n",
      "Quick grid: 4000_4.00_-1.00_0.00_0.92_0.00_0.00_0.00.fits.gz\n",
      "Quick grid: 4000_4.00_-1.00_0.40_0.92_0.00_0.00_0.00.fits.gz\n",
      "Quick grid: 4000_4.00_-0.75_0.00_0.93_0.00_0.00_0.00.fits.gz\n",
      "Quick grid: 4000_4.00_-0.75_0.40_0.93_0.00_0.00_0.00.fits.gz\n",
      "Quick grid: 4000_4.00_-0.50_0.00_0.94_0.00_0.00_0.00.fits.gz\n",
      "Quick grid: 4000_4.00_-0.50_0.40_0.94_0.00_0.00_0.00.fits.gz\n",
      "Quick grid: 4000_4.00_-0.25_0.00_0.95_0.00_0.00_0.00.fits.gz\n",
      "Quick grid: 4000_4.00_-0.25_0.40_0.95_0.00_0.00_0.00.fits.gz\n",
      "Quick grid: 4000_4.00_0.00_0.00_0.96_0.00_0.00_0.00.fits.gz\n",
      "Quick grid: 4000_4.00_0.00_0.40_0.96_0.00_0.00_0.00.fits.gz\n",
      "Quick grid: 4000_4.00_0.25_0.00_0.98_0.00_0.00_0.00.fits.gz\n",
      "Quick grid: 4000_4.00_0.25_0.40_0.98_0.00_0.00_0.00.fits.gz\n",
      "Quick grid: 4000_4.00_0.50_0.00_0.99_0.00_0.00_0.00.fits.gz\n",
      "Quick grid: 4000_4.00_0.50_0.40_0.99_0.00_0.00_0.00.fits.gz\n",
      "Quick grid: 4000_4.50_-1.00_0.00_0.85_0.00_0.00_0.00.fits.gz\n",
      "Quick grid: 4000_4.50_-1.00_0.40_0.85_0.00_0.00_0.00.fits.gz\n",
      "Quick grid: 4000_4.50_-0.75_0.00_0.86_0.00_0.00_0.00.fits.gz\n",
      "Quick grid: 4000_4.50_-0.75_0.40_0.86_0.00_0.00_0.00.fits.gz\n",
      "Quick grid: 4000_4.50_-0.50_0.00_0.87_0.00_0.00_0.00.fits.gz\n",
      "Quick grid: 4000_4.50_-0.50_0.40_0.87_0.00_0.00_0.00.fits.gz\n",
      "Quick grid: 4000_4.50_-0.25_0.00_0.88_0.00_0.00_0.00.fits.gz\n",
      "Quick grid: 4000_4.50_-0.25_0.40_0.88_0.00_0.00_0.00.fits.gz\n",
      "Quick grid: 4000_4.50_0.00_0.00_0.89_0.00_0.00_0.00.fits.gz\n",
      "Quick grid: 4000_4.50_0.00_0.40_0.89_0.00_0.00_0.00.fits.gz\n",
      "Quick grid: 4000_4.50_0.25_0.00_0.90_0.00_0.00_0.00.fits.gz\n",
      "Quick grid: 4000_4.50_0.25_0.40_0.90_0.00_0.00_0.00.fits.gz\n",
      "Quick grid: 4000_4.50_0.50_0.00_0.92_0.00_0.00_0.00.fits.gz\n",
      "Quick grid: 4000_4.50_0.50_0.40_0.92_0.00_0.00_0.00.fits.gz\n",
      "Quick grid: 4000_5.00_-1.00_0.00_0.78_0.00_0.00_0.00.fits.gz\n",
      "Quick grid: 4000_5.00_-1.00_0.40_0.78_0.00_0.00_0.00.fits.gz\n",
      "Quick grid: 4000_5.00_-0.75_0.00_0.79_0.00_0.00_0.00.fits.gz\n",
      "Quick grid: 4000_5.00_-0.75_0.40_0.79_0.00_0.00_0.00.fits.gz\n",
      "Quick grid: 4000_5.00_-0.50_0.00_0.79_0.00_0.00_0.00.fits.gz\n",
      "Quick grid: 4000_5.00_-0.50_0.40_0.79_0.00_0.00_0.00.fits.gz\n",
      "Quick grid: 4000_5.00_-0.25_0.00_0.81_0.00_0.00_0.00.fits.gz\n",
      "Quick grid: 4000_5.00_-0.25_0.40_0.81_0.00_0.00_0.00.fits.gz\n",
      "Quick grid: 4000_5.00_0.00_0.00_0.82_0.00_0.00_0.00.fits.gz\n",
      "Quick grid: 4000_5.00_0.00_0.40_0.82_0.00_0.00_0.00.fits.gz\n",
      "Quick grid: 4000_5.00_0.25_0.00_0.83_0.00_0.00_0.00.fits.gz\n",
      "Quick grid: 4000_5.00_0.25_0.40_0.83_0.00_0.00_0.00.fits.gz\n",
      "Quick grid: 4000_5.00_0.50_0.00_0.84_0.00_0.00_0.00.fits.gz\n",
      "Quick grid: 4000_5.00_0.50_0.40_0.84_0.00_0.00_0.00.fits.gz\n",
      "Quick grid: 4250_3.00_-1.00_0.00_1.33_0.00_0.00_0.00.fits.gz\n",
      "Quick grid: 4250_3.00_-1.00_0.40_1.33_0.00_0.00_0.00.fits.gz\n",
      "Quick grid: 4250_3.00_-0.75_0.00_1.34_0.00_0.00_0.00.fits.gz\n",
      "Quick grid: 4250_3.00_-0.75_0.40_1.34_0.00_0.00_0.00.fits.gz\n",
      "Quick grid: 4250_3.00_-0.50_0.00_1.35_0.00_0.00_0.00.fits.gz\n",
      "Quick grid: 4250_3.00_-0.50_0.40_1.35_0.00_0.00_0.00.fits.gz\n",
      "Quick grid: 4250_3.00_-0.25_0.00_1.36_0.00_0.00_0.00.fits.gz\n",
      "Quick grid: 4250_3.00_-0.25_0.40_1.36_0.00_0.00_0.00.fits.gz\n",
      "Quick grid: 4250_3.00_0.00_0.00_1.37_0.00_0.00_0.00.fits.gz\n",
      "Quick grid: 4250_3.00_0.00_0.40_1.37_0.00_0.00_0.00.fits.gz\n",
      "Quick grid: 4250_3.00_0.25_0.00_1.38_0.00_0.00_0.00.fits.gz\n",
      "Quick grid: 4250_3.00_0.25_0.40_1.38_0.00_0.00_0.00.fits.gz\n",
      "Quick grid: 4250_3.00_0.50_0.00_1.40_0.00_0.00_0.00.fits.gz\n",
      "Quick grid: 4250_3.00_0.50_0.40_1.40_0.00_0.00_0.00.fits.gz\n",
      "Quick grid: 4250_3.50_-1.00_0.00_0.99_0.00_0.00_0.00.fits.gz\n",
      "Quick grid: 4250_3.50_-1.00_0.40_0.99_0.00_0.00_0.00.fits.gz\n",
      "Quick grid: 4250_3.50_-0.75_0.00_1.00_0.00_0.00_0.00.fits.gz\n",
      "Quick grid: 4250_3.50_-0.75_0.40_1.00_0.00_0.00_0.00.fits.gz\n",
      "Quick grid: 4250_3.50_-0.50_0.00_1.01_0.00_0.00_0.00.fits.gz\n",
      "Quick grid: 4250_3.50_-0.50_0.40_1.01_0.00_0.00_0.00.fits.gz\n",
      "Quick grid: 4250_3.50_-0.25_0.00_1.02_0.00_0.00_0.00.fits.gz\n",
      "Quick grid: 4250_3.50_-0.25_0.40_1.02_0.00_0.00_0.00.fits.gz\n",
      "Quick grid: 4250_3.50_0.00_0.00_1.03_0.00_0.00_0.00.fits.gz\n",
      "Quick grid: 4250_3.50_0.00_0.40_1.03_0.00_0.00_0.00.fits.gz\n",
      "Quick grid: 4250_3.50_0.25_0.00_1.04_0.00_0.00_0.00.fits.gz\n",
      "Quick grid: 4250_3.50_0.25_0.40_1.04_0.00_0.00_0.00.fits.gz\n",
      "Quick grid: 4250_3.50_0.50_0.00_1.06_0.00_0.00_0.00.fits.gz\n",
      "Quick grid: 4250_3.50_0.50_0.40_1.06_0.00_0.00_0.00.fits.gz\n",
      "Quick grid: 4250_4.00_-1.00_0.00_0.92_0.00_0.00_0.00.fits.gz\n",
      "Quick grid: 4250_4.00_-1.00_0.40_0.92_0.00_0.00_0.00.fits.gz\n",
      "Quick grid: 4250_4.00_-0.75_0.00_0.93_0.00_0.00_0.00.fits.gz\n"
     ]
    },
    {
     "name": "stdout",
     "output_type": "stream",
     "text": [
      "Quick grid: 4250_4.00_-0.75_0.40_0.93_0.00_0.00_0.00.fits.gz\n",
      "Quick grid: 4250_4.00_-0.50_0.00_0.94_0.00_0.00_0.00.fits.gz\n",
      "Quick grid: 4250_4.00_-0.50_0.40_0.94_0.00_0.00_0.00.fits.gz\n",
      "Quick grid: 4250_4.00_-0.25_0.00_0.95_0.00_0.00_0.00.fits.gz\n",
      "Quick grid: 4250_4.00_-0.25_0.40_0.95_0.00_0.00_0.00.fits.gz\n",
      "Quick grid: 4250_4.00_0.00_0.00_0.96_0.00_0.00_0.00.fits.gz\n",
      "Quick grid: 4250_4.00_0.00_0.40_0.96_0.00_0.00_0.00.fits.gz\n",
      "Quick grid: 4250_4.00_0.25_0.00_0.98_0.00_0.00_0.00.fits.gz\n",
      "Quick grid: 4250_4.00_0.25_0.40_0.98_0.00_0.00_0.00.fits.gz\n",
      "Quick grid: 4250_4.00_0.50_0.00_0.99_0.00_0.00_0.00.fits.gz\n",
      "Quick grid: 4250_4.00_0.50_0.40_0.99_0.00_0.00_0.00.fits.gz\n",
      "Quick grid: 4250_4.50_-1.00_0.00_0.85_0.00_0.00_0.00.fits.gz\n",
      "Quick grid: 4250_4.50_-1.00_0.40_0.85_0.00_0.00_0.00.fits.gz\n",
      "Quick grid: 4250_4.50_-0.75_0.00_0.86_0.00_0.00_0.00.fits.gz\n",
      "Quick grid: 4250_4.50_-0.75_0.40_0.86_0.00_0.00_0.00.fits.gz\n",
      "Quick grid: 4250_4.50_-0.50_0.00_0.87_0.00_0.00_0.00.fits.gz\n",
      "Quick grid: 4250_4.50_-0.50_0.40_0.87_0.00_0.00_0.00.fits.gz\n",
      "Quick grid: 4250_4.50_-0.25_0.00_0.88_0.00_0.00_0.00.fits.gz\n",
      "Quick grid: 4250_4.50_-0.25_0.40_0.88_0.00_0.00_0.00.fits.gz\n",
      "Quick grid: 4250_4.50_0.00_0.00_0.89_0.00_0.00_0.00.fits.gz\n",
      "Quick grid: 4250_4.50_0.00_0.40_0.89_0.00_0.00_0.00.fits.gz\n",
      "Quick grid: 4250_4.50_0.25_0.00_0.90_0.00_0.00_0.00.fits.gz\n",
      "Quick grid: 4250_4.50_0.25_0.40_0.90_0.00_0.00_0.00.fits.gz\n",
      "Quick grid: 4250_4.50_0.50_0.00_0.92_0.00_0.00_0.00.fits.gz\n",
      "Quick grid: 4250_4.50_0.50_0.40_0.92_0.00_0.00_0.00.fits.gz\n",
      "Quick grid: 4250_5.00_-1.00_0.00_0.78_0.00_0.00_0.00.fits.gz\n",
      "Quick grid: 4250_5.00_-1.00_0.40_0.78_0.00_0.00_0.00.fits.gz\n",
      "Quick grid: 4250_5.00_-0.75_0.00_0.79_0.00_0.00_0.00.fits.gz\n",
      "Quick grid: 4250_5.00_-0.75_0.40_0.79_0.00_0.00_0.00.fits.gz\n",
      "Quick grid: 4250_5.00_-0.50_0.00_0.79_0.00_0.00_0.00.fits.gz\n",
      "Quick grid: 4250_5.00_-0.50_0.40_0.79_0.00_0.00_0.00.fits.gz\n",
      "Quick grid: 4250_5.00_-0.25_0.00_0.81_0.00_0.00_0.00.fits.gz\n",
      "Quick grid: 4250_5.00_-0.25_0.40_0.81_0.00_0.00_0.00.fits.gz\n",
      "Quick grid: 4250_5.00_0.00_0.00_0.82_0.00_0.00_0.00.fits.gz\n",
      "Quick grid: 4250_5.00_0.00_0.40_0.82_0.00_0.00_0.00.fits.gz\n",
      "Quick grid: 4250_5.00_0.25_0.00_0.83_0.00_0.00_0.00.fits.gz\n",
      "Quick grid: 4250_5.00_0.25_0.40_0.83_0.00_0.00_0.00.fits.gz\n",
      "Quick grid: 4250_5.00_0.50_0.00_0.84_0.00_0.00_0.00.fits.gz\n",
      "Quick grid: 4250_5.00_0.50_0.40_0.84_0.00_0.00_0.00.fits.gz\n",
      "Quick grid: 4500_3.00_-1.00_0.00_1.25_0.00_0.00_0.00.fits.gz\n",
      "Quick grid: 4500_3.00_-1.00_0.40_1.25_0.00_0.00_0.00.fits.gz\n",
      "Quick grid: 4500_3.00_-0.75_0.00_1.26_0.00_0.00_0.00.fits.gz\n",
      "Quick grid: 4500_3.00_-0.75_0.40_1.26_0.00_0.00_0.00.fits.gz\n",
      "Quick grid: 4500_3.00_-0.50_0.00_1.27_0.00_0.00_0.00.fits.gz\n",
      "Quick grid: 4500_3.00_-0.50_0.40_1.27_0.00_0.00_0.00.fits.gz\n",
      "Quick grid: 4500_3.00_-0.25_0.00_1.28_0.00_0.00_0.00.fits.gz\n",
      "Quick grid: 4500_3.00_-0.25_0.40_1.28_0.00_0.00_0.00.fits.gz\n",
      "Quick grid: 4500_3.00_0.00_0.00_1.29_0.00_0.00_0.00.fits.gz\n",
      "Quick grid: 4500_3.00_0.00_0.40_1.29_0.00_0.00_0.00.fits.gz\n",
      "Quick grid: 4500_3.00_0.25_0.00_1.31_0.00_0.00_0.00.fits.gz\n",
      "Quick grid: 4500_3.00_0.25_0.40_1.31_0.00_0.00_0.00.fits.gz\n",
      "Quick grid: 4500_3.00_0.50_0.00_1.32_0.00_0.00_0.00.fits.gz\n",
      "Quick grid: 4500_3.00_0.50_0.40_1.32_0.00_0.00_0.00.fits.gz\n",
      "Quick grid: 4500_3.50_-1.00_0.00_0.99_0.00_0.00_0.00.fits.gz\n",
      "Quick grid: 4500_3.50_-1.00_0.40_0.99_0.00_0.00_0.00.fits.gz\n",
      "Quick grid: 4500_3.50_-0.75_0.00_1.00_0.00_0.00_0.00.fits.gz\n",
      "Quick grid: 4500_3.50_-0.75_0.40_1.00_0.00_0.00_0.00.fits.gz\n",
      "Quick grid: 4500_3.50_-0.50_0.00_1.01_0.00_0.00_0.00.fits.gz\n",
      "Quick grid: 4500_3.50_-0.50_0.40_1.01_0.00_0.00_0.00.fits.gz\n",
      "Quick grid: 4500_3.50_-0.25_0.00_1.02_0.00_0.00_0.00.fits.gz\n",
      "Quick grid: 4500_3.50_-0.25_0.40_1.02_0.00_0.00_0.00.fits.gz\n",
      "Quick grid: 4500_3.50_0.00_0.00_1.03_0.00_0.00_0.00.fits.gz\n",
      "Quick grid: 4500_3.50_0.00_0.40_1.03_0.00_0.00_0.00.fits.gz\n",
      "Quick grid: 4500_3.50_0.25_0.00_1.04_0.00_0.00_0.00.fits.gz\n",
      "Quick grid: 4500_3.50_0.25_0.40_1.04_0.00_0.00_0.00.fits.gz\n",
      "Quick grid: 4500_3.50_0.50_0.00_1.06_0.00_0.00_0.00.fits.gz\n",
      "Quick grid: 4500_3.50_0.50_0.40_1.06_0.00_0.00_0.00.fits.gz\n",
      "Quick grid: 4500_4.00_-1.00_0.00_0.92_0.00_0.00_0.00.fits.gz\n",
      "Quick grid: 4500_4.00_-1.00_0.40_0.92_0.00_0.00_0.00.fits.gz\n",
      "Quick grid: 4500_4.00_-0.75_0.00_0.93_0.00_0.00_0.00.fits.gz\n",
      "Quick grid: 4500_4.00_-0.75_0.40_0.93_0.00_0.00_0.00.fits.gz\n",
      "Quick grid: 4500_4.00_-0.50_0.00_0.94_0.00_0.00_0.00.fits.gz\n",
      "Quick grid: 4500_4.00_-0.50_0.40_0.94_0.00_0.00_0.00.fits.gz\n",
      "Quick grid: 4500_4.00_-0.25_0.00_0.95_0.00_0.00_0.00.fits.gz\n",
      "Quick grid: 4500_4.00_-0.25_0.40_0.95_0.00_0.00_0.00.fits.gz\n",
      "Quick grid: 4500_4.00_0.00_0.00_0.96_0.00_0.00_0.00.fits.gz\n",
      "Quick grid: 4500_4.00_0.00_0.40_0.96_0.00_0.00_0.00.fits.gz\n",
      "Quick grid: 4500_4.00_0.25_0.00_0.98_0.00_0.00_0.00.fits.gz\n",
      "Quick grid: 4500_4.00_0.25_0.40_0.98_0.00_0.00_0.00.fits.gz\n",
      "Quick grid: 4500_4.00_0.50_0.00_0.99_0.00_0.00_0.00.fits.gz\n",
      "Quick grid: 4500_4.00_0.50_0.40_0.99_0.00_0.00_0.00.fits.gz\n",
      "Quick grid: 4500_4.50_-1.00_0.00_0.85_0.00_0.00_0.00.fits.gz\n",
      "Quick grid: 4500_4.50_-1.00_0.40_0.85_0.00_0.00_0.00.fits.gz\n",
      "Quick grid: 4500_4.50_-0.75_0.00_0.86_0.00_0.00_0.00.fits.gz\n",
      "Quick grid: 4500_4.50_-0.75_0.40_0.86_0.00_0.00_0.00.fits.gz\n",
      "Quick grid: 4500_4.50_-0.50_0.00_0.87_0.00_0.00_0.00.fits.gz\n",
      "Quick grid: 4500_4.50_-0.50_0.40_0.87_0.00_0.00_0.00.fits.gz\n",
      "Quick grid: 4500_4.50_-0.25_0.00_0.88_0.00_0.00_0.00.fits.gz\n",
      "Quick grid: 4500_4.50_-0.25_0.40_0.88_0.00_0.00_0.00.fits.gz\n",
      "Quick grid: 4500_4.50_0.00_0.00_0.89_0.00_0.00_0.00.fits.gz\n",
      "Quick grid: 4500_4.50_0.00_0.40_0.89_0.00_0.00_0.00.fits.gz\n",
      "Quick grid: 4500_4.50_0.25_0.00_0.90_0.00_0.00_0.00.fits.gz\n",
      "Quick grid: 4500_4.50_0.25_0.40_0.90_0.00_0.00_0.00.fits.gz\n",
      "Quick grid: 4500_4.50_0.50_0.00_0.92_0.00_0.00_0.00.fits.gz\n",
      "Quick grid: 4500_4.50_0.50_0.40_0.92_0.00_0.00_0.00.fits.gz\n",
      "Quick grid: 4500_5.00_-1.00_0.00_0.78_0.00_0.00_0.00.fits.gz\n",
      "Quick grid: 4500_5.00_-1.00_0.40_0.78_0.00_0.00_0.00.fits.gz\n",
      "Quick grid: 4500_5.00_-0.75_0.00_0.79_0.00_0.00_0.00.fits.gz\n",
      "Quick grid: 4500_5.00_-0.75_0.40_0.79_0.00_0.00_0.00.fits.gz\n",
      "Quick grid: 4500_5.00_-0.50_0.00_0.79_0.00_0.00_0.00.fits.gz\n",
      "Quick grid: 4500_5.00_-0.50_0.40_0.79_0.00_0.00_0.00.fits.gz\n",
      "Quick grid: 4500_5.00_-0.25_0.00_0.81_0.00_0.00_0.00.fits.gz\n",
      "Quick grid: 4500_5.00_-0.25_0.40_0.81_0.00_0.00_0.00.fits.gz\n",
      "Quick grid: 4500_5.00_0.00_0.00_0.82_0.00_0.00_0.00.fits.gz\n",
      "Quick grid: 4500_5.00_0.00_0.40_0.82_0.00_0.00_0.00.fits.gz\n",
      "Quick grid: 4500_5.00_0.25_0.00_0.83_0.00_0.00_0.00.fits.gz\n",
      "Quick grid: 4500_5.00_0.25_0.40_0.83_0.00_0.00_0.00.fits.gz\n",
      "Quick grid: 4500_5.00_0.50_0.00_0.84_0.00_0.00_0.00.fits.gz\n",
      "Quick grid: 4500_5.00_0.50_0.40_0.84_0.00_0.00_0.00.fits.gz\n",
      "Quick grid: 4750_3.00_-1.00_0.00_1.22_0.00_0.00_0.00.fits.gz\n",
      "Quick grid: 4750_3.00_-1.00_0.40_1.22_0.00_0.00_0.00.fits.gz\n",
      "Quick grid: 4750_3.00_-0.75_0.00_1.23_0.00_0.00_0.00.fits.gz\n",
      "Quick grid: 4750_3.00_-0.75_0.40_1.23_0.00_0.00_0.00.fits.gz\n",
      "Quick grid: 4750_3.00_-0.50_0.00_1.24_0.00_0.00_0.00.fits.gz\n",
      "Quick grid: 4750_3.00_-0.50_0.40_1.24_0.00_0.00_0.00.fits.gz\n",
      "Quick grid: 4750_3.00_-0.25_0.00_1.25_0.00_0.00_0.00.fits.gz\n",
      "Quick grid: 4750_3.00_-0.25_0.40_1.25_0.00_0.00_0.00.fits.gz\n",
      "Quick grid: 4750_3.00_0.00_0.00_1.26_0.00_0.00_0.00.fits.gz\n",
      "Quick grid: 4750_3.00_0.00_0.40_1.26_0.00_0.00_0.00.fits.gz\n",
      "Quick grid: 4750_3.00_0.25_0.00_1.27_0.00_0.00_0.00.fits.gz\n",
      "Quick grid: 4750_3.00_0.25_0.40_1.27_0.00_0.00_0.00.fits.gz\n",
      "Quick grid: 4750_3.00_0.50_0.00_1.29_0.00_0.00_0.00.fits.gz\n",
      "Quick grid: 4750_3.00_0.50_0.40_1.29_0.00_0.00_0.00.fits.gz\n",
      "Quick grid: 4750_3.50_-1.00_0.00_0.99_0.00_0.00_0.00.fits.gz\n",
      "Quick grid: 4750_3.50_-1.00_0.40_0.99_0.00_0.00_0.00.fits.gz\n",
      "Quick grid: 4750_3.50_-0.75_0.00_1.00_0.00_0.00_0.00.fits.gz\n",
      "Quick grid: 4750_3.50_-0.75_0.40_1.00_0.00_0.00_0.00.fits.gz\n",
      "Quick grid: 4750_3.50_-0.50_0.00_1.01_0.00_0.00_0.00.fits.gz\n",
      "Quick grid: 4750_3.50_-0.50_0.40_1.01_0.00_0.00_0.00.fits.gz\n",
      "Quick grid: 4750_3.50_-0.25_0.00_1.02_0.00_0.00_0.00.fits.gz\n",
      "Quick grid: 4750_3.50_-0.25_0.40_1.02_0.00_0.00_0.00.fits.gz\n",
      "Quick grid: 4750_3.50_0.00_0.00_1.03_0.00_0.00_0.00.fits.gz\n",
      "Quick grid: 4750_3.50_0.00_0.40_1.03_0.00_0.00_0.00.fits.gz\n",
      "Quick grid: 4750_3.50_0.25_0.00_1.04_0.00_0.00_0.00.fits.gz\n",
      "Quick grid: 4750_3.50_0.25_0.40_1.04_0.00_0.00_0.00.fits.gz\n",
      "Quick grid: 4750_3.50_0.50_0.00_1.06_0.00_0.00_0.00.fits.gz\n"
     ]
    },
    {
     "name": "stdout",
     "output_type": "stream",
     "text": [
      "Quick grid: 4750_3.50_0.50_0.40_1.06_0.00_0.00_0.00.fits.gz\n",
      "Quick grid: 4750_4.00_-1.00_0.00_0.92_0.00_0.00_0.00.fits.gz\n",
      "Quick grid: 4750_4.00_-1.00_0.40_0.92_0.00_0.00_0.00.fits.gz\n",
      "Quick grid: 4750_4.00_-0.75_0.00_0.93_0.00_0.00_0.00.fits.gz\n",
      "Quick grid: 4750_4.00_-0.75_0.40_0.93_0.00_0.00_0.00.fits.gz\n",
      "Quick grid: 4750_4.00_-0.50_0.00_0.94_0.00_0.00_0.00.fits.gz\n",
      "Quick grid: 4750_4.00_-0.50_0.40_0.94_0.00_0.00_0.00.fits.gz\n",
      "Quick grid: 4750_4.00_-0.25_0.00_0.95_0.00_0.00_0.00.fits.gz\n",
      "Quick grid: 4750_4.00_-0.25_0.40_0.95_0.00_0.00_0.00.fits.gz\n",
      "Quick grid: 4750_4.00_0.00_0.00_0.96_0.00_0.00_0.00.fits.gz\n",
      "Quick grid: 4750_4.00_0.00_0.40_0.96_0.00_0.00_0.00.fits.gz\n",
      "Quick grid: 4750_4.00_0.25_0.00_0.98_0.00_0.00_0.00.fits.gz\n",
      "Quick grid: 4750_4.00_0.25_0.40_0.98_0.00_0.00_0.00.fits.gz\n",
      "Quick grid: 4750_4.00_0.50_0.00_0.99_0.00_0.00_0.00.fits.gz\n",
      "Quick grid: 4750_4.00_0.50_0.40_0.99_0.00_0.00_0.00.fits.gz\n",
      "Quick grid: 4750_4.50_-1.00_0.00_0.85_0.00_0.00_0.00.fits.gz\n",
      "Quick grid: 4750_4.50_-1.00_0.40_0.85_0.00_0.00_0.00.fits.gz\n",
      "Quick grid: 4750_4.50_-0.75_0.00_0.86_0.00_0.00_0.00.fits.gz\n",
      "Quick grid: 4750_4.50_-0.75_0.40_0.86_0.00_0.00_0.00.fits.gz\n",
      "Quick grid: 4750_4.50_-0.50_0.00_0.87_0.00_0.00_0.00.fits.gz\n",
      "Quick grid: 4750_4.50_-0.50_0.40_0.87_0.00_0.00_0.00.fits.gz\n",
      "Quick grid: 4750_4.50_-0.25_0.00_0.88_0.00_0.00_0.00.fits.gz\n",
      "Quick grid: 4750_4.50_-0.25_0.40_0.88_0.00_0.00_0.00.fits.gz\n",
      "Quick grid: 4750_4.50_0.00_0.00_0.89_0.00_0.00_0.00.fits.gz\n",
      "Quick grid: 4750_4.50_0.00_0.40_0.89_0.00_0.00_0.00.fits.gz\n",
      "Quick grid: 4750_4.50_0.25_0.00_0.90_0.00_0.00_0.00.fits.gz\n",
      "Quick grid: 4750_4.50_0.25_0.40_0.90_0.00_0.00_0.00.fits.gz\n",
      "Quick grid: 4750_4.50_0.50_0.00_0.92_0.00_0.00_0.00.fits.gz\n",
      "Quick grid: 4750_4.50_0.50_0.40_0.92_0.00_0.00_0.00.fits.gz\n",
      "Quick grid: 4750_5.00_-1.00_0.00_0.78_0.00_0.00_0.00.fits.gz\n",
      "Quick grid: 4750_5.00_-1.00_0.40_0.78_0.00_0.00_0.00.fits.gz\n",
      "Quick grid: 4750_5.00_-0.75_0.00_0.79_0.00_0.00_0.00.fits.gz\n",
      "Quick grid: 4750_5.00_-0.75_0.40_0.79_0.00_0.00_0.00.fits.gz\n",
      "Quick grid: 4750_5.00_-0.50_0.00_0.79_0.00_0.00_0.00.fits.gz\n",
      "Quick grid: 4750_5.00_-0.50_0.40_0.79_0.00_0.00_0.00.fits.gz\n",
      "Quick grid: 4750_5.00_-0.25_0.00_0.81_0.00_0.00_0.00.fits.gz\n",
      "Quick grid: 4750_5.00_-0.25_0.40_0.81_0.00_0.00_0.00.fits.gz\n",
      "Quick grid: 4750_5.00_0.00_0.00_0.82_0.00_0.00_0.00.fits.gz\n",
      "Quick grid: 4750_5.00_0.00_0.40_0.82_0.00_0.00_0.00.fits.gz\n",
      "Quick grid: 4750_5.00_0.25_0.00_0.83_0.00_0.00_0.00.fits.gz\n",
      "Quick grid: 4750_5.00_0.25_0.40_0.83_0.00_0.00_0.00.fits.gz\n",
      "Quick grid: 4750_5.00_0.50_0.00_0.84_0.00_0.00_0.00.fits.gz\n",
      "Quick grid: 4750_5.00_0.50_0.40_0.84_0.00_0.00_0.00.fits.gz\n",
      "Quick grid: 5000_3.00_-1.00_0.00_1.22_0.00_0.00_0.00.fits.gz\n",
      "Quick grid: 5000_3.00_-1.00_0.40_1.22_0.00_0.00_0.00.fits.gz\n",
      "Quick grid: 5000_3.00_-0.75_0.00_1.23_0.00_0.00_0.00.fits.gz\n",
      "Quick grid: 5000_3.00_-0.75_0.40_1.23_0.00_0.00_0.00.fits.gz\n",
      "Quick grid: 5000_3.00_-0.50_0.00_1.24_0.00_0.00_0.00.fits.gz\n",
      "Quick grid: 5000_3.00_-0.50_0.40_1.24_0.00_0.00_0.00.fits.gz\n",
      "Quick grid: 5000_3.00_-0.25_0.00_1.25_0.00_0.00_0.00.fits.gz\n",
      "Quick grid: 5000_3.00_-0.25_0.40_1.25_0.00_0.00_0.00.fits.gz\n",
      "Quick grid: 5000_3.00_0.00_0.00_1.26_0.00_0.00_0.00.fits.gz\n",
      "Quick grid: 5000_3.00_0.00_0.40_1.26_0.00_0.00_0.00.fits.gz\n",
      "Quick grid: 5000_3.00_0.25_0.00_1.28_0.00_0.00_0.00.fits.gz\n",
      "Quick grid: 5000_3.00_0.25_0.40_1.28_0.00_0.00_0.00.fits.gz\n",
      "Quick grid: 5000_3.00_0.50_0.00_1.29_0.00_0.00_0.00.fits.gz\n",
      "Quick grid: 5000_3.00_0.50_0.40_1.29_0.00_0.00_0.00.fits.gz\n",
      "Quick grid: 5000_3.50_-1.00_0.00_0.99_0.00_0.00_0.00.fits.gz\n",
      "Quick grid: 5000_3.50_-1.00_0.40_0.99_0.00_0.00_0.00.fits.gz\n",
      "Quick grid: 5000_3.50_-0.75_0.00_1.00_0.00_0.00_0.00.fits.gz\n",
      "Quick grid: 5000_3.50_-0.75_0.40_1.00_0.00_0.00_0.00.fits.gz\n",
      "Quick grid: 5000_3.50_-0.50_0.00_1.01_0.00_0.00_0.00.fits.gz\n",
      "Quick grid: 5000_3.50_-0.50_0.40_1.01_0.00_0.00_0.00.fits.gz\n",
      "Quick grid: 5000_3.50_-0.25_0.00_1.02_0.00_0.00_0.00.fits.gz\n",
      "Quick grid: 5000_3.50_-0.25_0.40_1.02_0.00_0.00_0.00.fits.gz\n",
      "Quick grid: 5000_3.50_0.00_0.00_1.03_0.00_0.00_0.00.fits.gz\n",
      "Quick grid: 5000_3.50_0.00_0.40_1.03_0.00_0.00_0.00.fits.gz\n",
      "Quick grid: 5000_3.50_0.25_0.00_1.04_0.00_0.00_0.00.fits.gz\n",
      "Quick grid: 5000_3.50_0.25_0.40_1.04_0.00_0.00_0.00.fits.gz\n",
      "Quick grid: 5000_3.50_0.50_0.00_1.06_0.00_0.00_0.00.fits.gz\n",
      "Quick grid: 5000_3.50_0.50_0.40_1.06_0.00_0.00_0.00.fits.gz\n",
      "Quick grid: 5000_4.00_-1.00_0.00_0.92_0.00_0.00_0.00.fits.gz\n",
      "Quick grid: 5000_4.00_-1.00_0.40_0.92_0.00_0.00_0.00.fits.gz\n",
      "Quick grid: 5000_4.00_-0.75_0.00_0.93_0.00_0.00_0.00.fits.gz\n",
      "Quick grid: 5000_4.00_-0.75_0.40_0.93_0.00_0.00_0.00.fits.gz\n",
      "Quick grid: 5000_4.00_-0.50_0.00_0.94_0.00_0.00_0.00.fits.gz\n",
      "Quick grid: 5000_4.00_-0.50_0.40_0.94_0.00_0.00_0.00.fits.gz\n",
      "Quick grid: 5000_4.00_-0.25_0.00_0.95_0.00_0.00_0.00.fits.gz\n",
      "Quick grid: 5000_4.00_-0.25_0.40_0.95_0.00_0.00_0.00.fits.gz\n",
      "Quick grid: 5000_4.00_0.00_0.00_0.96_0.00_0.00_0.00.fits.gz\n",
      "Quick grid: 5000_4.00_0.00_0.40_0.96_0.00_0.00_0.00.fits.gz\n",
      "Quick grid: 5000_4.00_0.25_0.00_0.98_0.00_0.00_0.00.fits.gz\n",
      "Quick grid: 5000_4.00_0.25_0.40_0.98_0.00_0.00_0.00.fits.gz\n",
      "Quick grid: 5000_4.00_0.50_0.00_0.99_0.00_0.00_0.00.fits.gz\n",
      "Quick grid: 5000_4.00_0.50_0.40_0.99_0.00_0.00_0.00.fits.gz\n",
      "Quick grid: 5000_4.50_-1.00_0.00_0.85_0.00_0.00_0.00.fits.gz\n",
      "Quick grid: 5000_4.50_-1.00_0.40_0.85_0.00_0.00_0.00.fits.gz\n",
      "Quick grid: 5000_4.50_-0.75_0.00_0.86_0.00_0.00_0.00.fits.gz\n",
      "Quick grid: 5000_4.50_-0.75_0.40_0.86_0.00_0.00_0.00.fits.gz\n",
      "Quick grid: 5000_4.50_-0.50_0.00_0.87_0.00_0.00_0.00.fits.gz\n",
      "Quick grid: 5000_4.50_-0.50_0.40_0.87_0.00_0.00_0.00.fits.gz\n",
      "Quick grid: 5000_4.50_-0.25_0.00_0.88_0.00_0.00_0.00.fits.gz\n",
      "Quick grid: 5000_4.50_-0.25_0.40_0.88_0.00_0.00_0.00.fits.gz\n",
      "Quick grid: 5000_4.50_0.00_0.00_0.89_0.00_0.00_0.00.fits.gz\n",
      "Quick grid: 5000_4.50_0.00_0.40_0.89_0.00_0.00_0.00.fits.gz\n",
      "Quick grid: 5000_4.50_0.25_0.00_0.90_0.00_0.00_0.00.fits.gz\n",
      "Quick grid: 5000_4.50_0.25_0.40_0.90_0.00_0.00_0.00.fits.gz\n",
      "Quick grid: 5000_4.50_0.50_0.00_0.92_0.00_0.00_0.00.fits.gz\n",
      "Quick grid: 5000_4.50_0.50_0.40_0.92_0.00_0.00_0.00.fits.gz\n",
      "Quick grid: 5000_5.00_-1.00_0.00_0.78_0.00_0.00_0.00.fits.gz\n",
      "Quick grid: 5000_5.00_-1.00_0.40_0.78_0.00_0.00_0.00.fits.gz\n",
      "Quick grid: 5000_5.00_-0.75_0.00_0.79_0.00_0.00_0.00.fits.gz\n",
      "Quick grid: 5000_5.00_-0.75_0.40_0.79_0.00_0.00_0.00.fits.gz\n",
      "Quick grid: 5000_5.00_-0.50_0.00_0.79_0.00_0.00_0.00.fits.gz\n",
      "Quick grid: 5000_5.00_-0.50_0.40_0.79_0.00_0.00_0.00.fits.gz\n",
      "Quick grid: 5000_5.00_-0.25_0.00_0.81_0.00_0.00_0.00.fits.gz\n",
      "Quick grid: 5000_5.00_-0.25_0.40_0.81_0.00_0.00_0.00.fits.gz\n",
      "Quick grid: 5000_5.00_0.00_0.00_0.82_0.00_0.00_0.00.fits.gz\n",
      "Quick grid: 5000_5.00_0.00_0.40_0.82_0.00_0.00_0.00.fits.gz\n",
      "Quick grid: 5000_5.00_0.25_0.00_0.83_0.00_0.00_0.00.fits.gz\n",
      "Quick grid: 5000_5.00_0.25_0.40_0.83_0.00_0.00_0.00.fits.gz\n",
      "Quick grid: 5000_5.00_0.50_0.00_0.84_0.00_0.00_0.00.fits.gz\n",
      "Quick grid: 5000_5.00_0.50_0.40_0.84_0.00_0.00_0.00.fits.gz\n",
      "Quick grid: 5250_3.00_-1.00_0.00_1.26_0.00_0.00_0.00.fits.gz\n",
      "Quick grid: 5250_3.00_-1.00_0.40_1.26_0.00_0.00_0.00.fits.gz\n",
      "Quick grid: 5250_3.00_-0.75_0.00_1.27_0.00_0.00_0.00.fits.gz\n",
      "Quick grid: 5250_3.00_-0.75_0.40_1.27_0.00_0.00_0.00.fits.gz\n",
      "Quick grid: 5250_3.00_-0.50_0.00_1.28_0.00_0.00_0.00.fits.gz\n",
      "Quick grid: 5250_3.00_-0.50_0.40_1.28_0.00_0.00_0.00.fits.gz\n",
      "Quick grid: 5250_3.00_-0.25_0.00_1.29_0.00_0.00_0.00.fits.gz\n",
      "Quick grid: 5250_3.00_-0.25_0.40_1.29_0.00_0.00_0.00.fits.gz\n",
      "Quick grid: 5250_3.00_0.00_0.00_1.30_0.00_0.00_0.00.fits.gz\n",
      "Quick grid: 5250_3.00_0.00_0.40_1.30_0.00_0.00_0.00.fits.gz\n",
      "Quick grid: 5250_3.00_0.25_0.00_1.32_0.00_0.00_0.00.fits.gz\n",
      "Quick grid: 5250_3.00_0.25_0.40_1.32_0.00_0.00_0.00.fits.gz\n",
      "Quick grid: 5250_3.00_0.50_0.00_1.33_0.00_0.00_0.00.fits.gz\n",
      "Quick grid: 5250_3.00_0.50_0.40_1.33_0.00_0.00_0.00.fits.gz\n",
      "Quick grid: 5250_3.50_-1.00_0.00_1.03_0.00_0.00_0.00.fits.gz\n",
      "Quick grid: 5250_3.50_-1.00_0.40_1.03_0.00_0.00_0.00.fits.gz\n",
      "Quick grid: 5250_3.50_-0.75_0.00_1.03_0.00_0.00_0.00.fits.gz\n",
      "Quick grid: 5250_3.50_-0.75_0.40_1.03_0.00_0.00_0.00.fits.gz\n",
      "Quick grid: 5250_3.50_-0.50_0.00_1.04_0.00_0.00_0.00.fits.gz\n",
      "Quick grid: 5250_3.50_-0.50_0.40_1.04_0.00_0.00_0.00.fits.gz\n",
      "Quick grid: 5250_3.50_-0.25_0.00_1.05_0.00_0.00_0.00.fits.gz\n",
      "Quick grid: 5250_3.50_-0.25_0.40_1.05_0.00_0.00_0.00.fits.gz\n",
      "Quick grid: 5250_3.50_0.00_0.00_1.07_0.00_0.00_0.00.fits.gz\n"
     ]
    },
    {
     "name": "stdout",
     "output_type": "stream",
     "text": [
      "Quick grid: 5250_3.50_0.00_0.40_1.07_0.00_0.00_0.00.fits.gz\n",
      "Quick grid: 5250_3.50_0.25_0.00_1.08_0.00_0.00_0.00.fits.gz\n",
      "Quick grid: 5250_3.50_0.25_0.40_1.08_0.00_0.00_0.00.fits.gz\n",
      "Quick grid: 5250_3.50_0.50_0.00_1.09_0.00_0.00_0.00.fits.gz\n",
      "Quick grid: 5250_3.50_0.50_0.40_1.09_0.00_0.00_0.00.fits.gz\n",
      "Quick grid: 5250_4.00_-1.00_0.00_0.96_0.00_0.00_0.00.fits.gz\n",
      "Quick grid: 5250_4.00_-1.00_0.40_0.96_0.00_0.00_0.00.fits.gz\n",
      "Quick grid: 5250_4.00_-0.75_0.00_0.96_0.00_0.00_0.00.fits.gz\n",
      "Quick grid: 5250_4.00_-0.75_0.40_0.96_0.00_0.00_0.00.fits.gz\n",
      "Quick grid: 5250_4.00_-0.50_0.00_0.97_0.00_0.00_0.00.fits.gz\n",
      "Quick grid: 5250_4.00_-0.50_0.40_0.97_0.00_0.00_0.00.fits.gz\n",
      "Quick grid: 5250_4.00_-0.25_0.00_0.98_0.00_0.00_0.00.fits.gz\n",
      "Quick grid: 5250_4.00_-0.25_0.40_0.98_0.00_0.00_0.00.fits.gz\n",
      "Quick grid: 5250_4.00_0.00_0.00_1.00_0.00_0.00_0.00.fits.gz\n",
      "Quick grid: 5250_4.00_0.00_0.40_1.00_0.00_0.00_0.00.fits.gz\n",
      "Quick grid: 5250_4.00_0.25_0.00_1.01_0.00_0.00_0.00.fits.gz\n",
      "Quick grid: 5250_4.00_0.25_0.40_1.01_0.00_0.00_0.00.fits.gz\n",
      "Quick grid: 5250_4.00_0.50_0.00_1.02_0.00_0.00_0.00.fits.gz\n",
      "Quick grid: 5250_4.00_0.50_0.40_1.02_0.00_0.00_0.00.fits.gz\n",
      "Quick grid: 5250_4.50_-1.00_0.00_0.89_0.00_0.00_0.00.fits.gz\n",
      "Quick grid: 5250_4.50_-1.00_0.40_0.89_0.00_0.00_0.00.fits.gz\n",
      "Quick grid: 5250_4.50_-0.75_0.00_0.89_0.00_0.00_0.00.fits.gz\n",
      "Quick grid: 5250_4.50_-0.75_0.40_0.89_0.00_0.00_0.00.fits.gz\n",
      "Quick grid: 5250_4.50_-0.50_0.00_0.90_0.00_0.00_0.00.fits.gz\n",
      "Quick grid: 5250_4.50_-0.50_0.40_0.90_0.00_0.00_0.00.fits.gz\n",
      "Quick grid: 5250_4.50_-0.25_0.00_0.91_0.00_0.00_0.00.fits.gz\n",
      "Quick grid: 5250_4.50_-0.25_0.40_0.91_0.00_0.00_0.00.fits.gz\n",
      "Quick grid: 5250_4.50_0.00_0.00_0.93_0.00_0.00_0.00.fits.gz\n",
      "Quick grid: 5250_4.50_0.00_0.40_0.93_0.00_0.00_0.00.fits.gz\n",
      "Quick grid: 5250_4.50_0.25_0.00_0.94_0.00_0.00_0.00.fits.gz\n",
      "Quick grid: 5250_4.50_0.25_0.40_0.94_0.00_0.00_0.00.fits.gz\n",
      "Quick grid: 5250_4.50_0.50_0.00_0.95_0.00_0.00_0.00.fits.gz\n",
      "Quick grid: 5250_4.50_0.50_0.40_0.95_0.00_0.00_0.00.fits.gz\n",
      "Quick grid: 5250_5.00_-1.00_0.00_0.81_0.00_0.00_0.00.fits.gz\n",
      "Quick grid: 5250_5.00_-1.00_0.40_0.81_0.00_0.00_0.00.fits.gz\n",
      "Quick grid: 5250_5.00_-0.75_0.00_0.82_0.00_0.00_0.00.fits.gz\n",
      "Quick grid: 5250_5.00_-0.75_0.40_0.82_0.00_0.00_0.00.fits.gz\n",
      "Quick grid: 5250_5.00_-0.50_0.00_0.83_0.00_0.00_0.00.fits.gz\n",
      "Quick grid: 5250_5.00_-0.50_0.40_0.83_0.00_0.00_0.00.fits.gz\n",
      "Quick grid: 5250_5.00_-0.25_0.00_0.84_0.00_0.00_0.00.fits.gz\n",
      "Quick grid: 5250_5.00_-0.25_0.40_0.84_0.00_0.00_0.00.fits.gz\n",
      "Quick grid: 5250_5.00_0.00_0.00_0.85_0.00_0.00_0.00.fits.gz\n",
      "Quick grid: 5250_5.00_0.00_0.40_0.85_0.00_0.00_0.00.fits.gz\n",
      "Quick grid: 5250_5.00_0.25_0.00_0.86_0.00_0.00_0.00.fits.gz\n",
      "Quick grid: 5250_5.00_0.25_0.40_0.86_0.00_0.00_0.00.fits.gz\n",
      "Quick grid: 5250_5.00_0.50_0.00_0.88_0.00_0.00_0.00.fits.gz\n",
      "Quick grid: 5250_5.00_0.50_0.40_0.88_0.00_0.00_0.00.fits.gz\n",
      "Quick grid: 5500_3.00_-1.00_0.00_1.35_0.00_0.00_0.00.fits.gz\n",
      "Quick grid: 5500_3.00_-1.00_0.40_1.35_0.00_0.00_0.00.fits.gz\n",
      "Quick grid: 5500_3.00_-0.75_0.00_1.35_0.00_0.00_0.00.fits.gz\n",
      "Quick grid: 5500_3.00_-0.75_0.40_1.35_0.00_0.00_0.00.fits.gz\n",
      "Quick grid: 5500_3.00_-0.50_0.00_1.36_0.00_0.00_0.00.fits.gz\n",
      "Quick grid: 5500_3.00_-0.50_0.40_1.36_0.00_0.00_0.00.fits.gz\n",
      "Quick grid: 5500_3.00_-0.25_0.00_1.37_0.00_0.00_0.00.fits.gz\n",
      "Quick grid: 5500_3.00_-0.25_0.40_1.37_0.00_0.00_0.00.fits.gz\n",
      "Quick grid: 5500_3.00_0.00_0.00_1.39_0.00_0.00_0.00.fits.gz\n",
      "Quick grid: 5500_3.00_0.00_0.40_1.39_0.00_0.00_0.00.fits.gz\n",
      "Quick grid: 5500_3.00_0.25_0.00_1.40_0.00_0.00_0.00.fits.gz\n",
      "Quick grid: 5500_3.00_0.25_0.40_1.40_0.00_0.00_0.00.fits.gz\n",
      "Quick grid: 5500_3.00_0.50_0.00_1.41_0.00_0.00_0.00.fits.gz\n",
      "Quick grid: 5500_3.00_0.50_0.40_1.41_0.00_0.00_0.00.fits.gz\n",
      "Quick grid: 5500_3.50_-1.00_0.00_1.08_0.00_0.00_0.00.fits.gz\n",
      "Quick grid: 5500_3.50_-1.00_0.40_1.08_0.00_0.00_0.00.fits.gz\n",
      "Quick grid: 5500_3.50_-0.75_0.00_1.09_0.00_0.00_0.00.fits.gz\n",
      "Quick grid: 5500_3.50_-0.75_0.40_1.09_0.00_0.00_0.00.fits.gz\n",
      "Quick grid: 5500_3.50_-0.50_0.00_1.10_0.00_0.00_0.00.fits.gz\n",
      "Quick grid: 5500_3.50_-0.50_0.40_1.10_0.00_0.00_0.00.fits.gz\n",
      "Quick grid: 5500_3.50_-0.25_0.00_1.11_0.00_0.00_0.00.fits.gz\n",
      "Quick grid: 5500_3.50_-0.25_0.40_1.11_0.00_0.00_0.00.fits.gz\n",
      "Quick grid: 5500_3.50_0.00_0.00_1.12_0.00_0.00_0.00.fits.gz\n",
      "Quick grid: 5500_3.50_0.00_0.40_1.12_0.00_0.00_0.00.fits.gz\n",
      "Quick grid: 5500_3.50_0.25_0.00_1.13_0.00_0.00_0.00.fits.gz\n",
      "Quick grid: 5500_3.50_0.25_0.40_1.13_0.00_0.00_0.00.fits.gz\n",
      "Quick grid: 5500_3.50_0.50_0.00_1.15_0.00_0.00_0.00.fits.gz\n",
      "Quick grid: 5500_3.50_0.50_0.40_1.15_0.00_0.00_0.00.fits.gz\n",
      "Quick grid: 5500_4.00_-1.00_0.00_1.01_0.00_0.00_0.00.fits.gz\n",
      "Quick grid: 5500_4.00_-1.00_0.40_1.01_0.00_0.00_0.00.fits.gz\n",
      "Quick grid: 5500_4.00_-0.75_0.00_1.02_0.00_0.00_0.00.fits.gz\n",
      "Quick grid: 5500_4.00_-0.75_0.40_1.02_0.00_0.00_0.00.fits.gz\n",
      "Quick grid: 5500_4.00_-0.50_0.00_1.03_0.00_0.00_0.00.fits.gz\n",
      "Quick grid: 5500_4.00_-0.50_0.40_1.03_0.00_0.00_0.00.fits.gz\n",
      "Quick grid: 5500_4.00_-0.25_0.00_1.04_0.00_0.00_0.00.fits.gz\n",
      "Quick grid: 5500_4.00_-0.25_0.40_1.04_0.00_0.00_0.00.fits.gz\n",
      "Quick grid: 5500_4.00_0.00_0.00_1.05_0.00_0.00_0.00.fits.gz\n",
      "Quick grid: 5500_4.00_0.00_0.40_1.05_0.00_0.00_0.00.fits.gz\n",
      "Quick grid: 5500_4.00_0.25_0.00_1.06_0.00_0.00_0.00.fits.gz\n",
      "Quick grid: 5500_4.00_0.25_0.40_1.06_0.00_0.00_0.00.fits.gz\n",
      "Quick grid: 5500_4.00_0.50_0.00_1.08_0.00_0.00_0.00.fits.gz\n",
      "Quick grid: 5500_4.00_0.50_0.40_1.08_0.00_0.00_0.00.fits.gz\n",
      "Quick grid: 5500_4.50_-1.00_0.00_0.94_0.00_0.00_0.00.fits.gz\n",
      "Quick grid: 5500_4.50_-1.00_0.40_0.94_0.00_0.00_0.00.fits.gz\n",
      "Quick grid: 5500_4.50_-0.75_0.00_0.95_0.00_0.00_0.00.fits.gz\n",
      "Quick grid: 5500_4.50_-0.75_0.40_0.95_0.00_0.00_0.00.fits.gz\n",
      "Quick grid: 5500_4.50_-0.50_0.00_0.96_0.00_0.00_0.00.fits.gz\n",
      "Quick grid: 5500_4.50_-0.50_0.40_0.96_0.00_0.00_0.00.fits.gz\n",
      "Quick grid: 5500_4.50_-0.25_0.00_0.97_0.00_0.00_0.00.fits.gz\n",
      "Quick grid: 5500_4.50_-0.25_0.40_0.97_0.00_0.00_0.00.fits.gz\n",
      "Quick grid: 5500_4.50_0.00_0.00_0.98_0.00_0.00_0.00.fits.gz\n",
      "Quick grid: 5500_4.50_0.00_0.40_0.98_0.00_0.00_0.00.fits.gz\n",
      "Quick grid: 5500_4.50_0.25_0.00_0.99_0.00_0.00_0.00.fits.gz\n",
      "Quick grid: 5500_4.50_0.25_0.40_0.99_0.00_0.00_0.00.fits.gz\n",
      "Quick grid: 5500_4.50_0.50_0.00_1.01_0.00_0.00_0.00.fits.gz\n",
      "Quick grid: 5500_4.50_0.50_0.40_1.01_0.00_0.00_0.00.fits.gz\n",
      "Quick grid: 5500_5.00_-1.00_0.00_0.86_0.00_0.00_0.00.fits.gz\n",
      "Quick grid: 5500_5.00_-1.00_0.40_0.86_0.00_0.00_0.00.fits.gz\n",
      "Quick grid: 5500_5.00_-0.75_0.00_0.87_0.00_0.00_0.00.fits.gz\n",
      "Quick grid: 5500_5.00_-0.75_0.40_0.87_0.00_0.00_0.00.fits.gz\n",
      "Quick grid: 5500_5.00_-0.50_0.00_0.88_0.00_0.00_0.00.fits.gz\n",
      "Quick grid: 5500_5.00_-0.50_0.40_0.88_0.00_0.00_0.00.fits.gz\n",
      "Quick grid: 5500_5.00_-0.25_0.00_0.89_0.00_0.00_0.00.fits.gz\n",
      "Quick grid: 5500_5.00_-0.25_0.40_0.89_0.00_0.00_0.00.fits.gz\n",
      "Quick grid: 5500_5.00_0.00_0.00_0.91_0.00_0.00_0.00.fits.gz\n",
      "Quick grid: 5500_5.00_0.00_0.40_0.91_0.00_0.00_0.00.fits.gz\n",
      "Quick grid: 5500_5.00_0.25_0.00_0.92_0.00_0.00_0.00.fits.gz\n",
      "Quick grid: 5500_5.00_0.25_0.40_0.92_0.00_0.00_0.00.fits.gz\n",
      "Quick grid: 5500_5.00_0.50_0.00_0.93_0.00_0.00_0.00.fits.gz\n",
      "Quick grid: 5500_5.00_0.50_0.40_0.93_0.00_0.00_0.00.fits.gz\n",
      "Quick grid: 5750_3.00_-1.00_0.00_1.46_0.00_0.00_0.00.fits.gz\n",
      "Quick grid: 5750_3.00_-1.00_0.40_1.46_0.00_0.00_0.00.fits.gz\n",
      "Quick grid: 5750_3.00_-0.75_0.00_1.47_0.00_0.00_0.00.fits.gz\n",
      "Quick grid: 5750_3.00_-0.75_0.40_1.47_0.00_0.00_0.00.fits.gz\n",
      "Quick grid: 5750_3.00_-0.50_0.00_1.48_0.00_0.00_0.00.fits.gz\n",
      "Quick grid: 5750_3.00_-0.50_0.40_1.48_0.00_0.00_0.00.fits.gz\n",
      "Quick grid: 5750_3.00_-0.25_0.00_1.49_0.00_0.00_0.00.fits.gz\n",
      "Quick grid: 5750_3.00_-0.25_0.40_1.49_0.00_0.00_0.00.fits.gz\n",
      "Quick grid: 5750_3.00_0.00_0.00_1.50_0.00_0.00_0.00.fits.gz\n",
      "Quick grid: 5750_3.00_0.00_0.40_1.50_0.00_0.00_0.00.fits.gz\n",
      "Quick grid: 5750_3.00_0.25_0.00_1.52_0.00_0.00_0.00.fits.gz\n",
      "Quick grid: 5750_3.00_0.25_0.40_1.52_0.00_0.00_0.00.fits.gz\n",
      "Quick grid: 5750_3.00_0.50_0.00_1.53_0.00_0.00_0.00.fits.gz\n",
      "Quick grid: 5750_3.00_0.50_0.40_1.53_0.00_0.00_0.00.fits.gz\n",
      "Quick grid: 5750_3.50_-1.00_0.00_1.15_0.00_0.00_0.00.fits.gz\n",
      "Quick grid: 5750_3.50_-1.00_0.40_1.15_0.00_0.00_0.00.fits.gz\n",
      "Quick grid: 5750_3.50_-0.75_0.00_1.16_0.00_0.00_0.00.fits.gz\n",
      "Quick grid: 5750_3.50_-0.75_0.40_1.16_0.00_0.00_0.00.fits.gz\n",
      "Quick grid: 5750_3.50_-0.50_0.00_1.17_0.00_0.00_0.00.fits.gz\n"
     ]
    },
    {
     "name": "stdout",
     "output_type": "stream",
     "text": [
      "Quick grid: 5750_3.50_-0.50_0.40_1.17_0.00_0.00_0.00.fits.gz\n",
      "Quick grid: 5750_3.50_-0.25_0.00_1.18_0.00_0.00_0.00.fits.gz\n",
      "Quick grid: 5750_3.50_-0.25_0.40_1.18_0.00_0.00_0.00.fits.gz\n",
      "Quick grid: 5750_3.50_0.00_0.00_1.19_0.00_0.00_0.00.fits.gz\n",
      "Quick grid: 5750_3.50_0.00_0.40_1.19_0.00_0.00_0.00.fits.gz\n",
      "Quick grid: 5750_3.50_0.25_0.00_1.20_0.00_0.00_0.00.fits.gz\n",
      "Quick grid: 5750_3.50_0.25_0.40_1.20_0.00_0.00_0.00.fits.gz\n",
      "Quick grid: 5750_3.50_0.50_0.00_1.22_0.00_0.00_0.00.fits.gz\n",
      "Quick grid: 5750_3.50_0.50_0.40_1.22_0.00_0.00_0.00.fits.gz\n",
      "Quick grid: 5750_4.00_-1.00_0.00_1.08_0.00_0.00_0.00.fits.gz\n",
      "Quick grid: 5750_4.00_-1.00_0.40_1.08_0.00_0.00_0.00.fits.gz\n",
      "Quick grid: 5750_4.00_-0.75_0.00_1.09_0.00_0.00_0.00.fits.gz\n",
      "Quick grid: 5750_4.00_-0.75_0.40_1.09_0.00_0.00_0.00.fits.gz\n",
      "Quick grid: 5750_4.00_-0.50_0.00_1.10_0.00_0.00_0.00.fits.gz\n",
      "Quick grid: 5750_4.00_-0.50_0.40_1.10_0.00_0.00_0.00.fits.gz\n",
      "Quick grid: 5750_4.00_-0.25_0.00_1.11_0.00_0.00_0.00.fits.gz\n",
      "Quick grid: 5750_4.00_-0.25_0.40_1.11_0.00_0.00_0.00.fits.gz\n",
      "Quick grid: 5750_4.00_0.00_0.00_1.12_0.00_0.00_0.00.fits.gz\n",
      "Quick grid: 5750_4.00_0.00_0.40_1.12_0.00_0.00_0.00.fits.gz\n",
      "Quick grid: 5750_4.00_0.25_0.00_1.14_0.00_0.00_0.00.fits.gz\n",
      "Quick grid: 5750_4.00_0.25_0.40_1.14_0.00_0.00_0.00.fits.gz\n",
      "Quick grid: 5750_4.00_0.50_0.00_1.15_0.00_0.00_0.00.fits.gz\n",
      "Quick grid: 5750_4.00_0.50_0.40_1.15_0.00_0.00_0.00.fits.gz\n",
      "Quick grid: 5750_4.50_-1.00_0.00_1.01_0.00_0.00_0.00.fits.gz\n",
      "Quick grid: 5750_4.50_-1.00_0.40_1.01_0.00_0.00_0.00.fits.gz\n",
      "Quick grid: 5750_4.50_-0.75_0.00_1.02_0.00_0.00_0.00.fits.gz\n",
      "Quick grid: 5750_4.50_-0.75_0.40_1.02_0.00_0.00_0.00.fits.gz\n",
      "Quick grid: 5750_4.50_-0.50_0.00_1.03_0.00_0.00_0.00.fits.gz\n",
      "Quick grid: 5750_4.50_-0.50_0.40_1.03_0.00_0.00_0.00.fits.gz\n",
      "Quick grid: 5750_4.50_-0.25_0.00_1.04_0.00_0.00_0.00.fits.gz\n",
      "Quick grid: 5750_4.50_-0.25_0.40_1.04_0.00_0.00_0.00.fits.gz\n",
      "Quick grid: 5750_4.50_0.00_0.00_1.05_0.00_0.00_0.00.fits.gz\n",
      "Quick grid: 5750_4.50_0.00_0.40_1.05_0.00_0.00_0.00.fits.gz\n",
      "Quick grid: 5750_4.50_0.25_0.00_1.06_0.00_0.00_0.00.fits.gz\n",
      "Quick grid: 5750_4.50_0.25_0.40_1.06_0.00_0.00_0.00.fits.gz\n",
      "Quick grid: 5750_4.50_0.50_0.00_1.08_0.00_0.00_0.00.fits.gz\n",
      "Quick grid: 5750_4.50_0.50_0.40_1.08_0.00_0.00_0.00.fits.gz\n",
      "Quick grid: 5750_5.00_-1.00_0.00_0.94_0.00_0.00_0.00.fits.gz\n",
      "Quick grid: 5750_5.00_-1.00_0.40_0.94_0.00_0.00_0.00.fits.gz\n",
      "Quick grid: 5750_5.00_-0.75_0.00_0.95_0.00_0.00_0.00.fits.gz\n",
      "Quick grid: 5750_5.00_-0.75_0.40_0.95_0.00_0.00_0.00.fits.gz\n",
      "Quick grid: 5750_5.00_-0.50_0.00_0.95_0.00_0.00_0.00.fits.gz\n",
      "Quick grid: 5750_5.00_-0.50_0.40_0.95_0.00_0.00_0.00.fits.gz\n",
      "Quick grid: 5750_5.00_-0.25_0.00_0.97_0.00_0.00_0.00.fits.gz\n",
      "Quick grid: 5750_5.00_-0.25_0.40_0.97_0.00_0.00_0.00.fits.gz\n",
      "Quick grid: 5750_5.00_0.00_0.00_0.98_0.00_0.00_0.00.fits.gz\n",
      "Quick grid: 5750_5.00_0.00_0.40_0.98_0.00_0.00_0.00.fits.gz\n",
      "Quick grid: 5750_5.00_0.25_0.00_0.99_0.00_0.00_0.00.fits.gz\n",
      "Quick grid: 5750_5.00_0.25_0.40_0.99_0.00_0.00_0.00.fits.gz\n",
      "Quick grid: 5750_5.00_0.50_0.00_1.00_0.00_0.00_0.00.fits.gz\n",
      "Quick grid: 5750_5.00_0.50_0.40_1.00_0.00_0.00_0.00.fits.gz\n",
      "Quick grid: 6000_3.00_-1.00_0.00_1.62_0.00_0.00_0.00.fits.gz\n",
      "Quick grid: 6000_3.00_-1.00_0.40_1.62_0.00_0.00_0.00.fits.gz\n",
      "Quick grid: 6000_3.00_-0.75_0.00_1.63_0.00_0.00_0.00.fits.gz\n",
      "Quick grid: 6000_3.00_-0.75_0.40_1.63_0.00_0.00_0.00.fits.gz\n",
      "Quick grid: 6000_3.00_-0.50_0.00_1.64_0.00_0.00_0.00.fits.gz\n",
      "Quick grid: 6000_3.00_-0.50_0.40_1.64_0.00_0.00_0.00.fits.gz\n",
      "Quick grid: 6000_3.00_-0.25_0.00_1.65_0.00_0.00_0.00.fits.gz\n",
      "Quick grid: 6000_3.00_-0.25_0.40_1.65_0.00_0.00_0.00.fits.gz\n",
      "Quick grid: 6000_3.00_0.00_0.00_1.66_0.00_0.00_0.00.fits.gz\n",
      "Quick grid: 6000_3.00_0.00_0.40_1.66_0.00_0.00_0.00.fits.gz\n",
      "Quick grid: 6000_3.00_0.25_0.00_1.68_0.00_0.00_0.00.fits.gz\n",
      "Quick grid: 6000_3.00_0.25_0.40_1.68_0.00_0.00_0.00.fits.gz\n",
      "Quick grid: 6000_3.00_0.50_0.00_1.69_0.00_0.00_0.00.fits.gz\n",
      "Quick grid: 6000_3.00_0.50_0.40_1.69_0.00_0.00_0.00.fits.gz\n",
      "Quick grid: 6000_3.50_-1.00_0.00_1.24_0.00_0.00_0.00.fits.gz\n",
      "Quick grid: 6000_3.50_-1.00_0.40_1.24_0.00_0.00_0.00.fits.gz\n",
      "Quick grid: 6000_3.50_-0.75_0.00_1.25_0.00_0.00_0.00.fits.gz\n",
      "Quick grid: 6000_3.50_-0.75_0.40_1.25_0.00_0.00_0.00.fits.gz\n",
      "Quick grid: 6000_3.50_-0.50_0.00_1.26_0.00_0.00_0.00.fits.gz\n",
      "Quick grid: 6000_3.50_-0.50_0.40_1.26_0.00_0.00_0.00.fits.gz\n",
      "Quick grid: 6000_3.50_-0.25_0.00_1.27_0.00_0.00_0.00.fits.gz\n",
      "Quick grid: 6000_3.50_-0.25_0.40_1.27_0.00_0.00_0.00.fits.gz\n",
      "Quick grid: 6000_3.50_0.00_0.00_1.28_0.00_0.00_0.00.fits.gz\n",
      "Quick grid: 6000_3.50_0.00_0.40_1.28_0.00_0.00_0.00.fits.gz\n",
      "Quick grid: 6000_3.50_0.25_0.00_1.29_0.00_0.00_0.00.fits.gz\n",
      "Quick grid: 6000_3.50_0.25_0.40_1.29_0.00_0.00_0.00.fits.gz\n",
      "Quick grid: 6000_3.50_0.50_0.00_1.31_0.00_0.00_0.00.fits.gz\n",
      "Quick grid: 6000_3.50_0.50_0.40_1.31_0.00_0.00_0.00.fits.gz\n",
      "Quick grid: 6000_4.00_-1.00_0.00_1.17_0.00_0.00_0.00.fits.gz\n",
      "Quick grid: 6000_4.00_-1.00_0.40_1.17_0.00_0.00_0.00.fits.gz\n",
      "Quick grid: 6000_4.00_-0.75_0.00_1.18_0.00_0.00_0.00.fits.gz\n",
      "Quick grid: 6000_4.00_-0.75_0.40_1.18_0.00_0.00_0.00.fits.gz\n",
      "Quick grid: 6000_4.00_-0.50_0.00_1.19_0.00_0.00_0.00.fits.gz\n",
      "Quick grid: 6000_4.00_-0.50_0.40_1.19_0.00_0.00_0.00.fits.gz\n",
      "Quick grid: 6000_4.00_-0.25_0.00_1.20_0.00_0.00_0.00.fits.gz\n",
      "Quick grid: 6000_4.00_-0.25_0.40_1.20_0.00_0.00_0.00.fits.gz\n",
      "Quick grid: 6000_4.00_0.00_0.00_1.21_0.00_0.00_0.00.fits.gz\n",
      "Quick grid: 6000_4.00_0.00_0.40_1.21_0.00_0.00_0.00.fits.gz\n",
      "Quick grid: 6000_4.00_0.25_0.00_1.23_0.00_0.00_0.00.fits.gz\n",
      "Quick grid: 6000_4.00_0.25_0.40_1.23_0.00_0.00_0.00.fits.gz\n",
      "Quick grid: 6000_4.00_0.50_0.00_1.24_0.00_0.00_0.00.fits.gz\n",
      "Quick grid: 6000_4.00_0.50_0.40_1.24_0.00_0.00_0.00.fits.gz\n",
      "Quick grid: 6000_4.50_-1.00_0.00_1.10_0.00_0.00_0.00.fits.gz\n",
      "Quick grid: 6000_4.50_-1.00_0.40_1.10_0.00_0.00_0.00.fits.gz\n",
      "Quick grid: 6000_4.50_-0.75_0.00_1.11_0.00_0.00_0.00.fits.gz\n",
      "Quick grid: 6000_4.50_-0.75_0.40_1.11_0.00_0.00_0.00.fits.gz\n",
      "Quick grid: 6000_4.50_-0.50_0.00_1.12_0.00_0.00_0.00.fits.gz\n",
      "Quick grid: 6000_4.50_-0.50_0.40_1.12_0.00_0.00_0.00.fits.gz\n",
      "Quick grid: 6000_4.50_-0.25_0.00_1.13_0.00_0.00_0.00.fits.gz\n",
      "Quick grid: 6000_4.50_-0.25_0.40_1.13_0.00_0.00_0.00.fits.gz\n",
      "Quick grid: 6000_4.50_0.00_0.00_1.14_0.00_0.00_0.00.fits.gz\n",
      "Quick grid: 6000_4.50_0.00_0.40_1.14_0.00_0.00_0.00.fits.gz\n",
      "Quick grid: 6000_4.50_0.25_0.00_1.15_0.00_0.00_0.00.fits.gz\n",
      "Quick grid: 6000_4.50_0.25_0.40_1.15_0.00_0.00_0.00.fits.gz\n",
      "Quick grid: 6000_4.50_0.50_0.00_1.17_0.00_0.00_0.00.fits.gz\n",
      "Quick grid: 6000_4.50_0.50_0.40_1.17_0.00_0.00_0.00.fits.gz\n",
      "Quick grid: 6000_5.00_-1.00_0.00_1.03_0.00_0.00_0.00.fits.gz\n",
      "Quick grid: 6000_5.00_-1.00_0.40_1.03_0.00_0.00_0.00.fits.gz\n",
      "Quick grid: 6000_5.00_-0.75_0.00_1.04_0.00_0.00_0.00.fits.gz\n",
      "Quick grid: 6000_5.00_-0.75_0.40_1.04_0.00_0.00_0.00.fits.gz\n",
      "Quick grid: 6000_5.00_-0.50_0.00_1.05_0.00_0.00_0.00.fits.gz\n",
      "Quick grid: 6000_5.00_-0.50_0.40_1.05_0.00_0.00_0.00.fits.gz\n",
      "Quick grid: 6000_5.00_-0.25_0.00_1.06_0.00_0.00_0.00.fits.gz\n",
      "Quick grid: 6000_5.00_-0.25_0.40_1.06_0.00_0.00_0.00.fits.gz\n",
      "Quick grid: 6000_5.00_0.00_0.00_1.07_0.00_0.00_0.00.fits.gz\n",
      "Quick grid: 6000_5.00_0.00_0.40_1.07_0.00_0.00_0.00.fits.gz\n",
      "Quick grid: 6000_5.00_0.25_0.00_1.08_0.00_0.00_0.00.fits.gz\n",
      "Quick grid: 6000_5.00_0.25_0.40_1.08_0.00_0.00_0.00.fits.gz\n",
      "Quick grid: 6000_5.00_0.50_0.00_1.10_0.00_0.00_0.00.fits.gz\n",
      "Quick grid: 6000_5.00_0.50_0.40_1.10_0.00_0.00_0.00.fits.gz\n",
      "Quick grid: 6250_3.00_-1.00_0.00_1.82_0.00_0.00_0.00.fits.gz\n",
      "Quick grid: 6250_3.00_-1.00_0.40_1.82_0.00_0.00_0.00.fits.gz\n",
      "Quick grid: 6250_3.00_-0.75_0.00_1.83_0.00_0.00_0.00.fits.gz\n",
      "Quick grid: 6250_3.00_-0.75_0.40_1.83_0.00_0.00_0.00.fits.gz\n",
      "Quick grid: 6250_3.00_-0.50_0.00_1.84_0.00_0.00_0.00.fits.gz\n",
      "Quick grid: 6250_3.00_-0.50_0.40_1.84_0.00_0.00_0.00.fits.gz\n",
      "Quick grid: 6250_3.00_-0.25_0.00_1.85_0.00_0.00_0.00.fits.gz\n",
      "Quick grid: 6250_3.00_-0.25_0.40_1.85_0.00_0.00_0.00.fits.gz\n",
      "Quick grid: 6250_3.00_0.00_0.00_1.86_0.00_0.00_0.00.fits.gz\n",
      "Quick grid: 6250_3.00_0.00_0.40_1.86_0.00_0.00_0.00.fits.gz\n",
      "Quick grid: 6250_3.00_0.25_0.00_1.87_0.00_0.00_0.00.fits.gz\n",
      "Quick grid: 6250_3.00_0.25_0.40_1.87_0.00_0.00_0.00.fits.gz\n",
      "Quick grid: 6250_3.00_0.50_0.00_1.89_0.00_0.00_0.00.fits.gz\n",
      "Quick grid: 6250_3.00_0.50_0.40_1.89_0.00_0.00_0.00.fits.gz\n",
      "Quick grid: 6250_3.50_-1.00_0.00_1.35_0.00_0.00_0.00.fits.gz\n"
     ]
    },
    {
     "name": "stdout",
     "output_type": "stream",
     "text": [
      "Quick grid: 6250_3.50_-1.00_0.40_1.35_0.00_0.00_0.00.fits.gz\n",
      "Quick grid: 6250_3.50_-0.75_0.00_1.36_0.00_0.00_0.00.fits.gz\n",
      "Quick grid: 6250_3.50_-0.75_0.40_1.36_0.00_0.00_0.00.fits.gz\n",
      "Quick grid: 6250_3.50_-0.50_0.00_1.37_0.00_0.00_0.00.fits.gz\n",
      "Quick grid: 6250_3.50_-0.50_0.40_1.37_0.00_0.00_0.00.fits.gz\n",
      "Quick grid: 6250_3.50_-0.25_0.00_1.38_0.00_0.00_0.00.fits.gz\n",
      "Quick grid: 6250_3.50_-0.25_0.40_1.38_0.00_0.00_0.00.fits.gz\n",
      "Quick grid: 6250_3.50_0.00_0.00_1.39_0.00_0.00_0.00.fits.gz\n",
      "Quick grid: 6250_3.50_0.00_0.40_1.39_0.00_0.00_0.00.fits.gz\n",
      "Quick grid: 6250_3.50_0.25_0.00_1.40_0.00_0.00_0.00.fits.gz\n",
      "Quick grid: 6250_3.50_0.25_0.40_1.40_0.00_0.00_0.00.fits.gz\n",
      "Quick grid: 6250_3.50_0.50_0.00_1.42_0.00_0.00_0.00.fits.gz\n",
      "Quick grid: 6250_3.50_0.50_0.40_1.42_0.00_0.00_0.00.fits.gz\n",
      "Quick grid: 6250_4.00_-1.00_0.00_1.28_0.00_0.00_0.00.fits.gz\n",
      "Quick grid: 6250_4.00_-1.00_0.40_1.28_0.00_0.00_0.00.fits.gz\n",
      "Quick grid: 6250_4.00_-0.75_0.00_1.29_0.00_0.00_0.00.fits.gz\n",
      "Quick grid: 6250_4.00_-0.75_0.40_1.29_0.00_0.00_0.00.fits.gz\n",
      "Quick grid: 6250_4.00_-0.50_0.00_1.30_0.00_0.00_0.00.fits.gz\n",
      "Quick grid: 6250_4.00_-0.50_0.40_1.30_0.00_0.00_0.00.fits.gz\n",
      "Quick grid: 6250_4.00_-0.25_0.00_1.31_0.00_0.00_0.00.fits.gz\n",
      "Quick grid: 6250_4.00_-0.25_0.40_1.31_0.00_0.00_0.00.fits.gz\n",
      "Quick grid: 6250_4.00_0.00_0.00_1.32_0.00_0.00_0.00.fits.gz\n",
      "Quick grid: 6250_4.00_0.00_0.40_1.32_0.00_0.00_0.00.fits.gz\n",
      "Quick grid: 6250_4.00_0.25_0.00_1.34_0.00_0.00_0.00.fits.gz\n",
      "Quick grid: 6250_4.00_0.25_0.40_1.34_0.00_0.00_0.00.fits.gz\n",
      "Quick grid: 6250_4.00_0.50_0.00_1.35_0.00_0.00_0.00.fits.gz\n",
      "Quick grid: 6250_4.00_0.50_0.40_1.35_0.00_0.00_0.00.fits.gz\n",
      "Quick grid: 6250_4.50_-1.00_0.00_1.21_0.00_0.00_0.00.fits.gz\n",
      "Quick grid: 6250_4.50_-1.00_0.40_1.21_0.00_0.00_0.00.fits.gz\n",
      "Quick grid: 6250_4.50_-0.75_0.00_1.22_0.00_0.00_0.00.fits.gz\n",
      "Quick grid: 6250_4.50_-0.75_0.40_1.22_0.00_0.00_0.00.fits.gz\n",
      "Quick grid: 6250_4.50_-0.50_0.00_1.23_0.00_0.00_0.00.fits.gz\n",
      "Quick grid: 6250_4.50_-0.50_0.40_1.23_0.00_0.00_0.00.fits.gz\n",
      "Quick grid: 6250_4.50_-0.25_0.00_1.24_0.00_0.00_0.00.fits.gz\n",
      "Quick grid: 6250_4.50_-0.25_0.40_1.24_0.00_0.00_0.00.fits.gz\n",
      "Quick grid: 6250_4.50_0.00_0.00_1.25_0.00_0.00_0.00.fits.gz\n",
      "Quick grid: 6250_4.50_0.00_0.40_1.25_0.00_0.00_0.00.fits.gz\n",
      "Quick grid: 6250_4.50_0.25_0.00_1.26_0.00_0.00_0.00.fits.gz\n",
      "Quick grid: 6250_4.50_0.25_0.40_1.26_0.00_0.00_0.00.fits.gz\n",
      "Quick grid: 6250_4.50_0.50_0.00_1.28_0.00_0.00_0.00.fits.gz\n",
      "Quick grid: 6250_4.50_0.50_0.40_1.28_0.00_0.00_0.00.fits.gz\n",
      "Quick grid: 6250_5.00_-1.00_0.00_1.14_0.00_0.00_0.00.fits.gz\n",
      "Quick grid: 6250_5.00_-1.00_0.40_1.14_0.00_0.00_0.00.fits.gz\n",
      "Quick grid: 6250_5.00_-0.75_0.00_1.15_0.00_0.00_0.00.fits.gz\n",
      "Quick grid: 6250_5.00_-0.75_0.40_1.15_0.00_0.00_0.00.fits.gz\n",
      "Quick grid: 6250_5.00_-0.50_0.00_1.16_0.00_0.00_0.00.fits.gz\n",
      "Quick grid: 6250_5.00_-0.50_0.40_1.16_0.00_0.00_0.00.fits.gz\n",
      "Quick grid: 6250_5.00_-0.25_0.00_1.17_0.00_0.00_0.00.fits.gz\n",
      "Quick grid: 6250_5.00_-0.25_0.40_1.17_0.00_0.00_0.00.fits.gz\n",
      "Quick grid: 6250_5.00_0.00_0.00_1.18_0.00_0.00_0.00.fits.gz\n",
      "Quick grid: 6250_5.00_0.00_0.40_1.18_0.00_0.00_0.00.fits.gz\n",
      "Quick grid: 6250_5.00_0.25_0.00_1.19_0.00_0.00_0.00.fits.gz\n",
      "Quick grid: 6250_5.00_0.25_0.40_1.19_0.00_0.00_0.00.fits.gz\n",
      "Quick grid: 6250_5.00_0.50_0.00_1.21_0.00_0.00_0.00.fits.gz\n",
      "Quick grid: 6250_5.00_0.50_0.40_1.21_0.00_0.00_0.00.fits.gz\n",
      "Quick grid: 6500_3.00_-1.00_0.00_2.06_0.00_0.00_0.00.fits.gz\n",
      "Quick grid: 6500_3.00_-1.00_0.40_2.06_0.00_0.00_0.00.fits.gz\n",
      "Quick grid: 6500_3.00_-0.75_0.00_2.06_0.00_0.00_0.00.fits.gz\n",
      "Quick grid: 6500_3.00_-0.75_0.40_2.06_0.00_0.00_0.00.fits.gz\n",
      "Quick grid: 6500_3.00_-0.50_0.00_2.07_0.00_0.00_0.00.fits.gz\n",
      "Quick grid: 6500_3.00_-0.50_0.40_2.07_0.00_0.00_0.00.fits.gz\n",
      "Quick grid: 6500_3.00_-0.25_0.00_2.08_0.00_0.00_0.00.fits.gz\n",
      "Quick grid: 6500_3.00_-0.25_0.40_2.08_0.00_0.00_0.00.fits.gz\n",
      "Quick grid: 6500_3.00_0.00_0.00_2.10_0.00_0.00_0.00.fits.gz\n",
      "Quick grid: 6500_3.00_0.00_0.40_2.10_0.00_0.00_0.00.fits.gz\n",
      "Quick grid: 6500_3.00_0.25_0.00_2.11_0.00_0.00_0.00.fits.gz\n",
      "Quick grid: 6500_3.00_0.25_0.40_2.11_0.00_0.00_0.00.fits.gz\n",
      "Quick grid: 6500_3.00_0.50_0.00_2.12_0.00_0.00_0.00.fits.gz\n",
      "Quick grid: 6500_3.00_0.50_0.40_2.12_0.00_0.00_0.00.fits.gz\n",
      "Quick grid: 6500_3.50_-1.00_0.00_1.48_0.00_0.00_0.00.fits.gz\n",
      "Quick grid: 6500_3.50_-1.00_0.40_1.48_0.00_0.00_0.00.fits.gz\n",
      "Quick grid: 6500_3.50_-0.75_0.00_1.49_0.00_0.00_0.00.fits.gz\n",
      "Quick grid: 6500_3.50_-0.75_0.40_1.49_0.00_0.00_0.00.fits.gz\n",
      "Quick grid: 6500_3.50_-0.50_0.00_1.50_0.00_0.00_0.00.fits.gz\n",
      "Quick grid: 6500_3.50_-0.50_0.40_1.50_0.00_0.00_0.00.fits.gz\n",
      "Quick grid: 6500_3.50_-0.25_0.00_1.51_0.00_0.00_0.00.fits.gz\n",
      "Quick grid: 6500_3.50_-0.25_0.40_1.51_0.00_0.00_0.00.fits.gz\n",
      "Quick grid: 6500_3.50_0.00_0.00_1.52_0.00_0.00_0.00.fits.gz\n",
      "Quick grid: 6500_3.50_0.00_0.40_1.52_0.00_0.00_0.00.fits.gz\n",
      "Quick grid: 6500_3.50_0.25_0.00_1.53_0.00_0.00_0.00.fits.gz\n",
      "Quick grid: 6500_3.50_0.25_0.40_1.53_0.00_0.00_0.00.fits.gz\n",
      "Quick grid: 6500_3.50_0.50_0.00_1.55_0.00_0.00_0.00.fits.gz\n",
      "Quick grid: 6500_3.50_0.50_0.40_1.55_0.00_0.00_0.00.fits.gz\n",
      "Quick grid: 6500_4.00_-1.00_0.00_1.41_0.00_0.00_0.00.fits.gz\n",
      "Quick grid: 6500_4.00_-1.00_0.40_1.41_0.00_0.00_0.00.fits.gz\n",
      "Quick grid: 6500_4.00_-0.75_0.00_1.42_0.00_0.00_0.00.fits.gz\n",
      "Quick grid: 6500_4.00_-0.75_0.40_1.42_0.00_0.00_0.00.fits.gz\n",
      "Quick grid: 6500_4.00_-0.50_0.00_1.43_0.00_0.00_0.00.fits.gz\n",
      "Quick grid: 6500_4.00_-0.50_0.40_1.43_0.00_0.00_0.00.fits.gz\n",
      "Quick grid: 6500_4.00_-0.25_0.00_1.44_0.00_0.00_0.00.fits.gz\n",
      "Quick grid: 6500_4.00_-0.25_0.40_1.44_0.00_0.00_0.00.fits.gz\n",
      "Quick grid: 6500_4.00_0.00_0.00_1.45_0.00_0.00_0.00.fits.gz\n",
      "Quick grid: 6500_4.00_0.00_0.40_1.45_0.00_0.00_0.00.fits.gz\n",
      "Quick grid: 6500_4.00_0.25_0.00_1.46_0.00_0.00_0.00.fits.gz\n",
      "Quick grid: 6500_4.00_0.25_0.40_1.46_0.00_0.00_0.00.fits.gz\n",
      "Quick grid: 6500_4.00_0.50_0.00_1.48_0.00_0.00_0.00.fits.gz\n",
      "Quick grid: 6500_4.00_0.50_0.40_1.48_0.00_0.00_0.00.fits.gz\n",
      "Quick grid: 6500_4.50_-1.00_0.00_1.34_0.00_0.00_0.00.fits.gz\n",
      "Quick grid: 6500_4.50_-1.00_0.40_1.34_0.00_0.00_0.00.fits.gz\n",
      "Quick grid: 6500_4.50_-0.75_0.00_1.35_0.00_0.00_0.00.fits.gz\n",
      "Quick grid: 6500_4.50_-0.75_0.40_1.35_0.00_0.00_0.00.fits.gz\n",
      "Quick grid: 6500_4.50_-0.50_0.00_1.36_0.00_0.00_0.00.fits.gz\n",
      "Quick grid: 6500_4.50_-0.50_0.40_1.36_0.00_0.00_0.00.fits.gz\n",
      "Quick grid: 6500_4.50_-0.25_0.00_1.37_0.00_0.00_0.00.fits.gz\n",
      "Quick grid: 6500_4.50_-0.25_0.40_1.37_0.00_0.00_0.00.fits.gz\n",
      "Quick grid: 6500_4.50_0.00_0.00_1.38_0.00_0.00_0.00.fits.gz\n",
      "Quick grid: 6500_4.50_0.00_0.40_1.38_0.00_0.00_0.00.fits.gz\n",
      "Quick grid: 6500_4.50_0.25_0.00_1.39_0.00_0.00_0.00.fits.gz\n",
      "Quick grid: 6500_4.50_0.25_0.40_1.39_0.00_0.00_0.00.fits.gz\n",
      "Quick grid: 6500_4.50_0.50_0.00_1.41_0.00_0.00_0.00.fits.gz\n",
      "Quick grid: 6500_4.50_0.50_0.40_1.41_0.00_0.00_0.00.fits.gz\n",
      "Quick grid: 6500_5.00_-1.00_0.00_1.27_0.00_0.00_0.00.fits.gz\n",
      "Quick grid: 6500_5.00_-1.00_0.40_1.27_0.00_0.00_0.00.fits.gz\n",
      "Quick grid: 6500_5.00_-0.75_0.00_1.27_0.00_0.00_0.00.fits.gz\n",
      "Quick grid: 6500_5.00_-0.75_0.40_1.27_0.00_0.00_0.00.fits.gz\n",
      "Quick grid: 6500_5.00_-0.50_0.00_1.28_0.00_0.00_0.00.fits.gz\n",
      "Quick grid: 6500_5.00_-0.50_0.40_1.28_0.00_0.00_0.00.fits.gz\n",
      "Quick grid: 6500_5.00_-0.25_0.00_1.29_0.00_0.00_0.00.fits.gz\n",
      "Quick grid: 6500_5.00_-0.25_0.40_1.29_0.00_0.00_0.00.fits.gz\n",
      "Quick grid: 6500_5.00_0.00_0.00_1.31_0.00_0.00_0.00.fits.gz\n",
      "Quick grid: 6500_5.00_0.00_0.40_1.31_0.00_0.00_0.00.fits.gz\n",
      "Quick grid: 6500_5.00_0.25_0.00_1.32_0.00_0.00_0.00.fits.gz\n",
      "Quick grid: 6500_5.00_0.25_0.40_1.32_0.00_0.00_0.00.fits.gz\n",
      "Quick grid: 6500_5.00_0.50_0.00_1.33_0.00_0.00_0.00.fits.gz\n",
      "Quick grid: 6500_5.00_0.50_0.40_1.33_0.00_0.00_0.00.fits.gz\n",
      "Quick grid: 6750_3.00_-1.00_0.00_2.33_0.00_0.00_0.00.fits.gz\n",
      "Quick grid: 6750_3.00_-1.00_0.40_2.33_0.00_0.00_0.00.fits.gz\n",
      "Quick grid: 6750_3.00_-0.75_0.00_2.34_0.00_0.00_0.00.fits.gz\n",
      "Quick grid: 6750_3.00_-0.75_0.40_2.34_0.00_0.00_0.00.fits.gz\n",
      "Quick grid: 6750_3.00_-0.50_0.00_2.35_0.00_0.00_0.00.fits.gz\n",
      "Quick grid: 6750_3.00_-0.50_0.40_2.35_0.00_0.00_0.00.fits.gz\n",
      "Quick grid: 6750_3.00_-0.25_0.00_2.36_0.00_0.00_0.00.fits.gz\n",
      "Quick grid: 6750_3.00_-0.25_0.40_2.36_0.00_0.00_0.00.fits.gz\n",
      "Quick grid: 6750_3.00_0.00_0.00_2.37_0.00_0.00_0.00.fits.gz\n",
      "Quick grid: 6750_3.00_0.00_0.40_2.37_0.00_0.00_0.00.fits.gz\n",
      "Quick grid: 6750_3.00_0.25_0.00_2.38_0.00_0.00_0.00.fits.gz\n"
     ]
    },
    {
     "name": "stdout",
     "output_type": "stream",
     "text": [
      "Quick grid: 6750_3.00_0.25_0.40_2.38_0.00_0.00_0.00.fits.gz\n",
      "Quick grid: 6750_3.00_0.50_0.00_2.40_0.00_0.00_0.00.fits.gz\n",
      "Quick grid: 6750_3.00_0.50_0.40_2.40_0.00_0.00_0.00.fits.gz\n",
      "Quick grid: 6750_3.50_-1.00_0.00_1.63_0.00_0.00_0.00.fits.gz\n",
      "Quick grid: 6750_3.50_-1.00_0.40_1.63_0.00_0.00_0.00.fits.gz\n",
      "Quick grid: 6750_3.50_-0.75_0.00_1.64_0.00_0.00_0.00.fits.gz\n",
      "Quick grid: 6750_3.50_-0.75_0.40_1.64_0.00_0.00_0.00.fits.gz\n",
      "Quick grid: 6750_3.50_-0.50_0.00_1.64_0.00_0.00_0.00.fits.gz\n",
      "Quick grid: 6750_3.50_-0.50_0.40_1.64_0.00_0.00_0.00.fits.gz\n",
      "Quick grid: 6750_3.50_-0.25_0.00_1.66_0.00_0.00_0.00.fits.gz\n",
      "Quick grid: 6750_3.50_-0.25_0.40_1.66_0.00_0.00_0.00.fits.gz\n",
      "Quick grid: 6750_3.50_0.00_0.00_1.67_0.00_0.00_0.00.fits.gz\n",
      "Quick grid: 6750_3.50_0.00_0.40_1.67_0.00_0.00_0.00.fits.gz\n",
      "Quick grid: 6750_3.50_0.25_0.00_1.68_0.00_0.00_0.00.fits.gz\n",
      "Quick grid: 6750_3.50_0.25_0.40_1.68_0.00_0.00_0.00.fits.gz\n",
      "Quick grid: 6750_3.50_0.50_0.00_1.69_0.00_0.00_0.00.fits.gz\n",
      "Quick grid: 6750_3.50_0.50_0.40_1.69_0.00_0.00_0.00.fits.gz\n",
      "Quick grid: 6750_4.00_-1.00_0.00_1.56_0.00_0.00_0.00.fits.gz\n",
      "Quick grid: 6750_4.00_-1.00_0.40_1.56_0.00_0.00_0.00.fits.gz\n",
      "Quick grid: 6750_4.00_-0.75_0.00_1.57_0.00_0.00_0.00.fits.gz\n",
      "Quick grid: 6750_4.00_-0.75_0.40_1.57_0.00_0.00_0.00.fits.gz\n",
      "Quick grid: 6750_4.00_-0.50_0.00_1.58_0.00_0.00_0.00.fits.gz\n",
      "Quick grid: 6750_4.00_-0.50_0.40_1.58_0.00_0.00_0.00.fits.gz\n",
      "Quick grid: 6750_4.00_-0.25_0.00_1.59_0.00_0.00_0.00.fits.gz\n",
      "Quick grid: 6750_4.00_-0.25_0.40_1.59_0.00_0.00_0.00.fits.gz\n",
      "Quick grid: 6750_4.00_0.00_0.00_1.60_0.00_0.00_0.00.fits.gz\n",
      "Quick grid: 6750_4.00_0.00_0.40_1.60_0.00_0.00_0.00.fits.gz\n",
      "Quick grid: 6750_4.00_0.25_0.00_1.61_0.00_0.00_0.00.fits.gz\n",
      "Quick grid: 6750_4.00_0.25_0.40_1.61_0.00_0.00_0.00.fits.gz\n",
      "Quick grid: 6750_4.00_0.50_0.00_1.63_0.00_0.00_0.00.fits.gz\n",
      "Quick grid: 6750_4.00_0.50_0.40_1.63_0.00_0.00_0.00.fits.gz\n",
      "Quick grid: 6750_4.50_-1.00_0.00_1.49_0.00_0.00_0.00.fits.gz\n",
      "Quick grid: 6750_4.50_-1.00_0.40_1.49_0.00_0.00_0.00.fits.gz\n",
      "Quick grid: 6750_4.50_-0.75_0.00_1.49_0.00_0.00_0.00.fits.gz\n",
      "Quick grid: 6750_4.50_-0.75_0.40_1.49_0.00_0.00_0.00.fits.gz\n",
      "Quick grid: 6750_4.50_-0.50_0.00_1.50_0.00_0.00_0.00.fits.gz\n",
      "Quick grid: 6750_4.50_-0.50_0.40_1.50_0.00_0.00_0.00.fits.gz\n",
      "Quick grid: 6750_4.50_-0.25_0.00_1.52_0.00_0.00_0.00.fits.gz\n",
      "Quick grid: 6750_4.50_-0.25_0.40_1.52_0.00_0.00_0.00.fits.gz\n",
      "Quick grid: 6750_4.50_0.00_0.00_1.53_0.00_0.00_0.00.fits.gz\n",
      "Quick grid: 6750_4.50_0.00_0.40_1.53_0.00_0.00_0.00.fits.gz\n",
      "Quick grid: 6750_4.50_0.25_0.00_1.54_0.00_0.00_0.00.fits.gz\n",
      "Quick grid: 6750_4.50_0.25_0.40_1.54_0.00_0.00_0.00.fits.gz\n",
      "Quick grid: 6750_4.50_0.50_0.00_1.55_0.00_0.00_0.00.fits.gz\n",
      "Quick grid: 6750_4.50_0.50_0.40_1.55_0.00_0.00_0.00.fits.gz\n",
      "Quick grid: 6750_5.00_-1.00_0.00_1.41_0.00_0.00_0.00.fits.gz\n",
      "Quick grid: 6750_5.00_-1.00_0.40_1.41_0.00_0.00_0.00.fits.gz\n",
      "Quick grid: 6750_5.00_-0.75_0.00_1.42_0.00_0.00_0.00.fits.gz\n",
      "Quick grid: 6750_5.00_-0.75_0.40_1.42_0.00_0.00_0.00.fits.gz\n",
      "Quick grid: 6750_5.00_-0.50_0.00_1.43_0.00_0.00_0.00.fits.gz\n",
      "Quick grid: 6750_5.00_-0.50_0.40_1.43_0.00_0.00_0.00.fits.gz\n",
      "Quick grid: 6750_5.00_-0.25_0.00_1.44_0.00_0.00_0.00.fits.gz\n",
      "Quick grid: 6750_5.00_-0.25_0.40_1.44_0.00_0.00_0.00.fits.gz\n",
      "Quick grid: 6750_5.00_0.00_0.00_1.45_0.00_0.00_0.00.fits.gz\n",
      "Quick grid: 6750_5.00_0.00_0.40_1.45_0.00_0.00_0.00.fits.gz\n",
      "Quick grid: 6750_5.00_0.25_0.00_1.47_0.00_0.00_0.00.fits.gz\n",
      "Quick grid: 6750_5.00_0.25_0.40_1.47_0.00_0.00_0.00.fits.gz\n",
      "Quick grid: 6750_5.00_0.50_0.00_1.48_0.00_0.00_0.00.fits.gz\n",
      "Quick grid: 6750_5.00_0.50_0.40_1.48_0.00_0.00_0.00.fits.gz\n",
      "Quick grid: 7000_3.00_-1.00_0.00_2.64_0.00_0.00_0.00.fits.gz\n",
      "Quick grid: 7000_3.00_-1.00_0.40_2.64_0.00_0.00_0.00.fits.gz\n",
      "Quick grid: 7000_3.00_-0.75_0.00_2.65_0.00_0.00_0.00.fits.gz\n",
      "Quick grid: 7000_3.00_-0.75_0.40_2.65_0.00_0.00_0.00.fits.gz\n",
      "Quick grid: 7000_3.00_-0.50_0.00_2.66_0.00_0.00_0.00.fits.gz\n",
      "Quick grid: 7000_3.00_-0.50_0.40_2.66_0.00_0.00_0.00.fits.gz\n",
      "Quick grid: 7000_3.00_-0.25_0.00_2.67_0.00_0.00_0.00.fits.gz\n",
      "Quick grid: 7000_3.00_-0.25_0.40_2.67_0.00_0.00_0.00.fits.gz\n",
      "Quick grid: 7000_3.00_0.00_0.00_2.68_0.00_0.00_0.00.fits.gz\n",
      "Quick grid: 7000_3.00_0.00_0.40_2.68_0.00_0.00_0.00.fits.gz\n",
      "Quick grid: 7000_3.00_0.25_0.00_2.70_0.00_0.00_0.00.fits.gz\n",
      "Quick grid: 7000_3.00_0.25_0.40_2.70_0.00_0.00_0.00.fits.gz\n",
      "Quick grid: 7000_3.00_0.50_0.00_2.71_0.00_0.00_0.00.fits.gz\n",
      "Quick grid: 7000_3.00_0.50_0.40_2.71_0.00_0.00_0.00.fits.gz\n",
      "Quick grid: 7000_3.50_-1.00_0.00_1.79_0.00_0.00_0.00.fits.gz\n",
      "Quick grid: 7000_3.50_-1.00_0.40_1.79_0.00_0.00_0.00.fits.gz\n",
      "Quick grid: 7000_3.50_-0.75_0.00_1.80_0.00_0.00_0.00.fits.gz\n",
      "Quick grid: 7000_3.50_-0.75_0.40_1.80_0.00_0.00_0.00.fits.gz\n",
      "Quick grid: 7000_3.50_-0.50_0.00_1.81_0.00_0.00_0.00.fits.gz\n",
      "Quick grid: 7000_3.50_-0.50_0.40_1.81_0.00_0.00_0.00.fits.gz\n",
      "Quick grid: 7000_3.50_-0.25_0.00_1.82_0.00_0.00_0.00.fits.gz\n",
      "Quick grid: 7000_3.50_-0.25_0.40_1.82_0.00_0.00_0.00.fits.gz\n",
      "Quick grid: 7000_3.50_0.00_0.00_1.83_0.00_0.00_0.00.fits.gz\n",
      "Quick grid: 7000_3.50_0.00_0.40_1.83_0.00_0.00_0.00.fits.gz\n",
      "Quick grid: 7000_3.50_0.25_0.00_1.85_0.00_0.00_0.00.fits.gz\n",
      "Quick grid: 7000_3.50_0.25_0.40_1.85_0.00_0.00_0.00.fits.gz\n",
      "Quick grid: 7000_3.50_0.50_0.00_1.86_0.00_0.00_0.00.fits.gz\n",
      "Quick grid: 7000_3.50_0.50_0.40_1.86_0.00_0.00_0.00.fits.gz\n",
      "Quick grid: 7000_4.00_-1.00_0.00_1.72_0.00_0.00_0.00.fits.gz\n",
      "Quick grid: 7000_4.00_-1.00_0.40_1.72_0.00_0.00_0.00.fits.gz\n",
      "Quick grid: 7000_4.00_-0.75_0.00_1.73_0.00_0.00_0.00.fits.gz\n",
      "Quick grid: 7000_4.00_-0.75_0.40_1.73_0.00_0.00_0.00.fits.gz\n",
      "Quick grid: 7000_4.00_-0.50_0.00_1.74_0.00_0.00_0.00.fits.gz\n",
      "Quick grid: 7000_4.00_-0.50_0.40_1.74_0.00_0.00_0.00.fits.gz\n",
      "Quick grid: 7000_4.00_-0.25_0.00_1.75_0.00_0.00_0.00.fits.gz\n",
      "Quick grid: 7000_4.00_-0.25_0.40_1.75_0.00_0.00_0.00.fits.gz\n",
      "Quick grid: 7000_4.00_0.00_0.00_1.76_0.00_0.00_0.00.fits.gz\n",
      "Quick grid: 7000_4.00_0.00_0.40_1.76_0.00_0.00_0.00.fits.gz\n",
      "Quick grid: 7000_4.00_0.25_0.00_1.78_0.00_0.00_0.00.fits.gz\n",
      "Quick grid: 7000_4.00_0.25_0.40_1.78_0.00_0.00_0.00.fits.gz\n",
      "Quick grid: 7000_4.00_0.50_0.00_1.79_0.00_0.00_0.00.fits.gz\n",
      "Quick grid: 7000_4.00_0.50_0.40_1.79_0.00_0.00_0.00.fits.gz\n",
      "Quick grid: 7000_4.50_-1.00_0.00_1.65_0.00_0.00_0.00.fits.gz\n",
      "Quick grid: 7000_4.50_-1.00_0.40_1.65_0.00_0.00_0.00.fits.gz\n",
      "Quick grid: 7000_4.50_-0.75_0.00_1.66_0.00_0.00_0.00.fits.gz\n",
      "Quick grid: 7000_4.50_-0.75_0.40_1.66_0.00_0.00_0.00.fits.gz\n",
      "Quick grid: 7000_4.50_-0.50_0.00_1.67_0.00_0.00_0.00.fits.gz\n",
      "Quick grid: 7000_4.50_-0.50_0.40_1.67_0.00_0.00_0.00.fits.gz\n",
      "Quick grid: 7000_4.50_-0.25_0.00_1.68_0.00_0.00_0.00.fits.gz\n",
      "Quick grid: 7000_4.50_-0.25_0.40_1.68_0.00_0.00_0.00.fits.gz\n",
      "Quick grid: 7000_4.50_0.00_0.00_1.69_0.00_0.00_0.00.fits.gz\n",
      "Quick grid: 7000_4.50_0.00_0.40_1.69_0.00_0.00_0.00.fits.gz\n",
      "Quick grid: 7000_4.50_0.25_0.00_1.71_0.00_0.00_0.00.fits.gz\n",
      "Quick grid: 7000_4.50_0.25_0.40_1.71_0.00_0.00_0.00.fits.gz\n",
      "Quick grid: 7000_4.50_0.50_0.00_1.72_0.00_0.00_0.00.fits.gz\n",
      "Quick grid: 7000_4.50_0.50_0.40_1.72_0.00_0.00_0.00.fits.gz\n",
      "Quick grid: 7000_5.00_-1.00_0.00_1.58_0.00_0.00_0.00.fits.gz\n",
      "Quick grid: 7000_5.00_-1.00_0.40_1.58_0.00_0.00_0.00.fits.gz\n",
      "Quick grid: 7000_5.00_-0.75_0.00_1.59_0.00_0.00_0.00.fits.gz\n",
      "Quick grid: 7000_5.00_-0.75_0.40_1.59_0.00_0.00_0.00.fits.gz\n",
      "Quick grid: 7000_5.00_-0.50_0.00_1.60_0.00_0.00_0.00.fits.gz\n",
      "Quick grid: 7000_5.00_-0.50_0.40_1.60_0.00_0.00_0.00.fits.gz\n",
      "Quick grid: 7000_5.00_-0.25_0.00_1.61_0.00_0.00_0.00.fits.gz\n",
      "Quick grid: 7000_5.00_-0.25_0.40_1.61_0.00_0.00_0.00.fits.gz\n",
      "Quick grid: 7000_5.00_0.00_0.00_1.62_0.00_0.00_0.00.fits.gz\n",
      "Quick grid: 7000_5.00_0.00_0.40_1.62_0.00_0.00_0.00.fits.gz\n",
      "Quick grid: 7000_5.00_0.25_0.00_1.63_0.00_0.00_0.00.fits.gz\n",
      "Quick grid: 7000_5.00_0.25_0.40_1.63_0.00_0.00_0.00.fits.gz\n",
      "Quick grid: 7000_5.00_0.50_0.00_1.65_0.00_0.00_0.00.fits.gz\n",
      "Quick grid: 7000_5.00_0.50_0.40_1.65_0.00_0.00_0.00.fits.gz\n",
      "Written ispecgrid_hband_synthe//convolved_grid_400000.fits.gz\n"
     ]
    }
   ],
   "source": [
    "precompute_synthetic_grid(ranges, 1400, 1800, 120000, \"ispecgrid_hband\", \"synthe\", atmosphere_model='atlas', number_of_processes=10)"
   ]
  }
 ],
 "metadata": {
  "kernelspec": {
   "display_name": "Python 3 (ipykernel)",
   "language": "python",
   "name": "python3"
  },
  "language_info": {
   "codemirror_mode": {
    "name": "ipython",
    "version": 3
   },
   "file_extension": ".py",
   "mimetype": "text/x-python",
   "name": "python",
   "nbconvert_exporter": "python",
   "pygments_lexer": "ipython3",
   "version": "3.9.7"
  }
 },
 "nbformat": 4,
 "nbformat_minor": 5
}
