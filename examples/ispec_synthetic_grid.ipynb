{
 "cells": [
  {
   "cell_type": "code",
   "execution_count": 1,
   "id": "cd9c6b68",
   "metadata": {},
   "outputs": [
    {
     "name": "stderr",
     "output_type": "stream",
     "text": [
      "[2023-01-06 17:52:31,697] [INFO] [utils:_init_num_threads:145]: Note: NumExpr detected 32 cores but \"NUMEXPR_MAX_THREADS\" not set, so enforcing safe limit of 8.\n",
      "[2023-01-06 17:52:31,699] [INFO] [utils:_init_num_threads:157]: NumExpr defaulting to 8 threads.\n"
     ]
    }
   ],
   "source": [
    "import os\n",
    "import sys\n",
    "import numpy as np\n",
    "import logging\n",
    "import multiprocessing\n",
    "from multiprocessing import Pool\n",
    "import pathlib\n",
    "ispec_dir = str(pathlib.Path(\"~/iSpec/\").expanduser()) + \"/\"\n",
    "sys.path.insert(0, os.path.abspath(ispec_dir))\n",
    "import ispec"
   ]
  },
  {
   "cell_type": "code",
   "execution_count": 2,
   "id": "f8dc26b7",
   "metadata": {},
   "outputs": [],
   "source": [
    "teffs = np.arange(3500, 7000.1, 250)\n",
    "loggs = np.arange(3, 5.01, 0.5)\n",
    "fehs = np.arange(-1, 0.51, 0.25)\n",
    "alphas = np.array([0, 0.4])\n",
    "grid_size = len(teffs)*len(loggs)*len(fehs)*len(alphas)"
   ]
  },
  {
   "cell_type": "code",
   "execution_count": 3,
   "id": "f5987919",
   "metadata": {},
   "outputs": [],
   "source": [
    "params = []\n",
    "for t in teffs:\n",
    "    for g in loggs:\n",
    "        for f in fehs:\n",
    "            for a in alphas:\n",
    "                params.append([t, g, f, a])\n",
    "params = np.array(params)"
   ]
  },
  {
   "cell_type": "code",
   "execution_count": 4,
   "id": "603e1207",
   "metadata": {},
   "outputs": [],
   "source": [
    "ranges = np.recarray((grid_size,),  dtype=[('teff', int), ('logg', float), ('MH', float), ('alpha', float), ('vmic', float)])"
   ]
  },
  {
   "cell_type": "code",
   "execution_count": 5,
   "id": "fc241132",
   "metadata": {},
   "outputs": [],
   "source": [
    "for i in range(grid_size):\n",
    "    t, g, m, a = params[i]\n",
    "    vmic = ispec.estimate_vmic(t, g, m)\n",
    "    ranges['teff'][i] = t\n",
    "    ranges['logg'][i] = g\n",
    "    ranges['MH'][i] = m\n",
    "    ranges['alpha'][i] = a\n",
    "    ranges['vmic'][i] = vmic"
   ]
  },
  {
   "cell_type": "code",
   "execution_count": 9,
   "id": "823da2d8",
   "metadata": {},
   "outputs": [],
   "source": [
    "def precompute_synthetic_grid(ranges, wnm_min, wnm_max, wavgrid_length, dir_head, code, atmosphere_model='marcs',\n",
    "                              number_of_processes=1):\n",
    "\n",
    "    precomputed_grid_dir = dir_head + \"_%s/\" % (code)\n",
    "\n",
    "    ## - Read grid ranges from file\n",
    "    #from astropy.io import ascii\n",
    "    #ranges_filename = \"input/minigrid/initial_estimate_grid_ranges.tsv\"\n",
    "    #ranges = ascii.read(ranges_filename, delimiter=\"\\t\")\n",
    "    ## - or define them directly here (example of only 2 reference points):\n",
    "\n",
    "    # wavelengths\n",
    "    initial_wave = wnm_min\n",
    "    final_wave = wnm_max\n",
    "    wavelengths = np.linspace(initial_wave, final_wave, wavgrid_length)\n",
    "    step_wav = np.diff(wavelengths)[0]\n",
    "    res = np.median(wavelengths/step_wav)\n",
    "    print (\"# step wave (AA):\", step_wav*10)\n",
    "    print (\"# resolution:\", res)\n",
    "    assert step_wav < 0.01\n",
    "    assert res > 200000\n",
    "    \n",
    "    to_resolution = 400000 # Individual files will not be convolved but the grid will be (for fast comparison)\n",
    "     # It can be parallelized for computers with multiple processors\n",
    "\n",
    "    # Selected model amtosphere, linelist and solar abundances\n",
    "    #model = ispec_dir + \"/input/atmospheres/MARCS/\"\n",
    "    print (\"# atmosphere model:\", atmosphere_model)\n",
    "    if atmosphere_model == 'marcs':\n",
    "        model = ispec_dir + \"/input/atmospheres/MARCS.GES/\"\n",
    "    else:\n",
    "        model = ispec_dir + \"/input/atmospheres/ATLAS9.Castelli/\"\n",
    "    #model = ispec_dir + \"/input/atmospheres/MARCS.APOGEE/\"\n",
    "    #model = ispec_dir + \"/input/atmospheres/ATLAS9.APOGEE/\"\n",
    "    #model = ispec_dir + \"/input/atmospheres/ATLAS9.Castelli/\"\n",
    "    #model = ispec_dir + \"/input/atmospheres/ATLAS9.Kurucz/\"\n",
    "    #model = ispec_dir + \"/input/atmospheres/ATLAS9.Kirby/\"\n",
    "\n",
    "    #atomic_linelist_file = ispec_dir + \"/input/linelists/transitions/VALD.300_1100nm/atomic_lines.tsv\"\n",
    "    atomic_linelist_file = ispec_dir + \"/input/linelists/transitions/VALD.1100_2400nm/atomic_lines.tsv\"\n",
    "    #atomic_linelist_file = ispec_dir + \"/input/linelists/transitions/GESv6_atom_hfs_iso.420_920nm/atomic_lines.tsv\"\n",
    "    #atomic_linelist_file = ispec_dir + \"/input/linelists/transitions/GESv6_atom_nohfs_noiso.420_920nm/atomic_lines.tsv\"\n",
    "\n",
    "    isotope_file = ispec_dir + \"/input/isotopes/SPECTRUM.lst\"\n",
    "\n",
    "    # Load chemical information and linelist\n",
    "    atomic_linelist = ispec.read_atomic_linelist(atomic_linelist_file, wave_base=initial_wave, wave_top=final_wave)\n",
    "    atomic_linelist = atomic_linelist[atomic_linelist['theoretical_depth'] >= 0.01] # Select lines that have some minimal contribution in the sun\n",
    "\n",
    "    isotopes = ispec.read_isotope_data(isotope_file)\n",
    "\n",
    "    if \"ATLAS\" in model:\n",
    "        solar_abundances_file = ispec_dir + \"/input/abundances/Grevesse.1998/stdatom.dat\"\n",
    "    else:\n",
    "        # MARCS\n",
    "        solar_abundances_file = ispec_dir + \"/input/abundances/Grevesse.2007/stdatom.dat\"\n",
    "    #solar_abundances_file = ispec_dir + \"/input/abundances/Asplund.2005/stdatom.dat\"\n",
    "    #solar_abundances_file = ispec_dir + \"/input/abundances/Asplund.2009/stdatom.dat\"\n",
    "    #solar_abundances_file = ispec_dir + \"/input/abundances/Anders.1989/stdatom.dat\"\n",
    "\n",
    "    # Load model atmospheres\n",
    "    modeled_layers_pack = ispec.load_modeled_layers_pack(model)\n",
    "    # Load SPECTRUM abundances\n",
    "    solar_abundances = ispec.read_solar_abundances(solar_abundances_file)\n",
    "\n",
    "    ## Custom fixed abundances\n",
    "    #fixed_abundances = ispec.create_free_abundances_structure([\"C\", \"N\", \"O\"], chemical_elements, solar_abundances)\n",
    "    #fixed_abundances['Abund'] = [-3.49, -3.71, -3.54] # Abundances in SPECTRUM scale (i.e., x - 12.0 - 0.036) and in the same order [\"C\", \"N\", \"O\"]\n",
    "    ## No fixed abundances\n",
    "    fixed_abundances = None\n",
    "\n",
    "    ispec.precompute_synthetic_grid(precomputed_grid_dir, ranges, wavelengths, to_resolution, \\\n",
    "                                    modeled_layers_pack, atomic_linelist, isotopes, solar_abundances, \\\n",
    "                                    segments=None, number_of_processes=number_of_processes, \\\n",
    "                                    code=code, steps=False)"
   ]
  },
  {
   "cell_type": "code",
   "execution_count": null,
   "id": "5b64c13c",
   "metadata": {
    "scrolled": false
   },
   "outputs": [
    {
     "name": "stdout",
     "output_type": "stream",
     "text": [
      "# step wave (AA): 0.03333361111344857\n",
      "# resolution: 479995.9999996742\n",
      "# atmosphere model: marcs\n",
      "[started] 3500 3.0 -1.0 0.0 1.78 0.0 0.0[started]  0.03500 0 3.0 \n",
      "-1.0 0.4 1.78 0.0 0.0 0.0 [started] 03500\n",
      " 3.0 -0.75 0.0 1.79 0.0 0.0 0.0[started]  03500\n",
      " 3.0 -0.75 0.4 1.79 0.0[started]  0.0 35000.0  3.00 \n",
      "-0.5 0.0 [started]1.8  35000.0  3.00.0  -0.50.0  0.4 01.8\n",
      " 0.0 0.0[started] 0.0  35000 \n",
      "3.0"
     ]
    },
    {
     "name": "stderr",
     "output_type": "stream",
     "text": [
      "[2023-01-06 17:57:05,140] [INFO] [turbospectrum:generate_spectrum:88]: Spherical model atmosphere with radius 3.65e+11 cm\n",
      "[2023-01-06 17:57:05,140] [INFO] [turbospectrum:generate_spectrum:88]: Spherical model atmosphere with radius 3.65e+11 cm\n"
     ]
    },
    {
     "name": "stdout",
     "output_type": "stream",
     "text": [
      " -0.25 0.0 1.81 0.0 0.0[started]  35000.0  3.00 \n",
      "-0.25"
     ]
    },
    {
     "name": "stderr",
     "output_type": "stream",
     "text": [
      "[2023-01-06 17:57:05,168] [INFO] [turbospectrum:generate_spectrum:88]: Spherical model atmosphere with radius 3.65e+11 cm\n"
     ]
    },
    {
     "name": "stdout",
     "output_type": "stream",
     "text": [
      " 0.4 1.81 0.0 0.0[started]  0.03500 0 \n",
      "3.0 0.0"
     ]
    },
    {
     "name": "stderr",
     "output_type": "stream",
     "text": [
      "[2023-01-06 17:57:05,193] [INFO] [turbospectrum:generate_spectrum:88]: Spherical model atmosphere with radius 3.65e+11 cm\n"
     ]
    },
    {
     "name": "stdout",
     "output_type": "stream",
     "text": [
      " 0.0 1.82[started]  0.03500  3.00.0  0.00.0 0.4  1.820 "
     ]
    },
    {
     "name": "stderr",
     "output_type": "stream",
     "text": [
      "[2023-01-06 17:57:05,223] [INFO] [turbospectrum:generate_spectrum:88]: Spherical model atmosphere with radius 3.65e+11 cm\n"
     ]
    },
    {
     "name": "stdout",
     "output_type": "stream",
     "text": [
      "\n",
      "0.0 0.0 0.0 "
     ]
    },
    {
     "name": "stderr",
     "output_type": "stream",
     "text": [
      "[2023-01-06 17:57:05,235] [INFO] [turbospectrum:generate_spectrum:88]: Spherical model atmosphere with radius 3.65e+11 cm\n"
     ]
    },
    {
     "name": "stdout",
     "output_type": "stream",
     "text": [
      "0\n"
     ]
    },
    {
     "name": "stderr",
     "output_type": "stream",
     "text": [
      "[2023-01-06 17:57:05,269] [INFO] [turbospectrum:generate_spectrum:88]: Spherical model atmosphere with radius 3.65e+11 cm\n",
      "[2023-01-06 17:57:05,285] [INFO] [turbospectrum:generate_spectrum:88]: Spherical model atmosphere with radius 3.65e+11 cm\n",
      "[2023-01-06 17:57:05,316] [INFO] [turbospectrum:generate_spectrum:88]: Spherical model atmosphere with radius 3.65e+11 cm\n",
      "[2023-01-06 17:57:05,332] [INFO] [turbospectrum:generate_spectrum:88]: Spherical model atmosphere with radius 3.65e+11 cm\n"
     ]
    },
    {
     "name": "stdout",
     "output_type": "stream",
     "text": [
      "[finished] 3500 3.0 -0.5 0.4 1.8 0.0 0.0 0.0 0\n",
      "[finished] 3500 3.0 [started]-1.0 3500  3.00.4  0.25 1.78 0.00.0 0.0 0.0 0\n",
      " 1.84 0.0 0.0 0.0 [started]0 3500\n",
      " 3.0 0.25 0.4 1.84 0.0 0.0 0.0 0\n",
      "[finished] 3500 3.0 -0.75 0.0 1.79 0.0 0.0 0.0 0\n"
     ]
    },
    {
     "name": "stderr",
     "output_type": "stream",
     "text": [
      "[2023-01-06 17:58:47,710] [INFO] [turbospectrum:generate_spectrum:88]: Spherical model atmosphere with radius 3.65e+11 cm\n"
     ]
    },
    {
     "name": "stdout",
     "output_type": "stream",
     "text": [
      "[started] 3500 3.0 0.5 0.0 1.85 0.0"
     ]
    },
    {
     "name": "stderr",
     "output_type": "stream",
     "text": [
      "[2023-01-06 17:58:47,726] [INFO] [turbospectrum:generate_spectrum:88]: Spherical model atmosphere with radius 3.65e+11 cm\n"
     ]
    },
    {
     "name": "stdout",
     "output_type": "stream",
     "text": [
      " 0.0 0.0 0\n"
     ]
    },
    {
     "name": "stderr",
     "output_type": "stream",
     "text": [
      "[2023-01-06 17:58:47,827] [INFO] [turbospectrum:generate_spectrum:88]: Spherical model atmosphere with radius 3.65e+11 cm\n"
     ]
    },
    {
     "name": "stdout",
     "output_type": "stream",
     "text": [
      "[finished] 3500 3.0 -1.0 0.0 [finished]1.78  35000.0 3.0  0.00.0  0.00.0  01.82\n",
      " 0.0 0.0 0.0 0\n",
      "[started] 3500 3.0 0.5[started] 0.4  1.853500  0.03.5  0.0-1.0  0.00.0 0 \n",
      "0.99 0.0 0.0 0.0 0\n"
     ]
    },
    {
     "name": "stderr",
     "output_type": "stream",
     "text": [
      "[2023-01-06 17:58:48,128] [INFO] [turbospectrum:generate_spectrum:88]: Spherical model atmosphere with radius 3.65e+11 cm\n",
      "[2023-01-06 17:58:48,138] [INFO] [turbospectrum:generate_spectrum:88]: Spherical model atmosphere with radius 2.05e+11 cm\n"
     ]
    },
    {
     "name": "stdout",
     "output_type": "stream",
     "text": [
      "[finished] 3500 3.0 0.0 [finished] 0.43500  1.823.0  0.0 -0.75 0.0 0.40.0  1.790 \n",
      "0.0 0.0 0.0 0\n",
      "[started] 3500 3.5 -1.0 0.4 0.99[started]  0.03500  0.0 3.50.0  0-0.75\n",
      " 0.0 1.0 0.0 0.0 0.0 0\n"
     ]
    },
    {
     "name": "stderr",
     "output_type": "stream",
     "text": [
      "[2023-01-06 17:58:48,362] [INFO] [turbospectrum:generate_spectrum:88]: Spherical model atmosphere with radius 2.05e+11 cm\n",
      "[2023-01-06 17:58:48,362] [INFO] [turbospectrum:generate_spectrum:88]: Spherical model atmosphere with radius 2.05e+11 cm\n"
     ]
    },
    {
     "name": "stdout",
     "output_type": "stream",
     "text": [
      "[finished] 3500 3.0 -0.25 0.4 1.81 0.0 0.0 0.0 0\n",
      "[started] 3500 3.5 -0.75 0.4 1.0 0.0 0.0 0.0 0\n"
     ]
    },
    {
     "name": "stderr",
     "output_type": "stream",
     "text": [
      "[2023-01-06 17:58:48,535] [INFO] [turbospectrum:generate_spectrum:88]: Spherical model atmosphere with radius 2.05e+11 cm\n"
     ]
    },
    {
     "name": "stdout",
     "output_type": "stream",
     "text": [
      "[finished] 3500 3.0 -0.25 0.0 1.81 0.0 0.0 0.0 0\n",
      "[started] 3500 3.5 -0.5 0.0 1.01 0.0 0.0 0.0 0\n"
     ]
    },
    {
     "name": "stderr",
     "output_type": "stream",
     "text": [
      "[2023-01-06 17:58:48,857] [INFO] [turbospectrum:generate_spectrum:88]: Spherical model atmosphere with radius 2.05e+11 cm\n"
     ]
    },
    {
     "name": "stdout",
     "output_type": "stream",
     "text": [
      "[finished] 3500 3.0 -0.5 0.0 1.8 0.0 0.0 0.0 0\n",
      "[started] 3500 3.5 -0.5 0.4 1.01 0.0 0.0 0.0 0\n"
     ]
    },
    {
     "name": "stderr",
     "output_type": "stream",
     "text": [
      "[2023-01-06 17:58:49,530] [INFO] [turbospectrum:generate_spectrum:88]: Spherical model atmosphere with radius 2.05e+11 cm\n"
     ]
    },
    {
     "name": "stdout",
     "output_type": "stream",
     "text": [
      "[finished] 3500 3.0 0.25 0.4 1.84 0.0 0.0 0.0 0\n",
      "[started] 3500 3.5 -0.25 0.0 1.02 0.0 0.0 0.0 0\n",
      "[finished] 3500 3.0 0.5 0.4 1.85 0.0 0.0 0.0 0\n",
      "[started] 3500 3.5 -0.25 0.4 1.02 0.0 0.0 0.0 0\n"
     ]
    },
    {
     "name": "stderr",
     "output_type": "stream",
     "text": [
      "[2023-01-06 18:00:30,466] [INFO] [turbospectrum:generate_spectrum:88]: Spherical model atmosphere with radius 2.05e+11 cm\n",
      "[2023-01-06 18:00:30,530] [INFO] [turbospectrum:generate_spectrum:88]: Spherical model atmosphere with radius 2.05e+11 cm\n"
     ]
    },
    {
     "name": "stdout",
     "output_type": "stream",
     "text": [
      "[finished] 3500 3.0 0.25 0.0 1.84 0.0 0.0 0.0 0\n",
      "[started] 3500 3.5 0.0 0.0 1.03 0.0 0.0 0.0 0\n"
     ]
    },
    {
     "name": "stderr",
     "output_type": "stream",
     "text": [
      "[2023-01-06 18:00:30,963] [INFO] [turbospectrum:generate_spectrum:88]: Spherical model atmosphere with radius 2.05e+11 cm\n"
     ]
    },
    {
     "name": "stdout",
     "output_type": "stream",
     "text": [
      "[finished] 3500 3.5 -1.0 0.4 0.99 0.0 0.0 0.0 0\n",
      "[started] 3500 3.5 0.0 0.4 1.03 0.0 0.0 0.0 0\n"
     ]
    },
    {
     "name": "stderr",
     "output_type": "stream",
     "text": [
      "[2023-01-06 18:00:31,275] [INFO] [turbospectrum:generate_spectrum:88]: Spherical model atmosphere with radius 2.05e+11 cm\n"
     ]
    },
    {
     "name": "stdout",
     "output_type": "stream",
     "text": [
      "[finished] 3500 3.5 -0.75 0.0 1.0 0.0 0.0 0.0 0\n",
      "[started] 3500 3.5 0.25 0.0 1.04 0.0 0.0 0.0 0\n",
      "[finished] 3500 3.5 -1.0 0.0 0.99 0.0 0.0 0.0 0\n",
      "[started] 3500 3.5 0.25 0.4 1.04 0.0 0.0 0.0 0\n",
      "[finished] 3500 3.0 0.5 0.0 1.85 0.0 0.0 0.0 0\n"
     ]
    },
    {
     "name": "stderr",
     "output_type": "stream",
     "text": [
      "[2023-01-06 18:00:31,535] [INFO] [turbospectrum:generate_spectrum:88]: Spherical model atmosphere with radius 2.05e+11 cm\n"
     ]
    },
    {
     "name": "stdout",
     "output_type": "stream",
     "text": [
      "[started] 3500 3.5 0.5 0.0 1.06 0.0 0.0 0.0 0\n"
     ]
    },
    {
     "name": "stderr",
     "output_type": "stream",
     "text": [
      "[2023-01-06 18:00:31,590] [INFO] [turbospectrum:generate_spectrum:88]: Spherical model atmosphere with radius 2.05e+11 cm\n",
      "[2023-01-06 18:00:31,656] [INFO] [turbospectrum:generate_spectrum:88]: Spherical model atmosphere with radius 2.05e+11 cm\n"
     ]
    },
    {
     "name": "stdout",
     "output_type": "stream",
     "text": [
      "[finished] 3500 3.5 -0.75 0.4 1.0 0.0 0.0 0.0 0\n",
      "[started] 3500 3.5 0.5 0.4 1.06 0.0 0.0 0.0 0\n"
     ]
    },
    {
     "name": "stderr",
     "output_type": "stream",
     "text": [
      "[2023-01-06 18:00:31,877] [INFO] [turbospectrum:generate_spectrum:88]: Spherical model atmosphere with radius 2.05e+11 cm\n"
     ]
    },
    {
     "name": "stdout",
     "output_type": "stream",
     "text": [
      "[finished] 3500 3.5 -0.5 0.4 1.01 0.0 0.0 0.0 0\n",
      "[started] 3500 4.0 -1.0 0.0 0.92 0.0 0.0 0.0 0\n",
      "[finished] 3500 3.5 -0.5 0.0 1.01 0.0 0.0 0.0 0\n",
      "[started] 3500 4.0 -1.0 0.4 0.92 0.0 0.0 0.0 0\n"
     ]
    }
   ],
   "source": [
    "precompute_synthetic_grid(ranges, 1400, 1800, 120000, \"ispecgrid_hband\", \"turbospectrum\", number_of_processes=10)"
   ]
  },
  {
   "cell_type": "code",
   "execution_count": null,
   "id": "687bcab1",
   "metadata": {
    "scrolled": true
   },
   "outputs": [],
   "source": [
    "precompute_synthetic_grid(ranges, 1400, 1800, 120000, \"ispecgrid_hband\", \"synthe\", atmosphere_model='atlas', number_of_processes=10)"
   ]
  }
 ],
 "metadata": {
  "kernelspec": {
   "display_name": "Python 3 (ipykernel)",
   "language": "python",
   "name": "python3"
  },
  "language_info": {
   "codemirror_mode": {
    "name": "ipython",
    "version": 3
   },
   "file_extension": ".py",
   "mimetype": "text/x-python",
   "name": "python",
   "nbconvert_exporter": "python",
   "pygments_lexer": "ipython3",
   "version": "3.9.7"
  }
 },
 "nbformat": 4,
 "nbformat_minor": 5
}
