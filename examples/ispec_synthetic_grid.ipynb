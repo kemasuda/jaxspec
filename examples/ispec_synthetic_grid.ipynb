{
 "cells": [
  {
   "cell_type": "code",
   "execution_count": 1,
   "id": "cd9c6b68",
   "metadata": {},
   "outputs": [],
   "source": [
    "from jaxspec.ispec_synthetic_grid import *"
   ]
  },
  {
   "cell_type": "code",
   "execution_count": 8,
   "id": "187920cf",
   "metadata": {},
   "outputs": [],
   "source": [
    "#ranges = define_grid_ranges(tstep=2000, gstep=2, fstep=1.)\n",
    "ranges = define_grid_ranges()"
   ]
  },
  {
   "cell_type": "code",
   "execution_count": 9,
   "id": "963cd80d",
   "metadata": {},
   "outputs": [],
   "source": [
    "#precompute_synthetic_grid(ranges, 1400, 1800, 120000, \"ispecgrid_hband\", \"turbospectrum\", number_of_processes=10)\n",
    "#precompute_synthetic_grid(ranges, 1400, 1800, 120000, \"ispecgrid_hband\", \"synthe\", atmosphere_model='atlas', number_of_processes=10)"
   ]
  },
  {
   "cell_type": "code",
   "execution_count": 10,
   "id": "aff120ed",
   "metadata": {},
   "outputs": [
    {
     "name": "stdout",
     "output_type": "stream",
     "text": [
      "# step wave (AA): 0.012500156252031047\n",
      "# resolution: 439994.49999725807\n",
      "# atmosphere model: marcs\n"
     ]
    }
   ],
   "source": [
    "precompute_synthetic_grid(ranges, 500, 600, 80000, \"ispecgrid_gaoes\", \"turbospectrum\", number_of_processes=10)"
   ]
  },
  {
   "cell_type": "code",
   "execution_count": null,
   "id": "0501284f",
   "metadata": {},
   "outputs": [],
   "source": []
  }
 ],
 "metadata": {
  "kernelspec": {
   "display_name": "Python 3.9.7 ('base')",
   "language": "python",
   "name": "python3"
  },
  "language_info": {
   "codemirror_mode": {
    "name": "ipython",
    "version": 3
   },
   "file_extension": ".py",
   "mimetype": "text/x-python",
   "name": "python",
   "nbconvert_exporter": "python",
   "pygments_lexer": "ipython3",
   "version": "3.9.7"
  },
  "vscode": {
   "interpreter": {
    "hash": "359f24a9ef4d34d046c5442a240ac5cfc1e9dc848576e551c8feed79c29f3bc0"
   }
  }
 },
 "nbformat": 4,
 "nbformat_minor": 5
}
