{
 "cells": [
  {
   "cell_type": "markdown",
   "metadata": {},
   "source": [
    "## create synthe grid"
   ]
  },
  {
   "cell_type": "code",
   "execution_count": 1,
   "metadata": {},
   "outputs": [],
   "source": [
    "# because Jupyter notebook is not in package\n",
    "import os,sys,inspect\n",
    "current_dir = os.path.dirname(os.path.abspath(inspect.getfile(inspect.currentframe())))\n",
    "parent_dir = os.path.dirname(current_dir)\n",
    "sys.path.insert(0, parent_dir)"
   ]
  },
  {
   "cell_type": "code",
   "execution_count": 2,
   "metadata": {},
   "outputs": [],
   "source": [
    "import matplotlib.pyplot as plt\n",
    "import numpy as np\n",
    "%matplotlib inline"
   ]
  },
  {
   "cell_type": "code",
   "execution_count": 3,
   "metadata": {},
   "outputs": [],
   "source": [
    "from vidmapy.kurucz.atlas import Atlas\n",
    "from vidmapy.kurucz.synthe import Synthe\n",
    "from vidmapy.kurucz.parameters import Parameters"
   ]
  },
  {
   "cell_type": "code",
   "execution_count": 4,
   "metadata": {},
   "outputs": [],
   "source": [
    "atlas_worker= Atlas()\n",
    "synthe_worker= Synthe()"
   ]
  },
  {
   "cell_type": "code",
   "execution_count": 5,
   "metadata": {},
   "outputs": [],
   "source": [
    "def get_atlas_model(teff, logg, feh, vmicro=2.):\n",
    "    p = Parameters(teff=teff, logg=logg, metallicity=feh, microturbulence=vmicro)\n",
    "    return atlas_worker.get_model(p)\n",
    "\n",
    "def get_synthe_model(teff, logg, feh, wmin, wmax, resolution, vmicro=2.):\n",
    "    model = get_atlas_model(teff, logg, feh)\n",
    "    p_synthe = Parameters(wave_min=wmin, wave_max=wmax, resolution=resolution, metallicity=feh)\n",
    "    spectrum = synthe_worker.get_spectrum(model, parameters=p_synthe, quiet=False)\n",
    "    return model, spectrum"
   ]
  },
  {
   "cell_type": "markdown",
   "metadata": {},
   "source": [
    "[Back to the top](#VidmaPy-examples)"
   ]
  },
  {
   "cell_type": "markdown",
   "metadata": {},
   "source": [
    "<a id='ex4'></a>\n",
    "## Parallelization of spectra computation"
   ]
  },
  {
   "cell_type": "code",
   "execution_count": 6,
   "metadata": {},
   "outputs": [],
   "source": [
    "import multiprocessing as mp\n",
    "import pickle\n",
    "import pandas as pd"
   ]
  },
  {
   "cell_type": "code",
   "execution_count": 7,
   "metadata": {},
   "outputs": [],
   "source": [
    "teff = np.arange(3500, 7250, 250)\n",
    "logg = np.arange(1., 5.5, 0.5)\n",
    "feh = np.arange(-1, 0.500001, 0.25)\n",
    "resolution = 200000."
   ]
  },
  {
   "cell_type": "code",
   "execution_count": null,
   "metadata": {},
   "outputs": [],
   "source": [
    "models = []\n",
    "for _teff in teff:\n",
    "    for _logg in logg:\n",
    "        for _feh in feh:\n",
    "            print (_teff, _logg, _feh)\n",
    "            models.append(get_atlas_model(_teff, _logg, _feh))"
   ]
  },
  {
   "cell_type": "code",
   "execution_count": null,
   "metadata": {},
   "outputs": [],
   "source": [
    "with open(\"models.pkl\", \"wb\") as f:\n",
    "    pickle.dump(models, f)"
   ]
  },
  {
   "cell_type": "code",
   "execution_count": null,
   "metadata": {},
   "outputs": [],
   "source": [
    "pvals = []\n",
    "for _teff in teff:\n",
    "    for _logg in logg:\n",
    "        for _feh in feh:\n",
    "            pvals.append((_teff, _logg, _feh))\n",
    "params = pd.DataFrame(pvals, columns=['teff', 'logg', 'feh'])\n",
    "params['resolution'] = resolution\n",
    "params['vmic'] = 2.0"
   ]
  },
  {
   "cell_type": "code",
   "execution_count": null,
   "metadata": {},
   "outputs": [],
   "source": [
    "params.to_csv(\"model_params.csv\", index=False)"
   ]
  },
  {
   "cell_type": "code",
   "execution_count": null,
   "metadata": {},
   "outputs": [],
   "source": []
  }
 ],
 "metadata": {
  "kernelspec": {
   "display_name": "Python 3 (ipykernel)",
   "language": "python",
   "name": "python3"
  },
  "language_info": {
   "codemirror_mode": {
    "name": "ipython",
    "version": 3
   },
   "file_extension": ".py",
   "mimetype": "text/x-python",
   "name": "python",
   "nbconvert_exporter": "python",
   "pygments_lexer": "ipython3",
   "version": "3.9.7"
  }
 },
 "nbformat": 4,
 "nbformat_minor": 4
}
